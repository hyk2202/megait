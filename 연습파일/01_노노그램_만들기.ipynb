{
 "cells": [
  {
   "cell_type": "markdown",
   "metadata": {},
   "source": [
    "방향성\n",
    "(1) 기초\n",
    "5*5 사이즈의 배열을 랜덤하게 만든다(0/1로 판별)\n",
    "\n",
    "=>해당 배열로 형태를 잡아준다\n",
    "\n",
    "사이즈를 키워도 동일하게 작동되는지 확인한다.\n",
    "\n",
    "(2) 그림\n",
    "\n",
    "그림을 일정한 사이즈(n*n px)형태로 변환한 후 해당 픽셀마다 값 부여\n",
    "\n",
    "=> 해당 배열로 형태를 잡아줌\n",
    "\n",
    "(3) 인터넷 긁어오기\n",
    "\n",
    "인터넷 크롤링을 통해 이미지 저장 =>(2) 반복"
   ]
  },
  {
   "cell_type": "markdown",
   "metadata": {},
   "source": [
    "## (1) 기초\n",
    "### (1) 배열만들기"
   ]
  },
  {
   "cell_type": "code",
   "execution_count": 40,
   "metadata": {},
   "outputs": [
    {
     "data": {
      "text/plain": [
       "[[1, 0, 1, 1, 1, 0, 0, 0, 0, 0],\n",
       " [1, 0, 0, 0, 1, 1, 0, 1, 0, 0],\n",
       " [1, 0, 0, 0, 1, 0, 1, 1, 0, 0],\n",
       " [0, 0, 1, 1, 0, 1, 0, 1, 0, 0],\n",
       " [1, 1, 1, 0, 1, 0, 0, 0, 1, 0],\n",
       " [0, 1, 1, 0, 1, 1, 1, 0, 1, 0],\n",
       " [1, 0, 1, 0, 0, 1, 0, 0, 0, 1],\n",
       " [1, 1, 1, 1, 1, 0, 1, 0, 0, 1],\n",
       " [0, 0, 0, 1, 1, 1, 1, 1, 1, 0],\n",
       " [1, 1, 0, 0, 1, 0, 1, 0, 1, 0]]"
      ]
     },
     "execution_count": 40,
     "metadata": {},
     "output_type": "execute_result"
    }
   ],
   "source": [
    "import random\n",
    "size = 10\n",
    "answer = []\n",
    "for i in range(size):\n",
    "    temp = []\n",
    "    for j in range(size):\n",
    "        a = random.randint(0,1)\n",
    "        temp.append(a)\n",
    "    answer.append(temp)\n",
    "\n",
    "answer"
   ]
  },
  {
   "cell_type": "markdown",
   "metadata": {},
   "source": [
    "### (2) 각 가로,세로별 수치 읽기"
   ]
  },
  {
   "cell_type": "code",
   "execution_count": 41,
   "metadata": {},
   "outputs": [
    {
     "name": "stdout",
     "output_type": "stream",
     "text": [
      "[[1, 3], [1, 2, 1], [1, 1, 2], [2, 1, 1], [3, 1, 1], [2, 3, 1], [1, 1, 1, 1], [5, 1, 1], [6], [2, 1, 1, 1]]\n",
      "[[3, 1, 2, 1], [2, 1, 1], [1, 5], [1, 1, 2], [3, 2, 3], [1, 1, 2, 1], [1, 1, 3], [3, 1], [2, 2], [2]]\n"
     ]
    }
   ],
   "source": [
    "\n",
    "\n",
    "세로 = []\n",
    "가로 = []\n",
    "for i in answer:\n",
    "    temp = []\n",
    "    add = 0\n",
    "    for j in i:\n",
    "        if j == 0:\n",
    "            if add: \n",
    "                temp.append(add)\n",
    "                add = 0\n",
    "        else : add +=1\n",
    "    if add:\n",
    "        temp.append(add)\n",
    "    가로.append(temp)\n",
    "print(가로)\n",
    "for i in range(len(answer)):\n",
    "    temp = []\n",
    "    add = 0\n",
    "    for j in range(len(answer)):\n",
    "        if answer[j][i] == 0:\n",
    "            if add: \n",
    "                temp.append(add)\n",
    "                add = 0\n",
    "        else : add +=1\n",
    "    if add:\n",
    "        temp.append(add)\n",
    "    세로.append(temp)\n",
    "print(세로)\n"
   ]
  },
  {
   "cell_type": "code",
   "execution_count": 42,
   "metadata": {},
   "outputs": [],
   "source": [
    "for i in range(len(answer)):\n",
    "    answer[i] = [가로[i]]+answer[i]\n",
    "세로 = [[None]+세로]\n",
    "answer = 세로 + answer\n"
   ]
  },
  {
   "cell_type": "code",
   "execution_count": 43,
   "metadata": {},
   "outputs": [
    {
     "data": {
      "text/plain": [
       "[[None,\n",
       "  [3, 1, 2, 1],\n",
       "  [2, 1, 1],\n",
       "  [1, 5],\n",
       "  [1, 1, 2],\n",
       "  [3, 2, 3],\n",
       "  [1, 1, 2, 1],\n",
       "  [1, 1, 3],\n",
       "  [3, 1],\n",
       "  [2, 2],\n",
       "  [2]],\n",
       " [[1, 3], 1, 0, 1, 1, 1, 0, 0, 0, 0, 0],\n",
       " [[1, 2, 1], 1, 0, 0, 0, 1, 1, 0, 1, 0, 0],\n",
       " [[1, 1, 2], 1, 0, 0, 0, 1, 0, 1, 1, 0, 0],\n",
       " [[2, 1, 1], 0, 0, 1, 1, 0, 1, 0, 1, 0, 0],\n",
       " [[3, 1, 1], 1, 1, 1, 0, 1, 0, 0, 0, 1, 0],\n",
       " [[2, 3, 1], 0, 1, 1, 0, 1, 1, 1, 0, 1, 0],\n",
       " [[1, 1, 1, 1], 1, 0, 1, 0, 0, 1, 0, 0, 0, 1],\n",
       " [[5, 1, 1], 1, 1, 1, 1, 1, 0, 1, 0, 0, 1],\n",
       " [[6], 0, 0, 0, 1, 1, 1, 1, 1, 1, 0],\n",
       " [[2, 1, 1, 1], 1, 1, 0, 0, 1, 0, 1, 0, 1, 0]]"
      ]
     },
     "execution_count": 43,
     "metadata": {},
     "output_type": "execute_result"
    }
   ],
   "source": [
    "answer"
   ]
  },
  {
   "cell_type": "code",
   "execution_count": 44,
   "metadata": {},
   "outputs": [],
   "source": [
    "for i in range(len(answer)):\n",
    "    for j in range(len(answer[i])):\n",
    "        if answer[i][j] == 0 or answer[i][j] == 1:\n",
    "            answer[i][j] = \"X\"\n"
   ]
  },
  {
   "cell_type": "code",
   "execution_count": 45,
   "metadata": {},
   "outputs": [
    {
     "data": {
      "text/plain": [
       "[[None,\n",
       "  [3, 1, 2, 1],\n",
       "  [2, 1, 1],\n",
       "  [1, 5],\n",
       "  [1, 1, 2],\n",
       "  [3, 2, 3],\n",
       "  [1, 1, 2, 1],\n",
       "  [1, 1, 3],\n",
       "  [3, 1],\n",
       "  [2, 2],\n",
       "  [2]],\n",
       " [[1, 3], 'X', 'X', 'X', 'X', 'X', 'X', 'X', 'X', 'X', 'X'],\n",
       " [[1, 2, 1], 'X', 'X', 'X', 'X', 'X', 'X', 'X', 'X', 'X', 'X'],\n",
       " [[1, 1, 2], 'X', 'X', 'X', 'X', 'X', 'X', 'X', 'X', 'X', 'X'],\n",
       " [[2, 1, 1], 'X', 'X', 'X', 'X', 'X', 'X', 'X', 'X', 'X', 'X'],\n",
       " [[3, 1, 1], 'X', 'X', 'X', 'X', 'X', 'X', 'X', 'X', 'X', 'X'],\n",
       " [[2, 3, 1], 'X', 'X', 'X', 'X', 'X', 'X', 'X', 'X', 'X', 'X'],\n",
       " [[1, 1, 1, 1], 'X', 'X', 'X', 'X', 'X', 'X', 'X', 'X', 'X', 'X'],\n",
       " [[5, 1, 1], 'X', 'X', 'X', 'X', 'X', 'X', 'X', 'X', 'X', 'X'],\n",
       " [[6], 'X', 'X', 'X', 'X', 'X', 'X', 'X', 'X', 'X', 'X'],\n",
       " [[2, 1, 1, 1], 'X', 'X', 'X', 'X', 'X', 'X', 'X', 'X', 'X', 'X']]"
      ]
     },
     "execution_count": 45,
     "metadata": {},
     "output_type": "execute_result"
    }
   ],
   "source": [
    "answer"
   ]
  }
 ],
 "metadata": {
  "kernelspec": {
   "display_name": "Python 3",
   "language": "python",
   "name": "python3"
  },
  "language_info": {
   "codemirror_mode": {
    "name": "ipython",
    "version": 3
   },
   "file_extension": ".py",
   "mimetype": "text/x-python",
   "name": "python",
   "nbconvert_exporter": "python",
   "pygments_lexer": "ipython3",
   "version": "3.12.0"
  }
 },
 "nbformat": 4,
 "nbformat_minor": 2
}
