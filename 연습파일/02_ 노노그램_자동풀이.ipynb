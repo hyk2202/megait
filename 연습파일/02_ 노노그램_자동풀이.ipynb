{
 "cells": [
  {
   "cell_type": "markdown",
   "metadata": {},
   "source": [
    "칸 구현의 어려움으로 자동풀이를 먼저 만들어보자"
   ]
  },
  {
   "cell_type": "markdown",
   "metadata": {},
   "source": [
    "(예) \n",
    "\n",
    "가로 : [[2, 1], [2], [2], [1, 2], [1, 1]]\n",
    "\n",
    "\n",
    "세로 : [[3, 1], [4], [], [2], [1, 1]]\n",
    "\n",
    "정답 :\n",
    "\n",
    "[1, 1, 0, 0, 1],\n",
    "\n",
    " [1, 1, 0, 0, 0],\n",
    "\n",
    " [1, 1, 0, 0, 0],\n",
    "\n",
    " [0, 1, 0, 1, 1],\n",
    "\n",
    " [1, 0, 0, 1, 0]"
   ]
  },
  {
   "cell_type": "code",
   "execution_count": 104,
   "metadata": {},
   "outputs": [
    {
     "data": {
      "text/plain": [
       "[[0, 0, 0, 0, 0],\n",
       " [0, 0, 0, 0, 0],\n",
       " [0, 0, 0, 0, 0],\n",
       " [0, 0, 0, 0, 0],\n",
       " [0, 0, 0, 0, 0]]"
      ]
     },
     "execution_count": 104,
     "metadata": {},
     "output_type": "execute_result"
    }
   ],
   "source": [
    "가로 = [[2, 1], [2], [2], [1, 2], [1, 1]]\n",
    "세로 = [[3, 1], [4], [], [2], [1, 1]]\n",
    "\n",
    "\n",
    "size = len(가로)\n",
    "\n",
    "answer = [[0 for _ in range(size)] for _ in range(size)] # 초기화\n",
    "answer"
   ]
  },
  {
   "cell_type": "code",
   "execution_count": 105,
   "metadata": {},
   "outputs": [
    {
     "data": {
      "text/plain": [
       "[[1, 0, 0, 0, 0],\n",
       " [1, 0, 0, 0, 0],\n",
       " [1, 0, 0, 0, 0],\n",
       " [2, 0, 0, 0, 0],\n",
       " [1, 0, 0, 0, 0]]"
      ]
     },
     "execution_count": 105,
     "metadata": {},
     "output_type": "execute_result"
    }
   ],
   "source": [
    "for i in range(size):\n",
    "    if len(가로[i])-1+sum(가로[i]) == size:\n",
    "        count = 0\n",
    "        for j in 가로[i]:\n",
    "            while j:\n",
    "                answer[i][count] = 1\n",
    "                count+=1\n",
    "                j-=1\n",
    "            if count < size:\n",
    "                answer[i][count] =2\n",
    "                count+=1\n",
    "\n",
    "for i in range(size):\n",
    "    if len(세로[i])-1+sum(세로[i]) == size:\n",
    "        count = 0\n",
    "        for j in 세로[i]:\n",
    "            while j:\n",
    "                answer[count][i] = 1\n",
    "                j-=1\n",
    "                count+=1\n",
    "            if count < size:\n",
    "                answer[count][i] =2\n",
    "                count+=1\n",
    "answer\n",
    "# 가로 = [[2, 1], [2], [2], [1, 2], [1, 1]]\n",
    "# 세로 = [[3, 1], [4], [], [2], [1, 1]]"
   ]
  },
  {
   "cell_type": "code",
   "execution_count": 106,
   "metadata": {},
   "outputs": [
    {
     "data": {
      "text/plain": [
       "[[1, 0, 2, 0, 0],\n",
       " [1, 0, 2, 0, 0],\n",
       " [1, 0, 2, 0, 0],\n",
       " [2, 0, 2, 0, 0],\n",
       " [1, 0, 2, 0, 0]]"
      ]
     },
     "execution_count": 106,
     "metadata": {},
     "output_type": "execute_result"
    }
   ],
   "source": [
    "for idx,v in enumerate(가로):\n",
    "    if v:\n",
    "        pass\n",
    "    else:\n",
    "        for j in range(size):\n",
    "            answer[idx][j] = 2\n",
    "            \n",
    "\n",
    "for idx,v in enumerate(세로):\n",
    "    if v:\n",
    "        pass\n",
    "    else:\n",
    "        for j in range(size):\n",
    "            answer[j][idx] = 2\n",
    "\n",
    "answer"
   ]
  },
  {
   "cell_type": "code",
   "execution_count": 107,
   "metadata": {},
   "outputs": [
    {
     "name": "stdout",
     "output_type": "stream",
     "text": [
      "가로 : [[2, 1], [2], [2], [1, 2], [1]]\n",
      "세로 : [[3], [4], [], [2], [1, 1]]\n"
     ]
    },
    {
     "data": {
      "text/plain": [
       "[[1, 0, 2, 0, 0],\n",
       " [1, 0, 2, 0, 0],\n",
       " [1, 0, 2, 0, 0],\n",
       " [2, 0, 2, 0, 0],\n",
       " [1, 2, 2, 0, 0]]"
      ]
     },
     "execution_count": 107,
     "metadata": {},
     "output_type": "execute_result"
    }
   ],
   "source": [
    "for i in range(size):\n",
    "    try:\n",
    "        if 가로[i][0] == 1 and answer[i][0] ==1 : \n",
    "            가로[i].pop(0)\n",
    "            answer[i][1] = 2\n",
    "    except: pass\n",
    "    try:\n",
    "        if 가로[i][-1] == 1 and answer[i][-1] ==1 : \n",
    "            answer[i][-2] = 2\n",
    "            가로[i].pop()\n",
    "\n",
    "    except: pass\n",
    "    try:\n",
    "        if 세로[i][0] == 1 and answer[0][i] ==1 : \n",
    "            answer[1][i] = 2\n",
    "            세로[i].pop(0)\n",
    "\n",
    "    except: pass\n",
    "    try:\n",
    "        if 세로[i][-1] == 1 and answer[-1][i] ==1 : \n",
    "            answer[-2][i] = 2\n",
    "            세로[i].pop()\n",
    "\n",
    "    except: pass\n",
    "\n",
    "\n",
    "print(\"가로 :\",가로)\n",
    "print(\"세로 :\",세로)\n",
    "answer"
   ]
  },
  {
   "cell_type": "code",
   "execution_count": 91,
   "metadata": {},
   "outputs": [
    {
     "data": {
      "text/plain": [
       "[[1, 0, 2, 0, 0],\n",
       " [1, 0, 2, 0, 0],\n",
       " [1, 1, 2, 1, 1],\n",
       " [2, 1, 2, 1, 1],\n",
       " [1, 2, 2, 0, 0]]"
      ]
     },
     "execution_count": 91,
     "metadata": {},
     "output_type": "execute_result"
    }
   ],
   "source": [
    "a = 1\n",
    "while a:\n",
    "    b_0 = 0\n",
    "    b_1 = 0\n",
    "    b_2 = 0\n",
    "\n",
    "    for i in answer:\n",
    "        for j in i:\n",
    "            if j==0: b_0 +=1\n",
    "            elif j==1: b_1 +=1\n",
    "            elif j==2: b_2 +=1\n",
    "    check_가로 = []\n",
    "    for i in range(size):\n",
    "        check = 0\n",
    "        temp = []\n",
    "        for j in answer[i]:\n",
    "            \n",
    "            if j == 2 : \n",
    "                if check:temp.append(check)\n",
    "                check = 0\n",
    "            elif j==0 : check +=1\n",
    "            else : check +=size\n",
    "        if check:temp.append(check)\n",
    "        check_가로.append(temp)\n",
    "    # print(가로)\n",
    "    # print(check_가로)\n",
    "    for i in range(size):\n",
    "        if 가로[i] == check_가로[i]:\n",
    "            for j in range(size):\n",
    "                if answer[i][j]==0 : answer[i][j]=1\n",
    "    # answer\n",
    "    check_세로 = []\n",
    "    for i in range(size):\n",
    "        check = 0\n",
    "        temp = []\n",
    "        for j in range(size):\n",
    "            \n",
    "            if answer[j][i] == 2 : \n",
    "                if check:temp.append(check)\n",
    "                check = 0\n",
    "            elif answer[j][i]==0 : check +=1\n",
    "            else : check +=size\n",
    "        if check:temp.append(check)\n",
    "        check_세로.append(temp)\n",
    "    # print(세로)\n",
    "    # print(check_세로)\n",
    "    for i in range(size):\n",
    "        if 세로[i] == check_세로[i]:\n",
    "            for j in range(size):\n",
    "                if answer[i][j]==0 : answer[i][j]=1\n",
    "    b_00 = 0\n",
    "    b_01 = 0\n",
    "    b_02 = 0\n",
    "    for i in answer:\n",
    "        for j in i:\n",
    "            if j==0: b_00 +=1\n",
    "            elif j==1: b_01 +=1\n",
    "            elif j==2: b_02 +=1\n",
    "    a = b_00==b_0 | b_01 ==b_1 | b_02 ==b_2\n",
    "answer"
   ]
  },
  {
   "cell_type": "code",
   "execution_count": 92,
   "metadata": {},
   "outputs": [
    {
     "name": "stdout",
     "output_type": "stream",
     "text": [
      "가로 : [[2, 1], [2], [2], [1, 2], [1]]\n",
      "세로 : [[3], [4], [], [2], [1, 1]]\n"
     ]
    }
   ],
   "source": [
    "print(\"가로 :\",가로)\n",
    "print(\"세로 :\",세로)"
   ]
  }
 ],
 "metadata": {
  "kernelspec": {
   "display_name": "Python 3",
   "language": "python",
   "name": "python3"
  },
  "language_info": {
   "codemirror_mode": {
    "name": "ipython",
    "version": 3
   },
   "file_extension": ".py",
   "mimetype": "text/x-python",
   "name": "python",
   "nbconvert_exporter": "python",
   "pygments_lexer": "ipython3",
   "version": "3.12.0"
  }
 },
 "nbformat": 4,
 "nbformat_minor": 2
}
