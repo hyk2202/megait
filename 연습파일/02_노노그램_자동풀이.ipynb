{
 "cells": [
  {
   "cell_type": "markdown",
   "metadata": {},
   "source": [
    "칸 구현의 어려움으로 자동풀이를 먼저 만들어보자"
   ]
  },
  {
   "cell_type": "markdown",
   "metadata": {},
   "source": [
    "(예) \n",
    "\n",
    "가로 : [[2, 1], [2], [2], [1, 2], [1, 1]]\n",
    "\n",
    "\n",
    "세로 : [[3, 1], [4], [], [2], [1, 1]]\n",
    "\n",
    "정답 :\n",
    "\n",
    "[1, 1, 0, 0, 1],\n",
    "\n",
    " [1, 1, 0, 0, 0],\n",
    "\n",
    " [1, 1, 0, 0, 0],\n",
    "\n",
    " [0, 1, 0, 1, 1],\n",
    "\n",
    " [1, 0, 0, 1, 0]"
   ]
  },
  {
   "cell_type": "code",
   "execution_count": 27,
   "metadata": {},
   "outputs": [
    {
     "data": {
      "text/plain": [
       "[[0, 0, 0, 0, 0],\n",
       " [0, 0, 0, 0, 0],\n",
       " [0, 0, 0, 0, 0],\n",
       " [0, 0, 0, 0, 0],\n",
       " [0, 0, 0, 0, 0]]"
      ]
     },
     "execution_count": 27,
     "metadata": {},
     "output_type": "execute_result"
    }
   ],
   "source": [
    "가로 = [[2, 1], [2], [2], [1, 2], [1, 1]]\n",
    "세로 = [[3, 1], [4], [], [2], [1, 1]]\n",
    "\n",
    "\n",
    "size = len(가로)\n",
    "\n",
    "answer = [[0 for _ in range(size)] for _ in range(size)] # 초기화\n",
    "answer"
   ]
  },
  {
   "cell_type": "code",
   "execution_count": 28,
   "metadata": {},
   "outputs": [
    {
     "data": {
      "text/plain": [
       "[[1, 0, 0, 0, 0],\n",
       " [1, 0, 0, 0, 0],\n",
       " [1, 0, 0, 0, 0],\n",
       " [2, 0, 0, 0, 0],\n",
       " [1, 0, 0, 0, 0]]"
      ]
     },
     "execution_count": 28,
     "metadata": {},
     "output_type": "execute_result"
    }
   ],
   "source": [
    "for i in range(size):\n",
    "    if len(가로[i])-1+sum(가로[i]) == size:\n",
    "        count = 0\n",
    "        for j in 가로[i]:\n",
    "            while j:\n",
    "                answer[i][count] = 1\n",
    "                count+=1\n",
    "                j-=1\n",
    "            if count < size:\n",
    "                answer[i][count] =2\n",
    "                count+=1\n",
    "\n",
    "for i in range(size):\n",
    "    if len(세로[i])-1+sum(세로[i]) == size:\n",
    "        count = 0\n",
    "        for j in 세로[i]:\n",
    "            while j:\n",
    "                answer[count][i] = 1\n",
    "                j-=1\n",
    "                count+=1\n",
    "            if count < size:\n",
    "                answer[count][i] =2\n",
    "                count+=1\n",
    "answer\n",
    "# 가로 = [[2, 1], [2], [2], [1, 2], [1, 1]]\n",
    "# 세로 = [[3, 1], [4], [], [2], [1, 1]]"
   ]
  },
  {
   "cell_type": "code",
   "execution_count": 29,
   "metadata": {},
   "outputs": [
    {
     "data": {
      "text/plain": [
       "[[1, 0, 2, 0, 0],\n",
       " [1, 0, 2, 0, 0],\n",
       " [1, 0, 2, 0, 0],\n",
       " [2, 0, 2, 0, 0],\n",
       " [1, 0, 2, 0, 0]]"
      ]
     },
     "execution_count": 29,
     "metadata": {},
     "output_type": "execute_result"
    }
   ],
   "source": [
    "for idx,v in enumerate(가로):\n",
    "    if v:\n",
    "        pass\n",
    "    else:\n",
    "        for j in range(size):\n",
    "            answer[idx][j] = 2\n",
    "            \n",
    "\n",
    "for idx,v in enumerate(세로):\n",
    "    if v:\n",
    "        pass\n",
    "    else:\n",
    "        for j in range(size):\n",
    "            answer[j][idx] = 2\n",
    "\n",
    "answer"
   ]
  },
  {
   "cell_type": "code",
   "execution_count": 30,
   "metadata": {},
   "outputs": [
    {
     "name": "stdout",
     "output_type": "stream",
     "text": [
      "가로 : [[2, 1], [2], [2], [1, 2], [1, 1]]\n",
      "세로 : [[3, 1], [4], [], [2], [1, 1]]\n"
     ]
    },
    {
     "data": {
      "text/plain": [
       "[[1, 0, 2, 0, 0],\n",
       " [1, 0, 2, 0, 0],\n",
       " [1, 0, 2, 0, 0],\n",
       " [2, 0, 2, 0, 0],\n",
       " [1, 2, 2, 0, 0]]"
      ]
     },
     "execution_count": 30,
     "metadata": {},
     "output_type": "execute_result"
    }
   ],
   "source": [
    "for i in range(size):\n",
    "    try:\n",
    "        if 가로[i][0] == 1 and answer[i][0] ==1 : \n",
    "            answer[i][1] = 2\n",
    "    except: pass\n",
    "    try:\n",
    "        if 가로[i][-1] == 1 and answer[i][-1] ==1 : \n",
    "            answer[i][-2] = 2\n",
    "\n",
    "    except: pass\n",
    "    try:\n",
    "        if 세로[i][0] == 1 and answer[0][i] ==1 : \n",
    "            answer[1][i] = 2\n",
    "\n",
    "    except: pass\n",
    "    try:\n",
    "        if 세로[i][-1] == 1 and answer[-1][i] ==1 : \n",
    "            answer[-2][i] = 2\n",
    "\n",
    "    except: pass\n",
    "\n",
    "\n",
    "print(\"가로 :\",가로)\n",
    "print(\"세로 :\",세로)\n",
    "answer"
   ]
  },
  {
   "cell_type": "code",
   "execution_count": 34,
   "metadata": {},
   "outputs": [
    {
     "ename": "TypeError",
     "evalue": "sequence item 0: expected str instance, int found",
     "output_type": "error",
     "traceback": [
      "\u001b[1;31m---------------------------------------------------------------------------\u001b[0m",
      "\u001b[1;31mTypeError\u001b[0m                                 Traceback (most recent call last)",
      "Cell \u001b[1;32mIn[34], line 2\u001b[0m\n\u001b[0;32m      1\u001b[0m \u001b[38;5;28;01mfor\u001b[39;00m i \u001b[38;5;129;01min\u001b[39;00m \u001b[38;5;28mrange\u001b[39m(\u001b[38;5;28mlen\u001b[39m(answer)):\n\u001b[1;32m----> 2\u001b[0m     A \u001b[38;5;241m=\u001b[39m \u001b[38;5;124;43m'\u001b[39;49m\u001b[38;5;124;43m'\u001b[39;49m\u001b[38;5;241;43m.\u001b[39;49m\u001b[43mjoin\u001b[49m\u001b[43m(\u001b[49m\u001b[43manswer\u001b[49m\u001b[43m[\u001b[49m\u001b[43mi\u001b[49m\u001b[43m]\u001b[49m\u001b[43m)\u001b[49m\u001b[38;5;241m.\u001b[39msplit(\u001b[38;5;124m'\u001b[39m\u001b[38;5;124m2\u001b[39m\u001b[38;5;124m'\u001b[39m)\n\u001b[0;32m      3\u001b[0m     \u001b[38;5;28mprint\u001b[39m(A)\n",
      "\u001b[1;31mTypeError\u001b[0m: sequence item 0: expected str instance, int found"
     ]
    }
   ],
   "source": [
    "for i in range(len(answer)):\n",
    "    A = ''.join(answer[i]).split('2')\n",
    "    print(A)\n",
    "        "
   ]
  },
  {
   "cell_type": "code",
   "execution_count": null,
   "metadata": {},
   "outputs": [],
   "source": []
  },
  {
   "cell_type": "code",
   "execution_count": 31,
   "metadata": {},
   "outputs": [
    {
     "name": "stdout",
     "output_type": "stream",
     "text": [
      "가로 : [[2, 1], [2], [2], [1, 2], [1, 1]]\n",
      "세로 : [[3, 1], [4], [], [2], [1, 1]]\n"
     ]
    }
   ],
   "source": [
    "print(\"가로 :\",가로)\n",
    "print(\"세로 :\",세로)\n",
    "\n",
    "\n"
   ]
  }
 ],
 "metadata": {
  "kernelspec": {
   "display_name": "Python 3",
   "language": "python",
   "name": "python3"
  },
  "language_info": {
   "codemirror_mode": {
    "name": "ipython",
    "version": 3
   },
   "file_extension": ".py",
   "mimetype": "text/x-python",
   "name": "python",
   "nbconvert_exporter": "python",
   "pygments_lexer": "ipython3",
   "version": "3.12.0"
  }
 },
 "nbformat": 4,
 "nbformat_minor": 2
}
