{
 "cells": [
  {
   "cell_type": "code",
   "execution_count": 1,
   "metadata": {},
   "outputs": [],
   "source": [
    "from helper.regrassion import *\n",
    "from helper.util import *\n",
    "from helper.plot import *\n",
    "from helper.analysis import *\n",
    "from pandas import read_csv"
   ]
  },
  {
   "cell_type": "markdown",
   "metadata": {},
   "source": [
    "### [2] 데이터 가져오기\n",
    "\n",
    "중고차 가격 예측을 위한 데이터 세트\n",
    "\n",
    "https://www.kaggle.com/datasets/rishabhkarn/used-car-dataset\n",
    "\n",
    "| 변수명 | 설명 |\n",
    "|:--:|--:|\n",
    "| car_name | Name of the car |\n",
    "| registration_year | Vehicle registration year |\n",
    "| insurance_validity | Type of insurance |\n",
    "| fuel_type | Type of fuel |\n",
    "| seats | Number of seats in the car |\n",
    "| kms_driven | Total kms driven |\n",
    "| ownsership | Number of ownership |\n",
    "| transmission | Transmission mode |\n",
    "| manufacturing_year | manufacturing year |\n",
    "| mileage(kmpl) | Mileage of the car |\n",
    "| engine(cc) | Engine capacity |\n",
    "| max_power(bhp) | max power |\n",
    "| torque(Nm) | torque |\n",
    "| price(in lakhs) | Price of the used car |"
   ]
  },
  {
   "cell_type": "code",
   "execution_count": 2,
   "metadata": {},
   "outputs": [
    {
     "data": {
      "text/html": [
       "<div>\n",
       "<style scoped>\n",
       "    .dataframe tbody tr th:only-of-type {\n",
       "        vertical-align: middle;\n",
       "    }\n",
       "\n",
       "    .dataframe tbody tr th {\n",
       "        vertical-align: top;\n",
       "    }\n",
       "\n",
       "    .dataframe thead th {\n",
       "        text-align: right;\n",
       "    }\n",
       "</style>\n",
       "<table border=\"1\" class=\"dataframe\">\n",
       "  <thead>\n",
       "    <tr style=\"text-align: right;\">\n",
       "      <th></th>\n",
       "      <th>car_name</th>\n",
       "      <th>registration_year</th>\n",
       "      <th>insurance_validity</th>\n",
       "      <th>fuel_type</th>\n",
       "      <th>seats</th>\n",
       "      <th>kms_driven</th>\n",
       "      <th>ownsership</th>\n",
       "      <th>transmission</th>\n",
       "      <th>manufacturing_year</th>\n",
       "      <th>mileage(kmpl)</th>\n",
       "      <th>engine(cc)</th>\n",
       "      <th>max_power(bhp)</th>\n",
       "      <th>torque(Nm)</th>\n",
       "      <th>price(in lakhs)</th>\n",
       "    </tr>\n",
       "  </thead>\n",
       "  <tbody>\n",
       "    <tr>\n",
       "      <th>0</th>\n",
       "      <td>2017 Mercedes-Benz S-Class S400</td>\n",
       "      <td>Jul-17</td>\n",
       "      <td>Comprehensive</td>\n",
       "      <td>Petrol</td>\n",
       "      <td>5</td>\n",
       "      <td>56000</td>\n",
       "      <td>First Owner</td>\n",
       "      <td>Automatic</td>\n",
       "      <td>2017</td>\n",
       "      <td>7.81</td>\n",
       "      <td>2996.0</td>\n",
       "      <td>2996.0</td>\n",
       "      <td>333.0</td>\n",
       "      <td>63.75</td>\n",
       "    </tr>\n",
       "    <tr>\n",
       "      <th>1</th>\n",
       "      <td>2020 Nissan Magnite Turbo CVT XV Premium Opt BSVI</td>\n",
       "      <td>Jan-21</td>\n",
       "      <td>Comprehensive</td>\n",
       "      <td>Petrol</td>\n",
       "      <td>5</td>\n",
       "      <td>30615</td>\n",
       "      <td>First Owner</td>\n",
       "      <td>Automatic</td>\n",
       "      <td>2020</td>\n",
       "      <td>17.40</td>\n",
       "      <td>999.0</td>\n",
       "      <td>999.0</td>\n",
       "      <td>9863.0</td>\n",
       "      <td>8.99</td>\n",
       "    </tr>\n",
       "    <tr>\n",
       "      <th>2</th>\n",
       "      <td>2018 BMW X1 sDrive 20d xLine</td>\n",
       "      <td>Sep-18</td>\n",
       "      <td>Comprehensive</td>\n",
       "      <td>Diesel</td>\n",
       "      <td>5</td>\n",
       "      <td>24000</td>\n",
       "      <td>First Owner</td>\n",
       "      <td>Automatic</td>\n",
       "      <td>2018</td>\n",
       "      <td>20.68</td>\n",
       "      <td>1995.0</td>\n",
       "      <td>1995.0</td>\n",
       "      <td>188.0</td>\n",
       "      <td>23.75</td>\n",
       "    </tr>\n",
       "    <tr>\n",
       "      <th>3</th>\n",
       "      <td>2019 Kia Seltos GTX Plus</td>\n",
       "      <td>Dec-19</td>\n",
       "      <td>Comprehensive</td>\n",
       "      <td>Petrol</td>\n",
       "      <td>5</td>\n",
       "      <td>18378</td>\n",
       "      <td>First Owner</td>\n",
       "      <td>Manual</td>\n",
       "      <td>2019</td>\n",
       "      <td>16.50</td>\n",
       "      <td>1353.0</td>\n",
       "      <td>1353.0</td>\n",
       "      <td>13808.0</td>\n",
       "      <td>13.56</td>\n",
       "    </tr>\n",
       "    <tr>\n",
       "      <th>4</th>\n",
       "      <td>2019 Skoda Superb LK 1.8 TSI AT</td>\n",
       "      <td>Aug-19</td>\n",
       "      <td>Comprehensive</td>\n",
       "      <td>Petrol</td>\n",
       "      <td>5</td>\n",
       "      <td>44900</td>\n",
       "      <td>First Owner</td>\n",
       "      <td>Automatic</td>\n",
       "      <td>2019</td>\n",
       "      <td>14.67</td>\n",
       "      <td>1798.0</td>\n",
       "      <td>1798.0</td>\n",
       "      <td>17746.0</td>\n",
       "      <td>24.00</td>\n",
       "    </tr>\n",
       "  </tbody>\n",
       "</table>\n",
       "</div>"
      ],
      "text/plain": [
       "                                            car_name registration_year  \\\n",
       "0                    2017 Mercedes-Benz S-Class S400            Jul-17   \n",
       "1  2020 Nissan Magnite Turbo CVT XV Premium Opt BSVI            Jan-21   \n",
       "2                       2018 BMW X1 sDrive 20d xLine            Sep-18   \n",
       "3                           2019 Kia Seltos GTX Plus            Dec-19   \n",
       "4                    2019 Skoda Superb LK 1.8 TSI AT            Aug-19   \n",
       "\n",
       "  insurance_validity fuel_type  seats  kms_driven   ownsership transmission  \\\n",
       "0      Comprehensive    Petrol      5       56000  First Owner    Automatic   \n",
       "1      Comprehensive    Petrol      5       30615  First Owner    Automatic   \n",
       "2      Comprehensive    Diesel      5       24000  First Owner    Automatic   \n",
       "3      Comprehensive    Petrol      5       18378  First Owner       Manual   \n",
       "4      Comprehensive    Petrol      5       44900  First Owner    Automatic   \n",
       "\n",
       "  manufacturing_year  mileage(kmpl)  engine(cc)  max_power(bhp)  torque(Nm)  \\\n",
       "0               2017           7.81      2996.0          2996.0       333.0   \n",
       "1               2020          17.40       999.0           999.0      9863.0   \n",
       "2               2018          20.68      1995.0          1995.0       188.0   \n",
       "3               2019          16.50      1353.0          1353.0     13808.0   \n",
       "4               2019          14.67      1798.0          1798.0     17746.0   \n",
       "\n",
       "   price(in lakhs)  \n",
       "0            63.75  \n",
       "1             8.99  \n",
       "2            23.75  \n",
       "3            13.56  \n",
       "4            24.00  "
      ]
     },
     "execution_count": 2,
     "metadata": {},
     "output_type": "execute_result"
    }
   ],
   "source": [
    "origin = my_read_data(\"./Used_Car_Dataset.csv\",info= False).drop('Unnamed: 0',axis=1)\n",
    "df = origin.drop_duplicates()\n",
    "df.head()"
   ]
  },
  {
   "cell_type": "code",
   "execution_count": 3,
   "metadata": {},
   "outputs": [],
   "source": [
    "brand = []\n",
    "for i in df['car_name']:\n",
    "    brand.append(i.split(' ')[1])\n",
    "df['brand'] = brand\n"
   ]
  },
  {
   "cell_type": "code",
   "execution_count": 4,
   "metadata": {},
   "outputs": [],
   "source": [
    "A = []\n",
    "A_ = []\n",
    "for i in origin['registration_year'].unique():\n",
    "    try : \n",
    "        int(i)\n",
    "        A.append(i)\n",
    "    except:A_.append(i)\n",
    "# A, A_"
   ]
  },
  {
   "cell_type": "code",
   "execution_count": 5,
   "metadata": {},
   "outputs": [],
   "source": [
    "origin['registration_year'].unique()\n",
    "\n",
    "map_registration_year = {a:None for a in A}\n",
    "for i in A_:\n",
    "    map_registration_year[i] = i\n",
    "map_registration_year['Third Party insurance'] = None\n",
    "df['registration_year'] = df['registration_year'].map(map_registration_year)\n",
    "# df['registration_year']"
   ]
  },
  {
   "cell_type": "code",
   "execution_count": 6,
   "metadata": {},
   "outputs": [],
   "source": [
    "month_dict = {'Apr':4,\n",
    " 'Aug':8,\n",
    " 'Feb':2,\n",
    " 'Dec':12,\n",
    " 'Jan':1,\n",
    " 'Jul':7,\n",
    " 'Jun':6,\n",
    " 'Mar':3,\n",
    " 'May':5,\n",
    " 'Nov':11,\n",
    " 'Oct':10,\n",
    " 'Sep':9}"
   ]
  },
  {
   "cell_type": "code",
   "execution_count": 7,
   "metadata": {},
   "outputs": [
    {
     "data": {
      "text/plain": [
       "0       Jul-17\n",
       "1       Jan-21\n",
       "2       Sep-18\n",
       "3       Dec-19\n",
       "4       Aug-19\n",
       "         ...  \n",
       "1548    Aug-20\n",
       "1549      None\n",
       "1550    Jun-17\n",
       "1551    May-18\n",
       "1552    May-18\n",
       "Name: registration_year, Length: 1133, dtype: object"
      ]
     },
     "execution_count": 7,
     "metadata": {},
     "output_type": "execute_result"
    }
   ],
   "source": [
    "df['registration_year']"
   ]
  },
  {
   "cell_type": "code",
   "execution_count": 8,
   "metadata": {},
   "outputs": [],
   "source": [
    "month = []\n",
    "year = []\n",
    "\n",
    "for i in df['registration_year']:\n",
    "    if i:\n",
    "        try:\n",
    "            month.append(month_dict[i[:3]])\n",
    "            year.append(int(i[-2:]))\n",
    "        except : print(i)\n",
    "    else:\n",
    "        month.append(None)\n",
    "        year.append(None)"
   ]
  },
  {
   "cell_type": "code",
   "execution_count": 9,
   "metadata": {},
   "outputs": [],
   "source": [
    "df['month']=month\n",
    "df['year']=year"
   ]
  },
  {
   "cell_type": "code",
   "execution_count": 10,
   "metadata": {},
   "outputs": [
    {
     "data": {
      "text/plain": [
       "0               Comprehensive\n",
       "1               Comprehensive\n",
       "2               Comprehensive\n",
       "3               Comprehensive\n",
       "4               Comprehensive\n",
       "                ...          \n",
       "1548            Comprehensive\n",
       "1549    Third Party insurance\n",
       "1550            Comprehensive\n",
       "1551            Comprehensive\n",
       "1552            Comprehensive\n",
       "Name: insurance_validity, Length: 1133, dtype: object"
      ]
     },
     "execution_count": 10,
     "metadata": {},
     "output_type": "execute_result"
    }
   ],
   "source": [
    "origin['insurance_validity'].value_counts()\n",
    "map_insurance_validity = {a:a for a in origin['insurance_validity'].unique()}\n",
    "map_insurance_validity['Petrol'] = None\n",
    "map_insurance_validity['Not Available'] = None\n",
    "map_insurance_validity['Third Party'] = 'Third Party insurance'\n",
    "df['insurance_validity'] = df['insurance_validity'].map(map_insurance_validity)\n",
    "df['insurance_validity']"
   ]
  },
  {
   "cell_type": "code",
   "execution_count": 11,
   "metadata": {},
   "outputs": [
    {
     "data": {
      "text/plain": [
       "0       Petrol\n",
       "1       Petrol\n",
       "2       Diesel\n",
       "3       Petrol\n",
       "4       Petrol\n",
       "         ...  \n",
       "1548    Diesel\n",
       "1549    Petrol\n",
       "1550    Petrol\n",
       "1551    Petrol\n",
       "1552    Petrol\n",
       "Name: fuel_type, Length: 1133, dtype: object"
      ]
     },
     "execution_count": 11,
     "metadata": {},
     "output_type": "execute_result"
    }
   ],
   "source": [
    "origin['fuel_type'].value_counts()\n",
    "map_fuel_type = {a:a for a in origin['fuel_type'].unique()}\n",
    "map_fuel_type['CNG'] = None\n",
    "map_fuel_type['5 Seats'] = None\n",
    "df['fuel_type'] = df['fuel_type'].map(map_fuel_type)\n",
    "df['fuel_type']"
   ]
  },
  {
   "cell_type": "code",
   "execution_count": 12,
   "metadata": {},
   "outputs": [
    {
     "data": {
      "text/plain": [
       "0       5.0\n",
       "1       5.0\n",
       "2       5.0\n",
       "3       5.0\n",
       "4       5.0\n",
       "       ... \n",
       "1548    5.0\n",
       "1549    5.0\n",
       "1550    5.0\n",
       "1551    5.0\n",
       "1552    5.0\n",
       "Name: seats, Length: 1133, dtype: float64"
      ]
     },
     "execution_count": 12,
     "metadata": {},
     "output_type": "execute_result"
    }
   ],
   "source": [
    "origin['seats'].value_counts()\n",
    "map_seats = {a:a if a<10 else None for a in origin['seats'].unique()}\n",
    "df['seats'] = df['seats'].map(map_seats)\n",
    "df['seats']"
   ]
  },
  {
   "cell_type": "code",
   "execution_count": 13,
   "metadata": {},
   "outputs": [
    {
     "data": {
      "text/plain": [
       "0        First Owner\n",
       "1        First Owner\n",
       "2        First Owner\n",
       "3        First Owner\n",
       "4        First Owner\n",
       "            ...     \n",
       "1548     First Owner\n",
       "1549            None\n",
       "1550     First Owner\n",
       "1551    Second Owner\n",
       "1552     First Owner\n",
       "Name: ownsership, Length: 1133, dtype: object"
      ]
     },
     "execution_count": 13,
     "metadata": {},
     "output_type": "execute_result"
    }
   ],
   "source": [
    "origin['ownsership'].value_counts()\n",
    "map_ownsership = {a:a if \"Owner\" in a else None for a in origin['ownsership'].unique()}\n",
    "df['ownsership'] = df['ownsership'].map(map_ownsership)\n",
    "df['ownsership']\n"
   ]
  },
  {
   "cell_type": "code",
   "execution_count": 14,
   "metadata": {},
   "outputs": [
    {
     "data": {
      "text/plain": [
       "Manual                 835\n",
       "Automatic              668\n",
       "2017                    28\n",
       "2014                     5\n",
       "2011                     3\n",
       "2023                     2\n",
       "2020                     2\n",
       "2021                     2\n",
       "2022                     2\n",
       "Power Windows Front      2\n",
       "2018                     2\n",
       "2015                     1\n",
       "2016                     1\n",
       "Name: transmission, dtype: int64"
      ]
     },
     "execution_count": 14,
     "metadata": {},
     "output_type": "execute_result"
    }
   ],
   "source": [
    "A = []\n",
    "A_ = []\n",
    "for i in origin['transmission'].unique():\n",
    "    try : \n",
    "        int(i)\n",
    "        A.append(i)\n",
    "    except:A_.append(i)\n",
    "origin['transmission'].value_counts()"
   ]
  },
  {
   "cell_type": "code",
   "execution_count": 15,
   "metadata": {},
   "outputs": [
    {
     "data": {
      "text/plain": [
       "0       Automatic\n",
       "1       Automatic\n",
       "2       Automatic\n",
       "3          Manual\n",
       "4       Automatic\n",
       "          ...    \n",
       "1548    Automatic\n",
       "1549         None\n",
       "1550       Manual\n",
       "1551       Manual\n",
       "1552       Manual\n",
       "Name: transmission, Length: 1133, dtype: object"
      ]
     },
     "execution_count": 15,
     "metadata": {},
     "output_type": "execute_result"
    }
   ],
   "source": [
    "map_transmission = {a:None for a in A}\n",
    "for i in A_:\n",
    "    map_transmission[i] = i\n",
    "map_transmission['Power Windows Front']=None\n",
    "df['transmission'] = df['transmission'].map(map_transmission)\n",
    "df['transmission']"
   ]
  },
  {
   "cell_type": "code",
   "execution_count": 16,
   "metadata": {},
   "outputs": [
    {
     "data": {
      "text/plain": [
       "(['2017',\n",
       "  '2020',\n",
       "  '2018',\n",
       "  '2019',\n",
       "  '2015',\n",
       "  '2021',\n",
       "  '2014',\n",
       "  '2022',\n",
       "  '2010',\n",
       "  '2011',\n",
       "  '2023',\n",
       "  '2016',\n",
       "  '2009',\n",
       "  '2013',\n",
       "  '2012',\n",
       "  '2007'],\n",
       " ['Power Steering', 'Power Windows Front', 'Air Conditioner'])"
      ]
     },
     "execution_count": 16,
     "metadata": {},
     "output_type": "execute_result"
    }
   ],
   "source": [
    "origin['manufacturing_year'].value_counts()\n",
    "A = []\n",
    "A_ = []\n",
    "for i in origin['manufacturing_year'].unique():\n",
    "    try : \n",
    "        int(i)\n",
    "        A.append(i)\n",
    "    except:A_.append(i)\n",
    "A, A_"
   ]
  },
  {
   "cell_type": "code",
   "execution_count": 17,
   "metadata": {},
   "outputs": [
    {
     "data": {
      "text/plain": [
       "0       2017\n",
       "1       2020\n",
       "2       2018\n",
       "3       2019\n",
       "4       2019\n",
       "        ... \n",
       "1548    2020\n",
       "1549    None\n",
       "1550    2017\n",
       "1551    2018\n",
       "1552    2018\n",
       "Name: manufacturing_year, Length: 1133, dtype: object"
      ]
     },
     "execution_count": 17,
     "metadata": {},
     "output_type": "execute_result"
    }
   ],
   "source": [
    "map_manufacturing_year = {a:a for a in A}\n",
    "for i in A_:\n",
    "    map_manufacturing_year[i] = None\n",
    "df['manufacturing_year'] = df['manufacturing_year'].map(map_manufacturing_year)\n",
    "df['manufacturing_year']"
   ]
  },
  {
   "cell_type": "code",
   "execution_count": 18,
   "metadata": {},
   "outputs": [],
   "source": [
    "for i,v in enumerate(origin['mileage(kmpl)']):\n",
    "    if v>40 : df['mileage(kmpl)'][i] = None\n"
   ]
  },
  {
   "cell_type": "code",
   "execution_count": 19,
   "metadata": {},
   "outputs": [],
   "source": [
    "max = 13519\n",
    "min = 352\n",
    "\n",
    "for i,v in enumerate(origin['engine(cc)']):\n",
    "    if v < min or v > max : df['engine(cc)'][i] = None\n"
   ]
  },
  {
   "cell_type": "code",
   "execution_count": 20,
   "metadata": {},
   "outputs": [
    {
     "data": {
      "text/plain": [
       "car_name               object\n",
       "registration_year      object\n",
       "insurance_validity     object\n",
       "fuel_type              object\n",
       "seats                 float64\n",
       "kms_driven              int64\n",
       "ownsership             object\n",
       "transmission           object\n",
       "manufacturing_year     object\n",
       "mileage(kmpl)         float64\n",
       "engine(cc)            float64\n",
       "max_power(bhp)        float64\n",
       "torque(Nm)            float64\n",
       "price(in lakhs)       float64\n",
       "brand                  object\n",
       "month                 float64\n",
       "year                  float64\n",
       "dtype: object"
      ]
     },
     "execution_count": 20,
     "metadata": {},
     "output_type": "execute_result"
    }
   ],
   "source": [
    "df.dtypes"
   ]
  },
  {
   "cell_type": "code",
   "execution_count": 21,
   "metadata": {},
   "outputs": [
    {
     "data": {
      "text/plain": [
       "registration_year     category\n",
       "insurance_validity    category\n",
       "fuel_type             category\n",
       "seats                  float64\n",
       "kms_driven               int64\n",
       "ownsership            category\n",
       "transmission          category\n",
       "manufacturing_year    category\n",
       "mileage(kmpl)          float64\n",
       "engine(cc)             float64\n",
       "max_power(bhp)         float64\n",
       "torque(Nm)             float64\n",
       "brand                 category\n",
       "month                  float64\n",
       "year                   float64\n",
       "price                  float64\n",
       "dtype: object"
      ]
     },
     "execution_count": 21,
     "metadata": {},
     "output_type": "execute_result"
    }
   ],
   "source": [
    "df2 = my_set_category(df.dropna().drop('car_name',axis=1))\n",
    "df2['price'] = df2['price(in lakhs)']\n",
    "df2.drop('price(in lakhs)',axis=1,inplace=True)\n",
    "\n",
    "df2.dtypes"
   ]
  },
  {
   "cell_type": "code",
   "execution_count": 22,
   "metadata": {},
   "outputs": [
    {
     "data": {
      "text/plain": [
       "count      906.000000\n",
       "mean       118.879371\n",
       "std       3155.742381\n",
       "min          1.090000\n",
       "25%          4.965000\n",
       "50%          6.950000\n",
       "75%         14.937500\n",
       "max      95000.000000\n",
       "Name: price, dtype: float64"
      ]
     },
     "execution_count": 22,
     "metadata": {},
     "output_type": "execute_result"
    }
   ],
   "source": [
    "df2['price'].describe()\n"
   ]
  },
  {
   "cell_type": "code",
   "execution_count": 23,
   "metadata": {},
   "outputs": [],
   "source": [
    "import numpy as np\n",
    "a = (np.array(df2['year']) - int(df2['year'].min())) *12 + df2['month']\n",
    "df2['registration'] = a\n",
    "df2['mileage'] = df2['mileage(kmpl)']\n",
    "df2['engine'] = df2['engine(cc)']\n",
    "df2['max_power'] = df2['max_power(bhp)']\n",
    "df2['torque'] = df2['torque(Nm)']\n",
    "df2.drop(['torque(Nm)','engine(cc)','max_power(bhp)','mileage(kmpl)'],axis=1,inplace=True)\n",
    "df2['kms_driven2']=df2['kms_driven']**2\n",
    "df2['registration2'] = df2['registration']**2\n",
    "df2['torque2'] = df2['torque']**2\n",
    "df2['max_power2'] = df2['max_power']**2\n",
    "df2['engine2'] = df2['engine']**2\n",
    "df2['mileage'] = df2['mileage'] **2"
   ]
  },
  {
   "cell_type": "code",
   "execution_count": 24,
   "metadata": {},
   "outputs": [
    {
     "data": {
      "text/html": [
       "<div>\n",
       "<style scoped>\n",
       "    .dataframe tbody tr th:only-of-type {\n",
       "        vertical-align: middle;\n",
       "    }\n",
       "\n",
       "    .dataframe tbody tr th {\n",
       "        vertical-align: top;\n",
       "    }\n",
       "\n",
       "    .dataframe thead th {\n",
       "        text-align: right;\n",
       "    }\n",
       "</style>\n",
       "<table border=\"1\" class=\"dataframe\">\n",
       "  <thead>\n",
       "    <tr style=\"text-align: right;\">\n",
       "      <th></th>\n",
       "      <th>insurance_validity</th>\n",
       "      <th>fuel_type</th>\n",
       "      <th>seats</th>\n",
       "      <th>kms_driven</th>\n",
       "      <th>ownsership</th>\n",
       "      <th>transmission</th>\n",
       "      <th>brand</th>\n",
       "      <th>price</th>\n",
       "      <th>registration</th>\n",
       "      <th>mileage</th>\n",
       "      <th>engine</th>\n",
       "      <th>max_power</th>\n",
       "      <th>torque</th>\n",
       "      <th>kms_driven2</th>\n",
       "      <th>registration2</th>\n",
       "      <th>torque2</th>\n",
       "      <th>max_power2</th>\n",
       "      <th>engine2</th>\n",
       "    </tr>\n",
       "  </thead>\n",
       "  <tbody>\n",
       "    <tr>\n",
       "      <th>0</th>\n",
       "      <td>Comprehensive</td>\n",
       "      <td>Petrol</td>\n",
       "      <td>5.0</td>\n",
       "      <td>56000</td>\n",
       "      <td>First Owner</td>\n",
       "      <td>Automatic</td>\n",
       "      <td>Mercedes-Benz</td>\n",
       "      <td>63.75</td>\n",
       "      <td>103.0</td>\n",
       "      <td>60.9961</td>\n",
       "      <td>2996.0</td>\n",
       "      <td>2996.0</td>\n",
       "      <td>333.0</td>\n",
       "      <td>3136000000</td>\n",
       "      <td>10609.0</td>\n",
       "      <td>110889.0</td>\n",
       "      <td>8976016.0</td>\n",
       "      <td>8976016.0</td>\n",
       "    </tr>\n",
       "    <tr>\n",
       "      <th>1</th>\n",
       "      <td>Comprehensive</td>\n",
       "      <td>Petrol</td>\n",
       "      <td>5.0</td>\n",
       "      <td>30615</td>\n",
       "      <td>First Owner</td>\n",
       "      <td>Automatic</td>\n",
       "      <td>Nissan</td>\n",
       "      <td>8.99</td>\n",
       "      <td>145.0</td>\n",
       "      <td>302.7600</td>\n",
       "      <td>999.0</td>\n",
       "      <td>999.0</td>\n",
       "      <td>9863.0</td>\n",
       "      <td>937278225</td>\n",
       "      <td>21025.0</td>\n",
       "      <td>97278769.0</td>\n",
       "      <td>998001.0</td>\n",
       "      <td>998001.0</td>\n",
       "    </tr>\n",
       "    <tr>\n",
       "      <th>2</th>\n",
       "      <td>Comprehensive</td>\n",
       "      <td>Diesel</td>\n",
       "      <td>5.0</td>\n",
       "      <td>24000</td>\n",
       "      <td>First Owner</td>\n",
       "      <td>Automatic</td>\n",
       "      <td>BMW</td>\n",
       "      <td>23.75</td>\n",
       "      <td>117.0</td>\n",
       "      <td>427.6624</td>\n",
       "      <td>1995.0</td>\n",
       "      <td>1995.0</td>\n",
       "      <td>188.0</td>\n",
       "      <td>576000000</td>\n",
       "      <td>13689.0</td>\n",
       "      <td>35344.0</td>\n",
       "      <td>3980025.0</td>\n",
       "      <td>3980025.0</td>\n",
       "    </tr>\n",
       "    <tr>\n",
       "      <th>3</th>\n",
       "      <td>Comprehensive</td>\n",
       "      <td>Petrol</td>\n",
       "      <td>5.0</td>\n",
       "      <td>18378</td>\n",
       "      <td>First Owner</td>\n",
       "      <td>Manual</td>\n",
       "      <td>Kia</td>\n",
       "      <td>13.56</td>\n",
       "      <td>132.0</td>\n",
       "      <td>272.2500</td>\n",
       "      <td>1353.0</td>\n",
       "      <td>1353.0</td>\n",
       "      <td>13808.0</td>\n",
       "      <td>337750884</td>\n",
       "      <td>17424.0</td>\n",
       "      <td>190660864.0</td>\n",
       "      <td>1830609.0</td>\n",
       "      <td>1830609.0</td>\n",
       "    </tr>\n",
       "    <tr>\n",
       "      <th>4</th>\n",
       "      <td>Comprehensive</td>\n",
       "      <td>Petrol</td>\n",
       "      <td>5.0</td>\n",
       "      <td>44900</td>\n",
       "      <td>First Owner</td>\n",
       "      <td>Automatic</td>\n",
       "      <td>Skoda</td>\n",
       "      <td>24.00</td>\n",
       "      <td>128.0</td>\n",
       "      <td>215.2089</td>\n",
       "      <td>1798.0</td>\n",
       "      <td>1798.0</td>\n",
       "      <td>17746.0</td>\n",
       "      <td>2016010000</td>\n",
       "      <td>16384.0</td>\n",
       "      <td>314920516.0</td>\n",
       "      <td>3232804.0</td>\n",
       "      <td>3232804.0</td>\n",
       "    </tr>\n",
       "  </tbody>\n",
       "</table>\n",
       "</div>"
      ],
      "text/plain": [
       "  insurance_validity fuel_type  seats  kms_driven   ownsership transmission  \\\n",
       "0      Comprehensive    Petrol    5.0       56000  First Owner    Automatic   \n",
       "1      Comprehensive    Petrol    5.0       30615  First Owner    Automatic   \n",
       "2      Comprehensive    Diesel    5.0       24000  First Owner    Automatic   \n",
       "3      Comprehensive    Petrol    5.0       18378  First Owner       Manual   \n",
       "4      Comprehensive    Petrol    5.0       44900  First Owner    Automatic   \n",
       "\n",
       "           brand  price  registration   mileage  engine  max_power   torque  \\\n",
       "0  Mercedes-Benz  63.75         103.0   60.9961  2996.0     2996.0    333.0   \n",
       "1         Nissan   8.99         145.0  302.7600   999.0      999.0   9863.0   \n",
       "2            BMW  23.75         117.0  427.6624  1995.0     1995.0    188.0   \n",
       "3            Kia  13.56         132.0  272.2500  1353.0     1353.0  13808.0   \n",
       "4          Skoda  24.00         128.0  215.2089  1798.0     1798.0  17746.0   \n",
       "\n",
       "   kms_driven2  registration2      torque2  max_power2    engine2  \n",
       "0   3136000000        10609.0     110889.0   8976016.0  8976016.0  \n",
       "1    937278225        21025.0   97278769.0    998001.0   998001.0  \n",
       "2    576000000        13689.0      35344.0   3980025.0  3980025.0  \n",
       "3    337750884        17424.0  190660864.0   1830609.0  1830609.0  \n",
       "4   2016010000        16384.0  314920516.0   3232804.0  3232804.0  "
      ]
     },
     "execution_count": 24,
     "metadata": {},
     "output_type": "execute_result"
    }
   ],
   "source": [
    "\n",
    "df3 =df2.drop(['year','month','manufacturing_year','registration_year'],axis=1).reset_index(drop=True).drop(687)\n",
    "df3.head()\n"
   ]
  },
  {
   "cell_type": "code",
   "execution_count": 25,
   "metadata": {},
   "outputs": [],
   "source": [
    "categories = [x for x in df3.columns if df3[x].dtypes == 'category']\n"
   ]
  },
  {
   "cell_type": "code",
   "execution_count": 26,
   "metadata": {},
   "outputs": [
    {
     "name": "stdout",
     "output_type": "stream",
     "text": [
      "pingouin.anova\n",
      "\n",
      "statsmodels.anova.anova_lm\n",
      "+-----------------------+------+----------+-----------+---------+-----------+\n",
      "|                       |   df |   sum_sq |   mean_sq |       F |    PR(>F) |\n",
      "|-----------------------+------+----------+-----------+---------+-----------|\n",
      "| C(insurance_validity) |    2 |  2612.03 |   1306.01 | 4.61186 | 0.0101687 |\n",
      "| Residual              |  902 |   255433 |   283.185 |     nan |       nan |\n",
      "+-----------------------+------+----------+-----------+---------+-----------+\n",
      "[anova_lm] statistic: 4.612, p-value: 0.010, 대립가설 채택\n",
      "pingouin.anova\n",
      "\n",
      "statsmodels.anova.anova_lm\n",
      "+--------------+------+----------+-----------+---------+-------------+\n",
      "|              |   df |   sum_sq |   mean_sq |       F |      PR(>F) |\n",
      "|--------------+------+----------+-----------+---------+-------------|\n",
      "| C(fuel_type) |    1 |  10483.5 |   10483.5 | 38.2392 | 9.47027e-10 |\n",
      "| Residual     |  903 |   247562 |   274.155 |     nan |         nan |\n",
      "+--------------+------+----------+-----------+---------+-------------+\n",
      "[anova_lm] statistic: 38.239, p-value: 0.000, 대립가설 채택\n",
      "pingouin.anova\n",
      "\n",
      "statsmodels.anova.anova_lm\n",
      "+---------------+------+----------+-----------+---------+-----------+\n",
      "|               |   df |   sum_sq |   mean_sq |       F |    PR(>F) |\n",
      "|---------------+------+----------+-----------+---------+-----------|\n",
      "| C(ownsership) |    2 |  1387.91 |   693.954 | 2.43884 | 0.0878373 |\n",
      "| Residual      |  902 |   256657 |   284.543 |     nan |       nan |\n",
      "+---------------+------+----------+-----------+---------+-----------+\n",
      "[anova_lm] statistic: 2.439, p-value: 0.088, 귀무가설 채택\n",
      "pingouin.anova\n",
      "\n",
      "statsmodels.anova.anova_lm\n",
      "+-----------------+------+----------+-----------+-------+-------------+\n",
      "|                 |   df |   sum_sq |   mean_sq |     F |      PR(>F) |\n",
      "|-----------------+------+----------+-----------+-------+-------------|\n",
      "| C(transmission) |    1 |  75646.1 |   75646.1 | 374.5 | 4.57524e-70 |\n",
      "| Residual        |  903 |   182399 |   201.992 |   nan |         nan |\n",
      "+-----------------+------+----------+-----------+-------+-------------+\n",
      "[anova_lm] statistic: 374.500, p-value: 0.000, 대립가설 채택\n",
      "pingouin.anova\n",
      "\n",
      "statsmodels.anova.anova_lm\n",
      "+----------+------+----------+-----------+---------+--------------+\n",
      "|          |   df |   sum_sq |   mean_sq |       F |       PR(>F) |\n",
      "|----------+------+----------+-----------+---------+--------------|\n",
      "| C(brand) |   25 |   160473 |   6418.92 | 57.8263 | 2.14366e-166 |\n",
      "| Residual |  879 |  97572.2 |   111.004 |     nan |          nan |\n",
      "+----------+------+----------+-----------+---------+--------------+\n",
      "[anova_lm] statistic: 57.826, p-value: 0.000, 대립가설 채택\n"
     ]
    }
   ],
   "source": [
    "for c in categories:\n",
    "    tmp = df3[[c, 'price']]\n",
    "    my_anova(tmp, hue=c, target='price')"
   ]
  },
  {
   "cell_type": "code",
   "execution_count": 27,
   "metadata": {},
   "outputs": [
    {
     "data": {
      "text/html": [
       "<div>\n",
       "<style scoped>\n",
       "    .dataframe tbody tr th:only-of-type {\n",
       "        vertical-align: middle;\n",
       "    }\n",
       "\n",
       "    .dataframe tbody tr th {\n",
       "        vertical-align: top;\n",
       "    }\n",
       "\n",
       "    .dataframe thead th {\n",
       "        text-align: right;\n",
       "    }\n",
       "</style>\n",
       "<table border=\"1\" class=\"dataframe\">\n",
       "  <thead>\n",
       "    <tr style=\"text-align: right;\">\n",
       "      <th></th>\n",
       "      <th>insurance_validity</th>\n",
       "      <th>fuel_type</th>\n",
       "      <th>seats</th>\n",
       "      <th>kms_driven</th>\n",
       "      <th>ownsership</th>\n",
       "      <th>transmission</th>\n",
       "      <th>brand</th>\n",
       "      <th>price</th>\n",
       "      <th>registration</th>\n",
       "      <th>mileage</th>\n",
       "      <th>engine</th>\n",
       "      <th>max_power</th>\n",
       "      <th>torque</th>\n",
       "      <th>kms_driven2</th>\n",
       "      <th>registration2</th>\n",
       "      <th>torque2</th>\n",
       "      <th>max_power2</th>\n",
       "      <th>engine2</th>\n",
       "      <th>brand_value</th>\n",
       "    </tr>\n",
       "  </thead>\n",
       "  <tbody>\n",
       "    <tr>\n",
       "      <th>0</th>\n",
       "      <td>Comprehensive</td>\n",
       "      <td>Petrol</td>\n",
       "      <td>5.0</td>\n",
       "      <td>56000</td>\n",
       "      <td>First Owner</td>\n",
       "      <td>Automatic</td>\n",
       "      <td>Mercedes-Benz</td>\n",
       "      <td>63.75</td>\n",
       "      <td>103.0</td>\n",
       "      <td>60.9961</td>\n",
       "      <td>2996.0</td>\n",
       "      <td>2996.0</td>\n",
       "      <td>333.0</td>\n",
       "      <td>3136000000</td>\n",
       "      <td>10609.0</td>\n",
       "      <td>110889.0</td>\n",
       "      <td>8976016.0</td>\n",
       "      <td>8976016.0</td>\n",
       "      <td>4</td>\n",
       "    </tr>\n",
       "    <tr>\n",
       "      <th>1</th>\n",
       "      <td>Comprehensive</td>\n",
       "      <td>Petrol</td>\n",
       "      <td>5.0</td>\n",
       "      <td>30615</td>\n",
       "      <td>First Owner</td>\n",
       "      <td>Automatic</td>\n",
       "      <td>Nissan</td>\n",
       "      <td>8.99</td>\n",
       "      <td>145.0</td>\n",
       "      <td>302.7600</td>\n",
       "      <td>999.0</td>\n",
       "      <td>999.0</td>\n",
       "      <td>9863.0</td>\n",
       "      <td>937278225</td>\n",
       "      <td>21025.0</td>\n",
       "      <td>97278769.0</td>\n",
       "      <td>998001.0</td>\n",
       "      <td>998001.0</td>\n",
       "      <td>0</td>\n",
       "    </tr>\n",
       "    <tr>\n",
       "      <th>2</th>\n",
       "      <td>Comprehensive</td>\n",
       "      <td>Diesel</td>\n",
       "      <td>5.0</td>\n",
       "      <td>24000</td>\n",
       "      <td>First Owner</td>\n",
       "      <td>Automatic</td>\n",
       "      <td>BMW</td>\n",
       "      <td>23.75</td>\n",
       "      <td>117.0</td>\n",
       "      <td>427.6624</td>\n",
       "      <td>1995.0</td>\n",
       "      <td>1995.0</td>\n",
       "      <td>188.0</td>\n",
       "      <td>576000000</td>\n",
       "      <td>13689.0</td>\n",
       "      <td>35344.0</td>\n",
       "      <td>3980025.0</td>\n",
       "      <td>3980025.0</td>\n",
       "      <td>4</td>\n",
       "    </tr>\n",
       "    <tr>\n",
       "      <th>3</th>\n",
       "      <td>Comprehensive</td>\n",
       "      <td>Petrol</td>\n",
       "      <td>5.0</td>\n",
       "      <td>18378</td>\n",
       "      <td>First Owner</td>\n",
       "      <td>Manual</td>\n",
       "      <td>Kia</td>\n",
       "      <td>13.56</td>\n",
       "      <td>132.0</td>\n",
       "      <td>272.2500</td>\n",
       "      <td>1353.0</td>\n",
       "      <td>1353.0</td>\n",
       "      <td>13808.0</td>\n",
       "      <td>337750884</td>\n",
       "      <td>17424.0</td>\n",
       "      <td>190660864.0</td>\n",
       "      <td>1830609.0</td>\n",
       "      <td>1830609.0</td>\n",
       "      <td>2</td>\n",
       "    </tr>\n",
       "    <tr>\n",
       "      <th>4</th>\n",
       "      <td>Comprehensive</td>\n",
       "      <td>Petrol</td>\n",
       "      <td>5.0</td>\n",
       "      <td>44900</td>\n",
       "      <td>First Owner</td>\n",
       "      <td>Automatic</td>\n",
       "      <td>Skoda</td>\n",
       "      <td>24.00</td>\n",
       "      <td>128.0</td>\n",
       "      <td>215.2089</td>\n",
       "      <td>1798.0</td>\n",
       "      <td>1798.0</td>\n",
       "      <td>17746.0</td>\n",
       "      <td>2016010000</td>\n",
       "      <td>16384.0</td>\n",
       "      <td>314920516.0</td>\n",
       "      <td>3232804.0</td>\n",
       "      <td>3232804.0</td>\n",
       "      <td>2</td>\n",
       "    </tr>\n",
       "  </tbody>\n",
       "</table>\n",
       "</div>"
      ],
      "text/plain": [
       "  insurance_validity fuel_type  seats  kms_driven   ownsership transmission  \\\n",
       "0      Comprehensive    Petrol    5.0       56000  First Owner    Automatic   \n",
       "1      Comprehensive    Petrol    5.0       30615  First Owner    Automatic   \n",
       "2      Comprehensive    Diesel    5.0       24000  First Owner    Automatic   \n",
       "3      Comprehensive    Petrol    5.0       18378  First Owner       Manual   \n",
       "4      Comprehensive    Petrol    5.0       44900  First Owner    Automatic   \n",
       "\n",
       "           brand  price  registration   mileage  engine  max_power   torque  \\\n",
       "0  Mercedes-Benz  63.75         103.0   60.9961  2996.0     2996.0    333.0   \n",
       "1         Nissan   8.99         145.0  302.7600   999.0      999.0   9863.0   \n",
       "2            BMW  23.75         117.0  427.6624  1995.0     1995.0    188.0   \n",
       "3            Kia  13.56         132.0  272.2500  1353.0     1353.0  13808.0   \n",
       "4          Skoda  24.00         128.0  215.2089  1798.0     1798.0  17746.0   \n",
       "\n",
       "   kms_driven2  registration2      torque2  max_power2    engine2  brand_value  \n",
       "0   3136000000        10609.0     110889.0   8976016.0  8976016.0            4  \n",
       "1    937278225        21025.0   97278769.0    998001.0   998001.0            0  \n",
       "2    576000000        13689.0      35344.0   3980025.0  3980025.0            4  \n",
       "3    337750884        17424.0  190660864.0   1830609.0  1830609.0            2  \n",
       "4   2016010000        16384.0  314920516.0   3232804.0  3232804.0            2  "
      ]
     },
     "execution_count": 27,
     "metadata": {},
     "output_type": "execute_result"
    }
   ],
   "source": [
    "df3.columns\n",
    "import seaborn as sb\n",
    "# sb.boxplot(data = df3[['brand','price']], x = 'brand',y= 'price')\n",
    "df_brand = df3[['brand','price']]\n",
    "df_brand_name = df_brand.groupby('brand').mean().sort_values('price').reset_index()['brand']\n",
    "map_brand = {}\n",
    "for i,v in enumerate(df_brand_name):\n",
    "    map_brand[v] = i//5\n",
    "df3['brand_value'] = df3['brand'].map(map_brand)\n",
    "df3.head()\n",
    "\n"
   ]
  },
  {
   "cell_type": "code",
   "execution_count": 32,
   "metadata": {},
   "outputs": [
    {
     "name": "stdout",
     "output_type": "stream",
     "text": [
      "+----+---------+--------------+---------+----------------+-----------+----------+-------------+----------+---------------+-----------------+-------------+--------------+-------------+---------------+--------------------------------------------+-------------------------------+--------------------+-----------------------+\n",
      "|    |   seats |   kms_driven |   price |   registration |   mileage |   engine |   max_power |   torque |   kms_driven2 |   registration2 |     torque2 |   max_power2 |     engine2 |   brand_value |   insurance_validity_Third Party insurance |   insurance_validity_Zero Dep |   fuel_type_Petrol |   transmission_Manual |\n",
      "|----+---------+--------------+---------+----------------+-----------+----------+-------------+----------+---------------+-----------------+-------------+--------------+-------------+---------------+--------------------------------------------+-------------------------------+--------------------+-----------------------|\n",
      "|  0 |       5 |        56000 |   63.75 |            103 |   60.9961 |     2996 |        2996 |      333 |     3.136e+09 |           10609 |      110889 |  8.97602e+06 | 8.97602e+06 |             4 |                                          0 |                             0 |                  1 |                     0 |\n",
      "|  1 |       5 |        30615 |    8.99 |            145 |    302.76 |      999 |         999 |     9863 |   9.37278e+08 |           21025 | 9.72788e+07 |       998001 |      998001 |             0 |                                          0 |                             0 |                  1 |                     0 |\n",
      "|  2 |       5 |        24000 |   23.75 |            117 |   427.662 |     1995 |        1995 |      188 |      5.76e+08 |           13689 |       35344 |  3.98002e+06 | 3.98002e+06 |             4 |                                          0 |                             0 |                  0 |                     0 |\n",
      "|  3 |       5 |        18378 |   13.56 |            132 |    272.25 |     1353 |        1353 |    13808 |   3.37751e+08 |           17424 | 1.90661e+08 |  1.83061e+06 | 1.83061e+06 |             2 |                                          0 |                             0 |                  1 |                     1 |\n",
      "|  4 |       5 |        44900 |      24 |            128 |   215.209 |     1798 |        1798 |    17746 |   2.01601e+09 |           16384 | 3.14921e+08 |   3.2328e+06 |  3.2328e+06 |             2 |                                          0 |                             0 |                  1 |                     0 |\n",
      "+----+---------+--------------+---------+----------------+-----------+----------+-------------+----------+---------------+-----------------+-------------+--------------+-------------+---------------+--------------------------------------------+-------------------------------+--------------------+-----------------------+\n"
     ]
    }
   ],
   "source": [
    "dummy_df = my_dummies(df3.drop(['ownsership','brand'],axis=1))\n",
    "my_pretty_table(dummy_df.head())\n"
   ]
  },
  {
   "cell_type": "code",
   "execution_count": 46,
   "metadata": {},
   "outputs": [
    {
     "data": {
      "text/plain": [
       "((633, 17), (272, 17), (633,), (272,))"
      ]
     },
     "execution_count": 46,
     "metadata": {},
     "output_type": "execute_result"
    }
   ],
   "source": [
    "x_train, x_test, y_train, y_test = my_train_test_split(dummy_df, \"price\", test_size=0.3)\n",
    "x_train.shape, x_test.shape, y_train.shape, y_test.shape"
   ]
  },
  {
   "cell_type": "code",
   "execution_count": 47,
   "metadata": {},
   "outputs": [
    {
     "data": {
      "text/plain": [
       "[]"
      ]
     },
     "execution_count": 47,
     "metadata": {},
     "output_type": "execute_result"
    }
   ],
   "source": [
    "ignore = []\n",
    "for i in x_train.columns:\n",
    "    check = False\n",
    "    for j in x_train[i]:\n",
    "        check = check or j\n",
    "        if check:\n",
    "            break\n",
    "    else:\n",
    "        ignore.append(i)\n",
    "    check = False\n",
    "    for j in x_test[i]:\n",
    "        check = check or j\n",
    "        if check:\n",
    "            break \n",
    "    else:\n",
    "        ignore.append(i)\n",
    "ignore\n"
   ]
  },
  {
   "cell_type": "code",
   "execution_count": 49,
   "metadata": {},
   "outputs": [
    {
     "name": "stdout",
     "output_type": "stream",
     "text": [
      "[회귀식]\n",
      "price = 1.499 * seats + -0.000 * kms_driven + 0.017 * registration + 0.011 * mileage + 0.017 * max_power + 0.000 * torque + 0.000 * kms_driven2 + 0.000 * registration2 + -0.000 * torque2 + -0.000 * max_power2 + -0.000 * engine2 + 5.817 * brand_value + 0.682 * insurance_validity_Third Party insurance + -0.649 * insurance_validity_Zero Dep + 3.372 * fuel_type_Petrol + -2.652 * transmission_Manual + -31.679\n",
      "\n",
      "[회귀분석 성능평가]\n",
      "+--------+----------------+---------------------+---------------------+------------------+---------------------------------+-----------------------+\n",
      "|        |   결정계수(R2) |   평균절대오차(MAE) |   평균제곱오차(MSE) |   평균오차(RMSE) |   평균 절대 백분오차 비율(MAPE) |   평균 비율 오차(MPE) |\n",
      "|--------+----------------+---------------------+---------------------+------------------+---------------------------------+-----------------------|\n",
      "| 데이터 |        0.65765 |             6.51266 |              118.49 |          10.8853 |                         100.847 |              -55.6503 |\n",
      "+--------+----------------+---------------------+---------------------+------------------+---------------------------------+-----------------------+\n",
      "\n",
      "[선형회귀분석 결과보고]\n"
     ]
    },
    {
     "ename": "LinAlgError",
     "evalue": "Singular matrix",
     "output_type": "error",
     "traceback": [
      "\u001b[1;31m---------------------------------------------------------------------------\u001b[0m",
      "\u001b[1;31mLinAlgError\u001b[0m                               Traceback (most recent call last)",
      "Cell \u001b[1;32mIn[49], line 4\u001b[0m\n\u001b[0;32m      2\u001b[0m x_train2 \u001b[38;5;241m=\u001b[39m x_train\u001b[38;5;241m.\u001b[39mdrop(ignore,axis\u001b[38;5;241m=\u001b[39m\u001b[38;5;241m1\u001b[39m)\n\u001b[0;32m      3\u001b[0m x_test2 \u001b[38;5;241m=\u001b[39m x_test\u001b[38;5;241m.\u001b[39mdrop(ignore,axis\u001b[38;5;241m=\u001b[39m\u001b[38;5;241m1\u001b[39m)\n\u001b[1;32m----> 4\u001b[0m \u001b[43mmy_linear_regrassion\u001b[49m\u001b[43m(\u001b[49m\u001b[43mx_train2\u001b[49m\u001b[43m,\u001b[49m\u001b[43m \u001b[49m\u001b[43my_train\u001b[49m\u001b[43m,\u001b[49m\u001b[43m \u001b[49m\u001b[43mx_test2\u001b[49m\u001b[43m,\u001b[49m\u001b[43m \u001b[49m\u001b[43my_test\u001b[49m\u001b[43m,\u001b[49m\u001b[43muse_plot\u001b[49m\u001b[38;5;241;43m=\u001b[39;49m\u001b[38;5;28;43;01mFalse\u001b[39;49;00m\u001b[43m,\u001b[49m\u001b[43mresid_test\u001b[49m\u001b[38;5;241;43m=\u001b[39;49m\u001b[38;5;28;43;01mFalse\u001b[39;49;00m\u001b[43m)\u001b[49m\n\u001b[0;32m      5\u001b[0m \u001b[38;5;66;03m# 0행렬이 포함되어있는경우 `LinAlgError: Singular matrix` 발생, 해결방법은 해당 행렬을 찾아서 삭제한다.\u001b[39;00m\n",
      "File \u001b[1;32mc:\\Users\\Win10\\Desktop\\python\\helper\\regrassion.py:74\u001b[0m, in \u001b[0;36mmy_linear_regrassion\u001b[1;34m(x_train, y_train, x_test, y_test, cv, degree, use_plot, report, resid_test, figsize, dpi, order)\u001b[0m\n\u001b[0;32m     71\u001b[0m \u001b[38;5;28mprint\u001b[39m(expr, end\u001b[38;5;241m=\u001b[39m\u001b[38;5;124m\"\u001b[39m\u001b[38;5;130;01m\\n\u001b[39;00m\u001b[38;5;130;01m\\n\u001b[39;00m\u001b[38;5;124m\"\u001b[39m)\n\u001b[0;32m     73\u001b[0m \u001b[38;5;28;01mif\u001b[39;00m x_test \u001b[38;5;129;01mis\u001b[39;00m \u001b[38;5;129;01mnot\u001b[39;00m \u001b[38;5;28;01mNone\u001b[39;00m \u001b[38;5;129;01mand\u001b[39;00m y_test \u001b[38;5;129;01mis\u001b[39;00m \u001b[38;5;129;01mnot\u001b[39;00m \u001b[38;5;28;01mNone\u001b[39;00m:\n\u001b[1;32m---> 74\u001b[0m     \u001b[43mmy_linear_regrassion_result\u001b[49m\u001b[43m(\u001b[49m\u001b[43mfit\u001b[49m\u001b[43m,\u001b[49m\u001b[43m \u001b[49m\u001b[43mx_test\u001b[49m\u001b[43m,\u001b[49m\u001b[43m \u001b[49m\u001b[43my_test\u001b[49m\u001b[43m,\u001b[49m\u001b[43m \u001b[49m\u001b[43mdegree\u001b[49m\u001b[43m,\u001b[49m\u001b[43m \u001b[49m\u001b[43muse_plot\u001b[49m\u001b[43m,\u001b[49m\u001b[43m \u001b[49m\u001b[43mreport\u001b[49m\u001b[43m,\u001b[49m\u001b[43m \u001b[49m\u001b[43mresid_test\u001b[49m\u001b[43m,\u001b[49m\u001b[43m \u001b[49m\u001b[43mfigsize\u001b[49m\u001b[43m,\u001b[49m\u001b[43m \u001b[49m\u001b[43mdpi\u001b[49m\u001b[43m,\u001b[49m\u001b[43m \u001b[49m\u001b[43morder\u001b[49m\u001b[43m)\u001b[49m\n\u001b[0;32m     75\u001b[0m \u001b[38;5;28;01melse\u001b[39;00m:\n\u001b[0;32m     76\u001b[0m     my_linear_regrassion_result(fit, x_train, y_train, degree, use_plot, report, resid_test, figsize, dpi, order)\n",
      "File \u001b[1;32mc:\\Users\\Win10\\Desktop\\python\\helper\\regrassion.py:119\u001b[0m, in \u001b[0;36mmy_linear_regrassion_result\u001b[1;34m(fit, x, y, degree, use_plot, report, resid_test, figsize, dpi, order)\u001b[0m\n\u001b[0;32m    117\u001b[0m \u001b[38;5;28;01mif\u001b[39;00m report:\n\u001b[0;32m    118\u001b[0m     \u001b[38;5;28mprint\u001b[39m(\u001b[38;5;124m\"\u001b[39m\u001b[38;5;124m\"\u001b[39m)\n\u001b[1;32m--> 119\u001b[0m     \u001b[43mmy_linear_regrassion_report\u001b[49m\u001b[43m(\u001b[49m\u001b[43mfit\u001b[49m\u001b[43m,\u001b[49m\u001b[43m \u001b[49m\u001b[43mx\u001b[49m\u001b[43m,\u001b[49m\u001b[43m \u001b[49m\u001b[43my\u001b[49m\u001b[43m,\u001b[49m\u001b[43m \u001b[49m\u001b[43morder\u001b[49m\u001b[43m)\u001b[49m\n\u001b[0;32m    121\u001b[0m \u001b[38;5;66;03m# 시각화\u001b[39;00m\n\u001b[0;32m    122\u001b[0m \u001b[38;5;28;01mif\u001b[39;00m use_plot:\n",
      "File \u001b[1;32mc:\\Users\\Win10\\Desktop\\python\\helper\\regrassion.py:187\u001b[0m, in \u001b[0;36mmy_linear_regrassion_report\u001b[1;34m(fit, x, y, order)\u001b[0m\n\u001b[0;32m    184\u001b[0m design_x\u001b[38;5;241m.\u001b[39minsert(\u001b[38;5;241m0\u001b[39m, \u001b[38;5;124m'\u001b[39m\u001b[38;5;124m상수\u001b[39m\u001b[38;5;124m'\u001b[39m, \u001b[38;5;241m1\u001b[39m)\n\u001b[0;32m    186\u001b[0m dot \u001b[38;5;241m=\u001b[39m np\u001b[38;5;241m.\u001b[39mdot(design_x\u001b[38;5;241m.\u001b[39mT,design_x)   \u001b[38;5;66;03m# 행렬곱\u001b[39;00m\n\u001b[1;32m--> 187\u001b[0m inv \u001b[38;5;241m=\u001b[39m \u001b[43mnp\u001b[49m\u001b[38;5;241;43m.\u001b[39;49m\u001b[43mlinalg\u001b[49m\u001b[38;5;241;43m.\u001b[39;49m\u001b[43minv\u001b[49m\u001b[43m(\u001b[49m\u001b[43mdot\u001b[49m\u001b[43m)\u001b[49m            \u001b[38;5;66;03m# 역행렬\u001b[39;00m\n\u001b[0;32m    188\u001b[0m dia \u001b[38;5;241m=\u001b[39m inv\u001b[38;5;241m.\u001b[39mdiagonal()                \u001b[38;5;66;03m# 대각원소\u001b[39;00m\n\u001b[0;32m    190\u001b[0m \u001b[38;5;66;03m# 제곱오차\u001b[39;00m\n",
      "File \u001b[1;32mc:\\Users\\Win10\\AppData\\Local\\Programs\\Python\\Python311\\Lib\\site-packages\\numpy\\linalg\\linalg.py:561\u001b[0m, in \u001b[0;36minv\u001b[1;34m(a)\u001b[0m\n\u001b[0;32m    559\u001b[0m signature \u001b[38;5;241m=\u001b[39m \u001b[38;5;124m'\u001b[39m\u001b[38;5;124mD->D\u001b[39m\u001b[38;5;124m'\u001b[39m \u001b[38;5;28;01mif\u001b[39;00m isComplexType(t) \u001b[38;5;28;01melse\u001b[39;00m \u001b[38;5;124m'\u001b[39m\u001b[38;5;124md->d\u001b[39m\u001b[38;5;124m'\u001b[39m\n\u001b[0;32m    560\u001b[0m extobj \u001b[38;5;241m=\u001b[39m get_linalg_error_extobj(_raise_linalgerror_singular)\n\u001b[1;32m--> 561\u001b[0m ainv \u001b[38;5;241m=\u001b[39m \u001b[43m_umath_linalg\u001b[49m\u001b[38;5;241;43m.\u001b[39;49m\u001b[43minv\u001b[49m\u001b[43m(\u001b[49m\u001b[43ma\u001b[49m\u001b[43m,\u001b[49m\u001b[43m \u001b[49m\u001b[43msignature\u001b[49m\u001b[38;5;241;43m=\u001b[39;49m\u001b[43msignature\u001b[49m\u001b[43m,\u001b[49m\u001b[43m \u001b[49m\u001b[43mextobj\u001b[49m\u001b[38;5;241;43m=\u001b[39;49m\u001b[43mextobj\u001b[49m\u001b[43m)\u001b[49m\n\u001b[0;32m    562\u001b[0m \u001b[38;5;28;01mreturn\u001b[39;00m wrap(ainv\u001b[38;5;241m.\u001b[39mastype(result_t, copy\u001b[38;5;241m=\u001b[39m\u001b[38;5;28;01mFalse\u001b[39;00m))\n",
      "File \u001b[1;32mc:\\Users\\Win10\\AppData\\Local\\Programs\\Python\\Python311\\Lib\\site-packages\\numpy\\linalg\\linalg.py:112\u001b[0m, in \u001b[0;36m_raise_linalgerror_singular\u001b[1;34m(err, flag)\u001b[0m\n\u001b[0;32m    111\u001b[0m \u001b[38;5;28;01mdef\u001b[39;00m \u001b[38;5;21m_raise_linalgerror_singular\u001b[39m(err, flag):\n\u001b[1;32m--> 112\u001b[0m     \u001b[38;5;28;01mraise\u001b[39;00m LinAlgError(\u001b[38;5;124m\"\u001b[39m\u001b[38;5;124mSingular matrix\u001b[39m\u001b[38;5;124m\"\u001b[39m)\n",
      "\u001b[1;31mLinAlgError\u001b[0m: Singular matrix"
     ]
    }
   ],
   "source": [
    "ignore = ignore + ['engine']\n",
    "x_train2 = x_train.drop(ignore,axis=1)\n",
    "x_test2 = x_test.drop(ignore,axis=1)\n",
    "my_linear_regrassion(x_train2, y_train, x_test2, y_test,use_plot=False,resid_test=False)\n",
    "# 0행렬이 포함되어있는경우 `LinAlgError: Singular matrix` 발생, 해결방법은 해당 행렬을 찾아서 삭제한다."
   ]
  }
 ],
 "metadata": {
  "kernelspec": {
   "display_name": "Python 3",
   "language": "python",
   "name": "python3"
  },
  "language_info": {
   "codemirror_mode": {
    "name": "ipython",
    "version": 3
   },
   "file_extension": ".py",
   "mimetype": "text/x-python",
   "name": "python",
   "nbconvert_exporter": "python",
   "pygments_lexer": "ipython3",
   "version": "3.11.8"
  }
 },
 "nbformat": 4,
 "nbformat_minor": 2
}
