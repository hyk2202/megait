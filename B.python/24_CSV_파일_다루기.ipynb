{
 "cells": [
  {
   "cell_type": "markdown",
   "metadata": {},
   "source": [
    "# 24. CSV 파일 다루기\n",
    "## 1. CSV파일의 이해\n"
   ]
  },
  {
   "cell_type": "code",
   "execution_count": 3,
   "metadata": {},
   "outputs": [],
   "source": [
    "grade = [\n",
    "    {'name': '철수', 'kor': 95, 'eng': 88, 'math': 72},\n",
    "    {'name': '영희', 'kor': 92, 'eng': 90, 'math': 95},\n",
    "    {'name': '철민', 'kor': 88, 'eng': 76, 'math': 64}\n",
    "]\n",
    "\n",
    "# encoding을 euc-kr로하면 excell에서 안깨지고 utf-8로하면 visual studio code에서 안깨짐\n",
    "with open('grade.csv','w',encoding='euc-kr') as f:\n",
    "    f.write('이름,국어,영어,수학\\n')\n",
    "    for item in grade:\n",
    "        f.write(f'{item['name']},{item['kor']},{item['eng']},{item['math']}\\n')"
   ]
  },
  {
   "cell_type": "code",
   "execution_count": 5,
   "metadata": {},
   "outputs": [],
   "source": [
    "grade_dic = {\n",
    "    '이름' : ['철수','영희','민철','수현','호영'],\n",
    "    '국어' : [98, 88, 92, 63, 120],\n",
    "    '영어' : [76, 90, 70, 60, 50],\n",
    "    '수학' : [88, 62, 88, 31, 76],\n",
    "    '과학' : [64, 72, 45, 70, 88]\n",
    "}\n",
    "\n",
    "keys = list(grade_dic.keys())\n",
    "title = ','.join(keys)\n",
    "with open('grade2.csv','w',encoding='euc-kr') as f:\n",
    "    f.write(title+'\\n')\n",
    "\n",
    "    for i in range(len(grade_dic['이름'])):\n",
    "        f.write(f'{grade_dic['이름'][i]}, {grade_dic['국어'][i]}, {grade_dic['영어'][i]}, {grade_dic['수학'][i]}, {grade_dic['과학'][i]}\\n')"
   ]
  },
  {
   "cell_type": "code",
   "execution_count": 7,
   "metadata": {},
   "outputs": [
    {
     "name": "stdout",
     "output_type": "stream",
     "text": [
      "['이름,국어,영어,수학\\n', '철수,95,88,72\\n', '영희,92,90,95\\n', '철민,88,76,64\\n']\n"
     ]
    },
    {
     "data": {
      "text/plain": [
       "[{'name': '철수', 'kor': 95, 'eng': 88, 'math': 72},\n",
       " {'name': '영희', 'kor': 92, 'eng': 90, 'math': 95},\n",
       " {'name': '철민', 'kor': 88, 'eng': 76, 'math': 64}]"
      ]
     },
     "execution_count": 7,
     "metadata": {},
     "output_type": "execute_result"
    }
   ],
   "source": [
    "csv_list = None\n",
    "with open('grade.csv','r',encoding='euc-kr') as f:\n",
    "    csv_list = f.readlines()\n",
    "\n",
    "    print(csv_list)\n",
    "\n",
    "    data = []\n",
    "    for i,line in enumerate(csv_list):\n",
    "        if i == 0 : continue\n",
    "\n",
    "        k = line.strip().split(',')\n",
    "\n",
    "        item = {'name': k[0], 'kor':int(k[1]), 'eng': int(k[2]), 'math': int(k[3])}\n",
    "\n",
    "        data.append(item)\n",
    "data\n"
   ]
  },
  {
   "cell_type": "markdown",
   "metadata": {},
   "source": [
    "연구과제"
   ]
  },
  {
   "cell_type": "code",
   "execution_count": 5,
   "metadata": {},
   "outputs": [
    {
     "name": "stdout",
     "output_type": "stream",
     "text": [
      "기간내 발생한 교통사고의 발생건수의 총합은 3084976건수 이고 사망자 수의 총합은 73436명 이며 부상자 수의 총합은 4751813명 입니다.\n",
      "1월달의 평균 교통사고의 발생건수 : 16209.57, 사망자 수 : 408.14, 부상자 수 : 25538.00\n",
      "2월달의 평균 교통사고의 발생건수 : 14889.00, 사망자 수 : 358.86, 부상자 수 : 23368.14\n",
      "3월달의 평균 교통사고의 발생건수 : 17563.79, 사망자 수 : 398.93, 부상자 수 : 26715.07\n",
      "4월달의 평균 교통사고의 발생건수 : 18415.71, 사망자 수 : 405.86, 부상자 수 : 28256.21\n",
      "5월달의 평균 교통사고의 발생건수 : 19566.71, 사망자 수 : 438.79, 부상자 수 : 30056.07\n",
      "6월달의 평균 교통사고의 발생건수 : 18413.79, 사망자 수 : 413.21, 부상자 수 : 27851.14\n",
      "7월달의 평균 교통사고의 발생건수 : 19065.71, 사망자 수 : 430.29, 부상자 수 : 29426.79\n",
      "8월달의 평균 교통사고의 발생건수 : 18900.57, 사망자 수 : 443.93, 부상자 수 : 29899.07\n",
      "9월달의 평균 교통사고의 발생건수 : 19094.86, 사망자 수 : 463.64, 부상자 수 : 29236.43\n",
      "10월달의 평균 교통사고의 발생건수 : 20142.57, 사망자 수 : 527.29, 부상자 수 : 30838.29\n",
      "11월달의 평균 교통사고의 발생건수 : 19639.71, 사망자 수 : 493.64, 부상자 수 : 29863.00\n",
      "12월달의 평균 교통사고의 발생건수 : 18453.43, 사망자 수 : 462.86, 부상자 수 : 28367.00\n"
     ]
    }
   ],
   "source": [
    "with open('traffic_acc.csv','r',encoding='utf-8') as f:\n",
    "    csv_list = f.readlines()\n",
    "    data = []\n",
    "    for i,line in enumerate(csv_list):\n",
    "        if i == 0 : continue\n",
    "        k = line.strip().split(',')\n",
    "        item = {'년도': k[0], '월':int(k[1]), '발생건수': int(k[2]), '사망자수': int(k[3]), '부상자수': int(k[4])}\n",
    "        data.append(item)\n",
    "\n",
    "\n",
    "tot_h = 0 # 총 발생건수\n",
    "tot_d = 0 # 총 사망자 수\n",
    "tot_i = 0 # 총 부상자 수\n",
    "\n",
    "avg_h = [0]*12 # 월 평균 발생건수\n",
    "avg_d = [0]*12 # 월 평균 사망자 수\n",
    "avg_i = [0]*12 # 월 평균 부상자 수\n",
    "count_month = [0]*12 # 발생한 월 수 확인\n",
    "for i in data:\n",
    "    tot_h += i['발생건수']\n",
    "    tot_d += i['사망자수']\n",
    "    tot_i += i['부상자수']\n",
    "    month = i['월'] -1\n",
    "    avg_h[month] += i['발생건수']\n",
    "    avg_d[month] += i['사망자수']\n",
    "    avg_i[month] += i['부상자수']\n",
    "    count_month[month] += 1\n",
    "\n",
    "print(f'기간내 발생한 교통사고의 발생건수의 총합은 {tot_h}건수 이고 사망자 수의 총합은 {tot_d}명 이며 부상자 수의 총합은 {tot_i}명 입니다.')\n",
    "for i in range(12):\n",
    "    print('%s월달의 평균 교통사고의 발생건수 : %0.2f, 사망자 수 : %0.2f, 부상자 수 : %0.2f' % (i+1, avg_h[i]/count_month[i], avg_d[i]/count_month[i], avg_i[i]/count_month[i]))"
   ]
  },
  {
   "cell_type": "code",
   "execution_count": 6,
   "metadata": {},
   "outputs": [
    {
     "data": {
      "text/html": [
       "<div>\n",
       "<style scoped>\n",
       "    .dataframe tbody tr th:only-of-type {\n",
       "        vertical-align: middle;\n",
       "    }\n",
       "\n",
       "    .dataframe tbody tr th {\n",
       "        vertical-align: top;\n",
       "    }\n",
       "\n",
       "    .dataframe thead th {\n",
       "        text-align: right;\n",
       "    }\n",
       "</style>\n",
       "<table border=\"1\" class=\"dataframe\">\n",
       "  <thead>\n",
       "    <tr style=\"text-align: right;\">\n",
       "      <th></th>\n",
       "      <th>발생건수</th>\n",
       "      <th>사망자수</th>\n",
       "      <th>부상자수</th>\n",
       "    </tr>\n",
       "    <tr>\n",
       "      <th>월</th>\n",
       "      <th></th>\n",
       "      <th></th>\n",
       "      <th></th>\n",
       "    </tr>\n",
       "  </thead>\n",
       "  <tbody>\n",
       "    <tr>\n",
       "      <th>1</th>\n",
       "      <td>16209.571429</td>\n",
       "      <td>408.142857</td>\n",
       "      <td>25538.000000</td>\n",
       "    </tr>\n",
       "    <tr>\n",
       "      <th>2</th>\n",
       "      <td>14889.000000</td>\n",
       "      <td>358.857143</td>\n",
       "      <td>23368.142857</td>\n",
       "    </tr>\n",
       "    <tr>\n",
       "      <th>3</th>\n",
       "      <td>17563.785714</td>\n",
       "      <td>398.928571</td>\n",
       "      <td>26715.071429</td>\n",
       "    </tr>\n",
       "    <tr>\n",
       "      <th>4</th>\n",
       "      <td>18415.714286</td>\n",
       "      <td>405.857143</td>\n",
       "      <td>28256.214286</td>\n",
       "    </tr>\n",
       "    <tr>\n",
       "      <th>5</th>\n",
       "      <td>19566.714286</td>\n",
       "      <td>438.785714</td>\n",
       "      <td>30056.071429</td>\n",
       "    </tr>\n",
       "    <tr>\n",
       "      <th>6</th>\n",
       "      <td>18413.785714</td>\n",
       "      <td>413.214286</td>\n",
       "      <td>27851.142857</td>\n",
       "    </tr>\n",
       "    <tr>\n",
       "      <th>7</th>\n",
       "      <td>19065.714286</td>\n",
       "      <td>430.285714</td>\n",
       "      <td>29426.785714</td>\n",
       "    </tr>\n",
       "    <tr>\n",
       "      <th>8</th>\n",
       "      <td>18900.571429</td>\n",
       "      <td>443.928571</td>\n",
       "      <td>29899.071429</td>\n",
       "    </tr>\n",
       "    <tr>\n",
       "      <th>9</th>\n",
       "      <td>19094.857143</td>\n",
       "      <td>463.642857</td>\n",
       "      <td>29236.428571</td>\n",
       "    </tr>\n",
       "    <tr>\n",
       "      <th>10</th>\n",
       "      <td>20142.571429</td>\n",
       "      <td>527.285714</td>\n",
       "      <td>30838.285714</td>\n",
       "    </tr>\n",
       "    <tr>\n",
       "      <th>11</th>\n",
       "      <td>19639.714286</td>\n",
       "      <td>493.642857</td>\n",
       "      <td>29863.000000</td>\n",
       "    </tr>\n",
       "    <tr>\n",
       "      <th>12</th>\n",
       "      <td>18453.428571</td>\n",
       "      <td>462.857143</td>\n",
       "      <td>28367.000000</td>\n",
       "    </tr>\n",
       "  </tbody>\n",
       "</table>\n",
       "</div>"
      ],
      "text/plain": [
       "            발생건수        사망자수          부상자수\n",
       "월                                         \n",
       "1   16209.571429  408.142857  25538.000000\n",
       "2   14889.000000  358.857143  23368.142857\n",
       "3   17563.785714  398.928571  26715.071429\n",
       "4   18415.714286  405.857143  28256.214286\n",
       "5   19566.714286  438.785714  30056.071429\n",
       "6   18413.785714  413.214286  27851.142857\n",
       "7   19065.714286  430.285714  29426.785714\n",
       "8   18900.571429  443.928571  29899.071429\n",
       "9   19094.857143  463.642857  29236.428571\n",
       "10  20142.571429  527.285714  30838.285714\n",
       "11  19639.714286  493.642857  29863.000000\n",
       "12  18453.428571  462.857143  28367.000000"
      ]
     },
     "execution_count": 6,
     "metadata": {},
     "output_type": "execute_result"
    }
   ],
   "source": [
    "from pandas import DataFrame as d\n",
    "df = d(data)\n",
    "df.drop('년도', axis = 1).groupby('월').mean()"
   ]
  },
  {
   "cell_type": "code",
   "execution_count": null,
   "metadata": {},
   "outputs": [],
   "source": []
  }
 ],
 "metadata": {
  "kernelspec": {
   "display_name": "Python 3",
   "language": "python",
   "name": "python3"
  },
  "language_info": {
   "codemirror_mode": {
    "name": "ipython",
    "version": 3
   },
   "file_extension": ".py",
   "mimetype": "text/x-python",
   "name": "python",
   "nbconvert_exporter": "python",
   "pygments_lexer": "ipython3",
   "version": "3.12.0"
  }
 },
 "nbformat": 4,
 "nbformat_minor": 2
}
