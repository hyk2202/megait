{
 "cells": [
  {
   "cell_type": "markdown",
   "metadata": {},
   "source": [
    "# 22. 함수의 이해\n",
    "## 1. 함수 정의하기\n",
    "\n",
    "프로그램에서의 함수\n",
    "\n",
    "=> 특정 기능을 그룹화해서 재사용하기 위한 단위          \n",
    "\n",
    "## 2. 함수의 파라미터\n",
    "\n",
    "함수에 사용될 변수\n",
    "\n",
    "def 함수이름(변수1, 변수2, ...):\n",
    "    \n",
    "    연산식\n",
    "\n",
    "함수이름(값1, 값2, ...)"
   ]
  },
  {
   "cell_type": "code",
   "execution_count": 3,
   "metadata": {},
   "outputs": [],
   "source": [
    "def say_hello():\n",
    "    print('Hello Python')\n",
    "    print('안녕 파이썬')"
   ]
  },
  {
   "cell_type": "code",
   "execution_count": 4,
   "metadata": {},
   "outputs": [
    {
     "name": "stdout",
     "output_type": "stream",
     "text": [
      "Hello Python\n",
      "안녕 파이썬\n",
      "Hello Python\n",
      "안녕 파이썬\n"
     ]
    }
   ],
   "source": [
    "say_hello()\n",
    "say_hello()"
   ]
  },
  {
   "cell_type": "code",
   "execution_count": 5,
   "metadata": {},
   "outputs": [],
   "source": [
    "def f(x):\n",
    "    y = x+1\n",
    "    print(f'f({x}) => {x} + 1 = {y}')"
   ]
  },
  {
   "cell_type": "code",
   "execution_count": 7,
   "metadata": {},
   "outputs": [
    {
     "name": "stdout",
     "output_type": "stream",
     "text": [
      "f(2) => 2 + 1 = 3\n",
      "f(3) => 3 + 1 = 4\n"
     ]
    }
   ],
   "source": [
    "f(2)\n",
    "f(3)"
   ]
  },
  {
   "cell_type": "code",
   "execution_count": 8,
   "metadata": {},
   "outputs": [
    {
     "ename": "TypeError",
     "evalue": "f() missing 1 required positional argument: 'x'",
     "output_type": "error",
     "traceback": [
      "\u001b[1;31m---------------------------------------------------------------------------\u001b[0m",
      "\u001b[1;31mTypeError\u001b[0m                                 Traceback (most recent call last)",
      "\u001b[1;32mc:\\Users\\김한열\\Desktop\\산대특\\python\\22_함수의_이해.ipynb 셀 6\u001b[0m line \u001b[0;36m1\n\u001b[1;32m----> <a href='vscode-notebook-cell:/c%3A/Users/%EA%B9%80%ED%95%9C%EC%97%B4/Desktop/%EC%82%B0%EB%8C%80%ED%8A%B9/python/22_%ED%95%A8%EC%88%98%EC%9D%98_%EC%9D%B4%ED%95%B4.ipynb#X10sZmlsZQ%3D%3D?line=0'>1</a>\u001b[0m f()\n",
      "\u001b[1;31mTypeError\u001b[0m: f() missing 1 required positional argument: 'x'"
     ]
    }
   ],
   "source": [
    "f()"
   ]
  },
  {
   "cell_type": "code",
   "execution_count": 12,
   "metadata": {},
   "outputs": [],
   "source": [
    "def hello(x,y):\n",
    "    z = x + y\n",
    "    print(f'hello({x},{y}) => {x} + {y} = {z}')"
   ]
  },
  {
   "cell_type": "code",
   "execution_count": 13,
   "metadata": {},
   "outputs": [
    {
     "name": "stdout",
     "output_type": "stream",
     "text": [
      "hello(2,1) => 2 + 1 = 3\n",
      "hello(5,3) => 5 + 3 = 8\n"
     ]
    }
   ],
   "source": [
    "hello(2, 1)\n",
    "hello(5, 3)"
   ]
  },
  {
   "cell_type": "markdown",
   "metadata": {},
   "source": [
    "함수에서 기본값이 주어져있는 파라미터는 생략 가능하다\n",
    "\n",
    "def hello(a,b,c =0):\n",
    "\n",
    "    d = a+b+c+d\n",
    "\n",
    "    print(d)\n",
    "\n",
    "hello(x,y)\n",
    "\n",
    "=> x+y+0\n",
    "\n",
    "함수에서 기본값은 뒤에있는 변수부터 주어야한다\n",
    "\n",
    "def hello(x=0, y=1, z): \n",
    "\n",
    "의 형태는 에러발생\n",
    "\n",
    "def hello(a,b,c):\n",
    "    d =a+2*b+3*c\n",
    "\n",
    "hello(b=5,c=3,a=2) 으로 표현가능 // 변수이름을 지정함으로써 순서와 상관없이 해당변수값에 대입됨\n"
   ]
  },
  {
   "cell_type": "code",
   "execution_count": null,
   "metadata": {},
   "outputs": [],
   "source": []
  },
  {
   "cell_type": "markdown",
   "metadata": {},
   "source": [
    "## 3. 함수의 리턴값\n",
    "\n",
    "함수가 연산결과를 자신이 호출된 위치에 반환하는 것을 리턴이라 하며 반환되는값을 리턴값이라 한다.\n",
    "\n",
    "함수는 'return' 키워드를 만나면 그 즉시 수행을 중단한다.\n"
   ]
  },
  {
   "cell_type": "code",
   "execution_count": null,
   "metadata": {},
   "outputs": [],
   "source": [
    "def foo(x,y):\n",
    "    if x<10 or y<10 :\n",
    "        return 0\n",
    "    \n",
    "    z = x + y\n",
    "    return z"
   ]
  }
 ],
 "metadata": {
  "kernelspec": {
   "display_name": "Python 3",
   "language": "python",
   "name": "python3"
  },
  "language_info": {
   "codemirror_mode": {
    "name": "ipython",
    "version": 3
   },
   "file_extension": ".py",
   "mimetype": "text/x-python",
   "name": "python",
   "nbconvert_exporter": "python",
   "pygments_lexer": "ipython3",
   "version": "3.12.0"
  }
 },
 "nbformat": 4,
 "nbformat_minor": 2
}
