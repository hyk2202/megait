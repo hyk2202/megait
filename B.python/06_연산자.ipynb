{
 "cells": [
  {
   "cell_type": "markdown",
   "metadata": {},
   "source": [
    "# 06. 연산자\n",
    "\n",
    "## 1. 연산자의 종류\n",
    "\n"
   ]
  },
  {
   "cell_type": "code",
   "execution_count": null,
   "metadata": {},
   "outputs": [],
   "source": []
  },
  {
   "cell_type": "code",
   "execution_count": 29,
   "metadata": {},
   "outputs": [
    {
     "name": "stdout",
     "output_type": "stream",
     "text": [
      "False\n",
      "False\n"
     ]
    }
   ],
   "source": [
    "x = 100\n",
    "y = 100.0\n"
   ]
  },
  {
   "cell_type": "code",
   "execution_count": 30,
   "metadata": {},
   "outputs": [],
   "source": [
    "# == && is\n",
    "# == : 두 변수의 내용이 일치하면 True\n",
    "# is : 두 변수의 주소값이 일치하면 True\n",
    "# != && is not"
   ]
  },
  {
   "cell_type": "code",
   "execution_count": 14,
   "metadata": {},
   "outputs": [
    {
     "name": "stdout",
     "output_type": "stream",
     "text": [
      "23920000\n",
      "1947000.0\n"
     ]
    }
   ],
   "source": [
    "daum_value = 89000\n",
    "naver_value = 751000\n",
    "def total(daum_num,naver_num):\n",
    "    global daum_value, naver_value\n",
    "    return daum_num*daum_value+naver_num*naver_value\n",
    "# 1번풀이\n",
    "A = total(100,20)\n",
    "print(A)\n",
    "# 2번 풀이\n",
    "daum_value *= 0.05\n",
    "naver_value *= 0.10\n",
    "A_loss = total(100,20)\n",
    "print(A_loss)\n"
   ]
  },
  {
   "cell_type": "code",
   "execution_count": 1,
   "metadata": {},
   "outputs": [
    {
     "name": "stdout",
     "output_type": "stream",
     "text": [
      "BMI수치는 1.0입니다.\n"
     ]
    }
   ],
   "source": [
    "myWeight = float(input(\"몸무게를 입력해주세요(단위 : kg)\"))\n",
    "myHeight = float(input(\"키를 입력해주세요(단위 : m)\"))\n",
    "BMI = str(myWeight/pow(myHeight,2))[:str(myWeight/pow(myHeight,2)).index('.')+3]\n",
    "print(f'BMI수치는 {BMI}입니다.')"
   ]
  },
  {
   "cell_type": "markdown",
   "metadata": {},
   "source": [
    "### 연산자 우선순위\n",
    "\n",
    "![그림](연산자_우선순위.png)"
   ]
  }
 ],
 "metadata": {
  "kernelspec": {
   "display_name": "Python 3",
   "language": "python",
   "name": "python3"
  },
  "language_info": {
   "codemirror_mode": {
    "name": "ipython",
    "version": 3
   },
   "file_extension": ".py",
   "mimetype": "text/x-python",
   "name": "python",
   "nbconvert_exporter": "python",
   "pygments_lexer": "ipython3",
   "version": "3.12.0"
  }
 },
 "nbformat": 4,
 "nbformat_minor": 2
}
