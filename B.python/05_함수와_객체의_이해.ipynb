{
 "cells": [
  {
   "cell_type": "markdown",
   "metadata": {},
   "source": [
    "# 05. 함수와 객체의 이해\n",
    "## 1. 함수의 이해\n",
    "### 함수의 정의와 호출"
   ]
  },
  {
   "cell_type": "code",
   "execution_count": 62,
   "metadata": {},
   "outputs": [],
   "source": [
    "# 함수 정의하기\n",
    "def f(x):\n",
    "    return 2*x+1"
   ]
  },
  {
   "cell_type": "code",
   "execution_count": 63,
   "metadata": {},
   "outputs": [
    {
     "name": "stdout",
     "output_type": "stream",
     "text": [
      "5\n"
     ]
    }
   ],
   "source": [
    "# 함수 사용하기 (1)\n",
    "y = f(2)\n",
    "print(y)"
   ]
  },
  {
   "cell_type": "code",
   "execution_count": 64,
   "metadata": {},
   "outputs": [
    {
     "name": "stdout",
     "output_type": "stream",
     "text": [
      "11\n"
     ]
    }
   ],
   "source": [
    "# 함수 사용하기(2)\n",
    "z = f(5)\n",
    "print(z)\n",
    "\n",
    "\n",
    "# jupyter 환경은 코드 블록이 서로 다르더라도 \n",
    "# 이전에 실행된 내역을 모두 기억하고있기 때문에 코드의 진행이 서로 연결된다.\n"
   ]
  },
  {
   "cell_type": "markdown",
   "metadata": {},
   "source": [
    "### 내장함수 "
   ]
  },
  {
   "cell_type": "code",
   "execution_count": 65,
   "metadata": {},
   "outputs": [
    {
     "name": "stdout",
     "output_type": "stream",
     "text": [
      "<class 'int'>\n"
     ]
    }
   ],
   "source": [
    "# 정수형 변수의 데이터 타입 확인\n",
    "age = 20\n",
    "typeOfAge = type(age)\n",
    "print(typeOfAge)"
   ]
  },
  {
   "cell_type": "code",
   "execution_count": 66,
   "metadata": {},
   "outputs": [
    {
     "name": "stdout",
     "output_type": "stream",
     "text": [
      "<class 'str'>\n"
     ]
    }
   ],
   "source": [
    "# 문자열 변수의 데이터 타입 확인\n",
    "message = 'Hello Python'\n",
    "typeOfMessage = type(message)\n",
    "print(typeOfMessage)"
   ]
  },
  {
   "cell_type": "code",
   "execution_count": 67,
   "metadata": {},
   "outputs": [
    {
     "name": "stdout",
     "output_type": "stream",
     "text": [
      "<class 'float'>\n"
     ]
    }
   ],
   "source": [
    "# 실수형 변수의 데이터 타입 확인\n",
    "pi = 3.14\n",
    "typeOfPi = type(pi)\n",
    "print(typeOfPi)"
   ]
  },
  {
   "cell_type": "code",
   "execution_count": 68,
   "metadata": {},
   "outputs": [
    {
     "name": "stdout",
     "output_type": "stream",
     "text": [
      "<class 'bool'>\n"
     ]
    }
   ],
   "source": [
    "# 논리형 변수의 데이터 타입 확인\n",
    "ok = True\n",
    "typeOfOk = type(ok)\n",
    "print(typeOfOk)"
   ]
  },
  {
   "cell_type": "code",
   "execution_count": 69,
   "metadata": {},
   "outputs": [],
   "source": [
    "msg1 =input(\"메시지를 입력하세요\")\n",
    "print(msg1)"
   ]
  },
  {
   "cell_type": "code",
   "execution_count": null,
   "metadata": {},
   "outputs": [
    {
     "ename": "ValueError",
     "evalue": "invalid literal for int() with base 10: ''",
     "output_type": "error",
     "traceback": [
      "\u001b[1;31m---------------------------------------------------------------------------\u001b[0m",
      "\u001b[1;31mValueError\u001b[0m                                Traceback (most recent call last)",
      "\u001b[1;32mc:\\Users\\김한열\\Desktop\\산대특\\python\\05_함수와_객체의_이해.ipynb 셀 11\u001b[0m line \u001b[0;36m3\n\u001b[0;32m      <a href='vscode-notebook-cell:/c%3A/Users/%EA%B9%80%ED%95%9C%EC%97%B4/Desktop/%EC%82%B0%EB%8C%80%ED%8A%B9/python/05_%ED%95%A8%EC%88%98%EC%99%80_%EA%B0%9D%EC%B2%B4%EC%9D%98_%EC%9D%B4%ED%95%B4.ipynb#X15sZmlsZQ%3D%3D?line=0'>1</a>\u001b[0m \u001b[39m# 입력받은 값을 정수 타입으로 변환\u001b[39;00m\n\u001b[0;32m      <a href='vscode-notebook-cell:/c%3A/Users/%EA%B9%80%ED%95%9C%EC%97%B4/Desktop/%EC%82%B0%EB%8C%80%ED%8A%B9/python/05_%ED%95%A8%EC%88%98%EC%99%80_%EA%B0%9D%EC%B2%B4%EC%9D%98_%EC%9D%B4%ED%95%B4.ipynb#X15sZmlsZQ%3D%3D?line=1'>2</a>\u001b[0m msg2 \u001b[39m=\u001b[39m \u001b[39minput\u001b[39m(\u001b[39m'\u001b[39m\u001b[39m정수를 입력하세요\u001b[39m\u001b[39m'\u001b[39m)\n\u001b[1;32m----> <a href='vscode-notebook-cell:/c%3A/Users/%EA%B9%80%ED%95%9C%EC%97%B4/Desktop/%EC%82%B0%EB%8C%80%ED%8A%B9/python/05_%ED%95%A8%EC%88%98%EC%99%80_%EA%B0%9D%EC%B2%B4%EC%9D%98_%EC%9D%B4%ED%95%B4.ipynb#X15sZmlsZQ%3D%3D?line=2'>3</a>\u001b[0m num \u001b[39m=\u001b[39m \u001b[39mint\u001b[39;49m(msg2)\n\u001b[0;32m      <a href='vscode-notebook-cell:/c%3A/Users/%EA%B9%80%ED%95%9C%EC%97%B4/Desktop/%EC%82%B0%EB%8C%80%ED%8A%B9/python/05_%ED%95%A8%EC%88%98%EC%99%80_%EA%B0%9D%EC%B2%B4%EC%9D%98_%EC%9D%B4%ED%95%B4.ipynb#X15sZmlsZQ%3D%3D?line=3'>4</a>\u001b[0m \u001b[39mprint\u001b[39m(num)\n",
      "\u001b[1;31mValueError\u001b[0m: invalid literal for int() with base 10: ''"
     ]
    }
   ],
   "source": [
    "# 입력받은 값을 정수 타입으로 변환\n",
    "msg2 = input('정수를 입력하세요')\n",
    "num = int(msg2)\n",
    "print(num)"
   ]
  },
  {
   "cell_type": "code",
   "execution_count": null,
   "metadata": {},
   "outputs": [
    {
     "name": "stdout",
     "output_type": "stream",
     "text": [
      "<class 'int'>\n"
     ]
    }
   ],
   "source": [
    "# 변환 결과의 데이터 타입 확인 --> 정수(int)\n",
    "num_type = type(num)\n",
    "print(num_type)"
   ]
  },
  {
   "cell_type": "code",
   "execution_count": null,
   "metadata": {},
   "outputs": [
    {
     "name": "stdout",
     "output_type": "stream",
     "text": [
      "1.0\n"
     ]
    }
   ],
   "source": [
    "# 입력받은 값을 실수 타입으로 변환\n",
    "msg2 = input('실수를 입력하세요')\n",
    "float_num = float(msg2)\n",
    "print(float_num)\n",
    "\n",
    "# 변환 결과의 데이터 타입 확인 --> 실수(float)\n",
    "float_type = type(float_num)\n",
    "print(float_type)"
   ]
  },
  {
   "cell_type": "code",
   "execution_count": null,
   "metadata": {},
   "outputs": [
    {
     "name": "stdout",
     "output_type": "stream",
     "text": [
      "100.0\n",
      "<class 'float'>\n"
     ]
    }
   ],
   "source": [
    "# 정수를 실수로 변환 --> 정수뒤에 '.0'이 추가됨\n",
    "num1 = 100\n",
    "num2 = float(num1)\n",
    "print(num2)\n",
    "\n",
    "# 변환 결과의 데이터 타입 확인 --> 실수(float)\n",
    "t1 = type(num2)\n",
    "print(t1)"
   ]
  },
  {
   "cell_type": "code",
   "execution_count": null,
   "metadata": {},
   "outputs": [
    {
     "name": "stdout",
     "output_type": "stream",
     "text": [
      "123\n",
      "<class 'int'>\n"
     ]
    }
   ],
   "source": [
    "# 실수를 정수로 변환 --> 소수점 버림\n",
    "num3 = 123.78\n",
    "num4 = int(num3)\n",
    "print(num4)\n",
    "\n",
    "# 변환 결과의 데이터 타입 확인 --> 정수(int)\n",
    "t2 = type(num4)\n",
    "print(t2)"
   ]
  },
  {
   "cell_type": "code",
   "execution_count": null,
   "metadata": {},
   "outputs": [
    {
     "name": "stdout",
     "output_type": "stream",
     "text": [
      "Lifeisshort\n",
      "Life is short\n",
      "Lifeisshort\n",
      "Lifeisshort\n",
      "Lifeisshort\n",
      "Lifeisshort\n"
     ]
    }
   ],
   "source": [
    "# 문자열 연결 및 출력\n",
    "# +연산 : 공백과 동일\n",
    "# print(\"Life\"\"is\"\"short\")\n",
    "# print(\"Life\" \"is\" \"short\")\n",
    "# print(\"Life\"+\"is\"+\"short\")\n",
    "# print함수의 default end option = '\\n'\n",
    "# ,로 입력할시 기본설정  : sep = ' '\n",
    "# f, %\n",
    "A = 'Life'\n",
    "B = 'is'\n",
    "C = 'short'\n",
    "print(A+B+C)\n",
    "print(A,B,C)\n",
    "print(A,B,C,sep = '')\n",
    "print(f'{A}{B}{C}')\n",
    "print('%s%s%s' %(A,B,C))\n",
    "print('{0}{1}{2}'.format(A,B,C))"
   ]
  },
  {
   "cell_type": "markdown",
   "metadata": {},
   "source": [
    "## 객체의 이해"
   ]
  },
  {
   "cell_type": "code",
   "execution_count": 2,
   "metadata": {},
   "outputs": [
    {
     "name": "stdout",
     "output_type": "stream",
     "text": [
      "4\n",
      "3\n"
     ]
    }
   ],
   "source": [
    "# 실수형 변수의 초기화\n",
    "pi = 3.14\n",
    "\n",
    "# 객체 포함되는 메서드 활용하기 --> 소수점 올림\n",
    "a = pi.__ceil__()\n",
    "print(a)\n",
    "\n",
    "# 객체 포함되는 메서드 활용하기 --> 소수점 내림\n",
    "b = pi.__floor__()\n",
    "print(b)"
   ]
  },
  {
   "cell_type": "code",
   "execution_count": null,
   "metadata": {},
   "outputs": [],
   "source": [
    "# 변수A = 변수B 의 경우 \n",
    "# Immutable type: Tuple, int, String, Frozenset\n",
    "# mutable type: List, Dictionary, Set\n",
    "# A,B 둘다 mitable하면 같은 주소값을 가르키는것이 되어 A를 변경시 B도 변경이 되어 보여진다(같은 주소값을 가르키고있으므로)\n"
   ]
  }
 ],
 "metadata": {
  "kernelspec": {
   "display_name": "Python 3",
   "language": "python",
   "name": "python3"
  },
  "language_info": {
   "codemirror_mode": {
    "name": "ipython",
    "version": 3
   },
   "file_extension": ".py",
   "mimetype": "text/x-python",
   "name": "python",
   "nbconvert_exporter": "python",
   "pygments_lexer": "ipython3",
   "version": "3.12.0"
  }
 },
 "nbformat": 4,
 "nbformat_minor": 2
}
