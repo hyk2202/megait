{
 "cells": [
  {
   "cell_type": "markdown",
   "metadata": {},
   "source": [
    "google 앱비밀번호 : \n",
    "ppaqsmytiefdsdvb"
   ]
  },
  {
   "cell_type": "markdown",
   "metadata": {},
   "source": [
    "![30_01](30_01.png)"
   ]
  },
  {
   "cell_type": "code",
   "execution_count": 1,
   "metadata": {},
   "outputs": [],
   "source": [
    "import os.path\n",
    "from smtplib import SMTP\n",
    "from email.mime.text import MIMEText\n",
    "from email.mime.application import MIMEApplication\n",
    "from email.mime.multipart import MIMEMultipart\n",
    "\n",
    "# 보내는 사람 주소( 로그인 계정과 동일)\n",
    "from_addr = 'hyk2202@gmail.com'\n",
    "\n",
    "to_addr = 'hanyoul0107@naver.com'\n",
    "\n",
    "subject = '파이썬 메일 발송 테스트 입니다.'\n",
    "\n",
    "content = '''안녕하세요. 파이썬으로 발송하는 메일입니다.\n",
    "잘 발송되는지 확인해 보도록 하겠습니다.\n",
    "'''\n",
    "# 첨부파일이 필요한 경우 ( 파일이 실제로 존재해야 하고 그 안에 내용이 없으면 0byte여서 오류발생)\n",
    "\n",
    "# 컨텐츠(본문;contetn) 형식 plain; txt/ html; html"
   ]
  },
  {
   "cell_type": "code",
   "execution_count": 2,
   "metadata": {},
   "outputs": [
    {
     "data": {
      "text/plain": [
       "(221,\n",
       " b'2.0.0 closing connection q32-20020a17090a17a300b002860a7acca1sm373968pja.10 - gsmtp')"
      ]
     },
     "execution_count": 2,
     "metadata": {},
     "output_type": "execute_result"
    }
   ],
   "source": [
    "files = [\"hello.txt\",'world.txt']\n",
    "content_type = 'plain'\n",
    "username = 'hyk2202@gmail.com' # 네이버 : 아이디 , 구글 : 메일주소\n",
    "password = 'ppaqsmytiefdsdvb' # 네이버 : 개인 비밀번호 or 애플리케이션 비밀번호(2차 보호 사용시) , 구글 : 앱 비밀번호\n",
    "\n",
    "smtp = 'smtp.gmail.com'\n",
    "port = 587 # 구글 발송 서버주소와 포트번호 ( 고정값)\n",
    "# 네이버 : smtp.naver.com / 465\n",
    "\n",
    "msg = MIMEMultipart()\n",
    "msg['Subject'] = subject\n",
    "msg['From'] = from_addr\n",
    "msg['To'] = to_addr\n",
    "\n",
    "msg.attach(MIMEText(content, content_type))\n",
    "\n",
    "if files:\n",
    "    for f in files:\n",
    "        # 바이너리 형식으로 읽기( 첨부파일이 txt파일이 아닐시 바이너리로 읽어야함)\n",
    "        # 바이너리로 읽을시 encoding 없음( 이미 바이너리로 변환완료)\n",
    "        with open(f, 'rb') as a_file:\n",
    "            basename = os.path.basename(f)\n",
    "            part = MIMEApplication(a_file.read(),Name = basename)\n",
    "\n",
    "            part['Content-Disposition'] = 'attachment; filename=\"%s\"' % basename\n",
    "        msg.attach(part)\n",
    "\n",
    "mail = SMTP(smtp)\n",
    "mail.ehlo()\n",
    "mail.starttls()\n",
    "mail.login(username, password)\n",
    "mail.sendmail(from_addr, to_addr, msg.as_string())\n",
    "mail.quit()"
   ]
  }
 ],
 "metadata": {
  "kernelspec": {
   "display_name": "Python 3",
   "language": "python",
   "name": "python3"
  },
  "language_info": {
   "codemirror_mode": {
    "name": "ipython",
    "version": 3
   },
   "file_extension": ".py",
   "mimetype": "text/x-python",
   "name": "python",
   "nbconvert_exporter": "python",
   "pygments_lexer": "ipython3",
   "version": "3.12.0"
  }
 },
 "nbformat": 4,
 "nbformat_minor": 2
}
