{
 "cells": [
  {
   "cell_type": "code",
   "execution_count": 23,
   "metadata": {},
   "outputs": [],
   "source": [
    "import MyMailer\n",
    "import datetime as dt\n",
    "\n",
    "today = dt.datetime.now()\n",
    "year = today.year\n",
    "month = today.month\n",
    "day = today.day\n",
    "\n",
    "# 메일 발신자 정보\n",
    "fromAddr = '운영지원팀 <hyk2202@gmail.com>'\n",
    "\n",
    "# 메일 제목을 위한 템플릿\n",
    "subjectTmpl = '{name}님의 {yy}년 {mm}월 급여명세서 입니다.'\n",
    "\n",
    "with open('mail/content.txt','r',encoding='utf-8') as f:\n",
    "    contentTmpl = f.read()\n",
    "\n",
    "with open('mail/mail_list.csv','r',encoding='euc-kr') as f:\n",
    "    csv = f.readlines()\n",
    "    # print(csv)\n",
    "\n",
    "    for line in csv:\n",
    "        name,email,file1,file2 = line.strip().split(',')\n",
    "        # print(name)\n",
    "\n",
    "        toAddr = '{name} <{email}>'.format(name=name,email=email)\n",
    "        # print(toAddr)\n",
    "\n",
    "        subject = subjectTmpl.format(name =name, yy = year, mm = month)\n",
    "        # print(subject)\n",
    "\n",
    "        content = contentTmpl.format(name = name, yy = year, mm = month, dd= day)\n",
    "        # print(content)\n",
    "\n",
    "        MyMailer.sendMail(fromAddr, toAddr, subject, content, [file1, file2])\n",
    "    "
   ]
  }
 ],
 "metadata": {
  "kernelspec": {
   "display_name": "Python 3",
   "language": "python",
   "name": "python3"
  },
  "language_info": {
   "codemirror_mode": {
    "name": "ipython",
    "version": 3
   },
   "file_extension": ".py",
   "mimetype": "text/x-python",
   "name": "python",
   "nbconvert_exporter": "python",
   "pygments_lexer": "ipython3",
   "version": "3.12.0"
  }
 },
 "nbformat": 4,
 "nbformat_minor": 2
}
