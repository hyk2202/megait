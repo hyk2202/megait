{
 "cells": [
  {
   "cell_type": "markdown",
   "metadata": {},
   "source": [
    "# 33. 예외처리\n",
    "\n",
    "## #01. 에러의 종류\n",
    "\n",
    "예외처리란, 에러에 대비하기 위한 코드 작성규칙 : try - except - finally"
   ]
  },
  {
   "cell_type": "code",
   "execution_count": 38,
   "metadata": {},
   "outputs": [
    {
     "name": "stdout",
     "output_type": "stream",
     "text": [
      "a\n",
      "1 에러입니다/\n",
      "d\n"
     ]
    }
   ],
   "source": [
    "try:\n",
    "    x = int(input(\"숫자를 입력하세요.\"))\n",
    "except ValueError:\n",
    "    print('숫자만 입력하세요')\n",
    "    \n",
    "except ZeroDivisionError:\n",
    "    print('0으로 나눌 수 없습니다.')\n",
    "finally:\n",
    "    print('프로그램이 실행되었습니다.')\n"
   ]
  },
  {
   "cell_type": "markdown",
   "metadata": {},
   "source": [
    "## 예외 강제발생\n",
    "\n",
    "``` python\n",
    "raise ValueError('숫자를 입력하세요')\n",
    "\n",
    "```"
   ]
  },
  {
   "cell_type": "code",
   "execution_count": 40,
   "metadata": {},
   "outputs": [
    {
     "ename": "ValueError",
     "evalue": "숫자를 입력하세요",
     "output_type": "error",
     "traceback": [
      "\u001b[1;31m---------------------------------------------------------------------------\u001b[0m",
      "\u001b[1;31mValueError\u001b[0m                                Traceback (most recent call last)",
      "\u001b[1;32mc:\\Users\\김한열\\Desktop\\산대특\\python\\33_예외처리.ipynb 셀 4\u001b[0m line \u001b[0;36m1\n\u001b[1;32m----> <a href='vscode-notebook-cell:/c%3A/Users/%EA%B9%80%ED%95%9C%EC%97%B4/Desktop/%EC%82%B0%EB%8C%80%ED%8A%B9/python/33_%EC%98%88%EC%99%B8%EC%B2%98%EB%A6%AC.ipynb#X10sZmlsZQ%3D%3D?line=0'>1</a>\u001b[0m \u001b[39mraise\u001b[39;00m \u001b[39mValueError\u001b[39;00m(\u001b[39m'\u001b[39m\u001b[39m숫자를 입력하세요\u001b[39m\u001b[39m'\u001b[39m)\n",
      "\u001b[1;31mValueError\u001b[0m: 숫자를 입력하세요"
     ]
    }
   ],
   "source": [
    "raise ValueError('숫자를 입력하세요')"
   ]
  },
  {
   "cell_type": "markdown",
   "metadata": {},
   "source": [
    "사용예시"
   ]
  },
  {
   "cell_type": "code",
   "execution_count": 42,
   "metadata": {},
   "outputs": [],
   "source": [
    "def Login(userId,userPw):\n",
    "    if not userId:\n",
    "        raise Exception('아이디를 입력하세요')\n",
    "    if not userPw:\n",
    "        raise Exception('비밀번호를 입력하세요')\n",
    "    \n",
    "    return 1"
   ]
  },
  {
   "cell_type": "code",
   "execution_count": 44,
   "metadata": {},
   "outputs": [
    {
     "name": "stdout",
     "output_type": "stream",
     "text": [
      "로그인에 실패했습니다. 아이디를 입력하세요\n",
      "로그인에 실패했습니다. 비밀번호를 입력하세요\n",
      "로그인 성공\n"
     ]
    }
   ],
   "source": [
    "try :\n",
    "    Login('','1234')\n",
    "    print('로그인 성공')\n",
    "except Exception as e :\n",
    "    print('로그인에 실패했습니다.', e)\n",
    "try :\n",
    "    Login('user','')\n",
    "    print('로그인 성공')\n",
    "except Exception as e :\n",
    "    print('로그인에 실패했습니다.', e)\n",
    "try :\n",
    "    Login('user','1234')\n",
    "    print('로그인 성공')\n",
    "except Exception as e :\n",
    "    print('로그인에 실패했습니다.', e)"
   ]
  }
 ],
 "metadata": {
  "kernelspec": {
   "display_name": "Python 3",
   "language": "python",
   "name": "python3"
  },
  "language_info": {
   "codemirror_mode": {
    "name": "ipython",
    "version": 3
   },
   "file_extension": ".py",
   "mimetype": "text/x-python",
   "name": "python",
   "nbconvert_exporter": "python",
   "pygments_lexer": "ipython3",
   "version": "3.12.0"
  }
 },
 "nbformat": 4,
 "nbformat_minor": 2
}
