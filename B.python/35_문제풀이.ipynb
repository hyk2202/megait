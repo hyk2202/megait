{
 "cells": [
  {
   "cell_type": "markdown",
   "metadata": {},
   "source": [
    "![img](35_01.png)"
   ]
  },
  {
   "cell_type": "code",
   "execution_count": 120,
   "metadata": {},
   "outputs": [
    {
     "name": "stdout",
     "output_type": "stream",
     "text": [
      "유효한 주민등록번호입니다.\n"
     ]
    }
   ],
   "source": [
    "A = input(\"주민등록번호를입력하세요(숫자만 입력하세요)\") # 1234567891232\n",
    "B = [2,3,4,5,6,7,8,9,2,3,4,5]\n",
    "temp = 0\n",
    "for i in range(len(A)-1):\n",
    "    temp += int(A[i])*B[i]\n",
    "if (11-temp%11)%10 == int(A[-1]) :\n",
    "    print('유효한 주민등록번호입니다.')\n",
    "else : print('유효하지 않은 주민등록번호입니다.')"
   ]
  },
  {
   "cell_type": "markdown",
   "metadata": {},
   "source": [
    "![img](35_02.png)"
   ]
  },
  {
   "cell_type": "code",
   "execution_count": 122,
   "metadata": {},
   "outputs": [
    {
     "data": {
      "text/plain": [
       "[26, 14, 27, 22, 3, 7]"
      ]
     },
     "execution_count": 122,
     "metadata": {},
     "output_type": "execute_result"
    }
   ],
   "source": [
    "import random\n",
    "\n",
    "A = [None]*6\n",
    "i = 0\n",
    "while i<6:\n",
    "    a = random.randint(1,45)\n",
    "    if a not in A:\n",
    "        A[i] = a\n",
    "        i +=1"
   ]
  }
 ],
 "metadata": {
  "kernelspec": {
   "display_name": "Python 3",
   "language": "python",
   "name": "python3"
  },
  "language_info": {
   "codemirror_mode": {
    "name": "ipython",
    "version": 3
   },
   "file_extension": ".py",
   "mimetype": "text/x-python",
   "name": "python",
   "nbconvert_exporter": "python",
   "pygments_lexer": "ipython3",
   "version": "3.12.0"
  }
 },
 "nbformat": 4,
 "nbformat_minor": 2
}
