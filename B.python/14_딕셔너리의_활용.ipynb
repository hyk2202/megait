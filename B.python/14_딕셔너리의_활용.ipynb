{
 "cells": [
  {
   "cell_type": "markdown",
   "metadata": {},
   "source": [
    "# 14.딕셔너리의 활용\n",
    "## 1. 딕셔너리 관련 내장함수\n",
    "=> len, del\n",
    "\n",
    "## 2. 딕셔너리 관련 메서드\n",
    "=> get() : 특정 key에 대응하는 값 얻기 (해당 key가 없을 경우 None이 반환)\n",
    "\n",
    "=> .keys() .values() .items() .copy() \n",
    "\n",
    "=> .clear() : 모든원소 삭제"
   ]
  },
  {
   "cell_type": "code",
   "execution_count": 5,
   "metadata": {},
   "outputs": [
    {
     "data": {
      "text/plain": [
       "dict_keys(['a', 'b'])"
      ]
     },
     "execution_count": 5,
     "metadata": {},
     "output_type": "execute_result"
    }
   ],
   "source": [
    "A = {'a': 100, 'b':200}\n",
    "B = A.keys()\n",
    "B"
   ]
  },
  {
   "cell_type": "markdown",
   "metadata": {},
   "source": [
    "=> .update(~) : 리스트의 extend기능과 유사함"
   ]
  },
  {
   "cell_type": "code",
   "execution_count": 7,
   "metadata": {},
   "outputs": [
    {
     "data": {
      "text/plain": [
       "{0: 15, 1: 13, 2: 14, 4: 16}"
      ]
     },
     "execution_count": 7,
     "metadata": {},
     "output_type": "execute_result"
    }
   ],
   "source": [
    "A = {0:12,1:13,2:14}\n",
    "B = {0:15,4:16}\n",
    "A.update(B) ## 같은 key를 가질경우 새로 덮어씀\n",
    "A"
   ]
  }
 ],
 "metadata": {
  "kernelspec": {
   "display_name": "Python 3",
   "language": "python",
   "name": "python3"
  },
  "language_info": {
   "codemirror_mode": {
    "name": "ipython",
    "version": 3
   },
   "file_extension": ".py",
   "mimetype": "text/x-python",
   "name": "python",
   "nbconvert_exporter": "python",
   "pygments_lexer": "ipython3",
   "version": "3.12.0"
  }
 },
 "nbformat": 4,
 "nbformat_minor": 2
}
