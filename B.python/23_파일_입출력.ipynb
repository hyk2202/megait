{
 "cells": [
  {
   "cell_type": "markdown",
   "metadata": {},
   "source": [
    "# 23. 파일 입출력\n",
    "## 1.파일 입출력 객체를 위한 open()함수\n",
    "\n",
    "입출력 = I/O  (Input/Output)\n",
    "\n"
   ]
  },
  {
   "cell_type": "markdown",
   "metadata": {},
   "source": [
    "경로 : 파일이 있는 폴더위치 + \\ 파일이름\n",
    "\n",
    "절대경로 : C:\\Users\\김한열\\Desktop\\산대특\\python\\23_파일_입출력.ipynb\n",
    "\n",
    "=> 작업중인 위치랑 상관없이 같은 문자열로 접근할 수 있는 경로\n",
    "\n",
    "상대경로 : (./)23_파일_입출력.ipynb\n",
    "\n",
    "=> 현재 작업중인 파일의 위치를 기준으로 탐색하는 방식"
   ]
  },
  {
   "cell_type": "code",
   "execution_count": 4,
   "metadata": {},
   "outputs": [],
   "source": [
    "# open \n",
    "# -> 파일 경로와 파일 열기 모드 설정\n",
    "# -> r : 읽기모드\n",
    "#    w : 쓰기모드(기존의 내용을 덮어쓴다.)\n",
    "#    a : 추가모드(기존의 내용을 유지하고 뒤에 추가)\n",
    "\n",
    "\n",
    "f = open('helloworld.txt','w',encoding='utf-8')\n",
    "\n",
    "f.write('Hello Python!!!\\n')\n",
    "f.write('안녕하세요. 파이썬!!!\\n')\n",
    "f.close()"
   ]
  },
  {
   "cell_type": "code",
   "execution_count": 6,
   "metadata": {},
   "outputs": [
    {
     "name": "stdout",
     "output_type": "stream",
     "text": [
      "Hello Python!!!\n",
      "안녕하세요. 파이썬!!!\n",
      "\n"
     ]
    }
   ],
   "source": [
    "f = open('helloworld.txt','r',encoding='utf-8')\n",
    "\n",
    "data = f.read()\n",
    "print(data)\n",
    "f.close()"
   ]
  },
  {
   "cell_type": "markdown",
   "metadata": {},
   "source": [
    "with문 \n",
    "with가 끝나고나면 f가 삭제처리(자동닫힘)\n",
    "\n",
    ".strip() : 공백제거 + \\n 제거\n",
    " => 외부데이터 가져와서 읽을때마다 .strip()처리해줄것"
   ]
  },
  {
   "cell_type": "code",
   "execution_count": 9,
   "metadata": {},
   "outputs": [
    {
     "name": "stdout",
     "output_type": "stream",
     "text": [
      "파일 저장이 완료되었습니다.\n"
     ]
    }
   ],
   "source": [
    "with open('hellopython.txt','w',encoding='utf-8') as f:\n",
    "    # with 블록 안에서만 파일 객체 f가 유효함\n",
    "    for i in range(10):\n",
    "        f.write(f'{i} >>')\n",
    "        f.write('Life is too short, ')\n",
    "        f.write('you need python\\n')\n",
    "\n",
    "    print('파일 저장이 완료되었습니다.')"
   ]
  },
  {
   "cell_type": "code",
   "execution_count": 11,
   "metadata": {},
   "outputs": [
    {
     "name": "stdout",
     "output_type": "stream",
     "text": [
      "0 >>Life is too short, you need python\n",
      "1 >>Life is too short, you need python\n",
      "2 >>Life is too short, you need python\n",
      "3 >>Life is too short, you need python\n",
      "4 >>Life is too short, you need python\n",
      "5 >>Life is too short, you need python\n",
      "6 >>Life is too short, you need python\n",
      "7 >>Life is too short, you need python\n",
      "8 >>Life is too short, you need python\n",
      "9 >>Life is too short, you need python\n",
      "\n"
     ]
    }
   ],
   "source": [
    "with open('hellopython.txt','r',encoding='utf-8') as f:\n",
    "    data = f.read()\n",
    "    print(data)"
   ]
  },
  {
   "cell_type": "code",
   "execution_count": 14,
   "metadata": {},
   "outputs": [
    {
     "name": "stdout",
     "output_type": "stream",
     "text": [
      "['Hello Python!!!\\n', '안녕하세요. 파이썬!!!\\n']\n",
      "------------------------------\n",
      "읽어들인 데이터는 총 2줄 입니다.\n",
      "------------------------------\n",
      "Hello Python!!!\n",
      "안녕하세요. 파이썬!!!\n"
     ]
    }
   ],
   "source": [
    "with open('helloworld.txt','r',encoding='utf-8') as f:\n",
    "    lines = f.readlines()\n",
    "    print(lines)\n",
    "    print('-'*30)\n",
    "\n",
    "    print(f'읽어들인 데이터는 총 {len(lines)}줄 입니다.')\n",
    "    print('-'*30)\n",
    "\n",
    "    for item in lines:\n",
    "        print(item.strip())\n",
    "        "
   ]
  }
 ],
 "metadata": {
  "kernelspec": {
   "display_name": "Python 3",
   "language": "python",
   "name": "python3"
  },
  "language_info": {
   "codemirror_mode": {
    "name": "ipython",
    "version": 3
   },
   "file_extension": ".py",
   "mimetype": "text/x-python",
   "name": "python",
   "nbconvert_exporter": "python",
   "pygments_lexer": "ipython3",
   "version": "3.12.0"
  }
 },
 "nbformat": 4,
 "nbformat_minor": 2
}
