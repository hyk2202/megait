{
 "cells": [
  {
   "cell_type": "markdown",
   "metadata": {},
   "source": [
    "# 중간점검 문제"
   ]
  },
  {
   "cell_type": "code",
   "execution_count": null,
   "metadata": {},
   "outputs": [],
   "source": [
    "temp = 1\n",
    "while temp <11:\n",
    "    print(f'이진수 {temp}개는 {2**temp}의 정보를 표시 가능')\n",
    "    temp +=1"
   ]
  },
  {
   "cell_type": "code",
   "execution_count": null,
   "metadata": {},
   "outputs": [],
   "source": [
    "a = 11\n",
    "for temp in range(1,a):\n",
    "    print(f'이진수 {temp}개는 {2**temp}의 정보를 표시 가능')"
   ]
  },
  {
   "cell_type": "code",
   "execution_count": null,
   "metadata": {},
   "outputs": [],
   "source": [
    "for i in range(4):\n",
    "    for j in range(4):\n",
    "        print(f'{i+j}',end = ' ')\n",
    "    print('')"
   ]
  },
  {
   "cell_type": "code",
   "execution_count": null,
   "metadata": {},
   "outputs": [],
   "source": [
    "for i in range(1,8):\n",
    "    a = ''\n",
    "    for j in range(1,i+1):\n",
    "        a +=str(j)\n",
    "    print(a)"
   ]
  },
  {
   "cell_type": "code",
   "execution_count": null,
   "metadata": {},
   "outputs": [],
   "source": [
    "a = '1234657'\n",
    "for i in range(len(a)):\n",
    "    print(f'{a[:i+1]}')"
   ]
  },
  {
   "cell_type": "code",
   "execution_count": null,
   "metadata": {},
   "outputs": [],
   "source": [
    "number = int(input('1 또는 2를 입력하세요'))\n",
    "for i in range(2,10):    \n",
    "    if i%2 == number%2:\n",
    "        for j in range(1,10):\n",
    "            print(f'{i} * {j} = {i*j}')"
   ]
  },
  {
   "cell_type": "code",
   "execution_count": null,
   "metadata": {},
   "outputs": [],
   "source": [
    "number = int(input('1 또는 2를 입력하세요'))\n",
    "for i in range(4-number,10,2):    \n",
    "    for j in range(1,10):\n",
    "        print(f'{i} * {j} = {i*j}')"
   ]
  },
  {
   "cell_type": "code",
   "execution_count": null,
   "metadata": {},
   "outputs": [],
   "source": [
    "mylist = [True,False,False,True,False]\n",
    "\n",
    "# for i in range(len(mylist)):\n",
    "#     mylist[i] = not mylist[i]\n",
    "\n",
    "for i,v in enumerate(mylist):\n",
    "    mylist[i] = not v\n",
    "mylist"
   ]
  },
  {
   "cell_type": "code",
   "execution_count": null,
   "metadata": {},
   "outputs": [],
   "source": [
    "A = [7,5,8,6,6,7,10]\n",
    "money = 0\n",
    "for i in range(len(A)):\n",
    "    if i <5 :\n",
    "        x = 10000\n",
    "    else:\n",
    "        x = 17000\n",
    "    money += i*x\n",
    "\n",
    "10000*sum(A[:5])+sum(A[5:])*17000"
   ]
  },
  {
   "cell_type": "code",
   "execution_count": 37,
   "metadata": {},
   "outputs": [
    {
     "data": {
      "text/plain": [
       "451200"
      ]
     },
     "execution_count": 37,
     "metadata": {},
     "output_type": "execute_result"
    }
   ],
   "source": [
    "price = [38000, 20000, 17900, 17900]\n",
    "qty = [6,4,3,5]\n",
    "sum_price = []\n",
    "money = 0\n",
    "# for i in range(len(price)):\n",
    "#     sum_price.append(price[i]*qty[i])\n",
    "#     money += price[i]*qty[i]\n",
    "for a,b in zip(price,qty):\n",
    "    money += a*b\n",
    "    sum_price.append(a*b)\n",
    "money\n"
   ]
  },
  {
   "cell_type": "code",
   "execution_count": 40,
   "metadata": {},
   "outputs": [
    {
     "data": {
      "text/plain": [
       "228000"
      ]
     },
     "execution_count": 40,
     "metadata": {},
     "output_type": "execute_result"
    }
   ],
   "source": [
    "# max(sum_price)\n",
    "\n",
    "a = price[0]*qty[0]\n",
    "for i in range(1,len(price)):\n",
    "    # a = max(a,price[0]*qty[0])\n",
    "    if a < price[i]*qty[i]: a = price[i]*qty[i]\n",
    "a"
   ]
  },
  {
   "cell_type": "code",
   "execution_count": null,
   "metadata": {},
   "outputs": [],
   "source": [
    "temp = 0\n",
    "for i in sum_price:\n",
    "    if i>=80000 :temp+=1\n",
    "temp"
   ]
  },
  {
   "cell_type": "code",
   "execution_count": 50,
   "metadata": {},
   "outputs": [
    {
     "data": {
      "text/plain": [
       "['민영', '세정', '승기', '재석', '광수', '종민']"
      ]
     },
     "execution_count": 50,
     "metadata": {},
     "output_type": "execute_result"
    }
   ],
   "source": [
    "names = ['재석','민영','종민','광수','승기','세정']\n",
    "points=[82,91,54,62,88,90]\n",
    "result = []\n",
    "for i in sorted(points,reverse = True):\n",
    "    a = points.index(i)\n",
    "    result.append(names[a])\n",
    "    points[a] = -1 # 동점처리\n",
    "result\n",
    "\n",
    "# for i in range(len(points)-1):\n",
    "#     for j in range(i+1,len(points)):\n",
    "#         if points[i] < points[j]:\n",
    "#             points[i], points[j] = points[j], points[i]\n",
    "#             names[i], names[j] = names[j], names[i]\n",
    "# names"
   ]
  },
  {
   "cell_type": "code",
   "execution_count": 53,
   "metadata": {},
   "outputs": [
    {
     "data": {
      "text/plain": [
       "[[1, 0, 0, 0, 0],\n",
       " [0, 1, 0, 0, 0],\n",
       " [0, 0, 1, 0, 0],\n",
       " [0, 0, 0, 1, 0],\n",
       " [0, 0, 0, 0, 1]]"
      ]
     },
     "execution_count": 53,
     "metadata": {},
     "output_type": "execute_result"
    }
   ],
   "source": [
    "array =[[None for x in range(5)] for x in range(5) ]\n",
    "for i in range(len(array)):\n",
    "    for j in range(len(array[i])):\n",
    "        if i==j :array[i][j] =1\n",
    "        else : array[i][j]=0\n",
    "array"
   ]
  },
  {
   "cell_type": "code",
   "execution_count": 56,
   "metadata": {},
   "outputs": [
    {
     "name": "stdout",
     "output_type": "stream",
     "text": [
      "가져올 수 있는 카드의 수: 3장\n",
      "1번째 >> 5\n",
      "4번째 >> Q\n",
      "5번째 >> A\n",
      "1번째 >> 5\n",
      "4번째 >> Q\n",
      "5번째 >> A\n",
      "가져올 수 있는 카드의 수: 3장\n"
     ]
    }
   ],
   "source": [
    "A = ['1', '5', '7', 'J', 'Q', 'A']\n",
    "B = ['2', '3', '4', '5', 'Q', 'K', 'A']\n",
    "temp = []\n",
    "for i,v in enumerate(A):\n",
    "    if v in B: temp.append([i,v])\n",
    "print(f'가져올 수 있는 카드의 수: {len(temp)}장')\n",
    "for i,v in temp:\n",
    "    print(f'{i}번째 >> {v}')\n",
    "\n",
    "# count = 0\n",
    "# for y in B:\n",
    "#     for i, c in enumerate(A):\n",
    "#         if y == c :\n",
    "#             count +=1\n",
    "#             print(f'{i}번째 >> {c}')\n",
    "#             break\n",
    "\n",
    "# print(f'가져올 수 있는 카드의 수: {count}장')"
   ]
  },
  {
   "cell_type": "code",
   "execution_count": 65,
   "metadata": {},
   "outputs": [
    {
     "name": "stdout",
     "output_type": "stream",
     "text": [
      "누적 확진자 수: 3346\n",
      "평균 확진자 수: 418.25\n"
     ]
    }
   ],
   "source": [
    "covid19 = [ \n",
    "    {'date': '0125', 'active': 426},  \n",
    "    {'date': '0126', 'active': 343},  \n",
    "    {'date': '0127', 'active': 547},  \n",
    "    {'date': '0128', 'active': 490},  \n",
    "    {'date': '0129', 'active': 460},  \n",
    "    {'date': '0130', 'active': 443},  \n",
    "    {'date': '0131', 'active': 338},  \n",
    "    {'date': '0201', 'active': 299}, \n",
    "] \n",
    "sum_num = 0\n",
    "for i in covid19:\n",
    "    sum_num += i['active']\n",
    "\n",
    "print(f'누적 확진자 수: {sum_num}')\n",
    "print('평균 확진자 수: %0.2f' % (sum_num/len(covid19))) # %f 는 반올림"
   ]
  },
  {
   "cell_type": "code",
   "execution_count": null,
   "metadata": {},
   "outputs": [],
   "source": [
    "count = 0\n",
    "date = ''\n",
    "for i in covid19:\n",
    "    if count < i['active']:\n",
    "        count = i['active']\n",
    "        date = i['date']\n",
    "print(f'확진자가 가장 많이 나타난 날: {date}')"
   ]
  }
 ],
 "metadata": {
  "kernelspec": {
   "display_name": "Python 3",
   "language": "python",
   "name": "python3"
  },
  "language_info": {
   "codemirror_mode": {
    "name": "ipython",
    "version": 3
   },
   "file_extension": ".py",
   "mimetype": "text/x-python",
   "name": "python",
   "nbconvert_exporter": "python",
   "pygments_lexer": "ipython3",
   "version": "3.12.0"
  }
 },
 "nbformat": 4,
 "nbformat_minor": 2
}
