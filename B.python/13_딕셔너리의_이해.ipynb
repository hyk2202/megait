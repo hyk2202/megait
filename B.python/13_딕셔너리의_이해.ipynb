{
 "cells": [
  {
   "cell_type": "markdown",
   "metadata": {},
   "source": [
    "# 13. 딕셔너리의 이해\n",
    "## 1. 딕셔너리의 이해\n",
    "### 딕셔너리의 기본 형식/ 사용 제약/ 확장 \n",
    "\n",
    "기본형식\n",
    "\n",
    "변수이름 = {＂이름＂: ＂값＂, ＂이름＂: ＂값＂, ... , ＂이름＂: ＂값＂}\n",
    "\n"
   ]
  },
  {
   "cell_type": "markdown",
   "metadata": {},
   "source": [
    "## 2. 다양한 형태의 자료구조\n",
    "### 딕셔너리를 활용한 자료구조의 유형\n",
    "\n",
    "리스트를 원소로 갖는 딕셔너리\n",
    "\n",
    "변수이름 = { '이름' : [값0, 값1, 값2]}\n",
    "\n",
    "딕션너리를 원소로 갖는 리스트\n",
    "\n",
    "리스트 = [ {\"이름1\":값1, \"이름2\":값2}, {\"이름3\":값3, \"이름4\":값4} ]\n",
    "\n",
    "딕셔너리를 원소로 갖는 딕셔너리\n",
    "\n",
    "딕셔너리 = { \"이름1\" : { \"key1\" : value1, \"key2\": value2 } }\n",
    "\n",
    "딕셔너리의 계층화 구조(****)\n",
    "\n",
    "딕셔너리를 원소로 갖는 리스트를 원소로 갖는 딕셔너리가 포함된 딕셔너리\n",
    "\n",
    "딕셔너리 = { \"이름\" : [ {...}, {...}, {...} ] }\n",
    "\n",
    "len(딕셔너리) = 딕셔너리의 키의 수"
   ]
  },
  {
   "cell_type": "code",
   "execution_count": 5,
   "metadata": {},
   "outputs": [
    {
     "data": {
      "text/plain": [
       "2"
      ]
     },
     "execution_count": 5,
     "metadata": {},
     "output_type": "execute_result"
    }
   ],
   "source": [
    "A={0:[1,2],1:[1,2,3]}\n",
    "len(A)"
   ]
  },
  {
   "cell_type": "code",
   "execution_count": null,
   "metadata": {},
   "outputs": [],
   "source": []
  }
 ],
 "metadata": {
  "kernelspec": {
   "display_name": "Python 3",
   "language": "python",
   "name": "python3"
  },
  "language_info": {
   "codemirror_mode": {
    "name": "ipython",
    "version": 3
   },
   "file_extension": ".py",
   "mimetype": "text/x-python",
   "name": "python",
   "nbconvert_exporter": "python",
   "pygments_lexer": "ipython3",
   "version": "3.12.0"
  }
 },
 "nbformat": 4,
 "nbformat_minor": 2
}
