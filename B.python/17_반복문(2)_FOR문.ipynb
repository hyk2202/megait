{
 "cells": [
  {
   "cell_type": "markdown",
   "metadata": {},
   "source": [
    "# 17 반복문(2) - FOR문\n",
    "\n",
    "A_l = [1,2,3]\n",
    "\n",
    "for i in A_l:\n",
    "\n",
    "for i in range(len(A_l)):\n",
    "\n",
    "for i,v in enrmerate(A_l):\n",
    "\n",
    "의 형태로 사용됨"
   ]
  },
  {
   "cell_type": "code",
   "execution_count": 5,
   "metadata": {},
   "outputs": [
    {
     "name": "stdout",
     "output_type": "stream",
     "text": [
      "5 * 1 = 50\n",
      "5 * 2 = 50\n",
      "5 * 3 = 50\n",
      "5 * 4 = 50\n",
      "5 * 5 = 50\n",
      "5 * 6 = 50\n",
      "5 * 7 = 50\n",
      "5 * 8 = 50\n",
      "5 * 9 = 50\n"
     ]
    }
   ],
   "source": [
    "x = 5 # 1~9\n",
    "a = 10\n",
    "for i in range(1,a):\n",
    "    print(f'{x} * {i} = {x*a}')"
   ]
  },
  {
   "cell_type": "code",
   "execution_count": 6,
   "metadata": {},
   "outputs": [
    {
     "name": "stdout",
     "output_type": "stream",
     "text": [
      "x = 1, sum = 1\n",
      "x = 2, sum = 3\n",
      "x = 3, sum = 6\n",
      "x = 4, sum = 10\n",
      "x = 5, sum = 15\n",
      "x = 6, sum = 21\n",
      "x = 7, sum = 28\n",
      "x = 8, sum = 36\n",
      "x = 9, sum = 45\n",
      "x = 10, sum = 55\n"
     ]
    }
   ],
   "source": [
    "a = 0\n",
    "for i in range(1, 11):\n",
    "    a += i\n",
    "    print(f'x = {i}, sum = {a}')"
   ]
  },
  {
   "cell_type": "code",
   "execution_count": 9,
   "metadata": {},
   "outputs": [
    {
     "name": "stdout",
     "output_type": "stream",
     "text": [
      "a = 0\n",
      "a = 10\n",
      "a = 20\n",
      "a = 30\n",
      "a = 40\n",
      "--------------------\n",
      "b = 10\n",
      "b = 8\n",
      "b = 6\n",
      "b = 4\n",
      "b = 2\n"
     ]
    }
   ],
   "source": [
    "for i in range(0,50,10):\n",
    "    print(f'a = {i}')\n",
    "\n",
    "print('-'*20)\n",
    "for i in range(10,0,-2):\n",
    "    print(f'b = {i}')"
   ]
  },
  {
   "cell_type": "code",
   "execution_count": 11,
   "metadata": {},
   "outputs": [
    {
     "name": "stdout",
     "output_type": "stream",
     "text": [
      "1번째 원소: 봄\n",
      "2번째 원소: 여름\n",
      "3번째 원소: 가을\n",
      "4번째 원소: 겨울\n"
     ]
    }
   ],
   "source": [
    "A = ['봄','여름','가을','겨울']\n",
    "\n",
    "for i in range(len(A)):\n",
    "    print(f'{i+1}번째 원소: {A[i]}')"
   ]
  },
  {
   "cell_type": "code",
   "execution_count": null,
   "metadata": {},
   "outputs": [],
   "source": [
    "msg = ['python','is','good']\n",
    "for i in msg:\n",
    "    print(i)"
   ]
  },
  {
   "cell_type": "code",
   "execution_count": 13,
   "metadata": {},
   "outputs": [
    {
     "name": "stdout",
     "output_type": "stream",
     "text": [
      "총점 : 407, 평균 : 81\n"
     ]
    }
   ],
   "source": [
    "score = [100,82,98,76,51]\n",
    "tot = 0\n",
    "for i in score:\n",
    "    tot += i\n",
    "\n",
    "\n",
    "avg = tot//len(score)\n",
    "\n",
    "print(f'총점 : {tot}, 평균 : {avg}')"
   ]
  },
  {
   "cell_type": "code",
   "execution_count": 14,
   "metadata": {},
   "outputs": [
    {
     "name": "stdout",
     "output_type": "stream",
     "text": [
      "1번째 점수>>100\n",
      "2번째 점수>>82\n",
      "3번째 점수>>98\n",
      "4번째 점수>>76\n",
      "5번째 점수>>51\n"
     ]
    }
   ],
   "source": [
    "score = [100,82,98,76,51]\n",
    "for i,v in enumerate(score):\n",
    "    print(f'{i+1}번째 점수>>{score[i]}')"
   ]
  },
  {
   "cell_type": "code",
   "execution_count": null,
   "metadata": {},
   "outputs": [],
   "source": []
  },
  {
   "cell_type": "markdown",
   "metadata": {},
   "source": [
    "enumerate(리스트) : (인덱스,원소)의형태로 변형해줌"
   ]
  },
  {
   "cell_type": "markdown",
   "metadata": {},
   "source": [
    "연구과제 - 팩토리얼구하기"
   ]
  },
  {
   "cell_type": "code",
   "execution_count": 16,
   "metadata": {},
   "outputs": [
    {
     "name": "stdout",
     "output_type": "stream",
     "text": [
      "150의 팩토리얼은 57133839564458545904789328652610540031895535786011264182548375833179829124845398393126574488675311145377107878746854204162666250198684504466355949195922066574942592095735778929325357290444962472405416790722118445437122269675520000000000000000000000000000000000000입니다.\n"
     ]
    }
   ],
   "source": [
    "x = int(input('숫자를입력하세요'))\n",
    "result = 1\n",
    "for i in range(1,x+1):\n",
    "    result *=i\n",
    "print(f'{x}의 팩토리얼은 {result}입니다.')"
   ]
  }
 ],
 "metadata": {
  "kernelspec": {
   "display_name": "Python 3",
   "language": "python",
   "name": "python3"
  },
  "language_info": {
   "codemirror_mode": {
    "name": "ipython",
    "version": 3
   },
   "file_extension": ".py",
   "mimetype": "text/x-python",
   "name": "python",
   "nbconvert_exporter": "python",
   "pygments_lexer": "ipython3",
   "version": "3.12.0"
  }
 },
 "nbformat": 4,
 "nbformat_minor": 2
}
