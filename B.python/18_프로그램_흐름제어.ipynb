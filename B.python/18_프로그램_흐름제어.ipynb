{
 "cells": [
  {
   "cell_type": "markdown",
   "metadata": {},
   "source": [
    "연구과제 1 - 두개의 주사위 던지기\n"
   ]
  },
  {
   "cell_type": "code",
   "execution_count": 2,
   "metadata": {},
   "outputs": [
    {
     "name": "stdout",
     "output_type": "stream",
     "text": [
      "[ 1, 5 ]\n",
      "[ 2, 4 ]\n",
      "[ 3, 3 ]\n",
      "[ 4, 2 ]\n",
      "[ 5, 1 ]\n",
      "경우의 수는 5개 입니다.\n"
     ]
    }
   ],
   "source": [
    "A = [1,2,3,4,5,6]\n",
    "temp = 0\n",
    "for i in A: # range(1,7)로 대체가능\n",
    "    for j in A:\n",
    "        if i+j ==6 :\n",
    "            temp += 1\n",
    "            print(f'[ {i}, {j} ]')\n",
    "print(f'경우의 수는 {temp}개 입니다.')"
   ]
  },
  {
   "cell_type": "markdown",
   "metadata": {},
   "source": [
    "연구과제2 - 공배수 구하기"
   ]
  },
  {
   "cell_type": "code",
   "execution_count": 6,
   "metadata": {},
   "outputs": [
    {
     "name": "stdout",
     "output_type": "stream",
     "text": [
      "12와 1의 공배수는 [12, 24, 36, 48, 60, 72, 84, 96]입니다.\n",
      "12와 1의 공배수의 총합은 432입니다.\n"
     ]
    }
   ],
   "source": [
    "x = int(input('수를 입력해주세요'))\n",
    "y = int(input('수를 입력해주세요'))\n",
    "\n",
    "temp = []\n",
    "for i in range(1,101):\n",
    "    if i%x == 0 and i%y == 0:\n",
    "        temp.append(i)\n",
    "\n",
    "print(f'{x}와 {y}의 공배수는 {temp}입니다.')\n",
    "print(f'{x}와 {y}의 공배수의 총합은 {sum(temp)}입니다.')"
   ]
  },
  {
   "cell_type": "code",
   "execution_count": null,
   "metadata": {},
   "outputs": [],
   "source": [
    "import copy\n",
    "\n",
    "copy.deepcopy"
   ]
  }
 ],
 "metadata": {
  "kernelspec": {
   "display_name": "Python 3",
   "language": "python",
   "name": "python3"
  },
  "language_info": {
   "codemirror_mode": {
    "name": "ipython",
    "version": 3
   },
   "file_extension": ".py",
   "mimetype": "text/x-python",
   "name": "python",
   "nbconvert_exporter": "python",
   "pygments_lexer": "ipython3",
   "version": "3.12.0"
  }
 },
 "nbformat": 4,
 "nbformat_minor": 2
}
