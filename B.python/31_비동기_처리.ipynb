{
 "cells": [
  {
   "cell_type": "markdown",
   "metadata": {},
   "source": [
    "동기처리 : 직렬(순차적)로 작업을 수행하는 방식\n",
    "\n",
    "전체 실행 시간이 느림\n",
    "\n",
    "비동기 처리 : 병렬(동시)로 작업을 수행하는 방식"
   ]
  },
  {
   "cell_type": "code",
   "execution_count": 8,
   "metadata": {},
   "outputs": [],
   "source": [
    "# 딜레이 제공 \n",
    "import time\n",
    "\n",
    "# 날짜 처리\n",
    "import datetime as dt\n",
    "\n",
    "# 메일발송(처리속도차이확인)\n",
    "import MyMailer\n",
    "\n",
    "# 비동기 처리 기능 제공\n",
    "import concurrent.futures as futures\n",
    "\n"
   ]
  },
  {
   "cell_type": "code",
   "execution_count": 9,
   "metadata": {},
   "outputs": [],
   "source": [
    "def timeWork(name,seconds):\n",
    "    print(f'[{name}] 작업을 {seconds}초 동안 수행합니다.')\n",
    "    for i in range(seconds):\n",
    "        time.sleep(1)\n",
    "        print(f'[{name}] {i+1}초...')\n",
    "\n",
    "    print(f\"[{name}] 작업이 종료되었습니다.\")"
   ]
  },
  {
   "cell_type": "code",
   "execution_count": 6,
   "metadata": {},
   "outputs": [
    {
     "name": "stdout",
     "output_type": "stream",
     "text": [
      "[A] 작업을 3초 동안 수행합니다.\n",
      "[A] 1초...\n",
      "[A] 2초...\n",
      "[A] 3초...\n",
      "[A] 작업이 종료되었습니다.\n",
      "[B] 작업을 5초 동안 수행합니다.\n",
      "[B] 1초...\n",
      "[B] 2초...\n",
      "[B] 3초...\n",
      "[B] 4초...\n",
      "[B] 5초...\n",
      "[B] 작업이 종료되었습니다.\n",
      "[C] 작업을 2초 동안 수행합니다.\n",
      "[C] 1초...\n",
      "[C] 2초...\n",
      "[C] 작업이 종료되었습니다.\n",
      "작업에 소요된 시간은 총 10초 입니다.\n"
     ]
    }
   ],
   "source": [
    "startTime = dt.datetime.now()\n",
    "\n",
    "\n",
    "timeWork('B', 5)\n",
    "timeWork('C', 2)\n",
    "\n",
    "endTime = dt.datetime.now()\n",
    "workTime = endTime - startTime\n",
    "print(f'작업에 소요된 시간은 총 {workTime.seconds}초 입니다.')"
   ]
  },
  {
   "cell_type": "code",
   "execution_count": 11,
   "metadata": {},
   "outputs": [
    {
     "name": "stdout",
     "output_type": "stream",
     "text": [
      "[A] 작업을 3초 동안 수행합니다.\n",
      "[B] 작업을 5초 동안 수행합니다.\n",
      "[C] 작업을 2초 동안 수행합니다.\n",
      "[A] 1초...[B] 1초...\n",
      "\n",
      "[C] 1초...\n",
      "[A] 2초...[B] 2초...\n",
      "\n",
      "[C] 2초...\n",
      "[C] 작업이 종료되었습니다.\n",
      "[B] 3초...[A] 3초...\n",
      "[A] 작업이 종료되었습니다.\n",
      "\n",
      "[B] 4초...\n",
      "[B] 5초...\n",
      "[B] 작업이 종료되었습니다.\n",
      "작업에 소요된 시간은 총 5초 입니다.\n"
     ]
    }
   ],
   "source": [
    "startTime = dt.datetime.now()\n",
    "\n",
    "with futures.ThreadPoolExecutor(max_workers=3) as executor:\n",
    "    executor.submit(timeWork,'A', 3)\n",
    "    executor.submit(timeWork,'B', 5)\n",
    "    executor.submit(timeWork,'C', 2)\n",
    "\n",
    "endTime = dt.datetime.now()\n",
    "workTime = endTime - startTime\n",
    "print(f'작업에 소요된 시간은 총 {workTime.seconds}초 입니다.')"
   ]
  },
  {
   "cell_type": "code",
   "execution_count": 12,
   "metadata": {},
   "outputs": [
    {
     "name": "stdout",
     "output_type": "stream",
     "text": [
      "작업에 소요된 시간은 총 34초 입니다.\n"
     ]
    }
   ],
   "source": [
    "today = dt.datetime.now()\n",
    "year = today.year\n",
    "month = today.month\n",
    "day = today.day\n",
    "\n",
    "fromAddr = '운영지원팀 <hyk2202@gmail.com>'\n",
    "\n",
    "subjectTmpl = '{name}님의 {yy}년 {mm}월 급여명세서 입니다.'\n",
    "\n",
    "startTime = dt.datetime.now()\n",
    "\n",
    "with open('mail/content.txt','r',encoding='utf-8') as f:\n",
    "    contentTmpl = f.read()\n",
    "\n",
    "with open('mail/mail_list.csv','r',encoding='euc-kr') as f:\n",
    "    csv = f.readlines()\n",
    "    # print(csv)\n",
    "\n",
    "    for line in csv:\n",
    "        name,email,file1,file2 = line.strip().split(',')\n",
    "        # print(name)\n",
    "\n",
    "        toAddr = '{name} <{email}>'.format(name=name,email=email)\n",
    "        # print(toAddr)\n",
    "\n",
    "        subject = subjectTmpl.format(name =name, yy = year, mm = month)\n",
    "        # print(subject)\n",
    "\n",
    "        content = contentTmpl.format(name = name, yy = year, mm = month, dd= day)\n",
    "        # print(content)\n",
    "\n",
    "        MyMailer.sendMail(fromAddr, toAddr, subject, content, [file1, file2])\n",
    "\n",
    "endTime = dt.datetime.now()\n",
    "workTime = endTime - startTime\n",
    "print(f'작업에 소요된 시간은 총 {workTime.seconds}초 입니다.')\n",
    "    "
   ]
  },
  {
   "cell_type": "code",
   "execution_count": 13,
   "metadata": {},
   "outputs": [
    {
     "name": "stdout",
     "output_type": "stream",
     "text": [
      "작업에 소요된 시간은 총 3초 입니다.\n"
     ]
    }
   ],
   "source": [
    "startTime = dt.datetime.now()\n",
    "\n",
    "with open('mail/content.txt','r',encoding='utf-8') as f:\n",
    "    contentTmpl = f.read()\n",
    "\n",
    "with open('mail/mail_list.csv','r',encoding='euc-kr') as f:\n",
    "    csv = f.readlines()\n",
    "    # print(csv)\n",
    "\n",
    "    with futures.ThreadPoolExecutor(max_workers=10) as executor:\n",
    "        for line in csv:\n",
    "            name,email,file1,file2 = line.strip().split(',')\n",
    "            # print(name)\n",
    "\n",
    "            toAddr = '{name} <{email}>'.format(name=name,email=email)\n",
    "            # print(toAddr)\n",
    "\n",
    "            subject = subjectTmpl.format(name =name, yy = year, mm = month)\n",
    "            # print(subject)\n",
    "\n",
    "            content = contentTmpl.format(name = name, yy = year, mm = month, dd= day)\n",
    "            # print(content)\n",
    "\n",
    "            # MyMailer.sendMail(fromAddr, toAddr, subject, content, [file1, file2])\n",
    "            executor.submit(MyMailer.sendMail, fromAddr, toAddr, subject, content, [file1, file2])\n",
    "\n",
    "endTime = dt.datetime.now()\n",
    "workTime = endTime - startTime\n",
    "print(f'작업에 소요된 시간은 총 {workTime.seconds}초 입니다.')\n",
    "    "
   ]
  }
 ],
 "metadata": {
  "kernelspec": {
   "display_name": "Python 3",
   "language": "python",
   "name": "python3"
  },
  "language_info": {
   "codemirror_mode": {
    "name": "ipython",
    "version": 3
   },
   "file_extension": ".py",
   "mimetype": "text/x-python",
   "name": "python",
   "nbconvert_exporter": "python",
   "pygments_lexer": "ipython3",
   "version": "3.12.0"
  }
 },
 "nbformat": 4,
 "nbformat_minor": 2
}
