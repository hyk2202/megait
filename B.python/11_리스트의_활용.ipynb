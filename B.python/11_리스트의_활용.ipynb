{
 "cells": [
  {
   "cell_type": "markdown",
   "metadata": {},
   "source": [
    "# 11. 리스트의 활용\n",
    "## 1. 리스트의 인덱싱과 슬라이싱"
   ]
  },
  {
   "cell_type": "markdown",
   "metadata": {},
   "source": [
    " .... \n",
    " ## 4. 깊은 복사와 얕은 복사\n",
    " "
   ]
  },
  {
   "cell_type": "markdown",
   "metadata": {},
   "source": [
    "숫자형, 문자열, 논리값의 경우 이미 할당된 주소값들이 있음\n",
    "\n",
    "=> 변수에 해당 값들을 선언해주는건 할당된 주소값을 읽어오는것\n",
    "\n",
    "=> 따라서 새로운 변수에 값을 복사 한 후 변경하면\n",
    "\n",
    "=> 이미 할당된 주소값을 새로 불러오는것"
   ]
  },
  {
   "cell_type": "code",
   "execution_count": 1,
   "metadata": {},
   "outputs": [
    {
     "name": "stdout",
     "output_type": "stream",
     "text": [
      "100\n",
      "100\n",
      "100\n",
      "200\n"
     ]
    }
   ],
   "source": [
    "A = 100 # 기존에 100의 주소값을 A에 할당\n",
    "B = A # A에 할당된 주소값을 B에 할당\n",
    "print(A)\n",
    "print(B)\n",
    "\n",
    "B = 200 # 200의 주소값을 B에 할당\n",
    "print(A)\n",
    "print(B)"
   ]
  },
  {
   "cell_type": "markdown",
   "metadata": {},
   "source": [
    "리스트, 세트, 딕셔너리의 경우 새로 주소를 할당해서 해당 주소값을 읽어옴\n",
    "\n",
    "=> 새로운 변수에 값을 복사하면 해당 주소값을 복사\n",
    "\n",
    "=> 주소값 내의 수치를 변경하면 둘다 영향을 받음\n",
    "\n",
    "=> 별도의 변수를 만들고 싶은경우 기존 리스트를 새로운 주소값에 넣은 후 해당 주소값을 새로운 변수에 할당해야함"
   ]
  },
  {
   "cell_type": "code",
   "execution_count": 4,
   "metadata": {},
   "outputs": [
    {
     "name": "stdout",
     "output_type": "stream",
     "text": [
      "[1, 2, 3]\n",
      "[1, 2, 3]\n",
      "[4, 5, 3]\n",
      "[4, 5, 3]\n"
     ]
    }
   ],
   "source": [
    "A = [1,2,3] # [1,2,3]을 한 메모리에 저장한 후 해당 주소값을 A에 할당\n",
    "B = A # A에 할당된 해당 주소값을 B에 할당\n",
    "print(A)\n",
    "print(B)\n",
    "A[0] = 4 #A에 할당된 주소값의 0번째 인덱스의 수치를 변경\n",
    "B[1] = 5 #B에 할당된 주소값의 1번째 인덱스의 수치를 변경\n",
    "print(A) \n",
    "print(B) # A,B에 할당된 주소값이 동일하므로 각각의 변화가 서로에게 영향을 미친다"
   ]
  },
  {
   "cell_type": "code",
   "execution_count": 5,
   "metadata": {},
   "outputs": [
    {
     "name": "stdout",
     "output_type": "stream",
     "text": [
      "[1, 2, 3]\n",
      "[4, 2, 3]\n",
      "[1, 5, 3]\n",
      "[1, 2, 6]\n"
     ]
    }
   ],
   "source": [
    "A = [1,2,3] # [1,2,3]을 한 메모리에 저장한 후 해당 주소값을 A에 할당\n",
    "B = A.copy() # A의 복사값을 새로운 메모리에 저장한 후 해당 주소값을 B에 할당\n",
    "C = [x for x in A] # C의 빈 리스트를 생성(새로운리스트이므로 기존A의 주소값과는 다른 주소값을 갖는 리스트임)한 후 해당 리스트에 A의 값을 하나씩 넣어서 리스트 완성\n",
    "D = A[:] # [1,2,3](A[:])이라는 새로운 리스트를 메모리에 저장, 해당 주소값을 D에 할당\n",
    "B[0] = 4\n",
    "C[1] = 5\n",
    "D[2] = 6 \n",
    "print(A)\n",
    "print(B)\n",
    "print(C)\n",
    "print(D) # A,B,C,D에 할당된 주소값이 모두 다르므로 각각의 변화가 다른 변수에 영향을 주지 않음"
   ]
  },
  {
   "cell_type": "code",
   "execution_count": 23,
   "metadata": {},
   "outputs": [
    {
     "name": "stdout",
     "output_type": "stream",
     "text": [
      "(0, 20)\n"
     ]
    }
   ],
   "source": [
    "A = divmod(20,30)\n",
    "print(A)\n"
   ]
  }
 ],
 "metadata": {
  "kernelspec": {
   "display_name": "Python 3",
   "language": "python",
   "name": "python3"
  },
  "language_info": {
   "codemirror_mode": {
    "name": "ipython",
    "version": 3
   },
   "file_extension": ".py",
   "mimetype": "text/x-python",
   "name": "python",
   "nbconvert_exporter": "python",
   "pygments_lexer": "ipython3",
   "version": "3.12.0"
  }
 },
 "nbformat": 4,
 "nbformat_minor": 2
}
