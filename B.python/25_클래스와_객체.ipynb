{
 "cells": [
  {
   "cell_type": "markdown",
   "metadata": {},
   "source": [
    "# 25. 클래스와 객체\n",
    "## 1. 객체지향 프로그래밍의 이해\n",
    "\n",
    "객체지향 언어 : 4세대 프로그래밍 언어 : 객체가 중심이 되는 프로그래밍 패러다임\n",
    "\n",
    "객체 = 데이터;변수;멤버변수 + 기능;함수;메서드\n",
    "\n",
    "클래스 = 객체의 설계도 역할을 하는 프로그램 소스\n",
    "\n",
    "하나의 클래스를 통해 동일한 구조를 갖는 객체를 여러개 생성, 생성된 객체는 각각 독립적으로 동작\n",
    "\n",
    "## 2. 클래스와 객체의 작성 방법\n",
    "\n",
    "class 클래스이름:\n",
    "\n",
    "    멤버변수 =값\n",
    "\n",
    "    def 메서드이름(self, 파라미터):\n",
    "\n",
    "        return 값\n",
    "\n",
    "=> 멤버변수와 메서드는 필요에 따라 여러개 존재할수있다.\n",
    "\n",
    "클래스유형:\n",
    "\n",
    "* 멤버변수만 포함하는 클래스\n",
    "* 메서드만 포함하는 클래스\n",
    "* 멤버변수와 메서드를 함께 포함하는 클래스"
   ]
  },
  {
   "cell_type": "code",
   "execution_count": 1,
   "metadata": {},
   "outputs": [],
   "source": [
    "class Member:\n",
    "    userid = None\n",
    "    email = None\n",
    "    phone = None\n",
    "    "
   ]
  },
  {
   "cell_type": "code",
   "execution_count": 3,
   "metadata": {},
   "outputs": [
    {
     "name": "stdout",
     "output_type": "stream",
     "text": [
      "abc\n",
      "abc@def.ghi\n",
      "010-1234-5678\n"
     ]
    }
   ],
   "source": [
    "mem1 = Member()\n",
    "mem1.userid = 'abc'\n",
    "mem1.email = 'abc@def.ghi'\n",
    "mem1.phone = '010-1234-5678'\n",
    "\n",
    "print(mem1.userid)\n",
    "print(mem1.email)\n",
    "print(mem1.phone)\n",
    "\n",
    "mem2 = Member()\n",
    "mem2.userid = 'hello'\n",
    "mem2.email = 'hello@def.ghi'\n",
    "mem2.phone = '010-9876-5432'"
   ]
  },
  {
   "cell_type": "code",
   "execution_count": 5,
   "metadata": {},
   "outputs": [],
   "source": [
    "class Calc:\n",
    "    def sum(self,x,y):\n",
    "        return x+y"
   ]
  },
  {
   "cell_type": "code",
   "execution_count": 8,
   "metadata": {},
   "outputs": [],
   "source": [
    "c1 = Calc()\n",
    "a = c1.sum(100,200)\n",
    "\n",
    "c2 = Calc()\n",
    "b = c2.sum(200,300)"
   ]
  },
  {
   "cell_type": "markdown",
   "metadata": {},
   "source": [
    "클래스 안에서 self를 사용하여 자기자신을 표현한다\n",
    "\n",
    "클래스 안에 포함된 메서드간에 서로 호출해야할경우 self를 통해 접근"
   ]
  },
  {
   "cell_type": "code",
   "execution_count": 9,
   "metadata": {},
   "outputs": [],
   "source": [
    "class Calc:\n",
    "    def plus(self,x,y):\n",
    "        return x+y\n",
    "    def minus(self,x,y):\n",
    "        return x-y\n",
    "    def all(self,x,y):\n",
    "        return self.plus(x,y)*self.minus(x,y)"
   ]
  },
  {
   "cell_type": "markdown",
   "metadata": {},
   "source": [
    "## 3. 멤버변수의 범위\n",
    "지역변수 : 메서드 안에서 선언된 변수로서 메서드 블록을 빠져나가지 못한다. 파라미터도 지역변수의 일종이다.\n",
    "\n",
    "전역변수 = 멤버변수 : 클래스 안에서 선언된 변수로 클래스 블록 범위 안에서 유효하다"
   ]
  },
  {
   "cell_type": "code",
   "execution_count": 12,
   "metadata": {},
   "outputs": [
    {
     "data": {
      "text/plain": [
       "'helloworld'"
      ]
     },
     "execution_count": 12,
     "metadata": {},
     "output_type": "execute_result"
    }
   ],
   "source": [
    "class User:\n",
    "    user_id = None\n",
    "\n",
    "    def setUserId(self, user_id):\n",
    "        self.user_id = user_id\n",
    "\n",
    "    def getUserId(self):\n",
    "        return self.user_id\n",
    "    \n",
    "u = User()\n",
    "u.setUserId('helloworld')\n",
    "uid = u.getUserId()\n",
    "uid"
   ]
  },
  {
   "cell_type": "code",
   "execution_count": null,
   "metadata": {},
   "outputs": [],
   "source": [
    "class Member:\n",
    "    # 클래스 레벨에서 정의된 변수는 내장되어 있는 함수들끼리 공유한다. ( = 전역변수)\n",
    "    username = None\n",
    "    email = None\n",
    "\n",
    "    def join(self, username, email):\n",
    "        # 파라미터로 전달된 값들을 멤버변수에 복사 -> 데이터 입력\n",
    "        # 파라미터나 메서드 안에서 정의된 변수들은 그 함수 밖에서는 식별할 수 없음 (지역변수)\n",
    "        self.username = username\n",
    "        self.email = email\n",
    "        "
   ]
  }
 ],
 "metadata": {
  "kernelspec": {
   "display_name": "Python 3",
   "language": "python",
   "name": "python3"
  },
  "language_info": {
   "codemirror_mode": {
    "name": "ipython",
    "version": 3
   },
   "file_extension": ".py",
   "mimetype": "text/x-python",
   "name": "python",
   "nbconvert_exporter": "python",
   "pygments_lexer": "ipython3",
   "version": "3.12.0"
  }
 },
 "nbformat": 4,
 "nbformat_minor": 2
}
