{
 "cells": [
  {
   "cell_type": "markdown",
   "metadata": {},
   "source": [
    "A : 부모 클래스\n",
    "B : 자식 클래스"
   ]
  },
  {
   "cell_type": "code",
   "execution_count": 1,
   "metadata": {},
   "outputs": [],
   "source": [
    "class A:\n",
    "    pass\n",
    "\n",
    "class B(A):\n",
    "    pass"
   ]
  },
  {
   "cell_type": "markdown",
   "metadata": {},
   "source": [
    "상속 : 자식클래스가 부모클래스의 모든것을 상속받는다.\n",
    "\n",
    "부모클래스가 가지고 있는 모든 메서드와 변수들을 자식클래스는 동시에 받아짐\n",
    "\n",
    "메서드 overwrite : 부모클래스가 가지고 있는 메서드를 자식클래스에서 다른 기능으로 변경하는 것 --> \n",
    "\n",
    "추상화 : 부모클래스에서 일부 메서드나 변수를 추상화시킬경우 자식클래스에서는 반드시 overwirte해야함 --> 안할시 에러발생"
   ]
  },
  {
   "cell_type": "code",
   "execution_count": 2,
   "metadata": {},
   "outputs": [],
   "source": [
    "class A :\n",
    "    name = None\n",
    "    phone = None\n",
    "\n",
    "    def __init__(self,name,phone):\n",
    "        self.name = name\n",
    "        self.phone = phone\n",
    "\n",
    "    def hello(self):\n",
    "        print(f'{self.name}의 번호는 {self.phone}입니다.')\n",
    "\n",
    "class B(A):\n",
    "    def hello(self):\n",
    "        print(f'{self.name}님, 안녕하세요')\n"
   ]
  },
  {
   "cell_type": "code",
   "execution_count": 3,
   "metadata": {},
   "outputs": [
    {
     "name": "stdout",
     "output_type": "stream",
     "text": [
      "1번사람의 번호는 1번번호입니다.\n",
      "2번사람님, 안녕하세요\n"
     ]
    }
   ],
   "source": [
    "a = A('1번사람','1번번호')\n",
    "b = B('2번사람','2번번호')\n",
    "a.hello()\n",
    "b.hello()"
   ]
  }
 ],
 "metadata": {
  "kernelspec": {
   "display_name": "Python 3",
   "language": "python",
   "name": "python3"
  },
  "language_info": {
   "codemirror_mode": {
    "name": "ipython",
    "version": 3
   },
   "file_extension": ".py",
   "mimetype": "text/x-python",
   "name": "python",
   "nbconvert_exporter": "python",
   "pygments_lexer": "ipython3",
   "version": "3.12.0"
  }
 },
 "nbformat": 4,
 "nbformat_minor": 2
}
