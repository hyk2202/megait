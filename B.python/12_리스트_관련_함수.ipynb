{
 "cells": [
  {
   "cell_type": "code",
   "execution_count": 4,
   "metadata": {},
   "outputs": [
    {
     "name": "stdout",
     "output_type": "stream",
     "text": [
      "90.33333333333333\n"
     ]
    }
   ],
   "source": [
    "A = [82,74,93,65,32,71,90,88,74]\n",
    "B = []\n",
    "# A.sort(reverse=True)\n",
    "# top3 = A[:3]\n",
    "# avg = sum(top3)/len(top3)\n",
    "# avg\n",
    "for i in range(3):\n",
    "    B.append(max(A))\n",
    "    A.remove(max(A))\n",
    "print(sum(B)/len(B))"
   ]
  },
  {
   "cell_type": "markdown",
   "metadata": {},
   "source": [
    "sorted()와 sort()의 비교\n",
    "\n",
    "A= [3,2,1]   ---- step1\n",
    "\n",
    "B = sorted(A)---- step2\n",
    "\n",
    "C = A.sort() ---- step3\n",
    "\n",
    "라고하면\n",
    "\n",
    "step2까지 진행했을때 B에는 A가 정렬된 [1,2,3]을 갖게되고 A는 여전히 [3,2,1]이다.\n",
    "\n",
    "step3이 진행될때 .sort()의 리턴값은 없으므로 C는 None이되고 A는 [1,2,3]으로 정렬된다\n",
    "\n",
    "=> sorted() : 입력받은 변수에 영향을 주지 않고 리턴값 발생\n",
    "\n",
    "=> sort() : 입력받은 변수에만 영향을 주고 리턴값 없음"
   ]
  },
  {
   "cell_type": "code",
   "execution_count": 8,
   "metadata": {},
   "outputs": [
    {
     "name": "stdout",
     "output_type": "stream",
     "text": [
      "A는 [3, 2, 1]입니다\n",
      "B는 [1, 2, 3]입니다\n",
      "--------------------------------------------------\n",
      "A는 [1, 2, 3]입니다\n",
      "C는 None입니다\n"
     ]
    }
   ],
   "source": [
    "A= [3,2,1]   \n",
    "B = sorted(A)\n",
    "print(f'A는 {A}입니다')\n",
    "print(f'B는 {B}입니다')\n",
    "print('-'*50)\n",
    "C = A.sort() \n",
    "\n",
    "print(f'A는 {A}입니다')\n",
    "print(f'C는 {C}입니다')\n",
    "\n"
   ]
  }
 ],
 "metadata": {
  "kernelspec": {
   "display_name": "Python 3",
   "language": "python",
   "name": "python3"
  },
  "language_info": {
   "codemirror_mode": {
    "name": "ipython",
    "version": 3
   },
   "file_extension": ".py",
   "mimetype": "text/x-python",
   "name": "python",
   "nbconvert_exporter": "python",
   "pygments_lexer": "ipython3",
   "version": "3.12.0"
  }
 },
 "nbformat": 4,
 "nbformat_minor": 2
}
