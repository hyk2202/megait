{
 "cells": [
  {
   "cell_type": "markdown",
   "metadata": {},
   "source": [
    "# 08. 문자열 포멧팅\n",
    "## 01. 형식 문자 활용 포멧팅\n",
    "### 형식문자의 기본 사용"
   ]
  },
  {
   "cell_type": "code",
   "execution_count": null,
   "metadata": {},
   "outputs": [],
   "source": [
    "# '%' 연산자 뒤의 값이 '%d를 치환한다.\"\n",
    "\n",
    "str1 = '나는 %d원을 갖고 있다.' % 10000\n",
    "\n",
    "# 실수값 표현하기\n",
    "\n",
    "money = 123.456789\n",
    "print(\"[%f]원 입니다.\"% money)\n",
    "\n",
    "lang = 'Python'\n",
    "str2 = 'Hello %s' % lang\n",
    "\n",
    "# 형식문자를 포함한 문자만 별도의 변수로 지정\n",
    "str3 = '%s 날짜는 %d년 %d월 %d일 입니다.'\n",
    "\n",
    "# 여러 형식문자를 치환할 경우 값들을 괄호로 묶는다\n",
    "msg1 = str3 % ('정모', 2023, 1 ,1)\n",
    "msg2 = str3 % ('약속', 2023, 3 ,5)"
   ]
  },
  {
   "cell_type": "markdown",
   "metadata": {},
   "source": [
    "### 정수의 자릿수 표현과 정렬"
   ]
  },
  {
   "cell_type": "code",
   "execution_count": 1,
   "metadata": {},
   "outputs": [
    {
     "name": "stdout",
     "output_type": "stream",
     "text": [
      "[    120000]원을 입금했습니다.\n",
      "[0000120000]원을 입금했습니다.\n",
      "[120000    ]원을 입금했습니다.\n",
      "[      대한민국]에 살고 있습니다.\n",
      "[대한민국      ]에 살고 있습니다.\n"
     ]
    }
   ],
   "source": [
    "# 자리수 지정하기 -> 오른쪽 정렬, 빈자리는 공백으로 지정\n",
    "print('[%10d]원을 입금했습니다.'%120000)\n",
    "\n",
    "# 자리수 지정하기 -> 오른쪽 정렬, 빈자리는 0으로 지정\n",
    "print('[%010d]원을 입금했습니다.'%120000)\n",
    "\n",
    "# 자리수 지정하기 -> 왼쪽 정렬, 빈자리는 공백으로 지정 ( 0 불가)\n",
    "print('[%-10d]원을 입금했습니다.'%120000)\n",
    "\n",
    "# 자리수 지정하기 -> 빈자리는 공백지정만 가능함.\n",
    "print(\"[%10s]에 살고 있습니다.\" % \"대한민국\")\n",
    "print(\"[%-10s]에 살고 있습니다.\" % \"대한민국\")"
   ]
  },
  {
   "cell_type": "markdown",
   "metadata": {},
   "source": [
    "### 실수의 자릿수 표현과 정렬"
   ]
  },
  {
   "cell_type": "code",
   "execution_count": 4,
   "metadata": {},
   "outputs": [
    {
     "name": "stdout",
     "output_type": "stream",
     "text": [
      "[12345.679]원 입니다.\n",
      "[ 12345.679]원 입니다.\n",
      "[12345.679 ]원 입니다.\n",
      "[012345.679]원 입니다.\n"
     ]
    }
   ],
   "source": [
    "# 실습을 위한 변수\n",
    "myMoney = 12345.6789\n",
    "\n",
    "# 소수점 3자리까지 표현하기 -> 소수점 4째자리에서 반올림.\n",
    "print(\"[%0.3f]원 입니다.\" % myMoney)\n",
    "\n",
    "# 소수점 3자리까지 표현하되 전체 글자수는 10글자 (빈자리 공백)\n",
    "# 소수점이 자리수에 포함됨\n",
    "# -> 오른쪽 정렬\n",
    "print(\"[%10.3f]원 입니다.\" % myMoney)\n",
    "\n",
    "# -> 왼쪽정렬\n",
    "print(\"[%-10.3f]원 입니다.\" % myMoney)\n",
    "\n",
    "# 소수점 3자리까지 표현하되 전체 글자수는 10글자 (빈자리 0)\n",
    "# -> 빈 자리를 0으로 채우는 경우는 오른쪽 정렬만 가능함.\n",
    "print(\"[%010.3f]원 입니다.\" % myMoney)"
   ]
  },
  {
   "cell_type": "markdown",
   "metadata": {},
   "source": [
    "## 2. format() 메서드 포멧팅\n",
    "### 인덱스 이름을 사용한 문자열 포멧팅\n"
   ]
  },
  {
   "cell_type": "code",
   "execution_count": 6,
   "metadata": {},
   "outputs": [
    {
     "name": "stdout",
     "output_type": "stream",
     "text": [
      "I eat 3 apples\n",
      "개강일은 2023년 1월 26일 입니다.\n",
      "종강일은 2023년 10월 20일 입니다.\n"
     ]
    }
   ],
   "source": [
    "# 0번째 위치에 format()함수에 전달된 0번째 값을 대입\n",
    "msg1 = 'I eat {0} apples'\n",
    "print(msg1.format(3))\n",
    "\n",
    "# 여러 개의 값을 혼용하기\n",
    "msg2 = '{0}은 {1}년 {2}월 {3}일 입니다.'\n",
    "print(msg2.format('개강일', 2023, 1, 26))\n",
    "\n",
    "# 이름으로 넣기 --> format() 메서드에 전달되는 파라미터 순서는 영향이 없다.\n",
    "msg3 = '{name}은 {yy}년 {mm}월 {dd}일 입니다.'\n",
    "print(msg3.format(mm=10, name = '종강일', dd=20, yy=2023))"
   ]
  },
  {
   "cell_type": "markdown",
   "metadata": {},
   "source": [
    "###  인덱스 번호와 이름의 혼합 사용"
   ]
  },
  {
   "cell_type": "code",
   "execution_count": null,
   "metadata": {},
   "outputs": [],
   "source": [
    "# 혼합사용 -> 숫자형식의 치환문자가 format() 메서드 안에서 먼저 위치해야 한다.\n",
    "msg4 = '{0}은 {yy}년 {mm}월 {dd}일 입니다.'\n",
    "print(msg4.format('생일', mm=10, dd=20, yy=2023))\n",
    "\n",
    "# 인데스 번호는 format() 함수 내의 순서 -> 형식 문자열 안에서는 자유롭게 배치 가능\n",
    "msg5 = '{1} {name}는 이 {0}입니다.'\n",
    "rst = msg5.format('책', '좋은', name = '교과서')\n",
    "print(rst)"
   ]
  },
  {
   "cell_type": "markdown",
   "metadata": {},
   "source": [
    "###  혼합 사용할수 없는 경우"
   ]
  },
  {
   "cell_type": "code",
   "execution_count": 7,
   "metadata": {},
   "outputs": [
    {
     "ename": "SyntaxError",
     "evalue": "positional argument follows keyword argument (1497421375.py, line 4)",
     "output_type": "error",
     "traceback": [
      "\u001b[1;36m  Cell \u001b[1;32mIn[7], line 4\u001b[1;36m\u001b[0m\n\u001b[1;33m    err_result = err.format(name = '교과서','책','좋은')\u001b[0m\n\u001b[1;37m                                                 ^\u001b[0m\n\u001b[1;31mSyntaxError\u001b[0m\u001b[1;31m:\u001b[0m positional argument follows keyword argument\n"
     ]
    }
   ],
   "source": [
    "# format() 메서드 안에서 인덱스 번호보다 이름이 먼저 지정될 경우 에러가 발생함\n",
    "\n",
    "err = '이 {0}(은)는 {1}{name} 입니다.'\n",
    "err_result = err.format(name = '교과서','책','좋은')"
   ]
  },
  {
   "cell_type": "markdown",
   "metadata": {},
   "source": [
    "### 출력값 정렬"
   ]
  },
  {
   "cell_type": "code",
   "execution_count": 9,
   "metadata": {},
   "outputs": [
    {
     "name": "stdout",
     "output_type": "stream",
     "text": [
      "[   Hi]!!Python, [  Welcome]~Python\n",
      "[Hi   ]!!Python, [Welcome  ]~Python\n",
      "[    Hi    ]!!Python, [ Welcome ]~Python\n"
     ]
    }
   ],
   "source": [
    "# 5글자 오른쪽 정렬 -> '%5s'와 동일\n",
    "sort1 = '[{0:>5}]!!Python, [{1:>9}]~Python'\n",
    "print(sort1.format('Hi','Welcome'))\n",
    "\n",
    "# 5글자 왼쪽 정렬 -> '%-5s'와 동일\n",
    "sort2 = '[{0:<5}]!!Python, [{1:<9}]~Python'\n",
    "print(sort2.format('Hi','Welcome'))\n",
    "\n",
    "# 가운데 정렬\n",
    "sort3 = '[{0:^10}]!!Python, [{1:^9}]~Python'\n",
    "print(sort3.format('Hi','Welcome'))"
   ]
  },
  {
   "cell_type": "markdown",
   "metadata": {},
   "source": [
    "### 공백을 특정 글자로 채우기"
   ]
  },
  {
   "cell_type": "code",
   "execution_count": 12,
   "metadata": {},
   "outputs": [
    {
     "name": "stdout",
     "output_type": "stream",
     "text": [
      "[Hi~~~]!!Python!! [**Hello**]!!Python\n",
      "010-****-5678\n"
     ]
    }
   ],
   "source": [
    "blank1 = '[{0:~<5}]!!Python!! [{1:*^9}]!!Python'\n",
    "print(blank1.format('Hi','Hello'))\n",
    "\n",
    "phone = '010-1234-5678'\n",
    "blank2 = '{0}-{1:*>4}-{2}'\n",
    "result = blank2.format(phone[0:3],'',phone[-4:])\n",
    "print(result)"
   ]
  },
  {
   "cell_type": "markdown",
   "metadata": {},
   "source": [
    "### 소수점 처리하기"
   ]
  },
  {
   "cell_type": "code",
   "execution_count": 14,
   "metadata": {},
   "outputs": [
    {
     "name": "stdout",
     "output_type": "stream",
     "text": [
      "123.4568\n",
      "[  123.4568]\n",
      "00123.4568\n"
     ]
    }
   ],
   "source": [
    "# 소수점 4째자리까지 표현하기 -> 5째자리에서 반올림\n",
    "float1 = '{0:0.04F}'\n",
    "print(float1.format(123.456789))\n",
    "\n",
    "# 전체 10글자, 소수점 4째자리까지 표현하기 -> 5째자리에서 반올림\n",
    "float2 = '[{0:10.04F}]'\n",
    "print(float2.format(123.456789))\n",
    "\n",
    "# 전체 10글자, 공백은 0 , 소수점 4째자리까지 표현하기 -> 5째자리에서 반올림\n",
    "float3 = '{0:010.04F}'\n",
    "print(float3.format(123.456789))"
   ]
  },
  {
   "cell_type": "markdown",
   "metadata": {},
   "source": [
    "### 중괄호 출력하기"
   ]
  },
  {
   "cell_type": "code",
   "execution_count": 15,
   "metadata": {},
   "outputs": [
    {
     "name": "stdout",
     "output_type": "stream",
     "text": [
      "{python}은 쉽다\n"
     ]
    }
   ],
   "source": [
    "str = '{{python}}은 {0}다'\n",
    "print( str.format('쉽'))"
   ]
  }
 ],
 "metadata": {
  "kernelspec": {
   "display_name": "Python 3",
   "language": "python",
   "name": "python3"
  },
  "language_info": {
   "codemirror_mode": {
    "name": "ipython",
    "version": 3
   },
   "file_extension": ".py",
   "mimetype": "text/x-python",
   "name": "python",
   "nbconvert_exporter": "python",
   "pygments_lexer": "ipython3",
   "version": "3.12.0"
  }
 },
 "nbformat": 4,
 "nbformat_minor": 2
}
