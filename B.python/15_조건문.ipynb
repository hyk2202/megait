{
 "cells": [
  {
   "cell_type": "markdown",
   "metadata": {},
   "source": [
    "# 15. 조건문\n",
    "## 1. IF문"
   ]
  },
  {
   "cell_type": "code",
   "execution_count": 5,
   "metadata": {},
   "outputs": [
    {
     "data": {
      "text/plain": [
       "False"
      ]
     },
     "execution_count": 5,
     "metadata": {},
     "output_type": "execute_result"
    }
   ],
   "source": [
    "A = 1\n",
    "B = [2,3,4]\n",
    " "
   ]
  },
  {
   "cell_type": "markdown",
   "metadata": {},
   "source": [
    "###if 문에서 사용되는 조건식"
   ]
  },
  {
   "cell_type": "code",
   "execution_count": 60,
   "metadata": {},
   "outputs": [
    {
     "data": {
      "text/html": [
       "<div>\n",
       "<style scoped>\n",
       "    .dataframe tbody tr th:only-of-type {\n",
       "        vertical-align: middle;\n",
       "    }\n",
       "\n",
       "    .dataframe tbody tr th {\n",
       "        vertical-align: top;\n",
       "    }\n",
       "\n",
       "    .dataframe thead th {\n",
       "        text-align: right;\n",
       "    }\n",
       "</style>\n",
       "<table border=\"1\" class=\"dataframe\">\n",
       "  <thead>\n",
       "    <tr style=\"text-align: right;\">\n",
       "      <th></th>\n",
       "      <th>형식</th>\n",
       "      <th>참</th>\n",
       "      <th>거짓</th>\n",
       "    </tr>\n",
       "  </thead>\n",
       "  <tbody>\n",
       "    <tr>\n",
       "      <th>0</th>\n",
       "      <td>논리값(Boolean)</td>\n",
       "      <td>True</td>\n",
       "      <td>False</td>\n",
       "    </tr>\n",
       "    <tr>\n",
       "      <th>1</th>\n",
       "      <td>숫자형</td>\n",
       "      <td>0이 아닌 모든 값</td>\n",
       "      <td>0</td>\n",
       "    </tr>\n",
       "    <tr>\n",
       "      <th>2</th>\n",
       "      <td>비교식</td>\n",
       "      <td>식의 결과가 True</td>\n",
       "      <td>식의 결과가 False</td>\n",
       "    </tr>\n",
       "    <tr>\n",
       "      <th>3</th>\n",
       "      <td>논리식</td>\n",
       "      <td>식의 결과가 True</td>\n",
       "      <td>식의 결과가 False</td>\n",
       "    </tr>\n",
       "    <tr>\n",
       "      <th>4</th>\n",
       "      <td>문자열</td>\n",
       "      <td>빈 문자열이 아닌경우</td>\n",
       "      <td>빈 문자열인 경우</td>\n",
       "    </tr>\n",
       "    <tr>\n",
       "      <th>5</th>\n",
       "      <td>리스트</td>\n",
       "      <td>원소가 하나라도 존재하는 경우</td>\n",
       "      <td>원소가 하나도 없는경우</td>\n",
       "    </tr>\n",
       "    <tr>\n",
       "      <th>6</th>\n",
       "      <td>튜플</td>\n",
       "      <td>원소가 하나라도 존재하는 경우</td>\n",
       "      <td>원소가 하나도 없는경우</td>\n",
       "    </tr>\n",
       "    <tr>\n",
       "      <th>7</th>\n",
       "      <td>딕셔너리</td>\n",
       "      <td>원소가 하나라도 존재하는 경우</td>\n",
       "      <td>원소가 하나도 없는경우</td>\n",
       "    </tr>\n",
       "  </tbody>\n",
       "</table>\n",
       "</div>"
      ],
      "text/plain": [
       "             형식                 참            거짓\n",
       "0  논리값(Boolean)              True         False\n",
       "1           숫자형        0이 아닌 모든 값             0\n",
       "2           비교식       식의 결과가 True  식의 결과가 False\n",
       "3           논리식       식의 결과가 True  식의 결과가 False\n",
       "4           문자열       빈 문자열이 아닌경우     빈 문자열인 경우\n",
       "5           리스트  원소가 하나라도 존재하는 경우  원소가 하나도 없는경우\n",
       "6            튜플  원소가 하나라도 존재하는 경우  원소가 하나도 없는경우\n",
       "7          딕셔너리  원소가 하나라도 존재하는 경우  원소가 하나도 없는경우"
      ]
     },
     "execution_count": 60,
     "metadata": {},
     "output_type": "execute_result"
    }
   ],
   "source": [
    "import pandas as pd\n",
    "\n",
    "A = {'형식' :['논리값(Boolean)','숫자형','비교식','논리식','문자열','리스트','튜플','딕셔너리'], '참':['True','0이 아닌 모든 값', '식의 결과가 True', '식의 결과가 True', '빈 문자열이 아닌경우', '원소가 하나라도 존재하는 경우', '원소가 하나라도 존재하는 경우', '원소가 하나라도 존재하는 경우'], '거짓':['False','0','식의 결과가 False','식의 결과가 False','빈 문자열인 경우','원소가 하나도 없는경우','원소가 하나도 없는경우','원소가 하나도 없는경우'] }\n",
    "B = pd.DataFrame(A)\n",
    "B\n"
   ]
  },
  {
   "cell_type": "markdown",
   "metadata": {},
   "source": [
    "if (- else)문\n",
    "\n",
    "if문의 조건과 부합하였을때는 if문 실행 부합하지 않는경우 else문 실행\n",
    "\n",
    "if - elif (- else)문\n",
    "\n",
    "순서대로 조건을 따지며 참인 조건이 실행되고나면 아래 코드들은 패스된다.\n",
    "\n",
    "\n"
   ]
  },
  {
   "cell_type": "code",
   "execution_count": 61,
   "metadata": {},
   "outputs": [
    {
     "name": "stdout",
     "output_type": "stream",
     "text": [
      "1, 참입니다.\n",
      "2, 거짓입니다.\n",
      "3, A는 참입니다. \n",
      "4, A는 참이고 B는 거짓입니다. \n"
     ]
    }
   ],
   "source": [
    "A = True\n",
    "B = False\n",
    "\n",
    "if A == True : \n",
    "    print('1, 참입니다.')\n",
    "else : \n",
    "    print('1, 거짓입니다.')\n",
    "\n",
    "if A == False : \n",
    "    print('2, 참입니다.')\n",
    "else : \n",
    "    print('2, 거짓입니다.')\n",
    "\n",
    "if A == True:\n",
    "    print('3, A는 참입니다. ')\n",
    "elif B == True:\n",
    "    print('3, A는 거짓이고 B는 참입니다. ')\n",
    "else :\n",
    "    print('3, A는 거짓이고 B도 거짓입니다. ')\n",
    "\n",
    "if A == False:\n",
    "    print('4, A는 거짓입니다. ')\n",
    "elif B == False:\n",
    "    print('4, A는 참이고 B는 거짓입니다. ')\n",
    "else :\n",
    "    print('4, A는 참이고 B도 참입니다. ')\n"
   ]
  },
  {
   "cell_type": "markdown",
   "metadata": {},
   "source": [
    "연구과제1\n"
   ]
  },
  {
   "cell_type": "code",
   "execution_count": 40,
   "metadata": {},
   "outputs": [
    {
     "name": "stdout",
     "output_type": "stream",
     "text": [
      "당신은 50대 입니다.\n"
     ]
    }
   ],
   "source": [
    "a = input(\"나이를 입력하세요(숫자만 입력하세요)\")\n",
    "try :\n",
    "    a = int(a)\n",
    "    if a>=60:\n",
    "        print('당신은 노년층 입니다.')\n",
    "    elif 0<=a<10:\n",
    "        print('당신은 어린이 입니다.')\n",
    "    else : \n",
    "        print(f'당신은 {a//10}0대 입니다.')\n",
    "except :\n",
    "    print('숫자를 입력해주세요')"
   ]
  },
  {
   "cell_type": "markdown",
   "metadata": {},
   "source": [
    "연구과제2\n"
   ]
  },
  {
   "cell_type": "code",
   "execution_count": 59,
   "metadata": {},
   "outputs": [
    {
     "ename": "ZeroDivisionError",
     "evalue": "division by zero",
     "output_type": "error",
     "traceback": [
      "\u001b[1;31m---------------------------------------------------------------------------\u001b[0m",
      "\u001b[1;31mZeroDivisionError\u001b[0m                         Traceback (most recent call last)",
      "\u001b[1;32mc:\\Users\\김한열\\Desktop\\산대특\\python\\15_조건문.ipynb 셀 10\u001b[0m line \u001b[0;36m7\n\u001b[0;32m      <a href='vscode-notebook-cell:/c%3A/Users/%EA%B9%80%ED%95%9C%EC%97%B4/Desktop/%EC%82%B0%EB%8C%80%ED%8A%B9/python/15_%EC%A1%B0%EA%B1%B4%EB%AC%B8.ipynb#X15sZmlsZQ%3D%3D?line=4'>5</a>\u001b[0m     standardWeight \u001b[39m=\u001b[39m myHeight \u001b[39m-\u001b[39m \u001b[39m110\u001b[39m\n\u001b[0;32m      <a href='vscode-notebook-cell:/c%3A/Users/%EA%B9%80%ED%95%9C%EC%97%B4/Desktop/%EC%82%B0%EB%8C%80%ED%8A%B9/python/15_%EC%A1%B0%EA%B1%B4%EB%AC%B8.ipynb#X15sZmlsZQ%3D%3D?line=5'>6</a>\u001b[0m \u001b[39melse\u001b[39;00m : standardWeight \u001b[39m=\u001b[39m (myHeight \u001b[39m-\u001b[39m \u001b[39m110\u001b[39m)\u001b[39m*\u001b[39m\u001b[39m0.9\u001b[39m\n\u001b[1;32m----> <a href='vscode-notebook-cell:/c%3A/Users/%EA%B9%80%ED%95%9C%EC%97%B4/Desktop/%EC%82%B0%EB%8C%80%ED%8A%B9/python/15_%EC%A1%B0%EA%B1%B4%EB%AC%B8.ipynb#X15sZmlsZQ%3D%3D?line=6'>7</a>\u001b[0m obesity \u001b[39m=\u001b[39m (myWeight \u001b[39m-\u001b[39;49m standardWeight)\u001b[39m/\u001b[39;49mstandardWeight\u001b[39m*\u001b[39m\u001b[39m100\u001b[39m\n\u001b[0;32m      <a href='vscode-notebook-cell:/c%3A/Users/%EA%B9%80%ED%95%9C%EC%97%B4/Desktop/%EC%82%B0%EB%8C%80%ED%8A%B9/python/15_%EC%A1%B0%EA%B1%B4%EB%AC%B8.ipynb#X15sZmlsZQ%3D%3D?line=8'>9</a>\u001b[0m \u001b[39mif\u001b[39;00m obesity \u001b[39m>\u001b[39m \u001b[39m50\u001b[39m:\n\u001b[0;32m     <a href='vscode-notebook-cell:/c%3A/Users/%EA%B9%80%ED%95%9C%EC%97%B4/Desktop/%EC%82%B0%EB%8C%80%ED%8A%B9/python/15_%EC%A1%B0%EA%B1%B4%EB%AC%B8.ipynb#X15sZmlsZQ%3D%3D?line=9'>10</a>\u001b[0m     \u001b[39mprint\u001b[39m(\u001b[39m'\u001b[39m\u001b[39m고도비만(매우위험)\u001b[39m\u001b[39m'\u001b[39m)\n",
      "\u001b[1;31mZeroDivisionError\u001b[0m: division by zero"
     ]
    }
   ],
   "source": [
    "myHeight = int(input('키를 입력하세요(cm)'))\n",
    "myWeight = int(input('몸무게를 입력하세요(kg)'))\n",
    "\n",
    "if myHeight <= 150:\n",
    "    standardWeight = myHeight - 110\n",
    "else : standardWeight = (myHeight - 110)*0.9\n",
    "obesity = (myWeight - standardWeight)/standardWeight*100\n",
    "\n",
    "if obesity > 50:\n",
    "    print('고도비만(매우위험)')\n",
    "elif obesity>30 :\n",
    "    print('중등도 비만(위험)')\n",
    "elif obesity>20 :\n",
    "    print('경도비만(주의)')\n",
    "elif obesity<= 20 : \n",
    "    print('정상(안심)')\n",
    "print(obesity)"
   ]
  }
 ],
 "metadata": {
  "kernelspec": {
   "display_name": "Python 3",
   "language": "python",
   "name": "python3"
  },
  "language_info": {
   "codemirror_mode": {
    "name": "ipython",
    "version": 3
   },
   "file_extension": ".py",
   "mimetype": "text/x-python",
   "name": "python",
   "nbconvert_exporter": "python",
   "pygments_lexer": "ipython3",
   "version": "3.12.0"
  }
 },
 "nbformat": 4,
 "nbformat_minor": 2
}
