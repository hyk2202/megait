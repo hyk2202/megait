{
 "cells": [
  {
   "cell_type": "markdown",
   "metadata": {},
   "source": [
    "![29_01](29_01.png)"
   ]
  },
  {
   "cell_type": "code",
   "execution_count": 2,
   "metadata": {},
   "outputs": [
    {
     "name": "stdout",
     "output_type": "stream",
     "text": [
      "2023-11-30 13:13:57.641498\n"
     ]
    }
   ],
   "source": [
    "import datetime as dt\n",
    "\n",
    "now_time = dt.datetime.now()\n",
    "print(now_time)"
   ]
  },
  {
   "cell_type": "code",
   "execution_count": 3,
   "metadata": {},
   "outputs": [
    {
     "name": "stdout",
     "output_type": "stream",
     "text": [
      "오늘은 2023년 11월 30일 입니다.\n"
     ]
    }
   ],
   "source": [
    "msg = '오늘은 %d년 %d월 %d일 입니다.'\n",
    "print(msg % (now_time.year, now_time.month, now_time.day))"
   ]
  },
  {
   "cell_type": "code",
   "execution_count": 4,
   "metadata": {},
   "outputs": [
    {
     "name": "stdout",
     "output_type": "stream",
     "text": [
      "3\n"
     ]
    }
   ],
   "source": [
    "# 현재 요일의 인덱스 조회\n",
    "d = now_time.weekday()\n",
    "print(d)"
   ]
  },
  {
   "cell_type": "markdown",
   "metadata": {},
   "source": [
    "![29_02](29_02.png)"
   ]
  },
  {
   "cell_type": "code",
   "execution_count": 5,
   "metadata": {},
   "outputs": [
    {
     "name": "stdout",
     "output_type": "stream",
     "text": [
      "23-11-30 13:13:57\n",
      "2023년 11월 30일 13시 13분 57초\n"
     ]
    }
   ],
   "source": [
    "import datetime as dt\n",
    "now_time = dt.datetime.now()\n",
    "now_str = now_time.strftime('%y-%m-%d %H:%M:%S')\n",
    "print(now_str)\n",
    "print(now_time.strftime('%Y년 %m월 %d일 %H시 %M분 %S초'))"
   ]
  },
  {
   "cell_type": "code",
   "execution_count": 6,
   "metadata": {},
   "outputs": [
    {
     "name": "stdout",
     "output_type": "stream",
     "text": [
      "2018-12-13 14:55:30\n"
     ]
    }
   ],
   "source": [
    "import datetime as dt\n",
    "some_time = dt.datetime(2018,12,13,14,55,30) # 년,월,일,시,분,초\n",
    "print(some_time)"
   ]
  },
  {
   "cell_type": "code",
   "execution_count": 7,
   "metadata": {},
   "outputs": [
    {
     "name": "stdout",
     "output_type": "stream",
     "text": [
      "2018-12-13 14:55:30\n",
      "2017-01-13 14:55:30\n"
     ]
    }
   ],
   "source": [
    "str_sometime = '2018년 12월 13일 14시 55분 30초'\n",
    "sometime  = dt.datetime.strptime(str_sometime, '%Y년 %m월 %d일 %H시 %M분 %S초')\n",
    "print(sometime)\n",
    "what_time = sometime.replace(year = 2017, month = 1) # 변경하지 않는 파라미터는 생략가능\n",
    "print(what_time)\n",
    "# 존재하지 않는 시각으로 설정할 경우 에러발생 ( 32일 25시 등등)"
   ]
  },
  {
   "cell_type": "code",
   "execution_count": 8,
   "metadata": {},
   "outputs": [
    {
     "name": "stdout",
     "output_type": "stream",
     "text": [
      "17-01-02 14:44:00\n"
     ]
    }
   ],
   "source": [
    "date_str = '2017년 01월 02일 14시 44분'\n",
    "oldday = dt.datetime.strptime(date_str, '%Y년 %m월 %d일 %H시 %M분')\n",
    "print(oldday.strftime('%y-%m-%d %H:%M:%S'))\n"
   ]
  },
  {
   "cell_type": "code",
   "execution_count": 19,
   "metadata": {},
   "outputs": [
    {
     "name": "stdout",
     "output_type": "stream",
     "text": [
      "23-11-30 14:00:43\n",
      "18-11-16 15:00:43\n"
     ]
    }
   ],
   "source": [
    "foo = dt.datetime.now()\n",
    "print(foo.strftime('%y-%m-%d %H:%M:%S'))\n",
    "\n",
    "change_date = foo.replace(year = 2018, day = 16, hour = 15)\n",
    "print(change_date.strftime('%y-%m-%d %H:%M:%S'))"
   ]
  },
  {
   "cell_type": "markdown",
   "metadata": {},
   "source": [
    "dt2와 dt1이 모두 날짜 객체인 경우 -연산자 사용 가능"
   ]
  },
  {
   "cell_type": "code",
   "execution_count": 24,
   "metadata": {},
   "outputs": [
    {
     "name": "stdout",
     "output_type": "stream",
     "text": [
      "-711\n",
      "85710\n",
      "-61344690.0\n"
     ]
    }
   ],
   "source": [
    "\n",
    "td = oldday - sometime\n",
    "\n",
    "print(td.days) # 일자만 추출\n",
    "print(td.seconds) # 일자는 빼고 시간,분,초 단위를 합산\n",
    "print(td.total_seconds()) # 전체 날짜 차이를 초로 환산"
   ]
  }
 ],
 "metadata": {
  "kernelspec": {
   "display_name": "Python 3",
   "language": "python",
   "name": "python3"
  },
  "language_info": {
   "codemirror_mode": {
    "name": "ipython",
    "version": 3
   },
   "file_extension": ".py",
   "mimetype": "text/x-python",
   "name": "python",
   "nbconvert_exporter": "python",
   "pygments_lexer": "ipython3",
   "version": "3.12.0"
  }
 },
 "nbformat": 4,
 "nbformat_minor": 2
}
