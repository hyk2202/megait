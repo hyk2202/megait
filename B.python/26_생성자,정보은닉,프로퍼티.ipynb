{
 "cells": [
  {
   "cell_type": "markdown",
   "metadata": {},
   "source": [
    "# 26. 생성자, 정보은닉, 프로퍼티\n",
    "## 1. 생성자의 이해\n",
    "생성자 : 객체가 생성될때(class를 호출할때) 해당 객체의 멤버변수(객체 내 전역변수)를 초기화 하기 위해 사용한다."
   ]
  },
  {
   "cell_type": "code",
   "execution_count": 2,
   "metadata": {},
   "outputs": [],
   "source": [
    "class Foo:\n",
    "    # name = None\n",
    "    # age = None\n",
    "\n",
    "    def __init__(self):\n",
    "        self.name = '000'\n",
    "        self.age = 20\n",
    "# 부분은 포함시키거나 포함시키지않거나 결과값에 차이 없음"
   ]
  },
  {
   "cell_type": "code",
   "execution_count": 4,
   "metadata": {},
   "outputs": [
    {
     "name": "stdout",
     "output_type": "stream",
     "text": [
      "000\n"
     ]
    }
   ],
   "source": [
    "A = Foo()\n",
    "print(A.name)"
   ]
  },
  {
   "cell_type": "code",
   "execution_count": 6,
   "metadata": {},
   "outputs": [],
   "source": [
    "class Foo:\n",
    "    # name = None\n",
    "    # age = None\n",
    "    \n",
    "    def __init__(self, name, age):\n",
    "        self.name = name\n",
    "        self.age = age"
   ]
  },
  {
   "cell_type": "code",
   "execution_count": 8,
   "metadata": {},
   "outputs": [
    {
     "name": "stdout",
     "output_type": "stream",
     "text": [
      "000\n"
     ]
    }
   ],
   "source": [
    "A = Foo('000',20) # 객체 생성, 멤버변수 초기화\n",
    "print(A.name)"
   ]
  },
  {
   "cell_type": "code",
   "execution_count": 9,
   "metadata": {},
   "outputs": [],
   "source": [
    "class Unit:\n",
    "    name = None\n",
    "    hp = None\n",
    "    dps = None\n",
    "    damage = None\n",
    "    attack_speed = None\n",
    "    unit_type = None\n",
    "    attack_type = None\n",
    "    hp_re = None\n",
    "    defense = None\n",
    "    mana = None\n",
    "    mana_re = None\n",
    "    skill = None\n",
    "    skill_mana = None\n",
    "\n",
    "    def __init__(self, name, hp, dps):\n",
    "        self.name = name\n",
    "        self.hp = hp \n",
    "        self.dps = dps \n",
    "        print(f'{name} 체력: {hp}, 공격력: {dps}')\n",
    "    \n",
    "    def move(self,position):\n",
    "        print(f'{self.name}(이)가 {position}까지 이동합니다.')\n",
    "\n",
    "    def attack(self, target):\n",
    "        print(f'{self.name}(이)가 {target}(을)를 공격합니다. 데미지: {self.dps}')"
   ]
  },
  {
   "cell_type": "code",
   "execution_count": 10,
   "metadata": {},
   "outputs": [
    {
     "name": "stdout",
     "output_type": "stream",
     "text": [
      "질럿1호 체력: 100, 공격력: 10\n",
      "질럿2호 체력: 100, 공격력: 12\n",
      "드라군1호 체력: 120, 공격력: 20\n",
      "드라군2호 체력: 150, 공격력: 35\n"
     ]
    }
   ],
   "source": [
    "u1 = Unit('질럿1호', 100, 10)\n",
    "u2 = Unit('질럿2호', 100, 12)\n",
    "u3 = Unit('드라군1호', 120, 20)\n",
    "u4 = Unit('드라군2호', 150, 35)"
   ]
  },
  {
   "cell_type": "code",
   "execution_count": 12,
   "metadata": {},
   "outputs": [
    {
     "name": "stdout",
     "output_type": "stream",
     "text": [
      "질럿1호(이)가 적 본진까지 이동합니다.\n",
      "드라군1호(이)가 적 본진까지 이동합니다.\n",
      "질럿1호(이)가 적 본진(을)를 공격합니다. 데미지: 10\n",
      "드라군1호(이)가 적 본진(을)를 공격합니다. 데미지: 20\n",
      "질럿2호(이)가 적 멀티까지 이동합니다.\n",
      "드라군2호(이)가 적 멀티까지 이동합니다.\n",
      "질럿2호(이)가 적 멀티(을)를 공격합니다. 데미지: 12\n",
      "드라군2호(이)가 적 멀티(을)를 공격합니다. 데미지: 35\n"
     ]
    }
   ],
   "source": [
    "u1.move('적 본진')\n",
    "u3.move('적 본진')\n",
    "u1.attack('적 본진')\n",
    "u3.attack('적 본진')\n",
    "\n",
    "u2.move('적 멀티')\n",
    "u4.move('적 멀티')\n",
    "u2.attack('적 멀티')\n",
    "u4.attack('적 멀티')"
   ]
  },
  {
   "cell_type": "markdown",
   "metadata": {},
   "source": [
    "## 2. 정보은닉\n",
    "### 캡슐화\n",
    "객체지향 언어적 요소를 활용하여 객체에 대한 구체적인 정보를 노출시키지 않도록 하는 기법\n",
    "\n",
    "=> 잘못된 데이터가 저장되는 것을 방지\n",
    "\n",
    "멤버변수나 메서드의 이름앞에 '_' 혹은 '__'를 적용하면 객체를 통한 접근이 제한된다.\n",
    "\n",
    "![](./26_01.png)\n",
    "\n",
    "은닉된 멤버변수에 접근하기 위한 메서드\n",
    "\n",
    "* getter : 은닉된 멤버변수의 값을 리턴\n",
    "* setter : 파라미터로 전달된 값을 멤버변수에 복사\n",
    "\n",
    "getter,setter 작성 규칙 : get,set 접두사 뒤에 변수이름을 첫 글자가 대문자인 형태로 명시\n",
    "\n"
   ]
  },
  {
   "cell_type": "code",
   "execution_count": 38,
   "metadata": {},
   "outputs": [],
   "source": [
    "class Student:\n",
    "    __name = None\n",
    "    __point = None\n",
    "\n",
    "    def __init__(self, name = None, point = 0):\n",
    "        self.setName(name)\n",
    "        self.setPoint(point)\n",
    "\n",
    "    def getName(self):\n",
    "        return self.__name\n",
    "    \n",
    "    def getPoint(self):\n",
    "        return self.__point\n",
    "    \n",
    "    def setName(self,name):\n",
    "        self.__name = name\n",
    "\n",
    "    def setPoint(self,point):\n",
    "        if point < 0 : point = 0\n",
    "        if point > 100 : point = 100\n",
    "        self.__point = point\n",
    "    "
   ]
  },
  {
   "cell_type": "code",
   "execution_count": 40,
   "metadata": {},
   "outputs": [
    {
     "name": "stdout",
     "output_type": "stream",
     "text": [
      "홍길동의 점수는 0점 입니다.\n",
      "홍길동2의 점수는 100점 입니다.\n"
     ]
    }
   ],
   "source": [
    "s1 = Student('홍길동',-123)\n",
    "s2 = Student('홍길동2',12345)\n",
    "print(f'{s1.getName()}의 점수는 {s1.getPoint()}점 입니다.')\n",
    "print(f'{s2.getName()}의 점수는 {s2.getPoint()}점 입니다.')"
   ]
  },
  {
   "cell_type": "markdown",
   "metadata": {},
   "source": [
    "## 3. 프로퍼티\n",
    "getter 와 setter를 변수처럼 사용하는 기법\n",
    "\n",
    "getter함수가 setter함수보다 먼저 정의되어야함\n",
    "\n",
    "class Foo:\n",
    "    self.__멤버변수 = None\n",
    "\n",
    "    def __init__(self, value):\n",
    "        self.프로퍼티이름 = value\n",
    "    \n",
    "    @property\n",
    "    def 프로퍼티이름(self):\n",
    "        return self.__멤버변수\n",
    "\n",
    "    @프로퍼티이름.setter\n",
    "    def 프로퍼티이름(self, value):\n",
    "        self.__멤버변수 = value\n",
    "\n",
    "f = Foo()\n",
    "\n",
    "f.프로퍼티이름 = 값 => setter 메서드 호출\n",
    "\n",
    "print(f.프로퍼티이름) => getter 메서드 호출"
   ]
  },
  {
   "cell_type": "code",
   "execution_count": 42,
   "metadata": {},
   "outputs": [],
   "source": [
    "class Terran:\n",
    "    __name = None\n",
    "    __dps = None\n",
    "\n",
    "    def __init__(self, name = None, dps = 0):\n",
    "        self.name = name\n",
    "        self.dps = dps\n",
    "\n",
    "    @property\n",
    "    def name(self):\n",
    "        return self.__name\n",
    "    \n",
    "    @property\n",
    "    def dps(self):\n",
    "        return self.__dps\n",
    "    \n",
    "    @name.setter\n",
    "    def name(self, name):\n",
    "        self.__name = name\n",
    "    \n",
    "    @dps.setter\n",
    "    def dps(self,dps):\n",
    "        self.__dps = dps\n",
    "\n",
    "    def move(self, position):\n",
    "        print(f'{self.name}(이)가 {position}까지 이동합니다.')\n",
    "\n",
    "    def attack(self,target):\n",
    "        print(f\"{self.name}(이)가 {target}(을)를 공격합니다. 데미지: {self.dps}\")\n",
    "\n",
    "\n",
    "        "
   ]
  },
  {
   "cell_type": "code",
   "execution_count": 45,
   "metadata": {},
   "outputs": [
    {
     "name": "stdout",
     "output_type": "stream",
     "text": [
      "마린 1호(이)가 적 본진까지 이동합니다.\n",
      "마린 1호(이)가 적 본진(을)를 공격합니다. 데미지: 50\n"
     ]
    }
   ],
   "source": [
    "t1 = Terran()\n",
    "t1.name = '마린 1호'\n",
    "t1.dps = 50\n",
    "\n",
    "t1.move('적 본진')\n",
    "t1.attack('적 본진')"
   ]
  }
 ],
 "metadata": {
  "kernelspec": {
   "display_name": "Python 3",
   "language": "python",
   "name": "python3"
  },
  "language_info": {
   "codemirror_mode": {
    "name": "ipython",
    "version": 3
   },
   "file_extension": ".py",
   "mimetype": "text/x-python",
   "name": "python",
   "nbconvert_exporter": "python",
   "pygments_lexer": "ipython3",
   "version": "3.12.0"
  }
 },
 "nbformat": 4,
 "nbformat_minor": 2
}
