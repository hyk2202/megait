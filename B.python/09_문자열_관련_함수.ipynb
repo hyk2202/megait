{
 "cells": [
  {
   "cell_type": "markdown",
   "metadata": {},
   "source": [
    "# 09 문자열 관련 함수\n",
    "## 1. 문자열 관련 내장함수\n",
    "### 문자열의 길이 조회하기"
   ]
  },
  {
   "cell_type": "code",
   "execution_count": 1,
   "metadata": {},
   "outputs": [],
   "source": [
    "# find -> 해당 글자 또는 단어의 시작 글자의 index를 리턴, 찾지 못할경우 -1 리턴\n",
    "# rfind -> 마지막으로 나타나는 글자의 위치 또는 단어의 시작 글자의 index를 리턴, 찾지 못할경우 -1 리턴"
   ]
  },
  {
   "cell_type": "code",
   "execution_count": null,
   "metadata": {},
   "outputs": [],
   "source": []
  },
  {
   "cell_type": "markdown",
   "metadata": {},
   "source": [
    "### 연구과제\n"
   ]
  },
  {
   "cell_type": "code",
   "execution_count": 40,
   "metadata": {},
   "outputs": [
    {
     "name": "stdout",
     "output_type": "stream",
     "text": [
      "폴더의 위치: C:\\myphoto\\summer\\korea\n",
      "파일이름: food.2023.1.1.23\n",
      "확장자: jpg\n",
      "폴더의 위치: C:\\myphoto\\summer\\korea\n",
      "파일이름: food.2023.1.1.23\n",
      "확장자: jpg\n"
     ]
    }
   ],
   "source": [
    "# 폴더의 위치: ~\n",
    "# 파일이름: ~\n",
    "# 확장자: ~\n",
    "\n",
    "# A = 'C:\\\\myphoto\\\\helloworld.jpg'\n",
    "A = 'C:\\\\myphoto\\\\summer\\\\korea\\\\food.2023.1.1.23.jpg'\n",
    "a = A.rfind('.')\n",
    "b = A.rfind('\\\\')\n",
    "print(f'폴더의 위치: {A[:b]}\\n파일이름: {A[b+1:a]}\\n확장자: {A[a+1:]}')\n",
    "\n",
    "temp_ = []\n",
    "temp = []\n",
    "for i in range(len(A)):\n",
    "    if A[i:i+1] == '\\\\' : temp.append(i)\n",
    "    if A[i:i+1] == '.' : temp_.append(i)\n",
    "\n",
    "print(f'폴더의 위치: {A[:max(temp)]}\\n파일이름: {A[max(temp)+1:max(temp_)]}\\n확장자: {A[max(temp_)+1:]}')\n",
    "    "
   ]
  }
 ],
 "metadata": {
  "kernelspec": {
   "display_name": "Python 3",
   "language": "python",
   "name": "python3"
  },
  "language_info": {
   "codemirror_mode": {
    "name": "ipython",
    "version": 3
   },
   "file_extension": ".py",
   "mimetype": "text/x-python",
   "name": "python",
   "nbconvert_exporter": "python",
   "pygments_lexer": "ipython3",
   "version": "3.12.0"
  }
 },
 "nbformat": 4,
 "nbformat_minor": 2
}
