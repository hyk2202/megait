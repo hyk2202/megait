{
 "cells": [
  {
   "cell_type": "markdown",
   "metadata": {},
   "source": [
    "# 16. 반복문(1) - WHILE\n",
    "## 1. while\n",
    "\n"
   ]
  },
  {
   "cell_type": "markdown",
   "metadata": {},
   "source": [
    "while문 :\n",
    "\n",
    "\n",
    "    조건식에 들어갈 변수를 미리 선언\n",
    "\n",
    "    while 조건식:\n",
    "\n",
    "        반복적으로 동작할 구문\n",
    "\n"
   ]
  },
  {
   "cell_type": "code",
   "execution_count": 31,
   "metadata": {},
   "outputs": [
    {
     "name": "stdout",
     "output_type": "stream",
     "text": [
      "0\n",
      "1\n",
      "2\n",
      "3\n",
      "4\n"
     ]
    }
   ],
   "source": [
    "a = 0\n",
    "while a<5:\n",
    "    print(a)\n",
    "    a+=1"
   ]
  },
  {
   "cell_type": "markdown",
   "metadata": {},
   "source": [
    "무한루프 : 반복적으로 동작할 구문에서 조건식에 들어있는 변수를 조작하지 않거나 잘못된 방향으로 조작하여 조건식을 항상 충족하는 경우 해당 반복문을 무한하게 반복하게된다 "
   ]
  },
  {
   "cell_type": "code",
   "execution_count": null,
   "metadata": {},
   "outputs": [],
   "source": [
    "a = 3  # a = True, [1], (1), {1}, {1:1} ...\n",
    "while a:\n",
    "    print(a)\n",
    "    a += 1 # 증가되는경우 어떠한 수라도 발생\n"
   ]
  },
  {
   "cell_type": "markdown",
   "metadata": {},
   "source": [
    "연구과제 1"
   ]
  },
  {
   "cell_type": "code",
   "execution_count": 33,
   "metadata": {},
   "outputs": [
    {
     "name": "stdout",
     "output_type": "stream",
     "text": [
      "2550\n"
     ]
    }
   ],
   "source": [
    "i = 0\n",
    "i_sum = 0\n",
    "while i <101:\n",
    "    i_sum += i\n",
    "    i +=2\n",
    "print(i_sum)"
   ]
  },
  {
   "cell_type": "code",
   "execution_count": null,
   "metadata": {},
   "outputs": [],
   "source": []
  },
  {
   "cell_type": "markdown",
   "metadata": {},
   "source": [
    "연구과제2"
   ]
  },
  {
   "cell_type": "code",
   "execution_count": 36,
   "metadata": {},
   "outputs": [
    {
     "name": "stdout",
     "output_type": "stream",
     "text": [
      "{'A': 3, 'B': 2, 'AB': 2, 'O': 3}\n"
     ]
    },
    {
     "data": {
      "text/plain": [
       "{'A': 3, 'O': 3, 'B': 2, 'AB': 2}"
      ]
     },
     "execution_count": 36,
     "metadata": {},
     "output_type": "execute_result"
    }
   ],
   "source": [
    "A = ['A','A','A','O','B','B','O','AB','AB','O']\n",
    "check = 0\n",
    "result = {\"A\":0 , 'B':0, 'AB':0, 'O':0}\n",
    "while check <len(A):\n",
    "    result[A[check]] += 1\n",
    "    check +=1\n",
    "print(result)\n",
    "B = {x: A.count(x) for x in A}\n",
    "B\n"
   ]
  },
  {
   "cell_type": "markdown",
   "metadata": {},
   "source": [
    "추가문제"
   ]
  },
  {
   "cell_type": "code",
   "execution_count": 61,
   "metadata": {},
   "outputs": [
    {
     "name": "stdout",
     "output_type": "stream",
     "text": [
      "당신은 32세 남자입니다.\n"
     ]
    }
   ],
   "source": [
    "ssn = input('주민등록번호 앞부분과 뒷부분의 첫번째 글자를 입력하세요')\n",
    "age = (123 - int(ssn[:2]) +1)%100\n",
    "if int(ssn[-1])%2 == 0 :\n",
    "    b = '여자'\n",
    "else : b = '남자'\n",
    "print(f'당신은 {age}세 {b}입니다.')\n"
   ]
  },
  {
   "cell_type": "code",
   "execution_count": 41,
   "metadata": {},
   "outputs": [
    {
     "name": "stdout",
     "output_type": "stream",
     "text": [
      "B\n"
     ]
    }
   ],
   "source": [
    "score = int(input('점수를 입력하세요'))\n",
    "if 90 <= score <= 100 : print('A')\n",
    "elif 80 <= score : print('B')\n",
    "elif 70 <= score : print('C')\n",
    "elif 60 <= score : print('D')\n",
    "else : print('F')\n"
   ]
  },
  {
   "cell_type": "code",
   "execution_count": 57,
   "metadata": {},
   "outputs": [
    {
     "name": "stdout",
     "output_type": "stream",
     "text": [
      "4000\n"
     ]
    }
   ],
   "source": [
    "a = 1\n",
    "count = 0\n",
    "while a<10001:\n",
    "    count += str(a).count('8')\n",
    "    a+=1\n",
    "print(count)\n",
    "\n"
   ]
  },
  {
   "cell_type": "code",
   "execution_count": 47,
   "metadata": {},
   "outputs": [
    {
     "name": "stdout",
     "output_type": "stream",
     "text": [
      "8\n"
     ]
    }
   ],
   "source": [
    "a = 100\n",
    "count = -1\n",
    "while a >0 :\n",
    "    a *= 3\n",
    "    a //= 5\n",
    "    count +=1\n",
    "print(count)"
   ]
  },
  {
   "cell_type": "code",
   "execution_count": 64,
   "metadata": {},
   "outputs": [
    {
     "name": "stdout",
     "output_type": "stream",
     "text": [
      "0\n"
     ]
    }
   ],
   "source": [
    "K,N,M = input().split()\n",
    "K = int(K)\n",
    "N = int(N)\n",
    "M = int(M)\n",
    "if M >= K*N :\n",
    "    print('0')\n",
    "else : print(K*N-M)"
   ]
  },
  {
   "cell_type": "code",
   "execution_count": null,
   "metadata": {},
   "outputs": [],
   "source": []
  }
 ],
 "metadata": {
  "kernelspec": {
   "display_name": "Python 3",
   "language": "python",
   "name": "python3"
  },
  "language_info": {
   "codemirror_mode": {
    "name": "ipython",
    "version": 3
   },
   "file_extension": ".py",
   "mimetype": "text/x-python",
   "name": "python",
   "nbconvert_exporter": "python",
   "pygments_lexer": "ipython3",
   "version": "3.12.0"
  }
 },
 "nbformat": 4,
 "nbformat_minor": 2
}
