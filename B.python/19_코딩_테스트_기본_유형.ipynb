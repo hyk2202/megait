{
 "cells": [
  {
   "cell_type": "markdown",
   "metadata": {},
   "source": [
    "# 19. 코딩테스트 기본유형\n",
    "## 1. 반복 범위의 동적 설정"
   ]
  },
  {
   "cell_type": "code",
   "execution_count": 8,
   "metadata": {},
   "outputs": [
    {
     "name": "stdout",
     "output_type": "stream",
     "text": [
      "*\n",
      "**\n",
      "***\n",
      "****\n",
      "*****\n"
     ]
    }
   ],
   "source": [
    "for i in range(5):\n",
    "    star = ''\n",
    "    for j in range(i+1): \n",
    "        star += '*'\n",
    "    print(star)\n"
   ]
  },
  {
   "cell_type": "code",
   "execution_count": 11,
   "metadata": {},
   "outputs": [
    {
     "name": "stdout",
     "output_type": "stream",
     "text": [
      "*****\n",
      "****\n",
      "***\n",
      "**\n",
      "*\n"
     ]
    }
   ],
   "source": [
    "for i in range(5):\n",
    "    star = ''\n",
    "    for j in range(5-i): \n",
    "        star += '*'\n",
    "    print(star)"
   ]
  },
  {
   "cell_type": "markdown",
   "metadata": {},
   "source": [
    "### 리스트의 탐색\n",
    "### 리스트의 정렬"
   ]
  },
  {
   "cell_type": "code",
   "execution_count": 17,
   "metadata": {},
   "outputs": [
    {
     "data": {
      "text/plain": [
       "238000"
      ]
     },
     "execution_count": 17,
     "metadata": {},
     "output_type": "execute_result"
    }
   ],
   "source": [
    "A = [4,3,3,4,5,7,6]\n",
    "money = 0\n",
    "for i in range(len(A)):\n",
    "    if i <5 :\n",
    "        x = 9500\n",
    "    else:\n",
    "        x = 13000\n",
    "    money += i*x\n",
    "money\n",
    "\n"
   ]
  },
  {
   "cell_type": "code",
   "execution_count": 19,
   "metadata": {},
   "outputs": [
    {
     "name": "stdout",
     "output_type": "stream",
     "text": [
      "판매금액은 404816.4입니다.\n"
     ]
    }
   ],
   "source": [
    "A = [\n",
    "    {'수량':291,'단가':500},\n",
    "    {'수량':586,'단가':320},\n",
    "    {'수량':460,'단가':100},\n",
    "    {'수량':558,'단가':120},\n",
    "    {'수량':18,'단가':92},\n",
    "    {'수량':72,'단가':30}\n",
    "]\n",
    "earn = 0\n",
    "for i in A:\n",
    "    earn += i['수량']*i['단가']*0.9\n",
    "print(f'판매금액은 {earn}입니다.')\n"
   ]
  }
 ],
 "metadata": {
  "kernelspec": {
   "display_name": "Python 3",
   "language": "python",
   "name": "python3"
  },
  "language_info": {
   "codemirror_mode": {
    "name": "ipython",
    "version": 3
   },
   "file_extension": ".py",
   "mimetype": "text/x-python",
   "name": "python",
   "nbconvert_exporter": "python",
   "pygments_lexer": "ipython3",
   "version": "3.12.0"
  }
 },
 "nbformat": 4,
 "nbformat_minor": 2
}
