{
 "cells": [
  {
   "cell_type": "markdown",
   "metadata": {},
   "source": [
    "# 28. 파일 및 폴더 관련 모듈\n",
    "\n",
    "\n",
    "\n"
   ]
  },
  {
   "cell_type": "code",
   "execution_count": 26,
   "metadata": {},
   "outputs": [
    {
     "name": "stdout",
     "output_type": "stream",
     "text": [
      "win32\n"
     ]
    }
   ],
   "source": [
    "import sys\n",
    "import os \n",
    "\n",
    "print(sys.platform) # 윈도우 = 'win32', Mac='darwin', Linux = 'linux1 or linux2'\n",
    "# 협업시 체제별로 코드를 나눠줄때 사용\n"
   ]
  },
  {
   "cell_type": "code",
   "execution_count": 18,
   "metadata": {},
   "outputs": [
    {
     "name": "stdout",
     "output_type": "stream",
     "text": [
      "['.git', '03_첫_번째_파이썬_프로그램.ipynb', '04_변수의_이해.ipynb', '05_함수와_객체의_이해.ipynb', '06_연산자.ipynb', '07_문자열의 이해.ipynb', '08_문자열_포멧팅.ipynb', '09_문자열_관련_함수.ipynb', '10_리스트의_이해.ipynb', '11_리스트의_활용.ipynb', '12_리스트_관련_함수.ipynb', '13_딕셔너리의_이해.ipynb', '14_딕셔너리의_활용.ipynb', '15_조건문.ipynb', '16_반복문(1)_WHILE문.ipynb', '17_반복문(2)_FOR문.ipynb', '18_프로그램_흐름제어.ipynb', '19_코딩_테스트_기본_유형.ipynb', '20_중간점검_문제.ipynb', '22_함수의_이해.ipynb', '23_파일_입출력.ipynb', '24_CSV_파일_다루기.ipynb', '25_클래스와_객체.ipynb', '26_01.PNG', '26_생성자,정보은닉,프로퍼티.ipynb', '27_모듈의_이해.ipynb', '28_파일_및_폴더_관련_모듈.ipynb', 'grade.csv', 'grade2.csv', 'hello', 'hellopython.txt', 'helloworld.txt', 'MyMod1.py', 'MyMod2.py', 'MyMod3.py', 'traffic_acc.csv', '[파이썬-01일차] 파이썬 시작, 개발환경구성, HelloPython.pdf', '[파이썬-02일차] 변수의 이해, 함수와 객체의 이해, 연산자.pdf', '[파이썬-03일차] 문자열의 이해, 문자열 포메팅, 문자열 함수.pdf', '[파이썬-04일차] 리스트의 이해+활용+함수.pdf', '[파이썬-05일차] 딕셔너리의 이해+활용, 조건문.pdf', '[파이썬-06일차] 반복문(while, for), 흐름제어.pdf', '[파이썬-07일차] 문제유형+종합문제.pdf', '[파이썬-08일차] 함수의 이해, 파일 입출력, CSV 다루기.pdf', '[파이썬-09일차] 클래스와 객체, 생성자+정보은닉+프로퍼티, 모듈의 이해.pdf', '[파이썬-10일차] 파일 및 폴더, 날짜 및 시간, 메일 발송.pdf', '__pycache__', '문제풀이.pdf', '비밀번호.py', '추가문제.pdf']\n",
      "True\n",
      "c:\\Users\\김한열\\Desktop\\산대특\\python\\hello\n"
     ]
    }
   ],
   "source": [
    "ls = os.listdir('./')\n",
    "print(ls)\n",
    "k = os.path.exists('./hello') # 특정 폴더나 파일이 존재하는지 확인\n",
    "print(k)\n",
    "print(os.path.abspath('./hello')) # 절대경로 표시, 파일이 없을시 현재 작업폴더 하위로 표현"
   ]
  },
  {
   "cell_type": "code",
   "execution_count": 19,
   "metadata": {},
   "outputs": [
    {
     "name": "stdout",
     "output_type": "stream",
     "text": [
      "hello 폴더를 삭제했습니다.\n"
     ]
    }
   ],
   "source": [
    "if not os.path.exists('./hello'):\n",
    "    # 없다면 생성\n",
    "    os.mkdir('./hello')\n",
    "    print('hello 폴더를 생성했습니다.')\n",
    "else:\n",
    "    # 있다면 제거 -> 빈폴더만 삭제 가능\n",
    "    os.rmdir('./hello')\n",
    "    print('hello 폴더를 삭제했습니다.')"
   ]
  },
  {
   "cell_type": "code",
   "execution_count": 21,
   "metadata": {},
   "outputs": [
    {
     "name": "stdout",
     "output_type": "stream",
     "text": [
      "['03_첫_번째_파이썬_프로그램.ipynb', '04_변수의_이해.ipynb', '05_함수와_객체의_이해.ipynb', '06_연산자.ipynb', '07_문자열의 이해.ipynb', '08_문자열_포멧팅.ipynb', '09_문자열_관련_함수.ipynb', '10_리스트의_이해.ipynb', '11_리스트의_활용.ipynb', '12_리스트_관련_함수.ipynb', '13_딕셔너리의_이해.ipynb', '14_딕셔너리의_활용.ipynb', '15_조건문.ipynb', '16_반복문(1)_WHILE문.ipynb', '17_반복문(2)_FOR문.ipynb', '18_프로그램_흐름제어.ipynb', '19_코딩_테스트_기본_유형.ipynb', '20_중간점검_문제.ipynb', '22_함수의_이해.ipynb', '23_파일_입출력.ipynb', '24_CSV_파일_다루기.ipynb', '25_클래스와_객체.ipynb', '26_01.PNG', '26_생성자,정보은닉,프로퍼티.ipynb', '27_모듈의_이해.ipynb', '28_파일_및_폴더_관련_모듈.ipynb', 'grade.csv', 'grade2.csv', 'hellopython.txt', 'helloworld.txt', 'MyMod1.py', 'MyMod2.py', 'MyMod3.py', 'traffic_acc.csv', '[파이썬-01일차] 파이썬 시작, 개발환경구성, HelloPython.pdf', '[파이썬-02일차] 변수의 이해, 함수와 객체의 이해, 연산자.pdf', '[파이썬-03일차] 문자열의 이해, 문자열 포메팅, 문자열 함수.pdf', '[파이썬-04일차] 리스트의 이해+활용+함수.pdf', '[파이썬-05일차] 딕셔너리의 이해+활용, 조건문.pdf', '[파이썬-06일차] 반복문(while, for), 흐름제어.pdf', '[파이썬-07일차] 문제유형+종합문제.pdf', '[파이썬-08일차] 함수의 이해, 파일 입출력, CSV 다루기.pdf', '[파이썬-09일차] 클래스와 객체, 생성자+정보은닉+프로퍼티, 모듈의 이해.pdf', '[파이썬-10일차] 파일 및 폴더, 날짜 및 시간, 메일 발송.pdf', '__pycache__', '문제풀이.pdf', '비밀번호.py', '추가문제.pdf']\n"
     ]
    }
   ],
   "source": [
    "import glob as gl\n",
    "\n",
    "# 현재 폴더의 모든 하위 요소 조회하기\n",
    "ls = gl.glob('*')\n",
    "print(ls)"
   ]
  },
  {
   "cell_type": "code",
   "execution_count": 22,
   "metadata": {},
   "outputs": [
    {
     "name": "stdout",
     "output_type": "stream",
     "text": [
      "['03_첫_번째_파이썬_프로그램.ipynb', '04_변수의_이해.ipynb', '05_함수와_객체의_이해.ipynb', '06_연산자.ipynb', '07_문자열의 이해.ipynb', '08_문자열_포멧팅.ipynb', '09_문자열_관련_함수.ipynb', '10_리스트의_이해.ipynb', '11_리스트의_활용.ipynb', '12_리스트_관련_함수.ipynb', '13_딕셔너리의_이해.ipynb', '14_딕셔너리의_활용.ipynb', '15_조건문.ipynb', '16_반복문(1)_WHILE문.ipynb', '17_반복문(2)_FOR문.ipynb', '18_프로그램_흐름제어.ipynb', '19_코딩_테스트_기본_유형.ipynb', '20_중간점검_문제.ipynb', '22_함수의_이해.ipynb', '23_파일_입출력.ipynb', '24_CSV_파일_다루기.ipynb', '25_클래스와_객체.ipynb', '26_생성자,정보은닉,프로퍼티.ipynb', '27_모듈의_이해.ipynb', '28_파일_및_폴더_관련_모듈.ipynb']\n"
     ]
    }
   ],
   "source": [
    "# 현재 폴더에서 '.ipynb'로 끝나는 모든 요소  조회\n",
    "ls = gl.glob('*.ipynb')\n",
    "print(ls)"
   ]
  },
  {
   "cell_type": "code",
   "execution_count": 24,
   "metadata": {},
   "outputs": [
    {
     "name": "stdout",
     "output_type": "stream",
     "text": [
      "['12_리스트_관련_함수.ipynb', '17_반복문(2)_FOR문.ipynb', '20_중간점검_문제.ipynb', '22_함수의_이해.ipynb', '23_파일_입출력.ipynb', '24_CSV_파일_다루기.ipynb', '25_클래스와_객체.ipynb', '26_01.PNG', '26_생성자,정보은닉,프로퍼티.ipynb', '27_모듈의_이해.ipynb', '28_파일_및_폴더_관련_모듈.ipynb', 'grade2.csv', 'MyMod2.py', '[파이썬-02일차] 변수의 이해, 함수와 객체의 이해, 연산자.pdf']\n"
     ]
    }
   ],
   "source": [
    "# 현재 폴더에서 '2'를 포함하는 모든 요소  조회\n",
    "ls = gl.glob('*2*')\n",
    "print(ls)"
   ]
  },
  {
   "cell_type": "code",
   "execution_count": 36,
   "metadata": {},
   "outputs": [
    {
     "name": "stdout",
     "output_type": "stream",
     "text": [
      "python 폴더와 하위 폴더들을 생성 했습니다.\n"
     ]
    }
   ],
   "source": [
    "import shutil\n",
    "\n",
    "if not os.path.exists('python'):\n",
    "    # 순환적으로 폴더를 생성함 -> exist_ok =True 옵션은 이미 존재하더라도 에러 발생 안함\n",
    "    os.makedirs('./python/test/hello/world', exist_ok = True)\n",
    "    print('python 폴더와 하위 폴더들을 생성 했습니다.')\n",
    "\n",
    "# 있을경우?\n",
    "else:\n",
    "    # 비어있지 않은 폴더도 강제 삭제 -> 존재하지 않는 폴더인 경우 에러\n",
    "    shutil.rmtree('python')\n",
    "    print('pyhon 폴더가 삭제했습니다.')"
   ]
  },
  {
   "cell_type": "code",
   "execution_count": 37,
   "metadata": {},
   "outputs": [
    {
     "name": "stdout",
     "output_type": "stream",
     "text": [
      "python폴더가 ../created 폴더로 이동되었습니다.\n"
     ]
    }
   ],
   "source": [
    "# 폴더의 이동 \n",
    "if os.path.exists('python'):\n",
    "    shutil.move('python','../created')\n",
    "    print('python폴더가 ../created 폴더로 이동되었습니다.')"
   ]
  },
  {
   "cell_type": "code",
   "execution_count": 38,
   "metadata": {},
   "outputs": [
    {
     "name": "stdout",
     "output_type": "stream",
     "text": [
      "python폴더가 copy로 복사되었습니다.\n"
     ]
    }
   ],
   "source": [
    "# 폴더의 복사\n",
    "if os.path.exists('../created'):\n",
    "    shutil.copytree('../created','./copy')\n",
    "    print('python폴더가 copy로 복사되었습니다.')"
   ]
  },
  {
   "cell_type": "code",
   "execution_count": 40,
   "metadata": {},
   "outputs": [
    {
     "name": "stdout",
     "output_type": "stream",
     "text": [
      "hello.txt가 삭제되었습니다.\n",
      "world.txt가 삭제되었습니다.\n"
     ]
    }
   ],
   "source": [
    "# os모듈 내의 path 객체가 갖는 exsits() 함수를 사용\n",
    "\n",
    "# -> 'hello.txt'라는 파일이 존재하지 않는다면?\n",
    "\n",
    "if not os.path.exists('hello.txt'):\n",
    "    #테스트용 파일 생성\n",
    "    with open('hello.txt','w',encoding = 'utf-8') as f:\n",
    "        f.write('Life is too short, you need python')\n",
    "        print('hello.txt 파일을 생성했습니다.')\n",
    "    \n",
    "    # 생성한 파일을 복사 -> 이미 존재할 경우 덮어씀\n",
    "    shutil.copy('hello.txt', 'world.txt')\n",
    "    print('hello.txt가 world.txt로 복사되었습니다.')\n",
    "\n",
    "else : \n",
    "    os.remove('hello.txt')\n",
    "    print('hello.txt가 삭제되었습니다.')\n",
    "    os.remove('world.txt')\n",
    "    print('world.txt가 삭제되었습니다.')"
   ]
  },
  {
   "cell_type": "markdown",
   "metadata": {},
   "source": []
  }
 ],
 "metadata": {
  "kernelspec": {
   "display_name": "Python 3",
   "language": "python",
   "name": "python3"
  },
  "language_info": {
   "codemirror_mode": {
    "name": "ipython",
    "version": 3
   },
   "file_extension": ".py",
   "mimetype": "text/x-python",
   "name": "python",
   "nbconvert_exporter": "python",
   "pygments_lexer": "ipython3",
   "version": "3.12.0"
  }
 },
 "nbformat": 4,
 "nbformat_minor": 2
}
