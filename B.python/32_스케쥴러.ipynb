{
 "cells": [
  {
   "cell_type": "markdown",
   "metadata": {},
   "source": [
    "# 32강 스케쥴러\n",
    "\n",
    "특정 시간이나 정해진 간격에 따라 어떤 함수가 자동으로 실행되는 처리\n",
    "\n",
    "> ex) 1마다 한번씩 자동으로 수행되는 기능, 매일 자정에 자동으로 수행되는 기능\n",
    "\n",
    "apscheduler가 파이썬 공식문서에서 소개되고 있으므로 권장\n",
    "\n",
    "'''power shell\n",
    "$ pip install --upgrade apscheduler\n",
    "'''\n"
   ]
  },
  {
   "cell_type": "markdown",
   "metadata": {},
   "source": [
    "## #01. 패키지 참조"
   ]
  },
  {
   "cell_type": "code",
   "execution_count": 1,
   "metadata": {},
   "outputs": [],
   "source": [
    "from apscheduler.schedulers.background import BackgroundScheduler\n",
    "from apscheduler.jobstores.base import JobLookupError\n",
    "import datetime as dt\n",
    "import time"
   ]
  },
  {
   "cell_type": "markdown",
   "metadata": {},
   "source": [
    "## 2) 스케쥴에 따라 자동으로 실행될 기능"
   ]
  },
  {
   "cell_type": "code",
   "execution_count": 2,
   "metadata": {},
   "outputs": [
    {
     "name": "stdout",
     "output_type": "stream",
     "text": [
      "[kim] I'm working.... | 2023/12/01 12:04:59\n"
     ]
    }
   ],
   "source": [
    "def myjob(name):\n",
    "    currentTime = dt.datetime.now()\n",
    "    timeFormat = currentTime.strftime('%Y/%m/%d %H:%M:%S')\n",
    "    print(f\"[{name}] I'm working.... | {timeFormat}\")\n",
    "\n",
    "myjob('kim')"
   ]
  },
  {
   "cell_type": "markdown",
   "metadata": {},
   "source": [
    "## #02. 스케쥴러 등록\n",
    "\n",
    "### 1) 정해진 간격마다 실행하기\n",
    "\n",
    "매 3초마다 실행\n",
    "\n",
    "#### 스케쥴러 객체 생성"
   ]
  },
  {
   "cell_type": "code",
   "execution_count": 3,
   "metadata": {},
   "outputs": [
    {
     "data": {
      "text/plain": [
       "<Job (id=myjob1 name=myjob)>"
      ]
     },
     "execution_count": 3,
     "metadata": {},
     "output_type": "execute_result"
    },
    {
     "name": "stdout",
     "output_type": "stream",
     "text": [
      "[kim] I'm working.... | 2023/12/01 12:05:12\n"
     ]
    }
   ],
   "source": [
    "sched = BackgroundScheduler()\n",
    "sched.start()\n",
    "\n",
    "sched.add_job(myjob, \"interval\", seconds = 3, args = ['kim'], id='myjob1') # 실행할 함수를 넣고 실행할 함수 안의 파라미터를 args에 리스트로 넘긴다\n",
    "# 중간에 \"interval\"을 넣고 seconds = 로 넣어준다"
   ]
  },
  {
   "cell_type": "code",
   "execution_count": 4,
   "metadata": {},
   "outputs": [],
   "source": [
    "sched.remove_job('myjob1')\n",
    "sched.shutdown()"
   ]
  },
  {
   "cell_type": "markdown",
   "metadata": {},
   "source": [
    "```python\n",
    "?print\n",
    "```\n",
    "\n",
    "```\n",
    "Signature: print(*args, sep=' ', end='\\n', file=None, flush=False)\n",
    "Docstring:\n",
    "Prints the values to a stream, or to sys.stdout by default.\n",
    "\n",
    "sep\n",
    "  string inserted between values, default a space.\n",
    "end\n",
    "  string appended after the last value, default a newline.\n",
    "file\n",
    "  a file-like object (stream); defaults to the current sys.stdout.\n",
    "flush\n",
    "  whether to forcibly flush the stream.\n",
    "Type:      builtin_function_or_method\n",
    "```\n",
    "\n",
    "위 코드처럼 ?함수이름 하면 해당 함수에 대한 설명이 나온다"
   ]
  },
  {
   "cell_type": "markdown",
   "metadata": {},
   "source": [
    "### 스케쥴러 실행"
   ]
  },
  {
   "cell_type": "code",
   "execution_count": 5,
   "metadata": {},
   "outputs": [],
   "source": [
    "sched = BackgroundScheduler()\n",
    "sched.start()\n",
    "\n"
   ]
  },
  {
   "cell_type": "markdown",
   "metadata": {},
   "source": [
    "### 스케쥴러 작업 등록\n",
    "\n",
    " > \"interval\" 사용 가능 파라미터 seconds, minute, hour, day, month, year, week, day_of_week(요일), start_date, end_date 등\n",
    "\n",
    "start_date, end_date 는 datetime 객체로 설정해야함"
   ]
  },
  {
   "cell_type": "code",
   "execution_count": 6,
   "metadata": {},
   "outputs": [
    {
     "data": {
      "text/plain": [
       "<Job (id=myjob1 name=myjob)>"
      ]
     },
     "execution_count": 6,
     "metadata": {},
     "output_type": "execute_result"
    },
    {
     "name": "stdout",
     "output_type": "stream",
     "text": [
      "[kim] I'm working.... | 2023/12/01 12:05:43\n",
      "[kim] I'm working.... | 2023/12/01 12:05:46\n",
      "[kim] I'm working.... | 2023/12/01 12:05:49\n"
     ]
    }
   ],
   "source": [
    "sched.add_job(myjob, \"interval\", seconds = 3, args = ['kim'], id='myjob1') # 실행할 함수를 넣고 실행할 함수 안의 파라미터를 args에 리스트로 넘긴다"
   ]
  },
  {
   "cell_type": "markdown",
   "metadata": {},
   "source": [
    "### 스케쥴러에서 작업 제거"
   ]
  },
  {
   "cell_type": "code",
   "execution_count": 19,
   "metadata": {},
   "outputs": [
    {
     "name": "stdout",
     "output_type": "stream",
     "text": [
      "스케쥴러 중지에 실패했습니다. 'No job by the id of myjob1 was found'\n"
     ]
    }
   ],
   "source": [
    "try:    \n",
    "    sched.remove_job('myjob1')\n",
    "    sched.shutdown() # 스케쥴러 종료\n",
    "except JobLookupError as je:\n",
    "    print('스케쥴러 중지에 실패했습니다.', je)"
   ]
  },
  {
   "cell_type": "markdown",
   "metadata": {},
   "source": [
    "### 2) cron 표현식으로 설정하기\n",
    "\n",
    "#### cron 표현식\n",
    "\n",
    "Linux, Mac 등에서 작업 스케쥴러를 등록할 때 사용하는 시간 단위 설정 표현식\n",
    "\n",
    "공백으로 구분하는 7자리의 값으로 구성됨\n",
    "\n",
    "```shell\n",
    "* * * * * * * # 매초 매분 매시 매일 매월 매요일 매년 마다\n",
    "```\n",
    "\n",
    "각 자리는 순서대로 '<초> <분> <시> <일> <월> <요일> <년>' 을 의미함\n",
    "\n",
    "#### (각셀의) 값의 설정 방법\n",
    "\n",
    "| 필드 | 허용되는 값 | 허용되는 특수문자 |\n",
    "|---|---|---|\n",
    "| 초 (Seconds) | 0 ~ 59 | `,` `-` `*` `/` |\n",
    "| 분 (Minutes) | 0 ~ 59 | `,` `-` `*` `/` |\n",
    "| 시 (Hours) | 0 ~ 23 | `,` `-` `*` `/` |\n",
    "| 일 (Day of month) | 1 ~ #! | `,` `-` `*` `/` `L` `W` |\n",
    "| 월 (Month) | 1 ~ 12 또는 JAN ~ DEC | `,` `-` `*` `/` |\n",
    "| 요일 (Day of week) | 0 ~ 6 또는 SUN ~ SAT | `,` `-` `*` `/` `L` `#` |\n",
    "| 년 (Year) | 1970 ~ 2099 | `,` `-` `*` `/` |\n",
    "\n",
    "#### 특수문자의 의미\n",
    "\n",
    "- `*` : 모든 값을 뜻합니다.\n",
    "- \n",
    "- `?` : 특정한 값이 없음을 뜻합니다.\n",
    "- \n",
    "- `-` : 범위를 뜻합니다. (예) 월요일에서 수요일 까지는 MON_WED로 표현\n",
    "\n",
    "- `,` : 특별한 값일때만 동작 (예) 월,수,금 MON,WED,FRI\n",
    "\n",
    "- `/` : 시작시간/단위 (예) 10분마다 매 5분 10/5\n",
    "\n",
    "- `L` : 일에서 사용하면 마지막 일, 요일에서는 마지막 요일(토)\n",
    "\n",
    "- `W` : 가장 가까운 평일 (예) 15W 는 15일에서 가장 가까운 평일(월~금)을 찾ㅇㅁ\n",
    "\n",
    "- `#` : 몇째주의 무슨 요일을 표현 (예) 3#2 : 2번째주 수요일\n",
    "\n",
    "\n",
    "(http://crontab.cronhub.io/) << 들어가서 입력하면 동작시간을 표현해줌\n",
    "\n"
   ]
  },
  {
   "cell_type": "code",
   "execution_count": 8,
   "metadata": {},
   "outputs": [],
   "source": [
    "sched = BackgroundScheduler()\n",
    "sched.start()"
   ]
  },
  {
   "cell_type": "code",
   "execution_count": 9,
   "metadata": {},
   "outputs": [
    {
     "data": {
      "text/plain": [
       "<Job (id=myjob3 name=myjob)>"
      ]
     },
     "execution_count": 9,
     "metadata": {},
     "output_type": "execute_result"
    },
    {
     "name": "stdout",
     "output_type": "stream",
     "text": [
      "[hong] I'm working.... | 2023/12/01 12:06:04\n",
      "[hong] I'm working.... | 2023/12/01 12:06:06\n",
      "[hong] I'm working.... | 2023/12/01 12:06:08\n",
      "[hong] I'm working.... | 2023/12/01 12:06:10\n",
      "[hong] I'm working.... | 2023/12/01 12:06:12\n"
     ]
    }
   ],
   "source": [
    "# 2초마다가 아닌, 매 분 2초가 됨\n",
    "# -> 2 * * * * * *\n",
    "sched.add_job(myjob, 'cron', second=2 , args = ['kim'], id = 'myjob2')\n",
    "\n",
    "# 매초(*)마다 2초 간격(/2)으로 ~\n",
    "sched.add_job(myjob, 'cron', second='*/2' , args = ['hong'], id = 'myjob3')\n",
    "\n"
   ]
  },
  {
   "cell_type": "code",
   "execution_count": 10,
   "metadata": {},
   "outputs": [],
   "source": [
    "sched.remove_job('myjob2')\n",
    "sched.remove_job('myjob3')\n",
    "sched.shutdown()"
   ]
  },
  {
   "cell_type": "markdown",
   "metadata": {},
   "source": [
    "### 3) 특정한 시각에 수행(예약수행)"
   ]
  },
  {
   "cell_type": "code",
   "execution_count": 12,
   "metadata": {},
   "outputs": [
    {
     "data": {
      "text/plain": [
       "<Job (id=d9914af4b02a46c188d0e0da18d4ffbe name=myjob)>"
      ]
     },
     "execution_count": 12,
     "metadata": {},
     "output_type": "execute_result"
    }
   ],
   "source": [
    "sched = BackgroundScheduler()\n",
    "sched.start()\n",
    "\n",
    "targetDate = dt.datetime(2023,12,1,12,7,0)\n",
    "sched.add_job(myjob, 'date', run_date = targetDate, args=['park'])\n",
    "\n",
    "\n"
   ]
  },
  {
   "cell_type": "code",
   "execution_count": null,
   "metadata": {},
   "outputs": [],
   "source": [
    "# 예약된 시각에 1회 수행하고 종료하므로 remove_job을 할 필요가 없다\n",
    "\n",
    "sched.shutdown()"
   ]
  },
  {
   "cell_type": "markdown",
   "metadata": {},
   "source": [
    "## #03. 메일링 리스트 개선\n"
   ]
  },
  {
   "cell_type": "code",
   "execution_count": 13,
   "metadata": {},
   "outputs": [
    {
     "name": "stdout",
     "output_type": "stream",
     "text": [
      "[park] I'm working.... | 2023/12/01 12:07:00\n"
     ]
    }
   ],
   "source": [
    "# 메일발송(처리속도차이확인)\n",
    "import MyMailer\n",
    "\n",
    "# 비동기 처리 기능 제공\n",
    "import concurrent.futures as futures"
   ]
  },
  {
   "cell_type": "code",
   "execution_count": 14,
   "metadata": {},
   "outputs": [],
   "source": [
    "today = dt.datetime.now()\n",
    "year = today.year\n",
    "month = today.month\n",
    "day = today.day\n",
    "\n",
    "fromAddr = '운영지원팀 <hyk2202@gmail.com>'\n",
    "subjectTmpl = '{name}님의 {yy}년 {mm}월 급여명세서 입니다.'\n",
    "\n",
    "with open('mail/content.txt','r',encoding='utf-8') as f:\n",
    "    contentTmpl = f.read()"
   ]
  },
  {
   "cell_type": "code",
   "execution_count": 16,
   "metadata": {},
   "outputs": [],
   "source": [
    "def sendmail():\n",
    "    startTime = dt.datetime.now()\n",
    "\n",
    "    with open('mail/mail_list.csv','r',encoding='euc-kr') as f:\n",
    "        csv = f.readlines()\n",
    "        with futures.ThreadPoolExecutor(max_workers=10) as executor:\n",
    "            for line in csv:\n",
    "                name,email,file1,file2 = line.strip().split(',')\n",
    "                toAddr = '{name} <{email}>'.format(name=name,email=email)\n",
    "                subject = subjectTmpl.format(name =name, yy = year, mm = month)\n",
    "                content = contentTmpl.format(name = name, yy = year, mm = month, dd= day)\n",
    "\n",
    "                # MyMailer.sendMail(fromAddr, toAddr, subject, content, [file1, file2])\n",
    "                executor.submit(MyMailer.sendMail, fromAddr, toAddr, subject, content, [file1, file2])\n",
    "\n",
    "    endTime = dt.datetime.now()\n",
    "    workTime = endTime - startTime\n",
    "    print(f'작업에 소요된 시간은 총 {workTime.seconds}초 입니다.')"
   ]
  },
  {
   "cell_type": "code",
   "execution_count": 17,
   "metadata": {},
   "outputs": [
    {
     "data": {
      "text/plain": [
       "<Job (id=mymailer name=sendmail)>"
      ]
     },
     "execution_count": 17,
     "metadata": {},
     "output_type": "execute_result"
    }
   ],
   "source": [
    "sched = BackgroundScheduler()\n",
    "sched.start()\n",
    "sched.add_job(sendmail, 'cron', second='*/5', id = 'mymailer')\n"
   ]
  },
  {
   "cell_type": "code",
   "execution_count": 18,
   "metadata": {},
   "outputs": [
    {
     "name": "stdout",
     "output_type": "stream",
     "text": [
      "작업에 소요된 시간은 총 3초 입니다.\n"
     ]
    }
   ],
   "source": [
    "sched.remove_job('mymailer')\n",
    "sched.shutdown()"
   ]
  }
 ],
 "metadata": {
  "kernelspec": {
   "display_name": "Python 3",
   "language": "python",
   "name": "python3"
  },
  "language_info": {
   "codemirror_mode": {
    "name": "ipython",
    "version": 3
   },
   "file_extension": ".py",
   "mimetype": "text/x-python",
   "name": "python",
   "nbconvert_exporter": "python",
   "pygments_lexer": "ipython3",
   "version": "3.12.0"
  }
 },
 "nbformat": 4,
 "nbformat_minor": 2
}
