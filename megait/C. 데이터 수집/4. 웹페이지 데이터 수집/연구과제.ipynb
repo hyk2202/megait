{
 "cells": [
  {
   "cell_type": "markdown",
   "metadata": {},
   "source": [
    "신문사하나정해서\n",
    "\n",
    "10페이지 컨텐츠를 수집해서 신문내용긁어오기"
   ]
  },
  {
   "cell_type": "markdown",
   "metadata": {},
   "source": [
    "## #01. 준비과정\n",
    "### [1] 패키지 참조\n"
   ]
  },
  {
   "cell_type": "code",
   "execution_count": 3,
   "metadata": {},
   "outputs": [],
   "source": [
    "import datetime as dt\n",
    "import requests\n",
    "import os\n",
    "import time\n",
    "from bs4 import BeautifulSoup\n",
    "import markdownify as mf\n",
    "from tqdm.notebook import tqdm\n",
    "import re\n",
    "import concurrent.futures as futures"
   ]
  },
  {
   "cell_type": "markdown",
   "metadata": {},
   "source": [
    "### [2] 접속할 데이터의 URL"
   ]
  },
  {
   "cell_type": "code",
   "execution_count": 4,
   "metadata": {},
   "outputs": [],
   "source": [
    "\n",
    "url_page = \"https://it.chosun.com/news/articleList.html?page={pageNumber}&total=30235&box_idxno=&sc_section_code=S1N4&view_type=sm\" # 페이지\n"
   ]
  },
  {
   "cell_type": "markdown",
   "metadata": {},
   "source": [
    "## #02. 데이터 요청하기\n",
    "### [1] 세션 생성"
   ]
  },
  {
   "cell_type": "code",
   "execution_count": 5,
   "metadata": {},
   "outputs": [],
   "source": [
    "session = requests.Session()\n",
    "\n",
    "session.headers.update({\n",
    "    \"Referer\": \"\",\n",
    "    \"User-Agent\": \"Mozilla/5.0 (Windows NT 10.0; Win64; x64) AppleWebKit/537.36 (KHTML, like Gecko) Chrome/120.0.0.0 Safari/537.36\"\n",
    "})"
   ]
  },
  {
   "cell_type": "code",
   "execution_count": 6,
   "metadata": {},
   "outputs": [],
   "source": [
    "def getUrl(session, url_page, url_set):\n",
    "    domain = \"https://it.chosun.com\"\n",
    "    \n",
    "    try:\n",
    "        r = session.get(url_page)\n",
    "        if r.status_code != 200:\n",
    "            msg = \"[%d Error] %s 에러가 발생함\" % (r.status_code, r.reason)\n",
    "            raise Exception(msg)\n",
    "    except Exception as e:\n",
    "        print(\"접속에 실패했습니다.\")\n",
    "        print(e)\n",
    "\n",
    "    r.encoding = \"utf-8\"\n",
    "    soup = BeautifulSoup(r.text)\n",
    "\n",
    "    body = soup.select(\"#section-list\")[0]\n",
    "    title = body.text.strip()\n",
    "    title = title.split(\"\\n\")\n",
    "    for i,v in enumerate(title):\n",
    "        title[i] = v.strip()\n",
    "    new_title = []\n",
    "    for i in title:\n",
    "        if i: new_title.append(i)\n",
    "    title_list = []\n",
    "    datetime_list = []\n",
    "\n",
    "    for i in range(len(new_title)//4):\n",
    "        title_list.append(new_title[i*4])\n",
    "        datetime = new_title[i*4+3].replace('.','').replace(':','').replace(' ','')\n",
    "        datetime_list.append(datetime)\n",
    "\n",
    "    urlset = soup.select(\"#section-list > .type > .item > a[href]\")\n",
    "    articleUrl = []\n",
    "    for v in urlset:\n",
    "        articleUrl.append(domain + v.attrs['href'])\n",
    "\n",
    "    mydata = []\n",
    "\n",
    "    title_loss = '\\\\/:*?\\\"<>|' \n",
    "    \n",
    "    for i in range(20):\n",
    "        \n",
    "        A = title_list[i]\n",
    "        for j in title_loss: # 파일명에 붙일 수 없는 특수문자 제거\n",
    "            A = A.replace(j,'')\n",
    "\n",
    "        # A = re.sub(r\"[^ㄱ-ㅎ가-힣0-9a-zA-Z\\s]\", \"\", title_list[i]) # 정규표현식을 이용하여 한글/숫자/영어/띄어쓰기만 남긴다. => 특수문자 모두 제거됨\n",
    "        # re.sub(정규표현식, 변경문자열, 원본문자열) : 원본문자열에서 정규표현식에 해당되는것을 변경문자(열)로 치환함\n",
    "        # A = re.sub('[\\\\/:*?<>\\\"\\']','',title_list[i])\n",
    "        if articleUrl[i] in url_set: continue # 중복된 url 제거\n",
    "        url_set.add(articleUrl[i])\n",
    "        mydict = {\n",
    "            \"title\" : A,\n",
    "            \"datetime\" : datetime_list[i],\n",
    "            \"url\" : articleUrl[i]\n",
    "        }\n",
    "        mydata.append(mydict)\n",
    "\n",
    "    time.sleep(0.05)\n",
    "    return mydata\n",
    "    \n",
    " \n",
    "\n"
   ]
  },
  {
   "cell_type": "code",
   "execution_count": 7,
   "metadata": {},
   "outputs": [],
   "source": [
    "def getArticleBody(session, url):\n",
    "    domain = \"https://it.chosun.com\"\n",
    "    \n",
    "    try:\n",
    "        r = session.get(url)\n",
    "        \n",
    "        if r.status_code != 200:\n",
    "            msg = \"[%d Error] %s 에러가 발생함\" % (r.status_code, r.reason)\n",
    "            raise Exception(msg)\n",
    "    except Exception as e:\n",
    "        print(\"접속에 실패했습니다.\")\n",
    "        print(e)\n",
    "\n",
    "    # 게시글 영역 추출\n",
    "    r.encoding = \"utf-8\"\n",
    "    soup = BeautifulSoup(r.text)\n",
    "    content = soup.select(\".article-body\")[0]\n",
    "\n",
    "    # 문자열로 변환\n",
    "    body = str(content)\n",
    "    # 이미지부분 조정\n",
    "\n",
    "    rebody = body.replace('src=\"/',f'src=\"{domain}/')\n",
    "    # 마크다운으로 변경\n",
    "\n",
    "    time.sleep(0.05)  # 오래돌아야하는 경우 컴퓨터의 다른 프로그램을 위한 메모리를 남겨주기 위해 타임슬립을 걸어야한다.\n",
    "    return mf.markdownify(rebody)"
   ]
  },
  {
   "cell_type": "markdown",
   "metadata": {},
   "source": [
    "기존에 하던 식으로 하면 모든 데이터를 메모리에 저장하기때문에 효율적이지 못하다\n",
    "\n",
    "따라서, 따로 메모리에 저장하지 않고 바로 파일을 저장한다."
   ]
  },
  {
   "cell_type": "code",
   "execution_count": 8,
   "metadata": {},
   "outputs": [],
   "source": [
    "dirname = dt.datetime.now().strftime('신문기사_수집_%y%m%d_%H%M%S')\n",
    "\n",
    "if not os.path.exists(dirname):\n",
    "    os.mkdir(dirname)\n",
    "\n",
    "articleUrlSet = []\n",
    "with futures.ThreadPoolExecutor(max_workers=10) as executor:\n",
    "\n",
    "    for i in range(1,11):\n",
    "\n",
    "        pageNumber = i\n",
    "        url_set = set()\n",
    "        targetUrl = url_page.format(pageNumber = i)\n",
    "        for v in getUrl(session, targetUrl,url_set):\n",
    "            fu = executor.submit(getArticleBody, session, v['url'])\n",
    "            md = fu.result()\n",
    "            \n",
    "            fname = f\"{dirname}/{v['datetime']}_{v['title']}.md\"\n",
    "            fname = fname.replace('-','').replace(' ','_')\n",
    "            \n",
    "            with open(fname, 'w', encoding='utf-8') as f:\n",
    "                f.write(md)\n",
    "            time.sleep(0.05)\n",
    "\n"
   ]
  }
 ],
 "metadata": {
  "kernelspec": {
   "display_name": "Python 3",
   "language": "python",
   "name": "python3"
  },
  "language_info": {
   "codemirror_mode": {
    "name": "ipython",
    "version": 3
   },
   "file_extension": ".py",
   "mimetype": "text/x-python",
   "name": "python",
   "nbconvert_exporter": "python",
   "pygments_lexer": "ipython3",
   "version": "3.12.0"
  }
 },
 "nbformat": 4,
 "nbformat_minor": 2
}
