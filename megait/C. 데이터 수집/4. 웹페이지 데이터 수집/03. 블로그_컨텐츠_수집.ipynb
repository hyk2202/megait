{
 "cells": [
  {
   "cell_type": "markdown",
   "metadata": {},
   "source": [
    "# 블로그 컨텐츠 수집\n",
    "\n",
    "## #01. 웹 페이지 컨텐츠 수집 개요\n",
    "\n",
    "### [1] 웹 페이지 수집 기술 종류\n",
    "\n",
    "#### (1) 웹 스크랩핑\n",
    "\n",
    "하나의 웹 페이지에서 컨텐츠 일부를 수집하는 기술\n",
    "\n",
    "#### (2) 웹 크롤링\n",
    "\n",
    "하나의 웹 페이지에 연결된 다른 페이지까지 순차적으로 수집하는 기술\n",
    "\n",
    "크롤링을 수행하는 소프트웨어를 **크롤러** 라고 한다.\n",
    "\n",
    "대부분의 검색엔진이 크롤러에 해당한다.\n",
    "\n",
    "> 웹 페이지로부터 컨텐츠를 수집하기 위해서는 웹 페이지의 코드 구조를 사람이 파악하는 스킬이 중요하다.\n",
    "\n",
    "**html형식을 긁어오는 형태이기때문에 웹페이지가 개편되면 이전에 사용했던 코드는 재사용이 불가하다**\n",
    "\n",
    "### [2] 크롬 개발자 도구\n",
    "\n",
    "크롬 브라우저에서 `F12`키를 누르면 표시되는 웹페이지 분석 도구\n",
    "\n",
    "![그림](devtools.png)"
   ]
  },
  {
   "cell_type": "markdown",
   "metadata": {},
   "source": [
    "## #02. 준비과정\n",
    "### [1] 패키지 참조\n"
   ]
  },
  {
   "cell_type": "code",
   "execution_count": null,
   "metadata": {},
   "outputs": [],
   "source": [
    "import requests\n",
    "from bs4 import BeautifulSoup\n",
    "import datetime as dt"
   ]
  },
  {
   "cell_type": "markdown",
   "metadata": {},
   "source": [
    "### [2] 접속할 데이터의 URL"
   ]
  },
  {
   "cell_type": "code",
   "execution_count": null,
   "metadata": {},
   "outputs": [],
   "source": [
    "url = \"https://blog.hossam.kr\""
   ]
  },
  {
   "cell_type": "markdown",
   "metadata": {},
   "source": [
    "## #03. 데이터 요청하기\n",
    "### [1] 세션요청"
   ]
  },
  {
   "cell_type": "code",
   "execution_count": null,
   "metadata": {},
   "outputs": [],
   "source": [
    "session = requests.Session()\n",
    "\n",
    "session.headers.update({\n",
    "    \"Referer\": \"\",\n",
    "    \"User-Agent\": \"Mozilla/5.0 (Windows NT 10.0; Win64; x64) AppleWebKit/537.36 (KHTML, like Gecko) Chrome/120.0.0.0 Safari/537.36\"\n",
    "})"
   ]
  },
  {
   "cell_type": "markdown",
   "metadata": {},
   "source": [
    "### [2] 웹 페이지 소스코드 가져오기\n",
    "\n",
    "웹 페이지를 구성하는 HTML 소스코드를 `BeautifulSoup` 클래스 객체로 변환한다"
   ]
  },
  {
   "cell_type": "code",
   "execution_count": null,
   "metadata": {},
   "outputs": [],
   "source": [
    "try:\n",
    "    r = session.get(url)\n",
    "    \n",
    "    if r.status_code != 200:\n",
    "        msg = \"[%d Error] %s 에러가 발생함\" % (r.status_code, r.reason)\n",
    "        raise Exception(msg)\n",
    "except Exception as e:\n",
    "    print(\"접속에 실패했습니다.\")\n",
    "    print(e)\n",
    "\n",
    "\n",
    "r.encoding = \"utf-8\"\n",
    "soup = BeautifulSoup(r.text)\n"
   ]
  },
  {
   "cell_type": "markdown",
   "metadata": {},
   "source": [
    "## #04. 데이터 추출하기\n",
    "\n",
    "### [1] 원하는 부분 지정하는 전략\n",
    "\n",
    "1. 고유한 요소인 경우 `id` 속성을 찾는다.\n",
    "2. `id`가 없을 경우 혹은 복수 요소인 경우 `class` 속성을 찾는다.\n",
    "3. 둘 다 없을 경우 HTML 태그를 몇 단계 거슬러 올라가 `id` 나 `class`를 찾는다.\n",
    "   - `id`와 `class`는 고유 항목인지 복수 항목인지에 따라 결정한다.\n",
    "   - `class`가 반드시 복수 항목을 의미하는 것은 아니다.\n",
    "4. 태그 단계를 거슬러 올라간 경우 원하는 요소까지 자식/자손 선택자로 접근한다.(자손 선택자 권장)\n",
    "\n",
    "### [2] 글 묶음 가져오기\n",
    "\n",
    "soup객체의 `select()`메서드에 CSS선택자를 파라미터로 전달하여 원하는 부분을 추출한다.\n",
    "\n",
    "리턴 결과는 항상 리스트 형식이다.\n",
    "\n",
    "> 추출한 결과가 몇 개인지 항상 체크해야 한다."
   ]
  },
  {
   "cell_type": "code",
   "execution_count": null,
   "metadata": {},
   "outputs": [],
   "source": [
    "post = soup.select('.post')\n",
    "\n",
    "print(\"추출한 컨텐츠의 수 :\", len(post))\n"
   ]
  },
  {
   "cell_type": "markdown",
   "metadata": {},
   "source": [
    "### [3] 개별 글에 대한 처리"
   ]
  },
  {
   "cell_type": "code",
   "execution_count": 90,
   "metadata": {},
   "outputs": [
    {
     "name": "stdout",
     "output_type": "stream",
     "text": [
      "{'href': '/2023/08/21/Toy-%EC%84%9C%EB%B2%84_%EA%B0%80%EB%8F%99_%EC%84%A4%EC%A0%95_%EC%88%98%EC%A0%95/', 'rel': ['bookmark'], 'title': 'Permanent Link to /2023/08/21/Toy-%EC%84%9C%EB%B2%84_%EA%B0%80%EB%8F%99_%EC%84%A4%EC%A0%95_%EC%88%98%EC%A0%95/'}\n",
      "{'href': '/2023/08/20/Toy-Next.js+Express-%EB%B3%91%ED%95%A9/', 'rel': ['bookmark'], 'title': 'Permanent Link to /2023/08/20/Toy-Next.js+Express-%EB%B3%91%ED%95%A9/'}\n",
      "{'href': '/2023/08/17/Toy-%ED%86%A0%EC%9D%B4%ED%94%84%EB%A1%9C%EC%A0%9D%ED%8A%B8-%EC%8B%9C%EC%9E%91/', 'rel': ['bookmark'], 'title': 'Permanent Link to /2023/08/17/Toy-%ED%86%A0%EC%9D%B4%ED%94%84%EB%A1%9C%EC%A0%9D%ED%8A%B8-%EC%8B%9C%EC%9E%91/'}\n",
      "{'href': '/2023/07/13/Mac-OpenJDK-%EC%84%A4%EC%B9%98/', 'rel': ['bookmark'], 'title': 'Permanent Link to /2023/07/13/Mac-OpenJDK-%EC%84%A4%EC%B9%98/'}\n",
      "{'href': '/2023/07/12/Mac-%EA%B0%9C%EB%B0%9C%ED%99%98%EA%B2%BD%EA%B5%AC%EC%84%B1-%ED%95%84%EC%88%98%EC%9A%94%EC%86%8C/', 'rel': ['bookmark'], 'title': 'Permanent Link to /2023/07/12/Mac-%EA%B0%9C%EB%B0%9C%ED%99%98%EA%B2%BD%EA%B5%AC%EC%84%B1-%ED%95%84%EC%88%98%EC%9A%94%EC%86%8C/'}\n"
     ]
    }
   ],
   "source": [
    "mydata =[]\n",
    "for i, v in enumerate(post):\n",
    "    # print(v)\n",
    "\n",
    "    # 하나의 글 안에서 제목 영역을 찾는다.\n",
    "    entryTitle = v.select(\".entry-title a\")\n",
    "    # print(entryTitle)\n",
    "\n",
    "    # 추출된 요소가 각 게시글 안에서 하나만 존재하므로 `0`번째 원소에 직접 접근한다.\n",
    "    title = entryTitle[0].text.strip()\n",
    "    # print(title)\n",
    "\n",
    "    # 클릭시 이동할 페이지의 주소\n",
    "    if 'href' in entryTitle[0].attrs:\n",
    "        href = entryTitle[0].attrs['href']\n",
    "\n",
    "    # 같은 페이지 내에서 주소 이동할 경우 도메인 생략가능\n",
    "        \n",
    "    # 수집된 주소에 도메인이 없다면 덧붙여준다\n",
    "    if url not in href:\n",
    "        href = url+href\n",
    "\n",
    "    else:\n",
    "        href = None\n",
    "    # print(href)\n",
    "\n",
    "    # 작성일\n",
    "    published = v.select(\".published\")\n",
    "    # print(published)\n",
    "    datetime = published[0].attrs['datetime']\n",
    "    # print(datetime)\n",
    "    \n",
    "    # 요약글\n",
    "    entryContent = v.select(\".entry-content p\")\n",
    "    # print(entryContent)\n",
    "\n",
    "    # 마지막의 `more` 버튼은 제거한다.\n",
    "    # entryContent = entryContent[:-1] # python적 접근\n",
    "    # print(entryContent)\n",
    "\n",
    "    entryContent = v.select(\".entry-content p:not(.read-more)\") # CSS적 접근\n",
    "    # print(entryContent)\n",
    "\n",
    "    text = ''\n",
    "    for j, e in enumerate(entryContent): # 2개 이상인 경우도 있으므로 반복문\n",
    "        text += \" \" +e.text.strip() if j>0 else e.text.strip()\n",
    "    # print(text)\n",
    "\n",
    "    # 태그\n",
    "    tagLinks = v.select(\".tag-links a\")\n",
    "    # print(tagLinks)\n",
    "\n",
    "    \n",
    "    for j,e in enumerate(tagLinks):\n",
    "        tagLinks[j] = e.text.strip()\n",
    "    \n",
    "    tags = ','.join(tagLinks)\n",
    "    \n",
    "    # 수집된 정보를 하나의 딕셔너리로 묶는다 => 처리방법은 다르게해도 상관 없음\n",
    "    mydict = {\n",
    "        \"title\":title,\n",
    "        \"href\":href,\n",
    "        \"datetime\":datetime,\n",
    "        \"text\":text,\n",
    "        \"tags\":tags\n",
    "    }\n",
    "    mydata.append(mydict)\n"
   ]
  },
  {
   "cell_type": "markdown",
   "metadata": {},
   "source": [
    "### [4] 수집 결과 저장하기"
   ]
  },
  {
   "cell_type": "code",
   "execution_count": null,
   "metadata": {},
   "outputs": [],
   "source": [
    "fname = dt.datetime.now().strftime(\"블로그_글_수집_%y%m%d_%H%M%S.csv\")\n",
    "\n",
    "with open(fname, 'w', encoding='utf-8') as f:\n",
    "    for i,v in enumerate(mydata):\n",
    "        if i ==0 : \n",
    "            title = f'{\",\".join(v.keys())}\\n'\n",
    "            # print(title)\n",
    "            f.write(title)\n",
    "        \n",
    "        content = list(v.values())\n",
    "\n",
    "        # print(content)\n",
    "        # csv에 저장하기 위해서\n",
    "        # 1) 각 컨텐츠 안에 포함된 쌍따옴표는 역슬래시로 묶어준다\n",
    "        # 2) 각 컨텐츠를 쌍따옴표로 묶어준다.\n",
    "        for j,w in enumerate(content):\n",
    "            content[j] = f'\"{w.replace('\"',r'\\\"')}\"'\n",
    "        # print(content)\n",
    "        f.write(f'{\",\".join(content)}\\n')"
   ]
  }
 ],
 "metadata": {
  "kernelspec": {
   "display_name": "Python 3",
   "language": "python",
   "name": "python3"
  },
  "language_info": {
   "codemirror_mode": {
    "name": "ipython",
    "version": 3
   },
   "file_extension": ".py",
   "mimetype": "text/x-python",
   "name": "python",
   "nbconvert_exporter": "python",
   "pygments_lexer": "ipython3",
   "version": "3.12.0"
  }
 },
 "nbformat": 4,
 "nbformat_minor": 2
}
