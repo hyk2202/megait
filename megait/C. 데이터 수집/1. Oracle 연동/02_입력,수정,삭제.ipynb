{
 "cells": [
  {
   "cell_type": "markdown",
   "metadata": {},
   "source": [
    "# Python - Oracle 연동 - 데이터 조회\n",
    "##  #01. 준비과정\n",
    "\n",
    "### 1. 패키지 참조"
   ]
  },
  {
   "cell_type": "code",
   "execution_count": 4,
   "metadata": {},
   "outputs": [],
   "source": [
    "import cx_Oracle as cx\n",
    "from sqlalchemy import create_engine\n",
    "from pandas import DataFrame, read_sql_table"
   ]
  },
  {
   "cell_type": "markdown",
   "metadata": {},
   "source": [
    "## #02. cx_oracle을 사용한 연동\n",
    "\n",
    "### 1. 데이터베이스 접속 및 cursor 객체 생성"
   ]
  },
  {
   "cell_type": "code",
   "execution_count": 5,
   "metadata": {},
   "outputs": [],
   "source": [
    "dbcon = cx.connect('hr',                 \n",
    "                   'hr',                 \n",
    "                   'localhost:1521/xe'   \n",
    ")\n",
    "cursor = dbcon.cursor()"
   ]
  },
  {
   "cell_type": "markdown",
   "metadata": {},
   "source": [
    "### 2. 데이터 저장하기\n",
    "\n",
    "#### 1) 저장을 위한 값 입력받기"
   ]
  },
  {
   "cell_type": "code",
   "execution_count": 6,
   "metadata": {},
   "outputs": [],
   "source": [
    "dname = input('학과 이름을 입력하세요')\n",
    "loc = input('학과의 위치를 입력하세요')\n"
   ]
  },
  {
   "cell_type": "markdown",
   "metadata": {},
   "source": [
    "#### 2) 저장을 위한 새로운 시퀀스값 조회"
   ]
  },
  {
   "cell_type": "code",
   "execution_count": 7,
   "metadata": {},
   "outputs": [
    {
     "name": "stdout",
     "output_type": "stream",
     "text": [
      "[(320,)]\n",
      "새로운 시퀀스 번호 : 320\n"
     ]
    }
   ],
   "source": [
    "sql = 'SELECT seq_department.nextval FROM dual'\n",
    "cursor.execute(sql)\n",
    "result = cursor.fetchall()\n",
    "print(result)\n",
    "\n",
    "seq = result[0][0]\n",
    "print(f'새로운 시퀀스 번호 : {seq}')"
   ]
  },
  {
   "cell_type": "markdown",
   "metadata": {},
   "source": [
    "#### 3) INSERT문 수행"
   ]
  },
  {
   "cell_type": "code",
   "execution_count": 8,
   "metadata": {},
   "outputs": [
    {
     "name": "stdout",
     "output_type": "stream",
     "text": [
      "1개의 행이 저장됨\n"
     ]
    }
   ],
   "source": [
    "sql = 'INSERT INTO department (deptno, dname, loc) VALUES(:1, :2, :3)' # sql식 문법\n",
    "#                    :1     :2    :3\n",
    "cursor.execute(sql, [seq, dname, loc])\n",
    "print(f'{cursor.rowcount}개의 행이 저장됨')\n",
    "\n",
    "# 처리 결과를 실제로 반영함\n",
    "dbcon.commit()\n",
    "\n",
    "# 되돌리기\n",
    "# -> 이미 commit()한 내역은 적용 안됨\n",
    "# dbcon.rollback()"
   ]
  },
  {
   "cell_type": "markdown",
   "metadata": {},
   "source": [
    "#### 4) UPDATE문 수행"
   ]
  },
  {
   "cell_type": "code",
   "execution_count": 9,
   "metadata": {},
   "outputs": [
    {
     "name": "stdout",
     "output_type": "stream",
     "text": [
      "1개의 행이 갱신됨\n"
     ]
    }
   ],
   "source": [
    "sql = 'UPDATE department SET dname = :1, loc = :2 WHERE deptno = :3'\n",
    "cursor.execute(sql, ['메가스터디', '신촌', seq])\n",
    "print(f'{cursor.rowcount}개의 행이 갱신됨')\n",
    "dbcon.commit()\n"
   ]
  },
  {
   "cell_type": "markdown",
   "metadata": {},
   "source": [
    "#### 5) DELETE문 수행"
   ]
  },
  {
   "cell_type": "code",
   "execution_count": 10,
   "metadata": {},
   "outputs": [
    {
     "name": "stdout",
     "output_type": "stream",
     "text": [
      "1개의 행이 삭제됨\n"
     ]
    }
   ],
   "source": [
    "sql = 'DELETE FROM department WHERE deptno = :1'\n",
    "cursor.execute(sql, [seq])\n",
    "print(f'{cursor.rowcount}개의 행이 삭제됨')\n",
    "dbcon.commit()\n"
   ]
  },
  {
   "cell_type": "markdown",
   "metadata": {},
   "source": [
    "### 3. 데이터베이스 접속 해제"
   ]
  },
  {
   "cell_type": "code",
   "execution_count": 11,
   "metadata": {},
   "outputs": [],
   "source": [
    "try:\n",
    "    cursor.close()\n",
    "    dbcon.close()\n",
    "except Exception as e :\n",
    "    print('접속 상태가 아닙니다.',e)"
   ]
  }
 ],
 "metadata": {
  "kernelspec": {
   "display_name": "Python 3",
   "language": "python",
   "name": "python3"
  },
  "language_info": {
   "codemirror_mode": {
    "name": "ipython",
    "version": 3
   },
   "file_extension": ".py",
   "mimetype": "text/x-python",
   "name": "python",
   "nbconvert_exporter": "python",
   "pygments_lexer": "ipython3",
   "version": "3.12.0"
  }
 },
 "nbformat": 4,
 "nbformat_minor": 2
}
