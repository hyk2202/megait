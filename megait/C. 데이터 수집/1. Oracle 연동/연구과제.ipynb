{
 "cells": [
  {
   "cell_type": "markdown",
   "metadata": {},
   "source": [
    "traffic_acc.csv 파일을 데이터베이스에 저장하세요."
   ]
  },
  {
   "cell_type": "markdown",
   "metadata": {},
   "source": [
    "데이터베이스 접속"
   ]
  },
  {
   "cell_type": "code",
   "execution_count": 19,
   "metadata": {},
   "outputs": [],
   "source": [
    "import cx_Oracle as cx\n",
    "from sqlalchemy import create_engine\n",
    "from pandas import DataFrame, read_sql_table\n",
    "\n",
    "dbcon = cx.connect('hr',                 \n",
    "                   'hr',                 \n",
    "                   'localhost:1521/xe'   \n",
    ")\n",
    "cursor = dbcon.cursor()"
   ]
  },
  {
   "cell_type": "markdown",
   "metadata": {},
   "source": [
    "저장할 테이블 생성 및 시퀀스 생성 = > 오라클에서 \n"
   ]
  },
  {
   "cell_type": "code",
   "execution_count": 20,
   "metadata": {},
   "outputs": [],
   "source": [
    "# sql = '''\n",
    "# CREATE TABLE trafficacc(\n",
    "#     accno number NOT NULL,\n",
    "#     year numer NOT NULL,\n",
    "#     month number NOT NULL,\n",
    "#     accnum number,\n",
    "#     deathnum number,\n",
    "#     injurynum number,\n",
    "#     primary key (accno)\n",
    "# )\n",
    "# '''\n",
    "# cursor.execute(sql)\n",
    "\n",
    "# sql = 'CREATE SEQUENCE seq_trafficacc START WITH 1 INCREMENT BY 1 '\n",
    "# cursor.execute(sql)\n"
   ]
  },
  {
   "cell_type": "code",
   "execution_count": 22,
   "metadata": {},
   "outputs": [],
   "source": [
    "with open('traffic_acc.csv','r',encoding='utf-8') as f:\n",
    "\n",
    "    A = f.readlines()\n",
    "    \n",
    "    for i in A[1:]:\n",
    "\n",
    "        # B = [i-1]+[int(x) for x in v.strip().split(',')]\n",
    "        B = [int(x) for x in i.strip().split(',')]\n",
    "        sql = 'INSERT INTO trafficacc (caseno, caseYear, caseMonth, accnum, deathnum, injurynum) VALUES(seq_trafficacc.nextval, :1, :2, :3, :4, :5)'\n",
    "        cursor.execute(sql, B)\n",
    "\n",
    "dbcon.commit()\n",
    "cursor.close()\n",
    "dbcon.close()\n"
   ]
  },
  {
   "cell_type": "markdown",
   "metadata": {},
   "source": [
    "sql = 'INSERT INTO trafficacc (caseno, caseYear, caseMonth, accnum, deathnum, injurynum) VALUES(seq_trafficacc.nextval, :1, :2, :3, :4, :5)' 에서 seq_trafficacc.nextval 는 시스템값으로 들어가짐"
   ]
  }
 ],
 "metadata": {
  "kernelspec": {
   "display_name": "Python 3",
   "language": "python",
   "name": "python3"
  },
  "language_info": {
   "codemirror_mode": {
    "name": "ipython",
    "version": 3
   },
   "file_extension": ".py",
   "mimetype": "text/x-python",
   "name": "python",
   "nbconvert_exporter": "python",
   "pygments_lexer": "ipython3",
   "version": "3.12.0"
  }
 },
 "nbformat": 4,
 "nbformat_minor": 2
}
