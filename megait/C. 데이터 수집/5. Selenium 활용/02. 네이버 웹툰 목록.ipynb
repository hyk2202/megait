{
 "cells": [
  {
   "cell_type": "markdown",
   "metadata": {},
   "source": [
    "# 네이버 웹툰 목록 \n",
    "\n",
    "## #01. 준비과정\n",
    "\n",
    "### [1] 패키지 참조"
   ]
  },
  {
   "cell_type": "code",
   "execution_count": 11,
   "metadata": {},
   "outputs": [],
   "source": [
    "import chromedriver_autoinstaller\n",
    "from selenium import webdriver\n",
    "from selenium.webdriver.support.ui import WebDriverWait\n",
    "from bs4 import BeautifulSoup\n",
    "import time\n",
    "from selenium.webdriver.common.by import By"
   ]
  },
  {
   "cell_type": "markdown",
   "metadata": {},
   "source": [
    "### [2] 크롬 브라우저 가동"
   ]
  },
  {
   "cell_type": "code",
   "execution_count": 12,
   "metadata": {},
   "outputs": [],
   "source": [
    "chromedriver_autoinstaller.install()\n",
    "\n",
    "driver = webdriver.Chrome()\n",
    "driver.implicitly_wait(5)"
   ]
  },
  {
   "cell_type": "markdown",
   "metadata": {},
   "source": [
    "## #02. 수집할 페이지로 이동\n",
    "\n",
    "### [1] 네이버 웹툰 목록의 URL 패턴\n",
    "\n",
    "\n"
   ]
  },
  {
   "cell_type": "code",
   "execution_count": 13,
   "metadata": {},
   "outputs": [],
   "source": [
    "# 네이버 웹툰 url 패턴\n",
    "params = ['mon','tue','wed','thu','fri','sat','sun','dailyPlus','finish']\n"
   ]
  },
  {
   "cell_type": "markdown",
   "metadata": {},
   "source": [
    "### [2] 반복적으로 요일별 웹툰 페이지에 방문"
   ]
  },
  {
   "cell_type": "code",
   "execution_count": 14,
   "metadata": {},
   "outputs": [
    {
     "name": "stdout",
     "output_type": "stream",
     "text": [
      "수집된 웹툰 수: 851\n"
     ]
    }
   ],
   "source": [
    "\n",
    "# 수집된 결과가 누적될 빈 리스트\n",
    "naverWebtoonData = []\n",
    "\n",
    "for i in params:\n",
    "    # 크롬브라우저로 방문시킴\n",
    "    driver.get(f\"https://comic.naver.com/webtoon?tab={i}\")\n",
    "    time.sleep(1)\n",
    "\n",
    "    # 브라우저에 표시되는 전체 코드를 추출 --> bs4 객체로 변환\n",
    "    soup = BeautifulSoup(driver.page_source)\n",
    "\n",
    "    # 웹툰이 표시되는 부분만 추출\n",
    "    content = soup.select('.ContentList__content_list--q5KXY>.item')\n",
    "    for w in content:\n",
    "\n",
    "        poster = w.select(\".Poster__image--d9XTI\")\n",
    "\n",
    "        # 가져온 이미지가 존재하고, src속성이 있다면?\n",
    "        if poster and \"src\" in poster[0].attrs:\n",
    "            posterValue = poster[0].attrs['src']\n",
    "        else:\n",
    "            posterValue = \"\"\n",
    "\n",
    "        #print(posterValue)\n",
    "\n",
    "        # 웹툰의 URL 가져오기\n",
    "        url = w.select(\".Poster__link--sopnC\")\n",
    "\n",
    "        if url and \"href\" in url[0].attrs:\n",
    "            urlValue = url[0].attrs['href']\n",
    "\n",
    "            if urlValue.find(\"https://comic.naver.com\") == -1:\n",
    "                urlValue = \"https://comic.naver.com\" + urlValue\n",
    "        else:\n",
    "            urlValue = \"\"\n",
    "\n",
    "        #print(urlValue)\n",
    "\n",
    "        # 웹툰 제목 가져오기\n",
    "        title = w.select(\".ContentTitle__title--e3qXt > .text\")\n",
    "\n",
    "        if title:\n",
    "            titleValue = title[0].text.strip()\n",
    "        else:\n",
    "            titleValue = \"\"\n",
    "        #print(titleValue)\n",
    "\n",
    "        # 작가 이름 가져오기\n",
    "        author = w.select(\".ContentAuthor__author--CTAAP\")\n",
    "\n",
    "        if author:\n",
    "            authorValue = author[0].text.strip()\n",
    "        else:\n",
    "            authorValue = \"\"\n",
    "        #print(authorValue)\n",
    "\n",
    "        # 별점 가져오기\n",
    "        rating = w.select(\".Rating__star_area--dFzsb > .text\")\n",
    "\n",
    "        if rating:\n",
    "            ratingValue = rating[0].text.strip()\n",
    "        else:\n",
    "            ratingValue = \"\"\n",
    "        #print(ratingValue)\n",
    "\n",
    "        # 결과 병합\n",
    "        resultDic = {\"요일\": i, \"제목\": titleValue, \"작가\": authorValue, \"별점\": ratingValue, \"포스터\": posterValue, \"URL\": urlValue}\n",
    "        #print(resultDic)\n",
    "\n",
    "        naverWebtoonData.append(resultDic)\n",
    "driver.close()\n",
    "print(\"수집된 웹툰 수:\", len(naverWebtoonData))"
   ]
  },
  {
   "cell_type": "markdown",
   "metadata": {},
   "source": [
    "## #03. 수집된 데이터 활용\n",
    "\n"
   ]
  },
  {
   "cell_type": "code",
   "execution_count": 16,
   "metadata": {},
   "outputs": [
    {
     "name": "stdout",
     "output_type": "stream",
     "text": [
      "fin :)\n"
     ]
    }
   ],
   "source": [
    "# 데이터를 가공해야 하므로 수집된 원본에 대한 복사본을 생성한다.\n",
    "copy = naverWebtoonData.copy()\n",
    "\n",
    "with open(\"네이버_웹툰_목록.csv\", \"w\", encoding=\"utf-8\") as f:\n",
    "    for i, v in enumerate(copy):\n",
    "        if i == 0:\n",
    "            title = f\"{\",\".join(list(v.keys()))}\\n\"\n",
    "            \n",
    "            f.write(title)\n",
    "\n",
    "        v['제목'] = f'\"{v['제목']}\"'\n",
    "        v['작가'] = f'\"{v['작가']}\"' # 제목과 작가에 ,가 들어갈 수 있으므로 \"\"에 넣어준다.\n",
    "        f.write(f\"{','.join(list(v.values()))}\\n\")\n",
    "    \n",
    "print(\"fin :)\")"
   ]
  }
 ],
 "metadata": {
  "kernelspec": {
   "display_name": "Python 3",
   "language": "python",
   "name": "python3"
  },
  "language_info": {
   "codemirror_mode": {
    "name": "ipython",
    "version": 3
   },
   "file_extension": ".py",
   "mimetype": "text/x-python",
   "name": "python",
   "nbconvert_exporter": "python",
   "pygments_lexer": "ipython3",
   "version": "3.12.0"
  }
 },
 "nbformat": 4,
 "nbformat_minor": 2
}
