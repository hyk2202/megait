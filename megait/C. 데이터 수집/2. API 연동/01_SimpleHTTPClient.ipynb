{
 "cells": [
  {
   "cell_type": "markdown",
   "metadata": {},
   "source": [
    "requests 라이브러리 : url 요청"
   ]
  },
  {
   "cell_type": "markdown",
   "metadata": {},
   "source": [
    "# SimpleHTTPClient\n",
    "## #01. 준비과정\n",
    "### [1] 패키지 참조<!-- 숫자만쓰면 숫자가 개요에 안보임 -->\n",
    "\n",
    "`requests` 패키지 설치가 필요하다\n"
   ]
  },
  {
   "cell_type": "code",
   "execution_count": 20,
   "metadata": {},
   "outputs": [],
   "source": [
    "import requests"
   ]
  },
  {
   "cell_type": "markdown",
   "metadata": {},
   "source": [
    "### [2] 접속할 데이터의 URL\n"
   ]
  },
  {
   "cell_type": "code",
   "execution_count": 21,
   "metadata": {},
   "outputs": [],
   "source": [
    "url = 'https://data.hossam.kr/py/sample.txt'\n",
    "# url = 'https://data.hossam.kr/py/traffic_acc.csv'\n",
    "# url = 'https://data.hossam.kr/py/sample.json'"
   ]
  },
  {
   "cell_type": "markdown",
   "metadata": {},
   "source": [
    "## #02. 데이터 요청하기\n",
    "\n",
    "### [1] 세션 생성\n",
    "\n",
    "| `세션` : 통신에서 말하는 하나의 접속 단위 혹은 접속을 수행하는 객체\n",
    "\n"
   ]
  },
  {
   "cell_type": "code",
   "execution_count": 22,
   "metadata": {},
   "outputs": [],
   "source": [
    "# 접속 객체 생성\n",
    "session = requests.Session()\n"
   ]
  },
  {
   "cell_type": "markdown",
   "metadata": {},
   "source": [
    "### [2] 세션에 클라이언트 정보 주입 \n",
    "일부 웹 시스템은 일반적으로 사용하는 웹 브라우저의 접속이 아닌 경우 응답을 거부하도록 구현되어 있음.\n",
    "\n"
   ]
  },
  {
   "cell_type": "code",
   "execution_count": 23,
   "metadata": {},
   "outputs": [],
   "source": [
    "session.headers.update({\n",
    "    \"Referer\" : \"\", # url을 사용자가 직접 입력하면 referer가 공백처리된다  // referer: 해당 item에 접근하기 직전 위치 // referer가 정상적이지 않거나 없으면 해당 접근을 거부함\n",
    "    \"User_Agent\" : \"Mozilla/5.0 (Windows NT 10.0; Win64; x64) AppleWebKit/537.36 (KHTML, like Gecko) Chrome/119.0.0.0 Safari/537.36\" # 세션을 다른 브라우저인것으로 인식하게 만들어줌\n",
    "})"
   ]
  },
  {
   "cell_type": "markdown",
   "metadata": {},
   "source": [
    "### [3] 데이터 가져오기\n",
    "\n",
    "#### HTTP 상태값\n",
    "\n",
    "웹 사이트 도메인 자체가 잘못된 경우는 접속 자체가 불가능하기 때문에 파이썬에서 예외발생(에러발생), 이 경우 예외처리 구문으로 대응\n",
    "\n",
    "웹 사이트 도메인은 정상이지만 그 사이트 안에서 존재하지 않는 페이지에 접근할 경우 예외가 발생하지 않는다.\n",
    "\n",
    "이 때는 웹 사이트에서 반환하는 결과값(r.status_code)으로 접속의 성공/실패 여부를 판별해야 하는데 이를 HTTP 상태값이라고 한다.\n",
    "\n",
    "| 상태값 | 설명 |\n",
    "|---|---|\n",
    "| 200 | OK(정상 작동) |\n",
    "| 400 | 잘못된 요청(URL 형식 에러) |\n",
    "| 401 | 권한 없음 |\n",
    "| 403 | 서버가 요청 거부 |\n",
    "| 404 | NOT FOUND(페이지를 찾을 수 없음) |\n",
    "| 500 | 내부 서버 오류 ( 접속 대상 시스템의 에러) |\n",
    "| 501 | 구현되지 않음 |\n",
    "\n"
   ]
  },
  {
   "cell_type": "code",
   "execution_count": 24,
   "metadata": {},
   "outputs": [],
   "source": [
    "try: \n",
    "    r = session.get(url)\n",
    "    if r.status_code != 200:\n",
    "        msg = f'[{r.status_code} Error] {r.reason} 에러가 발생함'\n",
    "        raise Exception(msg)\n",
    "except Exception as e :# 사이트 주소가 잘못된 경우 에러발생 // 사이트주소만 올바르고 그 이후가 잘못된 경우(파일명이 잘못된 경우)는 파이썬이 감지못함\n",
    "    print('접속에 실패했습니다.', e, sep = '\\n')\n"
   ]
  },
  {
   "cell_type": "markdown",
   "metadata": {},
   "source": [
    "### [4] 수신된 응답 결과 확인"
   ]
  },
  {
   "cell_type": "code",
   "execution_count": 26,
   "metadata": {},
   "outputs": [
    {
     "name": "stdout",
     "output_type": "stream",
     "text": [
      "{\n",
      "    \"name\": \"갤럭시 S6\",\n",
      "    \"type\": \"삼성\",\n",
      "    \"img\": \"http://itpaper.co.kr/demo/app/img/GalaxyS6.png\"\n",
      "}\n"
     ]
    }
   ],
   "source": [
    "r.encoding = 'utf-8' # 읽은 후 한글이 깨지면 euc-kr로 변경\n",
    "print(r.text) # r.text는 문자열"
   ]
  }
 ],
 "metadata": {
  "kernelspec": {
   "display_name": "Python 3",
   "language": "python",
   "name": "python3"
  },
  "language_info": {
   "codemirror_mode": {
    "name": "ipython",
    "version": 3
   },
   "file_extension": ".py",
   "mimetype": "text/x-python",
   "name": "python",
   "nbconvert_exporter": "python",
   "pygments_lexer": "ipython3",
   "version": "3.12.0"
  }
 },
 "nbformat": 4,
 "nbformat_minor": 2
}
