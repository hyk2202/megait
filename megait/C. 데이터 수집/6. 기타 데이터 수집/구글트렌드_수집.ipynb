{
 "cells": [
  {
   "cell_type": "markdown",
   "metadata": {},
   "source": [
    "# 구글트렌드 수집 - pytrends\n",
    "\n",
    "구글 트렌드 데이터를 가져오는 데 사용되는 파이썬 라이브러리\n",
    "\n",
    "https://github.com/GeneralMills/pytrends"
   ]
  },
  {
   "cell_type": "markdown",
   "metadata": {},
   "source": [
    "## #01. 준비과정\n",
    "\n",
    "### [1] 패키지 참조"
   ]
  },
  {
   "cell_type": "code",
   "execution_count": null,
   "metadata": {},
   "outputs": [],
   "source": [
    "from pytrends.request import TrendReq\n"
   ]
  },
  {
   "cell_type": "markdown",
   "metadata": {},
   "source": [
    "### [2] 트렌드 검색\n",
    "\n",
    "| 파라미터 | 설명 |\n",
    "|--|--|\n",
    "| `hl` | host language |\n",
    "| `tz` | timezone(분단위 설정) |\n",
    "\n",
    "우리나라는 `GMT+9`이므로 tz를 540로 설정"
   ]
  },
  {
   "cell_type": "code",
   "execution_count": null,
   "metadata": {},
   "outputs": [],
   "source": [
    "pytrends = TrendReq(hl='ko', tz=540)"
   ]
  },
  {
   "cell_type": "markdown",
   "metadata": {},
   "source": [
    "## #02. 트렌드 검색\n",
    "\n",
    "### 검색어 설정"
   ]
  },
  {
   "cell_type": "code",
   "execution_count": null,
   "metadata": {},
   "outputs": [],
   "source": [
    "keywords = ['sklearn','tensorflow','pytorch']"
   ]
  },
  {
   "cell_type": "markdown",
   "metadata": {},
   "source": [
    "### 검색 설정\n",
    "\n",
    "| 파라미터 | 설명 | \n",
    "|--|--|\n",
    "| `cat` | 카테고리 `0` 인경우 전체 (자세한 항목은 `pytrends.categories()`의 결과 참고) |\n",
    "| `timeframe` | 검색 시작일, 검색 종료일 |\n",
    "| `geo` | 지역 |\n",
    "| `gprop` | 이미지, 뉴스, 유튜브, froogle(구글 쇼핑)으로 세분화 할 경우 설정. 기본값은 그냥 구글 검색 |"
   ]
  },
  {
   "cell_type": "code",
   "execution_count": null,
   "metadata": {},
   "outputs": [],
   "source": [
    "pytrends.build_payload(keywords, cat=0,timeframe='2023-01-01 2023-12-15',geo = 'KR', gprop='') "
   ]
  },
  {
   "cell_type": "markdown",
   "metadata": {},
   "source": [
    "### 데이터 탐색"
   ]
  },
  {
   "cell_type": "code",
   "execution_count": null,
   "metadata": {},
   "outputs": [],
   "source": [
    "# 설정한 기간 동안의 트렌드 지수(검색량 최고치를 100으로한 상대값)\n",
    "data = pytrends.interest_over_time()\n",
    "data"
   ]
  },
  {
   "cell_type": "markdown",
   "metadata": {},
   "source": [
    "### 지역별 트렌드 지수"
   ]
  },
  {
   "cell_type": "code",
   "execution_count": 17,
   "metadata": {},
   "outputs": [
    {
     "data": {
      "text/html": [
       "<div>\n",
       "<style scoped>\n",
       "    .dataframe tbody tr th:only-of-type {\n",
       "        vertical-align: middle;\n",
       "    }\n",
       "\n",
       "    .dataframe tbody tr th {\n",
       "        vertical-align: top;\n",
       "    }\n",
       "\n",
       "    .dataframe thead th {\n",
       "        text-align: right;\n",
       "    }\n",
       "</style>\n",
       "<table border=\"1\" class=\"dataframe\">\n",
       "  <thead>\n",
       "    <tr style=\"text-align: right;\">\n",
       "      <th></th>\n",
       "      <th>geoCode</th>\n",
       "      <th>sklearn</th>\n",
       "      <th>tensorflow</th>\n",
       "      <th>pytorch</th>\n",
       "    </tr>\n",
       "    <tr>\n",
       "      <th>geoName</th>\n",
       "      <th></th>\n",
       "      <th></th>\n",
       "      <th></th>\n",
       "      <th></th>\n",
       "    </tr>\n",
       "  </thead>\n",
       "  <tbody>\n",
       "    <tr>\n",
       "      <th>강원도</th>\n",
       "      <td>KR-42</td>\n",
       "      <td>12</td>\n",
       "      <td>34</td>\n",
       "      <td>54</td>\n",
       "    </tr>\n",
       "    <tr>\n",
       "      <th>경기도</th>\n",
       "      <td>KR-41</td>\n",
       "      <td>12</td>\n",
       "      <td>28</td>\n",
       "      <td>60</td>\n",
       "    </tr>\n",
       "    <tr>\n",
       "      <th>경상남도</th>\n",
       "      <td>KR-48</td>\n",
       "      <td>9</td>\n",
       "      <td>44</td>\n",
       "      <td>47</td>\n",
       "    </tr>\n",
       "    <tr>\n",
       "      <th>경상북도</th>\n",
       "      <td>KR-47</td>\n",
       "      <td>11</td>\n",
       "      <td>26</td>\n",
       "      <td>63</td>\n",
       "    </tr>\n",
       "    <tr>\n",
       "      <th>광주광역시</th>\n",
       "      <td>KR-29</td>\n",
       "      <td>13</td>\n",
       "      <td>32</td>\n",
       "      <td>55</td>\n",
       "    </tr>\n",
       "    <tr>\n",
       "      <th>대구광역시</th>\n",
       "      <td>KR-27</td>\n",
       "      <td>13</td>\n",
       "      <td>25</td>\n",
       "      <td>62</td>\n",
       "    </tr>\n",
       "    <tr>\n",
       "      <th>대전광역시</th>\n",
       "      <td>KR-30</td>\n",
       "      <td>9</td>\n",
       "      <td>21</td>\n",
       "      <td>70</td>\n",
       "    </tr>\n",
       "    <tr>\n",
       "      <th>부산광역시</th>\n",
       "      <td>KR-26</td>\n",
       "      <td>13</td>\n",
       "      <td>37</td>\n",
       "      <td>50</td>\n",
       "    </tr>\n",
       "    <tr>\n",
       "      <th>서울특별시</th>\n",
       "      <td>KR-11</td>\n",
       "      <td>12</td>\n",
       "      <td>22</td>\n",
       "      <td>66</td>\n",
       "    </tr>\n",
       "    <tr>\n",
       "      <th>울산광역시</th>\n",
       "      <td>KR-31</td>\n",
       "      <td>14</td>\n",
       "      <td>21</td>\n",
       "      <td>65</td>\n",
       "    </tr>\n",
       "    <tr>\n",
       "      <th>인천광역시</th>\n",
       "      <td>KR-28</td>\n",
       "      <td>11</td>\n",
       "      <td>30</td>\n",
       "      <td>59</td>\n",
       "    </tr>\n",
       "    <tr>\n",
       "      <th>전라남도</th>\n",
       "      <td>KR-46</td>\n",
       "      <td>10</td>\n",
       "      <td>19</td>\n",
       "      <td>71</td>\n",
       "    </tr>\n",
       "    <tr>\n",
       "      <th>전라북도</th>\n",
       "      <td>KR-45</td>\n",
       "      <td>19</td>\n",
       "      <td>30</td>\n",
       "      <td>51</td>\n",
       "    </tr>\n",
       "    <tr>\n",
       "      <th>제주특별자치도</th>\n",
       "      <td>KR-49</td>\n",
       "      <td>0</td>\n",
       "      <td>42</td>\n",
       "      <td>58</td>\n",
       "    </tr>\n",
       "    <tr>\n",
       "      <th>충청남도</th>\n",
       "      <td>KR-44</td>\n",
       "      <td>15</td>\n",
       "      <td>40</td>\n",
       "      <td>45</td>\n",
       "    </tr>\n",
       "    <tr>\n",
       "      <th>충청북도</th>\n",
       "      <td>KR-43</td>\n",
       "      <td>12</td>\n",
       "      <td>31</td>\n",
       "      <td>57</td>\n",
       "    </tr>\n",
       "  </tbody>\n",
       "</table>\n",
       "</div>"
      ],
      "text/plain": [
       "        geoCode  sklearn  tensorflow  pytorch\n",
       "geoName                                      \n",
       "강원도       KR-42       12          34       54\n",
       "경기도       KR-41       12          28       60\n",
       "경상남도      KR-48        9          44       47\n",
       "경상북도      KR-47       11          26       63\n",
       "광주광역시     KR-29       13          32       55\n",
       "대구광역시     KR-27       13          25       62\n",
       "대전광역시     KR-30        9          21       70\n",
       "부산광역시     KR-26       13          37       50\n",
       "서울특별시     KR-11       12          22       66\n",
       "울산광역시     KR-31       14          21       65\n",
       "인천광역시     KR-28       11          30       59\n",
       "전라남도      KR-46       10          19       71\n",
       "전라북도      KR-45       19          30       51\n",
       "제주특별자치도   KR-49        0          42       58\n",
       "충청남도      KR-44       15          40       45\n",
       "충청북도      KR-43       12          31       57"
      ]
     },
     "execution_count": 17,
     "metadata": {},
     "output_type": "execute_result"
    }
   ],
   "source": [
    "pytrends.interest_by_region(resolution='COUNTRY', # 시, 나라, 지하철..?, 지역 레벨로 설정 가능\n",
    "                            inc_geo_code= True, # 지역코드 같이 표시할지\n",
    "                            inc_low_vol= True # 검색량이 적은 지역도 포함할지 여부\n",
    "                            \n",
    "                            )"
   ]
  },
  {
   "cell_type": "markdown",
   "metadata": {},
   "source": [
    "구글 애널리틱스 : 데이터 수집 도구(웹사이트나 앱)"
   ]
  }
 ],
 "metadata": {
  "kernelspec": {
   "display_name": "Python 3",
   "language": "python",
   "name": "python3"
  },
  "language_info": {
   "codemirror_mode": {
    "name": "ipython",
    "version": 3
   },
   "file_extension": ".py",
   "mimetype": "text/x-python",
   "name": "python",
   "nbconvert_exporter": "python",
   "pygments_lexer": "ipython3",
   "version": "3.12.0"
  }
 },
 "nbformat": 4,
 "nbformat_minor": 2
}
