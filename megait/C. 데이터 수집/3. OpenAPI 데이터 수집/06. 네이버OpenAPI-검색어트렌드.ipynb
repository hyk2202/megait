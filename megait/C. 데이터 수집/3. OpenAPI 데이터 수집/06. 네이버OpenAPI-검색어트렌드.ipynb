{
 "cells": [
  {
   "cell_type": "markdown",
   "metadata": {},
   "source": [
    "# 네이버 OpenAPI 연동 (검색어 트렌드)\n",
    "\n",
    "## #01. 준비과정\n",
    "### [1] 패키지 참조"
   ]
  },
  {
   "cell_type": "code",
   "execution_count": null,
   "metadata": {},
   "outputs": [],
   "source": [
    "import requests\n",
    "import json\n",
    "from pandas import DataFrame\n",
    "import datetime as dt\n",
    "import os\n",
    "from dotenv import load_dotenv\n",
    "\n"
   ]
  },
  {
   "cell_type": "markdown",
   "metadata": {},
   "source": [
    "### [2] 접속할 데이터의 URL"
   ]
  },
  {
   "cell_type": "code",
   "execution_count": null,
   "metadata": {},
   "outputs": [],
   "source": [
    "url = \"https://openapi.naver.com/v1/datalab/search\""
   ]
  },
  {
   "cell_type": "markdown",
   "metadata": {},
   "source": [
    "### [3] 요청 변수\n",
    "\n",
    "#### 네이버에서 발급받은 인증키"
   ]
  },
  {
   "cell_type": "code",
   "execution_count": null,
   "metadata": {},
   "outputs": [],
   "source": [
    "load_dotenv(dotenv_path = '../../../dot_env/.env')\n",
    "clientId = os.environ.get(\"naverId\")\n",
    "clientSecret = os.environ.get(\"naverPw\")"
   ]
  },
  {
   "cell_type": "markdown",
   "metadata": {},
   "source": [
    "#### 검색 데이터 구성"
   ]
  },
  {
   "cell_type": "code",
   "execution_count": null,
   "metadata": {},
   "outputs": [],
   "source": [
    "now = dt.datetime.now()\n",
    "today = now.strftime(\"%Y-%m-%d\")\n",
    "today\n"
   ]
  },
  {
   "cell_type": "code",
   "execution_count": null,
   "metadata": {},
   "outputs": [],
   "source": [
    "td = dt.timedelta(days=365)\n",
    "td\n"
   ]
  },
  {
   "cell_type": "code",
   "execution_count": null,
   "metadata": {},
   "outputs": [],
   "source": [
    "startDateDelta = now - td\n",
    "startDate = startDateDelta.strftime(\"%Y-%m-%d\")\n",
    "startDate"
   ]
  },
  {
   "cell_type": "code",
   "execution_count": null,
   "metadata": {},
   "outputs": [],
   "source": [
    "params  = {\n",
    "    \"startDate\" : startDate,\n",
    "    \"endDate\" : today,\n",
    "    \"timeUnit\" : \"date\", # date: 일간, week: 주간, month: 월간\n",
    "    \"keywordGroups\": [\n",
    "        {\n",
    "            \"groupName\": \"Benz\",  # 검색주제\n",
    "            \"keywords\": [\"벤츠\", \"e클래스\", \"s클래스\", \"c클래스\", \"벤츠 cls\"]   # 주제와 관련된 검색어\n",
    "        },\n",
    "        {\n",
    "            \"groupName\": \"BMW\",  # 검색주제\n",
    "            \"keywords\": [\"BMW\", \"5시리즈\", \"x5\", \"x7\", \"x3\"]   # 주제와 관련된 검색어\n",
    "        },\n",
    "        {\n",
    "            \"groupName\": \"AUDI\",  # 검색주제\n",
    "            \"keywords\": [\"아우디\", \"a6\", \"e트론\", \"a7\", \"q5\"]   # 주제와 관련된 검색어\n",
    "        }\n",
    "    ]\n",
    "}\n"
   ]
  },
  {
   "cell_type": "markdown",
   "metadata": {},
   "source": [
    "### [4] 세션 생성"
   ]
  },
  {
   "cell_type": "code",
   "execution_count": null,
   "metadata": {},
   "outputs": [],
   "source": [
    "session = requests.Session()\n",
    "\n",
    "session.headers.update({\n",
    "    \"Referer\": \"\",\n",
    "    \"User-Agent\": \"Mozilla/5.0 (Windows NT 10.0; Win64; x64) AppleWebKit/537.36 (KHTML, like Gecko) Chrome/120.0.0.0 Safari/537.36\",\n",
    "    \"X-Naver-Client-Id\": clientId,\n",
    "    \"X-Naver-Client-Secret\": clientSecret\n",
    "})\n"
   ]
  },
  {
   "cell_type": "markdown",
   "metadata": {},
   "source": [
    "## #02. 데이터 요청하기\n",
    "\n",
    "### [1] URL을 통한 데이터 요청"
   ]
  },
  {
   "cell_type": "code",
   "execution_count": null,
   "metadata": {},
   "outputs": [],
   "source": [
    "try:\n",
    "    r = session.post(url, data=json.dumps(params)) # json.dumps : 딕셔너리를 json으로 만들어주는 메서드\n",
    "    \n",
    "    if r.status_code != 200:\n",
    "        msg = \"[%d Error] %s 에러가 발생함\" % (r.status_code, r.reason)\n",
    "        raise Exception(msg)\n",
    "except Exception as e:\n",
    "    print(\"접속에 실패했습니다.\")\n",
    "    print(e)"
   ]
  },
  {
   "cell_type": "markdown",
   "metadata": {},
   "source": [
    "\n",
    "### [2] 응답 결과 확인"
   ]
  },
  {
   "cell_type": "code",
   "execution_count": null,
   "metadata": {},
   "outputs": [],
   "source": [
    "r.encoding = \"utf-8\"\n",
    "mydict = json.loads(r.text)\n",
    "\n",
    "print(\"검색 결과 수 :\", len(mydict['results']))\n",
    "mydict"
   ]
  },
  {
   "cell_type": "markdown",
   "metadata": {},
   "source": [
    "## 03. 응답 데이터 활용\n",
    "\n",
    "### [1] 데이터 재구성\n",
    "\n",
    "```python\n",
    "[\n",
    "    {\"날짜\": \"2022-12-15\", \"Benz\": 100, \"BMW\": 100, \"AUDI\": 100},\n",
    "    {\"날짜\": \"2022-12-15\", \"Benz\": 100, \"BMW\": 100, \"AUDI\": 100},\n",
    "    {\"날짜\": \"2022-12-15\", \"Benz\": 100, \"BMW\": 100, \"AUDI\": 100},\n",
    "    {\"날짜\": \"2022-12-15\", \"Benz\": 100, \"BMW\": 100, \"AUDI\": 100}\n",
    "]\n",
    "```\n",
    "\n",
    "#### 검색 결과의 `title`추출하여 데이터 구조 정의"
   ]
  },
  {
   "cell_type": "code",
   "execution_count": null,
   "metadata": {},
   "outputs": [],
   "source": [
    "struct = {'date': None}\n",
    "\n",
    "for item in mydict['results']:\n",
    "    struct[item['title']] = None\n",
    "    \n",
    "struct"
   ]
  },
  {
   "cell_type": "markdown",
   "metadata": {},
   "source": [
    "#### 응답 결과를 탐색하면서 주어진 구조에 데이터 채워 넣기"
   ]
  },
  {
   "cell_type": "code",
   "execution_count": null,
   "metadata": {},
   "outputs": [],
   "source": [
    "mydata = []\n",
    "\n",
    "for i,v in enumerate(mydict['results']):\n",
    "    for j,w in enumerate(v['data']):\n",
    "        if i ==0 :\n",
    "            temp = struct.copy()\n",
    "            temp['date'] = w['period']\n",
    "            mydata.append(temp)\n",
    "        mydata[j][f'{v['title']}'] = w['ratio']\n",
    "\n",
    "        \n",
    "mydata"
   ]
  }
 ],
 "metadata": {
  "kernelspec": {
   "display_name": "Python 3",
   "language": "python",
   "name": "python3"
  },
  "language_info": {
   "codemirror_mode": {
    "name": "ipython",
    "version": 3
   },
   "file_extension": ".py",
   "mimetype": "text/x-python",
   "name": "python",
   "nbconvert_exporter": "python",
   "pygments_lexer": "ipython3",
   "version": "3.12.0"
  }
 },
 "nbformat": 4,
 "nbformat_minor": 2
}
