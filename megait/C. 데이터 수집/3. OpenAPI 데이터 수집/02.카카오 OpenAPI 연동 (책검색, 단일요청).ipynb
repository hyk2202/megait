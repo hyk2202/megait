{
 "cells": [
  {
   "cell_type": "markdown",
   "metadata": {},
   "source": [
    "\n",
    "\n",
    "요청\n",
    "\n",
    "헤더 -> session에 헤더에 추가해줘야함\n",
    "\n",
    "Authorization: KakaoAK ${REST_API_KEY}\n",
    "\n",
    "쿼리 파라미터\n",
    "\n",
    "-> url에 사용\n"
   ]
  },
  {
   "cell_type": "markdown",
   "metadata": {},
   "source": [
    "# 카카오 OpenAPI 연동 (책검색, 단일요청)\n",
    "\n",
    "## #01. 준비과정\n",
    "\n",
    "### [1] 패키지 참조\n"
   ]
  },
  {
   "cell_type": "code",
   "execution_count": 19,
   "metadata": {},
   "outputs": [],
   "source": [
    "import requests\n",
    "import json\n",
    "import datetime as dt\n",
    "import os\n",
    "from dotenv import load_dotenv"
   ]
  },
  {
   "cell_type": "markdown",
   "metadata": {},
   "source": [
    "### [2] 접속할 데이터의 URL"
   ]
  },
  {
   "cell_type": "code",
   "execution_count": 20,
   "metadata": {},
   "outputs": [],
   "source": [
    "\n",
    "urlFmt = 'https://dapi.kakao.com/v3/search/book?query={query}&page={page}&size={size}'\n",
    "\n"
   ]
  },
  {
   "cell_type": "markdown",
   "metadata": {},
   "source": [
    "### [3] 요청 변수"
   ]
  },
  {
   "cell_type": "code",
   "execution_count": 21,
   "metadata": {},
   "outputs": [],
   "source": [
    "query = '파이썬'\n",
    "page = 1\n",
    "size = 50\n",
    "load_dotenv(dotenv_path = '../../../dot_env/.env')\n",
    "\n",
    "kakao_key = os.environ.get(\"kakao_key\")\n",
    "key = kakao_key\n"
   ]
  },
  {
   "cell_type": "markdown",
   "metadata": {},
   "source": [
    "## #02. 데이터 요청하기\n",
    "### [1] 세션 생성"
   ]
  },
  {
   "cell_type": "code",
   "execution_count": 22,
   "metadata": {},
   "outputs": [],
   "source": [
    "session = requests.Session()\n",
    "\n",
    "session.headers.update({\n",
    "    \"Referer\": \"\",\n",
    "    \"User-Agent\": \"Mozilla/5.0 (Windows NT 10.0; Win64; x64) AppleWebKit/537.36 (KHTML, like Gecko) Chrome/120.0.0.0 Safari/537.36\",\n",
    "    \"Authorization\": f\"KakaoAK {key}\"\n",
    "})"
   ]
  },
  {
   "cell_type": "markdown",
   "metadata": {},
   "source": [
    "### [2]데이터 가져오기"
   ]
  },
  {
   "cell_type": "code",
   "execution_count": 23,
   "metadata": {},
   "outputs": [],
   "source": [
    "url = urlFmt.format(query=query, page = page, size = size)\n",
    "\n",
    "try:\n",
    "    r = session.get(url)\n",
    "    \n",
    "    if r.status_code != 200:\n",
    "        msg = \"[%d Error] %s 에러가 발생함\" % (r.status_code, r.reason)\n",
    "        raise Exception(msg)\n",
    "except Exception as e:\n",
    "    print(\"접속에 실패했습니다.\")\n",
    "    print(e)\n",
    "\n",
    "    "
   ]
  },
  {
   "cell_type": "markdown",
   "metadata": {},
   "source": [
    "### [3] 수신된 응답 결과 확인"
   ]
  },
  {
   "cell_type": "code",
   "execution_count": 24,
   "metadata": {},
   "outputs": [],
   "source": [
    "r.encoding = \"utf-8\"\n",
    "mydict = json.loads(r.text)\n"
   ]
  },
  {
   "cell_type": "markdown",
   "metadata": {},
   "source": [
    "## #04. 데이터 활용\n",
    "\n"
   ]
  },
  {
   "cell_type": "code",
   "execution_count": 28,
   "metadata": {},
   "outputs": [
    {
     "name": "stdout",
     "output_type": "stream",
     "text": [
      "fin :)\n"
     ]
    }
   ],
   "source": [
    "documents = mydict['documents']\n",
    "\n",
    "with open(f'{query}_책_검색결과.csv','w',encoding='utf-8') as f:\n",
    "    f.write('제목, 저자, 출판사, 정가, 판매가, 출간일 \\n')\n",
    "    for i, v in enumerate(documents):\n",
    "        authors, contents, datetime, isbn, price, publisher, sale_price, status, thumbnail, title, translators, url = v.values()\n",
    "        authors = \"/\".join(authors)\n",
    "        \n",
    "        # 날짜값이 ISO형식인 경우 python의 datetime객체로 변환하기 위해 fromisoformat() 메서드를 사용한다.\n",
    "        # 일반적으로 OpenAPI 날짜는 ISO형식이다.\n",
    "        iso_date = dt.datetime.fromisoformat(datetime)\n",
    "        f.write(f\"{title}, {authors}, {publisher}, {price}, {sale_price}, {iso_date.strftime(\"%Y-%m-%d\")} \\n\")\n",
    "\n",
    "print(\"fin :)\")\n",
    "\n",
    "    "
   ]
  }
 ],
 "metadata": {
  "kernelspec": {
   "display_name": "Python 3",
   "language": "python",
   "name": "python3"
  },
  "language_info": {
   "codemirror_mode": {
    "name": "ipython",
    "version": 3
   },
   "file_extension": ".py",
   "mimetype": "text/x-python",
   "name": "python",
   "nbconvert_exporter": "python",
   "pygments_lexer": "ipython3",
   "version": "3.12.0"
  }
 },
 "nbformat": 4,
 "nbformat_minor": 2
}
