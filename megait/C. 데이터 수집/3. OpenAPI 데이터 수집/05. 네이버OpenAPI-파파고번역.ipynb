{
 "cells": [
  {
   "cell_type": "markdown",
   "metadata": {},
   "source": [
    "url : https://openapi.naver.com/v1/papago/n2mt\n",
    "\n",
    "querystring : 파라미터를 url에 포함시켜 보낸다 // 1024bytes가 최대, 보안에 취약함(:get방식)\n",
    "\n",
    "=> header로 숨겨서 보내면 보안이 상대적으로 안전함 (:POST방식, 20M 전송)\n",
    "\n"
   ]
  },
  {
   "cell_type": "markdown",
   "metadata": {},
   "source": [
    "```powershell\n",
    "    curl \"https://openapi.naver.com/v1/papago/n2mt\" \\\n",
    "        -H \"Content-Type: application/x-www-form-urlencoded; charset=UTF-8\" \\\n",
    "        -H \"X-Naver-Client-Id: {애플리케이션 등록 시 발급받은 클라이언트 아이디 값}\" \\\n",
    "        -H \"X-Naver-Client-Secret: {애플리케이션 등록 시 발급받은 클라이언트 시크릿 값}\" \\\n",
    "        -d \"source=ko&target=en&text=만나서 반갑습니다.\" -v\n",
    "```\n",
    "cmd 창에서 curl 은 명령어\n",
    "H : 헤더\n",
    "d : data( 우리가 입력해줘야하는 파라미터)"
   ]
  },
  {
   "cell_type": "markdown",
   "metadata": {},
   "source": [
    "# 네이버 OpenAPI 연동 (파파고 번역)\n",
    "\n",
    "## #01. 준비과정\n",
    "\n",
    "### [1] 패키지 참조\n"
   ]
  },
  {
   "cell_type": "code",
   "execution_count": 1,
   "metadata": {},
   "outputs": [],
   "source": [
    "import requests\n",
    "import json\n",
    "import datetime as dt\n",
    "import os\n",
    "from dotenv import load_dotenv\n"
   ]
  },
  {
   "cell_type": "markdown",
   "metadata": {},
   "source": [
    "### [2] 접속할 데이터의 URL"
   ]
  },
  {
   "cell_type": "code",
   "execution_count": 2,
   "metadata": {},
   "outputs": [],
   "source": [
    "\n",
    "url = 'https://openapi.naver.com/v1/papago/n2mt'\n",
    "\n"
   ]
  },
  {
   "cell_type": "markdown",
   "metadata": {},
   "source": [
    "### [3] 요청 변수"
   ]
  },
  {
   "cell_type": "code",
   "execution_count": 3,
   "metadata": {},
   "outputs": [],
   "source": [
    "source\t= 'en' # 번역할 원문의 언어코드\n",
    "target = 'ko' # 번역될 문장의 언어코드\n",
    "text = 'Hello, python' # 번역할 문장\n",
    "load_dotenv(dotenv_path = '../../../dot_env/.env')\n",
    "\n",
    "# 네이버에서 발급받은 연동키\n",
    "clientId = os.environ.get(\"naverId\")\n",
    "clientSecret = os.environ.get(\"naverPw\")"
   ]
  },
  {
   "cell_type": "markdown",
   "metadata": {},
   "source": [
    "## #02. 데이터 요청하기\n",
    "### [1] 세션 생성"
   ]
  },
  {
   "cell_type": "code",
   "execution_count": 4,
   "metadata": {},
   "outputs": [],
   "source": [
    "session = requests.Session()\n",
    "\n",
    "session.headers.update({\n",
    "    \"Referer\": \"\",\n",
    "    \"User-Agent\": \"Mozilla/5.0 (Windows NT 10.0; Win64; x64) AppleWebKit/537.36 (KHTML, like Gecko) Chrome/120.0.0.0 Safari/537.36\",\n",
    "    \"X-Naver-Client-Id\" : clientId,\n",
    "    \"X-Naver-Client-Secret\" : clientSecret\n",
    "\n",
    "})"
   ]
  },
  {
   "cell_type": "markdown",
   "metadata": {},
   "source": [
    "### [2]데이터 가져오기\n",
    "post 방식 전송은 'data' 라는 이름의 파라미터에 전송하고자 하는 변수를 딕셔너리 형태로 구성해야 한다."
   ]
  },
  {
   "cell_type": "code",
   "execution_count": 7,
   "metadata": {},
   "outputs": [
    {
     "name": "stdout",
     "output_type": "stream",
     "text": [
      "{'message': {'@type': 'response', '@service': 'naverservice.nmt.proxy', '@version': '1.0.0', 'result': {'srcLangType': 'en', 'tarLangType': 'ko', 'translatedText': '안녕, 파이썬', 'engineType': 'N2MT'}}}\n"
     ]
    },
    {
     "data": {
      "text/plain": [
       "'안녕, 파이썬'"
      ]
     },
     "execution_count": 7,
     "metadata": {},
     "output_type": "execute_result"
    }
   ],
   "source": [
    "try:\n",
    "    r = session.post(url, data ={\n",
    "        \"source\" : source,\n",
    "        \"target\" : target,\n",
    "        \"text\" : text\n",
    "    })\n",
    "    \n",
    "    if r.status_code != 200:\n",
    "        msg = \"[%d Error] %s 에러가 발생함\" % (r.status_code, r.reason)\n",
    "        raise Exception(msg)\n",
    "except Exception as e:\n",
    "    print(\"접속에 실패했습니다.\")\n",
    "    print(e)\n",
    "\n",
    "r.encoding = \"utf-8\"\n",
    "mydict = json.loads(r.text)\n",
    "print(mydict)\n",
    "\n",
    "mydict['message']['result']['translatedText']"
   ]
  }
 ],
 "metadata": {
  "kernelspec": {
   "display_name": "Python 3",
   "language": "python",
   "name": "python3"
  },
  "language_info": {
   "codemirror_mode": {
    "name": "ipython",
    "version": 3
   },
   "file_extension": ".py",
   "mimetype": "text/x-python",
   "name": "python",
   "nbconvert_exporter": "python",
   "pygments_lexer": "ipython3",
   "version": "3.12.0"
  }
 },
 "nbformat": 4,
 "nbformat_minor": 2
}
