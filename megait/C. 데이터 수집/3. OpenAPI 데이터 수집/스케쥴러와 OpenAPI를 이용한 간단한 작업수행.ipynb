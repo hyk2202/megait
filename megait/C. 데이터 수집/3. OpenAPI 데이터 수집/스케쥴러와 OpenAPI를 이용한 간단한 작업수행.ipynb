{
 "cells": [
  {
   "cell_type": "markdown",
   "metadata": {},
   "source": [
    "1. 다음날 날씨를 네이버 날씨를 크롤링해서 긁어온다\n",
    "2. 해당 정보를 카카오OpenAPI를 이용하여 나에게 전송하기로 해당 내용을 전송한다\n",
    "3. 스케쥴러를 이용하여 월~목간 자동으로 실시하게 만든다\n",
    "\n",
    "// 카카오톡 로그인 - 날씨 크롤링 - 나에게 전송"
   ]
  },
  {
   "cell_type": "markdown",
   "metadata": {},
   "source": [
    "## #1. 준비과정\n",
    "\n",
    "### 1. 패키지 참조\n"
   ]
  },
  {
   "cell_type": "code",
   "execution_count": 6,
   "metadata": {},
   "outputs": [],
   "source": [
    "# 스케쥴러\n",
    "from apscheduler.schedulers.background import BackgroundScheduler\n",
    "from apscheduler.jobstores.base import JobLookupError \n",
    "import datetime as dt\n",
    "import time \n",
    "\n",
    "# 카카오 API 연동\n",
    "import requests\n",
    "import json\n",
    "import os\n",
    "from dotenv import load_dotenv\n",
    "\n",
    "# 크롤링\n",
    "# from bs4 import beautifulsoup4"
   ]
  },
  {
   "cell_type": "markdown",
   "metadata": {},
   "source": [
    "### 2. URL 가져오기"
   ]
  },
  {
   "cell_type": "code",
   "execution_count": 12,
   "metadata": {},
   "outputs": [],
   "source": [
    "# url = 'https://kapi.kakao.com/v2/api/talk/memo/default/send' # 메시지 전송\n",
    "\n",
    "url = 'https://kauth.kakao.com/oauth/authorize?response_type=code&client_id=\"797d7693bbdf775bc438033e74ae3402\"&redirect_uri=\"https://example.com/oauth\"' # 로그인"
   ]
  },
  {
   "cell_type": "markdown",
   "metadata": {},
   "source": [
    "### 3. 요청변수"
   ]
  },
  {
   "cell_type": "code",
   "execution_count": null,
   "metadata": {},
   "outputs": [],
   "source": [
    "load_dotenv(dotenv_path = '../../../dot_env/.env')\n",
    "key = os.environ.get(\"kakao_key\")\n"
   ]
  },
  {
   "cell_type": "markdown",
   "metadata": {},
   "source": [
    "## 2. 데이터 요청하기\n",
    "\n",
    "### 1. 세션생성"
   ]
  },
  {
   "cell_type": "code",
   "execution_count": 14,
   "metadata": {},
   "outputs": [
    {
     "ename": "JSONDecodeError",
     "evalue": "Expecting value: line 1 column 1 (char 0)",
     "output_type": "error",
     "traceback": [
      "\u001b[1;31m---------------------------------------------------------------------------\u001b[0m",
      "\u001b[1;31mJSONDecodeError\u001b[0m                           Traceback (most recent call last)",
      "Cell \u001b[1;32mIn[14], line 12\u001b[0m\n\u001b[0;32m     10\u001b[0m     \u001b[38;5;28mprint\u001b[39m(e)\n\u001b[0;32m     11\u001b[0m r\u001b[38;5;241m.\u001b[39mencoding \u001b[38;5;241m=\u001b[39m \u001b[38;5;124m\"\u001b[39m\u001b[38;5;124mutf-8\u001b[39m\u001b[38;5;124m\"\u001b[39m\n\u001b[1;32m---> 12\u001b[0m mydict \u001b[38;5;241m=\u001b[39m \u001b[43mjson\u001b[49m\u001b[38;5;241;43m.\u001b[39;49m\u001b[43mloads\u001b[49m\u001b[43m(\u001b[49m\u001b[43mr\u001b[49m\u001b[38;5;241;43m.\u001b[39;49m\u001b[43mtext\u001b[49m\u001b[43m)\u001b[49m\n\u001b[0;32m     13\u001b[0m \u001b[38;5;66;03m# print(mydict)\u001b[39;00m\n\u001b[0;32m     14\u001b[0m \u001b[38;5;66;03m# '''\u001b[39;00m\n\u001b[0;32m     15\u001b[0m \u001b[38;5;66;03m# {\u001b[39;00m\n\u001b[1;32m   (...)\u001b[0m\n\u001b[0;32m     86\u001b[0m \n\u001b[0;32m     87\u001b[0m \u001b[38;5;66;03m# })\u001b[39;00m\n",
      "File \u001b[1;32mc:\\Users\\hykimm\\AppData\\Local\\Programs\\Python\\Python312\\Lib\\json\\__init__.py:346\u001b[0m, in \u001b[0;36mloads\u001b[1;34m(s, cls, object_hook, parse_float, parse_int, parse_constant, object_pairs_hook, **kw)\u001b[0m\n\u001b[0;32m    341\u001b[0m     s \u001b[38;5;241m=\u001b[39m s\u001b[38;5;241m.\u001b[39mdecode(detect_encoding(s), \u001b[38;5;124m'\u001b[39m\u001b[38;5;124msurrogatepass\u001b[39m\u001b[38;5;124m'\u001b[39m)\n\u001b[0;32m    343\u001b[0m \u001b[38;5;28;01mif\u001b[39;00m (\u001b[38;5;28mcls\u001b[39m \u001b[38;5;129;01mis\u001b[39;00m \u001b[38;5;28;01mNone\u001b[39;00m \u001b[38;5;129;01mand\u001b[39;00m object_hook \u001b[38;5;129;01mis\u001b[39;00m \u001b[38;5;28;01mNone\u001b[39;00m \u001b[38;5;129;01mand\u001b[39;00m\n\u001b[0;32m    344\u001b[0m         parse_int \u001b[38;5;129;01mis\u001b[39;00m \u001b[38;5;28;01mNone\u001b[39;00m \u001b[38;5;129;01mand\u001b[39;00m parse_float \u001b[38;5;129;01mis\u001b[39;00m \u001b[38;5;28;01mNone\u001b[39;00m \u001b[38;5;129;01mand\u001b[39;00m\n\u001b[0;32m    345\u001b[0m         parse_constant \u001b[38;5;129;01mis\u001b[39;00m \u001b[38;5;28;01mNone\u001b[39;00m \u001b[38;5;129;01mand\u001b[39;00m object_pairs_hook \u001b[38;5;129;01mis\u001b[39;00m \u001b[38;5;28;01mNone\u001b[39;00m \u001b[38;5;129;01mand\u001b[39;00m \u001b[38;5;129;01mnot\u001b[39;00m kw):\n\u001b[1;32m--> 346\u001b[0m     \u001b[38;5;28;01mreturn\u001b[39;00m \u001b[43m_default_decoder\u001b[49m\u001b[38;5;241;43m.\u001b[39;49m\u001b[43mdecode\u001b[49m\u001b[43m(\u001b[49m\u001b[43ms\u001b[49m\u001b[43m)\u001b[49m\n\u001b[0;32m    347\u001b[0m \u001b[38;5;28;01mif\u001b[39;00m \u001b[38;5;28mcls\u001b[39m \u001b[38;5;129;01mis\u001b[39;00m \u001b[38;5;28;01mNone\u001b[39;00m:\n\u001b[0;32m    348\u001b[0m     \u001b[38;5;28mcls\u001b[39m \u001b[38;5;241m=\u001b[39m JSONDecoder\n",
      "File \u001b[1;32mc:\\Users\\hykimm\\AppData\\Local\\Programs\\Python\\Python312\\Lib\\json\\decoder.py:337\u001b[0m, in \u001b[0;36mJSONDecoder.decode\u001b[1;34m(self, s, _w)\u001b[0m\n\u001b[0;32m    332\u001b[0m \u001b[38;5;28;01mdef\u001b[39;00m \u001b[38;5;21mdecode\u001b[39m(\u001b[38;5;28mself\u001b[39m, s, _w\u001b[38;5;241m=\u001b[39mWHITESPACE\u001b[38;5;241m.\u001b[39mmatch):\n\u001b[0;32m    333\u001b[0m \u001b[38;5;250m    \u001b[39m\u001b[38;5;124;03m\"\"\"Return the Python representation of ``s`` (a ``str`` instance\u001b[39;00m\n\u001b[0;32m    334\u001b[0m \u001b[38;5;124;03m    containing a JSON document).\u001b[39;00m\n\u001b[0;32m    335\u001b[0m \n\u001b[0;32m    336\u001b[0m \u001b[38;5;124;03m    \"\"\"\u001b[39;00m\n\u001b[1;32m--> 337\u001b[0m     obj, end \u001b[38;5;241m=\u001b[39m \u001b[38;5;28;43mself\u001b[39;49m\u001b[38;5;241;43m.\u001b[39;49m\u001b[43mraw_decode\u001b[49m\u001b[43m(\u001b[49m\u001b[43ms\u001b[49m\u001b[43m,\u001b[49m\u001b[43m \u001b[49m\u001b[43midx\u001b[49m\u001b[38;5;241;43m=\u001b[39;49m\u001b[43m_w\u001b[49m\u001b[43m(\u001b[49m\u001b[43ms\u001b[49m\u001b[43m,\u001b[49m\u001b[43m \u001b[49m\u001b[38;5;241;43m0\u001b[39;49m\u001b[43m)\u001b[49m\u001b[38;5;241;43m.\u001b[39;49m\u001b[43mend\u001b[49m\u001b[43m(\u001b[49m\u001b[43m)\u001b[49m\u001b[43m)\u001b[49m\n\u001b[0;32m    338\u001b[0m     end \u001b[38;5;241m=\u001b[39m _w(s, end)\u001b[38;5;241m.\u001b[39mend()\n\u001b[0;32m    339\u001b[0m     \u001b[38;5;28;01mif\u001b[39;00m end \u001b[38;5;241m!=\u001b[39m \u001b[38;5;28mlen\u001b[39m(s):\n",
      "File \u001b[1;32mc:\\Users\\hykimm\\AppData\\Local\\Programs\\Python\\Python312\\Lib\\json\\decoder.py:355\u001b[0m, in \u001b[0;36mJSONDecoder.raw_decode\u001b[1;34m(self, s, idx)\u001b[0m\n\u001b[0;32m    353\u001b[0m     obj, end \u001b[38;5;241m=\u001b[39m \u001b[38;5;28mself\u001b[39m\u001b[38;5;241m.\u001b[39mscan_once(s, idx)\n\u001b[0;32m    354\u001b[0m \u001b[38;5;28;01mexcept\u001b[39;00m \u001b[38;5;167;01mStopIteration\u001b[39;00m \u001b[38;5;28;01mas\u001b[39;00m err:\n\u001b[1;32m--> 355\u001b[0m     \u001b[38;5;28;01mraise\u001b[39;00m JSONDecodeError(\u001b[38;5;124m\"\u001b[39m\u001b[38;5;124mExpecting value\u001b[39m\u001b[38;5;124m\"\u001b[39m, s, err\u001b[38;5;241m.\u001b[39mvalue) \u001b[38;5;28;01mfrom\u001b[39;00m \u001b[38;5;28;01mNone\u001b[39;00m\n\u001b[0;32m    356\u001b[0m \u001b[38;5;28;01mreturn\u001b[39;00m obj, end\n",
      "\u001b[1;31mJSONDecodeError\u001b[0m: Expecting value: line 1 column 1 (char 0)"
     ]
    }
   ],
   "source": [
    "session = requests.Session()\n",
    "try:\n",
    "    r = session.get(url)\n",
    "    \n",
    "    if r.status_code != 200:\n",
    "        msg = \"[%d Error] %s 에러가 발생함\" % (r.status_code, r.reason)\n",
    "        raise Exception(msg)\n",
    "except Exception as e:\n",
    "    print(\"접속에 실패했습니다.\")\n",
    "    print(e)\n",
    "r.encoding = \"utf-8\"\n",
    "\n",
    "# print(mydict)\n",
    "# '''\n",
    "# {\n",
    "# \"props\":{\n",
    "#     \"pageProps\":{\n",
    "#         \"pageContext\":{\n",
    "#             \"commonContext\":{\n",
    "#                 \"locale\":\"ko\",\n",
    "#                 \"uaClass\":\"os_other  pc\",\n",
    "#                 \"responsiveView\":True,\n",
    "#                 \"responsivePopup\":False,\n",
    "#                 \"mobile\":False,\n",
    "#                 \"webview\":{\n",
    "#                     \"app\":\"web\",\n",
    "#                     \"webViewType\":\"none\",\n",
    "#                     \"appVersion\":\"\",\n",
    "#                     \"os\":\"other\",\n",
    "#                     \"osVersion\":\"\",\n",
    "#                     \"supportExecUrlScheme\":false,\n",
    "#                     \"supportMarketUrlScheme\":true,\n",
    "#                     \"supportFilePicker\":true,\n",
    "#                     \"supportNavigation\":false\n",
    "#                 },\n",
    "#                 \"supportRefererMetaTag\":false,\n",
    "#                 \"showHeader\":false,\n",
    "#                 \"showFooter\":true,\n",
    "#                 \"linkParams\":{},\n",
    "#                 \"showDarkMode\":null,\n",
    "#                 \"_csrf\":\"532cc688-fcb9-43cc-bf2b-ef032e34416c\"\n",
    "#                 ,\"kage_file_max_size\":100,\n",
    "#                 \"upload_kage_url\":\"https://up-api1-kage.kakao.com/up/kaccount-p/\",\n",
    "#                 \"p\":\"25J2n6HPUx1WZj3ghKUmmk1UMoDMbEZfvSdCYFYWuGI\"\n",
    "#             },\n",
    "#             \"context\":{\n",
    "#                 \"webType\":\"web\",\n",
    "#                 \"defaultEmail\":null,\n",
    "#                 \"showStaySignIn\":true,\n",
    "#                 \"defaultStaySignIn\":false,\n",
    "#                 \"appendStaySignedIn\":false,\n",
    "#                 \"defaultCountryCode\":\"KR_82\",\n",
    "#                 \"showQrLogin\":true,\n",
    "#                 \"showWebTalkLogin\":false,\n",
    "#                 \"showDeviceFormLogin\":false,\n",
    "#                 \"needCaptcha\":false,\n",
    "#                 \"showIpSecurity\":false,\n",
    "#                 \"loginUrl\":\"/login?continue=https%3A%2F%2Fkauth.kakao.com%2Foauth%2Fauthorize%3Fresponse_type%3Dcode%26redirect_uri%3D%2522https%253A%252F%252Fexample.com%252Foauth%2522%26through_account%3Dtrue%26client_id%3D%2522797d7693bbdf775bc438033e74ae3402%2522\",\n",
    "#                 \"continueUrl\":\"https://kauth.kakao.com/oauth/authorize?response_type=code&redirect_uri=%22https%3A%2F%2Fexample.com%2Foauth%22&through_account=true&client_id=%22797d7693bbdf775bc438033e74ae3402%22\",\n",
    "#                 \"useSimpleLogin\":true,\n",
    "#                 \"exceedSimpleLoginLimit\":false,\n",
    "#                 \"defaultSaveSignIn\":false,\n",
    "#                 \"isTalkLoginError\":false,\n",
    "#                 \"linkParams\":{\"lang\":[\"ko\"]},\n",
    "#                 \"requests\":{\"check_daum_sso\":[\"get\",\"https://logins.daum.net/accounts/endpoint/favicon.ico\"]}\n",
    "#             }\n",
    "#         }\n",
    "#     }\n",
    "# },\n",
    "# \"page\":\"/login/login\",\n",
    "# \"query\":{},\n",
    "# \"buildId\":\"5JW_gA4KTyt9ubgoPprx7\",\n",
    "# \"assetPrefix\":\"https://accounts.kakaocdn.net\",\n",
    "# \"nextExport\":true,\n",
    "# \"isFallback\":false,\n",
    "# \"gip\":true,\n",
    "# \"scriptLoader\":[]}\n",
    "# '''\n",
    "# url = \"https://kauth.kakao.com/oauth/token\"\n",
    "# session = requests.Session()\n",
    "# session.update({\n",
    "#     \"grant_type\": \"authorization_code\",\n",
    "#     \"client_id\": \"797d7693bbdf775bc438033e74ae3402\",\n",
    "#     \"redirect_uri\": 'https://kauth.kakao.com/oauth/authorize?response_type=code&client_id=\"797d7693bbdf775bc438033e74ae3402\"&redirect_uri=\"https://example.com/oauth\"',\n",
    "#     \"code\":\"\",\n",
    "\n",
    "# })"
   ]
  },
  {
   "cell_type": "markdown",
   "metadata": {},
   "source": [
    "### 2. 데이터 가져오기\n"
   ]
  },
  {
   "cell_type": "markdown",
   "metadata": {},
   "source": [
    "url = \"https://kauth.kakao.com/oauth/token\"\n",
    "session = requests.Session()\n",
    "session.update({\n",
    "    \"grant_type\": \"authorization_code\",\n",
    "    \"client_id\": \"797d7693bbdf775bc438033e74ae3402\",\n",
    "    \"redirect_uri\": 'https://kauth.kakao.com/oauth/authorize?response_type=code&client_id=\"797d7693bbdf775bc438033e74ae3402\"&redirect_uri=\"https://example.com/oauth\"',\n",
    "    \"code\":\"\",\n",
    "\n",
    "})"
   ]
  },
  {
   "cell_type": "markdown",
   "metadata": {},
   "source": []
  },
  {
   "cell_type": "markdown",
   "metadata": {},
   "source": [
    "1. 준비과정\n",
    "   * 패키지참조\n",
    "   * URL\n",
    "   * 요청변수\n",
    "2. 데이터 요청하기\n",
    "   * 세션생성\n",
    "   * 데이터가져오기\n",
    "   * 수신된 응답 결과 확인\n",
    "3. 데이터활용\n",
    "   * 수집된 정보 저장\n"
   ]
  },
  {
   "cell_type": "code",
   "execution_count": null,
   "metadata": {},
   "outputs": [],
   "source": [
    "session = requests.Session()\n",
    "session.headers.update({\n",
    "    \"Referer\": \"\",\n",
    "    \"User-Agent\": \"Mozilla/5.0 (Windows NT 10.0; Win64; x64) AppleWebKit/537.36 (KHTML, like Gecko) Chrome/120.0.0.0 Safari/537.36\",\n",
    "    \"Authorization\": f\"KakaoAK {key}\",\n",
    "    \"Content-Type\": \"application/x-www-form-urlencoded\"\n",
    "})"
   ]
  }
 ],
 "metadata": {
  "kernelspec": {
   "display_name": "Python 3",
   "language": "python",
   "name": "python3"
  },
  "language_info": {
   "codemirror_mode": {
    "name": "ipython",
    "version": 3
   },
   "file_extension": ".py",
   "mimetype": "text/x-python",
   "name": "python",
   "nbconvert_exporter": "python",
   "pygments_lexer": "ipython3",
   "version": "3.12.0"
  }
 },
 "nbformat": 4,
 "nbformat_minor": 2
}
