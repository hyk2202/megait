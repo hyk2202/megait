{
 "cells": [
  {
   "cell_type": "markdown",
   "metadata": {},
   "source": [
    "OpenAPI 연동방식\n",
    "\n",
    "\n",
    "```python\n",
    "session.headers.update({\n",
    "    \"Referer\": \"\", # 이전 페이지\n",
    "    \"User-Agent\": \"Mozilla/5.0 (Windows NT 10.0; Win64; x64) AppleWebKit/537.36 (KHTML, like Gecko) Chrome/120.0.0.0 Safari/537.36\", # 접속형태\n",
    "})\n",
    "```\n",
    "\n",
    "인터넷 url을통해 접속하는데 임의의 프로그램은 사이트에서 접속을 차단하므로 해당 프로그램이 크롬으로 접속하는 형태로 변경하여 사용하여준다\n",
    "\n",
    "\n",
    "- get방식\n",
    "\n",
    "> 파라미터를 url에 같이 입력해서 넘기는 방식\n",
    "```python\n",
    "url = https://google.com/?파라미터1=값1&파라미터2=값2&...\n",
    "```\n",
    "보안에 취약함\n",
    "\n",
    "- POST방식 \n",
    "\n",
    "> url에 입력하지 않고 헤더로 파라미터를 넘기는 방식\n",
    "\n",
    "상대적으로 보안에 안전함\n",
    "\n",
    "session에서 해당 헤더를 업데이트해준다(헤더는 딕셔너리형태로 작성되어 있으므로 추가할 헤더 : 값 으로 입력)\n",
    "\n",
    "```python\n",
    "url = https://google.com/\n",
    "session.headers.update({\n",
    "    파라미터1 : 값1,\n",
    "    파라미터2 : 값2, ...\n",
    "})\n",
    "```"
   ]
  },
  {
   "cell_type": "markdown",
   "metadata": {},
   "source": [
    "1. 준비과정\n",
    "   * 패키지참조\n",
    "   * URL\n",
    "   * 요청변수\n",
    "2. 데이터 요청하기\n",
    "   * 세션생성\n",
    "   * 데이터가져오기\n",
    "   * 수신된 응답 결과 확인\n",
    "3. 데이터활용\n",
    "   * 수집된 정보 저장\n",
    "\n",
    "의 순서로 활용한다.\n",
    "\n",
    "정보 저장시 비동기처리를 하기 위해서는 단위 기능을 함수형태로 구현 하여야한다.\n",
    "\n",
    "이 때, 해당 함수에 참조기능(리스트/딕셔너리)을 활용하여 결과값을 재사용할 수 있다."
   ]
  },
  {
   "cell_type": "markdown",
   "metadata": {},
   "source": [
    "연동하려는 API마다 연동방식을 확인 한 후\n",
    "\n",
    "요청 파라미터와 응답 파라미터를 확인하여\n",
    "\n",
    "보내야 하는 파라미터, 받고싶은 파라미터만 뽑아서 사용하면 해결"
   ]
  },
  {
   "cell_type": "markdown",
   "metadata": {},
   "source": [
    "공공데이터포털에서 지자체별 OpenAPI를 통해 연구과제\n",
    "\n",
    "OOOO 분석\n",
    "- OO시를 중심으로 (OO구를 중심으로)\n",
    "\n",
    "도입부에서 이 프로젝트의 범위를 명시해야함\n",
    "\n",
    "범위 : 시간적범위 / 공간적범위\n",
    "\n",
    "(예) 이 프로젝트는 20년도 데이터를 기반으로한다\n",
    "\n",
    "(예) 이 프로젝트는 서울시 데이터를 기반으로한다\n",
    "\n",
    "AI hub : 유료 데이터 사이트\n",
    "\n",
    "국가통계포털 : 데이터를 csv형태로 다운로드받아서 사용 // raw data는 없고 정리된 결과만 있어서 연구에 잘 사용되지는 않음 // 분석결과를 확인하는 용도?\n",
    "\n",
    "서울특별시 빅데이터 캠퍼스 : "
   ]
  }
 ],
 "metadata": {
  "kernelspec": {
   "display_name": "Python 3",
   "language": "python",
   "name": "python3"
  },
  "language_info": {
   "name": "python",
   "version": "3.12.0"
  }
 },
 "nbformat": 4,
 "nbformat_minor": 2
}
