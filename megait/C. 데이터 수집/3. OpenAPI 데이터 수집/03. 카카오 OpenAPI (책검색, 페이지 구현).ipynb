{
 "cells": [
  {
   "cell_type": "markdown",
   "metadata": {},
   "source": [
    "\n",
    "요청\n",
    "\n",
    "헤더 -> session에 헤더에 추가해줘야함\n",
    "\n",
    "Authorization: KakaoAK ${REST_API_KEY}\n",
    "\n",
    "쿼리 파라미터\n",
    "\n",
    "-> url에 사용\n"
   ]
  },
  {
   "cell_type": "markdown",
   "metadata": {},
   "source": [
    "# 카카오 OpenAPI 연동 (책검색, 페이지 구현)\n",
    "\n",
    "## #01. 준비과정\n",
    "\n",
    "### [1] 패키지 참조\n"
   ]
  },
  {
   "cell_type": "code",
   "execution_count": 1,
   "metadata": {},
   "outputs": [],
   "source": [
    "import requests\n",
    "import json\n",
    "import datetime as dt\n",
    "import os\n",
    "from dotenv import load_dotenv"
   ]
  },
  {
   "cell_type": "markdown",
   "metadata": {},
   "source": [
    "### [2] 접속할 데이터의 URL"
   ]
  },
  {
   "cell_type": "code",
   "execution_count": 5,
   "metadata": {},
   "outputs": [],
   "source": [
    "\n",
    "urlFmt = 'https://dapi.kakao.com/v3/search/book?query={query}&page={page}&size={size}'\n",
    "\n"
   ]
  },
  {
   "cell_type": "markdown",
   "metadata": {},
   "source": [
    "### [3] 요청 변수"
   ]
  },
  {
   "cell_type": "code",
   "execution_count": 11,
   "metadata": {},
   "outputs": [
    {
     "data": {
      "text/plain": [
       "'797d7693bbdf775bc438033e74ae3402'"
      ]
     },
     "execution_count": 11,
     "metadata": {},
     "output_type": "execute_result"
    }
   ],
   "source": [
    "query = '파이썬'\n",
    "page = 1\n",
    "size = 50\n",
    "load_dotenv(dotenv_path = '../../../dot_env/.env')\n",
    "\n",
    "key = os.environ.get(\"kakao_key\")\n",
    "\n",
    "\n"
   ]
  },
  {
   "cell_type": "markdown",
   "metadata": {},
   "source": [
    "## #02. 데이터 요청하기\n",
    "### [1] 세션 생성"
   ]
  },
  {
   "cell_type": "code",
   "execution_count": 6,
   "metadata": {},
   "outputs": [],
   "source": [
    "session = requests.Session()\n",
    "\n",
    "session.headers.update({\n",
    "    \"Referer\": \"\",\n",
    "    \"User-Agent\": \"Mozilla/5.0 (Windows NT 10.0; Win64; x64) AppleWebKit/537.36 (KHTML, like Gecko) Chrome/120.0.0.0 Safari/537.36\",\n",
    "    \"Authorization\": f\"KakaoAK {key}\"\n",
    "})"
   ]
  },
  {
   "cell_type": "markdown",
   "metadata": {},
   "source": [
    "### [2]데이터 가져오기\n",
    "\n",
    "마지막 페이지임을 의미하는 'meta > is_end' 라는 값이 'True'로 반환될 때 까지 'page'를 1씩 증가시키면서 반복 수행"
   ]
  },
  {
   "cell_type": "code",
   "execution_count": 7,
   "metadata": {},
   "outputs": [
    {
     "name": "stdout",
     "output_type": "stream",
     "text": [
      "접속에 실패했습니다.\n",
      "[401 Error] Unauthorized 에러가 발생함\n",
      "[]\n",
      "fin :)\n"
     ]
    }
   ],
   "source": [
    "page = 1\n",
    "isEnd = False\n",
    "\n",
    "# 수집된 데이터를 모아 놓을 빈 리스트\n",
    "mydata = []\n",
    "\n",
    "while not isEnd:\n",
    "    url = urlFmt.format(query=query, page = page, size = size)\n",
    "\n",
    "    try:\n",
    "        r = session.get(url)\n",
    "        \n",
    "        if r.status_code != 200:\n",
    "            msg = \"[%d Error] %s 에러가 발생함\" % (r.status_code, r.reason)\n",
    "            raise Exception(msg)\n",
    "    except Exception as e:\n",
    "        print(\"접속에 실패했습니다.\")\n",
    "        print(e)\n",
    "\n",
    "        # 에러 발생시 나머지 페이지 중단\n",
    "        break\n",
    "\n",
    "        # 에러 발생시 다음 페이지 시도\n",
    "        # continue\n",
    "    \n",
    "    \n",
    "    r.encoding = \"utf-8\"\n",
    "    mydict = json.loads(r.text)\n",
    "\n",
    "    mydata += mydict['documents']\n",
    "    print(f'{page} 페이지로부터 {len(mydict['documents'])}건의 데이터를 수집했습니다.')\n",
    "\n",
    "    page += 1 # 페이지 증가\n",
    "    isEnd = mydict['meta']['is_end'] # 마지막 페이지인지 확인 // 연동하는 API에 따라 처리방법이 다름\n",
    "\n",
    "print(mydata)\n",
    "print('fin :)')"
   ]
  },
  {
   "cell_type": "markdown",
   "metadata": {},
   "source": [
    "## #03. 데이터 활용\n",
    "\n"
   ]
  },
  {
   "cell_type": "code",
   "execution_count": 7,
   "metadata": {},
   "outputs": [
    {
     "name": "stdout",
     "output_type": "stream",
     "text": [
      "fin :)\n"
     ]
    }
   ],
   "source": [
    "with open(f'{query}_책_검색결과.csv','w',encoding='utf-8') as f:\n",
    "    f.write('제목, 저자, 출판사, 정가, 판매가, 출간일 \\n')\n",
    "    for i, v in enumerate(mydata):\n",
    "        authors, contents, datetime, isbn, price, publisher, sale_price, status, thumbnail, title, translators, url = v.values()\n",
    "        authors = \"/\".join(authors)\n",
    "        \n",
    "        # 날짜값이 ISO형식인 경우 python의 datetime객체로 변환하기 위해 fromisoformat() 메서드를 사용한다.\n",
    "        # 일반적으로 OpenAPI 날짜는 ISO형식이다.\n",
    "        iso_date = dt.datetime.fromisoformat(datetime)\n",
    "        f.write(f\"{title}, {authors}, {publisher}, {price}, {sale_price}, {iso_date.strftime(\"%Y-%m-%d\")} \\n\")\n",
    "\n",
    "print(\"fin :)\")\n",
    "\n",
    "    "
   ]
  }
 ],
 "metadata": {
  "kernelspec": {
   "display_name": "Python 3",
   "language": "python",
   "name": "python3"
  },
  "language_info": {
   "codemirror_mode": {
    "name": "ipython",
    "version": 3
   },
   "file_extension": ".py",
   "mimetype": "text/x-python",
   "name": "python",
   "nbconvert_exporter": "python",
   "pygments_lexer": "ipython3",
   "version": "3.12.0"
  }
 },
 "nbformat": 4,
 "nbformat_minor": 2
}
