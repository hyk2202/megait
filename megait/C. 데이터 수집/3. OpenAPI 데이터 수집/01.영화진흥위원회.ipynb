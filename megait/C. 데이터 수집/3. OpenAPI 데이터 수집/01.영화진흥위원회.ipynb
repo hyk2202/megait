{
 "cells": [
  {
   "cell_type": "markdown",
   "metadata": {},
   "source": [
    "# 영화진흥위원회 OpenAPI 연동\n",
    "\n",
    "## #01. OpenAPI\n",
    "\n",
    "### [1] OpenAPI의 이해\n",
    "\n",
    "누구나 사용할 수 있는 공개된 API\n",
    "\n",
    "데이터를 표준화하고 프로그맹해 외부 소프트웨어 개발자나 사용자가 바로 활용할 수 있는 형태의 개방 형ㅅ힉.\n",
    "\n",
    "RESTFUL API에서 데이터 조회 기능만 제공하는 경우가 많다.\n",
    "\n",
    "### [2] QueryString\n",
    "\n",
    "다른 웹 프로그램에 URL을 통해서 전달하는 파라미터 문자열\n",
    "\n",
    "```\n",
    "https://www.naver.com/news?이름=값&이름=값...\n",
    "```\n",
    "url에서 ?이후부터는 파라미터\n",
    "\n",
    "웹 프로그램은 url에 포함된 변수(파라미터)를 활용하여 하나의 프로그램이 변수값에 따라 다른 데이터를 표시할 수 있다.\n",
    "\n",
    "### [3] JSON 데이터를 출력하는 웹 프로그램\n",
    "\n",
    "URL에 포함된 파라미터를 통해 선택적으로 데이터를 표현\n",
    "\n",
    "이 웹페이지의 표현 형식이 JSON이라면 그 웹페이지는 파라미터에 따라 다른 내용을 제공할 수 있다."
   ]
  },
  {
   "cell_type": "markdown",
   "metadata": {},
   "source": [
    "## #02. 준비과정\n",
    "\n",
    "### [1] 패키지 참조"
   ]
  },
  {
   "cell_type": "code",
   "execution_count": 18,
   "metadata": {},
   "outputs": [],
   "source": [
    "import requests\n",
    "import json\n",
    "import datetime as dt\n",
    "import os\n",
    "from dotenv import load_dotenv"
   ]
  },
  {
   "cell_type": "markdown",
   "metadata": {},
   "source": [
    "### [2] 접속할 데이터의 URL\n",
    "\n",
    "변수값을 치환하기 위한 형식 문자열로 구성"
   ]
  },
  {
   "cell_type": "code",
   "execution_count": 19,
   "metadata": {},
   "outputs": [],
   "source": [
    "# urlFmt = 'http://www.kobis.or.kr/kobisopenapi/webservice/rest/boxoffice/searchDailyBoxOfficeList.json?key=ef55cb577180a78eb1f3636a2a36b97a&targetDt=20231207' 인터넷에서 주소에 오류가 없는지 확인\n",
    "urlFmt = 'http://www.kobis.or.kr/kobisopenapi/webservice/rest/boxoffice/searchDailyBoxOfficeList.json?key={key}&targetDt={targetDt}'\n",
    "\n"
   ]
  },
  {
   "cell_type": "markdown",
   "metadata": {},
   "source": [
    "### [3] 요청 변수\n",
    "\n",
    "#### (1) 발급받은 API 키"
   ]
  },
  {
   "cell_type": "code",
   "execution_count": 20,
   "metadata": {},
   "outputs": [],
   "source": [
    "API_KEY = os.environ.get(\"key_1\")"
   ]
  },
  {
   "cell_type": "markdown",
   "metadata": {},
   "source": [
    "#### (2) 하루 전 날짜 얻기"
   ]
  },
  {
   "cell_type": "code",
   "execution_count": 32,
   "metadata": {},
   "outputs": [
    {
     "name": "stdout",
     "output_type": "stream",
     "text": [
      "2023-12-01 15:59:21.717804\n"
     ]
    }
   ],
   "source": [
    "date = dt.datetime.now() - dt.timedelta(days =1)\n",
    "# timedelta 변수 days, seconds, microseconds, milliseconds, minutes, hours, weeks\n",
    "# 일자, HH:MI:SS 형태이며 백만분의일초단위까지 계산\n",
    "yesterday = date.strftime('%Y%m%d')\n",
    "print(date)\n"
   ]
  },
  {
   "cell_type": "markdown",
   "metadata": {},
   "source": [
    "## #03. 데이터 요청하기\n",
    "### [1] 세션 생성"
   ]
  },
  {
   "cell_type": "code",
   "execution_count": 22,
   "metadata": {},
   "outputs": [],
   "source": [
    "session = requests.Session()\n",
    "\n",
    "session.headers.update({\n",
    "    \"Referer\": \"\",\n",
    "    \"User-Agent\": \"Mozilla/5.0 (Windows NT 10.0; Win64; x64) AppleWebKit/537.36 (KHTML, like Gecko) Chrome/120.0.0.0 Safari/537.36\"\n",
    "})"
   ]
  },
  {
   "cell_type": "markdown",
   "metadata": {},
   "source": [
    "### [2]데이터 가져오기"
   ]
  },
  {
   "cell_type": "code",
   "execution_count": 23,
   "metadata": {},
   "outputs": [],
   "source": [
    "url = urlFmt.format(key=API_KEY, targetDt = yesterday)\n",
    "\n",
    "try:\n",
    "    r = session.get(url)\n",
    "    \n",
    "    if r.status_code != 200:\n",
    "        msg = \"[%d Error] %s 에러가 발생함\" % (r.status_code, r.reason)\n",
    "        raise Exception(msg)\n",
    "except Exception as e:\n",
    "    print(\"접속에 실패했습니다.\")\n",
    "    print(e)\n",
    "\n",
    "    "
   ]
  },
  {
   "cell_type": "markdown",
   "metadata": {},
   "source": [
    "### [3] 수신된 응답 결과 확인"
   ]
  },
  {
   "cell_type": "code",
   "execution_count": 24,
   "metadata": {},
   "outputs": [],
   "source": [
    "r.encoding = \"utf-8\"\n",
    "mydict = json.loads(r.text)\n",
    "\n"
   ]
  },
  {
   "cell_type": "markdown",
   "metadata": {},
   "source": [
    "## #04. 데이터 활용\n",
    "\n"
   ]
  },
  {
   "cell_type": "code",
   "execution_count": 25,
   "metadata": {},
   "outputs": [
    {
     "name": "stdout",
     "output_type": "stream",
     "text": [
      "fin :)\n"
     ]
    }
   ],
   "source": [
    "fname = f'박스오피스_{yesterday}.csv'\n",
    "\n",
    "with open(fname,'w',encoding='utf-8') as f:\n",
    "    f.write('제목,개봉일,관람객수,누적관람객수\\n')\n",
    "\n",
    "    for i in mydict['boxOfficeResult']['dailyBoxOfficeList'] :\n",
    "        f.write(f\"{i['movieNm']},{i['openDt']},{i['audiCnt']},{i['audiAcc']}\\n\")\n",
    "\n",
    "print('fin :)')"
   ]
  }
 ],
 "metadata": {
  "kernelspec": {
   "display_name": "Python 3",
   "language": "python",
   "name": "python3"
  },
  "language_info": {
   "codemirror_mode": {
    "name": "ipython",
    "version": 3
   },
   "file_extension": ".py",
   "mimetype": "text/x-python",
   "name": "python",
   "nbconvert_exporter": "python",
   "pygments_lexer": "ipython3",
   "version": "3.12.0"
  }
 },
 "nbformat": 4,
 "nbformat_minor": 2
}
