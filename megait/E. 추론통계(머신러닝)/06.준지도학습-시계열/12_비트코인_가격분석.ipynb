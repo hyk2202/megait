{
 "cells": [
  {
   "cell_type": "markdown",
   "metadata": {},
   "source": [
    "# 비트코인 가격 분석\n",
    "\n",
    "## #01. 준비작업\n",
    "\n",
    "### [1] 패키지 참조\n",
    "\n",
    "`pyupbit` 패키지의 설치가 필요하다."
   ]
  },
  {
   "cell_type": "code",
   "execution_count": 17,
   "metadata": {},
   "outputs": [],
   "source": [
    "import sys\n",
    "sys.path.append(\"../../\")\n",
    "\n",
    "import warnings\n",
    "warnings.filterwarnings(action='ignore')\n",
    "\n",
    "from helper.util import *\n",
    "from helper.plot import *\n",
    "from helper.timeserise import *\n",
    "\n",
    "import datetime as dt\n",
    "import pyupbit"
   ]
  },
  {
   "cell_type": "markdown",
   "metadata": {},
   "source": [
    "### [2] 데이터 수집\n",
    "\n",
    "pyupbit 패키지 사용 \n",
    "\n",
    "#### (1) 조회 가능한 단위 목록 확인\n",
    "\n",
    "- `KRW` : 한국화폐\n",
    "- `BTC` : Bitcoin\n",
    "- `ETH` : 이더리움"
   ]
  },
  {
   "cell_type": "code",
   "execution_count": 18,
   "metadata": {},
   "outputs": [
    {
     "name": "stdout",
     "output_type": "stream",
     "text": [
      "['KRW-BTC', 'KRW-ETH', 'BTC-ETH', 'BTC-XRP', 'BTC-ETC', 'BTC-CVC', 'BTC-DGB', 'BTC-SC', 'BTC-SNT', 'BTC-WAVES', 'BTC-NMR', 'BTC-XEM', 'BTC-QTUM', 'BTC-BAT', 'BTC-LSK', 'BTC-STEEM', 'BTC-DOGE', 'BTC-BNT', 'BTC-XLM', 'BTC-ARDR', 'BTC-ARK', 'BTC-STORJ', 'BTC-GRS', 'BTC-RLC', 'USDT-BTC', 'USDT-ETH', 'USDT-XRP', 'USDT-ETC', 'KRW-NEO', 'KRW-MTL', 'KRW-XRP', 'KRW-ETC', 'KRW-SNT', 'KRW-WAVES', 'KRW-XEM', 'KRW-QTUM', 'KRW-LSK', 'KRW-STEEM', 'KRW-XLM', 'KRW-ARDR', 'KRW-ARK', 'KRW-STORJ', 'KRW-GRS', 'KRW-ADA', 'BTC-ADA', 'BTC-MANA', 'KRW-SBD', 'BTC-SBD', 'KRW-POWR', 'BTC-POWR', 'KRW-BTG', 'USDT-ADA', 'BTC-DNT', 'BTC-ZRX', 'BTC-TRX', 'BTC-TUSD', 'BTC-LRC', 'KRW-ICX', 'KRW-EOS', 'USDT-TUSD', 'KRW-TRX', 'BTC-POLYX', 'USDT-SC', 'USDT-TRX', 'KRW-SC', 'KRW-ONT', 'KRW-ZIL', 'KRW-POLYX', 'KRW-ZRX', 'KRW-LOOM', 'BTC-BCH', 'USDT-BCH', 'KRW-BCH', 'BTC-HIFI', 'BTC-LOOM', 'KRW-BAT', 'KRW-IOST', 'USDT-DGB', 'KRW-CVC', 'KRW-IQ', 'KRW-IOTA', 'BTC-RVN', 'BTC-GO', 'BTC-UPP', 'BTC-ENJ', 'KRW-HIFI', 'KRW-ONG', 'KRW-GAS', 'BTC-MTL', 'KRW-UPP', 'KRW-ELF', 'USDT-DOGE', 'USDT-ZRX', 'USDT-RVN', 'USDT-BAT', 'KRW-KNC', 'BTC-MOC', 'BTC-ZIL', 'KRW-BSV', 'BTC-BSV', 'BTC-IOST', 'KRW-THETA', 'BTC-DENT', 'KRW-QKC', 'BTC-ELF', 'KRW-BTT', 'BTC-IOTX', 'BTC-SOLVE', 'BTC-NKN', 'BTC-META', 'KRW-MOC', 'BTC-ANKR', 'BTC-CRO', 'KRW-TFUEL', 'KRW-MANA', 'KRW-ANKR', 'BTC-ORBS', 'BTC-AERGO', 'KRW-AERGO', 'KRW-ATOM', 'KRW-TT', 'KRW-CRE', 'BTC-ATOM', 'BTC-STPT', 'KRW-MBL', 'BTC-EOS', 'BTC-DAI', 'BTC-MKR', 'BTC-BORA', 'KRW-WAXP', 'BTC-WAXP', 'KRW-HBAR', 'KRW-MED', 'BTC-MED', 'BTC-MLK', 'KRW-MLK', 'KRW-STPT', 'BTC-VET', 'KRW-ORBS', 'BTC-CHZ', 'KRW-VET', 'BTC-FX', 'BTC-OGN', 'KRW-CHZ', 'BTC-XTZ', 'BTC-HIVE', 'BTC-HBD', 'BTC-OBSR', 'BTC-DKA', 'KRW-STMX', 'BTC-STMX', 'BTC-AHT', 'KRW-DKA', 'BTC-LINK', 'KRW-HIVE', 'KRW-KAVA', 'BTC-KAVA', 'KRW-AHT', 'KRW-LINK', 'KRW-XTZ', 'KRW-BORA', 'BTC-JST', 'BTC-CHR', 'BTC-DAD', 'BTC-TON', 'KRW-JST', 'BTC-CTSI', 'BTC-DOT', 'KRW-CRO', 'BTC-COMP', 'BTC-SXP', 'BTC-HUNT', 'KRW-TON', 'BTC-ONIT', 'BTC-CRV', 'BTC-ALGO', 'BTC-RSR', 'KRW-SXP', 'BTC-OXT', 'BTC-PDA', 'KRW-HUNT', 'BTC-SAND', 'BTC-SUN', 'KRW-PDA', 'KRW-DOT', 'BTC-QTCON', 'BTC-MVL', 'KRW-MVL', 'BTC-REI', 'BTC-AQT', 'BTC-AXS', 'BTC-STRAX', 'KRW-STRAX', 'KRW-AQT', 'BTC-GLM', 'KRW-GLM', 'BTC-FCT2', 'KRW-META', 'KRW-FCT2', 'BTC-FIL', 'BTC-UNI', 'BTC-INJ', 'BTC-PROM', 'BTC-VAL', 'BTC-PSG', 'BTC-JUV', 'BTC-CBK', 'BTC-FOR', 'KRW-CBK', 'BTC-BFC', 'BTC-HPO', 'BTC-CELO', 'KRW-SAND', 'KRW-HPO', 'BTC-IQ', 'BTC-STX', 'KRW-DOGE', 'BTC-NEAR', 'BTC-AUCTION', 'BTC-FLOW', 'BTC-STRIKE', 'KRW-STRIKE', 'BTC-PUNDIX', 'KRW-PUNDIX', 'KRW-FLOW', 'KRW-AXS', 'KRW-STX', 'BTC-GRT', 'BTC-SNX', 'BTC-USDP', 'KRW-XEC', 'KRW-SOL', 'BTC-SOL', 'KRW-MATIC', 'BTC-MATIC', 'KRW-AAVE', 'KRW-1INCH', 'BTC-AAVE', 'BTC-1INCH', 'BTC-MASK', 'KRW-ALGO', 'BTC-AUDIO', 'KRW-NEAR', 'BTC-YGG', 'BTC-GTC', 'BTC-OCEAN', 'BTC-CTC', 'BTC-LPT', 'KRW-AVAX', 'BTC-AVAX', 'BTC-IMX', 'BTC-RNDR', 'BTC-RLY', 'KRW-T', 'BTC-T', 'KRW-CELO', 'BTC-RAD', 'BTC-AGLD', 'BTC-API3', 'BTC-ARPA', 'BTC-ENS', 'KRW-GMT', 'BTC-GMT', 'BTC-APE', 'BTC-RAY', 'KRW-APT', 'BTC-APT', 'BTC-ACM', 'BTC-AFC', 'BTC-ATM', 'BTC-BAR', 'BTC-CITY', 'BTC-INTER', 'BTC-NAP', 'KRW-SHIB', 'BTC-GAL', 'BTC-ASTR', 'BTC-BLUR', 'KRW-MASK', 'BTC-ACS', 'BTC-MAGIC', 'KRW-ARB', 'BTC-ARB', 'KRW-EGLD', 'BTC-EGLD', 'KRW-SUI', 'BTC-SUI', 'KRW-GRT', 'KRW-BLUR', 'BTC-MINA', 'KRW-IMX', 'BTC-STG', 'BTC-SEI', 'KRW-SEI', 'BTC-CYBER', 'BTC-GLMR', 'KRW-MINA', 'BTC-ID', 'BTC-AXL', 'KRW-CTC', 'KRW-ASTR', 'BTC-SPURS', 'KRW-ID', 'KRW-PYTH', 'BTC-PYTH', 'BTC-ALT']\n"
     ]
    }
   ],
   "source": [
    "print(pyupbit.get_tickers())"
   ]
  },
  {
   "cell_type": "markdown",
   "metadata": {},
   "source": [
    "#### (2) 특정 단어를 포함하는 조회 가능 목록만 가져오기"
   ]
  },
  {
   "cell_type": "code",
   "execution_count": 19,
   "metadata": {},
   "outputs": [
    {
     "name": "stdout",
     "output_type": "stream",
     "text": [
      "['KRW-BTC', 'KRW-ETH', 'KRW-NEO', 'KRW-MTL', 'KRW-XRP', 'KRW-ETC', 'KRW-SNT', 'KRW-WAVES', 'KRW-XEM', 'KRW-QTUM', 'KRW-LSK', 'KRW-STEEM', 'KRW-XLM', 'KRW-ARDR', 'KRW-ARK', 'KRW-STORJ', 'KRW-GRS', 'KRW-ADA', 'KRW-SBD', 'KRW-POWR', 'KRW-BTG', 'KRW-ICX', 'KRW-EOS', 'KRW-TRX', 'KRW-SC', 'KRW-ONT', 'KRW-ZIL', 'KRW-POLYX', 'KRW-ZRX', 'KRW-LOOM', 'KRW-BCH', 'KRW-BAT', 'KRW-IOST', 'KRW-CVC', 'KRW-IQ', 'KRW-IOTA', 'KRW-HIFI', 'KRW-ONG', 'KRW-GAS', 'KRW-UPP', 'KRW-ELF', 'KRW-KNC', 'KRW-BSV', 'KRW-THETA', 'KRW-QKC', 'KRW-BTT', 'KRW-MOC', 'KRW-TFUEL', 'KRW-MANA', 'KRW-ANKR', 'KRW-AERGO', 'KRW-ATOM', 'KRW-TT', 'KRW-CRE', 'KRW-MBL', 'KRW-WAXP', 'KRW-HBAR', 'KRW-MED', 'KRW-MLK', 'KRW-STPT', 'KRW-ORBS', 'KRW-VET', 'KRW-CHZ', 'KRW-STMX', 'KRW-DKA', 'KRW-HIVE', 'KRW-KAVA', 'KRW-AHT', 'KRW-LINK', 'KRW-XTZ', 'KRW-BORA', 'KRW-JST', 'KRW-CRO', 'KRW-TON', 'KRW-SXP', 'KRW-HUNT', 'KRW-PDA', 'KRW-DOT', 'KRW-MVL', 'KRW-STRAX', 'KRW-AQT', 'KRW-GLM', 'KRW-META', 'KRW-FCT2', 'KRW-CBK', 'KRW-SAND', 'KRW-HPO', 'KRW-DOGE', 'KRW-STRIKE', 'KRW-PUNDIX', 'KRW-FLOW', 'KRW-AXS', 'KRW-STX', 'KRW-XEC', 'KRW-SOL', 'KRW-MATIC', 'KRW-AAVE', 'KRW-1INCH', 'KRW-ALGO', 'KRW-NEAR', 'KRW-AVAX', 'KRW-T', 'KRW-CELO', 'KRW-GMT', 'KRW-APT', 'KRW-SHIB', 'KRW-MASK', 'KRW-ARB', 'KRW-EGLD', 'KRW-SUI', 'KRW-GRT', 'KRW-BLUR', 'KRW-IMX', 'KRW-SEI', 'KRW-MINA', 'KRW-CTC', 'KRW-ASTR', 'KRW-ID', 'KRW-PYTH']\n"
     ]
    }
   ],
   "source": [
    "print(pyupbit.get_tickers(fiat='KRW'))"
   ]
  },
  {
   "cell_type": "markdown",
   "metadata": {},
   "source": [
    "#### (3) 현재 시세 가져오기\n",
    "\n",
    "조회하고자 하는 단위의 이름을 리스트로 설정한다."
   ]
  },
  {
   "cell_type": "code",
   "execution_count": 20,
   "metadata": {},
   "outputs": [
    {
     "data": {
      "text/plain": [
       "{'KRW-BTC': 104665000.0, 'KRW-ETH': 5676000.0}"
      ]
     },
     "execution_count": 20,
     "metadata": {},
     "output_type": "execute_result"
    }
   ],
   "source": [
    "pyupbit.get_current_price([\"KRW-BTC\", \"KRW-ETH\"])"
   ]
  },
  {
   "cell_type": "markdown",
   "metadata": {},
   "source": [
    "#### (4) 특정 기간에 대한 시세 데이터 가져오기\n",
    "\n",
    "비트코인의 한국 화폐단위(`KRW-BTC`) 데이터를 오늘 날짜부터 500일간 일단위(`day`)로 조회\n",
    "\n",
    "조회간격 단위: `minute1`, `minute3`, `minute5`, `minute10`, `minute15`, `minute30`, `minute60`, `minute240`, `day`, `week`, `month`\n",
    "\n",
    "| 필드 | 설명 |\n",
    "|---|---|\n",
    "| open | 시가 |\n",
    "| high | 고가 |\n",
    "| low | 저가 |\n",
    "| close | 종가 |\n",
    "| volume | 거래량 |\n",
    "| value | 거래량을 지정된 화폐 단위로 환산한 가치 |"
   ]
  },
  {
   "cell_type": "code",
   "execution_count": 21,
   "metadata": {},
   "outputs": [
    {
     "name": "stdout",
     "output_type": "stream",
     "text": [
      "+---------------------+------------+------------+------------+------------+----------+-------------+\n",
      "|                     |       open |       high |        low |      close |   volume |       value |\n",
      "|---------------------+------------+------------+------------+------------+----------+-------------|\n",
      "| 2022-10-31 09:00:00 | 2.8957e+07 | 2.9217e+07 |  2.858e+07 | 2.8778e+07 |  3780.02 | 1.09126e+11 |\n",
      "| 2022-11-01 09:00:00 | 2.8778e+07 | 2.8928e+07 | 2.8634e+07 | 2.8749e+07 |  2933.72 | 8.44302e+10 |\n",
      "| 2022-11-02 09:00:00 | 2.8753e+07 | 2.9299e+07 |   2.85e+07 | 2.8632e+07 |  7547.86 | 2.17669e+11 |\n",
      "| 2022-11-03 09:00:00 | 2.8632e+07 |   2.89e+07 | 2.8443e+07 | 2.8693e+07 |  6757.69 | 1.94087e+11 |\n",
      "| 2022-11-04 09:00:00 | 2.8685e+07 | 2.9679e+07 | 2.8683e+07 | 2.9388e+07 |  7964.12 | 2.31718e+11 |\n",
      "| 2022-11-05 09:00:00 | 2.9388e+07 |  2.987e+07 | 2.9304e+07 | 2.9756e+07 |  5550.08 | 1.64967e+11 |\n",
      "| 2022-11-06 09:00:00 | 2.9756e+07 | 2.9869e+07 |   2.94e+07 | 2.9473e+07 |  3135.47 | 9.30554e+10 |\n",
      "| 2022-11-07 09:00:00 |  2.947e+07 | 2.9658e+07 |  2.879e+07 | 2.8945e+07 |  5212.34 | 1.52159e+11 |\n",
      "| 2022-11-08 09:00:00 | 2.8945e+07 |  2.902e+07 | 2.5842e+07 |  2.665e+07 |  21680.5 | 5.94772e+11 |\n",
      "| 2022-11-09 09:00:00 | 2.6652e+07 | 2.6832e+07 | 2.2564e+07 | 2.2919e+07 |  22296.9 | 5.52716e+11 |\n",
      "| 2022-11-10 09:00:00 | 2.2924e+07 |  2.512e+07 |  2.284e+07 | 2.4779e+07 |  20710.3 | 4.98017e+11 |\n",
      "| 2022-11-11 09:00:00 | 2.4779e+07 | 2.4928e+07 |    2.3e+07 | 2.3656e+07 |  12736.1 | 3.03749e+11 |\n",
      "| 2022-11-12 09:00:00 | 2.3657e+07 | 2.3755e+07 | 2.3061e+07 |  2.338e+07 |  4753.99 | 1.11007e+11 |\n",
      "| 2022-11-13 09:00:00 |  2.338e+07 | 2.3515e+07 |   2.25e+07 |  2.251e+07 |  7169.95 | 1.64599e+11 |\n",
      "| 2022-11-14 09:00:00 | 2.2511e+07 | 2.3438e+07 | 2.1509e+07 | 2.2701e+07 |    13460 | 3.01879e+11 |\n",
      "| 2022-11-15 09:00:00 | 2.2706e+07 |  2.322e+07 |  2.253e+07 | 2.3003e+07 |  6064.33 | 1.39067e+11 |\n",
      "| 2022-11-16 09:00:00 | 2.3003e+07 | 2.3162e+07 |  2.255e+07 | 2.2954e+07 |  4821.32 | 1.10304e+11 |\n",
      "| 2022-11-17 09:00:00 | 2.2954e+07 | 2.3039e+07 | 2.2613e+07 | 2.2982e+07 |  3192.69 | 7.29047e+10 |\n",
      "| 2022-11-18 09:00:00 | 2.2982e+07 |  2.333e+07 |   2.29e+07 | 2.3061e+07 |  3545.62 | 8.18432e+10 |\n",
      "| 2022-11-19 09:00:00 | 2.3062e+07 | 2.3197e+07 | 2.2928e+07 | 2.3081e+07 |  2254.61 | 5.19382e+10 |\n",
      "+---------------------+------------+------------+------------+------------+----------+-------------+\n"
     ]
    }
   ],
   "source": [
    "ticker = 'KRW-BTC'\n",
    "to = dt.datetime.now().strftime('%Y-%m-%d')\n",
    "count = 500\n",
    "interval = 'day'\n",
    "origin = pyupbit.get_ohlcv(ticker=ticker,interval=interval,to=to,count=count)\n",
    "my_pretty_table(origin.head(20))"
   ]
  },
  {
   "cell_type": "markdown",
   "metadata": {},
   "source": [
    "## #02. 데이터 전처리\n",
    "\n",
    "### [1] 시세가격에 대한 파생변수 추가\n",
    "\n",
    "최고가와 최저가의 평균을 그날의 시세가격으로 삼기로 결정하고 데이터 전처리를 수행"
   ]
  },
  {
   "cell_type": "code",
   "execution_count": 22,
   "metadata": {},
   "outputs": [
    {
     "name": "stdout",
     "output_type": "stream",
     "text": [
      "+---------------------+------------+------------+------------+------------+----------+-------------+-------------+\n",
      "|                     |       open |       high |        low |      close |   volume |       value |       price |\n",
      "|---------------------+------------+------------+------------+------------+----------+-------------+-------------|\n",
      "| 2022-10-31 09:00:00 | 2.8957e+07 | 2.9217e+07 |  2.858e+07 | 2.8778e+07 |  3780.02 | 1.09126e+11 | 2.88985e+07 |\n",
      "| 2022-11-01 09:00:00 | 2.8778e+07 | 2.8928e+07 | 2.8634e+07 | 2.8749e+07 |  2933.72 | 8.44302e+10 |  2.8781e+07 |\n",
      "| 2022-11-02 09:00:00 | 2.8753e+07 | 2.9299e+07 |   2.85e+07 | 2.8632e+07 |  7547.86 | 2.17669e+11 | 2.88995e+07 |\n",
      "| 2022-11-03 09:00:00 | 2.8632e+07 |   2.89e+07 | 2.8443e+07 | 2.8693e+07 |  6757.69 | 1.94087e+11 | 2.86715e+07 |\n",
      "| 2022-11-04 09:00:00 | 2.8685e+07 | 2.9679e+07 | 2.8683e+07 | 2.9388e+07 |  7964.12 | 2.31718e+11 |  2.9181e+07 |\n",
      "+---------------------+------------+------------+------------+------------+----------+-------------+-------------+\n"
     ]
    }
   ],
   "source": [
    "origin['price'] = (origin['high'] + origin['low']) / 2\n",
    "my_pretty_table(origin.head())"
   ]
  },
  {
   "cell_type": "markdown",
   "metadata": {},
   "source": [
    "### [2] Prophet에 적용할 데이터로 구성"
   ]
  },
  {
   "cell_type": "code",
   "execution_count": 23,
   "metadata": {},
   "outputs": [
    {
     "data": {
      "text/html": [
       "<div>\n",
       "<style scoped>\n",
       "    .dataframe tbody tr th:only-of-type {\n",
       "        vertical-align: middle;\n",
       "    }\n",
       "\n",
       "    .dataframe tbody tr th {\n",
       "        vertical-align: top;\n",
       "    }\n",
       "\n",
       "    .dataframe thead th {\n",
       "        text-align: right;\n",
       "    }\n",
       "</style>\n",
       "<table border=\"1\" class=\"dataframe\">\n",
       "  <thead>\n",
       "    <tr style=\"text-align: right;\">\n",
       "      <th></th>\n",
       "      <th>ds</th>\n",
       "      <th>y</th>\n",
       "    </tr>\n",
       "  </thead>\n",
       "  <tbody>\n",
       "    <tr>\n",
       "      <th>0</th>\n",
       "      <td>2022-10-31 09:00:00</td>\n",
       "      <td>28898500.0</td>\n",
       "    </tr>\n",
       "    <tr>\n",
       "      <th>1</th>\n",
       "      <td>2022-11-01 09:00:00</td>\n",
       "      <td>28781000.0</td>\n",
       "    </tr>\n",
       "    <tr>\n",
       "      <th>2</th>\n",
       "      <td>2022-11-02 09:00:00</td>\n",
       "      <td>28899500.0</td>\n",
       "    </tr>\n",
       "    <tr>\n",
       "      <th>3</th>\n",
       "      <td>2022-11-03 09:00:00</td>\n",
       "      <td>28671500.0</td>\n",
       "    </tr>\n",
       "    <tr>\n",
       "      <th>4</th>\n",
       "      <td>2022-11-04 09:00:00</td>\n",
       "      <td>29181000.0</td>\n",
       "    </tr>\n",
       "    <tr>\n",
       "      <th>...</th>\n",
       "      <td>...</td>\n",
       "      <td>...</td>\n",
       "    </tr>\n",
       "    <tr>\n",
       "      <th>495</th>\n",
       "      <td>2024-03-09 09:00:00</td>\n",
       "      <td>95770000.0</td>\n",
       "    </tr>\n",
       "    <tr>\n",
       "      <th>496</th>\n",
       "      <td>2024-03-10 09:00:00</td>\n",
       "      <td>97174500.0</td>\n",
       "    </tr>\n",
       "    <tr>\n",
       "      <th>497</th>\n",
       "      <td>2024-03-11 09:00:00</td>\n",
       "      <td>98536000.0</td>\n",
       "    </tr>\n",
       "    <tr>\n",
       "      <th>498</th>\n",
       "      <td>2024-03-12 09:00:00</td>\n",
       "      <td>100675000.0</td>\n",
       "    </tr>\n",
       "    <tr>\n",
       "      <th>499</th>\n",
       "      <td>2024-03-13 09:00:00</td>\n",
       "      <td>102887000.0</td>\n",
       "    </tr>\n",
       "  </tbody>\n",
       "</table>\n",
       "<p>500 rows × 2 columns</p>\n",
       "</div>"
      ],
      "text/plain": [
       "                     ds            y\n",
       "0   2022-10-31 09:00:00   28898500.0\n",
       "1   2022-11-01 09:00:00   28781000.0\n",
       "2   2022-11-02 09:00:00   28899500.0\n",
       "3   2022-11-03 09:00:00   28671500.0\n",
       "4   2022-11-04 09:00:00   29181000.0\n",
       "..                  ...          ...\n",
       "495 2024-03-09 09:00:00   95770000.0\n",
       "496 2024-03-10 09:00:00   97174500.0\n",
       "497 2024-03-11 09:00:00   98536000.0\n",
       "498 2024-03-12 09:00:00  100675000.0\n",
       "499 2024-03-13 09:00:00  102887000.0\n",
       "\n",
       "[500 rows x 2 columns]"
      ]
     },
     "execution_count": 23,
     "metadata": {},
     "output_type": "execute_result"
    }
   ],
   "source": [
    "df = origin[['price']].reset_index().rename(columns={'index': 'ds', 'price':'y'})\n",
    "df"
   ]
  },
  {
   "cell_type": "markdown",
   "metadata": {},
   "source": [
    "### [3] 주말을 표현하는 데이터프레임"
   ]
  },
  {
   "cell_type": "code",
   "execution_count": 24,
   "metadata": {},
   "outputs": [],
   "source": [
    "get_weekend_df(df['ds'].min(), df['ds'].max())"
   ]
  },
  {
   "cell_type": "markdown",
   "metadata": {},
   "source": [
    "## #03. 시계열 분석"
   ]
  },
  {
   "cell_type": "code",
   "execution_count": 25,
   "metadata": {},
   "outputs": [],
   "source": [
    "params = {\n",
    "    'changepoint_prior_scale': [0.1, 0.5, 1.0],\n",
    "    'seasonality_prior_scale': [0.1, 0.5, 1.0],\n",
    "    'seasonality_mode': ['additive', 'multiplicative'],\n",
    "    'weekly_seasonality': [True, False],\n",
    "    'daily_seasonality':  [True, False],\n",
    "    'yearly_seasonality': [True, False],\n",
    "    'holidays': [get_weekend_df(df['ds'].min(), df['ds'].max())]\n",
    "}"
   ]
  },
  {
   "cell_type": "code",
   "execution_count": 26,
   "metadata": {},
   "outputs": [],
   "source": [
    "train, test = my_timeseries_split(df)\n",
    "\n",
    "model, param, score, forecast, pred = my_prophet(train, test, freq=\"D\", figsize=(15, 7), dpi=200, **params)"
   ]
  }
 ],
 "metadata": {
  "kernelspec": {
   "display_name": "Python 3",
   "language": "python",
   "name": "python3"
  },
  "language_info": {
   "codemirror_mode": {
    "name": "ipython",
    "version": 3
   },
   "file_extension": ".py",
   "mimetype": "text/x-python",
   "name": "python",
   "nbconvert_exporter": "python",
   "pygments_lexer": "ipython3",
   "version": "3.11.7"
  },
  "orig_nbformat": 4
 },
 "nbformat": 4,
 "nbformat_minor": 2
}
