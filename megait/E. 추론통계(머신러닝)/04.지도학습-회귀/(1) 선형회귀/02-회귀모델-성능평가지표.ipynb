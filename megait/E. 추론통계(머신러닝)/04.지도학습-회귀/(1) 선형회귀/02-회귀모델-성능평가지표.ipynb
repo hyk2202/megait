{
 "cells": [
  {
   "cell_type": "markdown",
   "metadata": {},
   "source": [
    "# 회귀모델 성능 평가 지표\n",
    "\n",
    "자동차 속도에 따른 제동거리를 예측하는 회귀 모델을 만들고 성능을 측정해 보자\n",
    "\n",
    "## #01. 준비작업\n",
    "\n",
    "### [1] 패키지 참조"
   ]
  },
  {
   "cell_type": "code",
   "execution_count": 2,
   "metadata": {},
   "outputs": [],
   "source": [
    "import warnings\n",
    "warnings.filterwarnings(action='ignore')\n",
    "\n",
    "import sys\n",
    "import numpy as np\n",
    "import seaborn as sb\n",
    "from pandas import read_excel, DataFrame\n",
    "from matplotlib import pyplot as plt\n",
    "\n",
    "from sklearn.linear_model import LinearRegression       # 선형회귀분석 모듈\n",
    "from sklearn.model_selection import train_test_split    # 훈련/검증 데이터 분리 모듈\n",
    "\n",
    "\n",
    "# 성능 평가 지표 모듈\n",
    "from sklearn.metrics import r2_score, mean_absolute_error, mean_squared_error"
   ]
  },
  {
   "cell_type": "markdown",
   "metadata": {},
   "source": [
    "### [2] 그래프 초기화"
   ]
  },
  {
   "cell_type": "code",
   "execution_count": 3,
   "metadata": {},
   "outputs": [],
   "source": [
    "plt.rcParams[\"font.family\"] = 'AppleGothic' if sys.platform == 'darwin' else 'Malgun Gothic'\n",
    "plt.rcParams[\"font.size\"] = 9\n",
    "plt.rcParams[\"figure.figsize\"] = (15, 6)\n",
    "plt.rcParams[\"axes.unicode_minus\"] = False\n",
    "\n",
    "# ML에서는 그래프가 큰 의미가 없다\n"
   ]
  },
  {
   "cell_type": "markdown",
   "metadata": {},
   "source": [
    "### [3] 데이터 가져오기"
   ]
  },
  {
   "cell_type": "code",
   "execution_count": 4,
   "metadata": {},
   "outputs": [
    {
     "name": "stdout",
     "output_type": "stream",
     "text": [
      "<class 'pandas.core.frame.DataFrame'>\n",
      "RangeIndex: 50 entries, 0 to 49\n",
      "Data columns (total 2 columns):\n",
      " #   Column  Non-Null Count  Dtype\n",
      "---  ------  --------------  -----\n",
      " 0   speed   50 non-null     int64\n",
      " 1   dist    50 non-null     int64\n",
      "dtypes: int64(2)\n",
      "memory usage: 932.0 bytes\n",
      "None\n"
     ]
    },
    {
     "data": {
      "text/html": [
       "<div>\n",
       "<style scoped>\n",
       "    .dataframe tbody tr th:only-of-type {\n",
       "        vertical-align: middle;\n",
       "    }\n",
       "\n",
       "    .dataframe tbody tr th {\n",
       "        vertical-align: top;\n",
       "    }\n",
       "\n",
       "    .dataframe thead th {\n",
       "        text-align: right;\n",
       "    }\n",
       "</style>\n",
       "<table border=\"1\" class=\"dataframe\">\n",
       "  <thead>\n",
       "    <tr style=\"text-align: right;\">\n",
       "      <th></th>\n",
       "      <th>speed</th>\n",
       "      <th>dist</th>\n",
       "    </tr>\n",
       "  </thead>\n",
       "  <tbody>\n",
       "    <tr>\n",
       "      <th>0</th>\n",
       "      <td>4</td>\n",
       "      <td>2</td>\n",
       "    </tr>\n",
       "    <tr>\n",
       "      <th>1</th>\n",
       "      <td>4</td>\n",
       "      <td>10</td>\n",
       "    </tr>\n",
       "    <tr>\n",
       "      <th>2</th>\n",
       "      <td>7</td>\n",
       "      <td>4</td>\n",
       "    </tr>\n",
       "    <tr>\n",
       "      <th>3</th>\n",
       "      <td>7</td>\n",
       "      <td>22</td>\n",
       "    </tr>\n",
       "    <tr>\n",
       "      <th>4</th>\n",
       "      <td>8</td>\n",
       "      <td>16</td>\n",
       "    </tr>\n",
       "  </tbody>\n",
       "</table>\n",
       "</div>"
      ],
      "text/plain": [
       "   speed  dist\n",
       "0      4     2\n",
       "1      4    10\n",
       "2      7     4\n",
       "3      7    22\n",
       "4      8    16"
      ]
     },
     "execution_count": 4,
     "metadata": {},
     "output_type": "execute_result"
    }
   ],
   "source": [
    "origin = read_excel(\"https://data.hossam.kr/mldata/cars.xlsx\")\n",
    "print(origin.info())\n",
    "origin.head()"
   ]
  },
  {
   "cell_type": "markdown",
   "metadata": {},
   "source": [
    "## #02. 데이터 전처리\n",
    "\n",
    "### [1] 데이터 분포 확인"
   ]
  },
  {
   "cell_type": "code",
   "execution_count": 5,
   "metadata": {},
   "outputs": [
    {
     "data": {
      "image/png": "[encoded data removed]",
      "text/plain": [
       "<Figure size 1500x600 with 1 Axes>"
      ]
     },
     "metadata": {},
     "output_type": "display_data"
    }
   ],
   "source": [
    "plt.figure()\n",
    "sb.scatterplot(data=origin, x= 'speed', y = 'dist')\n",
    "plt.grid()\n",
    "plt.show()\n",
    "plt.close()"
   ]
  },
  {
   "cell_type": "markdown",
   "metadata": {},
   "source": [
    "### [2] 훈련데이터, 검증데이터 분할"
   ]
  },
  {
   "cell_type": "code",
   "execution_count": 6,
   "metadata": {},
   "outputs": [
    {
     "data": {
      "text/plain": [
       "((35, 1), (15, 1), (35,), (15,))"
      ]
     },
     "execution_count": 6,
     "metadata": {},
     "output_type": "execute_result"
    }
   ],
   "source": [
    "x = origin[['speed']]   # 독립변수는 데이터 프레임 형태로 분리\n",
    "y = origin['dist']      # 종속변수는 시리즈 형태로 분리\n",
    "\n",
    "x_train, x_test, y_train, y_test = train_test_split(x, y, test_size=0.3, random_state=1000)\n",
    "x_train.shape, x_test.shape, y_train.shape, y_test.shape"
   ]
  },
  {
   "cell_type": "markdown",
   "metadata": {},
   "source": [
    "## #03. 데이터 분석\n",
    "\n",
    "### [1] 단순선형회귀 모델"
   ]
  },
  {
   "cell_type": "code",
   "execution_count": 7,
   "metadata": {},
   "outputs": [
    {
     "name": "stdout",
     "output_type": "stream",
     "text": [
      "계수(기울기):  [4.07325839]\n",
      "절편:  -19.287781054183576\n",
      "훈련 데이터 설명력:  0.6294978722493831\n",
      "검증 데이터 설명력:  0.7039855928931559\n"
     ]
    },
    {
     "data": {
      "text/plain": [
       "'y = 4.07 * X + -19.29'"
      ]
     },
     "execution_count": 7,
     "metadata": {},
     "output_type": "execute_result"
    }
   ],
   "source": [
    "model = LinearRegression()\n",
    "fit = model.fit(x_train, y_train)\n",
    "\n",
    "print(\"계수(기울기): \", fit.coef_)\n",
    "print(\"절편: \", fit.intercept_)\n",
    "print(\"훈련 데이터 설명력: \", fit.score(x_train, y_train))\n",
    "print(\"검증 데이터 설명력: \", fit.score(x_test, y_test))\n",
    "\n",
    "\"y = {0:0.2f} * X + {1:0.2f}\".format(fit.coef_[0], fit.intercept_)\n",
    "# 검증데이터의 설명력이 훈련데이터의 설명력보다 높다면 과적합"
   ]
  },
  {
   "cell_type": "markdown",
   "metadata": {},
   "source": [
    "### [2] 분석 결과 확인\n",
    "\n",
    "#### (1) 훈련, 검증 데이터에 대한 추정치 얻기"
   ]
  },
  {
   "cell_type": "code",
   "execution_count": 8,
   "metadata": {},
   "outputs": [
    {
     "data": {
      "text/plain": [
       "((35,), (15,))"
      ]
     },
     "execution_count": 8,
     "metadata": {},
     "output_type": "execute_result"
    }
   ],
   "source": [
    "y1 = fit.predict(x_train)\n",
    "y2 = fit.predict(x_test)\n",
    "y1.shape, y2.shape"
   ]
  },
  {
   "cell_type": "markdown",
   "metadata": {},
   "source": [
    "#### (2) 분석 결과 시각화"
   ]
  },
  {
   "cell_type": "code",
   "execution_count": 9,
   "metadata": {},
   "outputs": [
    {
     "data": {
      "image/png": "[encoded data removed]",
      "text/plain": [
       "<Figure size 1500x500 with 2 Axes>"
      ]
     },
     "metadata": {},
     "output_type": "display_data"
    }
   ],
   "source": [
    "fig, (ax1, ax2) = plt.subplots(1, 2, figsize=(15, 5))\n",
    "\n",
    "sb.regplot(x=x_train['speed'], y=y_train, ci=95, ax=ax1, label='관측치')\n",
    "sb.regplot(x=x_train['speed'], y=y1, ci=0, ax=ax1, label='추정치')\n",
    "\n",
    "sb.regplot(x=x_test['speed'], y=y_test, ci=95, ax=ax2, label='관측치')\n",
    "sb.regplot(x=x_test['speed'], y=y2, ci=0, ax=ax2, label='추정치')\n",
    "\n",
    "ax1.set_title(\"훈련 데이터\")\n",
    "ax1.legend()\n",
    "ax1.grid()\n",
    "\n",
    "ax2.set_title(\"검증 데이터\")\n",
    "ax2.legend()\n",
    "ax2.grid()\n",
    "\n",
    "plt.show()\n",
    "plt.close()"
   ]
  },
  {
   "cell_type": "markdown",
   "metadata": {},
   "source": [
    "## #03. 회귀분석 모델의 성능 평가\n",
    "\n",
    "회귀분석 모델의 평가를 위한 지표는 검증데이터의 관측치과 그에 대한 추정치의 차이를 기반으로 한다.\n",
    "\n",
    "| 구분 | 설명 |\n",
    "|---|---|\n",
    "| 설명력($R^2$) | 높을 수록 좋음 (1에 가까울 수록 좋음) |\n",
    "| 에러율 | 낮을 수록 좋음 (0에 가까울 수록 좋음) |\n",
    "\n",
    "### [1] 설명력 ($R^2$, 결정계수)\n",
    "\n",
    "회귀분석에서 가장 많이 채택되는 설명력 값\n",
    "\n",
    "#### (1) `fit.score()` 메서드 사용\n",
    "\n",
    "기본적으로 모델의 학습 결과를 갖고 있는 `fit`객체의 `score()`메서드에 독립변수와 종속변수를 전달하여 확인할 수 있다."
   ]
  },
  {
   "cell_type": "code",
   "execution_count": 10,
   "metadata": {},
   "outputs": [
    {
     "name": "stdout",
     "output_type": "stream",
     "text": [
      "설명력(R2):  0.7039855928931559\n"
     ]
    }
   ],
   "source": [
    "print(\"설명력(R2): \", fit.score(x_test, y_test))"
   ]
  },
  {
   "cell_type": "markdown",
   "metadata": {},
   "source": [
    "#### (2) `r2_score()` 메서드 사용\n",
    "\n",
    "sklearn이 제공하는 `metrics`객체의 `r2_score()` 메서드에 검증 데이터의 관측치와 추정치를 전달하여 조회할 수 있다."
   ]
  },
  {
   "cell_type": "code",
   "execution_count": 11,
   "metadata": {},
   "outputs": [
    {
     "name": "stdout",
     "output_type": "stream",
     "text": [
      "설명력(R2):  0.7039855928931559\n"
     ]
    }
   ],
   "source": [
    "print(\"설명력(R2): \", r2_score(y_test, y2)) # 파라미터로 실제 데이터값과 예측한 데이터 값을 넣어준다."
   ]
  },
  {
   "cell_type": "markdown",
   "metadata": {},
   "source": [
    "### [2] 에러율\n",
    "\n",
    "| 종류   | 이름                             | 한글명            | 잔차계산 | 이상치에 영향 여부 |\n",
    "|------|--------------------------------|----------------|------|------------|\n",
    "| MAE  | Mean Absolute Error            | 평균절대오차         | 절대값  | Yes        |\n",
    "| MSE  | Mean Squared Error             | 평균제곱오차         | 제곱값  | Yes         |\n",
    "| RMSE | Root Mean Squared Error        | 평균오차           | 제곱값  | No         |\n",
    "| MAPE | Mean Absolute Percentage Error | 평균 절대 백분 오차 비율 | 절대값  | Yes        |\n",
    "| MPE  | Mean Percentage Error          | 평균 비율 오차       | N/A  | Yes        |\n",
    "\n",
    "#### (1) MAE (Mean Absolute Error) : 평균절대오차\n",
    "\n",
    "$$MAE = \\frac{\\sum{|y-\\hat{y}|}}{n}$$\n",
    "\n",
    "모델의 추정치와 관측치의 차이에 대한 절대값의 평균이다.\n",
    "\n",
    "절대값을 취하기 때문에 직관적으로 알 수 있는 지표다.\n",
    "\n",
    "이상치에 영향을 받지 않는다.\n",
    "\n",
    "MAE는 절대값을 취하는 지표이기에 실제보다 낮은 값(underperformance)인지 큰 (overperformance)값인지 알 수 없다.\n",
    "\n",
    "![mae](res/mae.jpg)"
   ]
  },
  {
   "cell_type": "code",
   "execution_count": 12,
   "metadata": {},
   "outputs": [
    {
     "name": "stdout",
     "output_type": "stream",
     "text": [
      "평균절대오차(MAE):  9.567870745791867\n"
     ]
    }
   ],
   "source": [
    "print(\"평균절대오차(MAE): \", mean_absolute_error(y_test, y2))"
   ]
  },
  {
   "cell_type": "markdown",
   "metadata": {},
   "source": [
    "#### (2) MSE (Mean Squared Error) - 평균 제곱 오차\n",
    "\n",
    "$$\n",
    "MSE = \\frac{\\sum{(y-\\hat{y})^2}}{n}\n",
    "$$\n",
    "\n",
    "MAE와는 다르게 제곱을 하기 때문에 모델의 실제값과 예측값의 차이의 면적의 합이다.\n",
    "\n",
    "제곱을 하기 때문에 값이 많이 커지므로 해석이 다소 어렵다.\n",
    "\n",
    "이상치가 존재하면 수치가 많이 늘어난다.( = 이상치에 민감함)\n",
    "\n",
    "![img](res/mse.jpg)"
   ]
  },
  {
   "cell_type": "code",
   "execution_count": 13,
   "metadata": {},
   "outputs": [
    {
     "name": "stdout",
     "output_type": "stream",
     "text": [
      "평균제곱오차(MSE):  153.86697319455044\n"
     ]
    }
   ],
   "source": [
    "print(\"평균제곱오차(MSE): \", mean_squared_error(y_test, y2))\n"
   ]
  },
  {
   "cell_type": "markdown",
   "metadata": {},
   "source": [
    "#### (3) RMSE (Root Mean Squared Error) : 평균 오차\n",
    "\n",
    "$$\n",
    "RMSE = \\sqrt{\\frac{\\sum{(y-\\hat{y})^2}}{n}}\n",
    "$$\n",
    "\n",
    "MSE를 구한 값에 루트를 씌운다.\n",
    "\n",
    "오류 지표를 실제 값과 유사한 단위로 변환하여 해석을 쉽게 한다."
   ]
  },
  {
   "cell_type": "code",
   "execution_count": 14,
   "metadata": {},
   "outputs": [
    {
     "name": "stdout",
     "output_type": "stream",
     "text": [
      "평균오차(RMSE):  12.404312685294194\n"
     ]
    }
   ],
   "source": [
    "print(\"평균오차(RMSE): \", np.sqrt(mean_squared_error(y_test, y2)))"
   ]
  },
  {
   "cell_type": "markdown",
   "metadata": {},
   "source": [
    "#### (4) MAPE (Mean Absolute Percentage Error) : 평균 절대 백분오차 비율\n",
    "\n",
    "$$\n",
    "MAPE = \\frac{\\sum{|\\frac{y-\\hat{y}}{y}|}}{n} \\times 100\\%\n",
    "$$\n",
    "\n",
    "MAE를 퍼센트로 변환한 것이다.\n",
    "\n",
    "MAE와 동일하게 MSE보다 이상치에 민감하며 실제값보다 낮은 값인지 높은 값인지 알 수 없다.\n",
    "\n",
    "모델에 대한 편향이 있다.(이를 대응하기 위해 MPE도 추가로 확인하는 것을 추천)\n",
    "\n",
    "![img](res/mape.jpg)"
   ]
  },
  {
   "cell_type": "code",
   "execution_count": 15,
   "metadata": {},
   "outputs": [
    {
     "name": "stdout",
     "output_type": "stream",
     "text": [
      "평균 절대 백분오차 비율(MAPE):  33.55490571450706\n"
     ]
    }
   ],
   "source": [
    "print(\"평균 절대 백분오차 비율(MAPE): \", np.mean(np.abs((y_test - y2) / y_test) * 100))"
   ]
  },
  {
   "cell_type": "markdown",
   "metadata": {},
   "source": [
    "#### $MPE$ (Mean Percentage Error) : 평균 비율 오차\n",
    "\n",
    "$$\n",
    "MPE = \\frac{\\sum{(y-\\hat{y})}}{n} \\times 100\\%\n",
    "$$\n",
    "\n",
    "MAPE와 비슷하지만 MAPE에서 절대값을 제외한 지표다.\n",
    "\n",
    "장점은 모델이 실제값보다 낮은 값인지 큰 값인지 판단 할 수 있다.\n",
    "\n",
    "![img](res/mpe.jpg)"
   ]
  },
  {
   "cell_type": "code",
   "execution_count": 16,
   "metadata": {},
   "outputs": [
    {
     "name": "stdout",
     "output_type": "stream",
     "text": [
      "평균 비율 오차(MPE):  -15.103794157199976\n"
     ]
    }
   ],
   "source": [
    "print(\"평균 비율 오차(MPE): \", np.mean((y_test - y2) / y_test * 100))"
   ]
  },
  {
   "cell_type": "markdown",
   "metadata": {},
   "source": [
    "## #04. 성능평가지표 일괄 확인"
   ]
  },
  {
   "cell_type": "code",
   "execution_count": 17,
   "metadata": {},
   "outputs": [
    {
     "data": {
      "text/html": [
       "<div>\n",
       "<style scoped>\n",
       "    .dataframe tbody tr th:only-of-type {\n",
       "        vertical-align: middle;\n",
       "    }\n",
       "\n",
       "    .dataframe tbody tr th {\n",
       "        vertical-align: top;\n",
       "    }\n",
       "\n",
       "    .dataframe thead th {\n",
       "        text-align: right;\n",
       "    }\n",
       "</style>\n",
       "<table border=\"1\" class=\"dataframe\">\n",
       "  <thead>\n",
       "    <tr style=\"text-align: right;\">\n",
       "      <th></th>\n",
       "      <th>결정계수(R2)</th>\n",
       "      <th>평균절대오차(MAE)</th>\n",
       "      <th>평균제곱오차(MSE)</th>\n",
       "      <th>평균오차(RMSE)</th>\n",
       "      <th>평균 절대 백분오차 비율(MAPE)</th>\n",
       "      <th>평균 비율 오차(MPE)</th>\n",
       "    </tr>\n",
       "  </thead>\n",
       "  <tbody>\n",
       "    <tr>\n",
       "      <th>선형회귀분석</th>\n",
       "      <td>0.703986</td>\n",
       "      <td>9.567871</td>\n",
       "      <td>153.866973</td>\n",
       "      <td>12.404313</td>\n",
       "      <td>33.554906</td>\n",
       "      <td>-15.103794</td>\n",
       "    </tr>\n",
       "  </tbody>\n",
       "</table>\n",
       "</div>"
      ],
      "text/plain": [
       "        결정계수(R2)  평균절대오차(MAE)  평균제곱오차(MSE)  평균오차(RMSE)  평균 절대 백분오차 비율(MAPE)  \\\n",
       "선형회귀분석  0.703986     9.567871   153.866973   12.404313            33.554906   \n",
       "\n",
       "        평균 비율 오차(MPE)  \n",
       "선형회귀분석     -15.103794  "
      ]
     },
     "execution_count": 17,
     "metadata": {},
     "output_type": "execute_result"
    }
   ],
   "source": [
    "observe = y_test    # 관측치\n",
    "predict = y2        # 예측치\n",
    "\n",
    "result = {\n",
    "    \"결정계수(R2)\": r2_score(observe, predict),\n",
    "    \"평균절대오차(MAE)\": mean_absolute_error(observe, predict),\n",
    "    \"평균제곱오차(MSE)\": mean_squared_error(observe, predict),\n",
    "    \"평균오차(RMSE)\": np.sqrt(mean_squared_error(observe, predict)),\n",
    "    \"평균 절대 백분오차 비율(MAPE)\": np.mean(np.abs((observe - predict) / observe) * 100),\n",
    "    \"평균 비율 오차(MPE)\": np.mean((observe - predict) / observe * 100)\n",
    "}\n",
    "\n",
    "result_df = DataFrame(result, index=[\"선형회귀분석\"])\n",
    "result_df"
   ]
  }
 ],
 "metadata": {
  "kernelspec": {
   "display_name": "Python 3",
   "language": "python",
   "name": "python3"
  },
  "language_info": {
   "codemirror_mode": {
    "name": "ipython",
    "version": 3
   },
   "file_extension": ".py",
   "mimetype": "text/x-python",
   "name": "python",
   "nbconvert_exporter": "python",
   "pygments_lexer": "ipython3",
   "version": "3.11.7"
  }
 },
 "nbformat": 4,
 "nbformat_minor": 2
}
