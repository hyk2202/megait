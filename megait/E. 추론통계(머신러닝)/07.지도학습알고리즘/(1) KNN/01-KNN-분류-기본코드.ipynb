{
 "cells": [
  {
   "cell_type": "markdown",
   "metadata": {},
   "source": [
    "# KNN 기본 코드\n",
    "\n",
    "## #01. 준비작업\n",
    "\n",
    "### [1] 패키지 가져오기"
   ]
  },
  {
   "cell_type": "code",
   "execution_count": 1,
   "metadata": {},
   "outputs": [],
   "source": [
    "import warnings\n",
    "warnings.filterwarnings(action='ignore')\n",
    "\n",
    "from helper.util import *\n",
    "from helper.plot import *\n",
    "from helper.analysis import *\n",
    "from helper.classification import *\n",
    "\n",
    "from sklearn.neighbors import KNeighborsClassifier"
   ]
  },
  {
   "cell_type": "markdown",
   "metadata": {},
   "source": [
    "### [2] 데이터 가져오기"
   ]
  },
  {
   "cell_type": "code",
   "execution_count": 2,
   "metadata": {},
   "outputs": [
    {
     "name": "stdout",
     "output_type": "stream",
     "text": [
      "<class 'pandas.core.frame.DataFrame'>\n",
      "RangeIndex: 200 entries, 0 to 199\n",
      "Data columns (total 3 columns):\n",
      " #   Column  Non-Null Count  Dtype   \n",
      "---  ------  --------------  -----   \n",
      " 0   dog     200 non-null    category\n",
      " 1   length  200 non-null    float64 \n",
      " 2   height  200 non-null    float64 \n",
      "dtypes: category(1), float64(2)\n",
      "memory usage: 3.6 KB\n",
      "None\n",
      "\n",
      "데이터프레임 상위 5개 행\n",
      "+----+-------+----------+----------+\n",
      "|    | dog   |   length |   height |\n",
      "|----+-------+----------+----------|\n",
      "|  0 | d     |    55.01 |    29.27 |\n",
      "|  1 | d     |    59.01 |    29.39 |\n",
      "|  2 | d     |    56.53 |     28.5 |\n",
      "|  3 | d     |    53.66 |     28.5 |\n",
      "|  4 | d     |    49.67 |    31.97 |\n",
      "+----+-------+----------+----------+\n",
      "\n",
      "데이터프레임 하위 5개 행\n",
      "+-----+-------+----------+----------+\n",
      "|     | dog   |   length |   height |\n",
      "|-----+-------+----------+----------|\n",
      "| 195 | j     |    50.95 |    52.37 |\n",
      "| 196 | j     |    51.86 |     52.4 |\n",
      "| 197 | j     |    54.24 |    47.82 |\n",
      "| 198 | j     |    53.13 |    50.22 |\n",
      "| 199 | j     |       53 |    51.18 |\n",
      "+-----+-------+----------+----------+\n",
      "\n",
      "기술통계\n",
      "+--------+---------+---------+---------+-------+---------+--------+--------+-------+-------+\n",
      "|        |   count |    mean |     std |   min |     25% |    50% |    75% |   max |   nan |\n",
      "|--------+---------+---------+---------+-------+---------+--------+--------+-------+-------|\n",
      "| length |     200 | 53.7948 | 5.50607 | 39.94 | 50.2225 | 53.445 |   56.9 | 68.31 |     0 |\n",
      "| height |     200 | 41.6754 | 10.0361 | 22.76 |  31.965 | 43.785 | 51.185 | 55.87 |     0 |\n",
      "+--------+---------+---------+---------+-------+---------+--------+--------+-------+-------+\n",
      "\n",
      "카테고리 정보\n",
      "+----+---------+\n",
      "|    |   count |\n",
      "|----+---------|\n",
      "| d  |     100 |\n",
      "| j  |     100 |\n",
      "+----+---------+\n"
     ]
    }
   ],
   "source": [
    "origin = my_read_excel(\"https://data.hossam.kr/mldata/dogs.xlsx\", categories=['dog'],save=True"
   ]
  },
  {
   "cell_type": "markdown",
   "metadata": {},
   "source": [
    "## #02. 데이터 전처리\n",
    "\n",
    "### [1] 종속변수 라벨링 및 형변환"
   ]
  },
  {
   "cell_type": "code",
   "execution_count": 3,
   "metadata": {},
   "outputs": [
    {
     "data": {
      "text/html": [
       "<div>\n",
       "<style scoped>\n",
       "    .dataframe tbody tr th:only-of-type {\n",
       "        vertical-align: middle;\n",
       "    }\n",
       "\n",
       "    .dataframe tbody tr th {\n",
       "        vertical-align: top;\n",
       "    }\n",
       "\n",
       "    .dataframe thead th {\n",
       "        text-align: right;\n",
       "    }\n",
       "</style>\n",
       "<table border=\"1\" class=\"dataframe\">\n",
       "  <thead>\n",
       "    <tr style=\"text-align: right;\">\n",
       "      <th></th>\n",
       "      <th>dog</th>\n",
       "      <th>length</th>\n",
       "      <th>height</th>\n",
       "    </tr>\n",
       "  </thead>\n",
       "  <tbody>\n",
       "    <tr>\n",
       "      <th>0</th>\n",
       "      <td>0</td>\n",
       "      <td>55.01</td>\n",
       "      <td>29.27</td>\n",
       "    </tr>\n",
       "    <tr>\n",
       "      <th>1</th>\n",
       "      <td>0</td>\n",
       "      <td>59.01</td>\n",
       "      <td>29.39</td>\n",
       "    </tr>\n",
       "    <tr>\n",
       "      <th>2</th>\n",
       "      <td>0</td>\n",
       "      <td>56.53</td>\n",
       "      <td>28.50</td>\n",
       "    </tr>\n",
       "    <tr>\n",
       "      <th>3</th>\n",
       "      <td>0</td>\n",
       "      <td>53.66</td>\n",
       "      <td>28.50</td>\n",
       "    </tr>\n",
       "    <tr>\n",
       "      <th>4</th>\n",
       "      <td>0</td>\n",
       "      <td>49.67</td>\n",
       "      <td>31.97</td>\n",
       "    </tr>\n",
       "    <tr>\n",
       "      <th>...</th>\n",
       "      <td>...</td>\n",
       "      <td>...</td>\n",
       "      <td>...</td>\n",
       "    </tr>\n",
       "    <tr>\n",
       "      <th>195</th>\n",
       "      <td>1</td>\n",
       "      <td>50.95</td>\n",
       "      <td>52.37</td>\n",
       "    </tr>\n",
       "    <tr>\n",
       "      <th>196</th>\n",
       "      <td>1</td>\n",
       "      <td>51.86</td>\n",
       "      <td>52.40</td>\n",
       "    </tr>\n",
       "    <tr>\n",
       "      <th>197</th>\n",
       "      <td>1</td>\n",
       "      <td>54.24</td>\n",
       "      <td>47.82</td>\n",
       "    </tr>\n",
       "    <tr>\n",
       "      <th>198</th>\n",
       "      <td>1</td>\n",
       "      <td>53.13</td>\n",
       "      <td>50.22</td>\n",
       "    </tr>\n",
       "    <tr>\n",
       "      <th>199</th>\n",
       "      <td>1</td>\n",
       "      <td>53.00</td>\n",
       "      <td>51.18</td>\n",
       "    </tr>\n",
       "  </tbody>\n",
       "</table>\n",
       "<p>200 rows × 3 columns</p>\n",
       "</div>"
      ],
      "text/plain": [
       "     dog  length  height\n",
       "0      0   55.01   29.27\n",
       "1      0   59.01   29.39\n",
       "2      0   56.53   28.50\n",
       "3      0   53.66   28.50\n",
       "4      0   49.67   31.97\n",
       "..   ...     ...     ...\n",
       "195    1   50.95   52.37\n",
       "196    1   51.86   52.40\n",
       "197    1   54.24   47.82\n",
       "198    1   53.13   50.22\n",
       "199    1   53.00   51.18\n",
       "\n",
       "[200 rows x 3 columns]"
      ]
     },
     "execution_count": 3,
     "metadata": {},
     "output_type": "execute_result"
    }
   ],
   "source": [
    "df = origin.copy()\n",
    "df['dog'] = df['dog'].map({'d': 0, 'j': 1})\n",
    "df['dog'] = df['dog'].astype('int')\n",
    "df"
   ]
  },
  {
   "cell_type": "markdown",
   "metadata": {},
   "source": [
    "### [2] 훈련, 검증 데이터 분리"
   ]
  },
  {
   "cell_type": "code",
   "execution_count": 4,
   "metadata": {},
   "outputs": [
    {
     "data": {
      "text/plain": [
       "((160, 2), (40, 2), (160,), (40,))"
      ]
     },
     "execution_count": 4,
     "metadata": {},
     "output_type": "execute_result"
    }
   ],
   "source": [
    "x_train, x_test, y_train, y_test = my_train_test_split(df, yname='dog', test_size=0.2, scalling=False)\n",
    "x_train.shape, x_test.shape, y_train.shape, y_test.shape"
   ]
  },
  {
   "cell_type": "markdown",
   "metadata": {},
   "source": [
    "## #03. KNN 분류기 생성\n",
    "\n",
    "### [1] 분류 모델 구현"
   ]
  },
  {
   "cell_type": "code",
   "execution_count": 5,
   "metadata": {},
   "outputs": [
    {
     "name": "stdout",
     "output_type": "stream",
     "text": [
      "훈련데이터 점수:  1.0\n",
      "검증데이터 점수:  1.0\n"
     ]
    }
   ],
   "source": [
    "estimator = KNeighborsClassifier(n_neighbors=5, n_jobs=-1)\n",
    "estimator.fit(x_train, y_train)\n",
    "print(\"훈련데이터 점수: \", estimator.score(x_train, y_train))\n",
    "print(\"검증데이터 점수: \", estimator.score(x_test, y_test))"
   ]
  },
  {
   "cell_type": "markdown",
   "metadata": {},
   "source": [
    "### [2] 성능평가"
   ]
  },
  {
   "cell_type": "code",
   "execution_count": 6,
   "metadata": {},
   "outputs": [
    {
     "name": "stdout",
     "output_type": "stream",
     "text": [
      "[분류분석 성능평가]\n",
      "+-------------------------+--------------+--------------+-----------------------------------------------------------+\n",
      "|                         |   훈련데이터 |   검증데이터 | 설명                                                      |\n",
      "|-------------------------+--------------+--------------+-----------------------------------------------------------|\n",
      "| 의사결정계수(Pseudo R2) |            1 |            1 | 로지스틱회귀의 성능 측정 지표로, 1에 가까울수록 좋은 모델 |\n",
      "| 정확도(Accuracy)        |            1 |            1 | 예측 결과(TN,FP,TP,TN)가 실제 결과(TP,TN)와 일치하는 정도 |\n",
      "| 정밀도(Precision)       |            1 |            1 | 양성으로 예측한 결과(TP,FP) 중 실제 양성(TP)인 비율       |\n",
      "| 재현율(Recall)          |            1 |            1 | 실제 양성(TP,FN) 중 양성(TP)으로 예측한 비율              |\n",
      "| 위양성율(Fallout)       |            0 |            0 | 실제 음성(FP,TN) 중 양성(FP)으로 잘못 예측한 비율         |\n",
      "| 특이성(TNR)             |            1 |            1 | 실제 음성(FP,TN) 중 음성(TN)으로 정확히 예측한 비율       |\n",
      "| F1 Score                |            1 |            1 | 정밀도와 재현율의 조화평균                                |\n",
      "| AUC                     |            1 |            1 | ROC Curve의 밑면적으로, 1에 가까울수록 좋은 모델          |\n",
      "+-------------------------+--------------+--------------+-----------------------------------------------------------+\n",
      "\n",
      "[혼동행렬]\n"
     ]
    },
    {
     "data": {
      "image/png": "[encoded data removed]",
      "text/plain": [
       "<Figure size 1200x500 with 2 Axes>"
      ]
     },
     "metadata": {},
     "output_type": "display_data"
    },
    {
     "name": "stdout",
     "output_type": "stream",
     "text": [
      "\n",
      "[Roc Curve]\n"
     ]
    },
    {
     "ename": "TypeError",
     "evalue": "my_roc_curve() got an unexpected keyword argument 'hist'",
     "output_type": "error",
     "traceback": [
      "\u001b[1;31m---------------------------------------------------------------------------\u001b[0m",
      "\u001b[1;31mTypeError\u001b[0m                                 Traceback (most recent call last)",
      "Cell \u001b[1;32mIn[6], line 1\u001b[0m\n\u001b[1;32m----> 1\u001b[0m \u001b[43mmy_classification_result\u001b[49m\u001b[43m(\u001b[49m\u001b[43mestimator\u001b[49m\u001b[43m,\u001b[49m\u001b[43m \u001b[49m\u001b[43mx_train\u001b[49m\u001b[43m,\u001b[49m\u001b[43m \u001b[49m\u001b[43my_train\u001b[49m\u001b[43m,\u001b[49m\u001b[43m \u001b[49m\u001b[43mx_test\u001b[49m\u001b[43m,\u001b[49m\u001b[43m \u001b[49m\u001b[43my_test\u001b[49m\u001b[43m)\u001b[49m\n",
      "File \u001b[1;32mc:\\Users\\hyk\\AppData\\Local\\Programs\\Python\\Python311\\Lib\\site-packages\\helper\\classification.py:344\u001b[0m, in \u001b[0;36mmy_classification_result\u001b[1;34m(estimator, x_train, y_train, x_test, y_test, conf_matrix, hist, roc, pr, multiclass, learning_curve, cv, figsize, dpi)\u001b[0m\n\u001b[0;32m    333\u001b[0m     my_roc_curve(\n\u001b[0;32m    334\u001b[0m         estimator,\n\u001b[0;32m    335\u001b[0m         x_train,\n\u001b[1;32m   (...)\u001b[0m\n\u001b[0;32m    341\u001b[0m         dpi\u001b[38;5;241m=\u001b[39mdpi,\n\u001b[0;32m    342\u001b[0m     )\n\u001b[0;32m    343\u001b[0m \u001b[38;5;28;01melse\u001b[39;00m:\n\u001b[1;32m--> 344\u001b[0m     \u001b[43mmy_roc_curve\u001b[49m\u001b[43m(\u001b[49m\n\u001b[0;32m    345\u001b[0m \u001b[43m        \u001b[49m\u001b[43mestimator\u001b[49m\u001b[43m,\u001b[49m\n\u001b[0;32m    346\u001b[0m \u001b[43m        \u001b[49m\u001b[43mx_test\u001b[49m\u001b[43m,\u001b[49m\n\u001b[0;32m    347\u001b[0m \u001b[43m        \u001b[49m\u001b[43my_test\u001b[49m\u001b[43m,\u001b[49m\n\u001b[0;32m    348\u001b[0m \u001b[43m        \u001b[49m\u001b[43mhist\u001b[49m\u001b[38;5;241;43m=\u001b[39;49m\u001b[43mhist\u001b[49m\u001b[43m,\u001b[49m\n\u001b[0;32m    349\u001b[0m \u001b[43m        \u001b[49m\u001b[43mroc\u001b[49m\u001b[38;5;241;43m=\u001b[39;49m\u001b[43mroc\u001b[49m\u001b[43m,\u001b[49m\n\u001b[0;32m    350\u001b[0m \u001b[43m        \u001b[49m\u001b[43mpr\u001b[49m\u001b[38;5;241;43m=\u001b[39;49m\u001b[43mpr\u001b[49m\u001b[43m,\u001b[49m\n\u001b[0;32m    351\u001b[0m \u001b[43m        \u001b[49m\u001b[43mmulticlass\u001b[49m\u001b[38;5;241;43m=\u001b[39;49m\u001b[43mmulticlass\u001b[49m\u001b[43m,\u001b[49m\n\u001b[0;32m    352\u001b[0m \u001b[43m        \u001b[49m\u001b[43mdpi\u001b[49m\u001b[38;5;241;43m=\u001b[39;49m\u001b[43mdpi\u001b[49m\u001b[43m,\u001b[49m\n\u001b[0;32m    353\u001b[0m \u001b[43m    \u001b[49m\u001b[43m)\u001b[49m\n\u001b[0;32m    354\u001b[0m \u001b[38;5;66;03m# 학습곡선\u001b[39;00m\n\u001b[0;32m    355\u001b[0m \u001b[38;5;28;01mif\u001b[39;00m learning_curve:\n",
      "\u001b[1;31mTypeError\u001b[0m: my_roc_curve() got an unexpected keyword argument 'hist'"
     ]
    }
   ],
   "source": [
    "my_classification_result(estimator, x_train, y_train, x_test, y_test)"
   ]
  },
  {
   "cell_type": "code",
   "execution_count": null,
   "metadata": {},
   "outputs": [],
   "source": []
  }
 ],
 "metadata": {
  "kernelspec": {
   "display_name": "Python 3",
   "language": "python",
   "name": "python3"
  },
  "language_info": {
   "codemirror_mode": {
    "name": "ipython",
    "version": 3
   },
   "file_extension": ".py",
   "mimetype": "text/x-python",
   "name": "python",
   "nbconvert_exporter": "python",
   "pygments_lexer": "ipython3",
   "version": "3.11.7"
  }
 },
 "nbformat": 4,
 "nbformat_minor": 2
}
