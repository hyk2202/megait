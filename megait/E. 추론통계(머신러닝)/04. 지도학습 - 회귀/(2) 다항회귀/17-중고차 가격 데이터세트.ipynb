{
 "cells": [
  {
   "cell_type": "code",
   "execution_count": 134,
   "metadata": {},
   "outputs": [],
   "source": [
    "import sys\n",
    "import os\n",
    "work_path = os.path.abspath(os.path.join(os.getcwd(), \"../../..\"))\n",
    "sys.path.append(work_path)\n",
    "\n",
    "from helper.regrassion import *\n",
    "from helper.util import *\n",
    "from helper.plot import *\n",
    "from helper.analysis import *\n",
    "\n",
    "from pandas import get_dummies\n",
    "import numpy  as np"
   ]
  },
  {
   "cell_type": "markdown",
   "metadata": {},
   "source": [
    "### [2] 데이터 가져오기\n",
    "\n",
    "| 변수명 | 설명 |\n",
    "|:--:|--:|\n",
    "| car_name | Name of the car |\n",
    "| registration_year | Vehicle registration year |\n",
    "| insurance_validity | Type of insurance |\n",
    "| fuel_type | Type of fuel |\n",
    "| seats | Number of seats in the car |\n",
    "| kms_driven | Total kms driven |\n",
    "| ownsership | Number of ownership |\n",
    "| transmission | Transmission mode |\n",
    "| manufacturing_year | manufacturing year |\n",
    "| mileage(kmpl) | Mileage of the car |\n",
    "| engine(cc) | Engine capacity |\n",
    "| max_power(bhp) | max power |\n",
    "| torque(Nm) | torque |\n",
    "| price(in lakhs) | Price of the used car |"
   ]
  },
  {
   "cell_type": "code",
   "execution_count": 107,
   "metadata": {},
   "outputs": [
    {
     "name": "stdout",
     "output_type": "stream",
     "text": [
      "+----+---------------------------------------------------+---------------------+----------------------+-------------+---------+--------------+--------------+----------------+----------------------+-----------------+--------------+------------------+--------------+-------------------+\n",
      "|    | car_name                                          | registration_year   | insurance_validity   | fuel_type   |   seats |   kms_driven | ownsership   | transmission   |   manufacturing_year |   mileage(kmpl) |   engine(cc) |   max_power(bhp) |   torque(Nm) |   price(in lakhs) |\n",
      "|----+---------------------------------------------------+---------------------+----------------------+-------------+---------+--------------+--------------+----------------+----------------------+-----------------+--------------+------------------+--------------+-------------------|\n",
      "|  0 | 2017 Mercedes-Benz S-Class S400                   | Jul-17              | Comprehensive        | Petrol      |       5 |        56000 | First Owner  | Automatic      |                 2017 |            7.81 |         2996 |             2996 |          333 |             63.75 |\n",
      "|  1 | 2020 Nissan Magnite Turbo CVT XV Premium Opt BSVI | Jan-21              | Comprehensive        | Petrol      |       5 |        30615 | First Owner  | Automatic      |                 2020 |            17.4 |          999 |              999 |         9863 |              8.99 |\n",
      "|  2 | 2018 BMW X1 sDrive 20d xLine                      | Sep-18              | Comprehensive        | Diesel      |       5 |        24000 | First Owner  | Automatic      |                 2018 |           20.68 |         1995 |             1995 |          188 |             23.75 |\n",
      "|  3 | 2019 Kia Seltos GTX Plus                          | Dec-19              | Comprehensive        | Petrol      |       5 |        18378 | First Owner  | Manual         |                 2019 |            16.5 |         1353 |             1353 |        13808 |             13.56 |\n",
      "|  4 | 2019 Skoda Superb LK 1.8 TSI AT                   | Aug-19              | Comprehensive        | Petrol      |       5 |        44900 | First Owner  | Automatic      |                 2019 |           14.67 |         1798 |             1798 |        17746 |                24 |\n",
      "+----+---------------------------------------------------+---------------------+----------------------+-------------+---------+--------------+--------------+----------------+----------------------+-----------------+--------------+------------------+--------------+-------------------+\n"
     ]
    }
   ],
   "source": [
    "origin = my_read_data(\"./res/Used_Car_Dataset.csv\",info= False).drop('Unnamed: 0',axis=1)\n",
    "df = origin.copy()\n",
    "my_pretty_table(df.head())\n"
   ]
  },
  {
   "cell_type": "code",
   "execution_count": 108,
   "metadata": {},
   "outputs": [
    {
     "data": {
      "text/plain": [
       "Index(['car_name', 'registration_year', 'insurance_validity', 'fuel_type',\n",
       "       'seats', 'kms_driven', 'ownsership', 'transmission',\n",
       "       'manufacturing_year', 'mileage(kmpl)', 'engine(cc)', 'max_power(bhp)',\n",
       "       'torque(Nm)', 'price(in lakhs)'],\n",
       "      dtype='object')"
      ]
     },
     "execution_count": 108,
     "metadata": {},
     "output_type": "execute_result"
    }
   ],
   "source": [
    "origin.columns"
   ]
  },
  {
   "cell_type": "code",
   "execution_count": 109,
   "metadata": {},
   "outputs": [
    {
     "data": {
      "text/plain": [
       "(['2014',\n",
       "  '2018',\n",
       "  '2017',\n",
       "  '2016',\n",
       "  '2009',\n",
       "  '2015',\n",
       "  '2023',\n",
       "  '2020',\n",
       "  '2011',\n",
       "  '2021',\n",
       "  '2012',\n",
       "  '2022',\n",
       "  '2013',\n",
       "  '2019',\n",
       "  '2010',\n",
       "  '2007'],\n",
       " ['Jul-17',\n",
       "  'Jan-21',\n",
       "  'Sep-18',\n",
       "  'Dec-19',\n",
       "  'Aug-19',\n",
       "  'Feb-19',\n",
       "  'Jul-18',\n",
       "  'Apr-15',\n",
       "  'Mar-19',\n",
       "  'Mar-20',\n",
       "  'Feb-22',\n",
       "  'Jan-22',\n",
       "  'Apr-19',\n",
       "  'Aug-22',\n",
       "  'Mar-18',\n",
       "  'Nov-19',\n",
       "  'Nov-20',\n",
       "  'Sep-21',\n",
       "  'Oct-10',\n",
       "  'Sep-15',\n",
       "  'Aug-11',\n",
       "  'Dec-15',\n",
       "  'Aug-17',\n",
       "  'Aug-20',\n",
       "  'Oct-19',\n",
       "  'Dec-22',\n",
       "  'Jun-18',\n",
       "  'Jun-17',\n",
       "  'May-10',\n",
       "  'Mar-23',\n",
       "  'Nov-15',\n",
       "  'Sep-20',\n",
       "  'Jul-21',\n",
       "  'Aug-18',\n",
       "  'Jun-20',\n",
       "  'Apr-21',\n",
       "  'Nov-23',\n",
       "  'Dec-20',\n",
       "  'Jun-21',\n",
       "  'May-11',\n",
       "  'Oct-17',\n",
       "  'Nov-14',\n",
       "  'Feb-18',\n",
       "  'Jul-16',\n",
       "  'Aug-21',\n",
       "  'Nov-18',\n",
       "  'Oct-18',\n",
       "  'Mar-17',\n",
       "  'May-19',\n",
       "  'May-13',\n",
       "  'May-23',\n",
       "  'Jul-14',\n",
       "  'Sep-16',\n",
       "  'May-22',\n",
       "  'Aug-15',\n",
       "  'Mar-21',\n",
       "  'Mar-22',\n",
       "  'Oct-20',\n",
       "  'Apr-16',\n",
       "  'Sep-23',\n",
       "  'Dec-21',\n",
       "  'Nov-21',\n",
       "  'Dec-14',\n",
       "  'Jul-22',\n",
       "  'Jun-23',\n",
       "  'Jul-19',\n",
       "  'Dec-12',\n",
       "  'Dec-16',\n",
       "  'Jun-16',\n",
       "  'Sep-19',\n",
       "  'Jun-10',\n",
       "  'Oct-14',\n",
       "  'Mar-16',\n",
       "  'Jun-11',\n",
       "  'Dec-18',\n",
       "  'Feb-20',\n",
       "  'Apr-20',\n",
       "  'Jan-11',\n",
       "  'Oct-15',\n",
       "  'Jan-19',\n",
       "  'Jul-13',\n",
       "  'May-21',\n",
       "  'Aug-13',\n",
       "  'Oct-13',\n",
       "  'Nov-17',\n",
       "  'May-17',\n",
       "  'Jan-20',\n",
       "  'May-15',\n",
       "  'Sep-17',\n",
       "  'Apr-22',\n",
       "  'Nov-12',\n",
       "  'Sep-14',\n",
       "  'Aug-16',\n",
       "  'Nov-13',\n",
       "  'Nov-16',\n",
       "  'Mar-11',\n",
       "  'Jan-14',\n",
       "  'Sep-13',\n",
       "  'Jun-19',\n",
       "  'May-14',\n",
       "  'Jun-14',\n",
       "  'Mar-14',\n",
       "  'Oct-22',\n",
       "  'May-12',\n",
       "  'Mar-15',\n",
       "  'May-16',\n",
       "  'Oct-16',\n",
       "  'Jan-23',\n",
       "  'Jan-16',\n",
       "  'Jun-15',\n",
       "  'Feb-13',\n",
       "  'Apr-23',\n",
       "  'Jul-15',\n",
       "  'Nov-22',\n",
       "  'Feb-12',\n",
       "  'Feb-23',\n",
       "  'Jul-20',\n",
       "  'Dec-11',\n",
       "  'Mar-13',\n",
       "  'Jan-12',\n",
       "  'Aug-23',\n",
       "  'Mar-12',\n",
       "  'Feb-16',\n",
       "  'Jul-11',\n",
       "  'Jan-15',\n",
       "  'Apr-18',\n",
       "  'May-18',\n",
       "  'Feb-15',\n",
       "  'Apr-13',\n",
       "  'Dec-17',\n",
       "  'Aug-14',\n",
       "  'Jan-17',\n",
       "  'Jul-23',\n",
       "  'Oct-21',\n",
       "  'Apr-17',\n",
       "  'Jul-12',\n",
       "  'Feb-17',\n",
       "  'Third Party insurance',\n",
       "  'Mar-09',\n",
       "  'Jul-10',\n",
       "  'Jun-22',\n",
       "  'Jun-12',\n",
       "  'Nov-11',\n",
       "  'Nov-10',\n",
       "  'Apr-12',\n",
       "  'Jan-18',\n",
       "  'Nov-09',\n",
       "  'Jun-13',\n",
       "  'Sep-22',\n",
       "  'Oct-12',\n",
       "  'Apr-11',\n",
       "  'Sep-12',\n",
       "  'Apr-14',\n",
       "  'Aug-10',\n",
       "  'May-09',\n",
       "  'Jan-09',\n",
       "  'Feb-21',\n",
       "  'Sep-11',\n",
       "  'Dec-09',\n",
       "  'Dec-13',\n",
       "  'Mar-10',\n",
       "  'Jan-10'])"
      ]
     },
     "execution_count": 109,
     "metadata": {},
     "output_type": "execute_result"
    }
   ],
   "source": [
    "A = []\n",
    "A_ = []\n",
    "for i in origin['registration_year'].unique():\n",
    "    try : \n",
    "        int(i)\n",
    "        A.append(i)\n",
    "    except:A_.append(i)\n",
    "A, A_"
   ]
  },
  {
   "cell_type": "code",
   "execution_count": 110,
   "metadata": {},
   "outputs": [
    {
     "data": {
      "text/plain": [
       "0       Jul-17\n",
       "1       Jan-21\n",
       "2       Sep-18\n",
       "3       Dec-19\n",
       "4       Aug-19\n",
       "         ...  \n",
       "1548    Aug-20\n",
       "1549      None\n",
       "1550    Jun-17\n",
       "1551    May-18\n",
       "1552    May-18\n",
       "Name: registration_year, Length: 1553, dtype: object"
      ]
     },
     "execution_count": 110,
     "metadata": {},
     "output_type": "execute_result"
    }
   ],
   "source": [
    "origin['registration_year'].unique()\n",
    "\n",
    "map_registration_year = {a:None for a in A}\n",
    "for i in A_:\n",
    "    map_registration_year[i] = i\n",
    "map_registration_year['Third Party insurance'] = None\n",
    "df['registration_year'] = df['registration_year'].map(map_registration_year)\n",
    "df['registration_year']"
   ]
  },
  {
   "cell_type": "code",
   "execution_count": 111,
   "metadata": {},
   "outputs": [
    {
     "data": {
      "text/plain": [
       "0               Comprehensive\n",
       "1               Comprehensive\n",
       "2               Comprehensive\n",
       "3               Comprehensive\n",
       "4               Comprehensive\n",
       "                ...          \n",
       "1548            Comprehensive\n",
       "1549    Third Party insurance\n",
       "1550            Comprehensive\n",
       "1551            Comprehensive\n",
       "1552            Comprehensive\n",
       "Name: insurance_validity, Length: 1553, dtype: object"
      ]
     },
     "execution_count": 111,
     "metadata": {},
     "output_type": "execute_result"
    }
   ],
   "source": [
    "origin['insurance_validity'].value_counts()\n",
    "map_insurance_validity = {a:a for a in origin['insurance_validity'].unique()}\n",
    "map_insurance_validity['Petrol'] = None\n",
    "map_insurance_validity['Not Available'] = None\n",
    "df['insurance_validity'] = df['insurance_validity'].map(map_insurance_validity)\n",
    "df['insurance_validity']"
   ]
  },
  {
   "cell_type": "code",
   "execution_count": 112,
   "metadata": {},
   "outputs": [
    {
     "data": {
      "text/plain": [
       "0       Petrol\n",
       "1       Petrol\n",
       "2       Diesel\n",
       "3       Petrol\n",
       "4       Petrol\n",
       "         ...  \n",
       "1548    Diesel\n",
       "1549    Petrol\n",
       "1550    Petrol\n",
       "1551    Petrol\n",
       "1552    Petrol\n",
       "Name: fuel_type, Length: 1553, dtype: object"
      ]
     },
     "execution_count": 112,
     "metadata": {},
     "output_type": "execute_result"
    }
   ],
   "source": [
    "origin['fuel_type'].value_counts()\n",
    "map_fuel_type = {a:a for a in origin['fuel_type'].unique()}\n",
    "map_fuel_type['CNG'] = None\n",
    "map_fuel_type['5 Seats'] = None\n",
    "df['fuel_type'] = df['fuel_type'].map(map_fuel_type)\n",
    "df['fuel_type']"
   ]
  },
  {
   "cell_type": "code",
   "execution_count": 113,
   "metadata": {},
   "outputs": [
    {
     "data": {
      "text/plain": [
       "0       5.0\n",
       "1       5.0\n",
       "2       5.0\n",
       "3       5.0\n",
       "4       5.0\n",
       "       ... \n",
       "1548    5.0\n",
       "1549    5.0\n",
       "1550    5.0\n",
       "1551    5.0\n",
       "1552    5.0\n",
       "Name: seats, Length: 1553, dtype: float64"
      ]
     },
     "execution_count": 113,
     "metadata": {},
     "output_type": "execute_result"
    }
   ],
   "source": [
    "origin['seats'].value_counts()\n",
    "map_seats = {a:a if a<10 else None for a in origin['seats'].unique()}\n",
    "df['seats'] = df['seats'].map(map_seats)\n",
    "df['seats']"
   ]
  },
  {
   "cell_type": "code",
   "execution_count": 114,
   "metadata": {},
   "outputs": [
    {
     "data": {
      "text/plain": [
       "0        First Owner\n",
       "1        First Owner\n",
       "2        First Owner\n",
       "3        First Owner\n",
       "4        First Owner\n",
       "            ...     \n",
       "1548     First Owner\n",
       "1549            None\n",
       "1550     First Owner\n",
       "1551    Second Owner\n",
       "1552     First Owner\n",
       "Name: ownsership, Length: 1553, dtype: object"
      ]
     },
     "execution_count": 114,
     "metadata": {},
     "output_type": "execute_result"
    }
   ],
   "source": [
    "origin['ownsership'].value_counts()\n",
    "map_ownsership = {a:a if \"Owner\" in a else None for a in origin['ownsership'].unique()}\n",
    "df['ownsership'] = df['ownsership'].map(map_ownsership)\n",
    "df['ownsership']\n"
   ]
  },
  {
   "cell_type": "code",
   "execution_count": 115,
   "metadata": {},
   "outputs": [
    {
     "data": {
      "text/plain": [
       "Manual                 835\n",
       "Automatic              668\n",
       "2017                    28\n",
       "2014                     5\n",
       "2011                     3\n",
       "2023                     2\n",
       "2020                     2\n",
       "2021                     2\n",
       "2022                     2\n",
       "Power Windows Front      2\n",
       "2018                     2\n",
       "2015                     1\n",
       "2016                     1\n",
       "Name: transmission, dtype: int64"
      ]
     },
     "execution_count": 115,
     "metadata": {},
     "output_type": "execute_result"
    }
   ],
   "source": [
    "A = []\n",
    "A_ = []\n",
    "for i in origin['transmission'].unique():\n",
    "    try : \n",
    "        int(i)\n",
    "        A.append(i)\n",
    "    except:A_.append(i)\n",
    "origin['transmission'].value_counts()"
   ]
  },
  {
   "cell_type": "code",
   "execution_count": 117,
   "metadata": {},
   "outputs": [
    {
     "data": {
      "text/plain": [
       "0       Automatic\n",
       "1       Automatic\n",
       "2       Automatic\n",
       "3          Manual\n",
       "4       Automatic\n",
       "          ...    \n",
       "1548    Automatic\n",
       "1549          NaN\n",
       "1550       Manual\n",
       "1551       Manual\n",
       "1552       Manual\n",
       "Name: transmission, Length: 1553, dtype: object"
      ]
     },
     "execution_count": 117,
     "metadata": {},
     "output_type": "execute_result"
    }
   ],
   "source": [
    "map_transmission = {a:None for a in A}\n",
    "for i in A_:\n",
    "    map_transmission[i] = i\n",
    "map_transmission['Power Windows Front']=None\n",
    "df['transmission'] = df['transmission'].map(map_transmission)\n",
    "df['transmission']"
   ]
  },
  {
   "cell_type": "code",
   "execution_count": 119,
   "metadata": {},
   "outputs": [
    {
     "data": {
      "text/plain": [
       "(['2017',\n",
       "  '2020',\n",
       "  '2018',\n",
       "  '2019',\n",
       "  '2015',\n",
       "  '2021',\n",
       "  '2014',\n",
       "  '2022',\n",
       "  '2010',\n",
       "  '2011',\n",
       "  '2023',\n",
       "  '2016',\n",
       "  '2009',\n",
       "  '2013',\n",
       "  '2012',\n",
       "  '2007'],\n",
       " ['Power Steering', 'Power Windows Front', 'Air Conditioner'])"
      ]
     },
     "execution_count": 119,
     "metadata": {},
     "output_type": "execute_result"
    }
   ],
   "source": [
    "origin['manufacturing_year'].value_counts()\n",
    "A = []\n",
    "A_ = []\n",
    "for i in origin['manufacturing_year'].unique():\n",
    "    try : \n",
    "        int(i)\n",
    "        A.append(i)\n",
    "    except:A_.append(i)\n",
    "A, A_"
   ]
  },
  {
   "cell_type": "code",
   "execution_count": 120,
   "metadata": {},
   "outputs": [
    {
     "data": {
      "text/plain": [
       "0       2017\n",
       "1       2020\n",
       "2       2018\n",
       "3       2019\n",
       "4       2019\n",
       "        ... \n",
       "1548    2020\n",
       "1549    None\n",
       "1550    2017\n",
       "1551    2018\n",
       "1552    2018\n",
       "Name: manufacturing_year, Length: 1553, dtype: object"
      ]
     },
     "execution_count": 120,
     "metadata": {},
     "output_type": "execute_result"
    }
   ],
   "source": [
    "map_manufacturing_year = {a:a for a in A}\n",
    "for i in A_:\n",
    "    map_manufacturing_year[i] = None\n",
    "df['manufacturing_year'] = df['manufacturing_year'].map(map_manufacturing_year)\n",
    "df['manufacturing_year']"
   ]
  },
  {
   "cell_type": "code",
   "execution_count": 161,
   "metadata": {},
   "outputs": [],
   "source": [
    "for i,v in enumerate(origin['mileage(kmpl)']):\n",
    "    if v>40 : df['mileage(kmpl)'][i] = None"
   ]
  },
  {
   "cell_type": "code",
   "execution_count": 176,
   "metadata": {},
   "outputs": [
    {
     "data": {
      "text/plain": [
       "((array([  37,  132, 1221,   21,   57,    6,   15,   19], dtype=int64),\n",
       "  array([   100,    300,   1000,   3000,   5000,  10000,  15000,  20000,\n",
       "         500000])),\n",
       " 3258640000000.0)"
      ]
     },
     "execution_count": 176,
     "metadata": {},
     "output_type": "execute_result"
    }
   ],
   "source": [
    "max : 13,519cc\n",
    "\n",
    "출처 : 모토야(https://www.motoya.co.kr)\n",
    "\n",
    "a = origin['engine(cc)'].dropna()\n",
    "\n",
    "np.histogram(a, [100,300,1000,3000,5000,10000,15000,20000,500000]) , a.max()"
   ]
  }
 ],
 "metadata": {
  "kernelspec": {
   "display_name": "Python 3",
   "language": "python",
   "name": "python3"
  },
  "language_info": {
   "codemirror_mode": {
    "name": "ipython",
    "version": 3
   },
   "file_extension": ".py",
   "mimetype": "text/x-python",
   "name": "python",
   "nbconvert_exporter": "python",
   "pygments_lexer": "ipython3",
   "version": "3.11.7"
  }
 },
 "nbformat": 4,
 "nbformat_minor": 2
}
