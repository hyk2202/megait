{
 "cells": [
  {
   "cell_type": "code",
   "execution_count": 31,
   "metadata": {},
   "outputs": [],
   "source": [
    "import sys\n",
    "import os\n",
    "work_path = os.path.abspath(os.path.join(os.getcwd(), \"../../..\"))\n",
    "sys.path.append(work_path)\n",
    "\n",
    "from helper.regrassion import *\n",
    "from helper.util import *\n",
    "from helper.plot import *\n",
    "from helper.analysis import *\n"
   ]
  },
  {
   "cell_type": "markdown",
   "metadata": {},
   "source": [
    "### [2] 데이터 가져오기\n",
    "\n",
    "중고차 가격 예측을 위한 데이터 세트\n",
    "\n",
    "https://www.kaggle.com/datasets/rishabhkarn/used-car-dataset\n",
    "\n",
    "| 변수명 | 설명 |\n",
    "|:--:|--:|\n",
    "| car_name | Name of the car |\n",
    "| registration_year | Vehicle registration year |\n",
    "| insurance_validity | Type of insurance |\n",
    "| fuel_type | Type of fuel |\n",
    "| seats | Number of seats in the car |\n",
    "| kms_driven | Total kms driven |\n",
    "| ownsership | Number of ownership |\n",
    "| transmission | Transmission mode |\n",
    "| manufacturing_year | manufacturing year |\n",
    "| mileage(kmpl) | Mileage of the car |\n",
    "| engine(cc) | Engine capacity |\n",
    "| max_power(bhp) | max power |\n",
    "| torque(Nm) | torque |\n",
    "| price(in lakhs) | Price of the used car |"
   ]
  },
  {
   "cell_type": "code",
   "execution_count": 32,
   "metadata": {},
   "outputs": [],
   "source": [
    "origin = my_read_data(\"./res/Used_Car_Dataset.csv\",info= False).drop('Unnamed: 0',axis=1)\n",
    "df = origin.copy()\n",
    "# del_num=[457,633,653,1299,935,916,463,1463,388,554,574]\n",
    "# del_num.sort(reverse=True)\n",
    "# for i in del_num:\n",
    "#     df = df.drop(i,axis=0)\n",
    "df=df.drop_duplicates()"
   ]
  },
  {
   "cell_type": "code",
   "execution_count": 33,
   "metadata": {},
   "outputs": [
    {
     "data": {
      "text/plain": [
       "array(['Mercedes-Benz', 'Nissan', 'BMW', 'Kia', 'Skoda', 'Honda',\n",
       "       'Hyundai', 'Tata', 'Renault', 'Ford', 'Jeep', 'MG', 'Maruti',\n",
       "       'Audi', 'Toyota', 'Jaguar', 'Volkswagen', 'Mahindra', 'Volvo',\n",
       "       'Land', 'Isuzu', 'Mitsubishi', 'Porsche', 'Datsun', 'Lexus',\n",
       "       'Mini', 'Fiat', 'Lamborghini'], dtype=object)"
      ]
     },
     "execution_count": 33,
     "metadata": {},
     "output_type": "execute_result"
    }
   ],
   "source": [
    "brand = []\n",
    "for i in df['car_name']:\n",
    "    brand.append(i.split(' ')[1])\n",
    "df['brand'] = brand\n",
    "df['brand'].unique()"
   ]
  },
  {
   "cell_type": "code",
   "execution_count": 34,
   "metadata": {},
   "outputs": [],
   "source": [
    "A = []\n",
    "A_ = []\n",
    "for i in origin['registration_year'].unique():\n",
    "    try : \n",
    "        int(i)\n",
    "        A.append(i)\n",
    "    except:A_.append(i)\n",
    "# A, A_"
   ]
  },
  {
   "cell_type": "code",
   "execution_count": 35,
   "metadata": {},
   "outputs": [],
   "source": [
    "origin['registration_year'].unique()\n",
    "\n",
    "map_registration_year = {a:None for a in A}\n",
    "for i in A_:\n",
    "    map_registration_year[i] = i\n",
    "map_registration_year['Third Party insurance'] = None\n",
    "df['registration_year'] = df['registration_year'].map(map_registration_year)\n",
    "# df['registration_year']"
   ]
  },
  {
   "cell_type": "code",
   "execution_count": 36,
   "metadata": {},
   "outputs": [],
   "source": [
    "month_dict = {'Apr':4,\n",
    " 'Aug':8,\n",
    " 'Feb':2,\n",
    " 'Dec':12,\n",
    " 'Jan':1,\n",
    " 'Jul':7,\n",
    " 'Jun':6,\n",
    " 'Mar':3,\n",
    " 'May':5,\n",
    " 'Nov':11,\n",
    " 'Oct':10,\n",
    " 'Sep':9}"
   ]
  },
  {
   "cell_type": "code",
   "execution_count": 37,
   "metadata": {},
   "outputs": [],
   "source": [
    "month = []\n",
    "year = []\n",
    "\n",
    "for i in df['registration_year']:\n",
    "    if i:\n",
    "        try:\n",
    "            month.append(month_dict[i[:3]])\n",
    "            year.append(int(i[-2:]))\n",
    "        except : \n",
    "            month.append(None)\n",
    "            year.append(None)\n",
    "    else:\n",
    "        month.append(None)\n",
    "        year.append(None)"
   ]
  },
  {
   "cell_type": "code",
   "execution_count": 38,
   "metadata": {},
   "outputs": [],
   "source": [
    "df['month']=month\n",
    "df['year']=year"
   ]
  },
  {
   "cell_type": "code",
   "execution_count": 39,
   "metadata": {},
   "outputs": [
    {
     "data": {
      "text/plain": [
       "0               Comprehensive\n",
       "1               Comprehensive\n",
       "2               Comprehensive\n",
       "3               Comprehensive\n",
       "4               Comprehensive\n",
       "                ...          \n",
       "1548            Comprehensive\n",
       "1549    Third Party insurance\n",
       "1550            Comprehensive\n",
       "1551            Comprehensive\n",
       "1552            Comprehensive\n",
       "Name: insurance_validity, Length: 1133, dtype: object"
      ]
     },
     "execution_count": 39,
     "metadata": {},
     "output_type": "execute_result"
    }
   ],
   "source": [
    "origin['insurance_validity'].value_counts()\n",
    "map_insurance_validity = {a:a for a in origin['insurance_validity'].unique()}\n",
    "map_insurance_validity['Petrol'] = None\n",
    "map_insurance_validity['Not Available'] = None\n",
    "df['insurance_validity'] = df['insurance_validity'].map(map_insurance_validity)\n",
    "df['insurance_validity']"
   ]
  },
  {
   "cell_type": "code",
   "execution_count": 40,
   "metadata": {},
   "outputs": [
    {
     "data": {
      "text/plain": [
       "0       Petrol\n",
       "1       Petrol\n",
       "2       Diesel\n",
       "3       Petrol\n",
       "4       Petrol\n",
       "         ...  \n",
       "1548    Diesel\n",
       "1549    Petrol\n",
       "1550    Petrol\n",
       "1551    Petrol\n",
       "1552    Petrol\n",
       "Name: fuel_type, Length: 1133, dtype: object"
      ]
     },
     "execution_count": 40,
     "metadata": {},
     "output_type": "execute_result"
    }
   ],
   "source": [
    "origin['fuel_type'].value_counts()\n",
    "map_fuel_type = {a:a for a in origin['fuel_type'].unique()}\n",
    "map_fuel_type['CNG'] = None\n",
    "map_fuel_type['5 Seats'] = None\n",
    "df['fuel_type'] = df['fuel_type'].map(map_fuel_type)\n",
    "df['fuel_type']"
   ]
  },
  {
   "cell_type": "code",
   "execution_count": 41,
   "metadata": {},
   "outputs": [
    {
     "data": {
      "text/plain": [
       "0       5.0\n",
       "1       5.0\n",
       "2       5.0\n",
       "3       5.0\n",
       "4       5.0\n",
       "       ... \n",
       "1548    5.0\n",
       "1549    5.0\n",
       "1550    5.0\n",
       "1551    5.0\n",
       "1552    5.0\n",
       "Name: seats, Length: 1133, dtype: float64"
      ]
     },
     "execution_count": 41,
     "metadata": {},
     "output_type": "execute_result"
    }
   ],
   "source": [
    "origin['seats'].value_counts()\n",
    "map_seats = {a:a if a<10 else None for a in origin['seats'].unique()}\n",
    "df['seats'] = df['seats'].map(map_seats)\n",
    "df['seats']"
   ]
  },
  {
   "cell_type": "code",
   "execution_count": 42,
   "metadata": {},
   "outputs": [
    {
     "data": {
      "text/plain": [
       "0        First Owner\n",
       "1        First Owner\n",
       "2        First Owner\n",
       "3        First Owner\n",
       "4        First Owner\n",
       "            ...     \n",
       "1548     First Owner\n",
       "1549            None\n",
       "1550     First Owner\n",
       "1551    Second Owner\n",
       "1552     First Owner\n",
       "Name: ownsership, Length: 1133, dtype: object"
      ]
     },
     "execution_count": 42,
     "metadata": {},
     "output_type": "execute_result"
    }
   ],
   "source": [
    "origin['ownsership'].value_counts()\n",
    "map_ownsership = {a:a if \"Owner\" in a else None for a in origin['ownsership'].unique()}\n",
    "df['ownsership'] = df['ownsership'].map(map_ownsership)\n",
    "df['ownsership']\n"
   ]
  },
  {
   "cell_type": "code",
   "execution_count": 43,
   "metadata": {},
   "outputs": [
    {
     "data": {
      "text/plain": [
       "Manual                 835\n",
       "Automatic              668\n",
       "2017                    28\n",
       "2014                     5\n",
       "2011                     3\n",
       "2023                     2\n",
       "2020                     2\n",
       "2021                     2\n",
       "2022                     2\n",
       "Power Windows Front      2\n",
       "2018                     2\n",
       "2015                     1\n",
       "2016                     1\n",
       "Name: transmission, dtype: int64"
      ]
     },
     "execution_count": 43,
     "metadata": {},
     "output_type": "execute_result"
    }
   ],
   "source": [
    "A = []\n",
    "A_ = []\n",
    "for i in origin['transmission'].unique():\n",
    "    try : \n",
    "        A.append(int(i))\n",
    "    except:A_.append(i)\n",
    "origin['transmission'].value_counts()"
   ]
  },
  {
   "cell_type": "code",
   "execution_count": 44,
   "metadata": {},
   "outputs": [
    {
     "data": {
      "text/plain": [
       "0       Automatic\n",
       "1       Automatic\n",
       "2       Automatic\n",
       "3          Manual\n",
       "4       Automatic\n",
       "          ...    \n",
       "1548    Automatic\n",
       "1549          NaN\n",
       "1550       Manual\n",
       "1551       Manual\n",
       "1552       Manual\n",
       "Name: transmission, Length: 1133, dtype: object"
      ]
     },
     "execution_count": 44,
     "metadata": {},
     "output_type": "execute_result"
    }
   ],
   "source": [
    "map_transmission = {a:None for a in A}\n",
    "for i in A_:\n",
    "    map_transmission[i] = i\n",
    "map_transmission['Power Windows Front']=None\n",
    "df['transmission'] = df['transmission'].map(map_transmission)\n",
    "df['transmission']"
   ]
  },
  {
   "cell_type": "code",
   "execution_count": 45,
   "metadata": {},
   "outputs": [
    {
     "data": {
      "text/plain": [
       "(['2017',\n",
       "  '2020',\n",
       "  '2018',\n",
       "  '2019',\n",
       "  '2015',\n",
       "  '2021',\n",
       "  '2014',\n",
       "  '2022',\n",
       "  '2010',\n",
       "  '2011',\n",
       "  '2023',\n",
       "  '2016',\n",
       "  '2009',\n",
       "  '2013',\n",
       "  '2012',\n",
       "  '2007'],\n",
       " ['Power Steering', 'Power Windows Front', 'Air Conditioner'])"
      ]
     },
     "execution_count": 45,
     "metadata": {},
     "output_type": "execute_result"
    }
   ],
   "source": [
    "A = []\n",
    "A_ = []\n",
    "for i in origin['manufacturing_year'].unique():\n",
    "    try : \n",
    "        int(i)\n",
    "        A.append(i)\n",
    "    except:A_.append(i)\n",
    "A, A_"
   ]
  },
  {
   "cell_type": "code",
   "execution_count": 46,
   "metadata": {},
   "outputs": [
    {
     "data": {
      "text/plain": [
       "0       2017\n",
       "1       2020\n",
       "2       2018\n",
       "3       2019\n",
       "4       2019\n",
       "        ... \n",
       "1548    2020\n",
       "1549    None\n",
       "1550    2017\n",
       "1551    2018\n",
       "1552    2018\n",
       "Name: manufacturing_year, Length: 1133, dtype: object"
      ]
     },
     "execution_count": 46,
     "metadata": {},
     "output_type": "execute_result"
    }
   ],
   "source": [
    "map_manufacturing_year = {a:a for a in A}\n",
    "for i in A_:\n",
    "    map_manufacturing_year[i] = None\n",
    "df['manufacturing_year'] = df['manufacturing_year'].map(map_manufacturing_year)\n",
    "df['manufacturing_year']"
   ]
  },
  {
   "cell_type": "code",
   "execution_count": 47,
   "metadata": {},
   "outputs": [
    {
     "data": {
      "text/plain": [
       "mileage(kmpl)\n",
       "18.90            56\n",
       "1197.00          53\n",
       "21.40            35\n",
       "18.60            35\n",
       "18.00            31\n",
       "                 ..\n",
       "19.02             1\n",
       "23.80             1\n",
       "23.70             1\n",
       "14.74             1\n",
       "3996.00           1\n",
       "Length: 332, dtype: int64"
      ]
     },
     "execution_count": 47,
     "metadata": {},
     "output_type": "execute_result"
    }
   ],
   "source": [
    "for i,v in enumerate(origin['mileage(kmpl)']):\n",
    "    if v>100 : df['mileage(kmpl)'][i] = None\n",
    "origin[['mileage(kmpl)']].value_counts()"
   ]
  },
  {
   "cell_type": "code",
   "execution_count": 48,
   "metadata": {},
   "outputs": [],
   "source": [
    "max = 13519\n",
    "min = 352\n",
    "\n",
    "for i,v in enumerate(origin['engine(cc)']):\n",
    "    if v < min or v > max : df['engine(cc)'][i] = None\n"
   ]
  },
  {
   "cell_type": "code",
   "execution_count": 49,
   "metadata": {},
   "outputs": [
    {
     "data": {
      "text/plain": [
       "registration_year     category\n",
       "insurance_validity    category\n",
       "fuel_type             category\n",
       "seats                  float64\n",
       "kms_driven               int64\n",
       "ownsership            category\n",
       "transmission          category\n",
       "manufacturing_year    category\n",
       "mileage(kmpl)          float64\n",
       "engine(cc)             float64\n",
       "max_power(bhp)         float64\n",
       "torque(Nm)             float64\n",
       "brand                 category\n",
       "month                  float64\n",
       "year                   float64\n",
       "price                  float64\n",
       "dtype: object"
      ]
     },
     "execution_count": 49,
     "metadata": {},
     "output_type": "execute_result"
    }
   ],
   "source": [
    "df2 = my_set_category(df.dropna().drop('car_name',axis=1))\n",
    "df2['price'] = df2['price(in lakhs)']\n",
    "df2.drop('price(in lakhs)',axis=1,inplace=True)\n",
    "\n",
    "df2.dtypes"
   ]
  },
  {
   "cell_type": "code",
   "execution_count": 50,
   "metadata": {},
   "outputs": [],
   "source": [
    "import numpy as np\n",
    "a = (int(df2['year'].max())-np.array(df2['year']) ) *12 + 12 - df2['month']\n",
    "df2['registration'] = a\n",
    "df2['mileage'] = df2['mileage(kmpl)']\n",
    "df2['engine'] = df2['engine(cc)']\n",
    "df2['max_power'] = df2['max_power(bhp)']\n",
    "df2['torque'] = df2['torque(Nm)']\n",
    "df2['kms_driven2']=df2['kms_driven']**2\n",
    "df2['registration2'] = df2['registration']**2\n",
    "df2['torque2'] = df2['torque']**2\n",
    "df2['max_power2'] = df2['max_power']**2\n",
    "df2['engine2'] = df2['engine']**2\n",
    "df2['mileage2'] = df2['mileage'] **2\n",
    "df2['seats2'] = df2['seats']**2"
   ]
  },
  {
   "cell_type": "code",
   "execution_count": 52,
   "metadata": {},
   "outputs": [],
   "source": [
    "df3 =df2.drop(['torque(Nm)','engine(cc)','max_power(bhp)','mileage(kmpl)','year','month','manufacturing_year','registration_year'],axis=1).drop(1277)\n",
    "categories = [x for x in df3.columns if df3[x].dtypes == 'category']"
   ]
  },
  {
   "cell_type": "code",
   "execution_count": 53,
   "metadata": {},
   "outputs": [
    {
     "name": "stdout",
     "output_type": "stream",
     "text": [
      "pingouin.anova\n",
      "+----+--------------------+---------+------+---------+---------+------------+-----------+\n",
      "|    | Source             |      SS |   DF |      MS |       F |      p-unc |       np2 |\n",
      "|----+--------------------+---------+------+---------+---------+------------+-----------|\n",
      "|  0 | insurance_validity | 3487.36 |    3 | 1162.45 | 4.11447 | 0.00652406 | 0.0135145 |\n",
      "|  1 | Within             |  254558 |  901 | 282.528 |     nan |        nan |       nan |\n",
      "+----+--------------------+---------+------+---------+---------+------------+-----------+\n",
      "\n",
      "statsmodels.anova.anova_lm\n",
      "+-----------------------+------+----------+-----------+---------+------------+\n",
      "|                       |   df |   sum_sq |   mean_sq |       F |     PR(>F) |\n",
      "|-----------------------+------+----------+-----------+---------+------------|\n",
      "| C(insurance_validity) |    3 |  3487.36 |   1162.45 | 4.11447 | 0.00652406 |\n",
      "| Residual              |  901 |   254558 |   282.528 |     nan |        nan |\n",
      "+-----------------------+------+----------+-----------+---------+------------+\n",
      "[anova_lm] statistic: 4.114, p-value: 0.007, 대립가설 채택\n",
      "pingouin.anova\n",
      "+----+-----------+---------+------+---------+---------+-------------+-----------+\n",
      "|    | Source    |      SS |   DF |      MS |       F |       p-unc |       np2 |\n",
      "|----+-----------+---------+------+---------+---------+-------------+-----------|\n",
      "|  0 | fuel_type | 10483.5 |    1 | 10483.5 | 38.2392 | 9.47027e-10 | 0.0406264 |\n",
      "|  1 | Within    |  247562 |  903 | 274.155 |     nan |         nan |       nan |\n",
      "+----+-----------+---------+------+---------+---------+-------------+-----------+\n",
      "\n",
      "statsmodels.anova.anova_lm\n",
      "+--------------+------+----------+-----------+---------+-------------+\n",
      "|              |   df |   sum_sq |   mean_sq |       F |      PR(>F) |\n",
      "|--------------+------+----------+-----------+---------+-------------|\n",
      "| C(fuel_type) |    1 |  10483.5 |   10483.5 | 38.2392 | 9.47027e-10 |\n",
      "| Residual     |  903 |   247562 |   274.155 |     nan |         nan |\n",
      "+--------------+------+----------+-----------+---------+-------------+\n",
      "[anova_lm] statistic: 38.239, p-value: 0.000, 대립가설 채택\n",
      "pingouin.anova\n",
      "+----+------------+---------+------+---------+---------+-----------+------------+\n",
      "|    | Source     |      SS |   DF |      MS |       F |     p-unc |        np2 |\n",
      "|----+------------+---------+------+---------+---------+-----------+------------|\n",
      "|  0 | ownsership | 1387.91 |    2 | 693.954 | 2.43884 | 0.0878373 | 0.00537854 |\n",
      "|  1 | Within     |  256657 |  902 | 284.543 |     nan |       nan |        nan |\n",
      "+----+------------+---------+------+---------+---------+-----------+------------+\n",
      "\n",
      "statsmodels.anova.anova_lm\n",
      "+---------------+------+----------+-----------+---------+-----------+\n",
      "|               |   df |   sum_sq |   mean_sq |       F |    PR(>F) |\n",
      "|---------------+------+----------+-----------+---------+-----------|\n",
      "| C(ownsership) |    2 |  1387.91 |   693.954 | 2.43884 | 0.0878373 |\n",
      "| Residual      |  902 |   256657 |   284.543 |     nan |       nan |\n",
      "+---------------+------+----------+-----------+---------+-----------+\n",
      "[anova_lm] statistic: 2.439, p-value: 0.088, 귀무가설 채택\n",
      "pingouin.anova\n",
      "+----+--------------+---------+------+---------+-------+-------------+---------+\n",
      "|    | Source       |      SS |   DF |      MS |     F |       p-unc |     np2 |\n",
      "|----+--------------+---------+------+---------+-------+-------------+---------|\n",
      "|  0 | transmission | 75646.1 |    1 | 75646.1 | 374.5 | 4.57524e-70 | 0.29315 |\n",
      "|  1 | Within       |  182399 |  903 | 201.992 |   nan |         nan |     nan |\n",
      "+----+--------------+---------+------+---------+-------+-------------+---------+\n",
      "\n",
      "statsmodels.anova.anova_lm\n",
      "+-----------------+------+----------+-----------+-------+-------------+\n",
      "|                 |   df |   sum_sq |   mean_sq |     F |      PR(>F) |\n",
      "|-----------------+------+----------+-----------+-------+-------------|\n",
      "| C(transmission) |    1 |  75646.1 |   75646.1 | 374.5 | 4.57524e-70 |\n",
      "| Residual        |  903 |   182399 |   201.992 |   nan |         nan |\n",
      "+-----------------+------+----------+-----------+-------+-------------+\n",
      "[anova_lm] statistic: 374.500, p-value: 0.000, 대립가설 채택\n",
      "pingouin.anova\n",
      "+----+----------+---------+------+---------+---------+--------------+---------+\n",
      "|    | Source   |      SS |   DF |      MS |       F |        p-unc |     np2 |\n",
      "|----+----------+---------+------+---------+---------+--------------+---------|\n",
      "|  0 | brand    |  160473 |   25 | 6418.92 | 57.8263 | 2.14366e-166 | 0.62188 |\n",
      "|  1 | Within   | 97572.2 |  879 | 111.004 |     nan |          nan |     nan |\n",
      "+----+----------+---------+------+---------+---------+--------------+---------+\n",
      "\n",
      "statsmodels.anova.anova_lm\n",
      "+----------+------+----------+-----------+---------+--------------+\n",
      "|          |   df |   sum_sq |   mean_sq |       F |       PR(>F) |\n",
      "|----------+------+----------+-----------+---------+--------------|\n",
      "| C(brand) |   25 |   160473 |   6418.92 | 57.8263 | 2.14366e-166 |\n",
      "| Residual |  879 |  97572.2 |   111.004 |     nan |          nan |\n",
      "+----------+------+----------+-----------+---------+--------------+\n",
      "[anova_lm] statistic: 57.826, p-value: 0.000, 대립가설 채택\n"
     ]
    }
   ],
   "source": [
    "for c in categories:\n",
    "    tmp = df3[[c, 'price']]\n",
    "    my_anova(tmp, hue=c, target='price')"
   ]
  },
  {
   "cell_type": "code",
   "execution_count": 54,
   "metadata": {},
   "outputs": [],
   "source": [
    "df_brand = df3[['brand','price']]\n",
    "df_brand_name = df_brand.groupby('brand').mean().sort_values('price').reset_index()\n",
    "map_brand = {}\n",
    "for i,v in enumerate(df_brand_name['brand']):\n",
    "    map_brand[v] = df_brand_name['price'][i]\n",
    "df3['brand_value'] = df3['brand'].map(map_brand).astype('float64')"
   ]
  },
  {
   "cell_type": "code",
   "execution_count": 55,
   "metadata": {},
   "outputs": [],
   "source": [
    "std_df = my_standard_scaler(df3.drop(['brand','ownsership'],axis=1), 'price')"
   ]
  },
  {
   "cell_type": "code",
   "execution_count": 56,
   "metadata": {},
   "outputs": [
    {
     "name": "stdout",
     "output_type": "stream",
     "text": [
      "+----+-----------+--------------+----------------+-----------+-----------+-------------+------------+---------------+-----------------+------------+--------------+-----------+------------+-----------+---------------+---------+----------------------------------+--------------------------------------------+-------------------------------+--------------------+-----------------------+\n",
      "|    |     seats |   kms_driven |   registration |   mileage |    engine |   max_power |     torque |   kms_driven2 |   registration2 |    torque2 |   max_power2 |   engine2 |   mileage2 |    seats2 |   brand_value |   price |   insurance_validity_Third Party |   insurance_validity_Third Party insurance |   insurance_validity_Zero Dep |   fuel_type_Petrol |   transmission_Manual |\n",
      "|----+-----------+--------------+----------------+-----------+-----------+-------------+------------+---------------+-----------------+------------+--------------+-----------+------------+-----------+---------------+---------+----------------------------------+--------------------------------------------+-------------------------------+--------------------+-----------------------|\n",
      "|  0 | -0.296824 |    0.0627341 |       0.213656 |  -2.83526 |   2.42666 |     2.42666 |  -0.161631 |    -0.0574463 |      -0.0123802 | -0.0896365 |      2.32545 |   2.32545 |   -2.12951 | -0.303661 |       1.79512 |   63.75 |                                0 |                                          0 |                             0 |                  1 |                     0 |\n",
      "|  1 | -0.296824 |    -0.498866 |       -1.04562 | -0.239979 | -0.995739 |   -0.995739 | -0.0571592 |     -0.130305 |       -0.897757 | -0.0886176 |    -0.696588 | -0.696588 |  -0.336046 | -0.303661 |     -0.721935 |    8.99 |                                0 |                                          0 |                             0 |                  1 |                     0 |\n",
      "|  2 | -0.296824 |    -0.645212 |      -0.206102 |  0.647666 |  0.711174 |    0.711174 |  -0.163221 |     -0.142277 |       -0.381287 | -0.0896373 |     0.432989 |  0.432989 |    0.59051 | -0.303661 |       2.01878 |   23.75 |                                0 |                                          0 |                             0 |                  0 |                     0 |\n",
      "|  3 | -0.296824 |    -0.769589 |      -0.655842 |  -0.48354 | -0.389065 |   -0.389065 | -0.0139123 |     -0.150172 |        -0.69467 | -0.0876385 |      -0.3812 |   -0.3812 |  -0.562377 | -0.303661 |     0.0546525 |   13.56 |                                0 |                                          0 |                             0 |                  1 |                     1 |\n",
      "|  4 | -0.296824 |    -0.182835 |      -0.535911 | -0.978781 |  0.373562 |    0.373562 |  0.0292578 |    -0.0945595 |       -0.619382 | -0.0863355 |     0.149945 |  0.149945 |  -0.985521 | -0.303661 |    -0.0013783 |      24 |                                0 |                                          0 |                             0 |                  1 |                     0 |\n",
      "+----+-----------+--------------+----------------+-----------+-----------+-------------+------------+---------------+-----------------+------------+--------------+-----------+------------+-----------+---------------+---------+----------------------------------+--------------------------------------------+-------------------------------+--------------------+-----------------------+\n"
     ]
    }
   ],
   "source": [
    "dummy_df = my_dummies(std_df)\n",
    "my_pretty_table(dummy_df.head())\n"
   ]
  },
  {
   "cell_type": "code",
   "execution_count": 57,
   "metadata": {},
   "outputs": [
    {
     "data": {
      "text/plain": [
       "((633, 20), (272, 20), (633,), (272,))"
      ]
     },
     "execution_count": 57,
     "metadata": {},
     "output_type": "execute_result"
    }
   ],
   "source": [
    "x_train, x_test, y_train, y_test = my_train_test_split(dummy_df, \"price\", test_size=0.3)\n",
    "x_train.shape, x_test.shape, y_train.shape, y_test.shape"
   ]
  },
  {
   "cell_type": "code",
   "execution_count": 58,
   "metadata": {},
   "outputs": [
    {
     "data": {
      "text/plain": [
       "[]"
      ]
     },
     "execution_count": 58,
     "metadata": {},
     "output_type": "execute_result"
    }
   ],
   "source": [
    "# 0행렬이 포함되어있는경우 `LinAlgError: Singular matrix` 발생, 해결방법은 해당 행렬을 찾아서 삭제한다.\n",
    "\n",
    "ignore = []\n",
    "for i in x_train.columns:\n",
    "    check = False\n",
    "    for j in x_train[i]:\n",
    "        check = check or j\n",
    "        if check:\n",
    "            break\n",
    "    else:\n",
    "        ignore.append(i)\n",
    "    check = False\n",
    "    for j in x_test[i]:\n",
    "        check = check or j\n",
    "        if check:\n",
    "            break \n",
    "    else:\n",
    "        ignore.append(i)\n",
    "ignore"
   ]
  },
  {
   "cell_type": "code",
   "execution_count": 76,
   "metadata": {},
   "outputs": [
    {
     "name": "stdout",
     "output_type": "stream",
     "text": [
      "[회귀식]\n",
      "price = -3.151 * registration2 + 2.109 * engine2 + -1.621 * mileage2 + 10.597 * brand_value + 14.157\n",
      "\n",
      "[회귀분석 성능평가]\n",
      "+--------+----------------+---------------------+---------------------+------------------+---------------------------------+-----------------------+\n",
      "|        |   결정계수(R2) |   평균절대오차(MAE) |   평균제곱오차(MSE) |   평균오차(RMSE) |   평균 절대 백분오차 비율(MAPE) |   평균 비율 오차(MPE) |\n",
      "|--------+----------------+---------------------+---------------------+------------------+---------------------------------+-----------------------|\n",
      "| 데이터 |       0.688442 |             5.51568 |             107.833 |          10.3843 |                         96.7371 |              -62.1502 |\n",
      "+--------+----------------+---------------------+---------------------+------------------+---------------------------------+-----------------------+\n",
      "\n",
      "[선형회귀분석 결과보고]\n",
      "+----+------------+---------------+--------------------+------------+------------------+--------+------------+---------+\n",
      "|    | 종속변수   | 독립변수      |   B(비표준화 계수) |   표준오차 |   β(표준화 계수) |      t |   유의확률 |     VIF |\n",
      "|----+------------+---------------+--------------------+------------+------------------+--------+------------+---------|\n",
      "|  0 | price      | registration2 |            -3.1514 |      0.678 |           -0.161 | -4.648 |          0 | 1.04831 |\n",
      "|  1 | price      | engine2       |             2.1089 |      0.728 |            0.162 |  2.895 |      0.004 |   1.959 |\n",
      "|  2 | price      | mileage2      |            -1.6208 |      0.752 |           -0.062 | -2.157 |      0.032 | 1.38276 |\n",
      "|  3 | price      | brand_value   |            10.5967 |      0.791 |            0.648 | 13.397 |          0 | 1.87705 |\n",
      "+----+------------+---------------+--------------------+------------+------------------+--------+------------+---------+\n",
      "𝑅^2(0.688), Adj.𝑅^2(0.684), F(147.496), P-value(1.11e-16), Durbin-Watson(2.128)\n",
      "\n",
      "price에 대하여 registration2,engine2,mileage2,brand_value로 예측하는 회귀분석을 실시한 결과, 이 회귀모형은 통계적으로 유의하다(F(4,267) = 147.496, p <= 0.05).\n",
      "\n",
      "registration2의 회귀계수는 -3.151(p <= 0.05)로, price에 대하여 유의미한 예측변인인 것으로 나타났다.\n",
      "engine2의 회귀계수는 2.109(p <= 0.05)로, price에 대하여 유의미한 예측변인인 것으로 나타났다.\n",
      "mileage2의 회귀계수는 -1.621(p <= 0.05)로, price에 대하여 유의미한 예측변인인 것으로 나타났다.\n",
      "brand_value의 회귀계수는 10.597(p <= 0.05)로, price에 대하여 유의미한 예측변인인 것으로 나타났다.\n",
      "\n",
      "--------------------------------------------------\n",
      "빼야하는 변수 : 없음\n",
      "--------------------------------------------------\n"
     ]
    },
    {
     "data": {
      "text/html": [
       "<style>#sk-container-id-19 {\n",
       "  /* Definition of color scheme common for light and dark mode */\n",
       "  --sklearn-color-text: black;\n",
       "  --sklearn-color-line: gray;\n",
       "  /* Definition of color scheme for unfitted estimators */\n",
       "  --sklearn-color-unfitted-level-0: #fff5e6;\n",
       "  --sklearn-color-unfitted-level-1: #f6e4d2;\n",
       "  --sklearn-color-unfitted-level-2: #ffe0b3;\n",
       "  --sklearn-color-unfitted-level-3: chocolate;\n",
       "  /* Definition of color scheme for fitted estimators */\n",
       "  --sklearn-color-fitted-level-0: #f0f8ff;\n",
       "  --sklearn-color-fitted-level-1: #d4ebff;\n",
       "  --sklearn-color-fitted-level-2: #b3dbfd;\n",
       "  --sklearn-color-fitted-level-3: cornflowerblue;\n",
       "\n",
       "  /* Specific color for light theme */\n",
       "  --sklearn-color-text-on-default-background: var(--sg-text-color, var(--theme-code-foreground, var(--jp-content-font-color1, black)));\n",
       "  --sklearn-color-background: var(--sg-background-color, var(--theme-background, var(--jp-layout-color0, white)));\n",
       "  --sklearn-color-border-box: var(--sg-text-color, var(--theme-code-foreground, var(--jp-content-font-color1, black)));\n",
       "  --sklearn-color-icon: #696969;\n",
       "\n",
       "  @media (prefers-color-scheme: dark) {\n",
       "    /* Redefinition of color scheme for dark theme */\n",
       "    --sklearn-color-text-on-default-background: var(--sg-text-color, var(--theme-code-foreground, var(--jp-content-font-color1, white)));\n",
       "    --sklearn-color-background: var(--sg-background-color, var(--theme-background, var(--jp-layout-color0, #111)));\n",
       "    --sklearn-color-border-box: var(--sg-text-color, var(--theme-code-foreground, var(--jp-content-font-color1, white)));\n",
       "    --sklearn-color-icon: #878787;\n",
       "  }\n",
       "}\n",
       "\n",
       "#sk-container-id-19 {\n",
       "  color: var(--sklearn-color-text);\n",
       "}\n",
       "\n",
       "#sk-container-id-19 pre {\n",
       "  padding: 0;\n",
       "}\n",
       "\n",
       "#sk-container-id-19 input.sk-hidden--visually {\n",
       "  border: 0;\n",
       "  clip: rect(1px 1px 1px 1px);\n",
       "  clip: rect(1px, 1px, 1px, 1px);\n",
       "  height: 1px;\n",
       "  margin: -1px;\n",
       "  overflow: hidden;\n",
       "  padding: 0;\n",
       "  position: absolute;\n",
       "  width: 1px;\n",
       "}\n",
       "\n",
       "#sk-container-id-19 div.sk-dashed-wrapped {\n",
       "  border: 1px dashed var(--sklearn-color-line);\n",
       "  margin: 0 0.4em 0.5em 0.4em;\n",
       "  box-sizing: border-box;\n",
       "  padding-bottom: 0.4em;\n",
       "  background-color: var(--sklearn-color-background);\n",
       "}\n",
       "\n",
       "#sk-container-id-19 div.sk-container {\n",
       "  /* jupyter's `normalize.less` sets `[hidden] { display: none; }`\n",
       "     but bootstrap.min.css set `[hidden] { display: none !important; }`\n",
       "     so we also need the `!important` here to be able to override the\n",
       "     default hidden behavior on the sphinx rendered scikit-learn.org.\n",
       "     See: https://github.com/scikit-learn/scikit-learn/issues/21755 */\n",
       "  display: inline-block !important;\n",
       "  position: relative;\n",
       "}\n",
       "\n",
       "#sk-container-id-19 div.sk-text-repr-fallback {\n",
       "  display: none;\n",
       "}\n",
       "\n",
       "div.sk-parallel-item,\n",
       "div.sk-serial,\n",
       "div.sk-item {\n",
       "  /* draw centered vertical line to link estimators */\n",
       "  background-image: linear-gradient(var(--sklearn-color-text-on-default-background), var(--sklearn-color-text-on-default-background));\n",
       "  background-size: 2px 100%;\n",
       "  background-repeat: no-repeat;\n",
       "  background-position: center center;\n",
       "}\n",
       "\n",
       "/* Parallel-specific style estimator block */\n",
       "\n",
       "#sk-container-id-19 div.sk-parallel-item::after {\n",
       "  content: \"\";\n",
       "  width: 100%;\n",
       "  border-bottom: 2px solid var(--sklearn-color-text-on-default-background);\n",
       "  flex-grow: 1;\n",
       "}\n",
       "\n",
       "#sk-container-id-19 div.sk-parallel {\n",
       "  display: flex;\n",
       "  align-items: stretch;\n",
       "  justify-content: center;\n",
       "  background-color: var(--sklearn-color-background);\n",
       "  position: relative;\n",
       "}\n",
       "\n",
       "#sk-container-id-19 div.sk-parallel-item {\n",
       "  display: flex;\n",
       "  flex-direction: column;\n",
       "}\n",
       "\n",
       "#sk-container-id-19 div.sk-parallel-item:first-child::after {\n",
       "  align-self: flex-end;\n",
       "  width: 50%;\n",
       "}\n",
       "\n",
       "#sk-container-id-19 div.sk-parallel-item:last-child::after {\n",
       "  align-self: flex-start;\n",
       "  width: 50%;\n",
       "}\n",
       "\n",
       "#sk-container-id-19 div.sk-parallel-item:only-child::after {\n",
       "  width: 0;\n",
       "}\n",
       "\n",
       "/* Serial-specific style estimator block */\n",
       "\n",
       "#sk-container-id-19 div.sk-serial {\n",
       "  display: flex;\n",
       "  flex-direction: column;\n",
       "  align-items: center;\n",
       "  background-color: var(--sklearn-color-background);\n",
       "  padding-right: 1em;\n",
       "  padding-left: 1em;\n",
       "}\n",
       "\n",
       "\n",
       "/* Toggleable style: style used for estimator/Pipeline/ColumnTransformer box that is\n",
       "clickable and can be expanded/collapsed.\n",
       "- Pipeline and ColumnTransformer use this feature and define the default style\n",
       "- Estimators will overwrite some part of the style using the `sk-estimator` class\n",
       "*/\n",
       "\n",
       "/* Pipeline and ColumnTransformer style (default) */\n",
       "\n",
       "#sk-container-id-19 div.sk-toggleable {\n",
       "  /* Default theme specific background. It is overwritten whether we have a\n",
       "  specific estimator or a Pipeline/ColumnTransformer */\n",
       "  background-color: var(--sklearn-color-background);\n",
       "}\n",
       "\n",
       "/* Toggleable label */\n",
       "#sk-container-id-19 label.sk-toggleable__label {\n",
       "  cursor: pointer;\n",
       "  display: block;\n",
       "  width: 100%;\n",
       "  margin-bottom: 0;\n",
       "  padding: 0.5em;\n",
       "  box-sizing: border-box;\n",
       "  text-align: center;\n",
       "}\n",
       "\n",
       "#sk-container-id-19 label.sk-toggleable__label-arrow:before {\n",
       "  /* Arrow on the left of the label */\n",
       "  content: \"▸\";\n",
       "  float: left;\n",
       "  margin-right: 0.25em;\n",
       "  color: var(--sklearn-color-icon);\n",
       "}\n",
       "\n",
       "#sk-container-id-19 label.sk-toggleable__label-arrow:hover:before {\n",
       "  color: var(--sklearn-color-text);\n",
       "}\n",
       "\n",
       "/* Toggleable content - dropdown */\n",
       "\n",
       "#sk-container-id-19 div.sk-toggleable__content {\n",
       "  max-height: 0;\n",
       "  max-width: 0;\n",
       "  overflow: hidden;\n",
       "  text-align: left;\n",
       "  /* unfitted */\n",
       "  background-color: var(--sklearn-color-unfitted-level-0);\n",
       "}\n",
       "\n",
       "#sk-container-id-19 div.sk-toggleable__content.fitted {\n",
       "  /* fitted */\n",
       "  background-color: var(--sklearn-color-fitted-level-0);\n",
       "}\n",
       "\n",
       "#sk-container-id-19 div.sk-toggleable__content pre {\n",
       "  margin: 0.2em;\n",
       "  border-radius: 0.25em;\n",
       "  color: var(--sklearn-color-text);\n",
       "  /* unfitted */\n",
       "  background-color: var(--sklearn-color-unfitted-level-0);\n",
       "}\n",
       "\n",
       "#sk-container-id-19 div.sk-toggleable__content.fitted pre {\n",
       "  /* unfitted */\n",
       "  background-color: var(--sklearn-color-fitted-level-0);\n",
       "}\n",
       "\n",
       "#sk-container-id-19 input.sk-toggleable__control:checked~div.sk-toggleable__content {\n",
       "  /* Expand drop-down */\n",
       "  max-height: 200px;\n",
       "  max-width: 100%;\n",
       "  overflow: auto;\n",
       "}\n",
       "\n",
       "#sk-container-id-19 input.sk-toggleable__control:checked~label.sk-toggleable__label-arrow:before {\n",
       "  content: \"▾\";\n",
       "}\n",
       "\n",
       "/* Pipeline/ColumnTransformer-specific style */\n",
       "\n",
       "#sk-container-id-19 div.sk-label input.sk-toggleable__control:checked~label.sk-toggleable__label {\n",
       "  color: var(--sklearn-color-text);\n",
       "  background-color: var(--sklearn-color-unfitted-level-2);\n",
       "}\n",
       "\n",
       "#sk-container-id-19 div.sk-label.fitted input.sk-toggleable__control:checked~label.sk-toggleable__label {\n",
       "  background-color: var(--sklearn-color-fitted-level-2);\n",
       "}\n",
       "\n",
       "/* Estimator-specific style */\n",
       "\n",
       "/* Colorize estimator box */\n",
       "#sk-container-id-19 div.sk-estimator input.sk-toggleable__control:checked~label.sk-toggleable__label {\n",
       "  /* unfitted */\n",
       "  background-color: var(--sklearn-color-unfitted-level-2);\n",
       "}\n",
       "\n",
       "#sk-container-id-19 div.sk-estimator.fitted input.sk-toggleable__control:checked~label.sk-toggleable__label {\n",
       "  /* fitted */\n",
       "  background-color: var(--sklearn-color-fitted-level-2);\n",
       "}\n",
       "\n",
       "#sk-container-id-19 div.sk-label label.sk-toggleable__label,\n",
       "#sk-container-id-19 div.sk-label label {\n",
       "  /* The background is the default theme color */\n",
       "  color: var(--sklearn-color-text-on-default-background);\n",
       "}\n",
       "\n",
       "/* On hover, darken the color of the background */\n",
       "#sk-container-id-19 div.sk-label:hover label.sk-toggleable__label {\n",
       "  color: var(--sklearn-color-text);\n",
       "  background-color: var(--sklearn-color-unfitted-level-2);\n",
       "}\n",
       "\n",
       "/* Label box, darken color on hover, fitted */\n",
       "#sk-container-id-19 div.sk-label.fitted:hover label.sk-toggleable__label.fitted {\n",
       "  color: var(--sklearn-color-text);\n",
       "  background-color: var(--sklearn-color-fitted-level-2);\n",
       "}\n",
       "\n",
       "/* Estimator label */\n",
       "\n",
       "#sk-container-id-19 div.sk-label label {\n",
       "  font-family: monospace;\n",
       "  font-weight: bold;\n",
       "  display: inline-block;\n",
       "  line-height: 1.2em;\n",
       "}\n",
       "\n",
       "#sk-container-id-19 div.sk-label-container {\n",
       "  text-align: center;\n",
       "}\n",
       "\n",
       "/* Estimator-specific */\n",
       "#sk-container-id-19 div.sk-estimator {\n",
       "  font-family: monospace;\n",
       "  border: 1px dotted var(--sklearn-color-border-box);\n",
       "  border-radius: 0.25em;\n",
       "  box-sizing: border-box;\n",
       "  margin-bottom: 0.5em;\n",
       "  /* unfitted */\n",
       "  background-color: var(--sklearn-color-unfitted-level-0);\n",
       "}\n",
       "\n",
       "#sk-container-id-19 div.sk-estimator.fitted {\n",
       "  /* fitted */\n",
       "  background-color: var(--sklearn-color-fitted-level-0);\n",
       "}\n",
       "\n",
       "/* on hover */\n",
       "#sk-container-id-19 div.sk-estimator:hover {\n",
       "  /* unfitted */\n",
       "  background-color: var(--sklearn-color-unfitted-level-2);\n",
       "}\n",
       "\n",
       "#sk-container-id-19 div.sk-estimator.fitted:hover {\n",
       "  /* fitted */\n",
       "  background-color: var(--sklearn-color-fitted-level-2);\n",
       "}\n",
       "\n",
       "/* Specification for estimator info (e.g. \"i\" and \"?\") */\n",
       "\n",
       "/* Common style for \"i\" and \"?\" */\n",
       "\n",
       ".sk-estimator-doc-link,\n",
       "a:link.sk-estimator-doc-link,\n",
       "a:visited.sk-estimator-doc-link {\n",
       "  float: right;\n",
       "  font-size: smaller;\n",
       "  line-height: 1em;\n",
       "  font-family: monospace;\n",
       "  background-color: var(--sklearn-color-background);\n",
       "  border-radius: 1em;\n",
       "  height: 1em;\n",
       "  width: 1em;\n",
       "  text-decoration: none !important;\n",
       "  margin-left: 1ex;\n",
       "  /* unfitted */\n",
       "  border: var(--sklearn-color-unfitted-level-1) 1pt solid;\n",
       "  color: var(--sklearn-color-unfitted-level-1);\n",
       "}\n",
       "\n",
       ".sk-estimator-doc-link.fitted,\n",
       "a:link.sk-estimator-doc-link.fitted,\n",
       "a:visited.sk-estimator-doc-link.fitted {\n",
       "  /* fitted */\n",
       "  border: var(--sklearn-color-fitted-level-1) 1pt solid;\n",
       "  color: var(--sklearn-color-fitted-level-1);\n",
       "}\n",
       "\n",
       "/* On hover */\n",
       "div.sk-estimator:hover .sk-estimator-doc-link:hover,\n",
       ".sk-estimator-doc-link:hover,\n",
       "div.sk-label-container:hover .sk-estimator-doc-link:hover,\n",
       ".sk-estimator-doc-link:hover {\n",
       "  /* unfitted */\n",
       "  background-color: var(--sklearn-color-unfitted-level-3);\n",
       "  color: var(--sklearn-color-background);\n",
       "  text-decoration: none;\n",
       "}\n",
       "\n",
       "div.sk-estimator.fitted:hover .sk-estimator-doc-link.fitted:hover,\n",
       ".sk-estimator-doc-link.fitted:hover,\n",
       "div.sk-label-container:hover .sk-estimator-doc-link.fitted:hover,\n",
       ".sk-estimator-doc-link.fitted:hover {\n",
       "  /* fitted */\n",
       "  background-color: var(--sklearn-color-fitted-level-3);\n",
       "  color: var(--sklearn-color-background);\n",
       "  text-decoration: none;\n",
       "}\n",
       "\n",
       "/* Span, style for the box shown on hovering the info icon */\n",
       ".sk-estimator-doc-link span {\n",
       "  display: none;\n",
       "  z-index: 9999;\n",
       "  position: relative;\n",
       "  font-weight: normal;\n",
       "  right: .2ex;\n",
       "  padding: .5ex;\n",
       "  margin: .5ex;\n",
       "  width: min-content;\n",
       "  min-width: 20ex;\n",
       "  max-width: 50ex;\n",
       "  color: var(--sklearn-color-text);\n",
       "  box-shadow: 2pt 2pt 4pt #999;\n",
       "  /* unfitted */\n",
       "  background: var(--sklearn-color-unfitted-level-0);\n",
       "  border: .5pt solid var(--sklearn-color-unfitted-level-3);\n",
       "}\n",
       "\n",
       ".sk-estimator-doc-link.fitted span {\n",
       "  /* fitted */\n",
       "  background: var(--sklearn-color-fitted-level-0);\n",
       "  border: var(--sklearn-color-fitted-level-3);\n",
       "}\n",
       "\n",
       ".sk-estimator-doc-link:hover span {\n",
       "  display: block;\n",
       "}\n",
       "\n",
       "/* \"?\"-specific style due to the `<a>` HTML tag */\n",
       "\n",
       "#sk-container-id-19 a.estimator_doc_link {\n",
       "  float: right;\n",
       "  font-size: 1rem;\n",
       "  line-height: 1em;\n",
       "  font-family: monospace;\n",
       "  background-color: var(--sklearn-color-background);\n",
       "  border-radius: 1rem;\n",
       "  height: 1rem;\n",
       "  width: 1rem;\n",
       "  text-decoration: none;\n",
       "  /* unfitted */\n",
       "  color: var(--sklearn-color-unfitted-level-1);\n",
       "  border: var(--sklearn-color-unfitted-level-1) 1pt solid;\n",
       "}\n",
       "\n",
       "#sk-container-id-19 a.estimator_doc_link.fitted {\n",
       "  /* fitted */\n",
       "  border: var(--sklearn-color-fitted-level-1) 1pt solid;\n",
       "  color: var(--sklearn-color-fitted-level-1);\n",
       "}\n",
       "\n",
       "/* On hover */\n",
       "#sk-container-id-19 a.estimator_doc_link:hover {\n",
       "  /* unfitted */\n",
       "  background-color: var(--sklearn-color-unfitted-level-3);\n",
       "  color: var(--sklearn-color-background);\n",
       "  text-decoration: none;\n",
       "}\n",
       "\n",
       "#sk-container-id-19 a.estimator_doc_link.fitted:hover {\n",
       "  /* fitted */\n",
       "  background-color: var(--sklearn-color-fitted-level-3);\n",
       "}\n",
       "</style><div id=\"sk-container-id-19\" class=\"sk-top-container\"><div class=\"sk-text-repr-fallback\"><pre>LinearRegression(n_jobs=-1)</pre><b>In a Jupyter environment, please rerun this cell to show the HTML representation or trust the notebook. <br />On GitHub, the HTML representation is unable to render, please try loading this page with nbviewer.org.</b></div><div class=\"sk-container\" hidden><div class=\"sk-item\"><div class=\"sk-estimator fitted sk-toggleable\"><input class=\"sk-toggleable__control sk-hidden--visually\" id=\"sk-estimator-id-19\" type=\"checkbox\" checked><label for=\"sk-estimator-id-19\" class=\"sk-toggleable__label fitted sk-toggleable__label-arrow fitted\">&nbsp;&nbsp;LinearRegression<a class=\"sk-estimator-doc-link fitted\" rel=\"noreferrer\" target=\"_blank\" href=\"https://scikit-learn.org/1.4/modules/generated/sklearn.linear_model.LinearRegression.html\">?<span>Documentation for LinearRegression</span></a><span class=\"sk-estimator-doc-link fitted\">i<span>Fitted</span></span></label><div class=\"sk-toggleable__content fitted\"><pre>LinearRegression(n_jobs=-1)</pre></div> </div></div></div></div>"
      ],
      "text/plain": [
       "LinearRegression(n_jobs=-1)"
      ]
     },
     "execution_count": 76,
     "metadata": {},
     "output_type": "execute_result"
    }
   ],
   "source": [
    "ignore1 = ignore  + ['engine','max_power2','seats2','mileage','max_power','torque2','registration','kms_driven2','insurance_validity_Third Party insurance','insurance_validity_Zero Dep','kms_driven','torque','transmission_Manual','fuel_type_Petrol','insurance_validity_Third Party','seats']\n",
    "x_train2 = x_train.drop(ignore1,axis=1)\n",
    "x_test2 = x_test.drop(ignore1,axis=1)\n",
    "my_linear_regrassion(x_train2, y_train, x_test2, y_test,use_plot=False,resid_test=False)\n"
   ]
  },
  {
   "cell_type": "markdown",
   "metadata": {},
   "source": [
    "> registration2, engine2, brand_value, mileage2 \n",
    ">\n",
    "> 연식, 엔진, 브랜드, 연비로 예측"
   ]
  }
 ],
 "metadata": {
  "kernelspec": {
   "display_name": "Python 3",
   "language": "python",
   "name": "python3"
  },
  "language_info": {
   "codemirror_mode": {
    "name": "ipython",
    "version": 3
   },
   "file_extension": ".py",
   "mimetype": "text/x-python",
   "name": "python",
   "nbconvert_exporter": "python",
   "pygments_lexer": "ipython3",
   "version": "3.11.7"
  }
 },
 "nbformat": 4,
 "nbformat_minor": 2
}
