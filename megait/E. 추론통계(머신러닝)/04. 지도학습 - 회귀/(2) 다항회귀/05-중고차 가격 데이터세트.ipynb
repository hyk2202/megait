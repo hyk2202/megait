{
 "cells": [
  {
   "cell_type": "code",
   "execution_count": 364,
   "metadata": {},
   "outputs": [],
   "source": [
    "import sys\n",
    "import os\n",
    "work_path = os.path.abspath(os.path.join(os.getcwd(), \"../../..\"))\n",
    "sys.path.append(work_path)\n",
    "\n",
    "from helper.regrassion import *\n",
    "from helper.util import *\n",
    "from helper.plot import *\n",
    "from helper.analysis import *\n"
   ]
  },
  {
   "cell_type": "markdown",
   "metadata": {},
   "source": [
    "### [2] 데이터 가져오기\n",
    "\n",
    "| 변수명 | 설명 |\n",
    "|:--:|--:|\n",
    "| car_name | Name of the car |\n",
    "| registration_year | Vehicle registration year |\n",
    "| insurance_validity | Type of insurance |\n",
    "| fuel_type | Type of fuel |\n",
    "| seats | Number of seats in the car |\n",
    "| kms_driven | Total kms driven |\n",
    "| ownsership | Number of ownership |\n",
    "| transmission | Transmission mode |\n",
    "| manufacturing_year | manufacturing year |\n",
    "| mileage(kmpl) | Mileage of the car |\n",
    "| engine(cc) | Engine capacity |\n",
    "| max_power(bhp) | max power |\n",
    "| torque(Nm) | torque |\n",
    "| price(in lakhs) | Price of the used car |"
   ]
  },
  {
   "cell_type": "code",
   "execution_count": 365,
   "metadata": {},
   "outputs": [],
   "source": [
    "origin = my_read_data(\"./res/Used_Car_Dataset.csv\",info= False).drop('Unnamed: 0',axis=1)\n",
    "df = origin.copy()\n"
   ]
  },
  {
   "cell_type": "code",
   "execution_count": 366,
   "metadata": {},
   "outputs": [
    {
     "data": {
      "text/plain": [
       "Index(['car_name', 'registration_year', 'insurance_validity', 'fuel_type',\n",
       "       'seats', 'kms_driven', 'ownsership', 'transmission',\n",
       "       'manufacturing_year', 'mileage(kmpl)', 'engine(cc)', 'max_power(bhp)',\n",
       "       'torque(Nm)', 'price(in lakhs)'],\n",
       "      dtype='object')"
      ]
     },
     "execution_count": 366,
     "metadata": {},
     "output_type": "execute_result"
    }
   ],
   "source": [
    "origin.columns"
   ]
  },
  {
   "cell_type": "code",
   "execution_count": 367,
   "metadata": {},
   "outputs": [],
   "source": [
    "A = []\n",
    "A_ = []\n",
    "for i in origin['registration_year'].unique():\n",
    "    try : \n",
    "        int(i)\n",
    "        A.append(i)\n",
    "    except:A_.append(i)\n",
    "# A, A_"
   ]
  },
  {
   "cell_type": "code",
   "execution_count": 368,
   "metadata": {},
   "outputs": [],
   "source": [
    "origin['registration_year'].unique()\n",
    "\n",
    "map_registration_year = {a:None for a in A}\n",
    "for i in A_:\n",
    "    map_registration_year[i] = i\n",
    "map_registration_year['Third Party insurance'] = None\n",
    "df['registration_year'] = df['registration_year'].map(map_registration_year)\n",
    "# df['registration_year']"
   ]
  },
  {
   "cell_type": "code",
   "execution_count": 369,
   "metadata": {},
   "outputs": [],
   "source": [
    "month_dict = {'Apr':4,\n",
    " 'Aug':8,\n",
    " 'Feb':2,\n",
    " 'Dec':12,\n",
    " 'Jan':1,\n",
    " 'Jul':7,\n",
    " 'Jun':6,\n",
    " 'Mar':3,\n",
    " 'May':5,\n",
    " 'Nov':11,\n",
    " 'Oct':10,\n",
    " 'Sep':9}"
   ]
  },
  {
   "cell_type": "code",
   "execution_count": 370,
   "metadata": {},
   "outputs": [],
   "source": [
    "month = []\n",
    "year = []\n",
    "for i in df['registration_year']:\n",
    "    if i:\n",
    "        try:\n",
    "            month.append(month_dict[i[:3]])\n",
    "            year.append(int(i[-2:]))\n",
    "        except : print(i)\n",
    "    else:\n",
    "        month.append(None)\n",
    "        year.append(None)\n",
    "    "
   ]
  },
  {
   "cell_type": "code",
   "execution_count": 371,
   "metadata": {},
   "outputs": [],
   "source": [
    "df['month']=month\n",
    "df['year']=year"
   ]
  },
  {
   "cell_type": "code",
   "execution_count": 373,
   "metadata": {},
   "outputs": [
    {
     "data": {
      "text/plain": [
       "0               Comprehensive\n",
       "1               Comprehensive\n",
       "2               Comprehensive\n",
       "3               Comprehensive\n",
       "4               Comprehensive\n",
       "                ...          \n",
       "1548            Comprehensive\n",
       "1549    Third Party insurance\n",
       "1550            Comprehensive\n",
       "1551            Comprehensive\n",
       "1552            Comprehensive\n",
       "Name: insurance_validity, Length: 1553, dtype: object"
      ]
     },
     "execution_count": 373,
     "metadata": {},
     "output_type": "execute_result"
    }
   ],
   "source": [
    "origin['insurance_validity'].value_counts()\n",
    "map_insurance_validity = {a:a for a in origin['insurance_validity'].unique()}\n",
    "map_insurance_validity['Petrol'] = None\n",
    "map_insurance_validity['Not Available'] = None\n",
    "map_insurance_validity['Third Party'] = 'Third Party insurance'\n",
    "df['insurance_validity'] = df['insurance_validity'].map(map_insurance_validity)\n",
    "df['insurance_validity']"
   ]
  },
  {
   "cell_type": "code",
   "execution_count": 374,
   "metadata": {},
   "outputs": [
    {
     "data": {
      "text/plain": [
       "0       Petrol\n",
       "1       Petrol\n",
       "2       Diesel\n",
       "3       Petrol\n",
       "4       Petrol\n",
       "         ...  \n",
       "1548    Diesel\n",
       "1549    Petrol\n",
       "1550    Petrol\n",
       "1551    Petrol\n",
       "1552    Petrol\n",
       "Name: fuel_type, Length: 1553, dtype: object"
      ]
     },
     "execution_count": 374,
     "metadata": {},
     "output_type": "execute_result"
    }
   ],
   "source": [
    "origin['fuel_type'].value_counts()\n",
    "map_fuel_type = {a:a for a in origin['fuel_type'].unique()}\n",
    "map_fuel_type['CNG'] = None\n",
    "map_fuel_type['5 Seats'] = None\n",
    "df['fuel_type'] = df['fuel_type'].map(map_fuel_type)\n",
    "df['fuel_type']"
   ]
  },
  {
   "cell_type": "code",
   "execution_count": 375,
   "metadata": {},
   "outputs": [
    {
     "data": {
      "text/plain": [
       "0       5.0\n",
       "1       5.0\n",
       "2       5.0\n",
       "3       5.0\n",
       "4       5.0\n",
       "       ... \n",
       "1548    5.0\n",
       "1549    5.0\n",
       "1550    5.0\n",
       "1551    5.0\n",
       "1552    5.0\n",
       "Name: seats, Length: 1553, dtype: float64"
      ]
     },
     "execution_count": 375,
     "metadata": {},
     "output_type": "execute_result"
    }
   ],
   "source": [
    "origin['seats'].value_counts()\n",
    "map_seats = {a:a if a<10 else None for a in origin['seats'].unique()}\n",
    "df['seats'] = df['seats'].map(map_seats)\n",
    "df['seats']"
   ]
  },
  {
   "cell_type": "code",
   "execution_count": 376,
   "metadata": {},
   "outputs": [
    {
     "data": {
      "text/plain": [
       "0        First Owner\n",
       "1        First Owner\n",
       "2        First Owner\n",
       "3        First Owner\n",
       "4        First Owner\n",
       "            ...     \n",
       "1548     First Owner\n",
       "1549            None\n",
       "1550     First Owner\n",
       "1551    Second Owner\n",
       "1552     First Owner\n",
       "Name: ownsership, Length: 1553, dtype: object"
      ]
     },
     "execution_count": 376,
     "metadata": {},
     "output_type": "execute_result"
    }
   ],
   "source": [
    "origin['ownsership'].value_counts()\n",
    "map_ownsership = {a:a if \"Owner\" in a else None for a in origin['ownsership'].unique()}\n",
    "df['ownsership'] = df['ownsership'].map(map_ownsership)\n",
    "df['ownsership']\n"
   ]
  },
  {
   "cell_type": "code",
   "execution_count": 377,
   "metadata": {},
   "outputs": [
    {
     "data": {
      "text/plain": [
       "Manual                 835\n",
       "Automatic              668\n",
       "2017                    28\n",
       "2014                     5\n",
       "2011                     3\n",
       "2023                     2\n",
       "2020                     2\n",
       "2021                     2\n",
       "2022                     2\n",
       "Power Windows Front      2\n",
       "2018                     2\n",
       "2015                     1\n",
       "2016                     1\n",
       "Name: transmission, dtype: int64"
      ]
     },
     "execution_count": 377,
     "metadata": {},
     "output_type": "execute_result"
    }
   ],
   "source": [
    "A = []\n",
    "A_ = []\n",
    "for i in origin['transmission'].unique():\n",
    "    try : \n",
    "        int(i)\n",
    "        A.append(i)\n",
    "    except:A_.append(i)\n",
    "origin['transmission'].value_counts()"
   ]
  },
  {
   "cell_type": "code",
   "execution_count": 378,
   "metadata": {},
   "outputs": [
    {
     "data": {
      "text/plain": [
       "0       Automatic\n",
       "1       Automatic\n",
       "2       Automatic\n",
       "3          Manual\n",
       "4       Automatic\n",
       "          ...    \n",
       "1548    Automatic\n",
       "1549         None\n",
       "1550       Manual\n",
       "1551       Manual\n",
       "1552       Manual\n",
       "Name: transmission, Length: 1553, dtype: object"
      ]
     },
     "execution_count": 378,
     "metadata": {},
     "output_type": "execute_result"
    }
   ],
   "source": [
    "map_transmission = {a:None for a in A}\n",
    "for i in A_:\n",
    "    map_transmission[i] = i\n",
    "map_transmission['Power Windows Front']=None\n",
    "df['transmission'] = df['transmission'].map(map_transmission)\n",
    "df['transmission']"
   ]
  },
  {
   "cell_type": "code",
   "execution_count": 379,
   "metadata": {},
   "outputs": [
    {
     "data": {
      "text/plain": [
       "(['2017',\n",
       "  '2020',\n",
       "  '2018',\n",
       "  '2019',\n",
       "  '2015',\n",
       "  '2021',\n",
       "  '2014',\n",
       "  '2022',\n",
       "  '2010',\n",
       "  '2011',\n",
       "  '2023',\n",
       "  '2016',\n",
       "  '2009',\n",
       "  '2013',\n",
       "  '2012',\n",
       "  '2007'],\n",
       " ['Power Steering', 'Power Windows Front', 'Air Conditioner'])"
      ]
     },
     "execution_count": 379,
     "metadata": {},
     "output_type": "execute_result"
    }
   ],
   "source": [
    "origin['manufacturing_year'].value_counts()\n",
    "A = []\n",
    "A_ = []\n",
    "for i in origin['manufacturing_year'].unique():\n",
    "    try : \n",
    "        int(i)\n",
    "        A.append(i)\n",
    "    except:A_.append(i)\n",
    "A, A_"
   ]
  },
  {
   "cell_type": "code",
   "execution_count": 380,
   "metadata": {},
   "outputs": [
    {
     "data": {
      "text/plain": [
       "0       2017\n",
       "1       2020\n",
       "2       2018\n",
       "3       2019\n",
       "4       2019\n",
       "        ... \n",
       "1548    2020\n",
       "1549    None\n",
       "1550    2017\n",
       "1551    2018\n",
       "1552    2018\n",
       "Name: manufacturing_year, Length: 1553, dtype: object"
      ]
     },
     "execution_count": 380,
     "metadata": {},
     "output_type": "execute_result"
    }
   ],
   "source": [
    "map_manufacturing_year = {a:a for a in A}\n",
    "for i in A_:\n",
    "    map_manufacturing_year[i] = None\n",
    "df['manufacturing_year'] = df['manufacturing_year'].map(map_manufacturing_year)\n",
    "df['manufacturing_year']"
   ]
  },
  {
   "cell_type": "code",
   "execution_count": 381,
   "metadata": {},
   "outputs": [],
   "source": [
    "for i,v in enumerate(origin['mileage(kmpl)']):\n",
    "    if v>40 : df['mileage(kmpl)'][i] = None\n"
   ]
  },
  {
   "cell_type": "code",
   "execution_count": 382,
   "metadata": {},
   "outputs": [],
   "source": [
    "max = 13519\n",
    "min = 352\n",
    "\n",
    "for i,v in enumerate(origin['engine(cc)']):\n",
    "    if v < min or v > max : df['engine(cc)'][i] = None\n"
   ]
  },
  {
   "cell_type": "code",
   "execution_count": 383,
   "metadata": {},
   "outputs": [
    {
     "data": {
      "text/plain": [
       "car_name               object\n",
       "registration_year      object\n",
       "insurance_validity     object\n",
       "fuel_type              object\n",
       "seats                 float64\n",
       "kms_driven              int64\n",
       "ownsership             object\n",
       "transmission           object\n",
       "manufacturing_year     object\n",
       "mileage(kmpl)         float64\n",
       "engine(cc)            float64\n",
       "max_power(bhp)        float64\n",
       "torque(Nm)            float64\n",
       "price(in lakhs)       float64\n",
       "month                 float64\n",
       "year                  float64\n",
       "dtype: object"
      ]
     },
     "execution_count": 383,
     "metadata": {},
     "output_type": "execute_result"
    }
   ],
   "source": [
    "df.dtypes"
   ]
  },
  {
   "cell_type": "code",
   "execution_count": 392,
   "metadata": {},
   "outputs": [
    {
     "data": {
      "text/plain": [
       "registration_year     category\n",
       "insurance_validity    category\n",
       "fuel_type             category\n",
       "seats                  float64\n",
       "kms_driven               int64\n",
       "ownsership            category\n",
       "transmission          category\n",
       "manufacturing_year    category\n",
       "mileage(kmpl)          float64\n",
       "engine(cc)             float64\n",
       "max_power(bhp)         float64\n",
       "torque(Nm)             float64\n",
       "month                  float64\n",
       "year                   float64\n",
       "price                  float64\n",
       "dtype: object"
      ]
     },
     "execution_count": 392,
     "metadata": {},
     "output_type": "execute_result"
    }
   ],
   "source": [
    "df2 = my_set_category(df.dropna().drop('car_name',axis=1))\n",
    "df2['price'] = df2['price(in lakhs)']\n",
    "df2.drop('price(in lakhs)',axis=1,inplace=True)\n",
    "\n",
    "df2.dtypes"
   ]
  },
  {
   "cell_type": "code",
   "execution_count": 406,
   "metadata": {},
   "outputs": [],
   "source": [
    "import numpy as np\n",
    "a = (np.array(df2['year']) - int(df2['year'].min())) *12 + df2['month']\n",
    "a\n",
    "df2['registration'] = a\n",
    "df3 =df2.drop(['year','month','manufacturing_year','registration_year'],axis=1)\n",
    "df3.head()\n",
    "categories = [x for x in df3.columns if df3[x].dtypes == 'category']"
   ]
  },
  {
   "cell_type": "code",
   "execution_count": 407,
   "metadata": {},
   "outputs": [
    {
     "name": "stdout",
     "output_type": "stream",
     "text": [
      "pingouin.anova\n",
      "+----+--------------------+-------------+------+-------------+----------+----------+-------------+\n",
      "|    | Source             |          SS |   DF |          MS |        F |    p-unc |         np2 |\n",
      "|----+--------------------+-------------+------+-------------+----------+----------+-------------|\n",
      "|  0 | insurance_validity |  1.9494e+06 |    2 |      974700 | 0.132581 | 0.875844 | 0.000216236 |\n",
      "|  1 | Within             | 9.01321e+09 | 1226 | 7.35172e+06 |      nan |      nan |         nan |\n",
      "+----+--------------------+-------------+------+-------------+----------+----------+-------------+\n",
      "\n",
      "statsmodels.anova.anova_lm\n",
      "+-----------------------+------+-------------+-------------+----------+----------+\n",
      "|                       |   df |      sum_sq |     mean_sq |        F |   PR(>F) |\n",
      "|-----------------------+------+-------------+-------------+----------+----------|\n",
      "| C(insurance_validity) |    2 |  1.9494e+06 |      974700 | 0.132581 | 0.875844 |\n",
      "| Residual              | 1226 | 9.01321e+09 | 7.35172e+06 |      nan |      nan |\n",
      "+-----------------------+------+-------------+-------------+----------+----------+\n",
      "[anova_lm] statistic: 0.133, p-value: 0.876, 귀무가설 채택\n",
      "pingouin.anova\n",
      "+----+-----------+-------------+------+-------------+----------+----------+-------------+\n",
      "|    | Source    |          SS |   DF |          MS |        F |    p-unc |         np2 |\n",
      "|----+-----------+-------------+------+-------------+----------+----------+-------------|\n",
      "|  0 | fuel_type | 3.14939e+06 |    1 | 3.14939e+06 | 0.428795 | 0.512704 | 0.000349344 |\n",
      "|  1 | Within    | 9.01201e+09 | 1227 | 7.34475e+06 |      nan |      nan |         nan |\n",
      "+----+-----------+-------------+------+-------------+----------+----------+-------------+\n",
      "\n",
      "statsmodels.anova.anova_lm\n",
      "+--------------+------+-------------+-------------+----------+----------+\n",
      "|              |   df |      sum_sq |     mean_sq |        F |   PR(>F) |\n",
      "|--------------+------+-------------+-------------+----------+----------|\n",
      "| C(fuel_type) |    1 | 3.14939e+06 | 3.14939e+06 | 0.428795 | 0.512704 |\n",
      "| Residual     | 1227 | 9.01201e+09 | 7.34475e+06 |      nan |      nan |\n",
      "+--------------+------+-------------+-------------+----------+----------+\n",
      "[anova_lm] statistic: 0.429, p-value: 0.513, 귀무가설 채택\n",
      "pingouin.anova\n",
      "+----+------------+-------------+------+-------------+---------+-------------+-----------+\n",
      "|    | Source     |          SS |   DF |          MS |       F |       p-unc |       np2 |\n",
      "|----+------------+-------------+------+-------------+---------+-------------+-----------|\n",
      "|  0 | ownsership | 8.11251e+08 |    2 | 4.05626e+08 | 60.6171 | 7.87104e-26 | 0.0899875 |\n",
      "|  1 | Within     | 8.20391e+09 | 1226 |  6.6916e+06 |     nan |         nan |       nan |\n",
      "+----+------------+-------------+------+-------------+---------+-------------+-----------+\n",
      "\n",
      "statsmodels.anova.anova_lm\n",
      "+---------------+------+-------------+-------------+---------+-------------+\n",
      "|               |   df |      sum_sq |     mean_sq |       F |      PR(>F) |\n",
      "|---------------+------+-------------+-------------+---------+-------------|\n",
      "| C(ownsership) |    2 | 8.11251e+08 | 4.05626e+08 | 60.6171 | 7.87104e-26 |\n",
      "| Residual      | 1226 | 8.20391e+09 |  6.6916e+06 |     nan |         nan |\n",
      "+---------------+------+-------------+-------------+---------+-------------+\n",
      "[anova_lm] statistic: 60.617, p-value: 0.000, 대립가설 채택\n",
      "pingouin.anova\n",
      "+----+--------------+-------------+------+-------------+----------+----------+-------------+\n",
      "|    | Source       |          SS |   DF |          MS |        F |    p-unc |         np2 |\n",
      "|----+--------------+-------------+------+-------------+----------+----------+-------------|\n",
      "|  0 | transmission | 4.63377e+06 |    1 | 4.63377e+06 | 0.630999 | 0.427143 | 0.000513997 |\n",
      "|  1 | Within       | 9.01052e+09 | 1227 | 7.34354e+06 |      nan |      nan |         nan |\n",
      "+----+--------------+-------------+------+-------------+----------+----------+-------------+\n",
      "\n",
      "statsmodels.anova.anova_lm\n",
      "+-----------------+------+-------------+-------------+----------+----------+\n",
      "|                 |   df |      sum_sq |     mean_sq |        F |   PR(>F) |\n",
      "|-----------------+------+-------------+-------------+----------+----------|\n",
      "| C(transmission) |    1 | 4.63377e+06 | 4.63377e+06 | 0.630999 | 0.427143 |\n",
      "| Residual        | 1227 | 9.01052e+09 | 7.34354e+06 |      nan |      nan |\n",
      "+-----------------+------+-------------+-------------+----------+----------+\n",
      "[anova_lm] statistic: 0.631, p-value: 0.427, 귀무가설 채택\n"
     ]
    }
   ],
   "source": [
    "for c in categories:\n",
    "    tmp = df3[[c, 'price']]\n",
    "    my_anova(tmp, hue=c, target='price')"
   ]
  },
  {
   "cell_type": "markdown",
   "metadata": {},
   "source": [
    "> insurance_validity, fuel_type, transmission 은 제외한다."
   ]
  },
  {
   "cell_type": "code",
   "execution_count": 408,
   "metadata": {},
   "outputs": [
    {
     "data": {
      "text/html": [
       "<div>\n",
       "<style scoped>\n",
       "    .dataframe tbody tr th:only-of-type {\n",
       "        vertical-align: middle;\n",
       "    }\n",
       "\n",
       "    .dataframe tbody tr th {\n",
       "        vertical-align: top;\n",
       "    }\n",
       "\n",
       "    .dataframe thead th {\n",
       "        text-align: right;\n",
       "    }\n",
       "</style>\n",
       "<table border=\"1\" class=\"dataframe\">\n",
       "  <thead>\n",
       "    <tr style=\"text-align: right;\">\n",
       "      <th></th>\n",
       "      <th>seats</th>\n",
       "      <th>kms_driven</th>\n",
       "      <th>mileage(kmpl)</th>\n",
       "      <th>engine(cc)</th>\n",
       "      <th>max_power(bhp)</th>\n",
       "      <th>torque(Nm)</th>\n",
       "      <th>registration</th>\n",
       "      <th>ownsership</th>\n",
       "      <th>price</th>\n",
       "    </tr>\n",
       "  </thead>\n",
       "  <tbody>\n",
       "    <tr>\n",
       "      <th>0</th>\n",
       "      <td>-0.304662</td>\n",
       "      <td>0.079384</td>\n",
       "      <td>-2.752291</td>\n",
       "      <td>2.295431</td>\n",
       "      <td>2.295431</td>\n",
       "      <td>-0.160540</td>\n",
       "      <td>-0.239943</td>\n",
       "      <td>First Owner</td>\n",
       "      <td>63.75</td>\n",
       "    </tr>\n",
       "    <tr>\n",
       "      <th>1</th>\n",
       "      <td>-0.304662</td>\n",
       "      <td>-0.532133</td>\n",
       "      <td>-0.173507</td>\n",
       "      <td>-1.028274</td>\n",
       "      <td>-1.028274</td>\n",
       "      <td>-0.052568</td>\n",
       "      <td>1.030093</td>\n",
       "      <td>First Owner</td>\n",
       "      <td>8.99</td>\n",
       "    </tr>\n",
       "    <tr>\n",
       "      <th>2</th>\n",
       "      <td>-0.304662</td>\n",
       "      <td>-0.691486</td>\n",
       "      <td>0.708496</td>\n",
       "      <td>0.629418</td>\n",
       "      <td>0.629418</td>\n",
       "      <td>-0.162183</td>\n",
       "      <td>0.183402</td>\n",
       "      <td>First Owner</td>\n",
       "      <td>23.75</td>\n",
       "    </tr>\n",
       "    <tr>\n",
       "      <th>3</th>\n",
       "      <td>-0.304662</td>\n",
       "      <td>-0.826919</td>\n",
       "      <td>-0.415520</td>\n",
       "      <td>-0.439094</td>\n",
       "      <td>-0.439094</td>\n",
       "      <td>-0.007872</td>\n",
       "      <td>0.636986</td>\n",
       "      <td>First Owner</td>\n",
       "      <td>13.56</td>\n",
       "    </tr>\n",
       "    <tr>\n",
       "      <th>4</th>\n",
       "      <td>-0.304662</td>\n",
       "      <td>-0.188012</td>\n",
       "      <td>-0.907614</td>\n",
       "      <td>0.301541</td>\n",
       "      <td>0.301541</td>\n",
       "      <td>0.036745</td>\n",
       "      <td>0.516031</td>\n",
       "      <td>First Owner</td>\n",
       "      <td>24.00</td>\n",
       "    </tr>\n",
       "    <tr>\n",
       "      <th>...</th>\n",
       "      <td>...</td>\n",
       "      <td>...</td>\n",
       "      <td>...</td>\n",
       "      <td>...</td>\n",
       "      <td>...</td>\n",
       "      <td>...</td>\n",
       "      <td>...</td>\n",
       "      <td>...</td>\n",
       "      <td>...</td>\n",
       "    </tr>\n",
       "    <tr>\n",
       "      <th>1544</th>\n",
       "      <td>-0.304662</td>\n",
       "      <td>-0.564967</td>\n",
       "      <td>-0.872656</td>\n",
       "      <td>-0.042979</td>\n",
       "      <td>-0.042979</td>\n",
       "      <td>-0.150570</td>\n",
       "      <td>0.274119</td>\n",
       "      <td>First Owner</td>\n",
       "      <td>11.05</td>\n",
       "    </tr>\n",
       "    <tr>\n",
       "      <th>1546</th>\n",
       "      <td>-0.304662</td>\n",
       "      <td>-0.801191</td>\n",
       "      <td>0.041615</td>\n",
       "      <td>-0.695404</td>\n",
       "      <td>-0.695404</td>\n",
       "      <td>-0.154263</td>\n",
       "      <td>0.062446</td>\n",
       "      <td>First Owner</td>\n",
       "      <td>6.50</td>\n",
       "    </tr>\n",
       "    <tr>\n",
       "      <th>1550</th>\n",
       "      <td>-0.304662</td>\n",
       "      <td>-0.089244</td>\n",
       "      <td>-0.146617</td>\n",
       "      <td>-0.695404</td>\n",
       "      <td>-0.695404</td>\n",
       "      <td>-0.154263</td>\n",
       "      <td>-0.270182</td>\n",
       "      <td>First Owner</td>\n",
       "      <td>5.85</td>\n",
       "    </tr>\n",
       "    <tr>\n",
       "      <th>1551</th>\n",
       "      <td>-0.304662</td>\n",
       "      <td>-0.306051</td>\n",
       "      <td>0.197579</td>\n",
       "      <td>-1.028274</td>\n",
       "      <td>-1.028274</td>\n",
       "      <td>-0.163463</td>\n",
       "      <td>0.062446</td>\n",
       "      <td>Second Owner</td>\n",
       "      <td>4.75</td>\n",
       "    </tr>\n",
       "    <tr>\n",
       "      <th>1552</th>\n",
       "      <td>-0.304662</td>\n",
       "      <td>-0.432378</td>\n",
       "      <td>0.754210</td>\n",
       "      <td>-0.698733</td>\n",
       "      <td>-0.698733</td>\n",
       "      <td>-0.070117</td>\n",
       "      <td>0.062446</td>\n",
       "      <td>First Owner</td>\n",
       "      <td>6.10</td>\n",
       "    </tr>\n",
       "  </tbody>\n",
       "</table>\n",
       "<p>1229 rows × 9 columns</p>\n",
       "</div>"
      ],
      "text/plain": [
       "         seats  kms_driven  mileage(kmpl)  engine(cc)  max_power(bhp)  \\\n",
       "0    -0.304662    0.079384      -2.752291    2.295431        2.295431   \n",
       "1    -0.304662   -0.532133      -0.173507   -1.028274       -1.028274   \n",
       "2    -0.304662   -0.691486       0.708496    0.629418        0.629418   \n",
       "3    -0.304662   -0.826919      -0.415520   -0.439094       -0.439094   \n",
       "4    -0.304662   -0.188012      -0.907614    0.301541        0.301541   \n",
       "...        ...         ...            ...         ...             ...   \n",
       "1544 -0.304662   -0.564967      -0.872656   -0.042979       -0.042979   \n",
       "1546 -0.304662   -0.801191       0.041615   -0.695404       -0.695404   \n",
       "1550 -0.304662   -0.089244      -0.146617   -0.695404       -0.695404   \n",
       "1551 -0.304662   -0.306051       0.197579   -1.028274       -1.028274   \n",
       "1552 -0.304662   -0.432378       0.754210   -0.698733       -0.698733   \n",
       "\n",
       "      torque(Nm)  registration    ownsership  price  \n",
       "0      -0.160540     -0.239943   First Owner  63.75  \n",
       "1      -0.052568      1.030093   First Owner   8.99  \n",
       "2      -0.162183      0.183402   First Owner  23.75  \n",
       "3      -0.007872      0.636986   First Owner  13.56  \n",
       "4       0.036745      0.516031   First Owner  24.00  \n",
       "...          ...           ...           ...    ...  \n",
       "1544   -0.150570      0.274119   First Owner  11.05  \n",
       "1546   -0.154263      0.062446   First Owner   6.50  \n",
       "1550   -0.154263     -0.270182   First Owner   5.85  \n",
       "1551   -0.163463      0.062446  Second Owner   4.75  \n",
       "1552   -0.070117      0.062446   First Owner   6.10  \n",
       "\n",
       "[1229 rows x 9 columns]"
      ]
     },
     "execution_count": 408,
     "metadata": {},
     "output_type": "execute_result"
    }
   ],
   "source": [
    "df4=my_standard_scaler(df3.drop(['insurance_validity','fuel_type','transmission'],axis=1),'price')\n",
    "df4"
   ]
  },
  {
   "cell_type": "code",
   "execution_count": 409,
   "metadata": {},
   "outputs": [
    {
     "name": "stdout",
     "output_type": "stream",
     "text": [
      "+----+-----------+--------------+-----------------+--------------+------------------+--------------+----------------+---------+---------------------------+--------------------------+\n",
      "|    |     seats |   kms_driven |   mileage(kmpl) |   engine(cc) |   max_power(bhp) |   torque(Nm) |   registration |   price |   ownsership_Second Owner |   ownsership_Third Owner |\n",
      "|----+-----------+--------------+-----------------+--------------+------------------+--------------+----------------+---------+---------------------------+--------------------------|\n",
      "|  0 | -0.304662 |    0.0793838 |        -2.75229 |      2.29543 |          2.29543 |     -0.16054 |      -0.239943 |   63.75 |                         0 |                        0 |\n",
      "|  1 | -0.304662 |    -0.532133 |       -0.173507 |     -1.02827 |         -1.02827 |   -0.0525676 |        1.03009 |    8.99 |                         0 |                        0 |\n",
      "|  2 | -0.304662 |    -0.691486 |        0.708496 |     0.629418 |         0.629418 |    -0.162183 |       0.183402 |   23.75 |                         0 |                        0 |\n",
      "|  3 | -0.304662 |    -0.826919 |        -0.41552 |    -0.439094 |        -0.439094 |   -0.0078718 |       0.636986 |   13.56 |                         0 |                        0 |\n",
      "|  4 | -0.304662 |    -0.188012 |       -0.907614 |     0.301541 |         0.301541 |    0.0367447 |       0.516031 |      24 |                         0 |                        0 |\n",
      "+----+-----------+--------------+-----------------+--------------+------------------+--------------+----------------+---------+---------------------------+--------------------------+\n"
     ]
    }
   ],
   "source": [
    "dummy_df = my_dummies(df4)\n",
    "my_pretty_table(dummy_df.head())"
   ]
  },
  {
   "cell_type": "code",
   "execution_count": 410,
   "metadata": {},
   "outputs": [
    {
     "data": {
      "text/plain": [
       "((983, 9), (246, 9), (983,), (246,))"
      ]
     },
     "execution_count": 410,
     "metadata": {},
     "output_type": "execute_result"
    }
   ],
   "source": [
    "x_train, x_test, y_train, y_test = my_train_test_split(dummy_df, \"price\", test_size=0.2)\n",
    "x_train.shape, x_test.shape, y_train.shape, y_test.shape"
   ]
  },
  {
   "cell_type": "code",
   "execution_count": 411,
   "metadata": {},
   "outputs": [
    {
     "name": "stdout",
     "output_type": "stream",
     "text": [
      "[교차검증]\n",
      "+----+-------------------+\n",
      "|    |   mean_test_score |\n",
      "|----+-------------------|\n",
      "|  0 |          0.471467 |\n",
      "+----+-------------------+\n",
      "\n",
      "[회귀식]\n",
      "price = -1.384 * seats + -1.443 * kms_driven + -2.191 * mileage(kmpl) + 5.295 * engine(cc) + 5.295 * max_power(bhp) + 0.333 * torque(Nm) + 4.103 * registration + 0.614 * ownsership_Second Owner + -5.277 * ownsership_Third Owner + 15.242\n",
      "\n"
     ]
    },
    {
     "ename": "TypeError",
     "evalue": "my_linear_regrassion_result() takes from 3 to 9 positional arguments but 10 were given",
     "output_type": "error",
     "traceback": [
      "\u001b[1;31m---------------------------------------------------------------------------\u001b[0m",
      "\u001b[1;31mTypeError\u001b[0m                                 Traceback (most recent call last)",
      "Cell \u001b[1;32mIn[411], line 1\u001b[0m\n\u001b[1;32m----> 1\u001b[0m \u001b[43mmy_linear_regrassion\u001b[49m\u001b[43m(\u001b[49m\u001b[43mx_train\u001b[49m\u001b[43m,\u001b[49m\u001b[43m \u001b[49m\u001b[43my_train\u001b[49m\u001b[43m,\u001b[49m\u001b[43m \u001b[49m\u001b[43mx_test\u001b[49m\u001b[43m,\u001b[49m\u001b[43m \u001b[49m\u001b[43my_test\u001b[49m\u001b[43m,\u001b[49m\u001b[43m \u001b[49m\u001b[43mcv\u001b[49m\u001b[38;5;241;43m=\u001b[39;49m\u001b[38;5;241;43m5\u001b[39;49m\u001b[43m,\u001b[49m\u001b[43m \u001b[49m\u001b[43mdpi\u001b[49m\u001b[38;5;241;43m=\u001b[39;49m\u001b[38;5;241;43m100\u001b[39;49m\u001b[43m,\u001b[49m\u001b[43m \u001b[49m\u001b[43muse_plot\u001b[49m\u001b[38;5;241;43m=\u001b[39;49m\u001b[38;5;28;43;01mFalse\u001b[39;49;00m\u001b[43m,\u001b[49m\u001b[43m \u001b[49m\u001b[43mresid_test\u001b[49m\u001b[38;5;241;43m=\u001b[39;49m\u001b[38;5;28;43;01mFalse\u001b[39;49;00m\u001b[43m)\u001b[49m\n",
      "File \u001b[1;32mc:\\Users\\hyk\\Desktop\\산대특\\megait\\helper\\regrassion.py:74\u001b[0m, in \u001b[0;36mmy_linear_regrassion\u001b[1;34m(x_train, y_train, x_test, y_test, cv, degree, use_plot, report, resid_test, figsize, dpi, order)\u001b[0m\n\u001b[0;32m     71\u001b[0m \u001b[38;5;28mprint\u001b[39m(expr, end\u001b[38;5;241m=\u001b[39m\u001b[38;5;124m\"\u001b[39m\u001b[38;5;130;01m\\n\u001b[39;00m\u001b[38;5;130;01m\\n\u001b[39;00m\u001b[38;5;124m\"\u001b[39m)\n\u001b[0;32m     73\u001b[0m \u001b[38;5;28;01mif\u001b[39;00m x_test \u001b[38;5;129;01mis\u001b[39;00m \u001b[38;5;129;01mnot\u001b[39;00m \u001b[38;5;28;01mNone\u001b[39;00m \u001b[38;5;129;01mand\u001b[39;00m y_test \u001b[38;5;129;01mis\u001b[39;00m \u001b[38;5;129;01mnot\u001b[39;00m \u001b[38;5;28;01mNone\u001b[39;00m:\n\u001b[1;32m---> 74\u001b[0m     \u001b[43mmy_linear_regrassion_result\u001b[49m\u001b[43m(\u001b[49m\u001b[43mfit\u001b[49m\u001b[43m,\u001b[49m\u001b[43m \u001b[49m\u001b[43mx_test\u001b[49m\u001b[43m,\u001b[49m\u001b[43m \u001b[49m\u001b[43my_test\u001b[49m\u001b[43m,\u001b[49m\u001b[43m \u001b[49m\u001b[43mdegree\u001b[49m\u001b[43m,\u001b[49m\u001b[43m \u001b[49m\u001b[43muse_plot\u001b[49m\u001b[43m,\u001b[49m\u001b[43m \u001b[49m\u001b[43mreport\u001b[49m\u001b[43m,\u001b[49m\u001b[43m \u001b[49m\u001b[43mresid_test\u001b[49m\u001b[43m,\u001b[49m\u001b[43m \u001b[49m\u001b[43mfigsize\u001b[49m\u001b[43m,\u001b[49m\u001b[43m \u001b[49m\u001b[43mdpi\u001b[49m\u001b[43m,\u001b[49m\u001b[43m \u001b[49m\u001b[43morder\u001b[49m\u001b[43m)\u001b[49m\n\u001b[0;32m     75\u001b[0m \u001b[38;5;28;01melse\u001b[39;00m:\n\u001b[0;32m     76\u001b[0m     my_linear_regrassion_result(fit, x_train, y_train, degree, use_plot, report, resid_test, figsize, dpi, order)\n",
      "\u001b[1;31mTypeError\u001b[0m: my_linear_regrassion_result() takes from 3 to 9 positional arguments but 10 were given"
     ]
    }
   ],
   "source": [
    "my_linear_regrassion(x_train, y_train, x_test, y_test, cv=5, dpi=100, use_plot=False, resid_test=False)"
   ]
  }
 ],
 "metadata": {
  "kernelspec": {
   "display_name": "Python 3",
   "language": "python",
   "name": "python3"
  },
  "language_info": {
   "codemirror_mode": {
    "name": "ipython",
    "version": 3
   },
   "file_extension": ".py",
   "mimetype": "text/x-python",
   "name": "python",
   "nbconvert_exporter": "python",
   "pygments_lexer": "ipython3",
   "version": "3.11.7"
  }
 },
 "nbformat": 4,
 "nbformat_minor": 2
}
