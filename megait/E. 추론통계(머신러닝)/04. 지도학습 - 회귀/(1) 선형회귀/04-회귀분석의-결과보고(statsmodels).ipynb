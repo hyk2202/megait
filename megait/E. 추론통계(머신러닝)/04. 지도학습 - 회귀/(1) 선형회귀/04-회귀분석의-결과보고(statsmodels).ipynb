{
 "cells": [
  {
   "cell_type": "markdown",
   "metadata": {},
   "source": [
    "# 회귀분석의 결과 보고 (statsmodels)\n",
    "\n",
    "회귀분석을 통해 연구를 진행하는 논문은 아래의 표와 같은 형태로 결과 보고를 제시한다.\n",
    "\n",
    "![img](res/table.png)\n",
    "\n",
    "> 이 예제는 sklearn(머신러닝)이 아닌 statsmodels(통계패키지)를 사용해서 회귀분석을 진행한다.\n",
    "\n",
    "## #01. 준비작업\n"
   ]
  },
  {
   "cell_type": "markdown",
   "metadata": {},
   "source": [
    "### [1] 데이터 가져오기"
   ]
  },
  {
   "cell_type": "code",
   "execution_count": 5,
   "metadata": {},
   "outputs": [
    {
     "data": {
      "text/html": [
       "<div>\n",
       "<style scoped>\n",
       "    .dataframe tbody tr th:only-of-type {\n",
       "        vertical-align: middle;\n",
       "    }\n",
       "\n",
       "    .dataframe tbody tr th {\n",
       "        vertical-align: top;\n",
       "    }\n",
       "\n",
       "    .dataframe thead th {\n",
       "        text-align: right;\n",
       "    }\n",
       "</style>\n",
       "<table border=\"1\" class=\"dataframe\">\n",
       "  <thead>\n",
       "    <tr style=\"text-align: right;\">\n",
       "      <th></th>\n",
       "      <th>길이</th>\n",
       "      <th>높이</th>\n",
       "      <th>두께</th>\n",
       "      <th>무게</th>\n",
       "    </tr>\n",
       "  </thead>\n",
       "  <tbody>\n",
       "    <tr>\n",
       "      <th>0</th>\n",
       "      <td>8.4</td>\n",
       "      <td>2.11</td>\n",
       "      <td>1.41</td>\n",
       "      <td>5.9</td>\n",
       "    </tr>\n",
       "    <tr>\n",
       "      <th>1</th>\n",
       "      <td>13.7</td>\n",
       "      <td>3.53</td>\n",
       "      <td>2.00</td>\n",
       "      <td>32.0</td>\n",
       "    </tr>\n",
       "    <tr>\n",
       "      <th>2</th>\n",
       "      <td>15.0</td>\n",
       "      <td>3.82</td>\n",
       "      <td>2.43</td>\n",
       "      <td>40.0</td>\n",
       "    </tr>\n",
       "    <tr>\n",
       "      <th>3</th>\n",
       "      <td>16.2</td>\n",
       "      <td>4.59</td>\n",
       "      <td>2.63</td>\n",
       "      <td>51.5</td>\n",
       "    </tr>\n",
       "    <tr>\n",
       "      <th>4</th>\n",
       "      <td>17.4</td>\n",
       "      <td>4.59</td>\n",
       "      <td>2.94</td>\n",
       "      <td>70.0</td>\n",
       "    </tr>\n",
       "  </tbody>\n",
       "</table>\n",
       "</div>"
      ],
      "text/plain": [
       "     길이    높이    두께    무게\n",
       "0   8.4  2.11  1.41   5.9\n",
       "1  13.7  3.53  2.00  32.0\n",
       "2  15.0  3.82  2.43  40.0\n",
       "3  16.2  4.59  2.63  51.5\n",
       "4  17.4  4.59  2.94  70.0"
      ]
     },
     "execution_count": 5,
     "metadata": {},
     "output_type": "execute_result"
    }
   ],
   "source": [
    "origin = read_excel(\"https://data.hossam.kr/mldata/fish.xlsx\")\n",
    "origin.head()"
   ]
  },
  {
   "cell_type": "markdown",
   "metadata": {},
   "source": [
    "## #02. 회귀분석\n",
    "\n",
    "### [1] 분석을 위한 학습모델 구성\n",
    "\n",
    "$y = ax + b$ 에 따라 `종속 ~ 독립` 형태로 표현식을 구성한다."
   ]
  },
  {
   "cell_type": "code",
   "execution_count": 6,
   "metadata": {},
   "outputs": [
    {
     "data": {
      "text/plain": [
       "<statsmodels.regression.linear_model.OLS at 0x192b5b9fb10>"
      ]
     },
     "execution_count": 6,
     "metadata": {},
     "output_type": "execute_result"
    }
   ],
   "source": [
    "model = ols(\"무게 ~ 길이+높이+두께\", data=origin)\n",
    "model"
   ]
  },
  {
   "cell_type": "markdown",
   "metadata": {},
   "source": [
    "### [2] 분석 수행"
   ]
  },
  {
   "cell_type": "code",
   "execution_count": 7,
   "metadata": {},
   "outputs": [
    {
     "data": {
      "text/plain": [
       "<statsmodels.regression.linear_model.RegressionResultsWrapper at 0x192b5e73950>"
      ]
     },
     "execution_count": 7,
     "metadata": {},
     "output_type": "execute_result"
    }
   ],
   "source": [
    "fit = model.fit()\n",
    "fit"
   ]
  },
  {
   "cell_type": "markdown",
   "metadata": {},
   "source": [
    "### [3] 분석결과 확인"
   ]
  },
  {
   "cell_type": "code",
   "execution_count": 8,
   "metadata": {},
   "outputs": [
    {
     "data": {
      "text/html": [
       "<table class=\"simpletable\">\n",
       "<caption>OLS Regression Results</caption>\n",
       "<tr>\n",
       "  <th>Dep. Variable:</th>           <td>무게</td>        <th>  R-squared:         </th> <td>   0.942</td>\n",
       "</tr>\n",
       "<tr>\n",
       "  <th>Model:</th>                   <td>OLS</td>       <th>  Adj. R-squared:    </th> <td>   0.939</td>\n",
       "</tr>\n",
       "<tr>\n",
       "  <th>Method:</th>             <td>Least Squares</td>  <th>  F-statistic:       </th> <td>   283.1</td>\n",
       "</tr>\n",
       "<tr>\n",
       "  <th>Date:</th>             <td>Tue, 13 Feb 2024</td> <th>  Prob (F-statistic):</th> <td>3.50e-32</td>\n",
       "</tr>\n",
       "<tr>\n",
       "  <th>Time:</th>                 <td>10:01:42</td>     <th>  Log-Likelihood:    </th> <td> -326.75</td>\n",
       "</tr>\n",
       "<tr>\n",
       "  <th>No. Observations:</th>      <td>    56</td>      <th>  AIC:               </th> <td>   661.5</td>\n",
       "</tr>\n",
       "<tr>\n",
       "  <th>Df Residuals:</th>          <td>    52</td>      <th>  BIC:               </th> <td>   669.6</td>\n",
       "</tr>\n",
       "<tr>\n",
       "  <th>Df Model:</th>              <td>     3</td>      <th>                     </th>     <td> </td>   \n",
       "</tr>\n",
       "<tr>\n",
       "  <th>Covariance Type:</th>      <td>nonrobust</td>    <th>                     </th>     <td> </td>   \n",
       "</tr>\n",
       "</table>\n",
       "<table class=\"simpletable\">\n",
       "<tr>\n",
       "      <td></td>         <th>coef</th>     <th>std err</th>      <th>t</th>      <th>P>|t|</th>  <th>[0.025</th>    <th>0.975]</th>  \n",
       "</tr>\n",
       "<tr>\n",
       "  <th>Intercept</th> <td> -546.4398</td> <td>   43.785</td> <td>  -12.480</td> <td> 0.000</td> <td> -634.301</td> <td> -458.579</td>\n",
       "</tr>\n",
       "<tr>\n",
       "  <th>길이</th>        <td>    2.9083</td> <td>    7.734</td> <td>    0.376</td> <td> 0.708</td> <td>  -12.611</td> <td>   18.427</td>\n",
       "</tr>\n",
       "<tr>\n",
       "  <th>높이</th>        <td>   67.2047</td> <td>   29.447</td> <td>    2.282</td> <td> 0.027</td> <td>    8.115</td> <td>  126.295</td>\n",
       "</tr>\n",
       "<tr>\n",
       "  <th>두께</th>        <td>   67.2603</td> <td>   36.011</td> <td>    1.868</td> <td> 0.067</td> <td>   -5.002</td> <td>  139.522</td>\n",
       "</tr>\n",
       "</table>\n",
       "<table class=\"simpletable\">\n",
       "<tr>\n",
       "  <th>Omnibus:</th>       <td>17.977</td> <th>  Durbin-Watson:     </th> <td>   0.485</td>\n",
       "</tr>\n",
       "<tr>\n",
       "  <th>Prob(Omnibus):</th> <td> 0.000</td> <th>  Jarque-Bera (JB):  </th> <td>  22.453</td>\n",
       "</tr>\n",
       "<tr>\n",
       "  <th>Skew:</th>          <td> 1.267</td> <th>  Prob(JB):          </th> <td>1.33e-05</td>\n",
       "</tr>\n",
       "<tr>\n",
       "  <th>Kurtosis:</th>      <td> 4.788</td> <th>  Cond. No.          </th> <td>    123.</td>\n",
       "</tr>\n",
       "</table><br/><br/>Notes:<br/>[1] Standard Errors assume that the covariance matrix of the errors is correctly specified."
      ],
      "text/latex": [
       "\\begin{center}\n",
       "\\begin{tabular}{lclc}\n",
       "\\toprule\n",
       "\\textbf{Dep. Variable:}    &        무게        & \\textbf{  R-squared:         } &     0.942   \\\\\n",
       "\\textbf{Model:}            &       OLS        & \\textbf{  Adj. R-squared:    } &     0.939   \\\\\n",
       "\\textbf{Method:}           &  Least Squares   & \\textbf{  F-statistic:       } &     283.1   \\\\\n",
       "\\textbf{Date:}             & Tue, 13 Feb 2024 & \\textbf{  Prob (F-statistic):} &  3.50e-32   \\\\\n",
       "\\textbf{Time:}             &     10:01:42     & \\textbf{  Log-Likelihood:    } &   -326.75   \\\\\n",
       "\\textbf{No. Observations:} &          56      & \\textbf{  AIC:               } &     661.5   \\\\\n",
       "\\textbf{Df Residuals:}     &          52      & \\textbf{  BIC:               } &     669.6   \\\\\n",
       "\\textbf{Df Model:}         &           3      & \\textbf{                     } &             \\\\\n",
       "\\textbf{Covariance Type:}  &    nonrobust     & \\textbf{                     } &             \\\\\n",
       "\\bottomrule\n",
       "\\end{tabular}\n",
       "\\begin{tabular}{lcccccc}\n",
       "                   & \\textbf{coef} & \\textbf{std err} & \\textbf{t} & \\textbf{P$> |$t$|$} & \\textbf{[0.025} & \\textbf{0.975]}  \\\\\n",
       "\\midrule\n",
       "\\textbf{Intercept} &    -546.4398  &       43.785     &   -12.480  &         0.000        &     -634.301    &     -458.579     \\\\\n",
       "\\textbf{길이}        &       2.9083  &        7.734     &     0.376  &         0.708        &      -12.611    &       18.427     \\\\\n",
       "\\textbf{높이}        &      67.2047  &       29.447     &     2.282  &         0.027        &        8.115    &      126.295     \\\\\n",
       "\\textbf{두께}        &      67.2603  &       36.011     &     1.868  &         0.067        &       -5.002    &      139.522     \\\\\n",
       "\\bottomrule\n",
       "\\end{tabular}\n",
       "\\begin{tabular}{lclc}\n",
       "\\textbf{Omnibus:}       & 17.977 & \\textbf{  Durbin-Watson:     } &    0.485  \\\\\n",
       "\\textbf{Prob(Omnibus):} &  0.000 & \\textbf{  Jarque-Bera (JB):  } &   22.453  \\\\\n",
       "\\textbf{Skew:}          &  1.267 & \\textbf{  Prob(JB):          } & 1.33e-05  \\\\\n",
       "\\textbf{Kurtosis:}      &  4.788 & \\textbf{  Cond. No.          } &     123.  \\\\\n",
       "\\bottomrule\n",
       "\\end{tabular}\n",
       "%\\caption{OLS Regression Results}\n",
       "\\end{center}\n",
       "\n",
       "Notes: \\newline\n",
       " [1] Standard Errors assume that the covariance matrix of the errors is correctly specified."
      ],
      "text/plain": [
       "<class 'statsmodels.iolib.summary.Summary'>\n",
       "\"\"\"\n",
       "                            OLS Regression Results                            \n",
       "==============================================================================\n",
       "Dep. Variable:                     무게   R-squared:                       0.942\n",
       "Model:                            OLS   Adj. R-squared:                  0.939\n",
       "Method:                 Least Squares   F-statistic:                     283.1\n",
       "Date:                Tue, 13 Feb 2024   Prob (F-statistic):           3.50e-32\n",
       "Time:                        10:01:42   Log-Likelihood:                -326.75\n",
       "No. Observations:                  56   AIC:                             661.5\n",
       "Df Residuals:                      52   BIC:                             669.6\n",
       "Df Model:                           3                                         \n",
       "Covariance Type:            nonrobust                                         \n",
       "==============================================================================\n",
       "                 coef    std err          t      P>|t|      [0.025      0.975]\n",
       "------------------------------------------------------------------------------\n",
       "Intercept   -546.4398     43.785    -12.480      0.000    -634.301    -458.579\n",
       "길이             2.9083      7.734      0.376      0.708     -12.611      18.427\n",
       "높이            67.2047     29.447      2.282      0.027       8.115     126.295\n",
       "두께            67.2603     36.011      1.868      0.067      -5.002     139.522\n",
       "==============================================================================\n",
       "Omnibus:                       17.977   Durbin-Watson:                   0.485\n",
       "Prob(Omnibus):                  0.000   Jarque-Bera (JB):               22.453\n",
       "Skew:                           1.267   Prob(JB):                     1.33e-05\n",
       "Kurtosis:                       4.788   Cond. No.                         123.\n",
       "==============================================================================\n",
       "\n",
       "Notes:\n",
       "[1] Standard Errors assume that the covariance matrix of the errors is correctly specified.\n",
       "\"\"\""
      ]
     },
     "execution_count": 8,
     "metadata": {},
     "output_type": "execute_result"
    }
   ],
   "source": [
    "tbl = fit.summary()\n",
    "tbl"
   ]
  },
  {
   "cell_type": "code",
   "execution_count": 9,
   "metadata": {},
   "outputs": [
    {
     "name": "stdout",
     "output_type": "stream",
     "text": [
      "                            OLS Regression Results                            \n",
      "==============================================================================\n",
      "Dep. Variable:                     무게   R-squared:                       0.942\n",
      "Model:                            OLS   Adj. R-squared:                  0.939\n",
      "Method:                 Least Squares   F-statistic:                     283.1\n",
      "Date:                Tue, 13 Feb 2024   Prob (F-statistic):           3.50e-32\n",
      "Time:                        10:01:42   Log-Likelihood:                -326.75\n",
      "No. Observations:                  56   AIC:                             661.5\n",
      "Df Residuals:                      52   BIC:                             669.6\n",
      "Df Model:                           3                                         \n",
      "Covariance Type:            nonrobust                                         \n",
      "==============================================================================\n",
      "                 coef    std err          t      P>|t|      [0.025      0.975]\n",
      "------------------------------------------------------------------------------\n",
      "Intercept   -546.4398     43.785    -12.480      0.000    -634.301    -458.579\n",
      "길이             2.9083      7.734      0.376      0.708     -12.611      18.427\n",
      "높이            67.2047     29.447      2.282      0.027       8.115     126.295\n",
      "두께            67.2603     36.011      1.868      0.067      -5.002     139.522\n",
      "==============================================================================\n",
      "Omnibus:                       17.977   Durbin-Watson:                   0.485\n",
      "Prob(Omnibus):                  0.000   Jarque-Bera (JB):               22.453\n",
      "Skew:                           1.267   Prob(JB):                     1.33e-05\n",
      "Kurtosis:                       4.788   Cond. No.                         123.\n",
      "==============================================================================\n",
      "\n",
      "Notes:\n",
      "[1] Standard Errors assume that the covariance matrix of the errors is correctly specified.\n"
     ]
    }
   ],
   "source": [
    "# 결과표를 print 하면 텍스트로 출력된다.\n",
    "print(tbl)"
   ]
  },
  {
   "cell_type": "markdown",
   "metadata": {},
   "source": [
    "## #03. 결과 해석\n",
    "\n",
    "출력되는 분석 결과표를 통해 모형적합도, 회귀계수, 각 요인에 대한 p값을 해석해야 한다.\n",
    "\n",
    "![img](res/result-all.png)\n",
    "\n",
    "### [1] 모형적합도 해석\n",
    "\n",
    "모형이 데이터에 잘 맞는 정도를 보여주는 지표\n",
    "\n",
    "| 번호 | 이름 | 설명 |\n",
    "|:---:|---|---|\n",
    "| ① | R-squared | R제곱, 결정계수<br/>모형의 설명력을 의미<br/>무게를 길이, 높이, 두께가 약 94% 설명한다. (각 사례마다 무게에 차이가 있다.) |\n",
    "| ② | Adj. R-squared | 독립변수의 개수와 표본의 크기를 고려하여 R-squared를 보정한 값.<br/>서로 다른 모형을 비교할 때는 이 지표가 높은 쪽은 선택한다.<br/>독립변수가 여러 개인 다중회귀분석에서 사용 |\n",
    "| ③ | F-statistic | 회귀모형에 대한 (통계적) 유의미성 검증 결과 |\n",
    "| ④ | Prob(F-statistic) | F-statistic에 대한 p-value. <br/>유의미함 (p < 0.05) |\n",
    "| ⑤ | Log-Likelihood | 로그 우도: 종속변수가 정규분포라고 가정했을 때의 우도 |\n",
    "| ⑥ | AIC, BIC | 로그우도를 독립변수의 수로 보정한 값 (작을 수록 좋다) |\n",
    "\n",
    "### [2] 회귀계수(coef) 해석\n",
    "\n",
    "| 번호 | 이름 | 설명 |\n",
    "|:---:|---|---|\n",
    "| ⑦ | 절편(Intercept) | 독립변수가 0일 때 무게의 값 |\n",
    "| ⑧ | 기울기 | 독립변수가 1 증가할 때마다 무게가 해당 크기만큼 증가한다는 것을 의미 |\n",
    "\n",
    "#### 회귀계수를 수식으로 정리\n",
    "\n",
    "$무게 = ⑧ \\times 길이, 높이, 두께 + ⑦$\n",
    "\n",
    "즉, \n",
    "\n",
    "$dist = 2.9083 \\times 길이 + 67.2047 \\times 높이 + 67.2603 \\times 두께 - 546.4398 $\n",
    "\n",
    "\n",
    "### [3] p값\n",
    "\n",
    "| 번호 | 이름 | 설명 |\n",
    "|:---:|---|---|\n",
    "| ⑨ | p값 | 모집단에서 계수가 0일 때, 현재와 같은 크기의 표본에서 이러한 계수가 추정될 확률 |\n",
    "\n",
    "이 확률이 매우 작다는 것은, 모집단에서 독립변수의 계수가 정확히 해당 크기는 아니더라도 현재의 표본과 비슷하게 0보다 큰 어떤 범위에 있을 가능성이 높다는 것을 의미\n",
    "\n",
    "보통 5%와 같은 유의수준을 정하여 p값이 그보다 작으면(p < 0.05), \"통계적으로 유의미하다\"라고 정리\n",
    "\n",
    "> 길이, 높이, 두께가 증가할 때 기대되는 무게의 변화는 유의수준 5%에서 통계적으로 유의하다."
   ]
  },
  {
   "cell_type": "markdown",
   "metadata": {},
   "source": [
    "## #04. 결과 보고\n",
    "\n",
    "### [1] 모형적합도 보고\n",
    "\n",
    "F분포의 파라미터 2개와 그 때의 F값, p-value의 유의수준 비교를 명시\n",
    "\n",
    "$F(⑩, ⑪) = ③, p \\lt 0.05%$\n",
    "\n",
    "#### 모형적합도 보고 예시\n",
    "\n",
    "> 무게에 대하여 길이, 높이, 두께로 예측하는 회귀분석을 실시한 결과, 이 회귀모형은 통계적으로 유의미하였다.\n",
    "> \n",
    "> $(F(3,52) = 283.1, p < 0.05)$\n",
    "\n",
    "\n",
    "### [2] 독립변수에 대해 보고\n",
    "\n",
    "$t(⑪) = ⑫, p < 0.05$\n",
    "\n",
    "\n",
    "#### 독립변수 보고 예시\n",
    "\n",
    "> 길이의 회귀계수는 2.9083로, 무게에 대하여 유의미한 예측변인인 것으로 나타났다.\n",
    "> \n",
    "> $(t(52) = 0.708, p < 0.05)$\n",
    ">\n",
    "> 높이의 회귀계수는 67.2047로, 무게에 대하여 유의미한 예측변인인 것으로 나타났다.\n",
    ">\n",
    "> $(t(52) = 0.027, p < 0.05)$\n",
    ">\n",
    "> 두께의 회귀계수는 67.2603로, 무게에 대하여 유의미한 예측변인인 것으로 나타났다.\n",
    "> \n",
    "> $(t(52) = 0.067, p < 0.05)$"
   ]
  },
  {
   "cell_type": "markdown",
   "metadata": {},
   "source": [
    "## #05. 회귀분석 결과 다루기\n",
    "\n",
    "### [1] 결과표 유형 확인\n",
    "\n",
    "#### 데이터 타입"
   ]
  },
  {
   "cell_type": "code",
   "execution_count": 10,
   "metadata": {},
   "outputs": [
    {
     "data": {
      "text/plain": [
       "statsmodels.iolib.summary.Summary"
      ]
     },
     "execution_count": 10,
     "metadata": {},
     "output_type": "execute_result"
    }
   ],
   "source": [
    "type(tbl)"
   ]
  },
  {
   "cell_type": "markdown",
   "metadata": {},
   "source": [
    "#### 속성 확인"
   ]
  },
  {
   "cell_type": "code",
   "execution_count": 11,
   "metadata": {},
   "outputs": [
    {
     "data": {
      "text/plain": [
       "['__class__',\n",
       " '__delattr__',\n",
       " '__dict__',\n",
       " '__dir__',\n",
       " '__doc__',\n",
       " '__eq__',\n",
       " '__format__',\n",
       " '__ge__',\n",
       " '__getattribute__',\n",
       " '__getstate__',\n",
       " '__gt__',\n",
       " '__hash__',\n",
       " '__init__',\n",
       " '__init_subclass__',\n",
       " '__le__',\n",
       " '__lt__',\n",
       " '__module__',\n",
       " '__ne__',\n",
       " '__new__',\n",
       " '__reduce__',\n",
       " '__reduce_ex__',\n",
       " '__repr__',\n",
       " '__setattr__',\n",
       " '__sizeof__',\n",
       " '__str__',\n",
       " '__subclasshook__',\n",
       " '__weakref__',\n",
       " '_repr_html_',\n",
       " '_repr_latex_',\n",
       " 'add_extra_txt',\n",
       " 'add_table_2cols',\n",
       " 'add_table_params',\n",
       " 'as_csv',\n",
       " 'as_html',\n",
       " 'as_latex',\n",
       " 'as_text',\n",
       " 'extra_txt',\n",
       " 'tables']"
      ]
     },
     "execution_count": 11,
     "metadata": {},
     "output_type": "execute_result"
    }
   ],
   "source": [
    "dir(tbl)"
   ]
  },
  {
   "cell_type": "markdown",
   "metadata": {},
   "source": [
    "#### 예상되는 프로퍼티 확인"
   ]
  },
  {
   "cell_type": "code",
   "execution_count": 12,
   "metadata": {},
   "outputs": [
    {
     "data": {
      "text/plain": [
       "[<class 'statsmodels.iolib.table.SimpleTable'>,\n",
       " <class 'statsmodels.iolib.table.SimpleTable'>,\n",
       " <class 'statsmodels.iolib.table.SimpleTable'>]"
      ]
     },
     "execution_count": 12,
     "metadata": {},
     "output_type": "execute_result"
    }
   ],
   "source": [
    "tbl.tables"
   ]
  },
  {
   "cell_type": "code",
   "execution_count": 14,
   "metadata": {},
   "outputs": [
    {
     "data": {
      "text/html": [
       "<table class=\"simpletable\">\n",
       "<caption>OLS Regression Results</caption>\n",
       "<tr>\n",
       "  <th>Dep. Variable:</th>           <td>무게</td>        <th>  R-squared:         </th> <td>   0.942</td>\n",
       "</tr>\n",
       "<tr>\n",
       "  <th>Model:</th>                   <td>OLS</td>       <th>  Adj. R-squared:    </th> <td>   0.939</td>\n",
       "</tr>\n",
       "<tr>\n",
       "  <th>Method:</th>             <td>Least Squares</td>  <th>  F-statistic:       </th> <td>   283.1</td>\n",
       "</tr>\n",
       "<tr>\n",
       "  <th>Date:</th>             <td>Tue, 13 Feb 2024</td> <th>  Prob (F-statistic):</th> <td>3.50e-32</td>\n",
       "</tr>\n",
       "<tr>\n",
       "  <th>Time:</th>                 <td>10:01:42</td>     <th>  Log-Likelihood:    </th> <td> -326.75</td>\n",
       "</tr>\n",
       "<tr>\n",
       "  <th>No. Observations:</th>      <td>    56</td>      <th>  AIC:               </th> <td>   661.5</td>\n",
       "</tr>\n",
       "<tr>\n",
       "  <th>Df Residuals:</th>          <td>    52</td>      <th>  BIC:               </th> <td>   669.6</td>\n",
       "</tr>\n",
       "<tr>\n",
       "  <th>Df Model:</th>              <td>     3</td>      <th>                     </th>     <td> </td>   \n",
       "</tr>\n",
       "<tr>\n",
       "  <th>Covariance Type:</th>      <td>nonrobust</td>    <th>                     </th>     <td> </td>   \n",
       "</tr>\n",
       "</table>"
      ],
      "text/latex": [
       "\\begin{center}\n",
       "\\begin{tabular}{lclc}\n",
       "\\toprule\n",
       "\\textbf{Dep. Variable:}    &        무게        & \\textbf{  R-squared:         } &    0.942  \\\\\n",
       "\\textbf{Model:}            &       OLS        & \\textbf{  Adj. R-squared:    } &    0.939  \\\\\n",
       "\\textbf{Method:}           &  Least Squares   & \\textbf{  F-statistic:       } &    283.1  \\\\\n",
       "\\textbf{Date:}             & Tue, 13 Feb 2024 & \\textbf{  Prob (F-statistic):} & 3.50e-32  \\\\\n",
       "\\textbf{Time:}             &     10:01:42     & \\textbf{  Log-Likelihood:    } &  -326.75  \\\\\n",
       "\\textbf{No. Observations:} &          56      & \\textbf{  AIC:               } &    661.5  \\\\\n",
       "\\textbf{Df Residuals:}     &          52      & \\textbf{  BIC:               } &    669.6  \\\\\n",
       "\\textbf{Df Model:}         &           3      & \\textbf{                     } &           \\\\\n",
       "\\textbf{Covariance Type:}  &    nonrobust     & \\textbf{                     } &           \\\\\n",
       "\\bottomrule\n",
       "\\end{tabular}\n",
       "%\\caption{OLS Regression Results}\n",
       "\\end{center}"
      ],
      "text/plain": [
       "<class 'statsmodels.iolib.table.SimpleTable'>"
      ]
     },
     "execution_count": 14,
     "metadata": {},
     "output_type": "execute_result"
    }
   ],
   "source": [
    "tbl.tables[0]"
   ]
  },
  {
   "cell_type": "code",
   "execution_count": 15,
   "metadata": {},
   "outputs": [
    {
     "data": {
      "text/html": [
       "<table class=\"simpletable\">\n",
       "<tr>\n",
       "      <td></td>         <th>coef</th>     <th>std err</th>      <th>t</th>      <th>P>|t|</th>  <th>[0.025</th>    <th>0.975]</th>  \n",
       "</tr>\n",
       "<tr>\n",
       "  <th>Intercept</th> <td> -546.4398</td> <td>   43.785</td> <td>  -12.480</td> <td> 0.000</td> <td> -634.301</td> <td> -458.579</td>\n",
       "</tr>\n",
       "<tr>\n",
       "  <th>길이</th>        <td>    2.9083</td> <td>    7.734</td> <td>    0.376</td> <td> 0.708</td> <td>  -12.611</td> <td>   18.427</td>\n",
       "</tr>\n",
       "<tr>\n",
       "  <th>높이</th>        <td>   67.2047</td> <td>   29.447</td> <td>    2.282</td> <td> 0.027</td> <td>    8.115</td> <td>  126.295</td>\n",
       "</tr>\n",
       "<tr>\n",
       "  <th>두께</th>        <td>   67.2603</td> <td>   36.011</td> <td>    1.868</td> <td> 0.067</td> <td>   -5.002</td> <td>  139.522</td>\n",
       "</tr>\n",
       "</table>"
      ],
      "text/latex": [
       "\\begin{center}\n",
       "\\begin{tabular}{lcccccc}\n",
       "\\toprule\n",
       "                   & \\textbf{coef} & \\textbf{std err} & \\textbf{t} & \\textbf{P$> |$t$|$} & \\textbf{[0.025} & \\textbf{0.975]}  \\\\\n",
       "\\midrule\n",
       "\\textbf{Intercept} &    -546.4398  &       43.785     &   -12.480  &         0.000        &     -634.301    &     -458.579     \\\\\n",
       "\\textbf{길이}        &       2.9083  &        7.734     &     0.376  &         0.708        &      -12.611    &       18.427     \\\\\n",
       "\\textbf{높이}        &      67.2047  &       29.447     &     2.282  &         0.027        &        8.115    &      126.295     \\\\\n",
       "\\textbf{두께}        &      67.2603  &       36.011     &     1.868  &         0.067        &       -5.002    &      139.522     \\\\\n",
       "\\bottomrule\n",
       "\\end{tabular}\n",
       "\\end{center}"
      ],
      "text/plain": [
       "<class 'statsmodels.iolib.table.SimpleTable'>"
      ]
     },
     "execution_count": 15,
     "metadata": {},
     "output_type": "execute_result"
    }
   ],
   "source": [
    "tbl.tables[1]"
   ]
  },
  {
   "cell_type": "code",
   "execution_count": 16,
   "metadata": {},
   "outputs": [
    {
     "data": {
      "text/html": [
       "<table class=\"simpletable\">\n",
       "<tr>\n",
       "  <th>Omnibus:</th>       <td>17.977</td> <th>  Durbin-Watson:     </th> <td>   0.485</td>\n",
       "</tr>\n",
       "<tr>\n",
       "  <th>Prob(Omnibus):</th> <td> 0.000</td> <th>  Jarque-Bera (JB):  </th> <td>  22.453</td>\n",
       "</tr>\n",
       "<tr>\n",
       "  <th>Skew:</th>          <td> 1.267</td> <th>  Prob(JB):          </th> <td>1.33e-05</td>\n",
       "</tr>\n",
       "<tr>\n",
       "  <th>Kurtosis:</th>      <td> 4.788</td> <th>  Cond. No.          </th> <td>    123.</td>\n",
       "</tr>\n",
       "</table>"
      ],
      "text/latex": [
       "\\begin{center}\n",
       "\\begin{tabular}{lclc}\n",
       "\\toprule\n",
       "\\textbf{Omnibus:}       & 17.977 & \\textbf{  Durbin-Watson:     } &    0.485  \\\\\n",
       "\\textbf{Prob(Omnibus):} &  0.000 & \\textbf{  Jarque-Bera (JB):  } &   22.453  \\\\\n",
       "\\textbf{Skew:}          &  1.267 & \\textbf{  Prob(JB):          } & 1.33e-05  \\\\\n",
       "\\textbf{Kurtosis:}      &  4.788 & \\textbf{  Cond. No.          } &     123.  \\\\\n",
       "\\bottomrule\n",
       "\\end{tabular}\n",
       "\\end{center}"
      ],
      "text/plain": [
       "<class 'statsmodels.iolib.table.SimpleTable'>"
      ]
     },
     "execution_count": 16,
     "metadata": {},
     "output_type": "execute_result"
    }
   ],
   "source": [
    "tbl.tables[2]"
   ]
  },
  {
   "cell_type": "markdown",
   "metadata": {},
   "source": [
    "### [2] 첫 번째, 세번째 표의 내용"
   ]
  },
  {
   "cell_type": "code",
   "execution_count": 17,
   "metadata": {},
   "outputs": [
    {
     "data": {
      "text/plain": [
       "{'Dep. Variable': '무게',\n",
       " 'R-squared': '0.942',\n",
       " 'Model': 'OLS',\n",
       " 'Adj. R-squared': '0.939',\n",
       " 'Method': 'Least Squares',\n",
       " 'F-statistic': '283.1',\n",
       " 'Date': 'Tue, 13 Feb 2024',\n",
       " 'Prob (F-statistic)': '3.50e-32',\n",
       " 'Time': '10:01:42',\n",
       " 'Log-Likelihood': '-326.75',\n",
       " 'No. Observations': '56',\n",
       " 'AIC': '661.5',\n",
       " 'Df Residuals': '52',\n",
       " 'BIC': '669.6',\n",
       " 'Df Model': '3',\n",
       " 'Covariance Type': 'nonrobust',\n",
       " 'Omnibus': '17.977',\n",
       " 'Durbin-Watson': '0.485',\n",
       " 'Prob(Omnibus)': '0.000',\n",
       " 'Jarque-Bera (JB)': '22.453',\n",
       " 'Skew': '1.267',\n",
       " 'Prob(JB)': '1.33e-05',\n",
       " 'Kurtosis': '4.788',\n",
       " 'Cond. No': '123.'}"
      ]
     },
     "execution_count": 17,
     "metadata": {},
     "output_type": "execute_result"
    }
   ],
   "source": [
    "my = {}\n",
    "\n",
    "for k in [0, 2]:\n",
    "    items = tbl.tables[k].data\n",
    "    #print(items)\n",
    "\n",
    "    for item in items:\n",
    "        #print(item)\n",
    "        n = len(item)\n",
    "\n",
    "        for i in [0,2]:\n",
    "            key = item[i].strip()[:-1]\n",
    "            value = item[i+1].strip()\n",
    "\n",
    "            if key and value:\n",
    "                my[key] = value\n",
    "\n",
    "my"
   ]
  },
  {
   "cell_type": "markdown",
   "metadata": {},
   "source": [
    "### [3] 독립변수 보고 내용 생성\n",
    "\n",
    "#### (1) 단일 VIF을 확인하기 위한 실험"
   ]
  },
  {
   "cell_type": "code",
   "execution_count": 18,
   "metadata": {},
   "outputs": [
    {
     "name": "stdout",
     "output_type": "stream",
     "text": [
      "높이의 VIF: 500.757056 (bad)\n"
     ]
    }
   ],
   "source": [
    "# 데이터프레임과 VIF값을 확인하고자 하는 변수의 인덱스를 설정\n",
    "vif = variance_inflation_factor(origin, 1)\n",
    "\n",
    "if vif < 10:\n",
    "    print(\"%s의 VIF: %f (good)\" % (origin.columns[1], vif))\n",
    "else:\n",
    "    print(\"%s의 VIF: %f (bad)\" % (origin.columns[1], vif))"
   ]
  },
  {
   "cell_type": "markdown",
   "metadata": {},
   "source": [
    "#### (2) 표준화 계수(베타) 구하기\n",
    "\n",
    "독립변수와 종속변수를 표준화 한 후 머신러닝을 수행한 경우에 대한 계수값\n",
    "\n",
    "##### 데이터 표준화"
   ]
  },
  {
   "cell_type": "code",
   "execution_count": 19,
   "metadata": {},
   "outputs": [
    {
     "data": {
      "text/html": [
       "<div>\n",
       "<style scoped>\n",
       "    .dataframe tbody tr th:only-of-type {\n",
       "        vertical-align: middle;\n",
       "    }\n",
       "\n",
       "    .dataframe tbody tr th {\n",
       "        vertical-align: top;\n",
       "    }\n",
       "\n",
       "    .dataframe thead th {\n",
       "        text-align: right;\n",
       "    }\n",
       "</style>\n",
       "<table border=\"1\" class=\"dataframe\">\n",
       "  <thead>\n",
       "    <tr style=\"text-align: right;\">\n",
       "      <th></th>\n",
       "      <th>길이</th>\n",
       "      <th>높이</th>\n",
       "      <th>두께</th>\n",
       "      <th>무게</th>\n",
       "    </tr>\n",
       "  </thead>\n",
       "  <tbody>\n",
       "    <tr>\n",
       "      <th>0</th>\n",
       "      <td>-2.180225</td>\n",
       "      <td>-2.016507</td>\n",
       "      <td>-1.896175</td>\n",
       "      <td>-1.092422</td>\n",
       "    </tr>\n",
       "    <tr>\n",
       "      <th>1</th>\n",
       "      <td>-1.587434</td>\n",
       "      <td>-1.518703</td>\n",
       "      <td>-1.560774</td>\n",
       "      <td>-1.016660</td>\n",
       "    </tr>\n",
       "    <tr>\n",
       "      <th>2</th>\n",
       "      <td>-1.442032</td>\n",
       "      <td>-1.417039</td>\n",
       "      <td>-1.316328</td>\n",
       "      <td>-0.993438</td>\n",
       "    </tr>\n",
       "    <tr>\n",
       "      <th>3</th>\n",
       "      <td>-1.307815</td>\n",
       "      <td>-1.147103</td>\n",
       "      <td>-1.202633</td>\n",
       "      <td>-0.960056</td>\n",
       "    </tr>\n",
       "    <tr>\n",
       "      <th>4</th>\n",
       "      <td>-1.173599</td>\n",
       "      <td>-1.147103</td>\n",
       "      <td>-1.026405</td>\n",
       "      <td>-0.906355</td>\n",
       "    </tr>\n",
       "  </tbody>\n",
       "</table>\n",
       "</div>"
      ],
      "text/plain": [
       "         길이        높이        두께        무게\n",
       "0 -2.180225 -2.016507 -1.896175 -1.092422\n",
       "1 -1.587434 -1.518703 -1.560774 -1.016660\n",
       "2 -1.442032 -1.417039 -1.316328 -0.993438\n",
       "3 -1.307815 -1.147103 -1.202633 -0.960056\n",
       "4 -1.173599 -1.147103 -1.026405 -0.906355"
      ]
     },
     "execution_count": 19,
     "metadata": {},
     "output_type": "execute_result"
    }
   ],
   "source": [
    "scaler = StandardScaler()\n",
    "std = scaler.fit_transform(origin)\n",
    "std_df = DataFrame(std, columns=origin.columns)\n",
    "std_df.head()"
   ]
  },
  {
   "cell_type": "code",
   "execution_count": 21,
   "metadata": {},
   "outputs": [
    {
     "data": {
      "text/plain": [
       "Intercept   -1.144917e-16\n",
       "길이           7.547791e-02\n",
       "높이           5.564681e-01\n",
       "두께           3.434446e-01\n",
       "dtype: float64"
      ]
     },
     "execution_count": 21,
     "metadata": {},
     "output_type": "execute_result"
    }
   ],
   "source": [
    "std_model = ols(\"무게 ~ 길이+높이+두께\", data=std_df)\n",
    "std_fit = std_model.fit()\n",
    "std_fit.params"
   ]
  },
  {
   "cell_type": "markdown",
   "metadata": {},
   "source": [
    "#### (3) 모든 변수에 대한 처리"
   ]
  },
  {
   "cell_type": "code",
   "execution_count": 22,
   "metadata": {},
   "outputs": [
    {
     "name": "stdout",
     "output_type": "stream",
     "text": [
      "\n",
      "Intercept\n",
      "길이\n",
      "높이\n",
      "두께\n"
     ]
    },
    {
     "data": {
      "text/plain": [
       "{'Dep. Variable': '무게',\n",
       " 'R-squared': '0.942',\n",
       " 'Model': 'OLS',\n",
       " 'Adj. R-squared': '0.939',\n",
       " 'Method': 'Least Squares',\n",
       " 'F-statistic': '283.1',\n",
       " 'Date': 'Tue, 13 Feb 2024',\n",
       " 'Prob (F-statistic)': '3.50e-32',\n",
       " 'Time': '10:01:42',\n",
       " 'Log-Likelihood': '-326.75',\n",
       " 'No. Observations': '56',\n",
       " 'AIC': '661.5',\n",
       " 'Df Residuals': '52',\n",
       " 'BIC': '669.6',\n",
       " 'Df Model': '3',\n",
       " 'Covariance Type': 'nonrobust',\n",
       " 'Omnibus': '17.977',\n",
       " 'Durbin-Watson': '0.485',\n",
       " 'Prob(Omnibus)': '0.000',\n",
       " 'Jarque-Bera (JB)': '22.453',\n",
       " 'Skew': '1.267',\n",
       " 'Prob(JB)': '1.33e-05',\n",
       " 'Kurtosis': '4.788',\n",
       " 'Cond. No': '123.',\n",
       " 'variables': [{'name': '길이',\n",
       "   'coef': '2.9083',\n",
       "   'std err': '7.734',\n",
       "   't': '0.376',\n",
       "   'P-value': '0.708',\n",
       "   'Beta': 0.07547790812536442,\n",
       "   'VIF': 230.19583296880919},\n",
       "  {'name': '높이',\n",
       "   'coef': '67.2047',\n",
       "   'std err': '29.447',\n",
       "   't': '2.282',\n",
       "   'P-value': '0.027',\n",
       "   'Beta': 0.5564680694328733,\n",
       "   'VIF': 413.5823816399529},\n",
       "  {'name': '두께',\n",
       "   'coef': '67.2603',\n",
       "   'std err': '36.011',\n",
       "   't': '1.868',\n",
       "   'P-value': '0.067',\n",
       "   'Beta': 0.3434446403678991,\n",
       "   'VIF': 247.58536118612028}]}"
      ]
     },
     "execution_count": 22,
     "metadata": {},
     "output_type": "execute_result"
    }
   ],
   "source": [
    "my['variables'] = []\n",
    "x = origin.drop('무게', axis=1)\n",
    "name_list = list(x.columns)\n",
    "\n",
    "for i, v in enumerate(tbl.tables[1].data):\n",
    "    #print(v)\n",
    "\n",
    "    # 변수의 이름\n",
    "    name = v[0].strip()\n",
    "    print(name)\n",
    "\n",
    "    if name not in name_list:\n",
    "        continue\n",
    "\n",
    "    # 변수의 이름 목록에서 현재 변수가 몇 번째 항목인지 찾기\n",
    "    j = name_list.index(name)\n",
    "\n",
    "    # 구하고자 하는 값\n",
    "    vif = variance_inflation_factor(x, j)\n",
    "\n",
    "    my['variables'].append({\n",
    "        \"name\": name,\n",
    "        \"coef\": v[1].strip(),\n",
    "        \"std err\": v[2].strip(),\n",
    "        \"t\": v[3].strip(),\n",
    "        \"P-value\": v[4].strip(),\n",
    "        \"Beta\": std_fit.params[name],\n",
    "        \"VIF\": vif,\n",
    "    })\n",
    "\n",
    "my"
   ]
  },
  {
   "cell_type": "markdown",
   "metadata": {},
   "source": [
    "### [4] 결과보고표 만들기"
   ]
  },
  {
   "cell_type": "code",
   "execution_count": 24,
   "metadata": {},
   "outputs": [
    {
     "data": {
      "text/html": [
       "<div>\n",
       "<style scoped>\n",
       "    .dataframe tbody tr th:only-of-type {\n",
       "        vertical-align: middle;\n",
       "    }\n",
       "\n",
       "    .dataframe tbody tr th {\n",
       "        vertical-align: top;\n",
       "    }\n",
       "\n",
       "    .dataframe thead th {\n",
       "        text-align: right;\n",
       "    }\n",
       "</style>\n",
       "<table border=\"1\" class=\"dataframe\">\n",
       "  <thead>\n",
       "    <tr style=\"text-align: right;\">\n",
       "      <th></th>\n",
       "      <th>종속변수</th>\n",
       "      <th>독립변수</th>\n",
       "      <th>B(비표준화 계수)</th>\n",
       "      <th>표준오차</th>\n",
       "      <th>β(표준화 계수)</th>\n",
       "      <th>t</th>\n",
       "      <th>유의확률</th>\n",
       "      <th>VIF</th>\n",
       "    </tr>\n",
       "  </thead>\n",
       "  <tbody>\n",
       "    <tr>\n",
       "      <th>0</th>\n",
       "      <td>무게</td>\n",
       "      <td>길이</td>\n",
       "      <td>2.9083</td>\n",
       "      <td>7.734</td>\n",
       "      <td>0.075478</td>\n",
       "      <td>0.376</td>\n",
       "      <td>0.708</td>\n",
       "      <td>230.195833</td>\n",
       "    </tr>\n",
       "    <tr>\n",
       "      <th>1</th>\n",
       "      <td>무게</td>\n",
       "      <td>높이</td>\n",
       "      <td>67.2047</td>\n",
       "      <td>29.447</td>\n",
       "      <td>0.556468</td>\n",
       "      <td>2.282</td>\n",
       "      <td>0.027</td>\n",
       "      <td>413.582382</td>\n",
       "    </tr>\n",
       "    <tr>\n",
       "      <th>2</th>\n",
       "      <td>무게</td>\n",
       "      <td>두께</td>\n",
       "      <td>67.2603</td>\n",
       "      <td>36.011</td>\n",
       "      <td>0.343445</td>\n",
       "      <td>1.868</td>\n",
       "      <td>0.067</td>\n",
       "      <td>247.585361</td>\n",
       "    </tr>\n",
       "  </tbody>\n",
       "</table>\n",
       "</div>"
      ],
      "text/plain": [
       "  종속변수 독립변수 B(비표준화 계수)    표준오차  β(표준화 계수)      t   유의확률         VIF\n",
       "0   무게   길이     2.9083   7.734   0.075478  0.376  0.708  230.195833\n",
       "1   무게   높이    67.2047  29.447   0.556468  2.282  0.027  413.582382\n",
       "2   무게   두께    67.2603  36.011   0.343445  1.868  0.067  247.585361"
      ]
     },
     "execution_count": 24,
     "metadata": {},
     "output_type": "execute_result"
    }
   ],
   "source": [
    "mylist = []\n",
    "\n",
    "for i in my['variables']:\n",
    "    item = {\n",
    "        \"종속변수\": '무게',\n",
    "        \"독립변수\": i['name'],\n",
    "        \"B(비표준화 계수)\": i['coef'],\n",
    "        \"표준오차\": i['std err'],\n",
    "        \"β(표준화 계수)\": i['Beta'],\n",
    "        \"t\": i['t'],\n",
    "        \"유의확률\" : i['P-value'],\n",
    "        \"VIF\": i[\"VIF\"]\n",
    "    }\n",
    "\n",
    "    mylist.append(item)\n",
    "\n",
    "rdf = DataFrame(mylist,\n",
    "               index=MultiIndex.from_arrays([yname_list, xname_list], names=['종속변수', '독립변수']))\n",
    "rdf"
   ]
  },
  {
   "cell_type": "markdown",
   "metadata": {},
   "source": [
    "### [5] 분석결과 문자열"
   ]
  },
  {
   "cell_type": "code",
   "execution_count": 25,
   "metadata": {},
   "outputs": [
    {
     "data": {
      "text/plain": [
       "'𝑅^2(0.942), Adj.𝑅^2(0.939), 𝐹(283.1), 유의확률(3.50e-32), Durbin-Watson(0.485)'"
      ]
     },
     "execution_count": 25,
     "metadata": {},
     "output_type": "execute_result"
    }
   ],
   "source": [
    "\"𝑅^2(%s), Adj.𝑅^2(%s), 𝐹(%s), 유의확률(%s), Durbin-Watson(%s)\" % (my['R-squared'], my['Adj. R-squared'], my['F-statistic'], my['Prob (F-statistic)'], my['Durbin-Watson'])"
   ]
  },
  {
   "cell_type": "markdown",
   "metadata": {},
   "source": [
    "### [6] 모형 적합도 보고 문장"
   ]
  },
  {
   "cell_type": "code",
   "execution_count": 26,
   "metadata": {},
   "outputs": [
    {
     "data": {
      "text/plain": [
       "'무게에 대하여 길이,높이,두께로 예측하는 회귀분석을 실시한 결과, 이 회귀모형은 통계적으로 유의하다(F(3,52) = 283.1, p <= 0.05).'"
      ]
     },
     "execution_count": 26,
     "metadata": {},
     "output_type": "execute_result"
    }
   ],
   "source": [
    "xname_list = rdf['독립변수'].tolist()\n",
    "\n",
    "\"%s에 대하여 %s로 예측하는 회귀분석을 실시한 결과, 이 회귀모형은 통계적으로 %s(F(%s,%s) = %s, p %s 0.05).\" % (\n",
    "    \"무게\",\n",
    "    \",\".join(xname_list),\n",
    "    \"유의하다\" if float(my['Prob (F-statistic)']) <= 0.05 else \"유의하지 않다\",\n",
    "    my['Df Model'],\n",
    "    my['Df Residuals'],\n",
    "    my['F-statistic'],\n",
    "    \"<=\" if float(my['Prob (F-statistic)']) <= 0.05 else \">\")"
   ]
  },
  {
   "cell_type": "markdown",
   "metadata": {},
   "source": [
    "### [7] 독립변수 보고"
   ]
  },
  {
   "cell_type": "code",
   "execution_count": null,
   "metadata": {},
   "outputs": [
    {
     "data": {
      "text/plain": [
       "['길이의 회귀계수는 2.9083(p > 0.05)로, dist에 대하여 유의하지 않은 예측변인인 것으로 나타났다.',\n",
       " '높이의 회귀계수는 67.2047(p <= 0.05)로, dist에 대하여 유의미한 예측변인인 것으로 나타났다.',\n",
       " '두께의 회귀계수는 67.2603(p > 0.05)로, dist에 대하여 유의하지 않은 예측변인인 것으로 나타났다.']"
      ]
     },
     "execution_count": 22,
     "metadata": {},
     "output_type": "execute_result"
    }
   ],
   "source": [
    "varstr = []\n",
    "\n",
    "for i, v in enumerate(my['variables']):\n",
    "    #print(v)\n",
    "\n",
    "    s = \"%s의 회귀계수는 %s(p %s 0.05)로, %s에 대하여 %s.\"\n",
    "    k = s % (v['name'],\n",
    "             v['coef'],\n",
    "             \"<=\" if float(v['P-value']) <= 0.05 else '>',\n",
    "             'dist',\n",
    "             '유의미한 예측변인인 것으로 나타났다' if float(v['P-value']) <= 0.05 else '유의하지 않은 예측변인인 것으로 나타났다'\n",
    "    )\n",
    "\n",
    "    varstr.append(k)\n",
    "\n",
    "varstr"
   ]
  },
  {
   "cell_type": "code",
   "execution_count": null,
   "metadata": {},
   "outputs": [],
   "source": []
  }
 ],
 "metadata": {
  "kernelspec": {
   "display_name": "Python 3",
   "language": "python",
   "name": "python3"
  },
  "language_info": {
   "codemirror_mode": {
    "name": "ipython",
    "version": 3
   },
   "file_extension": ".py",
   "mimetype": "text/x-python",
   "name": "python",
   "nbconvert_exporter": "python",
   "pygments_lexer": "ipython3",
   "version": "3.11.7"
  }
 },
 "nbformat": 4,
 "nbformat_minor": 2
}
