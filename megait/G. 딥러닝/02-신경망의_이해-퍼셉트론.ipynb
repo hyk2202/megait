{
 "cells": [
  {
   "cell_type": "markdown",
   "metadata": {},
   "source": [
    "# 신경망의 이해 - 퍼셉트론\n",
    "\n",
    "## #01. 준비작업\n",
    "\n",
    "### 1. 패키지 참조하기\n"
   ]
  },
  {
   "cell_type": "code",
   "execution_count": 27,
   "metadata": {},
   "outputs": [
    {
     "name": "stdout",
     "output_type": "stream",
     "text": [
      "The autoreload extension is already loaded. To reload it, use:\n",
      "  %reload_ext autoreload\n"
     ]
    }
   ],
   "source": [
    "# 연결된 모듈이 업데이트 되면 즉시 자동 로드함\n",
    "%load_ext autoreload\n",
    "%autoreload 2\n",
    "\n",
    "import warnings\n",
    "warnings.filterwarnings(action=\"ignore\")\n",
    "\n",
    "from helper.util import *\n",
    "from helper.plot import *\n",
    "\n",
    "from tensorflow.keras.models import Sequential # 순서층을 구성하는 모델 객체 생성 기능\n",
    "from tensorflow.keras.layers import Dense      # 모델 객체에 학습을 위한 층을 쌓는다.\n",
    "from tensorflow.keras.optimizers import SGD, RMSprop    # 옵티마이저\n",
    "from tensorflow.keras.losses import mse        # OR게이트에서 사용할 활성화 함수"
   ]
  },
  {
   "cell_type": "markdown",
   "metadata": {},
   "source": [
    "## #02. AND 게이트\n",
    "\n",
    "### [1] 데이터 가져오기\n",
    "\n",
    "훈련을 위한 데이터 자체가 워낙 양이 적기 때문에 이 예제는 훈련/검증 데이터를 분할하지 않음\n"
   ]
  },
  {
   "cell_type": "code",
   "execution_count": 28,
   "metadata": {},
   "outputs": [],
   "source": [
    "origin = my_read_excel(\"https://data.hossam.kr/mldata/and.xlsx\", info=False)"
   ]
  },
  {
   "cell_type": "markdown",
   "metadata": {},
   "source": [
    "### [2] 독립, 종속 변수 분리\n"
   ]
  },
  {
   "cell_type": "code",
   "execution_count": 29,
   "metadata": {},
   "outputs": [
    {
     "data": {
      "text/plain": [
       "(4, 2)"
      ]
     },
     "execution_count": 29,
     "metadata": {},
     "output_type": "execute_result"
    }
   ],
   "source": [
    "x = origin.drop(labels=\"target\", axis=1)\n",
    "y = origin[\"target\"]\n",
    "rows, cols = x.shape\n",
    "rows, cols"
   ]
  },
  {
   "cell_type": "markdown",
   "metadata": {},
   "source": [
    "### [3] 훈련 모델 적합\n"
   ]
  },
  {
   "cell_type": "code",
   "execution_count": 30,
   "metadata": {},
   "outputs": [
    {
     "name": "stdout",
     "output_type": "stream",
     "text": [
      "Model: \"sequential_2\"\n",
      "_________________________________________________________________\n",
      " Layer (type)                Output Shape              Param #   \n",
      "=================================================================\n",
      " dense_2 (Dense)             (None, 1)                 3         \n",
      "                                                                 \n",
      "=================================================================\n",
      "Total params: 3 (12.00 Byte)\n",
      "Trainable params: 3 (12.00 Byte)\n",
      "Non-trainable params: 0 (0.00 Byte)\n",
      "_________________________________________________________________\n"
     ]
    }
   ],
   "source": [
    "model = Sequential()\n",
    "# 1차원의 데이터를 입력으로 받고, cols개의 출력을 가지며 활성화 함수로 linear를 사용하는 첫 번째 Dense 층\n",
    "model.add(Dense(1, input_shape=(cols,), activation=\"linear\"))\n",
    "model.compile(optimizer=SGD(), loss=mse, metrics=[\"acc\"])\n",
    "model.summary()"
   ]
  },
  {
   "cell_type": "markdown",
   "metadata": {},
   "source": [
    "### [4] 학습하기\n"
   ]
  },
  {
   "cell_type": "code",
   "execution_count": 31,
   "metadata": {},
   "outputs": [
    {
     "name": "stdout",
     "output_type": "stream",
     "text": [
      "CPU times: total: 1.8 s\n",
      "Wall time: 1.61 s\n"
     ]
    },
    {
     "data": {
      "text/plain": [
       "<keras.src.callbacks.History at 0x1a34aecb810>"
      ]
     },
     "execution_count": 31,
     "metadata": {},
     "output_type": "execute_result"
    }
   ],
   "source": [
    "%%time\n",
    "result = model.fit(x, y, epochs=500, verbose=0)\n",
    "result"
   ]
  },
  {
   "cell_type": "markdown",
   "metadata": {},
   "source": [
    "### [5] 학습 결과 \n",
    "\n",
    "#### (1) 에폭별 정확도(acc)와 손실률(loss)\n"
   ]
  },
  {
   "cell_type": "code",
   "execution_count": 32,
   "metadata": {},
   "outputs": [
    {
     "data": {
      "text/html": [
       "<div>\n",
       "<style scoped>\n",
       "    .dataframe tbody tr th:only-of-type {\n",
       "        vertical-align: middle;\n",
       "    }\n",
       "\n",
       "    .dataframe tbody tr th {\n",
       "        vertical-align: top;\n",
       "    }\n",
       "\n",
       "    .dataframe thead th {\n",
       "        text-align: right;\n",
       "    }\n",
       "</style>\n",
       "<table border=\"1\" class=\"dataframe\">\n",
       "  <thead>\n",
       "    <tr style=\"text-align: right;\">\n",
       "      <th></th>\n",
       "      <th>loss</th>\n",
       "      <th>acc</th>\n",
       "      <th>epochs</th>\n",
       "    </tr>\n",
       "  </thead>\n",
       "  <tbody>\n",
       "    <tr>\n",
       "      <th>0</th>\n",
       "      <td>1.085582</td>\n",
       "      <td>0.75</td>\n",
       "      <td>1</td>\n",
       "    </tr>\n",
       "    <tr>\n",
       "      <th>1</th>\n",
       "      <td>1.046529</td>\n",
       "      <td>0.75</td>\n",
       "      <td>2</td>\n",
       "    </tr>\n",
       "    <tr>\n",
       "      <th>2</th>\n",
       "      <td>1.009714</td>\n",
       "      <td>0.75</td>\n",
       "      <td>3</td>\n",
       "    </tr>\n",
       "    <tr>\n",
       "      <th>3</th>\n",
       "      <td>0.974998</td>\n",
       "      <td>0.75</td>\n",
       "      <td>4</td>\n",
       "    </tr>\n",
       "    <tr>\n",
       "      <th>4</th>\n",
       "      <td>0.942251</td>\n",
       "      <td>0.75</td>\n",
       "      <td>5</td>\n",
       "    </tr>\n",
       "    <tr>\n",
       "      <th>...</th>\n",
       "      <td>...</td>\n",
       "      <td>...</td>\n",
       "      <td>...</td>\n",
       "    </tr>\n",
       "    <tr>\n",
       "      <th>495</th>\n",
       "      <td>0.072810</td>\n",
       "      <td>1.00</td>\n",
       "      <td>496</td>\n",
       "    </tr>\n",
       "    <tr>\n",
       "      <th>496</th>\n",
       "      <td>0.072739</td>\n",
       "      <td>1.00</td>\n",
       "      <td>497</td>\n",
       "    </tr>\n",
       "    <tr>\n",
       "      <th>497</th>\n",
       "      <td>0.072667</td>\n",
       "      <td>1.00</td>\n",
       "      <td>498</td>\n",
       "    </tr>\n",
       "    <tr>\n",
       "      <th>498</th>\n",
       "      <td>0.072597</td>\n",
       "      <td>1.00</td>\n",
       "      <td>499</td>\n",
       "    </tr>\n",
       "    <tr>\n",
       "      <th>499</th>\n",
       "      <td>0.072527</td>\n",
       "      <td>1.00</td>\n",
       "      <td>500</td>\n",
       "    </tr>\n",
       "  </tbody>\n",
       "</table>\n",
       "<p>500 rows × 3 columns</p>\n",
       "</div>"
      ],
      "text/plain": [
       "         loss   acc  epochs\n",
       "0    1.085582  0.75       1\n",
       "1    1.046529  0.75       2\n",
       "2    1.009714  0.75       3\n",
       "3    0.974998  0.75       4\n",
       "4    0.942251  0.75       5\n",
       "..        ...   ...     ...\n",
       "495  0.072810  1.00     496\n",
       "496  0.072739  1.00     497\n",
       "497  0.072667  1.00     498\n",
       "498  0.072597  1.00     499\n",
       "499  0.072527  1.00     500\n",
       "\n",
       "[500 rows x 3 columns]"
      ]
     },
     "execution_count": 32,
     "metadata": {},
     "output_type": "execute_result"
    }
   ],
   "source": [
    "result_df = DataFrame(data=result.history)\n",
    "result_df[\"epochs\"] = result_df.index + 1\n",
    "result_df"
   ]
  },
  {
   "cell_type": "markdown",
   "metadata": {},
   "source": [
    "#### (2) 정확도, 손실률 시각화\n"
   ]
  },
  {
   "cell_type": "code",
   "execution_count": 33,
   "metadata": {},
   "outputs": [
    {
     "data": {
      "text/html": [
       "<div>\n",
       "<style scoped>\n",
       "    .dataframe tbody tr th:only-of-type {\n",
       "        vertical-align: middle;\n",
       "    }\n",
       "\n",
       "    .dataframe tbody tr th {\n",
       "        vertical-align: top;\n",
       "    }\n",
       "\n",
       "    .dataframe thead th {\n",
       "        text-align: right;\n",
       "    }\n",
       "</style>\n",
       "<table border=\"1\" class=\"dataframe\">\n",
       "  <thead>\n",
       "    <tr style=\"text-align: right;\">\n",
       "      <th></th>\n",
       "      <th>epochs</th>\n",
       "      <th>metric</th>\n",
       "      <th>value</th>\n",
       "    </tr>\n",
       "  </thead>\n",
       "  <tbody>\n",
       "    <tr>\n",
       "      <th>0</th>\n",
       "      <td>1</td>\n",
       "      <td>loss</td>\n",
       "      <td>1.085582</td>\n",
       "    </tr>\n",
       "    <tr>\n",
       "      <th>1</th>\n",
       "      <td>2</td>\n",
       "      <td>loss</td>\n",
       "      <td>1.046529</td>\n",
       "    </tr>\n",
       "    <tr>\n",
       "      <th>2</th>\n",
       "      <td>3</td>\n",
       "      <td>loss</td>\n",
       "      <td>1.009714</td>\n",
       "    </tr>\n",
       "    <tr>\n",
       "      <th>3</th>\n",
       "      <td>4</td>\n",
       "      <td>loss</td>\n",
       "      <td>0.974998</td>\n",
       "    </tr>\n",
       "    <tr>\n",
       "      <th>4</th>\n",
       "      <td>5</td>\n",
       "      <td>loss</td>\n",
       "      <td>0.942251</td>\n",
       "    </tr>\n",
       "    <tr>\n",
       "      <th>...</th>\n",
       "      <td>...</td>\n",
       "      <td>...</td>\n",
       "      <td>...</td>\n",
       "    </tr>\n",
       "    <tr>\n",
       "      <th>995</th>\n",
       "      <td>496</td>\n",
       "      <td>acc</td>\n",
       "      <td>1.000000</td>\n",
       "    </tr>\n",
       "    <tr>\n",
       "      <th>996</th>\n",
       "      <td>497</td>\n",
       "      <td>acc</td>\n",
       "      <td>1.000000</td>\n",
       "    </tr>\n",
       "    <tr>\n",
       "      <th>997</th>\n",
       "      <td>498</td>\n",
       "      <td>acc</td>\n",
       "      <td>1.000000</td>\n",
       "    </tr>\n",
       "    <tr>\n",
       "      <th>998</th>\n",
       "      <td>499</td>\n",
       "      <td>acc</td>\n",
       "      <td>1.000000</td>\n",
       "    </tr>\n",
       "    <tr>\n",
       "      <th>999</th>\n",
       "      <td>500</td>\n",
       "      <td>acc</td>\n",
       "      <td>1.000000</td>\n",
       "    </tr>\n",
       "  </tbody>\n",
       "</table>\n",
       "<p>1000 rows × 3 columns</p>\n",
       "</div>"
      ],
      "text/plain": [
       "     epochs metric     value\n",
       "0         1   loss  1.085582\n",
       "1         2   loss  1.046529\n",
       "2         3   loss  1.009714\n",
       "3         4   loss  0.974998\n",
       "4         5   loss  0.942251\n",
       "..      ...    ...       ...\n",
       "995     496    acc  1.000000\n",
       "996     497    acc  1.000000\n",
       "997     498    acc  1.000000\n",
       "998     499    acc  1.000000\n",
       "999     500    acc  1.000000\n",
       "\n",
       "[1000 rows x 3 columns]"
      ]
     },
     "execution_count": 33,
     "metadata": {},
     "output_type": "execute_result"
    }
   ],
   "source": [
    "rdf = result_df.melt(id_vars=\"epochs\", var_name=\"metric\", value_name=\"value\")\n",
    "rdf"
   ]
  },
  {
   "cell_type": "code",
   "execution_count": 34,
   "metadata": {},
   "outputs": [
    {
     "data": {
      "image/png": "[encoded data removed]",
      "text/plain": [
       "<Figure size 1000x500 with 1 Axes>"
      ]
     },
     "metadata": {},
     "output_type": "display_data"
    }
   ],
   "source": [
    "my_lineplot(df=rdf, xname=\"epochs\", yname=\"value\", hue=\"metric\")"
   ]
  },
  {
   "cell_type": "markdown",
   "metadata": {},
   "source": [
    "### [6] 모델 성능 평가\n",
    "\n",
    "이 단계에서 검증 데이터를 활용해야 하지만 이 예제는 훈련/검증 데이터를 나누지 않았으므로 훈련데이터로 진행"
   ]
  },
  {
   "cell_type": "code",
   "execution_count": 35,
   "metadata": {},
   "outputs": [
    {
     "name": "stdout",
     "output_type": "stream",
     "text": [
      "1/1 [==============================] - 0s 81ms/step - loss: 0.0725 - acc: 1.0000\n",
      "손실률: 0.07%, 정확도: 1.00%\n"
     ]
    }
   ],
   "source": [
    "ev = model.evaluate(x, y)\n",
    "print(\"손실률: %0.2f%%, 정확도: %0.2f%%\" % (ev[0], ev[1]))"
   ]
  },
  {
   "cell_type": "markdown",
   "metadata": {},
   "source": [
    "### [7] 가중치, 편향 확인\n"
   ]
  },
  {
   "cell_type": "code",
   "execution_count": 36,
   "metadata": {},
   "outputs": [
    {
     "name": "stdout",
     "output_type": "stream",
     "text": [
      "가중치: [[0.31626087]\n",
      " [0.43707708]]\n",
      "편향: [-0.10371211]\n"
     ]
    }
   ],
   "source": [
    "weight, bias = model.get_weights()\n",
    "print(\"가중치: %s\" % weight)\n",
    "print(\"편향: %s\" % bias)"
   ]
  },
  {
   "cell_type": "markdown",
   "metadata": {},
   "source": [
    "### [8] 학습 결과 적용\n",
    "\n",
    "#### (1) 단일 데이터에 대한 예측치 산정\n"
   ]
  },
  {
   "cell_type": "code",
   "execution_count": 37,
   "metadata": {},
   "outputs": [
    {
     "name": "stderr",
     "output_type": "stream",
     "text": [
      "[scatterd] >WARNING> 5 out of the last 11 calls to <function Model.make_predict_function.<locals>.predict_function at 0x000001A34877B9C0> triggered tf.function retracing. Tracing is expensive and the excessive number of tracings could be due to (1) creating @tf.function repeatedly in a loop, (2) passing tensors with different shapes, (3) passing Python objects instead of tensors. For (1), please define your @tf.function outside of the loop. For (2), @tf.function has reduce_retracing=True option that can avoid unnecessary retracing. For (3), please refer to https://www.tensorflow.org/guide/function#controlling_retracing and https://www.tensorflow.org/api_docs/python/tf/function for  more details.\n"
     ]
    },
    {
     "name": "stdout",
     "output_type": "stream",
     "text": [
      "1/1 [==============================] - 0s 33ms/step\n",
      "입력: 0, 0 => 출력: -0.10\n",
      "False AND False => False\n",
      "1/1 [==============================] - 0s 16ms/step\n",
      "입력: 0, 1 => 출력: 0.33\n",
      "False AND True => False\n",
      "1/1 [==============================] - 0s 16ms/step\n",
      "입력: 1, 0 => 출력: 0.21\n",
      "True AND False => False\n",
      "1/1 [==============================] - 0s 16ms/step\n",
      "입력: 1, 1 => 출력: 0.65\n",
      "True AND True => True\n"
     ]
    }
   ],
   "source": [
    "for i in range(0, 2):\n",
    "    for j in range(0, 2):\n",
    "        r = model.predict(np.array([[i, j]]))\n",
    "        print(\"입력: %d, %d => 출력: %0.2f\" % (i, j, r[0][0]))\n",
    "        print(\"%s AND %s => %s\" % (bool(i), bool(j), bool(round(r[0, 0]))))"
   ]
  },
  {
   "cell_type": "markdown",
   "metadata": {},
   "source": [
    "#### (2) 학습 데이터 전체를 활용하여 예측값 만들기\n"
   ]
  },
  {
   "cell_type": "code",
   "execution_count": 38,
   "metadata": {},
   "outputs": [
    {
     "name": "stderr",
     "output_type": "stream",
     "text": [
      "[scatterd] >WARNING> 5 out of the last 11 calls to <function Model.make_predict_function.<locals>.predict_function at 0x000001A34877B9C0> triggered tf.function retracing. Tracing is expensive and the excessive number of tracings could be due to (1) creating @tf.function repeatedly in a loop, (2) passing tensors with different shapes, (3) passing Python objects instead of tensors. For (1), please define your @tf.function outside of the loop. For (2), @tf.function has reduce_retracing=True option that can avoid unnecessary retracing. For (3), please refer to https://www.tensorflow.org/guide/function#controlling_retracing and https://www.tensorflow.org/api_docs/python/tf/function for  more details.\n"
     ]
    },
    {
     "name": "stdout",
     "output_type": "stream",
     "text": [
      "1/1 [==============================] - 0s 36ms/step\n"
     ]
    },
    {
     "data": {
      "text/plain": [
       "array([[-0.10371211],\n",
       "       [ 0.21254876],\n",
       "       [ 0.33336496],\n",
       "       [ 0.6496259 ]], dtype=float32)"
      ]
     },
     "execution_count": 38,
     "metadata": {},
     "output_type": "execute_result"
    }
   ],
   "source": [
    "r = model.predict(x)\n",
    "r"
   ]
  },
  {
   "cell_type": "code",
   "execution_count": 39,
   "metadata": {},
   "outputs": [
    {
     "data": {
      "text/html": [
       "<div>\n",
       "<style scoped>\n",
       "    .dataframe tbody tr th:only-of-type {\n",
       "        vertical-align: middle;\n",
       "    }\n",
       "\n",
       "    .dataframe tbody tr th {\n",
       "        vertical-align: top;\n",
       "    }\n",
       "\n",
       "    .dataframe thead th {\n",
       "        text-align: right;\n",
       "    }\n",
       "</style>\n",
       "<table border=\"1\" class=\"dataframe\">\n",
       "  <thead>\n",
       "    <tr style=\"text-align: right;\">\n",
       "      <th></th>\n",
       "      <th>x1</th>\n",
       "      <th>x2</th>\n",
       "      <th>target</th>\n",
       "      <th>pred</th>\n",
       "    </tr>\n",
       "  </thead>\n",
       "  <tbody>\n",
       "    <tr>\n",
       "      <th>0</th>\n",
       "      <td>0</td>\n",
       "      <td>0</td>\n",
       "      <td>0</td>\n",
       "      <td>-0.0</td>\n",
       "    </tr>\n",
       "    <tr>\n",
       "      <th>1</th>\n",
       "      <td>1</td>\n",
       "      <td>0</td>\n",
       "      <td>0</td>\n",
       "      <td>0.0</td>\n",
       "    </tr>\n",
       "    <tr>\n",
       "      <th>2</th>\n",
       "      <td>0</td>\n",
       "      <td>1</td>\n",
       "      <td>0</td>\n",
       "      <td>0.0</td>\n",
       "    </tr>\n",
       "    <tr>\n",
       "      <th>3</th>\n",
       "      <td>1</td>\n",
       "      <td>1</td>\n",
       "      <td>1</td>\n",
       "      <td>1.0</td>\n",
       "    </tr>\n",
       "  </tbody>\n",
       "</table>\n",
       "</div>"
      ],
      "text/plain": [
       "   x1  x2  target  pred\n",
       "0   0   0       0  -0.0\n",
       "1   1   0       0   0.0\n",
       "2   0   1       0   0.0\n",
       "3   1   1       1   1.0"
      ]
     },
     "execution_count": 39,
     "metadata": {},
     "output_type": "execute_result"
    }
   ],
   "source": [
    "origin[\"pred\"] = r.reshape(-1).round()\n",
    "origin"
   ]
  },
  {
   "cell_type": "markdown",
   "metadata": {},
   "source": [
    "## #03. OR 게이트\n",
    "\n",
    "### [1] 데이터 가져오기\n"
   ]
  },
  {
   "cell_type": "code",
   "execution_count": 40,
   "metadata": {},
   "outputs": [
    {
     "name": "stdout",
     "output_type": "stream",
     "text": [
      "<class 'pandas.core.frame.DataFrame'>\n",
      "RangeIndex: 4 entries, 0 to 3\n",
      "Data columns (total 3 columns):\n",
      " #   Column  Non-Null Count  Dtype\n",
      "---  ------  --------------  -----\n",
      " 0   x1      4 non-null      int64\n",
      " 1   x2      4 non-null      int64\n",
      " 2   target  4 non-null      int64\n",
      "dtypes: int64(3)\n",
      "memory usage: 228.0 bytes\n",
      "None\n",
      "\n",
      "데이터프레임 상위 5개 행\n",
      "+----+------+------+----------+\n",
      "|    |   x1 |   x2 |   target |\n",
      "|----+------+------+----------|\n",
      "|  0 |    0 |    0 |        0 |\n",
      "|  1 |    1 |    0 |        1 |\n",
      "|  2 |    0 |    1 |        1 |\n",
      "|  3 |    1 |    1 |        1 |\n",
      "+----+------+------+----------+\n",
      "\n",
      "데이터프레임 하위 5개 행\n",
      "+----+------+------+----------+\n",
      "|    |   x1 |   x2 |   target |\n",
      "|----+------+------+----------|\n",
      "|  0 |    0 |    0 |        0 |\n",
      "|  1 |    1 |    0 |        1 |\n",
      "|  2 |    0 |    1 |        1 |\n",
      "|  3 |    1 |    1 |        1 |\n",
      "+----+------+------+----------+\n",
      "\n",
      "기술통계\n",
      "+--------+---------+--------+---------+-------+-------+-------+-------+-------+-------+\n",
      "|        |   count |   mean |     std |   min |   25% |   50% |   75% |   max |   nan |\n",
      "|--------+---------+--------+---------+-------+-------+-------+-------+-------+-------|\n",
      "| x1     |       4 |    0.5 | 0.57735 |     0 |     0 |   0.5 |     1 |     1 |     0 |\n",
      "| x2     |       4 |    0.5 | 0.57735 |     0 |     0 |   0.5 |     1 |     1 |     0 |\n",
      "| target |       4 |   0.75 |     0.5 |     0 |  0.75 |     1 |     1 |     1 |     0 |\n",
      "+--------+---------+--------+---------+-------+-------+-------+-------+-------+-------+\n"
     ]
    }
   ],
   "source": [
    "origin = my_read_excel(\"https://data.hossam.kr/mldata/or.xlsx\", info=True)"
   ]
  },
  {
   "cell_type": "markdown",
   "metadata": {},
   "source": [
    "### [2] 독립, 종속 변수 분리\n"
   ]
  },
  {
   "cell_type": "code",
   "execution_count": 41,
   "metadata": {},
   "outputs": [
    {
     "data": {
      "text/plain": [
       "(4, 2)"
      ]
     },
     "execution_count": 41,
     "metadata": {},
     "output_type": "execute_result"
    }
   ],
   "source": [
    "x = origin.drop(labels=\"target\", axis=1)\n",
    "y = origin[\"target\"]\n",
    "rows, cols = x.shape\n",
    "rows, cols"
   ]
  },
  {
   "cell_type": "markdown",
   "metadata": {},
   "source": [
    "### [3] 모델 적합\n"
   ]
  },
  {
   "cell_type": "code",
   "execution_count": 42,
   "metadata": {},
   "outputs": [
    {
     "name": "stdout",
     "output_type": "stream",
     "text": [
      "Model: \"sequential_3\"\n",
      "_________________________________________________________________\n",
      " Layer (type)                Output Shape              Param #   \n",
      "=================================================================\n",
      " dense_3 (Dense)             (None, 1)                 3         \n",
      "                                                                 \n",
      "=================================================================\n",
      "Total params: 3 (12.00 Byte)\n",
      "Trainable params: 3 (12.00 Byte)\n",
      "Non-trainable params: 0 (0.00 Byte)\n",
      "_________________________________________________________________\n"
     ]
    }
   ],
   "source": [
    "model = Sequential()\n",
    "model.add(Dense(1, activation=\"linear\", input_shape=(cols,)))\n",
    "model.compile(optimizer=SGD(), loss=mse, metrics=[\"acc\"])\n",
    "model.summary()"
   ]
  },
  {
   "cell_type": "markdown",
   "metadata": {},
   "source": [
    "### [4] 학습하기\n"
   ]
  },
  {
   "cell_type": "code",
   "execution_count": 43,
   "metadata": {},
   "outputs": [
    {
     "name": "stdout",
     "output_type": "stream",
     "text": [
      "CPU times: total: 0 ns\n",
      "Wall time: 0 ns\n"
     ]
    },
    {
     "data": {
      "text/plain": [
       "<keras.src.callbacks.History at 0x1a34ac7ecd0>"
      ]
     },
     "execution_count": 43,
     "metadata": {},
     "output_type": "execute_result"
    }
   ],
   "source": [
    "%time\n",
    "result = model.fit(x, y, epochs=500, verbose=0)\n",
    "result"
   ]
  },
  {
   "cell_type": "markdown",
   "metadata": {},
   "source": [
    "### [5] 학습 결과\n"
   ]
  },
  {
   "cell_type": "code",
   "execution_count": 44,
   "metadata": {},
   "outputs": [
    {
     "data": {
      "image/png": "[encoded data removed]",
      "text/plain": [
       "<Figure size 1000x500 with 1 Axes>"
      ]
     },
     "metadata": {},
     "output_type": "display_data"
    },
    {
     "name": "stdout",
     "output_type": "stream",
     "text": [
      "손실률: 0.07, 정확도: 1.00\n"
     ]
    }
   ],
   "source": [
    "result_df = DataFrame(result.history)\n",
    "result_df[\"epochs\"] = result_df.index + 1\n",
    "\n",
    "rdf = result_df.melt(id_vars=\"epochs\", var_name=\"metric\", value_name=\"value\")\n",
    "\n",
    "my_lineplot(df=rdf, xname=\"epochs\", yname=\"value\", hue=\"metric\")\n",
    "\n",
    "ev = model.evaluate(x, y, verbose=0)\n",
    "print(\"손실률: %0.2f, 정확도: %0.2f\" % (ev[0], ev[1]))"
   ]
  },
  {
   "cell_type": "markdown",
   "metadata": {},
   "source": [
    "### [6] 가중치, 편향\n"
   ]
  },
  {
   "cell_type": "code",
   "execution_count": 45,
   "metadata": {},
   "outputs": [
    {
     "name": "stdout",
     "output_type": "stream",
     "text": [
      "가중치: [[0.34524554]\n",
      " [0.51872283]]\n",
      "편향: [0.33067623]\n"
     ]
    }
   ],
   "source": [
    "weight, bias = model.get_weights()\n",
    "print(\"가중치: %s\" % weight)\n",
    "print(\"편향: %s\" % bias)"
   ]
  },
  {
   "cell_type": "markdown",
   "metadata": {},
   "source": [
    "### [7] 학습 결과 적용\n",
    "\n",
    "##### 단일 데이터에 대한 예측치 산정\n"
   ]
  },
  {
   "cell_type": "code",
   "execution_count": 46,
   "metadata": {},
   "outputs": [
    {
     "name": "stdout",
     "output_type": "stream",
     "text": [
      "1/1 [==============================] - 0s 31ms/step\n",
      "입력: 0, 0 => 출력: 0.33\n",
      "False OR False => False\n",
      "1/1 [==============================] - 0s 26ms/step\n",
      "입력: 0, 1 => 출력: 0.85\n",
      "False OR True => True\n",
      "1/1 [==============================] - 0s 31ms/step\n",
      "입력: 1, 0 => 출력: 0.68\n",
      "True OR False => True\n",
      "1/1 [==============================] - 0s 16ms/step\n",
      "입력: 1, 1 => 출력: 1.19\n",
      "True OR True => True\n"
     ]
    }
   ],
   "source": [
    "for i in range(0, 2):\n",
    "    for j in range(0, 2):\n",
    "        r = model.predict(np.array([[i, j]]))\n",
    "        print(\"입력: %d, %d => 출력: %0.2f\" % (i, j, r[0][0]))\n",
    "        print(\"%s OR %s => %s\" % (bool(i), bool(j), bool(round(r[0, 0]))))"
   ]
  },
  {
   "cell_type": "markdown",
   "metadata": {},
   "source": [
    "##### 학습 데이터 전체를 활용하여 예측값 만들기\n"
   ]
  },
  {
   "cell_type": "code",
   "execution_count": 47,
   "metadata": {},
   "outputs": [
    {
     "data": {
      "text/html": [
       "<div>\n",
       "<style scoped>\n",
       "    .dataframe tbody tr th:only-of-type {\n",
       "        vertical-align: middle;\n",
       "    }\n",
       "\n",
       "    .dataframe tbody tr th {\n",
       "        vertical-align: top;\n",
       "    }\n",
       "\n",
       "    .dataframe thead th {\n",
       "        text-align: right;\n",
       "    }\n",
       "</style>\n",
       "<table border=\"1\" class=\"dataframe\">\n",
       "  <thead>\n",
       "    <tr style=\"text-align: right;\">\n",
       "      <th></th>\n",
       "      <th>x1</th>\n",
       "      <th>x2</th>\n",
       "      <th>target</th>\n",
       "      <th>pred</th>\n",
       "    </tr>\n",
       "  </thead>\n",
       "  <tbody>\n",
       "    <tr>\n",
       "      <th>0</th>\n",
       "      <td>0</td>\n",
       "      <td>0</td>\n",
       "      <td>0</td>\n",
       "      <td>0.0</td>\n",
       "    </tr>\n",
       "    <tr>\n",
       "      <th>1</th>\n",
       "      <td>1</td>\n",
       "      <td>0</td>\n",
       "      <td>1</td>\n",
       "      <td>1.0</td>\n",
       "    </tr>\n",
       "    <tr>\n",
       "      <th>2</th>\n",
       "      <td>0</td>\n",
       "      <td>1</td>\n",
       "      <td>1</td>\n",
       "      <td>1.0</td>\n",
       "    </tr>\n",
       "    <tr>\n",
       "      <th>3</th>\n",
       "      <td>1</td>\n",
       "      <td>1</td>\n",
       "      <td>1</td>\n",
       "      <td>1.0</td>\n",
       "    </tr>\n",
       "  </tbody>\n",
       "</table>\n",
       "</div>"
      ],
      "text/plain": [
       "   x1  x2  target  pred\n",
       "0   0   0       0   0.0\n",
       "1   1   0       1   1.0\n",
       "2   0   1       1   1.0\n",
       "3   1   1       1   1.0"
      ]
     },
     "execution_count": 47,
     "metadata": {},
     "output_type": "execute_result"
    }
   ],
   "source": [
    "r = model.predict(x, verbose=0)\n",
    "origin[\"pred\"] = r.reshape(-1).round()\n",
    "origin"
   ]
  },
  {
   "cell_type": "markdown",
   "metadata": {},
   "source": [
    "## #04. XOR 게이트\n",
    "\n",
    "### [1] 데이터 가져오기\n"
   ]
  },
  {
   "cell_type": "code",
   "execution_count": 48,
   "metadata": {},
   "outputs": [],
   "source": [
    "origin = my_read_excel(\"https://data.hossam.kr/mldata/xor.xlsx\", info=False)"
   ]
  },
  {
   "cell_type": "markdown",
   "metadata": {},
   "source": [
    "### [2] 독립, 종속 변수 분리\n"
   ]
  },
  {
   "cell_type": "code",
   "execution_count": 49,
   "metadata": {},
   "outputs": [
    {
     "data": {
      "text/plain": [
       "(4, 2)"
      ]
     },
     "execution_count": 49,
     "metadata": {},
     "output_type": "execute_result"
    }
   ],
   "source": [
    "x = origin.drop(labels=\"target\", axis=1)\n",
    "y = origin[\"target\"]\n",
    "rows, cols = x.shape\n",
    "rows, cols"
   ]
  },
  {
   "cell_type": "markdown",
   "metadata": {},
   "source": [
    "### [3] 훈련 모델 적합\n"
   ]
  },
  {
   "cell_type": "code",
   "execution_count": 50,
   "metadata": {},
   "outputs": [
    {
     "name": "stdout",
     "output_type": "stream",
     "text": [
      "Model: \"sequential_4\"\n",
      "_________________________________________________________________\n",
      " Layer (type)                Output Shape              Param #   \n",
      "=================================================================\n",
      " dense_4 (Dense)             (None, 16)                48        \n",
      "                                                                 \n",
      " dense_5 (Dense)             (None, 1)                 17        \n",
      "                                                                 \n",
      "=================================================================\n",
      "Total params: 65 (260.00 Byte)\n",
      "Trainable params: 65 (260.00 Byte)\n",
      "Non-trainable params: 0 (0.00 Byte)\n",
      "_________________________________________________________________\n"
     ]
    }
   ],
   "source": [
    "model = Sequential()\n",
    "# 층이 2인 경우 --> 정확도 75%\n",
    "# 층이 4인 경우 --> 정확도 75%\n",
    "# 층이 8인 경우 --> 정확도 100%\n",
    "# 층이 16인 경우 --> 정확도 100%\n",
    "model.add(Dense(16, input_shape=(cols,), activation=\"relu\"))\n",
    "model.add(Dense(1, activation=\"sigmoid\"))\n",
    "model.compile(optimizer=RMSprop(), loss=mse, metrics=[\"acc\"])\n",
    "model.summary()"
   ]
  },
  {
   "cell_type": "markdown",
   "metadata": {},
   "source": [
    "### [4] 학습 및 학습 결과 확인\n"
   ]
  },
  {
   "cell_type": "code",
   "execution_count": 51,
   "metadata": {},
   "outputs": [
    {
     "name": "stdout",
     "output_type": "stream",
     "text": [
      "CPU times: total: 0 ns\n",
      "Wall time: 0 ns\n"
     ]
    },
    {
     "data": {
      "image/png": "[encoded data removed]",
      "text/plain": [
       "<Figure size 1000x500 with 1 Axes>"
      ]
     },
     "metadata": {},
     "output_type": "display_data"
    },
    {
     "name": "stderr",
     "output_type": "stream",
     "text": [
      "[scatterd] >WARNING> 5 out of the last 5 calls to <function Model.make_test_function.<locals>.test_function at 0x000001A34CF71080> triggered tf.function retracing. Tracing is expensive and the excessive number of tracings could be due to (1) creating @tf.function repeatedly in a loop, (2) passing tensors with different shapes, (3) passing Python objects instead of tensors. For (1), please define your @tf.function outside of the loop. For (2), @tf.function has reduce_retracing=True option that can avoid unnecessary retracing. For (3), please refer to https://www.tensorflow.org/guide/function#controlling_retracing and https://www.tensorflow.org/api_docs/python/tf/function for  more details.\n"
     ]
    },
    {
     "name": "stdout",
     "output_type": "stream",
     "text": [
      "손실률: 0.09, 정확도: 1.00\n"
     ]
    }
   ],
   "source": [
    "%time\n",
    "result = model.fit(x, y, epochs=500, verbose=0)\n",
    "\n",
    "result_df = DataFrame(result.history)\n",
    "result_df[\"epochs\"] = result_df.index + 1\n",
    "\n",
    "rdf = result_df.melt(id_vars=\"epochs\", var_name=\"metric\", value_name=\"value\")\n",
    "\n",
    "my_lineplot(df=rdf, xname=\"epochs\", yname=\"value\", hue=\"metric\")\n",
    "\n",
    "ev = model.evaluate(x, y, verbose=0)\n",
    "print(\"손실률: %0.2f, 정확도: %0.2f\" % (ev[0], ev[1]))"
   ]
  },
  {
   "cell_type": "markdown",
   "metadata": {},
   "source": [
    "### [5] 가중치, 편향\n"
   ]
  },
  {
   "cell_type": "code",
   "execution_count": 52,
   "metadata": {},
   "outputs": [
    {
     "data": {
      "text/plain": [
       "[array([[ 0.3927369 , -0.53186095, -0.4937157 ,  0.52132964, -0.4686592 ,\n",
       "          0.43677634, -0.56692666,  0.52797514,  0.21179575, -0.50814205,\n",
       "         -0.6649739 , -0.24976394,  0.70452577,  0.40426505, -0.5614838 ,\n",
       "         -0.33118686],\n",
       "        [ 0.39287654,  0.53209656,  0.49329302, -0.52246726,  0.4697584 ,\n",
       "          0.43663782, -0.2081497 , -0.528934  , -0.47514325,  0.5076751 ,\n",
       "          0.6635781 , -0.30602   ,  0.30358273,  0.08931026, -0.34746465,\n",
       "          0.79635096]], dtype=float32),\n",
       " array([-3.9272052e-01, -9.3863130e-04, -3.4136081e-04, -3.3006538e-05,\n",
       "         9.4574736e-04, -4.3504050e-01,  0.0000000e+00,  2.3145694e-06,\n",
       "        -2.1194749e-01, -2.6915106e-04, -3.4221431e-04,  0.0000000e+00,\n",
       "         2.5598044e-03,  2.6217490e-03,  0.0000000e+00,  4.1401857e-01],\n",
       "       dtype=float32),\n",
       " array([[-0.5831998 ],\n",
       "        [ 0.9684882 ],\n",
       "        [ 0.8489796 ],\n",
       "        [ 0.71126485],\n",
       "        [ 0.70133704],\n",
       "        [-0.81883585],\n",
       "        [ 0.49890482],\n",
       "        [ 0.5259442 ],\n",
       "        [-0.34715545],\n",
       "        [ 0.78549194],\n",
       "        [ 0.8187308 ],\n",
       "        [-0.54718643],\n",
       "        [ 0.6776894 ],\n",
       "        [ 0.6092973 ],\n",
       "        [-0.45261014],\n",
       "        [-0.95438224]], dtype=float32),\n",
       " array([-0.43837056], dtype=float32)]"
      ]
     },
     "execution_count": 52,
     "metadata": {},
     "output_type": "execute_result"
    }
   ],
   "source": [
    "weights = model.get_weights()\n",
    "weights"
   ]
  },
  {
   "cell_type": "code",
   "execution_count": 53,
   "metadata": {},
   "outputs": [
    {
     "name": "stdout",
     "output_type": "stream",
     "text": [
      "(2, 16)\n",
      "(16,)\n",
      "(16, 1)\n",
      "(1,)\n"
     ]
    }
   ],
   "source": [
    "# 2차원 배열 - 입력층과 은닉층을 연결하는 가중치\n",
    "print(weights[0].shape)\n",
    "\n",
    "# 1차원 배열 - 은닉층의 편향\n",
    "print(weights[1].shape)\n",
    "\n",
    "# 2차원 배열 - 은닉층과 출력층을 연결하는 가중치\n",
    "print(weights[2].shape)\n",
    "\n",
    "# 1차원 배열 - 출력층의 편향\n",
    "print(weights[3].shape)"
   ]
  },
  {
   "cell_type": "markdown",
   "metadata": {},
   "source": [
    "### [6] 학습 결과 적용\n",
    "\n",
    "##### 단일 데이터에 대한 예측치 산정\n"
   ]
  },
  {
   "cell_type": "code",
   "execution_count": 54,
   "metadata": {},
   "outputs": [
    {
     "name": "stdout",
     "output_type": "stream",
     "text": [
      "1/1 [==============================] - 0s 47ms/step\n",
      "입력: 0, 0 => 출력: 0.30\n",
      "False OR False => False\n",
      "1/1 [==============================] - 0s 24ms/step\n",
      "입력: 0, 1 => 출력: 0.71\n",
      "False OR True => True\n",
      "1/1 [==============================] - 0s 18ms/step\n",
      "입력: 1, 0 => 출력: 0.70\n",
      "True OR False => True\n",
      "1/1 [==============================] - 0s 18ms/step\n",
      "입력: 1, 1 => 출력: 0.29\n",
      "True OR True => False\n"
     ]
    }
   ],
   "source": [
    "for i in range(0, 2):\n",
    "    for j in range(0, 2):\n",
    "        r = model.predict(np.array([[i, j]]))\n",
    "        print(\"입력: %d, %d => 출력: %0.2f\" % (i, j, r[0][0]))\n",
    "        print(\"%s OR %s => %s\" % (bool(i), bool(j), bool(round(r[0, 0]))))"
   ]
  },
  {
   "cell_type": "markdown",
   "metadata": {},
   "source": [
    "##### 학습 데이터 전체를 활용하여 예측값 만들기\n"
   ]
  },
  {
   "cell_type": "code",
   "execution_count": 55,
   "metadata": {},
   "outputs": [
    {
     "data": {
      "text/html": [
       "<div>\n",
       "<style scoped>\n",
       "    .dataframe tbody tr th:only-of-type {\n",
       "        vertical-align: middle;\n",
       "    }\n",
       "\n",
       "    .dataframe tbody tr th {\n",
       "        vertical-align: top;\n",
       "    }\n",
       "\n",
       "    .dataframe thead th {\n",
       "        text-align: right;\n",
       "    }\n",
       "</style>\n",
       "<table border=\"1\" class=\"dataframe\">\n",
       "  <thead>\n",
       "    <tr style=\"text-align: right;\">\n",
       "      <th></th>\n",
       "      <th>x1</th>\n",
       "      <th>x2</th>\n",
       "      <th>target</th>\n",
       "      <th>pred</th>\n",
       "    </tr>\n",
       "  </thead>\n",
       "  <tbody>\n",
       "    <tr>\n",
       "      <th>0</th>\n",
       "      <td>0</td>\n",
       "      <td>0</td>\n",
       "      <td>0</td>\n",
       "      <td>0.0</td>\n",
       "    </tr>\n",
       "    <tr>\n",
       "      <th>1</th>\n",
       "      <td>1</td>\n",
       "      <td>0</td>\n",
       "      <td>1</td>\n",
       "      <td>1.0</td>\n",
       "    </tr>\n",
       "    <tr>\n",
       "      <th>2</th>\n",
       "      <td>0</td>\n",
       "      <td>1</td>\n",
       "      <td>1</td>\n",
       "      <td>1.0</td>\n",
       "    </tr>\n",
       "    <tr>\n",
       "      <th>3</th>\n",
       "      <td>1</td>\n",
       "      <td>1</td>\n",
       "      <td>0</td>\n",
       "      <td>0.0</td>\n",
       "    </tr>\n",
       "  </tbody>\n",
       "</table>\n",
       "</div>"
      ],
      "text/plain": [
       "   x1  x2  target  pred\n",
       "0   0   0       0   0.0\n",
       "1   1   0       1   1.0\n",
       "2   0   1       1   1.0\n",
       "3   1   1       0   0.0"
      ]
     },
     "execution_count": 55,
     "metadata": {},
     "output_type": "execute_result"
    }
   ],
   "source": [
    "r = model.predict(x, verbose=0)\n",
    "origin[\"pred\"] = r.reshape(-1).round()\n",
    "origin"
   ]
  }
 ],
 "metadata": {
  "kernelspec": {
   "display_name": "Python 3",
   "language": "python",
   "name": "python3"
  },
  "language_info": {
   "codemirror_mode": {
    "name": "ipython",
    "version": 3
   },
   "file_extension": ".py",
   "mimetype": "text/x-python",
   "name": "python",
   "nbconvert_exporter": "python",
   "pygments_lexer": "ipython3",
   "version": "3.11.7"
  }
 },
 "nbformat": 4,
 "nbformat_minor": 4
}
