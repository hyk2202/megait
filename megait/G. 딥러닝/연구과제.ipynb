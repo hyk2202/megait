{
 "cells": [
  {
   "cell_type": "markdown",
   "metadata": {},
   "source": [
    "## #01. 준비작업\n",
    "### [1] 패키지 가져오기"
   ]
  },
  {
   "cell_type": "code",
   "execution_count": 58,
   "metadata": {},
   "outputs": [],
   "source": [
    "from helper.util import *\n",
    "from helper.plot import *\n",
    "from helper.tensor import *\n",
    "from helper.re import *\n",
    "\n",
    "from datetime import datetime as dt\n",
    "from kerastuner import Hyperband\n",
    "\n",
    "from tensorflow.keras.models import Sequential\n",
    "from tensorflow.keras.layers import Dense\n",
    "\n",
    "# 학습에 대한 콜백함수 참조\n",
    "from tensorflow.keras.callbacks import EarlyStopping, ReduceLROnPlateau, ModelCheckpoint\n",
    "\n",
    "from ipywidgets import interact\n",
    "\n",
    "from tensorflow.keras.optimizers import Adam, RMSprop\n",
    "\n",
    "from tensorflow.random import set_seed\n",
    "from tensorflow.keras.initializers import GlorotUniform\n",
    "\n",
    "set_seed(get_random_state())\n",
    "__initializer__ = GlorotUniform(seed=get_random_state())"
   ]
  },
  {
   "cell_type": "markdown",
   "metadata": {},
   "source": [
    "## 01. 보스턴 집값 예측모형을 신경망 기반으로 구현하시오\n",
    "\n",
    "1. 범주형을 제외한 변수는 MinMax 스케일링을 수행\n",
    "2. 학습 수행 전 다중공선성을 제거\n",
    "3. 위 조건에 대하여 다중선형회귀, 다항선형회귀모형으로 구현"
   ]
  },
  {
   "cell_type": "markdown",
   "metadata": {},
   "source": [
    "### [1] 데이터 가져오기"
   ]
  },
  {
   "cell_type": "code",
   "execution_count": 59,
   "metadata": {},
   "outputs": [],
   "source": [
    "origin = my_read_excel(\"https://data.hossam.kr/mldata/boston.xlsx\", info=False)"
   ]
  },
  {
   "cell_type": "markdown",
   "metadata": {},
   "source": [
    "### [2] 스케일링\n"
   ]
  },
  {
   "cell_type": "code",
   "execution_count": 60,
   "metadata": {},
   "outputs": [
    {
     "data": {
      "text/html": [
       "<div>\n",
       "<style scoped>\n",
       "    .dataframe tbody tr th:only-of-type {\n",
       "        vertical-align: middle;\n",
       "    }\n",
       "\n",
       "    .dataframe tbody tr th {\n",
       "        vertical-align: top;\n",
       "    }\n",
       "\n",
       "    .dataframe thead th {\n",
       "        text-align: right;\n",
       "    }\n",
       "</style>\n",
       "<table border=\"1\" class=\"dataframe\">\n",
       "  <thead>\n",
       "    <tr style=\"text-align: right;\">\n",
       "      <th></th>\n",
       "      <th>CRIM</th>\n",
       "      <th>ZN</th>\n",
       "      <th>INDUS</th>\n",
       "      <th>CHAS</th>\n",
       "      <th>NOX</th>\n",
       "      <th>RM</th>\n",
       "      <th>AGE</th>\n",
       "      <th>DIS</th>\n",
       "      <th>RAD</th>\n",
       "      <th>TAX</th>\n",
       "      <th>PTRATIO</th>\n",
       "      <th>B</th>\n",
       "      <th>LSTAT</th>\n",
       "      <th>MEDV</th>\n",
       "    </tr>\n",
       "  </thead>\n",
       "  <tbody>\n",
       "    <tr>\n",
       "      <th>0</th>\n",
       "      <td>0.000000</td>\n",
       "      <td>0.18</td>\n",
       "      <td>0.067815</td>\n",
       "      <td>0.0</td>\n",
       "      <td>0.314815</td>\n",
       "      <td>0.577505</td>\n",
       "      <td>0.641607</td>\n",
       "      <td>0.269203</td>\n",
       "      <td>0.000000</td>\n",
       "      <td>0.208015</td>\n",
       "      <td>0.287234</td>\n",
       "      <td>1.000000</td>\n",
       "      <td>0.089680</td>\n",
       "      <td>24.0</td>\n",
       "    </tr>\n",
       "    <tr>\n",
       "      <th>1</th>\n",
       "      <td>0.000236</td>\n",
       "      <td>0.00</td>\n",
       "      <td>0.242302</td>\n",
       "      <td>0.0</td>\n",
       "      <td>0.172840</td>\n",
       "      <td>0.547998</td>\n",
       "      <td>0.782698</td>\n",
       "      <td>0.348962</td>\n",
       "      <td>0.043478</td>\n",
       "      <td>0.104962</td>\n",
       "      <td>0.553191</td>\n",
       "      <td>1.000000</td>\n",
       "      <td>0.204470</td>\n",
       "      <td>21.6</td>\n",
       "    </tr>\n",
       "    <tr>\n",
       "      <th>2</th>\n",
       "      <td>0.000236</td>\n",
       "      <td>0.00</td>\n",
       "      <td>0.242302</td>\n",
       "      <td>0.0</td>\n",
       "      <td>0.172840</td>\n",
       "      <td>0.694386</td>\n",
       "      <td>0.599382</td>\n",
       "      <td>0.348962</td>\n",
       "      <td>0.043478</td>\n",
       "      <td>0.104962</td>\n",
       "      <td>0.553191</td>\n",
       "      <td>0.989737</td>\n",
       "      <td>0.063466</td>\n",
       "      <td>34.7</td>\n",
       "    </tr>\n",
       "    <tr>\n",
       "      <th>3</th>\n",
       "      <td>0.000293</td>\n",
       "      <td>0.00</td>\n",
       "      <td>0.063050</td>\n",
       "      <td>0.0</td>\n",
       "      <td>0.150206</td>\n",
       "      <td>0.658555</td>\n",
       "      <td>0.441813</td>\n",
       "      <td>0.448545</td>\n",
       "      <td>0.086957</td>\n",
       "      <td>0.066794</td>\n",
       "      <td>0.648936</td>\n",
       "      <td>0.994276</td>\n",
       "      <td>0.033389</td>\n",
       "      <td>33.4</td>\n",
       "    </tr>\n",
       "    <tr>\n",
       "      <th>4</th>\n",
       "      <td>0.000705</td>\n",
       "      <td>0.00</td>\n",
       "      <td>0.063050</td>\n",
       "      <td>0.0</td>\n",
       "      <td>0.150206</td>\n",
       "      <td>0.687105</td>\n",
       "      <td>0.528321</td>\n",
       "      <td>0.448545</td>\n",
       "      <td>0.086957</td>\n",
       "      <td>0.066794</td>\n",
       "      <td>0.648936</td>\n",
       "      <td>1.000000</td>\n",
       "      <td>0.099338</td>\n",
       "      <td>36.2</td>\n",
       "    </tr>\n",
       "    <tr>\n",
       "      <th>...</th>\n",
       "      <td>...</td>\n",
       "      <td>...</td>\n",
       "      <td>...</td>\n",
       "      <td>...</td>\n",
       "      <td>...</td>\n",
       "      <td>...</td>\n",
       "      <td>...</td>\n",
       "      <td>...</td>\n",
       "      <td>...</td>\n",
       "      <td>...</td>\n",
       "      <td>...</td>\n",
       "      <td>...</td>\n",
       "      <td>...</td>\n",
       "      <td>...</td>\n",
       "    </tr>\n",
       "    <tr>\n",
       "      <th>501</th>\n",
       "      <td>0.000633</td>\n",
       "      <td>0.00</td>\n",
       "      <td>0.420455</td>\n",
       "      <td>0.0</td>\n",
       "      <td>0.386831</td>\n",
       "      <td>0.580954</td>\n",
       "      <td>0.681771</td>\n",
       "      <td>0.122671</td>\n",
       "      <td>0.000000</td>\n",
       "      <td>0.164122</td>\n",
       "      <td>0.893617</td>\n",
       "      <td>0.987619</td>\n",
       "      <td>0.219095</td>\n",
       "      <td>22.4</td>\n",
       "    </tr>\n",
       "    <tr>\n",
       "      <th>502</th>\n",
       "      <td>0.000438</td>\n",
       "      <td>0.00</td>\n",
       "      <td>0.420455</td>\n",
       "      <td>0.0</td>\n",
       "      <td>0.386831</td>\n",
       "      <td>0.490324</td>\n",
       "      <td>0.760041</td>\n",
       "      <td>0.105293</td>\n",
       "      <td>0.000000</td>\n",
       "      <td>0.164122</td>\n",
       "      <td>0.893617</td>\n",
       "      <td>1.000000</td>\n",
       "      <td>0.202815</td>\n",
       "      <td>20.6</td>\n",
       "    </tr>\n",
       "    <tr>\n",
       "      <th>503</th>\n",
       "      <td>0.000612</td>\n",
       "      <td>0.00</td>\n",
       "      <td>0.420455</td>\n",
       "      <td>0.0</td>\n",
       "      <td>0.386831</td>\n",
       "      <td>0.654340</td>\n",
       "      <td>0.907312</td>\n",
       "      <td>0.094381</td>\n",
       "      <td>0.000000</td>\n",
       "      <td>0.164122</td>\n",
       "      <td>0.893617</td>\n",
       "      <td>1.000000</td>\n",
       "      <td>0.107892</td>\n",
       "      <td>23.9</td>\n",
       "    </tr>\n",
       "    <tr>\n",
       "      <th>504</th>\n",
       "      <td>0.001161</td>\n",
       "      <td>0.00</td>\n",
       "      <td>0.420455</td>\n",
       "      <td>0.0</td>\n",
       "      <td>0.386831</td>\n",
       "      <td>0.619467</td>\n",
       "      <td>0.889804</td>\n",
       "      <td>0.114514</td>\n",
       "      <td>0.000000</td>\n",
       "      <td>0.164122</td>\n",
       "      <td>0.893617</td>\n",
       "      <td>0.991301</td>\n",
       "      <td>0.131071</td>\n",
       "      <td>22.0</td>\n",
       "    </tr>\n",
       "    <tr>\n",
       "      <th>505</th>\n",
       "      <td>0.000462</td>\n",
       "      <td>0.00</td>\n",
       "      <td>0.420455</td>\n",
       "      <td>0.0</td>\n",
       "      <td>0.386831</td>\n",
       "      <td>0.473079</td>\n",
       "      <td>0.802266</td>\n",
       "      <td>0.125072</td>\n",
       "      <td>0.000000</td>\n",
       "      <td>0.164122</td>\n",
       "      <td>0.893617</td>\n",
       "      <td>1.000000</td>\n",
       "      <td>0.169702</td>\n",
       "      <td>11.9</td>\n",
       "    </tr>\n",
       "  </tbody>\n",
       "</table>\n",
       "<p>506 rows × 14 columns</p>\n",
       "</div>"
      ],
      "text/plain": [
       "         CRIM    ZN     INDUS  CHAS       NOX        RM       AGE       DIS  \\\n",
       "0    0.000000  0.18  0.067815   0.0  0.314815  0.577505  0.641607  0.269203   \n",
       "1    0.000236  0.00  0.242302   0.0  0.172840  0.547998  0.782698  0.348962   \n",
       "2    0.000236  0.00  0.242302   0.0  0.172840  0.694386  0.599382  0.348962   \n",
       "3    0.000293  0.00  0.063050   0.0  0.150206  0.658555  0.441813  0.448545   \n",
       "4    0.000705  0.00  0.063050   0.0  0.150206  0.687105  0.528321  0.448545   \n",
       "..        ...   ...       ...   ...       ...       ...       ...       ...   \n",
       "501  0.000633  0.00  0.420455   0.0  0.386831  0.580954  0.681771  0.122671   \n",
       "502  0.000438  0.00  0.420455   0.0  0.386831  0.490324  0.760041  0.105293   \n",
       "503  0.000612  0.00  0.420455   0.0  0.386831  0.654340  0.907312  0.094381   \n",
       "504  0.001161  0.00  0.420455   0.0  0.386831  0.619467  0.889804  0.114514   \n",
       "505  0.000462  0.00  0.420455   0.0  0.386831  0.473079  0.802266  0.125072   \n",
       "\n",
       "          RAD       TAX   PTRATIO         B     LSTAT  MEDV  \n",
       "0    0.000000  0.208015  0.287234  1.000000  0.089680  24.0  \n",
       "1    0.043478  0.104962  0.553191  1.000000  0.204470  21.6  \n",
       "2    0.043478  0.104962  0.553191  0.989737  0.063466  34.7  \n",
       "3    0.086957  0.066794  0.648936  0.994276  0.033389  33.4  \n",
       "4    0.086957  0.066794  0.648936  1.000000  0.099338  36.2  \n",
       "..        ...       ...       ...       ...       ...   ...  \n",
       "501  0.000000  0.164122  0.893617  0.987619  0.219095  22.4  \n",
       "502  0.000000  0.164122  0.893617  1.000000  0.202815  20.6  \n",
       "503  0.000000  0.164122  0.893617  1.000000  0.107892  23.9  \n",
       "504  0.000000  0.164122  0.893617  0.991301  0.131071  22.0  \n",
       "505  0.000000  0.164122  0.893617  1.000000  0.169702  11.9  \n",
       "\n",
       "[506 rows x 14 columns]"
      ]
     },
     "execution_count": 60,
     "metadata": {},
     "output_type": "execute_result"
    }
   ],
   "source": [
    "df = my_minmax_scaler(origin, 'MEDV')\n",
    "df"
   ]
  },
  {
   "cell_type": "markdown",
   "metadata": {},
   "source": [
    "### [3] 학습 수행 전 다중공선성을 제거"
   ]
  },
  {
   "cell_type": "code",
   "execution_count": 61,
   "metadata": {},
   "outputs": [
    {
     "data": {
      "text/html": [
       "<div>\n",
       "<style scoped>\n",
       "    .dataframe tbody tr th:only-of-type {\n",
       "        vertical-align: middle;\n",
       "    }\n",
       "\n",
       "    .dataframe tbody tr th {\n",
       "        vertical-align: top;\n",
       "    }\n",
       "\n",
       "    .dataframe thead th {\n",
       "        text-align: right;\n",
       "    }\n",
       "</style>\n",
       "<table border=\"1\" class=\"dataframe\">\n",
       "  <thead>\n",
       "    <tr style=\"text-align: right;\">\n",
       "      <th></th>\n",
       "      <th>CRIM</th>\n",
       "      <th>ZN</th>\n",
       "      <th>INDUS</th>\n",
       "      <th>DIS</th>\n",
       "      <th>RAD</th>\n",
       "      <th>B</th>\n",
       "      <th>LSTAT</th>\n",
       "      <th>CHAS</th>\n",
       "      <th>MEDV</th>\n",
       "    </tr>\n",
       "  </thead>\n",
       "  <tbody>\n",
       "    <tr>\n",
       "      <th>0</th>\n",
       "      <td>0.00632</td>\n",
       "      <td>18.0</td>\n",
       "      <td>2.31</td>\n",
       "      <td>4.0900</td>\n",
       "      <td>1</td>\n",
       "      <td>396.90</td>\n",
       "      <td>4.98</td>\n",
       "      <td>0</td>\n",
       "      <td>24.0</td>\n",
       "    </tr>\n",
       "    <tr>\n",
       "      <th>1</th>\n",
       "      <td>0.02731</td>\n",
       "      <td>0.0</td>\n",
       "      <td>7.07</td>\n",
       "      <td>4.9671</td>\n",
       "      <td>2</td>\n",
       "      <td>396.90</td>\n",
       "      <td>9.14</td>\n",
       "      <td>0</td>\n",
       "      <td>21.6</td>\n",
       "    </tr>\n",
       "    <tr>\n",
       "      <th>2</th>\n",
       "      <td>0.02729</td>\n",
       "      <td>0.0</td>\n",
       "      <td>7.07</td>\n",
       "      <td>4.9671</td>\n",
       "      <td>2</td>\n",
       "      <td>392.83</td>\n",
       "      <td>4.03</td>\n",
       "      <td>0</td>\n",
       "      <td>34.7</td>\n",
       "    </tr>\n",
       "    <tr>\n",
       "      <th>3</th>\n",
       "      <td>0.03237</td>\n",
       "      <td>0.0</td>\n",
       "      <td>2.18</td>\n",
       "      <td>6.0622</td>\n",
       "      <td>3</td>\n",
       "      <td>394.63</td>\n",
       "      <td>2.94</td>\n",
       "      <td>0</td>\n",
       "      <td>33.4</td>\n",
       "    </tr>\n",
       "    <tr>\n",
       "      <th>4</th>\n",
       "      <td>0.06905</td>\n",
       "      <td>0.0</td>\n",
       "      <td>2.18</td>\n",
       "      <td>6.0622</td>\n",
       "      <td>3</td>\n",
       "      <td>396.90</td>\n",
       "      <td>5.33</td>\n",
       "      <td>0</td>\n",
       "      <td>36.2</td>\n",
       "    </tr>\n",
       "    <tr>\n",
       "      <th>...</th>\n",
       "      <td>...</td>\n",
       "      <td>...</td>\n",
       "      <td>...</td>\n",
       "      <td>...</td>\n",
       "      <td>...</td>\n",
       "      <td>...</td>\n",
       "      <td>...</td>\n",
       "      <td>...</td>\n",
       "      <td>...</td>\n",
       "    </tr>\n",
       "    <tr>\n",
       "      <th>501</th>\n",
       "      <td>0.06263</td>\n",
       "      <td>0.0</td>\n",
       "      <td>11.93</td>\n",
       "      <td>2.4786</td>\n",
       "      <td>1</td>\n",
       "      <td>391.99</td>\n",
       "      <td>9.67</td>\n",
       "      <td>0</td>\n",
       "      <td>22.4</td>\n",
       "    </tr>\n",
       "    <tr>\n",
       "      <th>502</th>\n",
       "      <td>0.04527</td>\n",
       "      <td>0.0</td>\n",
       "      <td>11.93</td>\n",
       "      <td>2.2875</td>\n",
       "      <td>1</td>\n",
       "      <td>396.90</td>\n",
       "      <td>9.08</td>\n",
       "      <td>0</td>\n",
       "      <td>20.6</td>\n",
       "    </tr>\n",
       "    <tr>\n",
       "      <th>503</th>\n",
       "      <td>0.06076</td>\n",
       "      <td>0.0</td>\n",
       "      <td>11.93</td>\n",
       "      <td>2.1675</td>\n",
       "      <td>1</td>\n",
       "      <td>396.90</td>\n",
       "      <td>5.64</td>\n",
       "      <td>0</td>\n",
       "      <td>23.9</td>\n",
       "    </tr>\n",
       "    <tr>\n",
       "      <th>504</th>\n",
       "      <td>0.10959</td>\n",
       "      <td>0.0</td>\n",
       "      <td>11.93</td>\n",
       "      <td>2.3889</td>\n",
       "      <td>1</td>\n",
       "      <td>393.45</td>\n",
       "      <td>6.48</td>\n",
       "      <td>0</td>\n",
       "      <td>22.0</td>\n",
       "    </tr>\n",
       "    <tr>\n",
       "      <th>505</th>\n",
       "      <td>0.04741</td>\n",
       "      <td>0.0</td>\n",
       "      <td>11.93</td>\n",
       "      <td>2.5050</td>\n",
       "      <td>1</td>\n",
       "      <td>396.90</td>\n",
       "      <td>7.88</td>\n",
       "      <td>0</td>\n",
       "      <td>11.9</td>\n",
       "    </tr>\n",
       "  </tbody>\n",
       "</table>\n",
       "<p>506 rows × 9 columns</p>\n",
       "</div>"
      ],
      "text/plain": [
       "        CRIM    ZN  INDUS     DIS  RAD       B  LSTAT  CHAS  MEDV\n",
       "0    0.00632  18.0   2.31  4.0900    1  396.90   4.98     0  24.0\n",
       "1    0.02731   0.0   7.07  4.9671    2  396.90   9.14     0  21.6\n",
       "2    0.02729   0.0   7.07  4.9671    2  392.83   4.03     0  34.7\n",
       "3    0.03237   0.0   2.18  6.0622    3  394.63   2.94     0  33.4\n",
       "4    0.06905   0.0   2.18  6.0622    3  396.90   5.33     0  36.2\n",
       "..       ...   ...    ...     ...  ...     ...    ...   ...   ...\n",
       "501  0.06263   0.0  11.93  2.4786    1  391.99   9.67     0  22.4\n",
       "502  0.04527   0.0  11.93  2.2875    1  396.90   9.08     0  20.6\n",
       "503  0.06076   0.0  11.93  2.1675    1  396.90   5.64     0  23.9\n",
       "504  0.10959   0.0  11.93  2.3889    1  393.45   6.48     0  22.0\n",
       "505  0.04741   0.0  11.93  2.5050    1  396.90   7.88     0  11.9\n",
       "\n",
       "[506 rows x 9 columns]"
      ]
     },
     "execution_count": 61,
     "metadata": {},
     "output_type": "execute_result"
    }
   ],
   "source": [
    "df2 = my_vif_filter(origin, 'MEDV')\n",
    "df2"
   ]
  },
  {
   "cell_type": "markdown",
   "metadata": {},
   "source": [
    "### [4] 모델구현하기\n",
    "#### (1) 다중선형회귀 "
   ]
  },
  {
   "cell_type": "markdown",
   "metadata": {},
   "source": [
    "##### 1) 데이터 분할"
   ]
  },
  {
   "cell_type": "code",
   "execution_count": 62,
   "metadata": {},
   "outputs": [
    {
     "data": {
      "text/plain": [
       "(404, 8)"
      ]
     },
     "execution_count": 62,
     "metadata": {},
     "output_type": "execute_result"
    }
   ],
   "source": [
    "x_train, x_test, y_train, y_test = my_train_test_split(df2, yname='MEDV')\n",
    "rows, cols = x_train.shape\n",
    "rows, cols"
   ]
  },
  {
   "cell_type": "markdown",
   "metadata": {},
   "source": [
    "##### 2) 신경망 정의\n",
    "\n",
    "| 구분 | 모델 | 활성화 함수 | 옵티마이저 | 손실함수 | 평가지표 | 대표예제 |\n",
    "|--|--|--|--|--|--|--|\n",
    "| 회귀 | 단순선형회귀 | relu, relu, linear | adam | mse | mae | 보스턴 집값 예측 |"
   ]
  },
  {
   "cell_type": "markdown",
   "metadata": {},
   "source": [
    "##### 3) 하이퍼 파라미터 튜닝\n",
    "\n",
    "###### 모델 생성 함수 정의"
   ]
  },
  {
   "cell_type": "code",
   "execution_count": 63,
   "metadata": {},
   "outputs": [],
   "source": [
    "def tf_build(hp) -> Sequential:\n",
    "    # print(type(hp))\n",
    "    model = Sequential()\n",
    "\n",
    "    model.add(\n",
    "        Dense(\n",
    "            units=hp.Choice(\"units\", values=[32, 64, 128,256,512]),\n",
    "            activation=\"relu\",\n",
    "            input_shape=(cols,),\n",
    "        )\n",
    "    )\n",
    "    model.add(\n",
    "        Dense(\n",
    "            units=hp.Choice(\"units\", values=[16, 32, 64,128,256]),\n",
    "            activation=\"relu\",\n",
    "        )\n",
    "    )\n",
    "    model.add(Dense(1, activation=\"linear\"))\n",
    "\n",
    "    model.compile(\n",
    "        optimizer=Adam(hp.Choice(\"learning_rate\", values=[1e-2, 1e-3, 1e-4])),\n",
    "        loss=\"mse\",\n",
    "        metrics=[\"mae\"],\n",
    "    )\n",
    "\n",
    "    return model"
   ]
  },
  {
   "cell_type": "markdown",
   "metadata": {},
   "source": [
    "###### 튜닝수행"
   ]
  },
  {
   "cell_type": "code",
   "execution_count": 64,
   "metadata": {},
   "outputs": [
    {
     "data": {
      "text/plain": [
       "<keras_tuner.src.tuners.hyperband.Hyperband at 0x2030c2ba950>"
      ]
     },
     "execution_count": 64,
     "metadata": {},
     "output_type": "execute_result"
    }
   ],
   "source": [
    "tuner = Hyperband(\n",
    "    hypermodel=tf_build, # 하이퍼파라미터를 튜닝하기 위한 모델 생성 함수\n",
    "    objective=\"val_mae\", # 최적화 기준값\n",
    "    max_epochs=10,     \n",
    "    factor=3,\n",
    "    seed=get_random_state(),\n",
    "    directory=\"D:\\\\tensor_hyperband\",\n",
    "    project_name=\"tf_hyperband_%s\" % dt.now().strftime(\"%Y%m%d%H%M%S\"),\n",
    ")\n",
    "\n",
    "tuner"
   ]
  },
  {
   "cell_type": "code",
   "execution_count": 65,
   "metadata": {},
   "outputs": [
    {
     "name": "stdout",
     "output_type": "stream",
     "text": [
      "Trial 21 Complete [00h 00m 02s]\n",
      "val_mae: 45.02643966674805\n",
      "\n",
      "Best val_mae So Far: 4.939619541168213\n",
      "Total elapsed time: 00h 00m 46s\n",
      "\n",
      "The hyperparameter search is complete. The optimal number of units in the first densely-connected\n",
      "layer is 256 and the optimal learning rate for the optimizer\n",
      "is 0.01.\n",
      "\n"
     ]
    }
   ],
   "source": [
    "tuner.search(\n",
    "    x_train, y_train, epochs=10, batch_size=32, validation_data=(x_test, y_test)\n",
    ")\n",
    "\n",
    "# Get the optimal hyperparameters\n",
    "best_hps = tuner.get_best_hyperparameters()\n",
    "\n",
    "if not best_hps:\n",
    "    raise ValueError(\"No best hyperparameters found.\")\n",
    "\n",
    "print(\n",
    "    f\"\"\"\n",
    "The hyperparameter search is complete. The optimal number of units in the first densely-connected\n",
    "layer is {best_hps[0].get('units')} and the optimal learning rate for the optimizer\n",
    "is {best_hps[0].get('learning_rate')}.\n",
    "\"\"\"\n",
    ")"
   ]
  },
  {
   "cell_type": "markdown",
   "metadata": {},
   "source": [
    "###### 학습 결과 평가"
   ]
  },
  {
   "cell_type": "code",
   "execution_count": 66,
   "metadata": {},
   "outputs": [
    {
     "name": "stdout",
     "output_type": "stream",
     "text": [
      "+-------+---------+---------+\n",
      "|       |    loss |     mae |\n",
      "|-------+---------+---------|\n",
      "| train | 18.9827 | 3.27359 |\n",
      "| test  |  32.595 | 3.70952 |\n",
      "+-------+---------+---------+\n"
     ]
    },
    {
     "data": {
      "image/png": "[encoded data removed]",
      "text/plain": [
       "<Figure size 1400x500 with 2 Axes>"
      ]
     },
     "metadata": {},
     "output_type": "display_data"
    }
   ],
   "source": [
    "model = tuner.hypermodel.build(best_hps[0])\n",
    "result = tf_train(model, x_train, y_train, x_test, y_test)\n",
    "tf_result(result)"
   ]
  },
  {
   "cell_type": "markdown",
   "metadata": {},
   "source": [
    "#### (2) 다항선형회귀모형"
   ]
  },
  {
   "cell_type": "markdown",
   "metadata": {},
   "source": [
    "##### 1) 다항식으로 변환"
   ]
  },
  {
   "cell_type": "code",
   "execution_count": 67,
   "metadata": {},
   "outputs": [
    {
     "name": "stdout",
     "output_type": "stream",
     "text": [
      "+----+---------+------+---------+--------+-------+--------+---------+--------+--------+\n",
      "|    |    CRIM |   ZN |   INDUS |    DIS |   RAD |      B |   LSTAT |   CHAS |   MEDV |\n",
      "|----+---------+------+---------+--------+-------+--------+---------+--------+--------|\n",
      "|  0 | 0.00632 |   18 |    2.31 |   4.09 |     1 |  396.9 |    4.98 |      0 |     24 |\n",
      "|  1 | 0.02731 |    0 |    7.07 | 4.9671 |     2 |  396.9 |    9.14 |      0 |   21.6 |\n",
      "|  2 | 0.02729 |    0 |    7.07 | 4.9671 |     2 | 392.83 |    4.03 |      0 |   34.7 |\n",
      "|  3 | 0.03237 |    0 |    2.18 | 6.0622 |     3 | 394.63 |    2.94 |      0 |   33.4 |\n",
      "|  4 | 0.06905 |    0 |    2.18 | 6.0622 |     3 |  396.9 |    5.33 |      0 |   36.2 |\n",
      "+----+---------+------+---------+--------+-------+--------+---------+--------+--------+\n"
     ]
    }
   ],
   "source": [
    "df3 = my_poly_features(data=df, ignore=['MEDV'])\n",
    "my_pretty_table(data=df2.head())"
   ]
  },
  {
   "cell_type": "markdown",
   "metadata": {},
   "source": [
    "##### 2) 다중공선성 제거"
   ]
  },
  {
   "cell_type": "code",
   "execution_count": 68,
   "metadata": {},
   "outputs": [
    {
     "name": "stdout",
     "output_type": "stream",
     "text": [
      "+----+-------------+-----------+-------------+-------------+-------------+--------+------------+-----------+-----------+----------+-----------+--------------+------------+------------+-------------+------------+-----------+------------+--------------+-----------+-----------+----------+----------+-----------+-----------+------------+--------+----------+--------+\n",
      "|    |      CRIM^2 |   CRIM ZN |   CRIM CHAS |    CRIM DIS |      CRIM B |   ZN^2 |   ZN INDUS |   ZN CHAS |    ZN NOX |   ZN RAD |    ZN TAX |   ZN PTRATIO |   ZN LSTAT |    INDUS^2 |   INDUS DIS |   CHAS NOX |   CHAS RM |   CHAS RAD |   CHAS LSTAT |     NOX^2 |   NOX DIS |     RM^2 |    AGE^2 |     DIS^2 |     RAD B |    LSTAT^2 |   CHAS |   CHAS^2 |   MEDV |\n",
      "|----+-------------+-----------+-------------+-------------+-------------+--------+------------+-----------+-----------+----------+-----------+--------------+------------+------------+-------------+------------+-----------+------------+--------------+-----------+-----------+----------+----------+-----------+-----------+------------+--------+----------+--------|\n",
      "|  0 |           0 |         0 |           0 |           0 |           0 | 0.0324 |  0.0122067 |         0 | 0.0566667 |        0 | 0.0374427 |    0.0517021 |  0.0161424 | 0.00459891 |   0.0182561 |          0 |         0 |          0 |            0 | 0.0991084 | 0.0847491 | 0.333512 | 0.411659 | 0.0724703 |         0 | 0.00804249 |      0 |        0 |     24 |\n",
      "|  1 | 5.56594e-08 |         0 |           0 |  8.2328e-05 | 0.000235923 |      0 |          0 |         0 |         0 |        0 |         0 |            0 |          0 |  0.0587103 |   0.0845542 |          0 |         0 |          0 |            0 | 0.0298735 | 0.0603144 | 0.300301 | 0.612617 |  0.121774 | 0.0434783 |  0.0418081 |      0 |        0 |   21.6 |\n",
      "|  2 | 5.55534e-08 |         0 |           0 | 8.22496e-05 | 0.000233279 |      0 |          0 |         0 |         0 |        0 |         0 |            0 |          0 |  0.0587103 |   0.0845542 |          0 |         0 |          0 |            0 | 0.0298735 | 0.0603144 | 0.482172 | 0.359259 |  0.121774 | 0.0430321 | 0.00402791 |      0 |        0 |   34.7 |\n",
      "|  3 | 8.57293e-08 |         0 |           0 | 0.000131332 |  0.00029112 |      0 |          0 |         0 |         0 |        0 |         0 |            0 |          0 | 0.00397528 |   0.0282807 |          0 |         0 |          0 |            0 | 0.0225618 |  0.067374 | 0.433695 | 0.195198 |  0.201192 | 0.0864588 | 0.00111479 |      0 |        0 |   33.4 |\n",
      "|  4 | 4.97124e-07 |         0 |           0 | 0.000316255 |  0.00070507 |      0 |          0 |         0 |         0 |        0 |         0 |            0 |          0 | 0.00397528 |   0.0282807 |          0 |         0 |          0 |            0 | 0.0225618 |  0.067374 | 0.472113 | 0.279123 |  0.201192 | 0.0869565 | 0.00986799 |      0 |        0 |   36.2 |\n",
      "+----+-------------+-----------+-------------+-------------+-------------+--------+------------+-----------+-----------+----------+-----------+--------------+------------+------------+-------------+------------+-----------+------------+--------------+-----------+-----------+----------+----------+-----------+-----------+------------+--------+----------+--------+\n"
     ]
    }
   ],
   "source": [
    "df4 = my_vif_filter(df3, 'MEDV')\n",
    "my_pretty_table(df4.head())"
   ]
  },
  {
   "cell_type": "markdown",
   "metadata": {},
   "source": [
    "##### 3) 데이터 분할"
   ]
  },
  {
   "cell_type": "code",
   "execution_count": 69,
   "metadata": {},
   "outputs": [
    {
     "data": {
      "text/plain": [
       "(404, 28)"
      ]
     },
     "execution_count": 69,
     "metadata": {},
     "output_type": "execute_result"
    }
   ],
   "source": [
    "x_train, x_test, y_train, y_test = my_train_test_split(df4, yname='MEDV')\n",
    "rows, cols = x_train.shape\n",
    "rows, cols"
   ]
  },
  {
   "cell_type": "markdown",
   "metadata": {},
   "source": [
    "##### 4) 신경망 정의\n",
    "\n",
    "| 구분 | 모델 | 활성화 함수 | 옵티마이저 | 손실함수 | 평가지표 | 대표예제 |\n",
    "|--|--|--|--|--|--|--|\n",
    "| 회귀 | 단순선형회귀 | relu, relu, linear | adam | mse | mae | 보스턴 집값 예측 |\n",
    "\n",
    "##### 5) 하이퍼 파라미터 튜닝"
   ]
  },
  {
   "cell_type": "markdown",
   "metadata": {},
   "source": [
    "###### 튜닝 수행"
   ]
  },
  {
   "cell_type": "code",
   "execution_count": 70,
   "metadata": {},
   "outputs": [
    {
     "data": {
      "text/plain": [
       "<keras_tuner.src.tuners.hyperband.Hyperband at 0x20305d55ed0>"
      ]
     },
     "execution_count": 70,
     "metadata": {},
     "output_type": "execute_result"
    }
   ],
   "source": [
    "tuner = Hyperband(\n",
    "    hypermodel=tf_build, # 하이퍼파라미터를 튜닝하기 위한 모델 생성 함수\n",
    "    objective=\"val_mae\", # 최적화 기준값\n",
    "    max_epochs=10,     \n",
    "    factor=3,\n",
    "    seed=get_random_state(),\n",
    "    directory=\"D:\\\\tensor_hyperband\",\n",
    "    project_name=\"tf_hyperband_%s\" % dt.now().strftime(\"%Y%m%d%H%M%S\"),\n",
    ")\n",
    "\n",
    "tuner"
   ]
  },
  {
   "cell_type": "code",
   "execution_count": 71,
   "metadata": {},
   "outputs": [
    {
     "name": "stdout",
     "output_type": "stream",
     "text": [
      "Trial 21 Complete [00h 00m 02s]\n",
      "val_mae: 21.836502075195312\n",
      "\n",
      "Best val_mae So Far: 3.374856472015381\n",
      "Total elapsed time: 00h 00m 48s\n",
      "\n",
      "The hyperparameter search is complete. The optimal number of units in the first densely-connected\n",
      "layer is 128 and the optimal learning rate for the optimizer\n",
      "is 0.01.\n",
      "\n"
     ]
    }
   ],
   "source": [
    "tuner.search(\n",
    "    x_train, y_train, epochs=10, batch_size=32, validation_data=(x_test, y_test)\n",
    ")\n",
    "\n",
    "# Get the optimal hyperparameters\n",
    "best_hps = tuner.get_best_hyperparameters()\n",
    "\n",
    "if not best_hps:\n",
    "    raise ValueError(\"No best hyperparameters found.\")\n",
    "\n",
    "print(\n",
    "    f\"\"\"\n",
    "The hyperparameter search is complete. The optimal number of units in the first densely-connected\n",
    "layer is {best_hps[0].get('units')} and the optimal learning rate for the optimizer\n",
    "is {best_hps[0].get('learning_rate')}.\n",
    "\"\"\"\n",
    ")"
   ]
  },
  {
   "cell_type": "markdown",
   "metadata": {},
   "source": [
    "###### 학습 결과 평가"
   ]
  },
  {
   "cell_type": "code",
   "execution_count": 72,
   "metadata": {},
   "outputs": [
    {
     "name": "stdout",
     "output_type": "stream",
     "text": [
      "+-------+---------+---------+\n",
      "|       |    loss |     mae |\n",
      "|-------+---------+---------|\n",
      "| train | 6.59591 | 1.92984 |\n",
      "| test  | 14.3773 | 2.74935 |\n",
      "+-------+---------+---------+\n"
     ]
    },
    {
     "data": {
      "image/png": "[encoded data removed]",
      "text/plain": [
       "<Figure size 1400x500 with 2 Axes>"
      ]
     },
     "metadata": {},
     "output_type": "display_data"
    }
   ],
   "source": [
    "model = tuner.hypermodel.build(best_hps[0])\n",
    "result = tf_train(model, x_train, y_train, x_test, y_test)\n",
    "tf_result(result)"
   ]
  },
  {
   "cell_type": "markdown",
   "metadata": {},
   "source": [
    "## #02. 타이타닉\n",
    "### [1] 데이터 가져오기"
   ]
  },
  {
   "cell_type": "code",
   "execution_count": 73,
   "metadata": {},
   "outputs": [],
   "source": [
    "origin = my_read_excel(\"https://data.hossam.kr/edadata/titanic.xlsx\", index_col='PassengerId', categories=['Survived', 'Pclass', 'Sex', 'Embarked'], info=False)"
   ]
  },
  {
   "cell_type": "markdown",
   "metadata": {},
   "source": [
    "### [2] 전처리\n",
    "\n",
    "이전 수업내용과 동일"
   ]
  },
  {
   "cell_type": "code",
   "execution_count": 74,
   "metadata": {},
   "outputs": [
    {
     "name": "stdout",
     "output_type": "stream",
     "text": [
      "+---------------+------------+----------+-------+-------+--------+------------+-------------+--------------+-----------+---------+\n",
      "|   PassengerId |   Survived |   Pclass |   Sex |   Age |   Fare |   Embarked |   Has_Cabin |   FamilySize |   IsAlone |   Title |\n",
      "|---------------+------------+----------+-------+-------+--------+------------+-------------+--------------+-----------+---------|\n",
      "|             1 |          0 |        3 |     1 |     1 |      0 |          2 |           0 |            2 |         0 |       2 |\n",
      "|             2 |          1 |        1 |     0 |     2 |      3 |          0 |           1 |            2 |         0 |       3 |\n",
      "|             3 |          1 |        3 |     0 |     1 |      1 |          2 |           0 |            1 |         1 |       1 |\n",
      "|             4 |          1 |        1 |     0 |     2 |      3 |          2 |           1 |            2 |         0 |       3 |\n",
      "|             5 |          0 |        3 |     1 |     2 |      1 |          2 |           0 |            1 |         1 |       2 |\n",
      "+---------------+------------+----------+-------+-------+--------+------------+-------------+--------------+-----------+---------+\n"
     ]
    }
   ],
   "source": [
    "df = origin.copy()\n",
    "\n",
    "# 1. 생존 여부에 따른 평균 나이로 결측치 치환\n",
    "mean_age_df = df[['Survived','Age']].groupby('Survived').mean()\n",
    "\n",
    "for i in mean_age_df.index:\n",
    "    mean_age = round(mean_age_df.loc[i]['Age'], 0)\n",
    "    expr = (df['Survived'] == i) & (df['Age'].isna())\n",
    "    df.loc[expr, 'Age'] = df.loc[expr, 'Age'].fillna(mean_age)\n",
    "\n",
    "# 2. 히스토그램 구간에 따라 나이를 명목형으로 변환\n",
    "hist, bins = np.histogram(df['Age'], bins=5)\n",
    "\n",
    "df2 = df.copy()\n",
    "df2.loc[ df2['Age'] <= 16, \"Age\"] = 0\n",
    "df2.loc[ (df2['Age'] > 16) & (df2['Age'] <= 32), \"Age\"] = 1\n",
    "df2.loc[ (df2['Age'] > 32) & (df2['Age'] <= 48), \"Age\"] = 2\n",
    "df2.loc[ (df2['Age'] > 48) & (df2['Age'] <= 64), \"Age\"] = 3\n",
    "df2.loc[ df2['Age'] > 64, \"Age\"] = 4\n",
    "\n",
    "# 3. 객실 유무에 따른 명목형 변수 생성\n",
    "df2['Has_Cabin'] = df2['Cabin'].apply(lambda x:  0 if type(x) == float else 1)\n",
    "df2['Has_Cabin'].value_counts()\n",
    "\n",
    "# 4. 가족 구성원 수 파생변수 생성\n",
    "df2['FamilySize'] = df2['SibSp'] + df2['Parch'] + 1\n",
    "\n",
    "# 5. 혼자 탑승했는지에 대한 파생변수 생성\n",
    "df2['IsAlone'] = 0\n",
    "df2.loc[df2['FamilySize'] == 1, 'IsAlone'] = 1\n",
    "\n",
    "# 6. 생존 여부에 따른 탑승지 최빈값으로 결측치 치환\n",
    "most_embarked_df = df2[['Survived','Embarked']].groupby('Survived').agg(Series.mode)\n",
    "\n",
    "for i in most_embarked_df.index:\n",
    "    most = most_embarked_df.loc[i]['Embarked']\n",
    "    expr = (df2['Survived'] == i) & (df2['Embarked'].isna())\n",
    "    df2.loc[expr, 'Embarked'] = df2.loc[expr, 'Embarked'].fillna(most)\n",
    "\n",
    "# 7. 생존 여부에 따른 운임요금 평균으로 결측치 치환\n",
    "mean_fare_df = df2[['Survived','Fare']].groupby('Survived').mean()\n",
    "\n",
    "for i in mean_fare_df.index:\n",
    "    mean_fare = mean_fare_df.loc[i]['Fare']\n",
    "    expr = (df2['Survived'] == i) & (df2['Fare'].isna())\n",
    "    df2.loc[expr, 'Fare'] = df2.loc[expr, 'Fare'].fillna(mean_fare)\n",
    "\n",
    "# 8. 이름으로부터 호칭 파생변수 생성\n",
    "df2['Title'] = df2['Name'].apply(get_title)\n",
    "\n",
    "df2['Title'] = df2['Title'].replace(['Rev', 'Dr', \n",
    "                'Mlle', 'Major', 'Col', 'Countess', 'Capt', 'Ms', \n",
    "                'Sir', 'Lady', 'Mme', 'Don', 'Jonkheer', 'Dona'], \"Rare\")\n",
    "\n",
    "# 9. 데이터 라벨링\n",
    "df3 = my_labelling(df2, 'Title', 'Embarked', 'Sex')\n",
    "\n",
    "# 10. 운임요금 사분위수 구간에 따른 명목형 파생변수 생성\n",
    "df3.loc[ df3['Fare'] <= 7.9, \"Fare\"] = 0\n",
    "df3.loc[ (df2['Fare'] > 7.9) & (df3['Fare'] <= 14.5), \"Fare\"] = 1\n",
    "df3.loc[ (df3['Fare'] > 14.5) & (df3['Fare'] <= 31.3), \"Fare\"] = 2\n",
    "df3.loc[ df3['Fare'] > 31.3, \"Fare\"] = 3\n",
    "\n",
    "# 11. 불필요한 컬럼 제거\n",
    "drop_elements = ['Name', 'Ticket', 'Cabin', 'SibSp', 'Parch']\n",
    "df4 = df3.drop(drop_elements, axis = 1)\n",
    "\n",
    "my_pretty_table(df4.head())"
   ]
  },
  {
   "cell_type": "markdown",
   "metadata": {},
   "source": [
    "### [3] 모델 구현하기\n",
    "#### (1) 데이터 분할"
   ]
  },
  {
   "cell_type": "code",
   "execution_count": 75,
   "metadata": {},
   "outputs": [
    {
     "data": {
      "text/plain": [
       "(1047, 9)"
      ]
     },
     "execution_count": 75,
     "metadata": {},
     "output_type": "execute_result"
    }
   ],
   "source": [
    "df4['Pclass'] = df4['Pclass'].astype('int')\n",
    "df4['Survived'] = df4['Survived'].astype('int')\n",
    "x_train, x_test, y_train, y_test = my_train_test_split(df4, yname='Survived')\n",
    "rows, cols = x_train.shape\n",
    "rows, cols\n"
   ]
  },
  {
   "cell_type": "markdown",
   "metadata": {},
   "source": [
    "#### (2) 신경망 정의\n",
    "\n",
    "| 구분 | 모델 | 활성화 함수 | 옵티마이저 | 손실함수 | 평가지표 | 대표예제 |\n",
    "|--|--|--|--|--|--|--|\n",
    "| 분류 | 이항분류 | [relu,] sigmoid | rmsporp | binary_crossentropy | acc | 타이타닉 생존률 예측 |\n",
    "| 회귀 | 단순선형회귀 | relu, relu, linear | adam | mse | mae | 보스턴 집값 예측 |"
   ]
  },
  {
   "cell_type": "code",
   "execution_count": 76,
   "metadata": {},
   "outputs": [],
   "source": [
    "def tf_build(hp) -> Sequential:\n",
    "    # print(type(hp))\n",
    "    model = Sequential()\n",
    "\n",
    "    model.add(\n",
    "        Dense(\n",
    "            units=hp.Choice(\"units\", values=[32, 64, 128,256,512]),\n",
    "            activation=\"relu\",\n",
    "            input_shape=(cols,),\n",
    "        )\n",
    "    )\n",
    "    model.add(\n",
    "        Dense(\n",
    "            units=hp.Choice(\"units\", values=[16, 32, 64,128,256]),\n",
    "            activation=\"relu\",\n",
    "        )\n",
    "    )\n",
    "    model.add(Dense(1, activation=\"sigmoid\"))\n",
    "\n",
    "    model.compile(\n",
    "        optimizer=RMSprop(hp.Choice(\"learning_rate\", values=[1e-2, 1e-3, 1e-4])),\n",
    "        loss=\"binary_crossentropy\",\n",
    "        metrics=[\"acc\"],\n",
    "    )\n",
    "\n",
    "    return model"
   ]
  },
  {
   "cell_type": "markdown",
   "metadata": {},
   "source": [
    "#### (3) 하이퍼 파라미터 튜닝"
   ]
  },
  {
   "cell_type": "code",
   "execution_count": 77,
   "metadata": {},
   "outputs": [
    {
     "data": {
      "text/plain": [
       "<keras_tuner.src.tuners.hyperband.Hyperband at 0x20305de6bd0>"
      ]
     },
     "execution_count": 77,
     "metadata": {},
     "output_type": "execute_result"
    }
   ],
   "source": [
    "tuner = Hyperband(\n",
    "    hypermodel=tf_build, # 하이퍼파라미터를 튜닝하기 위한 모델 생성 함수\n",
    "    objective=\"val_acc\", # 최적화 기준값\n",
    "    max_epochs=10,     \n",
    "    factor=3,\n",
    "    seed=get_random_state(),\n",
    "    directory=\"D:\\\\tensor_hyperband\",\n",
    "    project_name=\"tf_hyperband_%s\" % dt.now().strftime(\"%Y%m%d%H%M%S\"),\n",
    ")\n",
    "\n",
    "tuner"
   ]
  },
  {
   "cell_type": "markdown",
   "metadata": {},
   "source": [
    "##### 튜닝 수행"
   ]
  },
  {
   "cell_type": "code",
   "execution_count": 78,
   "metadata": {},
   "outputs": [
    {
     "name": "stdout",
     "output_type": "stream",
     "text": [
      "Trial 21 Complete [00h 00m 02s]\n",
      "val_acc: 0.6183205842971802\n",
      "\n",
      "Best val_acc So Far: 0.8778625726699829\n",
      "Total elapsed time: 00h 00m 46s\n",
      "\n",
      "The hyperparameter search is complete. The optimal number of units in the first densely-connected\n",
      "layer is 32 and the optimal learning rate for the optimizer\n",
      "is 0.001.\n",
      "\n"
     ]
    }
   ],
   "source": [
    "tuner.search(\n",
    "    x_train, y_train, epochs=10, batch_size=32, validation_data=(x_test, y_test)\n",
    ")\n",
    "\n",
    "# Get the optimal hyperparameters\n",
    "best_hps = tuner.get_best_hyperparameters()\n",
    "\n",
    "if not best_hps:\n",
    "    raise ValueError(\"No best hyperparameters found.\")\n",
    "\n",
    "print(\n",
    "    f\"\"\"\n",
    "The hyperparameter search is complete. The optimal number of units in the first densely-connected\n",
    "layer is {best_hps[0].get('units')} and the optimal learning rate for the optimizer\n",
    "is {best_hps[0].get('learning_rate')}.\n",
    "\"\"\"\n",
    ")"
   ]
  },
  {
   "cell_type": "markdown",
   "metadata": {},
   "source": [
    "##### 학습결과 평가"
   ]
  },
  {
   "cell_type": "code",
   "execution_count": null,
   "metadata": {},
   "outputs": [],
   "source": []
  },
  {
   "cell_type": "code",
   "execution_count": null,
   "metadata": {},
   "outputs": [],
   "source": []
  },
  {
   "cell_type": "markdown",
   "metadata": {},
   "source": []
  },
  {
   "cell_type": "code",
   "execution_count": 79,
   "metadata": {},
   "outputs": [
    {
     "name": "stdout",
     "output_type": "stream",
     "text": [
      "+-------+----------+----------+\n",
      "|       |      acc |     loss |\n",
      "|-------+----------+----------|\n",
      "| train | 0.868195 | 0.340782 |\n",
      "| test  | 0.885496 | 0.309525 |\n",
      "+-------+----------+----------+\n"
     ]
    },
    {
     "data": {
      "image/png": "[encoded data removed]",
      "text/plain": [
       "<Figure size 1400x500 with 2 Axes>"
      ]
     },
     "metadata": {},
     "output_type": "display_data"
    }
   ],
   "source": [
    "model = tuner.hypermodel.build(best_hps[0])\n",
    "result = tf_train(model, x_train, y_train, x_test, y_test)\n",
    "tf_result(result)"
   ]
  }
 ],
 "metadata": {
  "kernelspec": {
   "display_name": "Python 3",
   "language": "python",
   "name": "python3"
  },
  "language_info": {
   "codemirror_mode": {
    "name": "ipython",
    "version": 3
   },
   "file_extension": ".py",
   "mimetype": "text/x-python",
   "name": "python",
   "nbconvert_exporter": "python",
   "pygments_lexer": "ipython3",
   "version": "3.11.7"
  }
 },
 "nbformat": 4,
 "nbformat_minor": 2
}
