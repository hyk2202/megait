{
 "cells": [
  {
   "cell_type": "markdown",
   "metadata": {},
   "source": [
    "# 하이퍼 파라미터 튜닝\n",
    "\n",
    "`keras-tuner` 패키지의 설치가 필요하다.\n",
    "\n",
    "```shell\n",
    "pip install --upgrade keras-tuner\n",
    "```\n",
    "\n",
    "## #01. 준비작업\n",
    "\n",
    "### [1] 패키지 가져오기\n"
   ]
  },
  {
   "cell_type": "code",
   "execution_count": 40,
   "metadata": {},
   "outputs": [
    {
     "name": "stdout",
     "output_type": "stream",
     "text": [
      "The autoreload extension is already loaded. To reload it, use:\n",
      "  %reload_ext autoreload\n"
     ]
    }
   ],
   "source": [
    "# 연결된 모듈이 업데이트 되면 즉시 자동 로드함\n",
    "%load_ext autoreload\n",
    "%autoreload 2\n",
    "\n",
    "from helper.util import *\n",
    "from helper.plot import *\n",
    "from helper.tensor import *\n",
    "\n",
    "from datetime import datetime as dt\n",
    "from kerastuner import Hyperband\n",
    "\n",
    "from tensorflow.keras.models import Sequential\n",
    "from tensorflow.keras.layers import Dense\n",
    "\n",
    "from tensorflow.keras.callbacks import Callback\n",
    "from tensorflow.keras.callbacks import (\n",
    "    History,\n",
    "    EarlyStopping,\n",
    "    ReduceLROnPlateau,\n",
    ")\n",
    "\n",
    "from tensorflow.keras.optimizers import Adam\n",
    "\n",
    "from tensorflow.random import set_seed\n",
    "from tensorflow.keras.initializers import GlorotUniform\n",
    "\n",
    "set_seed(get_random_state())\n",
    "__initializer__ = GlorotUniform(seed=get_random_state())"
   ]
  },
  {
   "cell_type": "code",
   "execution_count": 50,
   "metadata": {},
   "outputs": [
    {
     "name": "stdout",
     "output_type": "stream",
     "text": [
      "\u001b[1;31mSignature:\u001b[0m \u001b[0mset_seed\u001b[0m\u001b[1;33m(\u001b[0m\u001b[0mseed\u001b[0m\u001b[1;33m)\u001b[0m\u001b[1;33m\u001b[0m\u001b[1;33m\u001b[0m\u001b[0m\n",
      "\u001b[1;31mDocstring:\u001b[0m\n",
      "Sets the global random seed.\n",
      "\n",
      "Operations that rely on a random seed actually derive it from two seeds:\n",
      "the global and operation-level seeds. This sets the global seed.\n",
      "\n",
      "Its interactions with operation-level seeds is as follows:\n",
      "\n",
      "  1. If neither the global seed nor the operation seed is set: A randomly\n",
      "    picked seed is used for this op.\n",
      "  2. If the global seed is set, but the operation seed is not:\n",
      "    The system deterministically picks an operation seed in conjunction with\n",
      "    the global seed so that it gets a unique random sequence. Within the\n",
      "    same version of tensorflow and user code, this sequence is deterministic.\n",
      "    However across different versions, this sequence might change. If the\n",
      "    code depends on particular seeds to work, specify both global\n",
      "    and operation-level seeds explicitly.\n",
      "  3. If the operation seed is set, but the global seed is not set:\n",
      "    A default global seed and the specified operation seed are used to\n",
      "    determine the random sequence.\n",
      "  4. If both the global and the operation seed are set:\n",
      "    Both seeds are used in conjunction to determine the random sequence.\n",
      "\n",
      "To illustrate the user-visible effects, consider these examples:\n",
      "\n",
      "If neither the global seed nor the operation seed is set, we get different\n",
      "results for every call to the random op and every re-run of the program:\n",
      "\n",
      "```python\n",
      "print(tf.random.uniform([1]))  # generates 'A1'\n",
      "print(tf.random.uniform([1]))  # generates 'A2'\n",
      "```\n",
      "\n",
      "(now close the program and run it again)\n",
      "\n",
      "```python\n",
      "print(tf.random.uniform([1]))  # generates 'A3'\n",
      "print(tf.random.uniform([1]))  # generates 'A4'\n",
      "```\n",
      "\n",
      "If the global seed is set but the operation seed is not set, we get different\n",
      "results for every call to the random op, but the same sequence for every\n",
      "re-run of the program:\n",
      "\n",
      "```python\n",
      "tf.random.set_seed(1234)\n",
      "print(tf.random.uniform([1]))  # generates 'A1'\n",
      "print(tf.random.uniform([1]))  # generates 'A2'\n",
      "```\n",
      "\n",
      "(now close the program and run it again)\n",
      "\n",
      "```python\n",
      "tf.random.set_seed(1234)\n",
      "print(tf.random.uniform([1]))  # generates 'A1'\n",
      "print(tf.random.uniform([1]))  # generates 'A2'\n",
      "```\n",
      "\n",
      "The reason we get 'A2' instead 'A1' on the second call of `tf.random.uniform`\n",
      "above is because the second call uses a different operation seed.\n",
      "\n",
      "Note that `tf.function` acts like a re-run of a program in this case. When\n",
      "the global seed is set but operation seeds are not set, the sequence of random\n",
      "numbers are the same for each `tf.function`. For example:\n",
      "\n",
      "```python\n",
      "tf.random.set_seed(1234)\n",
      "\n",
      "@tf.function\n",
      "def f():\n",
      "  a = tf.random.uniform([1])\n",
      "  b = tf.random.uniform([1])\n",
      "  return a, b\n",
      "\n",
      "@tf.function\n",
      "def g():\n",
      "  a = tf.random.uniform([1])\n",
      "  b = tf.random.uniform([1])\n",
      "  return a, b\n",
      "\n",
      "print(f())  # prints '(A1, A2)'\n",
      "print(g())  # prints '(A1, A2)'\n",
      "```\n",
      "\n",
      "If the operation seed is set, we get different results for every call to the\n",
      "random op, but the same sequence for every re-run of the program:\n",
      "\n",
      "```python\n",
      "print(tf.random.uniform([1], seed=1))  # generates 'A1'\n",
      "print(tf.random.uniform([1], seed=1))  # generates 'A2'\n",
      "```\n",
      "\n",
      "(now close the program and run it again)\n",
      "\n",
      "```python\n",
      "print(tf.random.uniform([1], seed=1))  # generates 'A1'\n",
      "print(tf.random.uniform([1], seed=1))  # generates 'A2'\n",
      "```\n",
      "\n",
      "The reason we get 'A2' instead 'A1' on the second call of `tf.random.uniform`\n",
      "above is because the same `tf.random.uniform` kernel (i.e. internal\n",
      "representation) is used by TensorFlow for all calls of it with the same\n",
      "arguments, and the kernel maintains an internal counter which is incremented\n",
      "every time it is executed, generating different results.\n",
      "\n",
      "Calling `tf.random.set_seed` will reset any such counters:\n",
      "\n",
      "```python\n",
      "tf.random.set_seed(1234)\n",
      "print(tf.random.uniform([1], seed=1))  # generates 'A1'\n",
      "print(tf.random.uniform([1], seed=1))  # generates 'A2'\n",
      "tf.random.set_seed(1234)\n",
      "print(tf.random.uniform([1], seed=1))  # generates 'A1'\n",
      "print(tf.random.uniform([1], seed=1))  # generates 'A2'\n",
      "```\n",
      "\n",
      "When multiple identical random ops are wrapped in a `tf.function`, their\n",
      "behaviors change because the ops no long share the same counter. For example:\n",
      "\n",
      "```python\n",
      "@tf.function\n",
      "def foo():\n",
      "  a = tf.random.uniform([1], seed=1)\n",
      "  b = tf.random.uniform([1], seed=1)\n",
      "  return a, b\n",
      "print(foo())  # prints '(A1, A1)'\n",
      "print(foo())  # prints '(A2, A2)'\n",
      "\n",
      "@tf.function\n",
      "def bar():\n",
      "  a = tf.random.uniform([1])\n",
      "  b = tf.random.uniform([1])\n",
      "  return a, b\n",
      "print(bar())  # prints '(A1, A2)'\n",
      "print(bar())  # prints '(A3, A4)'\n",
      "```\n",
      "\n",
      "The second call of `foo` returns '(A2, A2)' instead of '(A1, A1)' because\n",
      "`tf.random.uniform` maintains an internal counter. If you want `foo` to return\n",
      "'(A1, A1)' every time, use the stateless random ops such as\n",
      "`tf.random.stateless_uniform`. Also see `tf.random.experimental.Generator` for\n",
      "a new set of stateful random ops that use external variables to manage their\n",
      "states.\n",
      "\n",
      "Args:\n",
      "  seed: integer.\n",
      "\u001b[1;31mFile:\u001b[0m      c:\\users\\hyk\\appdata\\local\\programs\\python\\python311\\lib\\site-packages\\tensorflow\\python\\framework\\random_seed.py\n",
      "\u001b[1;31mType:\u001b[0m      function"
     ]
    }
   ],
   "source": [
    "?set_seed"
   ]
  },
  {
   "cell_type": "markdown",
   "metadata": {},
   "source": [
    "### [2] 데이터셋 준비하기\n"
   ]
  },
  {
   "cell_type": "code",
   "execution_count": 33,
   "metadata": {},
   "outputs": [],
   "source": [
    "origin = my_read_excel(\"https://data.hossam.kr/mldata/fish.xlsx\", info=False)"
   ]
  },
  {
   "cell_type": "markdown",
   "metadata": {},
   "source": [
    "## #02. 데이터 전처리\n",
    "\n",
    "### [1] 데이터 스케일링\n"
   ]
  },
  {
   "cell_type": "code",
   "execution_count": 34,
   "metadata": {},
   "outputs": [
    {
     "name": "stdout",
     "output_type": "stream",
     "text": [
      "+----+----------+----------+-----------+--------+\n",
      "|    |     길이 |     높이 |      두께 |   무게 |\n",
      "|----+----------+----------+-----------+--------|\n",
      "|  0 |        0 |        0 |         0 |    5.9 |\n",
      "|  1 | 0.148876 | 0.132834 | 0.0876672 |     32 |\n",
      "|  2 | 0.185393 | 0.159963 |   0.15156 |     40 |\n",
      "|  3 | 0.219101 | 0.231993 |  0.181278 |   51.5 |\n",
      "|  4 | 0.252809 | 0.231993 |   0.22734 |     70 |\n",
      "+----+----------+----------+-----------+--------+\n"
     ]
    }
   ],
   "source": [
    "df = my_minmax_scaler(data=origin, yname=\"무게\")\n",
    "\n",
    "my_pretty_table(data=df.head())"
   ]
  },
  {
   "cell_type": "markdown",
   "metadata": {},
   "source": [
    "### [2] 훈련/검증 데이터 분할\n"
   ]
  },
  {
   "cell_type": "code",
   "execution_count": 35,
   "metadata": {},
   "outputs": [],
   "source": [
    "x_train, x_test, y_train, y_test = my_train_test_split(df, \"무게\")\n",
    "rows, cols = x_train.shape"
   ]
  },
  {
   "cell_type": "markdown",
   "metadata": {},
   "source": [
    "## #03. 하이퍼파라미터 튜닝\n",
    "\n",
    "### [1] 훈련 모델 적합\n",
    "\n",
    "컴파일이 완료된 텐서플로우 Sequential 객체가 필요하다.\n"
   ]
  },
  {
   "cell_type": "code",
   "execution_count": 51,
   "metadata": {},
   "outputs": [],
   "source": [
    "def tf_build(hp) -> Sequential:\n",
    "    # print(type(hp))\n",
    "    model = Sequential()\n",
    "\n",
    "    model.add(\n",
    "        Dense(\n",
    "            units=hp.Choice(\"units\", values=[32, 64, 128]),\n",
    "            activation=\"relu\",\n",
    "            input_shape=(cols,),\n",
    "        )\n",
    "    )\n",
    "    model.add(\n",
    "        Dense(\n",
    "            units=hp.Choice(\"units\", values=[16, 32, 64]),\n",
    "            activation=\"relu\",\n",
    "        )\n",
    "    )\n",
    "    model.add(Dense(1, activation=\"linear\"))\n",
    "\n",
    "    model.compile(\n",
    "        optimizer=Adam(hp.Choice(\"learning_rate\", values=[1e-2, 1e-3, 1e-4])),\n",
    "        loss=\"mse\",\n",
    "        metrics=[\"mae\"],\n",
    "    )\n",
    "\n",
    "    return model"
   ]
  },
  {
   "cell_type": "markdown",
   "metadata": {},
   "source": [
    "### [2] 튜너를 인스턴스화하고 하이퍼튜닝 수행하기\n",
    "\n",
    "튜너를 인스턴스화하여 하이퍼튜닝을 수행한다.\n",
    "\n",
    "Keras Tuner에는 RandomSearch, Hyperband, BayesianOptimization 및 Sklearn의 네 가지 튜너가 있다.\n",
    "\n",
    "Hyperband 튜너를 인스턴스화하려면 최적화할 하이퍼모델인 objective, 및 훈련할 최대 epoch 수(max_epochs)를 지정해야 한다.\n",
    "\n",
    "Hyperband 튜닝 알고리즘은 적응형 리소스 할당 및 조기 중단을 사용하여 고성능 모델에서 신속하게 수렴합니다. \n",
    "\n",
    "이 알고리즘은 몇 개의 epoch에 대해 많은 수의 모델을 훈련하고 최고 성능을 보이는 절반만 다음 단계로 넘긴다.\n",
    "\n",
    "Hyperband는 `1 + logfactor( max_epochs)` 를 계산하고 이를 가장 가까운 정수로 반올림하여 한 브래킷에서 훈련할 모델 수를 결정한다.\n",
    "\n",
    "> Li, Lisha, and Kevin Jamieson. [\"Hyperband: A Novel Bandit-Based Approach to Hyperparameter Optimization.\" Journal of Machine Learning Research 18 (2018): 1-52](http://jmlr.org/papers/v18/16-558.html)\n"
   ]
  },
  {
   "cell_type": "code",
   "execution_count": 57,
   "metadata": {},
   "outputs": [
    {
     "data": {
      "text/plain": [
       "<keras_tuner.src.tuners.hyperband.Hyperband at 0x254fcdf8150>"
      ]
     },
     "execution_count": 57,
     "metadata": {},
     "output_type": "execute_result"
    }
   ],
   "source": [
    "tuner = Hyperband(\n",
    "    hypermodel=tf_build, # 하이퍼파라미터를 튜닝하기 위한 모델 생성 함수\n",
    "    objective=\"val_mae\", # 최적화 기준값\n",
    "    max_epochs=10,     \n",
    "    factor=3,\n",
    "    seed=get_random_state(),\n",
    "    directory=\"D:\\\\tensor_hyperband\",\n",
    "    project_name=\"tf_hyperband_%s\" % dt.now().strftime(\"%Y%m%d%H%M%S\"),\n",
    ")\n",
    "\n",
    "tuner"
   ]
  },
  {
   "cell_type": "code",
   "execution_count": 58,
   "metadata": {},
   "outputs": [
    {
     "name": "stdout",
     "output_type": "stream",
     "text": [
      "Trial 9 Complete [00h 00m 01s]\n",
      "val_mae: 344.8095397949219\n",
      "\n",
      "Best val_mae So Far: 344.8095397949219\n",
      "Total elapsed time: 00h 00m 13s\n",
      "\n",
      "The hyperparameter search is complete. The optimal number of units in the first densely-connected\n",
      "layer is 128 and the optimal learning rate for the optimizer\n",
      "is 0.01.\n",
      "\n"
     ]
    }
   ],
   "source": [
    "tuner.search(\n",
    "    x_train, y_train, epochs=10, batch_size=32, validation_data=(x_test, y_test)\n",
    ")\n",
    "\n",
    "# Get the optimal hyperparameters\n",
    "best_hps = tuner.get_best_hyperparameters()\n",
    "\n",
    "if not best_hps:\n",
    "    raise ValueError(\"No best hyperparameters found.\")\n",
    "\n",
    "print(\n",
    "    f\"\"\"\n",
    "The hyperparameter search is complete. The optimal number of units in the first densely-connected\n",
    "layer is {best_hps[0].get('units')} and the optimal learning rate for the optimizer\n",
    "is {best_hps[0].get('learning_rate')}.\n",
    "\"\"\"\n",
    ")"
   ]
  },
  {
   "cell_type": "markdown",
   "metadata": {},
   "source": [
    "### [3] 학습 결과 평가\n",
    "\n",
    "도출된 하이퍼 파라미터가 적용된 새로운 모듈을 생성하고 학습을 다시 진행해야한다.\n"
   ]
  },
  {
   "cell_type": "code",
   "execution_count": 59,
   "metadata": {},
   "outputs": [
    {
     "name": "stdout",
     "output_type": "stream",
     "text": [
      "+-------+---------+---------+\n",
      "|       |    loss |     mae |\n",
      "|-------+---------+---------|\n",
      "| train | 55584.6 | 215.298 |\n",
      "| test  | 28837.2 | 165.496 |\n",
      "+-------+---------+---------+\n"
     ]
    },
    {
     "data": {
      "image/png": "[encoded data removed]",
      "text/plain": [
       "<Figure size 1400x500 with 2 Axes>"
      ]
     },
     "metadata": {},
     "output_type": "display_data"
    }
   ],
   "source": [
    "model = tuner.hypermodel.build(best_hps[0])\n",
    "result = tf_train(model, x_train, y_train, x_test, y_test)\n",
    "tf_result(result)"
   ]
  }
 ],
 "metadata": {
  "kernelspec": {
   "display_name": "Python 3",
   "language": "python",
   "name": "python3"
  },
  "language_info": {
   "codemirror_mode": {
    "name": "ipython",
    "version": 3
   },
   "file_extension": ".py",
   "mimetype": "text/x-python",
   "name": "python",
   "nbconvert_exporter": "python",
   "pygments_lexer": "ipython3",
   "version": "3.11.7"
  }
 },
 "nbformat": 4,
 "nbformat_minor": 2
}
