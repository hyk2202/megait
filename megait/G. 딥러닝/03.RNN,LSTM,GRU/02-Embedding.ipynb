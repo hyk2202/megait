{
 "cells": [
  {
   "cell_type": "markdown",
   "metadata": {},
   "source": [
    "# Embedding 활용 텍스트 분석\n",
    "\n",
    "> imdb 영화 리뷰 데이터셋(영문)\n",
    "\n",
    "## #01. 준비작업\n",
    "\n",
    "### [1] 패키지 참조\n"
   ]
  },
  {
   "cell_type": "code",
   "execution_count": 23,
   "metadata": {},
   "outputs": [
    {
     "name": "stdout",
     "output_type": "stream",
     "text": [
      "The autoreload extension is already loaded. To reload it, use:\n",
      "  %reload_ext autoreload\n"
     ]
    }
   ],
   "source": [
    "# 연결된 모듈이 업데이트 되면 즉시 자동 로드함\n",
    "%load_ext autoreload\n",
    "%autoreload 2\n",
    "\n",
    "import warnings\n",
    "warnings.filterwarnings(action=\"ignore\")\n",
    "\n",
    "from helper.util import *\n",
    "from helper.plot import *\n",
    "from helper.tensor import *\n",
    "\n",
    "from tensorflow.keras.preprocessing.sequence import pad_sequences\n",
    "\n",
    "# 모듈을 사용하지 않고 순정 코드로 구현할 경우\n",
    "# from tensorflow.keras.models import Sequential\n",
    "# from tensorflow.keras.layers import Dense, Embedding, Flatten\n",
    "# from tensorflow.keras.callbacks import EarlyStopping, ReduceLROnPlateau"
   ]
  },
  {
   "cell_type": "markdown",
   "metadata": {},
   "source": [
    "### [2] 데이터 가져오기\n",
    "\n",
    "Tensorflow에 내장된 데이터가 있지만, 동일 데이터를 미리 엑셀로 저장 두었다.\n"
   ]
  },
  {
   "cell_type": "code",
   "execution_count": 3,
   "metadata": {},
   "outputs": [
    {
     "name": "stdout",
     "output_type": "stream",
     "text": [
      "<class 'pandas.core.frame.DataFrame'>\n",
      "RangeIndex: 49998 entries, 0 to 49997\n",
      "Data columns (total 2 columns):\n",
      " #   Column     Non-Null Count  Dtype   \n",
      "---  ------     --------------  -----   \n",
      " 0   sentiment  49998 non-null  category\n",
      " 1   review     49998 non-null  object  \n",
      "dtypes: category(1), object(1)\n",
      "memory usage: 439.7+ KB\n",
      "None\n",
      "\n",
      "데이터프레임 상위 5개 행\n",
      "+----+-------------+-----------------------------------------------------------------------------------------------------------------------------------------------------------------------------------------------------------------------------------------------------------------------------------------------------------------------------------------------------------------------------------------------------------------------------------------------------------------------------------------------------------------------------------------------------------------------------------------------------------------------------------------------------------------------------------------------------------------------------------------------------------------------------------------------------------------------------------------------------------------------------------------------------------------------------------------------------------------------------------------------------------------------------------------------------------------------------------------------------------------------------------------------------------------------------------------------------------------------------------------------------------------------------------------------------------------------------------------------------------------------------------------------------------------------------------------------------------------------------------------------------------------------------------------------------------------------------------------------------------------------------------------------------------------------------------------------------------------------------------------------------------------------------------------------------------------------------------+\n",
      "|    | sentiment   | review                                                                                                                                                                                                                                                                                                                                                                                                                                                                                                                                                                                                                                                                                                                                                                                                                                                                                                                                                                                                                                                                                                                                                                                                                                                                                                                                                                                                                                                                                                                                                                                                                                                                                                                                                                                                                            |\n",
      "|----+-------------+-----------------------------------------------------------------------------------------------------------------------------------------------------------------------------------------------------------------------------------------------------------------------------------------------------------------------------------------------------------------------------------------------------------------------------------------------------------------------------------------------------------------------------------------------------------------------------------------------------------------------------------------------------------------------------------------------------------------------------------------------------------------------------------------------------------------------------------------------------------------------------------------------------------------------------------------------------------------------------------------------------------------------------------------------------------------------------------------------------------------------------------------------------------------------------------------------------------------------------------------------------------------------------------------------------------------------------------------------------------------------------------------------------------------------------------------------------------------------------------------------------------------------------------------------------------------------------------------------------------------------------------------------------------------------------------------------------------------------------------------------------------------------------------------------------------------------------------|\n",
      "|  0 | positive    | One of the other reviewers has mentioned that after watching just 1 Oz episode you'll be hooked. They are right, as this is exactly what happened with me.<br /><br />The first thing that struck me about Oz was its brutality and unflinching scenes of violence, which set in right from the word GO. Trust me, this is not a show for the faint hearted or timid. This show pulls no punches with regards to drugs, sex or violence. Its is hardcore, in the classic use of the word.<br /><br />It is called OZ as that is the nickname given to the Oswald Maximum Security State Penitentary. It focuses mainly on Emerald City, an experimental section of the prison where all the cells have glass fronts and face inwards, so privacy is not high on the agenda. Em City is home to many..Aryans, Muslims, gangstas, Latinos, Christians, Italians, Irish and more....so scuffles, death stares, dodgy dealings and shady agreements are never far away.<br /><br />I would say the main appeal of the show is due to the fact that it goes where other shows wouldn't dare. Forget pretty pictures painted for mainstream audiences, forget charm, forget romance...OZ doesn't mess around. The first episode I ever saw struck me as so nasty it was surreal, I couldn't say I was ready for it, but as I watched more, I developed a taste for Oz, and got accustomed to the high levels of graphic violence. Not just violence, but injustice (crooked guards who'll be sold out for a nickel, inmates who'll kill on order and get away with it, well mannered, middle class inmates being turned into prison bitches due to their lack of street skills or prison experience) Watching Oz, you may become comfortable with what is uncomfortable viewing....thats if you can get in touch with your darker side. |\n",
      "|  1 | positive    | A wonderful little production. <br /><br />The filming technique is very unassuming- very old-time-BBC fashion and gives a comforting, and sometimes discomforting, sense of realism to the entire piece. <br /><br />The actors are extremely well chosen- Michael Sheen not only \"has got all the polari\" but he has all the voices down pat too! You can truly see the seamless editing guided by the references to Williams' diary entries, not only is it well worth the watching but it is a terrificly written and performed piece. A masterful production about one of the great master's of comedy and his life. <br /><br />The realism really comes home with the little things: the fantasy of the guard which, rather than use the traditional 'dream' techniques remains solid then disappears. It plays on our knowledge and our senses, particularly with the scenes concerning Orton and Halliwell and the sets (particularly of their flat with Halliwell's murals decorating every surface) are terribly well done.                                                                                                                                                                                                                                                                                                                                                                                                                                                                                                                                                                                                                                                                                                                                                                                            |\n",
      "|  2 | positive    | I thought this was a wonderful way to spend time on a too hot summer weekend, sitting in the air conditioned theater and watching a light-hearted comedy. The plot is simplistic, but the dialogue is witty and the characters are likable (even the well bread suspected serial killer). While some may be disappointed when they realize this is not Match Point 2: Risk Addiction, I thought it was proof that Woody Allen is still fully in control of the style many of us have grown to love.<br /><br />This was the most I'd laughed at one of Woody's comedies in years (dare I say a decade?). While I've never been impressed with Scarlet Johanson, in this she managed to tone down her \"sexy\" image and jumped right into a average, but spirited young woman.<br /><br />This may not be the crown jewel of his career, but it was wittier than \"Devil Wears Prada\" and more interesting than \"Superman\" a great comedy to go see with friends.                                                                                                                                                                                                                                                                                                                                                                                                                                                                                                                                                                                                                                                                                                                                                                                                                                                                    |\n",
      "|  3 | negative    | Basically there's a family where a little boy (Jake) thinks there's a zombie in his closet & his parents are fighting all the time.<br /><br />This movie is slower than a soap opera... and suddenly, Jake decides to become Rambo and kill the zombie.<br /><br />OK, first of all when you're going to make a film you must Decide if its a thriller or a drama! As a drama the movie is watchable. Parents are divorcing & arguing like in real life. And then we have Jake with his closet which totally ruins all the film! I expected to see a BOOGEYMAN similar movie, and instead i watched a drama with some meaningless thriller spots.<br /><br />3 out of 10 just for the well playing parents & descent dialogs. As for the shots with Jake: just ignore them.                                                                                                                                                                                                                                                                                                                                                                                                                                                                                                                                                                                                                                                                                                                                                                                                                                                                                                                                                                                                                                                      |\n",
      "|  4 | positive    | Petter Mattei's \"Love in the Time of Money\" is a visually stunning film to watch. Mr. Mattei offers us a vivid portrait about human relations. This is a movie that seems to be telling us what money, power and success do to people in the different situations we encounter. <br /><br />This being a variation on the Arthur Schnitzler's play about the same theme, the director transfers the action to the present time New York where all these different characters meet and connect. Each one is connected in one way, or another to the next person, but no one seems to know the previous point of contact. Stylishly, the film has a sophisticated luxurious look. We are taken to see how these people live and the world they live in their own habitat.<br /><br />The only thing one gets out of all these souls in the picture is the different stages of loneliness each one inhabits. A big city is not exactly the best place in which human relations find sincere fulfillment, as one discerns is the case with most of the people we encounter.<br /><br />The acting is good under Mr. Mattei's direction. Steve Buscemi, Rosario Dawson, Carol Kane, Michael Imperioli, Adrian Grenier, and the rest of the talented cast, make these characters come alive.<br /><br />We wish Mr. Mattei good luck and await anxiously for his next work.                                                                                                                                                                                                                                                                                                                                                                                                                                                             |\n",
      "+----+-------------+-----------------------------------------------------------------------------------------------------------------------------------------------------------------------------------------------------------------------------------------------------------------------------------------------------------------------------------------------------------------------------------------------------------------------------------------------------------------------------------------------------------------------------------------------------------------------------------------------------------------------------------------------------------------------------------------------------------------------------------------------------------------------------------------------------------------------------------------------------------------------------------------------------------------------------------------------------------------------------------------------------------------------------------------------------------------------------------------------------------------------------------------------------------------------------------------------------------------------------------------------------------------------------------------------------------------------------------------------------------------------------------------------------------------------------------------------------------------------------------------------------------------------------------------------------------------------------------------------------------------------------------------------------------------------------------------------------------------------------------------------------------------------------------------------------------------------------------+\n",
      "\n",
      "데이터프레임 하위 5개 행\n",
      "+-------+-------------+----------------------------------------------------------------------------------------------------------------------------------------------------------------------------------------------------------------------------------------------------------------------------------------------------------------------------------------------------------------------------------------------------------------------------------------------------------------------------------------------------------------------------------------------------------------------------------------------------------------------------------------------------------------------------------------------------------------------------------------------------------------------------------------------------------------------------------------------------------------------------------------------------------------------------------------------------------------------------------------------------------------------------------------------------------------------------------------------------------------------------------------------------------------------------------------------------------------------------------------------------------------------------------------------------------------------------------+\n",
      "|       | sentiment   | review                                                                                                                                                                                                                                                                                                                                                                                                                                                                                                                                                                                                                                                                                                                                                                                                                                                                                                                                                                                                                                                                                                                                                                                                                                                                                                                           |\n",
      "|-------+-------------+----------------------------------------------------------------------------------------------------------------------------------------------------------------------------------------------------------------------------------------------------------------------------------------------------------------------------------------------------------------------------------------------------------------------------------------------------------------------------------------------------------------------------------------------------------------------------------------------------------------------------------------------------------------------------------------------------------------------------------------------------------------------------------------------------------------------------------------------------------------------------------------------------------------------------------------------------------------------------------------------------------------------------------------------------------------------------------------------------------------------------------------------------------------------------------------------------------------------------------------------------------------------------------------------------------------------------------|\n",
      "| 49993 | positive    | I thought this movie did a down right good job. It wasn't as creative or original as the first, but who was expecting it to be. It was a whole lotta fun. the more i think about it the more i like it, and when it comes out on DVD I'm going to pay the money for it very proudly, every last cent. Sharon Stone is great, she always is, even if her movie is horrible(Catwoman), but this movie isn't, this is one of those movies that will be underrated for its lifetime, and it will probably become a classic in like 20 yrs. Don't wait for it to be a classic, watch it now and enjoy it. Don't expect a masterpiece, or something thats gripping and soul touching, just allow yourself to get out of your life and get yourself involved in theirs.<br /><br />All in all, this movie is entertaining and i recommend people who haven't seen it see it, because what the critics and box office say doesn't always count, see it for yourself, you never know, you might just enjoy it. I tip my hat to this movie<br /><br />8/10                                                                                                                                                                                                                                                                                 |\n",
      "| 49994 | negative    | Bad plot, bad dialogue, bad acting, idiotic directing, the annoying porn groove soundtrack that ran continually over the overacted script, and a crappy copy of the VHS cannot be redeemed by consuming liquor. Trust me, because I stuck this turkey out to the end. It was so pathetically bad all over that I had to figure it was a fourth-rate spoof of Springtime for Hitler.<br /><br />The girl who played Janis Joplin was the only faint spark of interest, and that was only because she could sing better than the original.<br /><br />If you want to watch something similar but a thousand times better, then watch Beyond The Valley of The Dolls.                                                                                                                                                                                                                                                                                                                                                                                                                                                                                                                                                                                                                                                               |\n",
      "| 49995 | negative    | I am a Catholic taught in parochial elementary schools by nuns, taught by Jesuit priests in high school & college. I am still a practicing Catholic but would not be considered a \"good Catholic\" in the church's eyes because I don't believe certain things or act certain ways just because the church tells me to.<br /><br />So back to the movie...its bad because two people are killed by this nun who is supposed to be a satire as the embodiment of a female religious figurehead. There is no comedy in that and the satire is not done well by the over acting of Diane Keaton. I never saw the play but if it was very different from this movies then it may be good.<br /><br />At first I thought the gun might be a fake and the first shooting all a plan by the female lead of the four former students as an attempt to demonstrate Sister Mary's emotional and intellectual bigotry of faith. But it turns out the bullets were real and the story has tragedy...the tragedy of loss of life (besides the two former students...the lives of the aborted babies, the life of the student's mom), the tragedy of dogmatic authority over love of people, the tragedy of organized religion replacing true faith in God. This is what is wrong with today's Islam, and yesterday's Judaism and Christianity. |\n",
      "| 49996 | negative    | I'm going to have to disagree with the previous comment and side with Maltin on this one. This is a second rate, excessively vicious Western that creaks and groans trying to put across its central theme of the Wild West being tamed and kicked aside by the steady march of time. It would like to be in the tradition of \"Butch Cassidy and the Sundance Kid\", but lacks that film's poignancy and charm. Andrew McLaglen's direction is limp, and the final 30 minutes or so are a real botch, with some incomprehensible strategy on the part of heroes Charlton Heston and Chris Mitchum. (Someone give me a holler if you can explain to me why they set that hillside on fire.) There was something callous about the whole treatment of the rape scene, and the woman's reaction afterwards certainly did not ring true. Coburn is plenty nasty as the half breed escaped convict out for revenge, but all of his fellow escapees are underdeveloped (they're like bowling pins to be knocked down one by one as the story lurches forward). Michael Parks gives one of his typically shifty, lethargic, mumbling performances, but in this case it was appropriate as his modern style sheriff symbolizes the complacency that technological progress can bring about.                                               |\n",
      "| 49997 | negative    | No one expects the Star Trek movies to be high art, but the fans do expect a movie that is as good as some of the best episodes. Unfortunately, this movie had a muddled, implausible plot that just left me cringing - this is by far the worst of the nine (so far) movies. Even the chance to watch the well known characters interact in another movie can't save this movie - including the goofy scenes with Kirk, Spock and McCoy at Yosemite.<br /><br />I would say this movie is not worth a rental, and hardly worth watching, however for the True Fan who needs to see all the movies, renting this movie is about the only way you'll see it - even the cable channels avoid this movie.                                                                                                                                                                                                                                                                                                                                                                                                                                                                                                                                                                                                                           |\n",
      "+-------+-------------+----------------------------------------------------------------------------------------------------------------------------------------------------------------------------------------------------------------------------------------------------------------------------------------------------------------------------------------------------------------------------------------------------------------------------------------------------------------------------------------------------------------------------------------------------------------------------------------------------------------------------------------------------------------------------------------------------------------------------------------------------------------------------------------------------------------------------------------------------------------------------------------------------------------------------------------------------------------------------------------------------------------------------------------------------------------------------------------------------------------------------------------------------------------------------------------------------------------------------------------------------------------------------------------------------------------------------------+\n",
      "\n",
      "기술통계\n",
      "+-----------+---------+----------+--------------------------------------------------------------------------------------------------------------------------------------------------------------------------------------------------------------------------------------------------------------------------------------------------------------------------------------------------------------------------------------------------------------------------------------------------------------------------------------------------------------------------------------------------------------------------------------------------------------------------------------------------------------------------------------------------------------------------------------------------------------------------------------------------------------------------+--------+-------+\n",
      "|           |   count |   unique | top                                                                                                                                                                                                                                                                                                                                                                                                                                                                                                                                                                                                                                                                                                                                                                                                                      |   freq |   nan |\n",
      "|-----------+---------+----------+--------------------------------------------------------------------------------------------------------------------------------------------------------------------------------------------------------------------------------------------------------------------------------------------------------------------------------------------------------------------------------------------------------------------------------------------------------------------------------------------------------------------------------------------------------------------------------------------------------------------------------------------------------------------------------------------------------------------------------------------------------------------------------------------------------------------------+--------+-------|\n",
      "| sentiment |   49998 |        2 | negative                                                                                                                                                                                                                                                                                                                                                                                                                                                                                                                                                                                                                                                                                                                                                                                                                 |  24999 |     0 |\n",
      "| review    |   49998 |    49580 | Loved today's show!!! It was a variety and not solely cooking (which would have been great too). Very stimulating and captivating, always keeping the viewer peeking around the corner to see what was coming up next. She is as down to earth and as personable as you get, like one of us which made the show all the more enjoyable. Special guests, who are friends as well made for a nice surprise too. Loved the 'first' theme and that the audience was invited to play along too. I must admit I was shocked to see her come in under her time limits on a few things, but she did it and by golly I'll be writing those recipes down. Saving time in the kitchen means more time with family. Those who haven't tuned in yet, find out what channel and the time, I assure you that you won't be disappointed. |      5 |     0 |\n",
      "+-----------+---------+----------+--------------------------------------------------------------------------------------------------------------------------------------------------------------------------------------------------------------------------------------------------------------------------------------------------------------------------------------------------------------------------------------------------------------------------------------------------------------------------------------------------------------------------------------------------------------------------------------------------------------------------------------------------------------------------------------------------------------------------------------------------------------------------------------------------------------------------+--------+-------+\n",
      "\n",
      "카테고리 정보\n",
      "+----------+---------+\n",
      "|          |   count |\n",
      "|----------+---------|\n",
      "| negative |   24999 |\n",
      "| positive |   24999 |\n",
      "+----------+---------+\n"
     ]
    }
   ],
   "source": [
    "origin = my_read_excel(\n",
    "    \"https://data.hossam.kr/tmdata/imdb.xlsx\", categories=[\"sentiment\"]\n",
    ")"
   ]
  },
  {
   "cell_type": "markdown",
   "metadata": {},
   "source": [
    "## #02. 데이터 전처리\n",
    "\n",
    "### [1] 종속변수 라벨링\n"
   ]
  },
  {
   "cell_type": "code",
   "execution_count": 4,
   "metadata": {},
   "outputs": [
    {
     "name": "stdout",
     "output_type": "stream",
     "text": [
      "+----+-------------+-----------------------------------------------------------------------------------------------------------------------------------------------------------------------------------------------------------------------------------------------------------------------------------------------------------------------------------------------------------------------------------------------------------------------------------------------------------------------------------------------------------------------------------------------------------------------------------------------------------------------------------------------------------------------------------------------------------------------------------------------------------------------------------------------------------------------------------------------------------------------------------------------------------------------------------------------------------------------------------------------------------------------------------------------------------------------------------------------------------------------------------------------------------------------------------------------------------------------------------------------------------------------------------------------------------------------------------------------------------------------------------------------------------------------------------------------------------------------------------------------------------------------------------------------------------------------------------------------------------------------------------------------------------------------------------------------------------------------------------------------------------------------------------------------------------------------------------+\n",
      "|    |   sentiment | review                                                                                                                                                                                                                                                                                                                                                                                                                                                                                                                                                                                                                                                                                                                                                                                                                                                                                                                                                                                                                                                                                                                                                                                                                                                                                                                                                                                                                                                                                                                                                                                                                                                                                                                                                                                                                            |\n",
      "|----+-------------+-----------------------------------------------------------------------------------------------------------------------------------------------------------------------------------------------------------------------------------------------------------------------------------------------------------------------------------------------------------------------------------------------------------------------------------------------------------------------------------------------------------------------------------------------------------------------------------------------------------------------------------------------------------------------------------------------------------------------------------------------------------------------------------------------------------------------------------------------------------------------------------------------------------------------------------------------------------------------------------------------------------------------------------------------------------------------------------------------------------------------------------------------------------------------------------------------------------------------------------------------------------------------------------------------------------------------------------------------------------------------------------------------------------------------------------------------------------------------------------------------------------------------------------------------------------------------------------------------------------------------------------------------------------------------------------------------------------------------------------------------------------------------------------------------------------------------------------|\n",
      "|  0 |           1 | One of the other reviewers has mentioned that after watching just 1 Oz episode you'll be hooked. They are right, as this is exactly what happened with me.<br /><br />The first thing that struck me about Oz was its brutality and unflinching scenes of violence, which set in right from the word GO. Trust me, this is not a show for the faint hearted or timid. This show pulls no punches with regards to drugs, sex or violence. Its is hardcore, in the classic use of the word.<br /><br />It is called OZ as that is the nickname given to the Oswald Maximum Security State Penitentary. It focuses mainly on Emerald City, an experimental section of the prison where all the cells have glass fronts and face inwards, so privacy is not high on the agenda. Em City is home to many..Aryans, Muslims, gangstas, Latinos, Christians, Italians, Irish and more....so scuffles, death stares, dodgy dealings and shady agreements are never far away.<br /><br />I would say the main appeal of the show is due to the fact that it goes where other shows wouldn't dare. Forget pretty pictures painted for mainstream audiences, forget charm, forget romance...OZ doesn't mess around. The first episode I ever saw struck me as so nasty it was surreal, I couldn't say I was ready for it, but as I watched more, I developed a taste for Oz, and got accustomed to the high levels of graphic violence. Not just violence, but injustice (crooked guards who'll be sold out for a nickel, inmates who'll kill on order and get away with it, well mannered, middle class inmates being turned into prison bitches due to their lack of street skills or prison experience) Watching Oz, you may become comfortable with what is uncomfortable viewing....thats if you can get in touch with your darker side. |\n",
      "|  1 |           1 | A wonderful little production. <br /><br />The filming technique is very unassuming- very old-time-BBC fashion and gives a comforting, and sometimes discomforting, sense of realism to the entire piece. <br /><br />The actors are extremely well chosen- Michael Sheen not only \"has got all the polari\" but he has all the voices down pat too! You can truly see the seamless editing guided by the references to Williams' diary entries, not only is it well worth the watching but it is a terrificly written and performed piece. A masterful production about one of the great master's of comedy and his life. <br /><br />The realism really comes home with the little things: the fantasy of the guard which, rather than use the traditional 'dream' techniques remains solid then disappears. It plays on our knowledge and our senses, particularly with the scenes concerning Orton and Halliwell and the sets (particularly of their flat with Halliwell's murals decorating every surface) are terribly well done.                                                                                                                                                                                                                                                                                                                                                                                                                                                                                                                                                                                                                                                                                                                                                                                            |\n",
      "|  2 |           1 | I thought this was a wonderful way to spend time on a too hot summer weekend, sitting in the air conditioned theater and watching a light-hearted comedy. The plot is simplistic, but the dialogue is witty and the characters are likable (even the well bread suspected serial killer). While some may be disappointed when they realize this is not Match Point 2: Risk Addiction, I thought it was proof that Woody Allen is still fully in control of the style many of us have grown to love.<br /><br />This was the most I'd laughed at one of Woody's comedies in years (dare I say a decade?). While I've never been impressed with Scarlet Johanson, in this she managed to tone down her \"sexy\" image and jumped right into a average, but spirited young woman.<br /><br />This may not be the crown jewel of his career, but it was wittier than \"Devil Wears Prada\" and more interesting than \"Superman\" a great comedy to go see with friends.                                                                                                                                                                                                                                                                                                                                                                                                                                                                                                                                                                                                                                                                                                                                                                                                                                                                    |\n",
      "|  3 |           0 | Basically there's a family where a little boy (Jake) thinks there's a zombie in his closet & his parents are fighting all the time.<br /><br />This movie is slower than a soap opera... and suddenly, Jake decides to become Rambo and kill the zombie.<br /><br />OK, first of all when you're going to make a film you must Decide if its a thriller or a drama! As a drama the movie is watchable. Parents are divorcing & arguing like in real life. And then we have Jake with his closet which totally ruins all the film! I expected to see a BOOGEYMAN similar movie, and instead i watched a drama with some meaningless thriller spots.<br /><br />3 out of 10 just for the well playing parents & descent dialogs. As for the shots with Jake: just ignore them.                                                                                                                                                                                                                                                                                                                                                                                                                                                                                                                                                                                                                                                                                                                                                                                                                                                                                                                                                                                                                                                      |\n",
      "|  4 |           1 | Petter Mattei's \"Love in the Time of Money\" is a visually stunning film to watch. Mr. Mattei offers us a vivid portrait about human relations. This is a movie that seems to be telling us what money, power and success do to people in the different situations we encounter. <br /><br />This being a variation on the Arthur Schnitzler's play about the same theme, the director transfers the action to the present time New York where all these different characters meet and connect. Each one is connected in one way, or another to the next person, but no one seems to know the previous point of contact. Stylishly, the film has a sophisticated luxurious look. We are taken to see how these people live and the world they live in their own habitat.<br /><br />The only thing one gets out of all these souls in the picture is the different stages of loneliness each one inhabits. A big city is not exactly the best place in which human relations find sincere fulfillment, as one discerns is the case with most of the people we encounter.<br /><br />The acting is good under Mr. Mattei's direction. Steve Buscemi, Rosario Dawson, Carol Kane, Michael Imperioli, Adrian Grenier, and the rest of the talented cast, make these characters come alive.<br /><br />We wish Mr. Mattei good luck and await anxiously for his next work.                                                                                                                                                                                                                                                                                                                                                                                                                                                             |\n",
      "|  5 |           1 | Probably my all-time favorite movie, a story of selflessness, sacrifice and dedication to a noble cause, but it's not preachy or boring. It just never gets old, despite my having seen it some 15 or more times in the last 25 years. Paul Lukas' performance brings tears to my eyes, and Bette Davis, in one of her very few truly sympathetic roles, is a delight. The kids are, as grandma says, more like \"dressed-up midgets\" than children, but that only makes them more fun to watch. And the mother's slow awakening to what's happening in the world and under her own roof is believable and startling. If I had a dozen thumbs, they'd all be \"up\" for this movie.                                                                                                                                                                                                                                                                                                                                                                                                                                                                                                                                                                                                                                                                                                                                                                                                                                                                                                                                                                                                                                                                                                                                                  |\n",
      "|  6 |           1 | I sure would like to see a resurrection of a up dated Seahunt series with the tech they have today it would bring back the kid excitement in me.I grew up on black and white TV and Seahunt with Gunsmoke were my hero's every week.You have my vote for a comeback of a new sea hunt.We need a change of pace in TV and this would work for a world of under water adventure.Oh by the way thank you for an outlet like this to view many viewpoints about TV and the many movies.So any ole way I believe I've got what I wanna say.Would be nice to read some more plus points about sea hunt.If my rhymes would be 10 lines would you let me submit,or leave me out to be in doubt and have me to quit,If this is so then I must go so lets do it.                                                                                                                                                                                                                                                                                                                                                                                                                                                                                                                                                                                                                                                                                                                                                                                                                                                                                                                                                                                                                                                                            |\n",
      "|  7 |           0 | This show was an amazing, fresh & innovative idea in the 70's when it first aired. The first 7 or 8 years were brilliant, but things dropped off after that. By 1990, the show was not really funny anymore, and it's continued its decline further to the complete waste of time it is today.<br /><br />It's truly disgraceful how far this show has fallen. The writing is painfully bad, the performances are almost as bad - if not for the mildly entertaining respite of the guest-hosts, this show probably wouldn't still be on the air. I find it so hard to believe that the same creator that hand-selected the original cast also chose the band of hacks that followed. How can one recognize such brilliance and then see fit to replace it with such mediocrity? I felt I must give 2 stars out of respect for the original cast that made this show such a huge success. As it is now, the show is just awful. I can't believe it's still on the air.                                                                                                                                                                                                                                                                                                                                                                                                                                                                                                                                                                                                                                                                                                                                                                                                                                                            |\n",
      "|  8 |           0 | Encouraged by the positive comments about this film on here I was looking forward to watching this film. Bad mistake. I've seen 950+ films and this is truly one of the worst of them - it's awful in almost every way: editing, pacing, storyline, 'acting,' soundtrack (the film's only song - a lame country tune - is played no less than four times). The film looks cheap and nasty and is boring in the extreme. Rarely have I been so happy to see the end credits of a film. <br /><br />The only thing that prevents me giving this a 1-score is Harvey Keitel - while this is far from his best performance he at least seems to be making a bit of an effort. One for Keitel obsessives only.                                                                                                                                                                                                                                                                                                                                                                                                                                                                                                                                                                                                                                                                                                                                                                                                                                                                                                                                                                                                                                                                                                                         |\n",
      "|  9 |           1 | If you like original gut wrenching laughter you will like this movie. If you are young or old then you will love this movie, hell even my mom liked it.<br /><br />Great Camp!!!                                                                                                                                                                                                                                                                                                                                                                                                                                                                                                                                                                                                                                                                                                                                                                                                                                                                                                                                                                                                                                                                                                                                                                                                                                                                                                                                                                                                                                                                                                                                                                                                                                                  |\n",
      "+----+-------------+-----------------------------------------------------------------------------------------------------------------------------------------------------------------------------------------------------------------------------------------------------------------------------------------------------------------------------------------------------------------------------------------------------------------------------------------------------------------------------------------------------------------------------------------------------------------------------------------------------------------------------------------------------------------------------------------------------------------------------------------------------------------------------------------------------------------------------------------------------------------------------------------------------------------------------------------------------------------------------------------------------------------------------------------------------------------------------------------------------------------------------------------------------------------------------------------------------------------------------------------------------------------------------------------------------------------------------------------------------------------------------------------------------------------------------------------------------------------------------------------------------------------------------------------------------------------------------------------------------------------------------------------------------------------------------------------------------------------------------------------------------------------------------------------------------------------------------------+\n"
     ]
    }
   ],
   "source": [
    "df = my_labelling(origin, \"sentiment\")\n",
    "my_pretty_table(df.head(10))"
   ]
  },
  {
   "cell_type": "markdown",
   "metadata": {},
   "source": [
    "### [2] 문자열 전처리\n",
    "\n",
    "* 축약형 문자열 처리\n",
    "* 이메일 주소 제거\n",
    "* HTML 태그 제거\n",
    "* URL 제거\n",
    "* 숫자 제거\n",
    "* 특수문자 제거\n",
    "* 불용어 제거\n",
    "\n",
    "#### (1) 영어 불용어 목록\n"
   ]
  },
  {
   "cell_type": "code",
   "execution_count": 9,
   "metadata": {},
   "outputs": [
    {
     "name": "stderr",
     "output_type": "stream",
     "text": [
      "[nltk_data] Downloading package stopwords to\n",
      "[nltk_data]     C:\\Users\\hyk\\AppData\\Roaming\\nltk_data...\n",
      "[nltk_data]   Package stopwords is already up-to-date!\n"
     ]
    },
    {
     "data": {
      "text/plain": [
       "['i', 'me', 'my', 'myself', 'we', 'our', 'ours', 'ourselves', 'you', \"you're\"]"
      ]
     },
     "execution_count": 9,
     "metadata": {},
     "output_type": "execute_result"
    }
   ],
   "source": [
    "stopwords = my_stopwords(\"en\")\n",
    "stopwords[:10]"
   ]
  },
  {
   "cell_type": "markdown",
   "metadata": {},
   "source": [
    "#### (2) 전처리 수행\n"
   ]
  },
  {
   "cell_type": "code",
   "execution_count": 10,
   "metadata": {},
   "outputs": [
    {
     "name": "stdout",
     "output_type": "stream",
     "text": [
      "+----+-------------+-------------------------------------------------------------------------------------------------------------------------------------------------------------------------------------------------------------------------------------------------------------------------------------------------------------------------------------------------------------------------------------------------------------------------------------------------------------------------------------------------------------------------------------------------------------------------------------------------------------------------------------------------------------------------------------------------------------------------------------------------------------------------------------------------------------------------------------------------------------------------------------------------------------------------------------------------------------------------------------------------------------------------------------------------------------------------------------------------------------------------------------------------------------------------------------------------------------------------------------+\n",
      "|    |   sentiment | review                                                                                                                                                                                                                                                                                                                                                                                                                                                                                                                                                                                                                                                                                                                                                                                                                                                                                                                                                                                                                                                                                                                                                                                                                              |\n",
      "|----+-------------+-------------------------------------------------------------------------------------------------------------------------------------------------------------------------------------------------------------------------------------------------------------------------------------------------------------------------------------------------------------------------------------------------------------------------------------------------------------------------------------------------------------------------------------------------------------------------------------------------------------------------------------------------------------------------------------------------------------------------------------------------------------------------------------------------------------------------------------------------------------------------------------------------------------------------------------------------------------------------------------------------------------------------------------------------------------------------------------------------------------------------------------------------------------------------------------------------------------------------------------|\n",
      "|  0 |           1 | One reviewers mentioned watching Oz episode hooked They right exactly happened meThe first thing struck Oz brutality unflinching scenes violence set right word GO Trust me show faint hearted timid This show pulls punches regards drugs sex violence Its hardcore classic use wordIt called OZ nickname given Oswald Maximum Security State Penitentary It focuses mainly Emerald City experimental section prison cells glass fronts face inwards privacy high agenda Them City home manyAryans Muslims gangstas Latinos Christians Italians Irish moreso scuffles death stares dodgy dealings shady agreements never far awayI would say main appeal show due fact goes shows dare Forget pretty pictures painted mainstream audiences forget charm forget romanceOZ mess around The first episode I ever saw struck nasty surreal I say I ready it I watched more I developed taste Oz got accustomed high levels graphic violence Not violence injustice crooked guards who will sold nickel inmates who will kill order get away it well mannered middle class inmates turned prison bitches due lack street skills prison experience Watching Oz may become comfortable uncomfortable viewingthat is get touch darker side |\n",
      "|  1 |           1 | A wonderful little production The filming technique unassuming oldtimeBBC fashion gives comforting sometimes discomforting sense realism entire piece The actors extremely well chosen Michael Sheen has got polari voices pat too You truly see seamless editing guided references Williams diary entries well worth watching terrificly written performed piece A masterful production one great masters comedy life The realism really comes home little things fantasy guard which rather use traditional dream techniques remains solid disappears It plays knowledge senses particularly scenes concerning Orton Halliwell sets particularly flat Halliwells murals decorating every surface terribly well done                                                                                                                                                                                                                                                                                                                                                                                                                                                                                                               |\n",
      "|  2 |           1 | I thought wonderful way spend time hot summer weekend sitting air conditioned theater watching lighthearted comedy The plot simplistic dialogue witty characters likable even well bread suspected serial killer While may disappointed realize Match Point Risk Addiction I thought proof Woody Allen still fully control style many us grown loveThis I would laughed one Woodys comedies years dare I say decade While I have never impressed Scarlet Johanson managed tone sexy image jumped right average spirited young womanThis may crown jewel career wittier Devil Wears Prada interesting Superman great comedy go see friends                                                                                                                                                                                                                                                                                                                                                                                                                                                                                                                                                                                           |\n",
      "|  3 |           0 | Basically there is family little boy Jake thinks there is zombie closet parents fighting timeThis movie slower soap opera suddenly Jake decides become Rambo kill zombieOK first going make film must Decide thriller drama As drama movie watchable Parents divorcing arguing like real life And Jake closet totally ruins film I expected see BOOGEYMAN similar movie instead watched drama meaningless thriller spots well playing parents descent dialogs As shots Jake ignore them                                                                                                                                                                                                                                                                                                                                                                                                                                                                                                                                                                                                                                                                                                                                             |\n",
      "|  4 |           1 | Petter Matteis Love Time Money visually stunning film watch Mr Mattei offers us vivid portrait human relations This movie seems telling us money power success people different situations encounter This variation Arthur Schnitzlers play theme director transfers action present time New York different characters meet connect Each one connected one way another next person one seems know previous point contact Stylishly film sophisticated luxurious look We taken see people live world live habitatThe thing one gets souls picture different stages loneliness one inhabits A big city exactly best place human relations find sincere fulfillment one discerns case people encounterThe acting good Mr Matteis direction Steve Buscemi Rosario Dawson Carol Kane Michael Imperioli Adrian Grenier rest talented cast make characters come aliveWe wish Mr Mattei good luck await anxiously next work                                                                                                                                                                                                                                                                                                                 |\n",
      "|  5 |           1 | Probably alltime favorite movie story selflessness sacrifice dedication noble because preachy boring It never gets old despite seen times last years Paul Lukas performance brings tears eyes Bette Davis one truly sympathetic roles delight The kids are grandma says like dressedup midgets children makes fun watch And mothers slow awakening what is happening world roof believable startling If I dozen thumbs they would up movie                                                                                                                                                                                                                                                                                                                                                                                                                                                                                                                                                                                                                                                                                                                                                                                          |\n",
      "|  6 |           1 | I sure would like see resurrection dated Seahunt series tech today would bring back kid excitement meI grew black white TV Seahunt Gunsmoke heros every weekYou vote comeback new sea huntWe need change pace TV would work world water adventureOh way thank outlet like view many viewpoints TV many moviesSo ole way I believe I have got I want to sayWould nice read plus points sea huntIf rhymes would lines would let submitor leave doubt quitIf I must go let us it                                                                                                                                                                                                                                                                                                                                                                                                                                                                                                                                                                                                                                                                                                                                                       |\n",
      "|  7 |           0 | This show amazing fresh innovative idea s first aired The first years brilliant things dropped that By show really funny anymore continued decline complete waste time todayIt is truly disgraceful far show fallen The writing painfully bad performances almost bad mildly entertaining respite guesthosts show probably still air I find hard believe creator handselected original cast also chose band hacks followed How one recognize brilliance see fit replace mediocrity I felt I must give stars respect original cast made show huge success As now show awful I cannot believe still air                                                                                                                                                                                                                                                                                                                                                                                                                                                                                                                                                                                                                               |\n",
      "|  8 |           0 | Encouraged positive comments film I looking forward watching film Bad mistake I have seen films truly one worst awful almost every way editing pacing storyline acting soundtrack the films song lame country tune played less four times The film looks cheap nasty boring extreme Rarely I happy see end credits film The thing prevents giving score Harvey Keitel far best performance least seems making bit effort One Keitel obsessives only                                                                                                                                                                                                                                                                                                                                                                                                                                                                                                                                                                                                                                                                                                                                                                                 |\n",
      "|  9 |           1 | If like original gut wrenching laughter like movie If young old love movie hell even mom liked itGreat Camp                                                                                                                                                                                                                                                                                                                                                                                                                                                                                                                                                                                                                                                                                                                                                                                                                                                                                                                                                                                                                                                                                                                         |\n",
      "+----+-------------+-------------------------------------------------------------------------------------------------------------------------------------------------------------------------------------------------------------------------------------------------------------------------------------------------------------------------------------------------------------------------------------------------------------------------------------------------------------------------------------------------------------------------------------------------------------------------------------------------------------------------------------------------------------------------------------------------------------------------------------------------------------------------------------------------------------------------------------------------------------------------------------------------------------------------------------------------------------------------------------------------------------------------------------------------------------------------------------------------------------------------------------------------------------------------------------------------------------------------------------+\n",
      "CPU times: total: 8.7 s\n",
      "Wall time: 8.78 s\n"
     ]
    }
   ],
   "source": [
    "%%time\n",
    "\n",
    "df2 = my_text_data_preprocessing(df, \"review\", rm_abbr=True, rm_email=True, rm_html=True, rm_url=True, rm_num = True, rm_special=True, stopwords=stopwords)\n",
    "my_pretty_table(df2.head(10))"
   ]
  },
  {
   "cell_type": "markdown",
   "metadata": {},
   "source": [
    "### [3] 독립, 종속변수 분리\n"
   ]
  },
  {
   "cell_type": "code",
   "execution_count": 11,
   "metadata": {},
   "outputs": [],
   "source": [
    "y = df2[\"sentiment\"]\n",
    "x = df2[\"review\"]"
   ]
  },
  {
   "cell_type": "markdown",
   "metadata": {},
   "source": [
    "### [4] 문자열 토큰화\n",
    "\n",
    "#### (1) 전체 데이터에 대한 토큰화\n"
   ]
  },
  {
   "cell_type": "code",
   "execution_count": 12,
   "metadata": {},
   "outputs": [
    {
     "name": "stdout",
     "output_type": "stream",
     "text": [
      "전체 단어수: 216419\n",
      "토큰의 크기 : 49998\n",
      "0\n",
      "[7, 1855, 991, 76, 3228, 322, 3066, 71, 124, 524, 511, 7376, 27, 77, 3151, 3228, 5379, 14719, 63, 514, 211, 124, 594, 69, 1654, 151, 54, 7977, 5575, 11365, 10, 54, 2414, 5791, 5483, 1386, 311, 514, 678, 3292, 280, 271, 60327, 394, 3228, 11041, 277, 15319, 6643, 2464, 986, 60328, 6, 2525, 1289, 24315, 464, 4571, 2420, 1125, 6847, 2861, 12462, 337, 60329, 16758, 246, 4907, 186, 464, 272, 82185, 8105, 39515, 14720, 4998, 7567, 2357, 16759, 60330, 259, 8882, 7164, 13324, 8351, 33517, 46, 145, 19683, 12, 58, 197, 1213, 54, 595, 108, 185, 180, 2870, 749, 101, 1186, 4203, 2399, 1024, 749, 1328, 749, 82186, 903, 104, 4, 27, 322, 2, 56, 119, 3151, 1493, 2111, 2, 58, 2, 1470, 6, 2, 203, 453, 2, 1382, 1163, 3228, 99, 9847, 246, 1992, 2009, 514, 40, 514, 7628, 6848, 4789, 200, 177, 2838, 31314, 6748, 200, 177, 422, 545, 20, 160, 6, 19, 9518, 676, 737, 6748, 587, 1125, 19684, 595, 481, 852, 1908, 1125, 482, 76, 3228, 115, 341, 3641, 3159, 82187, 8, 20, 1130, 3884, 430]\n",
      "------------------------------\n",
      "0\n",
      "[53, 315, 51, 289, 4, 1277, 2901, 17622, 82188, 1545, 321, 12874, 447, 26509, 206, 1805, 350, 338, 4, 78, 476, 19, 2179, 426, 4525, 1888, 99, 82189, 2127, 3201, 281, 68, 284, 16, 13325, 720, 9848, 1708, 1594, 7219, 6427, 19, 193, 76, 39516, 360, 2277, 338, 53, 4204, 289, 7, 21, 3085, 131, 55, 4, 1805, 15, 183, 272, 51, 100, 995, 2882, 439, 161, 271, 2048, 952, 3041, 1159, 1072, 4860, 6, 214, 1712, 4439, 494, 63, 3469, 19106, 27921, 636, 494, 1022, 82190, 60331, 27922, 93, 2172, 1824, 19, 143]\n",
      "------------------------------\n",
      "0\n",
      "[2, 114, 315, 35, 1037, 14, 828, 1398, 2392, 1112, 871, 15995, 688, 76, 3872, 131, 4, 49, 3895, 336, 1778, 36, 1392, 13, 19, 6336, 6428, 1460, 423, 353, 115, 619, 854, 972, 141, 2871, 5016, 2, 114, 2920, 2847, 1958, 59, 1291, 1077, 356, 41, 73, 2225, 26510, 2, 12, 1303, 7, 19107, 1211, 79, 2870, 2, 58, 2005, 353, 2, 67, 46, 1396, 8984, 39517, 1184, 1152, 1155, 1308, 4845, 124, 781, 4908, 106, 60332, 115, 7284, 5048, 566, 31315, 2201, 2762, 24316, 136, 2571, 21, 131, 69, 16, 261]\n",
      "------------------------------\n",
      "0\n",
      "[615, 26, 8, 157, 51, 368, 3518, 1117, 26, 8, 956, 4226, 672, 930, 13087, 3, 7831, 1843, 1290, 1012, 3518, 982, 341, 5818, 422, 82191, 27, 80, 34, 5, 121, 1044, 695, 402, 105, 402, 3, 1634, 672, 29527, 6644, 9, 75, 55, 24, 3518, 4226, 370, 3911, 5, 2, 764, 16, 11042, 647, 3, 227, 203, 402, 3690, 695, 3101, 19, 316, 672, 4484, 3160, 105, 556, 3518, 2624, 186]\n",
      "------------------------------\n",
      "0\n",
      "[82192, 33518, 47, 14, 216, 2067, 1292, 5, 39, 379, 11897, 1427, 73, 4088, 3144, 320, 4317, 10, 3, 103, 951, 73, 216, 589, 932, 23, 192, 1057, 2364, 10, 6795, 1735, 60333, 215, 683, 97, 16760, 140, 933, 14, 91, 772, 192, 36, 795, 3574, 2189, 7, 3145, 7, 35, 85, 298, 330, 7, 103, 50, 814, 141, 2772, 16391, 5, 3238, 13846, 88, 156, 507, 16, 23, 355, 109, 355, 82193, 77, 7, 122, 3177, 362, 192, 5576, 4635, 7, 13573, 53, 111, 464, 524, 52, 199, 320, 4317, 86, 4344, 12087, 7, 82194, 344, 23, 60334, 48, 11, 379, 33518, 395, 1243, 12088, 10344, 5883, 3719, 2731, 426, 19108, 6849, 36204, 283, 947, 102, 34, 36, 128, 82195, 538, 379, 11897, 11, 2019, 11555, 17175, 298, 89]\n",
      "------------------------------\n",
      "0\n",
      "[155, 3626, 432, 3, 17, 43944, 4024, 7629, 3426, 465, 5380, 279, 6, 46, 122, 92, 408, 43, 130, 152, 79, 769, 9198, 158, 872, 1620, 441, 4007, 1856, 7, 284, 2079, 509, 2912, 4, 260, 132, 7568, 451, 9, 82196, 18088, 390, 84, 166, 39, 24, 2746, 535, 7832, 94, 8, 1366, 109, 4969, 760, 5884, 65, 2, 2561, 3549, 71, 12, 328, 3]\n",
      "------------------------------\n",
      "0\n",
      "[2, 171, 12, 9, 16, 8587, 1914, 60335, 129, 7436, 565, 12, 637, 74, 471, 2338, 6902, 1988, 244, 403, 159, 60335, 19109, 5272, 93, 82197, 1961, 7055, 91, 1579, 82198, 273, 583, 964, 159, 12, 89, 109, 919, 82199, 35, 1305, 13574, 9, 580, 41, 13088, 159, 41, 29528, 12678, 35, 2, 176, 2, 67, 99, 2, 96, 154, 82200, 252, 255, 858, 725, 1579, 82201, 12259, 12, 334, 12, 169, 82202, 478, 704, 82203, 2, 121, 69, 169, 73, 6]\n",
      "------------------------------\n",
      "0\n",
      "[10, 54, 413, 1341, 3925, 241, 219, 27, 3000, 4, 27, 79, 438, 100, 3239, 28, 597, 54, 15, 83, 1517, 3550, 5917, 504, 366, 14, 50260, 8, 284, 13326, 145, 54, 2839, 4, 414, 2194, 22, 285, 127, 22, 2490, 359, 16761, 82204, 54, 155, 59, 871, 2, 86, 184, 176, 5101, 82205, 125, 102, 25, 2333, 1058, 10623, 1432, 389, 7, 2239, 3460, 16, 1004, 4821, 6645, 2, 349, 2, 121, 112, 343, 1091, 125, 102, 32, 54, 536, 932, 105, 253, 54, 309, 2, 70, 176, 59, 871]\n",
      "------------------------------\n",
      "0\n",
      "[8106, 1056, 697, 5, 2, 196, 894, 76, 5, 22, 1326, 2, 67, 43, 33, 284, 7, 164, 309, 127, 93, 35, 720, 1663, 677, 48, 650, 4, 33, 525, 790, 611, 2945, 172, 270, 613, 130, 4, 5, 201, 610, 1493, 279, 1403, 1565, 2, 606, 16, 61, 821, 5, 4, 77, 9387, 640, 500, 4459, 9738, 145, 52, 158, 135, 103, 175, 142, 705, 7, 9738, 43945, 798]\n",
      "------------------------------\n",
      "0\n",
      "[65, 9, 125, 7220, 8772, 2103, 9, 3, 65, 106, 92, 47, 3, 528, 13, 1473, 342, 43946, 1137]\n",
      "------------------------------\n",
      "CPU times: total: 7.09 s\n",
      "Wall time: 7.22 s\n"
     ]
    }
   ],
   "source": [
    "%%time\n",
    "\n",
    "tokenizer = my_tokenizer(x)\n",
    "print(f\"전체 단어수: {len(tokenizer.word_index)+1}\")\n",
    "\n",
    "token_set = tokenizer.texts_to_sequences(x)\n",
    "print(\"토큰의 크기 :\", len(token_set))\n",
    "\n",
    "# 문장별로 <OOV>의 수 카운트\n",
    "i = tokenizer.texts_to_sequences(x.head(10))\n",
    "for j in range(10):\n",
    "    print(i[j].count(1))\n",
    "    print(i[j])\n",
    "    print(\"-\" * 30)"
   ]
  },
  {
   "cell_type": "markdown",
   "metadata": {},
   "source": [
    "#### (2) 각 단어별 빈도수 확인\n",
    "\n",
    "`(단어: 빈도수)` 형태의 튜플을 원소로 갖는 odict_list 타입 객체를 반환\n"
   ]
  },
  {
   "cell_type": "code",
   "execution_count": 13,
   "metadata": {},
   "outputs": [
    {
     "name": "stdout",
     "output_type": "stream",
     "text": [
      "[('one', 50324), ('reviewers', 500), ('mentioned', 1026), ('watching', 8909), ('oz', 256)]\n"
     ]
    }
   ],
   "source": [
    "bins = tokenizer.word_counts.items()\n",
    "# 출력 결과가 너무 길어서 5개만 출력\n",
    "print(list(bins)[:5])"
   ]
  },
  {
   "cell_type": "markdown",
   "metadata": {},
   "source": [
    "#### (3) 자주 등장하는 단어 수 계산\n"
   ]
  },
  {
   "cell_type": "code",
   "execution_count": 14,
   "metadata": {},
   "outputs": [
    {
     "name": "stdout",
     "output_type": "stream",
     "text": [
      "단어 집합(vocabulary)의 크기 : 216418\n",
      "등장 빈도가 30번 미만인 희귀 단어의 수: 201100\n",
      "단어 집합에서 희귀 단어의 비율: 92.92203051502186\n",
      "전체 등장 빈도에서 희귀 단어 등장 빈도 비율: 8.597505256648489\n",
      "단어 집합의 크기 : 15319\n"
     ]
    }
   ],
   "source": [
    "# 사용 빈도가 높다고 판단할 등장 회수\n",
    "threshold = 30\n",
    "\n",
    "# 전체 단어의 수\n",
    "total_cnt = len(tokenizer.word_index)\n",
    "\n",
    "# 등장 빈도수가 threshold보다 작은 단어의 개수를 카운트할 값\n",
    "rare_cnt = 0\n",
    "\n",
    "# 훈련 데이터의 전체 단어 빈도수 총 합\n",
    "total_freq = 0\n",
    "\n",
    "# 등장 빈도수가 threshold보다 작은 단어의 등장 빈도수의 총 합\n",
    "rare_freq = 0\n",
    "\n",
    "# 단어와 빈도수의 쌍(pair)을 key와 value로 받는다.\n",
    "# --> [('one', 50324), ('reviewers', 500), ('mentioned', 1026), ('watching', 8909), ('oz', 256)]\n",
    "# --> key = 'one', value = 50324\n",
    "for key, value in tokenizer.word_counts.items():\n",
    "    total_freq = total_freq + value\n",
    "\n",
    "    # 단어의 등장 빈도수가 threshold보다 작으면\n",
    "    if value < threshold:\n",
    "        rare_cnt = rare_cnt + 1\n",
    "        rare_freq = rare_freq + value\n",
    "\n",
    "print(\"단어 집합(vocabulary)의 크기 :\", total_cnt)\n",
    "print(\"등장 빈도가 %s번 미만인 희귀 단어의 수: %s\" % (threshold, rare_cnt))\n",
    "print(\"단어 집합에서 희귀 단어의 비율:\", (rare_cnt / total_cnt) * 100)\n",
    "print(\"전체 등장 빈도에서 희귀 단어 등장 빈도 비율:\", (rare_freq / total_freq) * 100)\n",
    "\n",
    "# 자주 등장하는 단어 집합의 크기 구하기 -> 이 값이 첫 번째 학습층의 input 수가 된다.\n",
    "vocab_size = total_cnt - rare_cnt + 1\n",
    "print(\"단어 집합의 크기 :\", vocab_size)"
   ]
  },
  {
   "cell_type": "markdown",
   "metadata": {},
   "source": [
    "#### (4) 자주 등장하는 단어를 제외한 나머지 단어를 OOV로 처리하여 최종 토큰화 진행\n",
    "\n",
    "`num_words` 를 설정하더라도 전체 단어수나 토큰의 크기에는 영향을 주지 않는다.\n"
   ]
  },
  {
   "cell_type": "code",
   "execution_count": 15,
   "metadata": {},
   "outputs": [
    {
     "name": "stdout",
     "output_type": "stream",
     "text": [
      "전체 단어수: 216419\n",
      "토큰의 크기 : 49998\n",
      "16\n",
      "[7, 1855, 991, 76, 3228, 322, 3066, 71, 124, 524, 511, 7376, 27, 77, 3151, 3228, 5379, 14719, 63, 514, 211, 124, 594, 69, 1654, 151, 54, 7977, 5575, 11365, 10, 54, 2414, 5791, 5483, 1386, 311, 514, 678, 3292, 280, 271, 1, 394, 3228, 11041, 277, 1, 6643, 2464, 986, 1, 6, 2525, 1289, 1, 464, 4571, 2420, 1125, 6847, 2861, 12462, 337, 1, 1, 246, 4907, 186, 464, 272, 1, 8105, 1, 14720, 4998, 7567, 2357, 1, 1, 259, 8882, 7164, 13324, 8351, 1, 46, 145, 1, 12, 58, 197, 1213, 54, 595, 108, 185, 180, 2870, 749, 101, 1186, 4203, 2399, 1024, 749, 1328, 749, 1, 903, 104, 4, 27, 322, 2, 56, 119, 3151, 1493, 2111, 2, 58, 2, 1470, 6, 2, 203, 453, 2, 1382, 1163, 3228, 99, 9847, 246, 1992, 2009, 514, 40, 514, 7628, 6848, 4789, 200, 177, 2838, 1, 6748, 200, 177, 422, 545, 20, 160, 6, 19, 9518, 676, 737, 6748, 587, 1125, 1, 595, 481, 852, 1908, 1125, 482, 76, 3228, 115, 341, 3641, 3159, 1, 8, 20, 1130, 3884, 430]\n",
      "------------------------------\n",
      "10\n",
      "[53, 315, 51, 289, 4, 1277, 2901, 1, 1, 1545, 321, 12874, 447, 1, 206, 1805, 350, 338, 4, 78, 476, 19, 2179, 426, 4525, 1888, 99, 1, 2127, 3201, 281, 68, 284, 16, 13325, 720, 9848, 1708, 1594, 7219, 6427, 19, 193, 76, 1, 360, 2277, 338, 53, 4204, 289, 7, 21, 3085, 131, 55, 4, 1805, 15, 183, 272, 51, 100, 995, 2882, 439, 161, 271, 2048, 952, 3041, 1159, 1072, 4860, 6, 214, 1712, 4439, 494, 63, 3469, 1, 1, 636, 494, 1022, 1, 1, 1, 93, 2172, 1824, 19, 143]\n",
      "------------------------------\n",
      "7\n",
      "[2, 114, 315, 35, 1037, 14, 828, 1398, 2392, 1112, 871, 1, 688, 76, 3872, 131, 4, 49, 3895, 336, 1778, 36, 1392, 13, 19, 6336, 6428, 1460, 423, 353, 115, 619, 854, 972, 141, 2871, 5016, 2, 114, 2920, 2847, 1958, 59, 1291, 1077, 356, 41, 73, 2225, 1, 2, 12, 1303, 7, 1, 1211, 79, 2870, 2, 58, 2005, 353, 2, 67, 46, 1396, 8984, 1, 1184, 1152, 1155, 1308, 4845, 124, 781, 4908, 106, 1, 115, 7284, 5048, 566, 1, 2201, 2762, 1, 136, 2571, 21, 131, 69, 16, 261]\n",
      "------------------------------\n",
      "2\n",
      "[615, 26, 8, 157, 51, 368, 3518, 1117, 26, 8, 956, 4226, 672, 930, 13087, 3, 7831, 1843, 1290, 1012, 3518, 982, 341, 5818, 422, 1, 27, 80, 34, 5, 121, 1044, 695, 402, 105, 402, 3, 1634, 672, 1, 6644, 9, 75, 55, 24, 3518, 4226, 370, 3911, 5, 2, 764, 16, 11042, 647, 3, 227, 203, 402, 3690, 695, 3101, 19, 316, 672, 4484, 3160, 105, 556, 3518, 2624, 186]\n",
      "------------------------------\n",
      "13\n",
      "[1, 1, 47, 14, 216, 2067, 1292, 5, 39, 379, 11897, 1427, 73, 4088, 3144, 320, 4317, 10, 3, 103, 951, 73, 216, 589, 932, 23, 192, 1057, 2364, 10, 6795, 1735, 1, 215, 683, 97, 1, 140, 933, 14, 91, 772, 192, 36, 795, 3574, 2189, 7, 3145, 7, 35, 85, 298, 330, 7, 103, 50, 814, 141, 2772, 1, 5, 3238, 13846, 88, 156, 507, 16, 23, 355, 109, 355, 1, 77, 7, 122, 3177, 362, 192, 5576, 4635, 7, 13573, 53, 111, 464, 524, 52, 199, 320, 4317, 86, 4344, 12087, 7, 1, 344, 23, 1, 48, 11, 379, 1, 395, 1243, 12088, 10344, 5883, 3719, 2731, 426, 1, 6849, 1, 283, 947, 102, 34, 36, 128, 1, 538, 379, 11897, 11, 2019, 11555, 1, 298, 89]\n",
      "------------------------------\n",
      "3\n",
      "[155, 3626, 432, 3, 17, 1, 4024, 7629, 3426, 465, 5380, 279, 6, 46, 122, 92, 408, 43, 130, 152, 79, 769, 9198, 158, 872, 1620, 441, 4007, 1856, 7, 284, 2079, 509, 2912, 4, 260, 132, 7568, 451, 9, 1, 1, 390, 84, 166, 39, 24, 2746, 535, 7832, 94, 8, 1366, 109, 4969, 760, 5884, 65, 2, 2561, 3549, 71, 12, 328, 3]\n",
      "------------------------------\n",
      "11\n",
      "[2, 171, 12, 9, 16, 8587, 1914, 1, 129, 7436, 565, 12, 637, 74, 471, 2338, 6902, 1988, 244, 403, 159, 1, 1, 5272, 93, 1, 1961, 7055, 91, 1579, 1, 273, 583, 964, 159, 12, 89, 109, 919, 1, 35, 1305, 13574, 9, 580, 41, 13088, 159, 41, 1, 12678, 35, 2, 176, 2, 67, 99, 2, 96, 154, 1, 252, 255, 858, 725, 1579, 1, 12259, 12, 334, 12, 169, 1, 478, 704, 1, 2, 121, 69, 169, 73, 6]\n",
      "------------------------------\n",
      "4\n",
      "[10, 54, 413, 1341, 3925, 241, 219, 27, 3000, 4, 27, 79, 438, 100, 3239, 28, 597, 54, 15, 83, 1517, 3550, 5917, 504, 366, 14, 1, 8, 284, 13326, 145, 54, 2839, 4, 414, 2194, 22, 285, 127, 22, 2490, 359, 1, 1, 54, 155, 59, 871, 2, 86, 184, 176, 5101, 1, 125, 102, 25, 2333, 1058, 10623, 1432, 389, 7, 2239, 3460, 16, 1004, 4821, 6645, 2, 349, 2, 121, 112, 343, 1091, 125, 102, 32, 54, 536, 932, 105, 253, 54, 309, 2, 70, 176, 59, 871]\n",
      "------------------------------\n",
      "1\n",
      "[8106, 1056, 697, 5, 2, 196, 894, 76, 5, 22, 1326, 2, 67, 43, 33, 284, 7, 164, 309, 127, 93, 35, 720, 1663, 677, 48, 650, 4, 33, 525, 790, 611, 2945, 172, 270, 613, 130, 4, 5, 201, 610, 1493, 279, 1403, 1565, 2, 606, 16, 61, 821, 5, 4, 77, 9387, 640, 500, 4459, 9738, 145, 52, 158, 135, 103, 175, 142, 705, 7, 9738, 1, 798]\n",
      "------------------------------\n",
      "1\n",
      "[65, 9, 125, 7220, 8772, 2103, 9, 3, 65, 106, 92, 47, 3, 528, 13, 1473, 342, 1, 1137]\n",
      "------------------------------\n",
      "CPU times: total: 7.16 s\n",
      "Wall time: 7.33 s\n"
     ]
    }
   ],
   "source": [
    "%%time\n",
    "\n",
    "tokenizer2 = my_tokenizer(x, num_words=vocab_size)\n",
    "print(f\"전체 단어수: {len(tokenizer2.word_index) + 1}\")\n",
    "\n",
    "token_set = tokenizer2.texts_to_sequences(x)\n",
    "print('토큰의 크기 :', len(token_set))\n",
    "\n",
    "i = tokenizer2.texts_to_sequences(x.head(10))\n",
    "\n",
    "# 문장별로 <OOV>의 수 카운트\n",
    "for j in range(10):\n",
    "    print(i[j].count(1))\n",
    "    print(i[j])\n",
    "    print(\"-\" * 30)"
   ]
  },
  {
   "cell_type": "markdown",
   "metadata": {},
   "source": [
    "> 사용 빈도가 낮은 단어들은 모두 `<OOV>` 로 처리되었기 때문에 사용되지 않는 단어의 수가 늘어났다.\n"
   ]
  },
  {
   "cell_type": "markdown",
   "metadata": {},
   "source": [
    "#### (5) 토큰화 결과 길이가 0인 문장 찾기\n"
   ]
  },
  {
   "cell_type": "code",
   "execution_count": 16,
   "metadata": {},
   "outputs": [
    {
     "name": "stdout",
     "output_type": "stream",
     "text": [
      "길이가 0인 항목의 수:  0\n",
      "길이가 0인 항목의 인덱스 모음:  []\n"
     ]
    }
   ],
   "source": [
    "# 토큰화 결과 길이가 0인 항목의 index 찾기\n",
    "drop_target_index = []\n",
    "\n",
    "for i, v in enumerate(token_set):\n",
    "    if len(v) < 1:\n",
    "        drop_target_index.append(i)\n",
    "\n",
    "print(\"길이가 0인 항목의 수: \", len(drop_target_index))\n",
    "\n",
    "print(\"길이가 0인 항목의 인덱스 모음: \", drop_target_index)"
   ]
  },
  {
   "cell_type": "markdown",
   "metadata": {},
   "source": [
    "#### (6) 토큰화 결과의 길이가 0인 항목 삭제하기\n",
    "\n",
    "> 이 예제에서는 길이가 0인 항목이 없지만 코드의 패턴화를 위해 구현해 둔다.\n"
   ]
  },
  {
   "cell_type": "code",
   "execution_count": 17,
   "metadata": {},
   "outputs": [
    {
     "name": "stdout",
     "output_type": "stream",
     "text": [
      "독립변수(덧글) 데이터 수:  49998\n",
      "종속변수(레이블) 데이터 수:  49998\n"
     ]
    }
   ],
   "source": [
    "token_set2 = np.asarray(token_set, dtype=\"object\")\n",
    "\n",
    "# 토큰 결과에서 해당 위치의 항목들을 삭제한다.\n",
    "fill_token_set = np.delete(token_set2, drop_target_index, axis=0)\n",
    "\n",
    "# 종속변수에서도 같은 위치의 항목들을 삭제해야 한다.\n",
    "label_set = np.delete(y, drop_target_index, axis=0)\n",
    "\n",
    "print(\"독립변수(덧글) 데이터 수: \", len(fill_token_set))\n",
    "print(\"종속변수(레이블) 데이터 수: \", len(label_set))"
   ]
  },
  {
   "cell_type": "markdown",
   "metadata": {},
   "source": [
    "## #04. 탐색적 데이터 분석\n",
    "\n",
    "### [1] 각 문장별로 몇 개의 단어를 포함하고 있는지 측정\n"
   ]
  },
  {
   "cell_type": "code",
   "execution_count": 18,
   "metadata": {},
   "outputs": [
    {
     "data": {
      "text/html": [
       "<div>\n",
       "<style scoped>\n",
       "    .dataframe tbody tr th:only-of-type {\n",
       "        vertical-align: middle;\n",
       "    }\n",
       "\n",
       "    .dataframe tbody tr th {\n",
       "        vertical-align: top;\n",
       "    }\n",
       "\n",
       "    .dataframe thead th {\n",
       "        text-align: right;\n",
       "    }\n",
       "</style>\n",
       "<table border=\"1\" class=\"dataframe\">\n",
       "  <thead>\n",
       "    <tr style=\"text-align: right;\">\n",
       "      <th></th>\n",
       "      <th>count</th>\n",
       "    </tr>\n",
       "  </thead>\n",
       "  <tbody>\n",
       "    <tr>\n",
       "      <th>0</th>\n",
       "      <td>181</td>\n",
       "    </tr>\n",
       "    <tr>\n",
       "      <th>1</th>\n",
       "      <td>94</td>\n",
       "    </tr>\n",
       "    <tr>\n",
       "      <th>2</th>\n",
       "      <td>93</td>\n",
       "    </tr>\n",
       "    <tr>\n",
       "      <th>3</th>\n",
       "      <td>72</td>\n",
       "    </tr>\n",
       "    <tr>\n",
       "      <th>4</th>\n",
       "      <td>130</td>\n",
       "    </tr>\n",
       "    <tr>\n",
       "      <th>...</th>\n",
       "      <td>...</td>\n",
       "    </tr>\n",
       "    <tr>\n",
       "      <th>49993</th>\n",
       "      <td>98</td>\n",
       "    </tr>\n",
       "    <tr>\n",
       "      <th>49994</th>\n",
       "      <td>62</td>\n",
       "    </tr>\n",
       "    <tr>\n",
       "      <th>49995</th>\n",
       "      <td>122</td>\n",
       "    </tr>\n",
       "    <tr>\n",
       "      <th>49996</th>\n",
       "      <td>120</td>\n",
       "    </tr>\n",
       "    <tr>\n",
       "      <th>49997</th>\n",
       "      <td>69</td>\n",
       "    </tr>\n",
       "  </tbody>\n",
       "</table>\n",
       "<p>49998 rows × 1 columns</p>\n",
       "</div>"
      ],
      "text/plain": [
       "       count\n",
       "0        181\n",
       "1         94\n",
       "2         93\n",
       "3         72\n",
       "4        130\n",
       "...      ...\n",
       "49993     98\n",
       "49994     62\n",
       "49995    122\n",
       "49996    120\n",
       "49997     69\n",
       "\n",
       "[49998 rows x 1 columns]"
      ]
     },
     "execution_count": 18,
     "metadata": {},
     "output_type": "execute_result"
    }
   ],
   "source": [
    "word_counts = []\n",
    "\n",
    "for s in fill_token_set:\n",
    "    word_counts.append(len(s))\n",
    "\n",
    "count_df = DataFrame({\"count\": word_counts})\n",
    "count_df"
   ]
  },
  {
   "cell_type": "markdown",
   "metadata": {},
   "source": [
    "### [2] 리뷰 중 가장 많은 단어를 사용한 리뷰와 가장 적은 단어를 사용한 리뷰의 단어 수\n"
   ]
  },
  {
   "cell_type": "code",
   "execution_count": 19,
   "metadata": {},
   "outputs": [
    {
     "name": "stdout",
     "output_type": "stream",
     "text": [
      "가장 많은 단어를 사용하는 문장의 단어 수 : 1508\n",
      "가장 적은 단어를 사용하는 문장의 단어수 : 4\n"
     ]
    }
   ],
   "source": [
    "max_word_count = max(word_counts)\n",
    "min_word_count = min(word_counts)\n",
    "print(\"가장 많은 단어를 사용하는 문장의 단어 수 :\", max_word_count)\n",
    "print(\"가장 적은 단어를 사용하는 문장의 단어수 :\", min_word_count)"
   ]
  },
  {
   "cell_type": "markdown",
   "metadata": {},
   "source": [
    "## #05. 학습 모형 적합\n",
    "\n",
    "### [1] 패딩처리\n",
    "\n",
    "최대 단어수를 갖고 있는 문장을 기준으로 그보다 적은 단어를 갖고 있는 문장은 최대 단어수와 동일해 질 때까지 0으로 채워넣는다.\n"
   ]
  },
  {
   "cell_type": "code",
   "execution_count": 20,
   "metadata": {},
   "outputs": [
    {
     "name": "stdout",
     "output_type": "stream",
     "text": [
      "After pad_sequences:  1508 1508\n",
      "[   0    0    0 ... 1130 3884  430]\n"
     ]
    }
   ],
   "source": [
    "max_word_count = max(word_counts)\n",
    "pad_token_set = pad_sequences(fill_token_set, maxlen=max_word_count)\n",
    "\n",
    "#  원래 단어의 앞에 ‘지정해준 단어의 길이(max_word_count) – 원래 단어의 길이`만큼 0이 추가된 것을 볼 수 있다.\n",
    "print(\"After pad_sequences: \", len(pad_token_set[0]), len(pad_token_set[1]))\n",
    "print(pad_token_set[0])"
   ]
  },
  {
   "cell_type": "markdown",
   "metadata": {},
   "source": [
    "### [2] 데이터 분할\n"
   ]
  },
  {
   "cell_type": "code",
   "execution_count": 24,
   "metadata": {},
   "outputs": [
    {
     "name": "stdout",
     "output_type": "stream",
     "text": [
      "훈련용 데이터셋 크기: (39998, 1508), 검증용 데이터셋 크기: (10000, 1508)\n",
      "훈련용 레이블 크기: (39998,), 검증용 레이블 크기: (10000,)\n"
     ]
    }
   ],
   "source": [
    "x_train, x_test, y_train, y_test = my_train_test_split(pad_token_set, ydata=label_set)\n",
    "\n",
    "print(\n",
    "    \"훈련용 데이터셋 크기: %s, 검증용 데이터셋 크기: %s\" % (x_train.shape, x_test.shape)\n",
    ")\n",
    "print(\"훈련용 레이블 크기: %s, 검증용 레이블 크기: %s\" % (y_train.shape, y_test.shape))"
   ]
  },
  {
   "cell_type": "markdown",
   "metadata": {},
   "source": [
    "### [3] 모델 생성\n",
    "\n",
    "1. input_dim 인자는 학습 데이터셋에서 사용한 단어의 개수(vocab_size)\n",
    "2. output_dim 인자는 임베딩 벡터의 크기(32)\n",
    "    - output_dim의 크기는 input_dim보다 작은 값 중에서 설정\n",
    "    - 이와 같이 인자를 설정하고 나면 Embedding층은 (None, vocab_size, 32) 형태의 출력을 가지게 된다.\n",
    "3. input_length인자는 Flatten 층을 사용하기 위해 전달.\n",
    "4. 결국은 문장을 학습하여 긍정, 부정 여부를 판단하는 것이므로 이진분류분석에 속한다.\n"
   ]
  },
  {
   "cell_type": "code",
   "execution_count": 25,
   "metadata": {},
   "outputs": [
    {
     "name": "stdout",
     "output_type": "stream",
     "text": [
      "{'type': 'embedding', 'input_dim': 15319, 'output_dim': 32, 'input_length': 1508}\n",
      "{'type': 'flatten'}\n",
      "{'type': 'dense', 'units': 1, 'activation': 'sigmoid'}\n"
     ]
    },
    {
     "data": {
      "application/vnd.jupyter.widget-view+json": {
       "model_id": "f7e3c5a0ea6d4e13b6f1a348710d13b7",
       "version_major": 2,
       "version_minor": 0
      },
      "text/plain": [
       "0epoch [00:00, ?epoch/s]"
      ]
     },
     "metadata": {},
     "output_type": "display_data"
    },
    {
     "name": "stdout",
     "output_type": "stream",
     "text": [
      "+-------+----------+-----------+\n",
      "|       |      acc |      loss |\n",
      "|-------+----------+-----------|\n",
      "| train | 0.971749 | 0.0981908 |\n",
      "| test  |   0.8875 |  0.281298 |\n",
      "+-------+----------+-----------+\n"
     ]
    },
    {
     "data": {
      "image/png": "[encoded data removed]",
      "text/plain": [
       "<Figure size 1400x500 with 2 Axes>"
      ]
     },
     "metadata": {},
     "output_type": "display_data"
    },
    {
     "data": {
      "text/html": [
       "<pre style=\"white-space:pre;overflow-x:auto;line-height:normal;font-family:Menlo,'DejaVu Sans Mono',consolas,'Courier New',monospace\"><span style=\"font-weight: bold\">Model: \"sequential\"</span>\n",
       "</pre>\n"
      ],
      "text/plain": [
       "\u001b[1mModel: \"sequential\"\u001b[0m\n"
      ]
     },
     "metadata": {},
     "output_type": "display_data"
    },
    {
     "data": {
      "text/html": [
       "<pre style=\"white-space:pre;overflow-x:auto;line-height:normal;font-family:Menlo,'DejaVu Sans Mono',consolas,'Courier New',monospace\">┏━━━━━━━━━━━━━━━━━━━━━━━━━━━━━━━━━┳━━━━━━━━━━━━━━━━━━━━━━━━┳━━━━━━━━━━━━━━━┓\n",
       "┃<span style=\"font-weight: bold\"> Layer (type)                    </span>┃<span style=\"font-weight: bold\"> Output Shape           </span>┃<span style=\"font-weight: bold\">       Param # </span>┃\n",
       "┡━━━━━━━━━━━━━━━━━━━━━━━━━━━━━━━━━╇━━━━━━━━━━━━━━━━━━━━━━━━╇━━━━━━━━━━━━━━━┩\n",
       "│ embedding (<span style=\"color: #0087ff; text-decoration-color: #0087ff\">Embedding</span>)           │ (<span style=\"color: #00d7ff; text-decoration-color: #00d7ff\">None</span>, <span style=\"color: #00af00; text-decoration-color: #00af00\">1508</span>, <span style=\"color: #00af00; text-decoration-color: #00af00\">32</span>)       │       <span style=\"color: #00af00; text-decoration-color: #00af00\">490,208</span> │\n",
       "├─────────────────────────────────┼────────────────────────┼───────────────┤\n",
       "│ flatten (<span style=\"color: #0087ff; text-decoration-color: #0087ff\">Flatten</span>)               │ (<span style=\"color: #00d7ff; text-decoration-color: #00d7ff\">None</span>, <span style=\"color: #00af00; text-decoration-color: #00af00\">48256</span>)          │             <span style=\"color: #00af00; text-decoration-color: #00af00\">0</span> │\n",
       "├─────────────────────────────────┼────────────────────────┼───────────────┤\n",
       "│ dense (<span style=\"color: #0087ff; text-decoration-color: #0087ff\">Dense</span>)                   │ (<span style=\"color: #00d7ff; text-decoration-color: #00d7ff\">None</span>, <span style=\"color: #00af00; text-decoration-color: #00af00\">1</span>)              │        <span style=\"color: #00af00; text-decoration-color: #00af00\">48,257</span> │\n",
       "└─────────────────────────────────┴────────────────────────┴───────────────┘\n",
       "</pre>\n"
      ],
      "text/plain": [
       "┏━━━━━━━━━━━━━━━━━━━━━━━━━━━━━━━━━┳━━━━━━━━━━━━━━━━━━━━━━━━┳━━━━━━━━━━━━━━━┓\n",
       "┃\u001b[1m \u001b[0m\u001b[1mLayer (type)                   \u001b[0m\u001b[1m \u001b[0m┃\u001b[1m \u001b[0m\u001b[1mOutput Shape          \u001b[0m\u001b[1m \u001b[0m┃\u001b[1m \u001b[0m\u001b[1m      Param #\u001b[0m\u001b[1m \u001b[0m┃\n",
       "┡━━━━━━━━━━━━━━━━━━━━━━━━━━━━━━━━━╇━━━━━━━━━━━━━━━━━━━━━━━━╇━━━━━━━━━━━━━━━┩\n",
       "│ embedding (\u001b[38;5;33mEmbedding\u001b[0m)           │ (\u001b[38;5;45mNone\u001b[0m, \u001b[38;5;34m1508\u001b[0m, \u001b[38;5;34m32\u001b[0m)       │       \u001b[38;5;34m490,208\u001b[0m │\n",
       "├─────────────────────────────────┼────────────────────────┼───────────────┤\n",
       "│ flatten (\u001b[38;5;33mFlatten\u001b[0m)               │ (\u001b[38;5;45mNone\u001b[0m, \u001b[38;5;34m48256\u001b[0m)          │             \u001b[38;5;34m0\u001b[0m │\n",
       "├─────────────────────────────────┼────────────────────────┼───────────────┤\n",
       "│ dense (\u001b[38;5;33mDense\u001b[0m)                   │ (\u001b[38;5;45mNone\u001b[0m, \u001b[38;5;34m1\u001b[0m)              │        \u001b[38;5;34m48,257\u001b[0m │\n",
       "└─────────────────────────────────┴────────────────────────┴───────────────┘\n"
      ]
     },
     "metadata": {},
     "output_type": "display_data"
    },
    {
     "data": {
      "text/html": [
       "<pre style=\"white-space:pre;overflow-x:auto;line-height:normal;font-family:Menlo,'DejaVu Sans Mono',consolas,'Courier New',monospace\"><span style=\"font-weight: bold\"> Total params: </span><span style=\"color: #00af00; text-decoration-color: #00af00\">1,615,397</span> (6.16 MB)\n",
       "</pre>\n"
      ],
      "text/plain": [
       "\u001b[1m Total params: \u001b[0m\u001b[38;5;34m1,615,397\u001b[0m (6.16 MB)\n"
      ]
     },
     "metadata": {},
     "output_type": "display_data"
    },
    {
     "data": {
      "text/html": [
       "<pre style=\"white-space:pre;overflow-x:auto;line-height:normal;font-family:Menlo,'DejaVu Sans Mono',consolas,'Courier New',monospace\"><span style=\"font-weight: bold\"> Trainable params: </span><span style=\"color: #00af00; text-decoration-color: #00af00\">538,465</span> (2.05 MB)\n",
       "</pre>\n"
      ],
      "text/plain": [
       "\u001b[1m Trainable params: \u001b[0m\u001b[38;5;34m538,465\u001b[0m (2.05 MB)\n"
      ]
     },
     "metadata": {},
     "output_type": "display_data"
    },
    {
     "data": {
      "text/html": [
       "<pre style=\"white-space:pre;overflow-x:auto;line-height:normal;font-family:Menlo,'DejaVu Sans Mono',consolas,'Courier New',monospace\"><span style=\"font-weight: bold\"> Non-trainable params: </span><span style=\"color: #00af00; text-decoration-color: #00af00\">0</span> (0.00 B)\n",
       "</pre>\n"
      ],
      "text/plain": [
       "\u001b[1m Non-trainable params: \u001b[0m\u001b[38;5;34m0\u001b[0m (0.00 B)\n"
      ]
     },
     "metadata": {},
     "output_type": "display_data"
    },
    {
     "data": {
      "text/html": [
       "<pre style=\"white-space:pre;overflow-x:auto;line-height:normal;font-family:Menlo,'DejaVu Sans Mono',consolas,'Courier New',monospace\"><span style=\"font-weight: bold\"> Optimizer params: </span><span style=\"color: #00af00; text-decoration-color: #00af00\">1,076,932</span> (4.11 MB)\n",
       "</pre>\n"
      ],
      "text/plain": [
       "\u001b[1m Optimizer params: \u001b[0m\u001b[38;5;34m1,076,932\u001b[0m (4.11 MB)\n"
      ]
     },
     "metadata": {},
     "output_type": "display_data"
    },
    {
     "name": "stdout",
     "output_type": "stream",
     "text": [
      "CPU times: total: 4min 43s\n",
      "Wall time: 1min 21s\n"
     ]
    }
   ],
   "source": [
    "%%time\n",
    "\n",
    "# model = Sequential()\n",
    "# model.add(Embedding(input_dim=vocab_size, output_dim=32, input_length=max_word_count))\n",
    "# model.add(Flatten())\n",
    "# model.add(Dense(1, activation=\"sigmoid\"))\n",
    "# model.compile(optimizer=\"adam\", loss=\"binary_crossentropy\", metrics=[\"acc\"])\n",
    "# model.summary()\n",
    "\n",
    "model = my_tf(\n",
    "    x_train=x_train,\n",
    "    y_train=y_train,\n",
    "    x_test=x_test,\n",
    "    y_test=y_test,\n",
    "    layer=[\n",
    "        dict(type=\"embedding\", input_dim=vocab_size, output_dim=32, input_length=max_word_count),\n",
    "        dict(type=\"flatten\"),\n",
    "        dict(type=\"dense\", units=1, activation=\"sigmoid\")\n",
    "    ],\n",
    "    optimizer=\"adam\",\n",
    "    loss=\"binary_crossentropy\",\n",
    "    metrics=[\"acc\"]\n",
    ")\n",
    "\n",
    "model.summary()"
   ]
  },
  {
   "cell_type": "markdown",
   "metadata": {},
   "source": [
    "## #06. 학습 결과 적용\n",
    "\n",
    "### [1] 검증 데이터에 대한 예측 결과 산정\n"
   ]
  },
  {
   "cell_type": "code",
   "execution_count": 26,
   "metadata": {},
   "outputs": [
    {
     "name": "stdout",
     "output_type": "stream",
     "text": [
      "\u001b[1m313/313\u001b[0m \u001b[32m━━━━━━━━━━━━━━━━━━━━\u001b[0m\u001b[37m\u001b[0m \u001b[1m1s\u001b[0m 1ms/step\n",
      "10000개의 검증 데이터가 1개의 경우의 수를 갖는다.\n"
     ]
    },
    {
     "data": {
      "text/plain": [
       "array([[0.9932504 ],\n",
       "       [0.00117416],\n",
       "       [0.9997806 ],\n",
       "       ...,\n",
       "       [0.04678622],\n",
       "       [0.00753035],\n",
       "       [0.03188464]], dtype=float32)"
      ]
     },
     "execution_count": 26,
     "metadata": {},
     "output_type": "execute_result"
    }
   ],
   "source": [
    "result = model.predict(x_test)\n",
    "data_count, case_count = result.shape\n",
    "print(\"%d개의 검증 데이터가 %d개의 경우의 수를 갖는다.\" % (data_count, case_count))\n",
    "result"
   ]
  },
  {
   "cell_type": "markdown",
   "metadata": {},
   "source": [
    "### [2] 예측 결과를 1차원 배열로 변환\n"
   ]
  },
  {
   "cell_type": "code",
   "execution_count": 27,
   "metadata": {},
   "outputs": [
    {
     "data": {
      "text/plain": [
       "array([1., 0., 1., ..., 0., 0., 0.], dtype=float32)"
      ]
     },
     "execution_count": 27,
     "metadata": {},
     "output_type": "execute_result"
    }
   ],
   "source": [
    "f_results = result.flatten()\n",
    "f_results = np.round(f_results, 0)\n",
    "f_results"
   ]
  },
  {
   "cell_type": "markdown",
   "metadata": {},
   "source": [
    "### [3] 오차행렬\n"
   ]
  },
  {
   "cell_type": "code",
   "execution_count": 28,
   "metadata": {},
   "outputs": [
    {
     "data": {
      "image/png": "[encoded data removed]",
      "text/plain": [
       "<Figure size 1050x750 with 2 Axes>"
      ]
     },
     "metadata": {},
     "output_type": "display_data"
    }
   ],
   "source": [
    "my_confusion_matrix(y_test, f_results, figsize=(7, 5))"
   ]
  },
  {
   "cell_type": "markdown",
   "metadata": {},
   "source": [
    "## #07. 학습 결과 활용\n",
    "\n",
    "### [1] 임의의 문장\n"
   ]
  },
  {
   "cell_type": "code",
   "execution_count": 29,
   "metadata": {},
   "outputs": [],
   "source": [
    "review = [\n",
    "    \"I had a lot of fun watching it.\",\n",
    "    \"I didn't notice how time passed.\",\n",
    "    \"I was happy the whole time I watched it.\",\n",
    "    \"worst movie\",\n",
    "    \"such a boring movie\",\n",
    "]"
   ]
  },
  {
   "cell_type": "markdown",
   "metadata": {},
   "source": [
    "### [2] 문자열 전처리\n"
   ]
  },
  {
   "cell_type": "code",
   "execution_count": 30,
   "metadata": {},
   "outputs": [
    {
     "data": {
      "text/plain": [
       "['I lot fun watching it',\n",
       " 'I notice time passed',\n",
       " 'I happy whole time I watched it',\n",
       " 'worst movie',\n",
       " 'boring movie']"
      ]
     },
     "execution_count": 30,
     "metadata": {},
     "output_type": "execute_result"
    }
   ],
   "source": [
    "review_pre = [my_text_preprocessing(x, stopwords=stopwords) for x in review]\n",
    "review_pre"
   ]
  },
  {
   "cell_type": "markdown",
   "metadata": {},
   "source": [
    "### [3] 토큰화\n"
   ]
  },
  {
   "cell_type": "code",
   "execution_count": 31,
   "metadata": {},
   "outputs": [
    {
     "name": "stdout",
     "output_type": "stream",
     "text": [
      "전체 단어수: 16\n",
      "토큰의 크기 : 5\n"
     ]
    }
   ],
   "source": [
    "tokenizer2 = my_tokenizer(review_pre, num_words=vocab_size)\n",
    "print(f\"전체 단어수: {len(tokenizer2.word_index) + 1}\")\n",
    "\n",
    "token_set = tokenizer2.texts_to_sequences(review_pre)\n",
    "print(\"토큰의 크기 :\", len(token_set))"
   ]
  },
  {
   "cell_type": "markdown",
   "metadata": {},
   "source": [
    "### [4] 패딩\n"
   ]
  },
  {
   "cell_type": "code",
   "execution_count": 32,
   "metadata": {},
   "outputs": [
    {
     "data": {
      "text/plain": [
       "array([[ 0,  0,  0, ...,  7,  8,  3],\n",
       "       [ 0,  0,  0, ...,  9,  4, 10],\n",
       "       [ 0,  0,  0, ...,  2, 13,  3],\n",
       "       [ 0,  0,  0, ...,  0, 14,  5],\n",
       "       [ 0,  0,  0, ...,  0, 15,  5]])"
      ]
     },
     "execution_count": 32,
     "metadata": {},
     "output_type": "execute_result"
    }
   ],
   "source": [
    "pad_token_set = pad_sequences(token_set, maxlen=max_word_count)\n",
    "pad_token_set"
   ]
  },
  {
   "cell_type": "markdown",
   "metadata": {},
   "source": [
    "### [5] 예측값 생성\n"
   ]
  },
  {
   "cell_type": "code",
   "execution_count": 33,
   "metadata": {},
   "outputs": [
    {
     "name": "stdout",
     "output_type": "stream",
     "text": [
      "\u001b[1m1/1\u001b[0m \u001b[32m━━━━━━━━━━━━━━━━━━━━\u001b[0m\u001b[37m\u001b[0m \u001b[1m0s\u001b[0m 31ms/step\n",
      "5개의 검증 데이터가 1개의 경우의 수를 갖는다.\n"
     ]
    },
    {
     "data": {
      "text/plain": [
       "array([[0.7210508 ],\n",
       "       [0.60641456],\n",
       "       [0.5404414 ],\n",
       "       [0.7131678 ],\n",
       "       [0.6818888 ]], dtype=float32)"
      ]
     },
     "execution_count": 33,
     "metadata": {},
     "output_type": "execute_result"
    }
   ],
   "source": [
    "f_results = model.predict(pad_token_set)\n",
    "data_count, case_count = f_results.shape\n",
    "print(\"%d개의 검증 데이터가 %d개의 경우의 수를 갖는다.\" % (data_count, case_count))\n",
    "f_results"
   ]
  },
  {
   "cell_type": "markdown",
   "metadata": {},
   "source": [
    "### [6] 결과 판정\n"
   ]
  },
  {
   "cell_type": "code",
   "execution_count": 34,
   "metadata": {},
   "outputs": [
    {
     "name": "stdout",
     "output_type": "stream",
     "text": [
      "[긍정] I had a lot of fun watching it.\n",
      "[긍정] I didn't notice how time passed.\n",
      "[긍정] I was happy the whole time I watched it.\n",
      "[긍정] worst movie\n",
      "[긍정] such a boring movie\n"
     ]
    }
   ],
   "source": [
    "f_results = np.round(f_results.flatten(), 0)\n",
    "\n",
    "for i, v in enumerate(review):\n",
    "    k = \"긍정\" if f_results[i] == 1 else \"부정\"\n",
    "    print(f\"[{k}] {v}\")"
   ]
  }
 ],
 "metadata": {
  "kernelspec": {
   "display_name": "Python 3",
   "language": "python",
   "name": "python3"
  },
  "language_info": {
   "codemirror_mode": {
    "name": "ipython",
    "version": 3
   },
   "file_extension": ".py",
   "mimetype": "text/x-python",
   "name": "python",
   "nbconvert_exporter": "python",
   "pygments_lexer": "ipython3",
   "version": "3.11.7"
  }
 },
 "nbformat": 4,
 "nbformat_minor": 2
}
