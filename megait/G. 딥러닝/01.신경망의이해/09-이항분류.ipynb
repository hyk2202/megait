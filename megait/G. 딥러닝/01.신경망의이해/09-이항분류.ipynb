{
 "cells": [
  {
   "cell_type": "markdown",
   "metadata": {},
   "source": [
    "# 이항분류\n",
    "\n",
    "## #01. 준비작업\n",
    "\n",
    "### [1] 패키지 가져오기"
   ]
  },
  {
   "cell_type": "code",
   "execution_count": 1,
   "metadata": {},
   "outputs": [
    {
     "name": "stdout",
     "output_type": "stream",
     "text": [
      "The autoreload extension is already loaded. To reload it, use:\n",
      "  %reload_ext autoreload\n"
     ]
    }
   ],
   "source": [
    "# 연결된 모듈이 업데이트 되면 즉시 자동 로드함\n",
    "%load_ext autoreload\n",
    "%autoreload 2\n",
    "\n",
    "from helper.util import *\n",
    "from helper.plot import *\n",
    "from helper.classification import *\n",
    "from helper.tensor import *\n",
    "\n",
    "from tensorflow.keras.models import Sequential\n",
    "from tensorflow.keras.layers import Dense\n",
    "from tensorflow.keras.callbacks import EarlyStopping, ReduceLROnPlateau"
   ]
  },
  {
   "cell_type": "markdown",
   "metadata": {},
   "source": [
    "### [2] 데이터 가져오기"
   ]
  },
  {
   "cell_type": "code",
   "execution_count": 2,
   "metadata": {},
   "outputs": [
    {
     "name": "stdout",
     "output_type": "stream",
     "text": [
      "<class 'pandas.core.frame.DataFrame'>\n",
      "RangeIndex: 200 entries, 0 to 199\n",
      "Data columns (total 3 columns):\n",
      " #   Column  Non-Null Count  Dtype   \n",
      "---  ------  --------------  -----   \n",
      " 0   dog     200 non-null    category\n",
      " 1   length  200 non-null    float64 \n",
      " 2   height  200 non-null    float64 \n",
      "dtypes: category(1), float64(2)\n",
      "memory usage: 3.6 KB\n",
      "None\n",
      "\n",
      "데이터프레임 상위 5개 행\n",
      "+----+-------+----------+----------+\n",
      "|    | dog   |   length |   height |\n",
      "|----+-------+----------+----------|\n",
      "|  0 | d     |    55.01 |    29.27 |\n",
      "|  1 | d     |    59.01 |    29.39 |\n",
      "|  2 | d     |    56.53 |     28.5 |\n",
      "|  3 | d     |    53.66 |     28.5 |\n",
      "|  4 | d     |    49.67 |    31.97 |\n",
      "+----+-------+----------+----------+\n",
      "\n",
      "데이터프레임 하위 5개 행\n",
      "+-----+-------+----------+----------+\n",
      "|     | dog   |   length |   height |\n",
      "|-----+-------+----------+----------|\n",
      "| 195 | j     |    50.95 |    52.37 |\n",
      "| 196 | j     |    51.86 |     52.4 |\n",
      "| 197 | j     |    54.24 |    47.82 |\n",
      "| 198 | j     |    53.13 |    50.22 |\n",
      "| 199 | j     |       53 |    51.18 |\n",
      "+-----+-------+----------+----------+\n",
      "\n",
      "기술통계\n",
      "+--------+---------+---------+---------+-------+---------+--------+--------+-------+-------+\n",
      "|        |   count |    mean |     std |   min |     25% |    50% |    75% |   max |   nan |\n",
      "|--------+---------+---------+---------+-------+---------+--------+--------+-------+-------|\n",
      "| length |     200 | 53.7948 | 5.50607 | 39.94 | 50.2225 | 53.445 |   56.9 | 68.31 |     0 |\n",
      "| height |     200 | 41.6754 | 10.0361 | 22.76 |  31.965 | 43.785 | 51.185 | 55.87 |     0 |\n",
      "+--------+---------+---------+---------+-------+---------+--------+--------+-------+-------+\n",
      "\n",
      "카테고리 정보\n",
      "+----+---------+\n",
      "|    |   count |\n",
      "|----+---------|\n",
      "| d  |     100 |\n",
      "| j  |     100 |\n",
      "+----+---------+\n"
     ]
    }
   ],
   "source": [
    "origin = my_read_excel(path=\"https://data.hossam.kr/mldata/dogs.xlsx\", categories=['dog'])"
   ]
  },
  {
   "cell_type": "markdown",
   "metadata": {},
   "source": [
    "## #02. 데이터 전처리\n",
    "\n",
    "### [1] 종속변수 라벨링\n",
    "\n",
    "분류를 수행할 경우 종속변수가 라벨링이 되어 있어야 하며, 데이터 타입이 정수 형태로 설정되어야 한다."
   ]
  },
  {
   "cell_type": "code",
   "execution_count": 3,
   "metadata": {},
   "outputs": [
    {
     "data": {
      "text/html": [
       "<div>\n",
       "<style scoped>\n",
       "    .dataframe tbody tr th:only-of-type {\n",
       "        vertical-align: middle;\n",
       "    }\n",
       "\n",
       "    .dataframe tbody tr th {\n",
       "        vertical-align: top;\n",
       "    }\n",
       "\n",
       "    .dataframe thead th {\n",
       "        text-align: right;\n",
       "    }\n",
       "</style>\n",
       "<table border=\"1\" class=\"dataframe\">\n",
       "  <thead>\n",
       "    <tr style=\"text-align: right;\">\n",
       "      <th></th>\n",
       "      <th>dog</th>\n",
       "      <th>length</th>\n",
       "      <th>height</th>\n",
       "    </tr>\n",
       "  </thead>\n",
       "  <tbody>\n",
       "    <tr>\n",
       "      <th>0</th>\n",
       "      <td>0</td>\n",
       "      <td>55.01</td>\n",
       "      <td>29.27</td>\n",
       "    </tr>\n",
       "    <tr>\n",
       "      <th>1</th>\n",
       "      <td>0</td>\n",
       "      <td>59.01</td>\n",
       "      <td>29.39</td>\n",
       "    </tr>\n",
       "    <tr>\n",
       "      <th>2</th>\n",
       "      <td>0</td>\n",
       "      <td>56.53</td>\n",
       "      <td>28.50</td>\n",
       "    </tr>\n",
       "    <tr>\n",
       "      <th>3</th>\n",
       "      <td>0</td>\n",
       "      <td>53.66</td>\n",
       "      <td>28.50</td>\n",
       "    </tr>\n",
       "    <tr>\n",
       "      <th>4</th>\n",
       "      <td>0</td>\n",
       "      <td>49.67</td>\n",
       "      <td>31.97</td>\n",
       "    </tr>\n",
       "    <tr>\n",
       "      <th>...</th>\n",
       "      <td>...</td>\n",
       "      <td>...</td>\n",
       "      <td>...</td>\n",
       "    </tr>\n",
       "    <tr>\n",
       "      <th>195</th>\n",
       "      <td>1</td>\n",
       "      <td>50.95</td>\n",
       "      <td>52.37</td>\n",
       "    </tr>\n",
       "    <tr>\n",
       "      <th>196</th>\n",
       "      <td>1</td>\n",
       "      <td>51.86</td>\n",
       "      <td>52.40</td>\n",
       "    </tr>\n",
       "    <tr>\n",
       "      <th>197</th>\n",
       "      <td>1</td>\n",
       "      <td>54.24</td>\n",
       "      <td>47.82</td>\n",
       "    </tr>\n",
       "    <tr>\n",
       "      <th>198</th>\n",
       "      <td>1</td>\n",
       "      <td>53.13</td>\n",
       "      <td>50.22</td>\n",
       "    </tr>\n",
       "    <tr>\n",
       "      <th>199</th>\n",
       "      <td>1</td>\n",
       "      <td>53.00</td>\n",
       "      <td>51.18</td>\n",
       "    </tr>\n",
       "  </tbody>\n",
       "</table>\n",
       "<p>200 rows × 3 columns</p>\n",
       "</div>"
      ],
      "text/plain": [
       "     dog  length  height\n",
       "0      0   55.01   29.27\n",
       "1      0   59.01   29.39\n",
       "2      0   56.53   28.50\n",
       "3      0   53.66   28.50\n",
       "4      0   49.67   31.97\n",
       "..   ...     ...     ...\n",
       "195    1   50.95   52.37\n",
       "196    1   51.86   52.40\n",
       "197    1   54.24   47.82\n",
       "198    1   53.13   50.22\n",
       "199    1   53.00   51.18\n",
       "\n",
       "[200 rows x 3 columns]"
      ]
     },
     "execution_count": 3,
     "metadata": {},
     "output_type": "execute_result"
    }
   ],
   "source": [
    "df = my_labelling(origin, 'dog')\n",
    "df"
   ]
  },
  {
   "cell_type": "markdown",
   "metadata": {},
   "source": [
    "### [2] 훈련, 검증 데이터 분리"
   ]
  },
  {
   "cell_type": "code",
   "execution_count": 4,
   "metadata": {},
   "outputs": [
    {
     "data": {
      "text/plain": [
       "((160, 2), (40, 2), (160,), (40,))"
      ]
     },
     "execution_count": 4,
     "metadata": {},
     "output_type": "execute_result"
    }
   ],
   "source": [
    "x_train, x_test, y_train, y_test = my_train_test_split(data=df, yname='dog')\n",
    "x_train.shape, x_test.shape, y_train.shape, y_test.shape"
   ]
  },
  {
   "cell_type": "markdown",
   "metadata": {},
   "source": [
    "## #03. 훈련 모델 적합\n",
    "\n",
    "### [1] 모델 구성\n",
    "\n",
    "| 구분 | 모델 | 활성화 함수 | 옵티마이저 | 손실함수 | 평가지표 | 대표예제 |\n",
    "|--|--|--|--|--|--|--|\n",
    "| 분류 | 이항분류 | [relu,] sigmoid | rmsporp | binary_crossentropy | acc | 타이타닉 생존률 예측 |"
   ]
  },
  {
   "cell_type": "code",
   "execution_count": 5,
   "metadata": {},
   "outputs": [
    {
     "data": {
      "text/html": [
       "<pre style=\"white-space:pre;overflow-x:auto;line-height:normal;font-family:Menlo,'DejaVu Sans Mono',consolas,'Courier New',monospace\"><span style=\"font-weight: bold\">Model: \"sequential\"</span>\n",
       "</pre>\n"
      ],
      "text/plain": [
       "\u001b[1mModel: \"sequential\"\u001b[0m\n"
      ]
     },
     "metadata": {},
     "output_type": "display_data"
    },
    {
     "data": {
      "text/html": [
       "<pre style=\"white-space:pre;overflow-x:auto;line-height:normal;font-family:Menlo,'DejaVu Sans Mono',consolas,'Courier New',monospace\">┏━━━━━━━━━━━━━━━━━━━━━━━━━━━━━━━━━┳━━━━━━━━━━━━━━━━━━━━━━━━┳━━━━━━━━━━━━━━━┓\n",
       "┃<span style=\"font-weight: bold\"> Layer (type)                    </span>┃<span style=\"font-weight: bold\"> Output Shape           </span>┃<span style=\"font-weight: bold\">       Param # </span>┃\n",
       "┡━━━━━━━━━━━━━━━━━━━━━━━━━━━━━━━━━╇━━━━━━━━━━━━━━━━━━━━━━━━╇━━━━━━━━━━━━━━━┩\n",
       "│ dense (<span style=\"color: #0087ff; text-decoration-color: #0087ff\">Dense</span>)                   │ (<span style=\"color: #00d7ff; text-decoration-color: #00d7ff\">None</span>, <span style=\"color: #00af00; text-decoration-color: #00af00\">32</span>)             │            <span style=\"color: #00af00; text-decoration-color: #00af00\">96</span> │\n",
       "├─────────────────────────────────┼────────────────────────┼───────────────┤\n",
       "│ dense_1 (<span style=\"color: #0087ff; text-decoration-color: #0087ff\">Dense</span>)                 │ (<span style=\"color: #00d7ff; text-decoration-color: #00d7ff\">None</span>, <span style=\"color: #00af00; text-decoration-color: #00af00\">1</span>)              │            <span style=\"color: #00af00; text-decoration-color: #00af00\">33</span> │\n",
       "└─────────────────────────────────┴────────────────────────┴───────────────┘\n",
       "</pre>\n"
      ],
      "text/plain": [
       "┏━━━━━━━━━━━━━━━━━━━━━━━━━━━━━━━━━┳━━━━━━━━━━━━━━━━━━━━━━━━┳━━━━━━━━━━━━━━━┓\n",
       "┃\u001b[1m \u001b[0m\u001b[1mLayer (type)                   \u001b[0m\u001b[1m \u001b[0m┃\u001b[1m \u001b[0m\u001b[1mOutput Shape          \u001b[0m\u001b[1m \u001b[0m┃\u001b[1m \u001b[0m\u001b[1m      Param #\u001b[0m\u001b[1m \u001b[0m┃\n",
       "┡━━━━━━━━━━━━━━━━━━━━━━━━━━━━━━━━━╇━━━━━━━━━━━━━━━━━━━━━━━━╇━━━━━━━━━━━━━━━┩\n",
       "│ dense (\u001b[38;5;33mDense\u001b[0m)                   │ (\u001b[38;5;45mNone\u001b[0m, \u001b[38;5;34m32\u001b[0m)             │            \u001b[38;5;34m96\u001b[0m │\n",
       "├─────────────────────────────────┼────────────────────────┼───────────────┤\n",
       "│ dense_1 (\u001b[38;5;33mDense\u001b[0m)                 │ (\u001b[38;5;45mNone\u001b[0m, \u001b[38;5;34m1\u001b[0m)              │            \u001b[38;5;34m33\u001b[0m │\n",
       "└─────────────────────────────────┴────────────────────────┴───────────────┘\n"
      ]
     },
     "metadata": {},
     "output_type": "display_data"
    },
    {
     "data": {
      "text/html": [
       "<pre style=\"white-space:pre;overflow-x:auto;line-height:normal;font-family:Menlo,'DejaVu Sans Mono',consolas,'Courier New',monospace\"><span style=\"font-weight: bold\"> Total params: </span><span style=\"color: #00af00; text-decoration-color: #00af00\">129</span> (516.00 B)\n",
       "</pre>\n"
      ],
      "text/plain": [
       "\u001b[1m Total params: \u001b[0m\u001b[38;5;34m129\u001b[0m (516.00 B)\n"
      ]
     },
     "metadata": {},
     "output_type": "display_data"
    },
    {
     "data": {
      "text/html": [
       "<pre style=\"white-space:pre;overflow-x:auto;line-height:normal;font-family:Menlo,'DejaVu Sans Mono',consolas,'Courier New',monospace\"><span style=\"font-weight: bold\"> Trainable params: </span><span style=\"color: #00af00; text-decoration-color: #00af00\">129</span> (516.00 B)\n",
       "</pre>\n"
      ],
      "text/plain": [
       "\u001b[1m Trainable params: \u001b[0m\u001b[38;5;34m129\u001b[0m (516.00 B)\n"
      ]
     },
     "metadata": {},
     "output_type": "display_data"
    },
    {
     "data": {
      "text/html": [
       "<pre style=\"white-space:pre;overflow-x:auto;line-height:normal;font-family:Menlo,'DejaVu Sans Mono',consolas,'Courier New',monospace\"><span style=\"font-weight: bold\"> Non-trainable params: </span><span style=\"color: #00af00; text-decoration-color: #00af00\">0</span> (0.00 B)\n",
       "</pre>\n"
      ],
      "text/plain": [
       "\u001b[1m Non-trainable params: \u001b[0m\u001b[38;5;34m0\u001b[0m (0.00 B)\n"
      ]
     },
     "metadata": {},
     "output_type": "display_data"
    }
   ],
   "source": [
    "model = Sequential()\n",
    "model.add(Dense(32, activation='relu', input_shape=(x_train.shape[1], )))\n",
    "model.add(Dense(1, activation='sigmoid'))\n",
    "model.compile(optimizer='rmsprop', loss = 'binary_crossentropy', metrics = ['acc'])\n",
    "model.summary()"
   ]
  },
  {
   "cell_type": "markdown",
   "metadata": {},
   "source": [
    "### [2] 모델 학습"
   ]
  },
  {
   "cell_type": "code",
   "execution_count": 6,
   "metadata": {},
   "outputs": [
    {
     "name": "stdout",
     "output_type": "stream",
     "text": [
      "\n",
      "Epoch 6: ReduceLROnPlateau reducing learning rate to 0.00010000000474974513.\n",
      "\n",
      "Epoch 11: ReduceLROnPlateau reducing learning rate to 0.0001.\n",
      "Epoch 11: early stopping\n"
     ]
    }
   ],
   "source": [
    "result = model.fit(x_train, y_train, epochs = 500, validation_data = (x_test, y_test), verbose=0, callbacks = [\n",
    "    EarlyStopping(monitor = 'val_acc', patience=10, verbose = 1),\n",
    "    ReduceLROnPlateau(monitor= \"val_acc\", patience=5, min_lr=0.0001, verbose=1)\n",
    "])"
   ]
  },
  {
   "cell_type": "markdown",
   "metadata": {},
   "source": [
    "### [3] 학습 곡선 확인"
   ]
  },
  {
   "cell_type": "code",
   "execution_count": 7,
   "metadata": {},
   "outputs": [
    {
     "data": {
      "image/png": "[encoded data removed]",
      "text/plain": [
       "<Figure size 1400x500 with 2 Axes>"
      ]
     },
     "metadata": {},
     "output_type": "display_data"
    },
    {
     "name": "stdout",
     "output_type": "stream",
     "text": [
      "+----------+--------+---------+-----------+------------+-----------------+\n",
      "|   epochs |    acc |    loss |   val_acc |   val_loss |   learning_rate |\n",
      "|----------+--------+---------+-----------+------------+-----------------|\n",
      "|        1 | 0.5125 | 16.7587 |      0.45 |    16.4723 |           0.001 |\n",
      "|        2 | 0.5125 | 13.9492 |      0.45 |    13.9775 |           0.001 |\n",
      "|        3 | 0.5125 | 11.8787 |      0.45 |    11.7996 |           0.001 |\n",
      "|        4 | 0.5125 | 10.0099 |      0.45 |    9.76335 |           0.001 |\n",
      "|        5 | 0.5125 | 8.23676 |      0.45 |    7.80024 |           0.001 |\n",
      "|        6 | 0.5125 |  6.5162 |      0.45 |     5.8763 |           0.001 |\n",
      "|        7 | 0.5125 | 5.42592 |      0.45 |    5.68643 |          0.0001 |\n",
      "|        8 | 0.5125 | 5.25869 |      0.45 |    5.49818 |          0.0001 |\n",
      "|        9 | 0.5125 | 5.09257 |      0.45 |    5.31077 |          0.0001 |\n",
      "|       10 | 0.5125 | 4.92706 |      0.45 |    5.12389 |          0.0001 |\n",
      "|       11 | 0.5125 | 4.76192 |      0.45 |     4.9373 |          0.0001 |\n",
      "+----------+--------+---------+-----------+------------+-----------------+\n"
     ]
    }
   ],
   "source": [
    "tf_result(result, history_table=True)"
   ]
  },
  {
   "cell_type": "markdown",
   "metadata": {},
   "source": [
    "## #04. 성능평가\n",
    "\n",
    "### [1] 검증 데이터에 대한 예측 결과 산정\n",
    "\n",
    "sklearn의 경우 `predict()`의 결과가 1차 배열로 리턴되지만 tensor는 2차 배열로 리턴된다.\n",
    "\n",
    "sklearn의 성능평가 함수를 활용하기 위해서는 `predict()`의 결과를 1차 배열로 변환해야 한다."
   ]
  },
  {
   "cell_type": "code",
   "execution_count": 8,
   "metadata": {},
   "outputs": [
    {
     "name": "stdout",
     "output_type": "stream",
     "text": [
      "\u001b[1m2/2\u001b[0m \u001b[32m━━━━━━━━━━━━━━━━━━━━\u001b[0m\u001b[37m\u001b[0m \u001b[1m0s\u001b[0m 16ms/step\n",
      "40개의 검증 데이터가 1개의 경우의 수를 갖는다.\n",
      "[[2.70259420e-07]\n",
      " [5.63286478e-04]\n",
      " [3.06659145e-04]\n",
      " [3.57348569e-07]\n",
      " [1.64864741e-05]\n",
      " [6.09042880e-04]\n",
      " [9.39610274e-08]\n",
      " [1.23074926e-06]\n",
      " [8.00166866e-09]\n",
      " [1.40059987e-04]\n",
      " [1.43642993e-07]\n",
      " [1.81099796e-03]\n",
      " [2.54885713e-03]\n",
      " [1.78712758e-03]\n",
      " [3.89799766e-07]\n",
      " [7.99888085e-08]\n",
      " [1.41854279e-08]\n",
      " [6.55162221e-05]\n",
      " [1.47204304e-07]\n",
      " [2.28485277e-07]\n",
      " [1.06777734e-04]\n",
      " [1.04462364e-04]\n",
      " [4.07756232e-07]\n",
      " [1.28035055e-04]\n",
      " [3.17173203e-07]\n",
      " [5.26361930e-07]\n",
      " [1.61611879e-05]\n",
      " [3.38093960e-05]\n",
      " [1.53854617e-03]\n",
      " [6.30807691e-08]\n",
      " [1.01585294e-06]\n",
      " [3.02969845e-08]\n",
      " [7.47031154e-05]\n",
      " [4.33492794e-04]\n",
      " [6.63456774e-08]\n",
      " [3.24031891e-04]\n",
      " [6.85899460e-04]\n",
      " [8.87547458e-07]\n",
      " [9.57877728e-06]\n",
      " [2.31275208e-05]]\n"
     ]
    }
   ],
   "source": [
    "test_pred = model.predict(x_test)\n",
    "data_count, case_count = test_pred.shape\n",
    "print(\"%d개의 검증 데이터가 %d개의 경우의 수를 갖는다.\" % (data_count, case_count))\n",
    "print(test_pred)"
   ]
  },
  {
   "cell_type": "markdown",
   "metadata": {},
   "source": [
    "### [2] 예측결과를 1차 배열로 변환\n",
    "\n",
    "> 이 내용을 모듈에 적용함"
   ]
  },
  {
   "cell_type": "code",
   "execution_count": 9,
   "metadata": {},
   "outputs": [
    {
     "data": {
      "text/plain": [
       "array([2.70259420e-07, 5.63286478e-04, 3.06659145e-04, 3.57348569e-07,\n",
       "       1.64864741e-05, 6.09042880e-04, 9.39610274e-08, 1.23074926e-06,\n",
       "       8.00166866e-09, 1.40059987e-04, 1.43642993e-07, 1.81099796e-03,\n",
       "       2.54885713e-03, 1.78712758e-03, 3.89799766e-07, 7.99888085e-08,\n",
       "       1.41854279e-08, 6.55162221e-05, 1.47204304e-07, 2.28485277e-07,\n",
       "       1.06777734e-04, 1.04462364e-04, 4.07756232e-07, 1.28035055e-04,\n",
       "       3.17173203e-07, 5.26361930e-07, 1.61611879e-05, 3.38093960e-05,\n",
       "       1.53854617e-03, 6.30807691e-08, 1.01585294e-06, 3.02969845e-08,\n",
       "       7.47031154e-05, 4.33492794e-04, 6.63456774e-08, 3.24031891e-04,\n",
       "       6.85899460e-04, 8.87547458e-07, 9.57877728e-06, 2.31275208e-05],\n",
       "      dtype=float32)"
      ]
     },
     "execution_count": 9,
     "metadata": {},
     "output_type": "execute_result"
    }
   ],
   "source": [
    "pred = test_pred.flatten()\n",
    "pred"
   ]
  },
  {
   "cell_type": "markdown",
   "metadata": {},
   "source": [
    "### [3] 분류 결과 확인"
   ]
  },
  {
   "cell_type": "code",
   "execution_count": 10,
   "metadata": {},
   "outputs": [],
   "source": [
    "# my_classification_result(model, x_train=x_train, y_train=y_train, x_test=x_test, y_test=y_test)"
   ]
  },
  {
   "cell_type": "code",
   "execution_count": null,
   "metadata": {},
   "outputs": [],
   "source": []
  }
 ],
 "metadata": {
  "kernelspec": {
   "display_name": "Python 3",
   "language": "python",
   "name": "python3"
  },
  "language_info": {
   "codemirror_mode": {
    "name": "ipython",
    "version": 3
   },
   "file_extension": ".py",
   "mimetype": "text/x-python",
   "name": "python",
   "nbconvert_exporter": "python",
   "pygments_lexer": "ipython3",
   "version": "3.11.7"
  }
 },
 "nbformat": 4,
 "nbformat_minor": 2
}
