{
 "cells": [
  {
   "cell_type": "markdown",
   "metadata": {},
   "source": [
    "# Baseline 알고리즘 기반 추천시스템\n",
    "\n",
    "## #01. 준비작업\n",
    "\n",
    "### [1] 패키지 가져오기"
   ]
  },
  {
   "cell_type": "code",
   "execution_count": 87,
   "metadata": {},
   "outputs": [
    {
     "name": "stderr",
     "output_type": "stream",
     "text": [
      "Intel(R) Extension for Scikit-learn* enabled (https://github.com/intel/scikit-learn-intelex)\n"
     ]
    }
   ],
   "source": [
    "import warnings\n",
    "warnings.filterwarnings('ignore')\n",
    "\n",
    "# Intel SKlearn 하드웨어 가속 패치 설정\n",
    "import sys\n",
    "if sys.platform == 'win32':\n",
    "    from sklearnex import patch_sklearn\n",
    "    patch_sklearn()\n",
    "\n",
    "from helper.util import *\n",
    "from helper.plot import *\n",
    "from helper.analysis import *\n",
    "from helper.classification import *\n",
    "\n",
    "from surprise import Reader, Dataset, BaselineOnly\n",
    "from surprise.model_selection import train_test_split, cross_validate, GridSearchCV, RandomizedSearchCV\n",
    "from surprise.accuracy import rmse, mae"
   ]
  },
  {
   "cell_type": "markdown",
   "metadata": {},
   "source": [
    "### [2] 데이터 가져오기"
   ]
  },
  {
   "cell_type": "code",
   "execution_count": 88,
   "metadata": {},
   "outputs": [],
   "source": [
    "origin_total = my_read_excel(\"https://data.hossam.kr/mldata/movie_ratings.xlsx\", sheet_name=[0,1,2,3], info=False)"
   ]
  },
  {
   "cell_type": "code",
   "execution_count": 89,
   "metadata": {},
   "outputs": [
    {
     "data": {
      "text/html": [
       "<div>\n",
       "<style scoped>\n",
       "    .dataframe tbody tr th:only-of-type {\n",
       "        vertical-align: middle;\n",
       "    }\n",
       "\n",
       "    .dataframe tbody tr th {\n",
       "        vertical-align: top;\n",
       "    }\n",
       "\n",
       "    .dataframe thead th {\n",
       "        text-align: right;\n",
       "    }\n",
       "</style>\n",
       "<table border=\"1\" class=\"dataframe\">\n",
       "  <thead>\n",
       "    <tr style=\"text-align: right;\">\n",
       "      <th></th>\n",
       "      <th>userId</th>\n",
       "      <th>movieId</th>\n",
       "      <th>rating</th>\n",
       "      <th>timestamp</th>\n",
       "    </tr>\n",
       "  </thead>\n",
       "  <tbody>\n",
       "    <tr>\n",
       "      <th>0</th>\n",
       "      <td>1</td>\n",
       "      <td>1</td>\n",
       "      <td>4.0</td>\n",
       "      <td>964982703</td>\n",
       "    </tr>\n",
       "    <tr>\n",
       "      <th>1</th>\n",
       "      <td>1</td>\n",
       "      <td>3</td>\n",
       "      <td>4.0</td>\n",
       "      <td>964981247</td>\n",
       "    </tr>\n",
       "    <tr>\n",
       "      <th>2</th>\n",
       "      <td>1</td>\n",
       "      <td>6</td>\n",
       "      <td>4.0</td>\n",
       "      <td>964982224</td>\n",
       "    </tr>\n",
       "    <tr>\n",
       "      <th>3</th>\n",
       "      <td>1</td>\n",
       "      <td>47</td>\n",
       "      <td>5.0</td>\n",
       "      <td>964983815</td>\n",
       "    </tr>\n",
       "    <tr>\n",
       "      <th>4</th>\n",
       "      <td>1</td>\n",
       "      <td>50</td>\n",
       "      <td>5.0</td>\n",
       "      <td>964982931</td>\n",
       "    </tr>\n",
       "    <tr>\n",
       "      <th>...</th>\n",
       "      <td>...</td>\n",
       "      <td>...</td>\n",
       "      <td>...</td>\n",
       "      <td>...</td>\n",
       "    </tr>\n",
       "    <tr>\n",
       "      <th>100831</th>\n",
       "      <td>610</td>\n",
       "      <td>166534</td>\n",
       "      <td>4.0</td>\n",
       "      <td>1493848402</td>\n",
       "    </tr>\n",
       "    <tr>\n",
       "      <th>100832</th>\n",
       "      <td>610</td>\n",
       "      <td>168248</td>\n",
       "      <td>5.0</td>\n",
       "      <td>1493850091</td>\n",
       "    </tr>\n",
       "    <tr>\n",
       "      <th>100833</th>\n",
       "      <td>610</td>\n",
       "      <td>168250</td>\n",
       "      <td>5.0</td>\n",
       "      <td>1494273047</td>\n",
       "    </tr>\n",
       "    <tr>\n",
       "      <th>100834</th>\n",
       "      <td>610</td>\n",
       "      <td>168252</td>\n",
       "      <td>5.0</td>\n",
       "      <td>1493846352</td>\n",
       "    </tr>\n",
       "    <tr>\n",
       "      <th>100835</th>\n",
       "      <td>610</td>\n",
       "      <td>170875</td>\n",
       "      <td>3.0</td>\n",
       "      <td>1493846415</td>\n",
       "    </tr>\n",
       "  </tbody>\n",
       "</table>\n",
       "<p>100836 rows × 4 columns</p>\n",
       "</div>"
      ],
      "text/plain": [
       "        userId  movieId  rating   timestamp\n",
       "0            1        1     4.0   964982703\n",
       "1            1        3     4.0   964981247\n",
       "2            1        6     4.0   964982224\n",
       "3            1       47     5.0   964983815\n",
       "4            1       50     5.0   964982931\n",
       "...        ...      ...     ...         ...\n",
       "100831     610   166534     4.0  1493848402\n",
       "100832     610   168248     5.0  1493850091\n",
       "100833     610   168250     5.0  1494273047\n",
       "100834     610   168252     5.0  1493846352\n",
       "100835     610   170875     3.0  1493846415\n",
       "\n",
       "[100836 rows x 4 columns]"
      ]
     },
     "execution_count": 89,
     "metadata": {},
     "output_type": "execute_result"
    }
   ],
   "source": [
    "origin = origin_total[0]\n",
    "origin"
   ]
  },
  {
   "cell_type": "markdown",
   "metadata": {},
   "source": [
    "## #02. 데이터 전처리\n",
    "\n",
    "### [1] Surprise 형식의 데이터로 변환\n",
    "\n",
    "`사용자 번호, 아이템 번호, 평점` 구조의 데이터를 만족해야 한다."
   ]
  },
  {
   "cell_type": "code",
   "execution_count": 90,
   "metadata": {},
   "outputs": [
    {
     "data": {
      "text/plain": [
       "<surprise.dataset.DatasetAutoFolds at 0x20214ee8ad0>"
      ]
     },
     "execution_count": 90,
     "metadata": {},
     "output_type": "execute_result"
    }
   ],
   "source": [
    "df = origin.drop('timestamp', axis=1)\n",
    "\n",
    "# 평점의 분포를 알려준다.\n",
    "reader = Reader(rating_scale=(0.5, 5.0))\n",
    "\n",
    "data = Dataset.load_from_df(df, reader)\n",
    "data"
   ]
  },
  {
   "cell_type": "markdown",
   "metadata": {},
   "source": [
    "## #03. 추천 모형 구현\n",
    "\n",
    "### [1] 기본 코드\n",
    "\n",
    "#### (1) 훈련, 검증 데이터 분리\n",
    "\n",
    "sklearn이 아닌 surprise 자체 함수 사용"
   ]
  },
  {
   "cell_type": "code",
   "execution_count": 91,
   "metadata": {},
   "outputs": [],
   "source": [
    "train, test = train_test_split(data, test_size=0.2, random_state=1234)"
   ]
  },
  {
   "cell_type": "markdown",
   "metadata": {},
   "source": [
    "#### (2) 추천 모형 학습 후 성능 평가"
   ]
  },
  {
   "cell_type": "code",
   "execution_count": 92,
   "metadata": {},
   "outputs": [
    {
     "name": "stdout",
     "output_type": "stream",
     "text": [
      "Estimating biases using als...\n"
     ]
    },
    {
     "data": {
      "text/plain": [
       "[Prediction(uid=603, iid=3996, r_ui=5.0, est=3.865470094018238, details={'was_impossible': False}),\n",
       " Prediction(uid=199, iid=2912, r_ui=4.0, est=3.5270186068257785, details={'was_impossible': False}),\n",
       " Prediction(uid=416, iid=2716, r_ui=2.0, est=3.2531312891488335, details={'was_impossible': False}),\n",
       " Prediction(uid=589, iid=150, r_ui=4.0, est=4.143871102075767, details={'was_impossible': False}),\n",
       " Prediction(uid=307, iid=6755, r_ui=4.0, est=2.6344308636371943, details={'was_impossible': False})]"
      ]
     },
     "execution_count": 92,
     "metadata": {},
     "output_type": "execute_result"
    }
   ],
   "source": [
    "estimator = BaselineOnly()\n",
    "estimator.fit(train)\n",
    "pred = estimator.test(test)\n",
    "pred[:5]"
   ]
  },
  {
   "cell_type": "markdown",
   "metadata": {},
   "source": [
    "> uid: 사용자 번호, iid: 아이템 번호, r_ui: 해당 사용자가 실제로 부여한 평점, est: 예측평점"
   ]
  },
  {
   "cell_type": "markdown",
   "metadata": {},
   "source": [
    "#### (3) 특정 유저가 특정 영화에 부여할 평점 예상"
   ]
  },
  {
   "cell_type": "code",
   "execution_count": 93,
   "metadata": {},
   "outputs": [
    {
     "data": {
      "text/plain": [
       "Prediction(uid=603, iid=3996, r_ui=None, est=3.865470094018238, details={'was_impossible': False})"
      ]
     },
     "execution_count": 93,
     "metadata": {},
     "output_type": "execute_result"
    }
   ],
   "source": [
    "upred = estimator.predict(uid=603, iid=3996)\n",
    "upred"
   ]
  },
  {
   "cell_type": "code",
   "execution_count": 94,
   "metadata": {},
   "outputs": [
    {
     "data": {
      "text/plain": [
       "3.865470094018238"
      ]
     },
     "execution_count": 94,
     "metadata": {},
     "output_type": "execute_result"
    }
   ],
   "source": [
    "upred.est"
   ]
  },
  {
   "cell_type": "markdown",
   "metadata": {},
   "source": [
    "#### (4) 성능평가"
   ]
  },
  {
   "cell_type": "code",
   "execution_count": 95,
   "metadata": {},
   "outputs": [
    {
     "name": "stdout",
     "output_type": "stream",
     "text": [
      "RMSE: 0.8715\n",
      "MAE:  0.6706\n"
     ]
    },
    {
     "data": {
      "text/plain": [
       "(0.8715309792778995, 0.6706040327595953)"
      ]
     },
     "execution_count": 95,
     "metadata": {},
     "output_type": "execute_result"
    }
   ],
   "source": [
    "rmse(pred), mae(pred)"
   ]
  },
  {
   "cell_type": "markdown",
   "metadata": {},
   "source": [
    "### [2] 교차검증\n",
    "\n",
    "#### (1) 교차검증을 위한 하이퍼파라미터 설정"
   ]
  },
  {
   "cell_type": "code",
   "execution_count": 96,
   "metadata": {},
   "outputs": [
    {
     "name": "stdout",
     "output_type": "stream",
     "text": [
      "Estimating biases using als...\n",
      "Estimating biases using als...\n",
      "Estimating biases using als...\n",
      "Estimating biases using als...\n",
      "Estimating biases using als...\n",
      "Evaluating RMSE, MAE of algorithm BaselineOnly on 5 split(s).\n",
      "\n",
      "                  Fold 1  Fold 2  Fold 3  Fold 4  Fold 5  Mean    Std     \n",
      "RMSE (testset)    0.8771  0.8744  0.8696  0.8838  0.8792  0.8768  0.0047  \n",
      "MAE (testset)     0.6779  0.6748  0.6730  0.6798  0.6774  0.6766  0.0024  \n",
      "Fit time          0.20    0.21    0.22    0.25    0.20    0.22    0.02    \n",
      "Test time         0.05    0.04    0.30    0.05    0.05    0.10    0.10    \n"
     ]
    }
   ],
   "source": [
    "estimator = BaselineOnly(bsl_options={\n",
    "    \"method\": \"als\",    # 알고리즘 \"als\" or \"sgd\"\n",
    "    \"n_epochs\": 10,     # 반복횟수 (기본값=10)\n",
    "    \"reg_u\": 10,        # 항목에 대한 정규화 매개변수 (기본값=10)\n",
    "    \"reg_i\": 15         # 사용자를 위한 정규화 매개변수 (기본값=15)\n",
    "})\n",
    "cv_result = cross_validate(estimator, data, measures=['RMSE', 'MAE'], cv=5, verbose=True)"
   ]
  },
  {
   "cell_type": "markdown",
   "metadata": {},
   "source": [
    "#### (2) 교차검증 결과 확인"
   ]
  },
  {
   "cell_type": "code",
   "execution_count": 97,
   "metadata": {},
   "outputs": [
    {
     "data": {
      "text/plain": [
       "{'test_rmse': array([0.87714205, 0.87442479, 0.86963308, 0.88379764, 0.87922453]),\n",
       " 'test_mae': array([0.67785031, 0.67478335, 0.67298945, 0.67982646, 0.67741974]),\n",
       " 'fit_time': (0.19995379447937012,\n",
       "  0.21476364135742188,\n",
       "  0.21846795082092285,\n",
       "  0.2513759136199951,\n",
       "  0.20113682746887207),\n",
       " 'test_time': (0.049768686294555664,\n",
       "  0.03687620162963867,\n",
       "  0.30391645431518555,\n",
       "  0.048933982849121094,\n",
       "  0.05087924003601074)}"
      ]
     },
     "execution_count": 97,
     "metadata": {},
     "output_type": "execute_result"
    }
   ],
   "source": [
    "cv_result"
   ]
  },
  {
   "cell_type": "markdown",
   "metadata": {},
   "source": [
    "#### (3) 교차검증 성능 평가 지표 출력"
   ]
  },
  {
   "cell_type": "code",
   "execution_count": 98,
   "metadata": {},
   "outputs": [
    {
     "name": "stdout",
     "output_type": "stream",
     "text": [
      "RMSE(mean): 0.876844418982649\n",
      "MAE(mean): 0.6765738607199111\n"
     ]
    }
   ],
   "source": [
    "print(\"RMSE(mean):\", cv_result['test_rmse'].mean())\n",
    "print(\"MAE(mean):\", cv_result['test_mae'].mean())"
   ]
  },
  {
   "cell_type": "markdown",
   "metadata": {},
   "source": [
    "### [3] 하이퍼파라미터 튜닝\n",
    "\n",
    "#### (1) 학습 모형 구성"
   ]
  },
  {
   "cell_type": "code",
   "execution_count": 99,
   "metadata": {},
   "outputs": [],
   "source": [
    "params = {\n",
    "    'bsl_options': {\n",
    "        \"method\": [\"als\", \"sgd\"],    # 알고리즘 \"als\" or \"sgd\"\n",
    "        \"n_epochs\": [10, 20],        # 반복횟수 (기본값=10)\n",
    "        \"reg_u\": [10, 12],           # 사용자에 대한 정규화 매개변수 (기본값=10)\n",
    "        \"reg_i\": [15, 20]            # 아이템에 대한 정규화 매개변수 (기본값=15)\n",
    "    }\n",
    "}\n",
    "\n",
    "# grid = GridSearchCV(BaselineOnly, \n",
    "#                     param_grid=params, \n",
    "#                     measures=['RMSE', 'MAE'], \n",
    "#                     cv=5, \n",
    "#                     n_jobs=-1)\n",
    "                    \n",
    "grid = RandomizedSearchCV(BaselineOnly, \n",
    "                        param_distributions=params, \n",
    "                        measures=['RMSE', 'MAE'], \n",
    "                        cv=5, \n",
    "                        n_jobs=-1, \n",
    "                        random_state=1234)\n",
    "\n",
    "grid.fit(data)"
   ]
  },
  {
   "cell_type": "markdown",
   "metadata": {},
   "source": [
    "#### (2) 성능 평가 지표 확인"
   ]
  },
  {
   "cell_type": "code",
   "execution_count": 100,
   "metadata": {},
   "outputs": [
    {
     "data": {
      "text/plain": [
       "{'rmse': 0.8696622622998971, 'mae': 0.6685038862088375}"
      ]
     },
     "execution_count": 100,
     "metadata": {},
     "output_type": "execute_result"
    }
   ],
   "source": [
    "grid.best_score"
   ]
  },
  {
   "cell_type": "markdown",
   "metadata": {},
   "source": [
    "#### (3) 최적 하이퍼파라미터 확인"
   ]
  },
  {
   "cell_type": "code",
   "execution_count": 101,
   "metadata": {},
   "outputs": [
    {
     "data": {
      "text/plain": [
       "{'rmse': {'bsl_options': {'method': 'sgd',\n",
       "   'n_epochs': 20,\n",
       "   'reg_u': 12,\n",
       "   'reg_i': 15}},\n",
       " 'mae': {'bsl_options': {'method': 'sgd',\n",
       "   'n_epochs': 20,\n",
       "   'reg_u': 12,\n",
       "   'reg_i': 15}}}"
      ]
     },
     "execution_count": 101,
     "metadata": {},
     "output_type": "execute_result"
    }
   ],
   "source": [
    "grid.best_params"
   ]
  },
  {
   "cell_type": "code",
   "execution_count": 102,
   "metadata": {},
   "outputs": [
    {
     "data": {
      "text/plain": [
       "{'split0_test_rmse': array([0.88096469, 0.88189698, 0.87441801, 0.88097525, 0.88082602,\n",
       "        0.87441801, 0.88189698, 0.88189698, 0.88081407, 0.87441801]),\n",
       " 'split1_test_rmse': array([0.87917227, 0.87953165, 0.87176168, 0.87917957, 0.87897036,\n",
       "        0.87176168, 0.87953165, 0.87953165, 0.87896211, 0.87176168]),\n",
       " 'split2_test_rmse': array([0.86932354, 0.86984071, 0.86208579, 0.86933196, 0.86914454,\n",
       "        0.86208579, 0.86984071, 0.86984071, 0.86913512, 0.86208579]),\n",
       " 'split3_test_rmse': array([0.88221034, 0.88270351, 0.87470688, 0.88221809, 0.88204978,\n",
       "        0.87470688, 0.88270351, 0.88270351, 0.88204099, 0.87470688]),\n",
       " 'split4_test_rmse': array([0.87241386, 0.87245217, 0.86533894, 0.87242126, 0.8721886 ,\n",
       "        0.86533894, 0.87245217, 0.87245217, 0.87218028, 0.86533894]),\n",
       " 'mean_test_rmse': array([0.87681694, 0.87728501, 0.86966226, 0.87682523, 0.87663586,\n",
       "        0.86966226, 0.87728501, 0.87728501, 0.87662652, 0.86966226]),\n",
       " 'std_test_rmse': array([0.00504734, 0.00518559, 0.00507084, 0.00504763, 0.00506391,\n",
       "        0.00507084, 0.00518559, 0.00518559, 0.00506354, 0.00507084]),\n",
       " 'rank_test_rmse': array([ 6,  8,  1,  7,  5,  2,  9, 10,  4,  3], dtype=int64),\n",
       " 'split0_test_mae': array([0.67698965, 0.6761748 , 0.66893251, 0.67700008, 0.67674795,\n",
       "        0.66893251, 0.6761748 , 0.6761748 , 0.67673643, 0.66893251]),\n",
       " 'split1_test_mae': array([0.67784189, 0.67709612, 0.66966045, 0.67784902, 0.6775432 ,\n",
       "        0.66966045, 0.67709612, 0.67709612, 0.67753559, 0.66966045]),\n",
       " 'split2_test_mae': array([0.67384239, 0.67317023, 0.6652063 , 0.6738506 , 0.67358272,\n",
       "        0.6652063 , 0.67317023, 0.67317023, 0.67357393, 0.6652063 ]),\n",
       " 'split3_test_mae': array([0.67925984, 0.67822671, 0.67047065, 0.67926821, 0.67897965,\n",
       "        0.67047065, 0.67822671, 0.67822671, 0.67897036, 0.67047065]),\n",
       " 'split4_test_mae': array([0.67651281, 0.67529374, 0.66824952, 0.67652052, 0.67619189,\n",
       "        0.66824952, 0.67529374, 0.67529374, 0.67618343, 0.66824952]),\n",
       " 'mean_test_mae': array([0.67688932, 0.67599232, 0.66850389, 0.67689769, 0.67660908,\n",
       "        0.66850389, 0.67599232, 0.67599232, 0.67659995, 0.66850389]),\n",
       " 'std_test_mae': array([0.00178675, 0.00171443, 0.00180711, 0.00178672, 0.00178013,\n",
       "        0.00180711, 0.00171443, 0.00171443, 0.00178006, 0.00180711]),\n",
       " 'rank_test_mae': array([ 9,  4,  1, 10,  8,  2,  5,  6,  7,  3], dtype=int64),\n",
       " 'mean_fit_time': array([0.14504724, 0.10739541, 0.1613966 , 0.05443358, 0.05280962,\n",
       "        0.1803843 , 0.08806272, 0.07861652, 0.11513867, 0.15696197]),\n",
       " 'std_fit_time': array([0.02961116, 0.01225356, 0.01272197, 0.00633789, 0.00788747,\n",
       "        0.0394924 , 0.01454747, 0.00896681, 0.01401907, 0.00863636]),\n",
       " 'mean_test_time': array([0.0860559 , 0.06742525, 0.06271229, 0.05459919, 0.05531392,\n",
       "        0.06349339, 0.05249348, 0.0583621 , 0.06407304, 0.06320734]),\n",
       " 'std_test_time': array([0.01931897, 0.01364181, 0.00531947, 0.00504334, 0.00618209,\n",
       "        0.01164148, 0.00257336, 0.00620182, 0.00864089, 0.01155291]),\n",
       " 'params': array([{'bsl_options': {'method': 'als', 'n_epochs': 20, 'reg_u': 12, 'reg_i': 15}},\n",
       "        {'bsl_options': {'method': 'sgd', 'n_epochs': 10, 'reg_u': 12, 'reg_i': 15}},\n",
       "        {'bsl_options': {'method': 'sgd', 'n_epochs': 20, 'reg_u': 12, 'reg_i': 15}},\n",
       "        {'bsl_options': {'method': 'als', 'n_epochs': 10, 'reg_u': 12, 'reg_i': 15}},\n",
       "        {'bsl_options': {'method': 'als', 'n_epochs': 10, 'reg_u': 10, 'reg_i': 15}},\n",
       "        {'bsl_options': {'method': 'sgd', 'n_epochs': 20, 'reg_u': 12, 'reg_i': 20}},\n",
       "        {'bsl_options': {'method': 'sgd', 'n_epochs': 10, 'reg_u': 12, 'reg_i': 20}},\n",
       "        {'bsl_options': {'method': 'sgd', 'n_epochs': 10, 'reg_u': 10, 'reg_i': 15}},\n",
       "        {'bsl_options': {'method': 'als', 'n_epochs': 20, 'reg_u': 10, 'reg_i': 15}},\n",
       "        {'bsl_options': {'method': 'sgd', 'n_epochs': 20, 'reg_u': 10, 'reg_i': 15}}],\n",
       "       dtype=object),\n",
       " 'param_bsl_options': [{'method': 'als',\n",
       "   'n_epochs': 20,\n",
       "   'reg_u': 12,\n",
       "   'reg_i': 15},\n",
       "  {'method': 'sgd', 'n_epochs': 10, 'reg_u': 12, 'reg_i': 15},\n",
       "  {'method': 'sgd', 'n_epochs': 20, 'reg_u': 12, 'reg_i': 15},\n",
       "  {'method': 'als', 'n_epochs': 10, 'reg_u': 12, 'reg_i': 15},\n",
       "  {'method': 'als', 'n_epochs': 10, 'reg_u': 10, 'reg_i': 15},\n",
       "  {'method': 'sgd', 'n_epochs': 20, 'reg_u': 12, 'reg_i': 20},\n",
       "  {'method': 'sgd', 'n_epochs': 10, 'reg_u': 12, 'reg_i': 20},\n",
       "  {'method': 'sgd', 'n_epochs': 10, 'reg_u': 10, 'reg_i': 15},\n",
       "  {'method': 'als', 'n_epochs': 20, 'reg_u': 10, 'reg_i': 15},\n",
       "  {'method': 'sgd', 'n_epochs': 20, 'reg_u': 10, 'reg_i': 15}]}"
      ]
     },
     "execution_count": 102,
     "metadata": {},
     "output_type": "execute_result"
    }
   ],
   "source": [
    "grid.cv_results"
   ]
  },
  {
   "cell_type": "markdown",
   "metadata": {},
   "source": [
    "#### (4) 최적 추정기"
   ]
  },
  {
   "cell_type": "code",
   "execution_count": 103,
   "metadata": {},
   "outputs": [
    {
     "data": {
      "text/plain": [
       "{'rmse': <surprise.prediction_algorithms.baseline_only.BaselineOnly at 0x2021df83a10>,\n",
       " 'mae': <surprise.prediction_algorithms.baseline_only.BaselineOnly at 0x2021df83610>}"
      ]
     },
     "execution_count": 103,
     "metadata": {},
     "output_type": "execute_result"
    }
   ],
   "source": [
    "grid.best_estimator"
   ]
  },
  {
   "cell_type": "markdown",
   "metadata": {},
   "source": [
    "#### (5) 최적 추정기를 활용한 컨텐츠 추천\n",
    "\n",
    "학습을 다시 시켜야 한다."
   ]
  },
  {
   "cell_type": "code",
   "execution_count": 104,
   "metadata": {},
   "outputs": [
    {
     "name": "stdout",
     "output_type": "stream",
     "text": [
      "Estimating biases using sgd...\n"
     ]
    },
    {
     "data": {
      "text/plain": [
       "[Prediction(uid=603, iid=3996, r_ui=5.0, est=3.9696392415813557, details={'was_impossible': False}),\n",
       " Prediction(uid=199, iid=2912, r_ui=4.0, est=3.548906012863939, details={'was_impossible': False}),\n",
       " Prediction(uid=416, iid=2716, r_ui=2.0, est=3.0954432297290766, details={'was_impossible': False}),\n",
       " Prediction(uid=589, iid=150, r_ui=4.0, est=4.267549985510884, details={'was_impossible': False}),\n",
       " Prediction(uid=307, iid=6755, r_ui=4.0, est=2.601641316126221, details={'was_impossible': False})]"
      ]
     },
     "execution_count": 104,
     "metadata": {},
     "output_type": "execute_result"
    }
   ],
   "source": [
    "estimator = grid.best_estimator['rmse']\n",
    "estimator.fit(train)\n",
    "pred = estimator.test(test)\n",
    "pred[:5]"
   ]
  },
  {
   "cell_type": "code",
   "execution_count": 105,
   "metadata": {},
   "outputs": [
    {
     "data": {
      "text/plain": [
       "Prediction(uid=603, iid=3996, r_ui=None, est=3.9696392415813557, details={'was_impossible': False})"
      ]
     },
     "execution_count": 105,
     "metadata": {},
     "output_type": "execute_result"
    }
   ],
   "source": [
    "estimator.predict(uid=603, iid=3996)"
   ]
  }
 ],
 "metadata": {
  "kernelspec": {
   "display_name": "Python 3",
   "language": "python",
   "name": "python3"
  },
  "language_info": {
   "codemirror_mode": {
    "name": "ipython",
    "version": 3
   },
   "file_extension": ".py",
   "mimetype": "text/x-python",
   "name": "python",
   "nbconvert_exporter": "python",
   "pygments_lexer": "ipython3",
   "version": "3.11.7"
  }
 },
 "nbformat": 4,
 "nbformat_minor": 2
}
