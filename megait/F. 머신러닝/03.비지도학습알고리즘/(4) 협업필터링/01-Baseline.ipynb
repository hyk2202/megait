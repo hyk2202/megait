{
 "cells": [
  {
   "cell_type": "markdown",
   "metadata": {},
   "source": [
    "# Baseline 알고리즘 기반 추천시스템\n",
    "\n",
    "## #01. 준비작업\n",
    "\n",
    "### [1] 패키지 가져오기"
   ]
  },
  {
   "cell_type": "code",
   "execution_count": 3,
   "metadata": {},
   "outputs": [
    {
     "name": "stderr",
     "output_type": "stream",
     "text": [
      "Intel(R) Extension for Scikit-learn* enabled (https://github.com/intel/scikit-learn-intelex)\n"
     ]
    }
   ],
   "source": [
    "import warnings\n",
    "warnings.filterwarnings('ignore')\n",
    "\n",
    "# Intel SKlearn 하드웨어 가속 패치 설정\n",
    "import sys\n",
    "if sys.platform == 'win32':\n",
    "    from sklearnex import patch_sklearn\n",
    "    patch_sklearn()\n",
    "\n",
    "from helper.util import *\n",
    "from helper.plot import *\n",
    "from helper.analysis import *\n",
    "from helper.classification import *\n",
    "\n",
    "from surprise import Reader, Dataset, BaselineOnly\n",
    "from surprise.model_selection import train_test_split\n",
    "from surprise.accuracy import rmse"
   ]
  },
  {
   "cell_type": "markdown",
   "metadata": {},
   "source": [
    "### [2] 데이터 가져오기"
   ]
  },
  {
   "cell_type": "code",
   "execution_count": 2,
   "metadata": {},
   "outputs": [
    {
     "name": "stdout",
     "output_type": "stream",
     "text": [
      "<class 'pandas.core.frame.DataFrame'>\n",
      "RangeIndex: 100836 entries, 0 to 100835\n",
      "Data columns (total 4 columns):\n",
      " #   Column     Non-Null Count   Dtype  \n",
      "---  ------     --------------   -----  \n",
      " 0   userId     100836 non-null  int64  \n",
      " 1   movieId    100836 non-null  int64  \n",
      " 2   rating     100836 non-null  float64\n",
      " 3   timestamp  100836 non-null  int64  \n",
      "dtypes: float64(1), int64(3)\n",
      "memory usage: 3.1 MB\n",
      "None\n",
      "\n",
      "데이터프레임 상위 5개 행\n",
      "+----+----------+-----------+----------+-------------+\n",
      "|    |   userId |   movieId |   rating |   timestamp |\n",
      "|----+----------+-----------+----------+-------------|\n",
      "|  0 |        1 |         1 |        4 | 9.64983e+08 |\n",
      "|  1 |        1 |         3 |        4 | 9.64981e+08 |\n",
      "|  2 |        1 |         6 |        4 | 9.64982e+08 |\n",
      "|  3 |        1 |        47 |        5 | 9.64984e+08 |\n",
      "|  4 |        1 |        50 |        5 | 9.64983e+08 |\n",
      "+----+----------+-----------+----------+-------------+\n",
      "\n",
      "데이터프레임 하위 5개 행\n",
      "+--------+----------+-----------+----------+-------------+\n",
      "|        |   userId |   movieId |   rating |   timestamp |\n",
      "|--------+----------+-----------+----------+-------------|\n",
      "| 100831 |      610 |    166534 |        4 | 1.49385e+09 |\n",
      "| 100832 |      610 |    168248 |        5 | 1.49385e+09 |\n",
      "| 100833 |      610 |    168250 |        5 | 1.49427e+09 |\n",
      "| 100834 |      610 |    168252 |        5 | 1.49385e+09 |\n",
      "| 100835 |      610 |    170875 |        3 | 1.49385e+09 |\n",
      "+--------+----------+-----------+----------+-------------+\n",
      "\n",
      "기술통계\n",
      "+-----------+---------+-------------+-------------+-------------+-------------+-------------+-------------+------------+-------+\n",
      "|           |   count |        mean |         std |         min |         25% |         50% |         75% |        max |   nan |\n",
      "|-----------+---------+-------------+-------------+-------------+-------------+-------------+-------------+------------+-------|\n",
      "| userId    |  100836 |     326.128 |     182.618 |           1 |         177 |         325 |         477 |        610 |     0 |\n",
      "| movieId   |  100836 |     19435.3 |       35531 |           1 |        1199 |        2991 |        8122 |     193609 |     0 |\n",
      "| rating    |  100836 |     3.50156 |     1.04253 |         0.5 |           3 |         3.5 |           4 |          5 |     0 |\n",
      "| timestamp |  100836 | 1.20595e+09 | 2.16261e+08 | 8.28125e+08 | 1.01912e+09 | 1.18609e+09 | 1.43599e+09 | 1.5378e+09 |     0 |\n",
      "+-----------+---------+-------------+-------------+-------------+-------------+-------------+-------------+------------+-------+\n"
     ]
    }
   ],
   "source": [
    "origin = my_read_excel(\"https://data.hossam.kr/mldata/movie_ratings.xlsx\", sheet_name='ratings', save=True)"
   ]
  },
  {
   "cell_type": "markdown",
   "metadata": {},
   "source": [
    "## #02. 데이터 전처리\n",
    "\n",
    "### [1] Surprise 형식의 데이터로 변환\n",
    "\n",
    "`사용자 번호, 아이템 번호, 평점` 구조의 데이터를 만족해야 한다."
   ]
  },
  {
   "cell_type": "code",
   "execution_count": 24,
   "metadata": {},
   "outputs": [
    {
     "data": {
      "text/plain": [
       "<surprise.dataset.DatasetAutoFolds at 0x1572a1c0c10>"
      ]
     },
     "execution_count": 24,
     "metadata": {},
     "output_type": "execute_result"
    }
   ],
   "source": [
    "df = origin.drop('timestamp', axis=1)\n",
    "\n",
    "# 평점의 분포를 알려준다.\n",
    "reader = Reader(rating_scale=(0.5, 5.0))\n",
    "\n",
    "data = Dataset.load_from_df(df, reader)\n",
    "data"
   ]
  },
  {
   "cell_type": "markdown",
   "metadata": {},
   "source": [
    "## #03. 추천 모형 구현\n",
    "\n",
    "### [1] 기본 코드\n",
    "\n",
    "#### (1) 훈련, 검증 데이터 분리\n",
    "\n",
    "sklearn이 아닌 surprise 자체 함수 사용"
   ]
  },
  {
   "cell_type": "code",
   "execution_count": 29,
   "metadata": {},
   "outputs": [],
   "source": [
    "train, test = train_test_split(data, test_size=0.2, random_state=1234)"
   ]
  },
  {
   "cell_type": "markdown",
   "metadata": {},
   "source": [
    "#### (2) 추천 모형 학습 후 성능 평가"
   ]
  },
  {
   "cell_type": "code",
   "execution_count": 36,
   "metadata": {},
   "outputs": [
    {
     "name": "stdout",
     "output_type": "stream",
     "text": [
      "Estimating biases using als...\n"
     ]
    },
    {
     "data": {
      "text/plain": [
       "[Prediction(uid=603, iid=3996, r_ui=5.0, est=3.865470094018238, details={'was_impossible': False}),\n",
       " Prediction(uid=199, iid=2912, r_ui=4.0, est=3.5270186068257785, details={'was_impossible': False}),\n",
       " Prediction(uid=416, iid=2716, r_ui=2.0, est=3.2531312891488335, details={'was_impossible': False}),\n",
       " Prediction(uid=589, iid=150, r_ui=4.0, est=4.143871102075767, details={'was_impossible': False}),\n",
       " Prediction(uid=307, iid=6755, r_ui=4.0, est=2.6344308636371943, details={'was_impossible': False})]"
      ]
     },
     "execution_count": 36,
     "metadata": {},
     "output_type": "execute_result"
    }
   ],
   "source": [
    "estimator = BaselineOnly()\n",
    "estimator.fit(train)\n",
    "pred = estimator.test(test)\n",
    "pred[:5]"
   ]
  },
  {
   "cell_type": "markdown",
   "metadata": {},
   "source": [
    "> uid: 사용자 번호, iid: 아이템 번호, r_ui: 해당 사용자가 실제로 부여한 평점, est: 예측평점"
   ]
  },
  {
   "cell_type": "markdown",
   "metadata": {},
   "source": [
    "#### (3) 성능평가"
   ]
  },
  {
   "cell_type": "code",
   "execution_count": 35,
   "metadata": {},
   "outputs": [
    {
     "name": "stdout",
     "output_type": "stream",
     "text": [
      "RMSE: 0.8715\n"
     ]
    }
   ],
   "source": [
    "score = rmse(pred)"
   ]
  },
  {
   "cell_type": "code",
   "execution_count": null,
   "metadata": {},
   "outputs": [],
   "source": []
  }
 ],
 "metadata": {
  "kernelspec": {
   "display_name": "Python 3",
   "language": "python",
   "name": "python3"
  },
  "language_info": {
   "codemirror_mode": {
    "name": "ipython",
    "version": 3
   },
   "file_extension": ".py",
   "mimetype": "text/x-python",
   "name": "python",
   "nbconvert_exporter": "python",
   "pygments_lexer": "ipython3",
   "version": "3.11.7"
  }
 },
 "nbformat": 4,
 "nbformat_minor": 2
}
