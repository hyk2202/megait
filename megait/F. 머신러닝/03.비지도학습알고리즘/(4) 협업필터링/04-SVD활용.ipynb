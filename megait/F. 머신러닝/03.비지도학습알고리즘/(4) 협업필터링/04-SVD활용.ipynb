{
 "cells": [
  {
   "cell_type": "markdown",
   "metadata": {},
   "source": [
    "# SVD 활용\n",
    "\n",
    "## #01. 준비작업\n",
    "\n",
    "### [1] 패키지 가져오기"
   ]
  },
  {
   "cell_type": "code",
   "execution_count": 113,
   "metadata": {},
   "outputs": [
    {
     "name": "stderr",
     "output_type": "stream",
     "text": [
      "Intel(R) Extension for Scikit-learn* enabled (https://github.com/intel/scikit-learn-intelex)\n"
     ]
    }
   ],
   "source": [
    "import warnings\n",
    "warnings.filterwarnings('ignore')\n",
    "\n",
    "# Intel SKlearn 하드웨어 가속 패치 설정\n",
    "import sys\n",
    "if sys.platform == 'win32':\n",
    "    from sklearnex import patch_sklearn\n",
    "    patch_sklearn()\n",
    "\n",
    "from helper.util import *\n",
    "from helper.plot import *\n",
    "from helper.analysis import *\n",
    "\n",
    "from surprise import Reader, Dataset, SVD\n",
    "from surprise.model_selection import train_test_split, cross_validate, GridSearchCV, RandomizedSearchCV\n",
    "from surprise.accuracy import rmse, mae"
   ]
  },
  {
   "cell_type": "markdown",
   "metadata": {},
   "source": [
    "### [2] 데이터 가져오기"
   ]
  },
  {
   "cell_type": "code",
   "execution_count": 114,
   "metadata": {},
   "outputs": [],
   "source": [
    "origin = my_read_excel(\"https://data.hossam.kr/mldata/movie_ratings.xlsx\", \n",
    "                    sheet_name='ratings', info=False)"
   ]
  },
  {
   "cell_type": "code",
   "execution_count": 115,
   "metadata": {},
   "outputs": [
    {
     "name": "stdout",
     "output_type": "stream",
     "text": [
      "<class 'pandas.core.frame.DataFrame'>\n",
      "RangeIndex: 9742 entries, 0 to 9741\n",
      "Data columns (total 3 columns):\n",
      " #   Column   Non-Null Count  Dtype \n",
      "---  ------   --------------  ----- \n",
      " 0   movieId  9742 non-null   int64 \n",
      " 1   title    9742 non-null   object\n",
      " 2   genres   9742 non-null   object\n",
      "dtypes: int64(1), object(2)\n",
      "memory usage: 228.5+ KB\n",
      "None\n",
      "\n",
      "데이터프레임 상위 5개 행\n",
      "+----+-----------+------------------------------------+---------------------------------------------+\n",
      "|    |   movieId | title                              | genres                                      |\n",
      "|----+-----------+------------------------------------+---------------------------------------------|\n",
      "|  0 |         1 | Toy Story (1995)                   | Adventure|Animation|Children|Comedy|Fantasy |\n",
      "|  1 |         2 | Jumanji (1995)                     | Adventure|Children|Fantasy                  |\n",
      "|  2 |         3 | Grumpier Old Men (1995)            | Comedy|Romance                              |\n",
      "|  3 |         4 | Waiting to Exhale (1995)           | Comedy|Drama|Romance                        |\n",
      "|  4 |         5 | Father of the Bride Part II (1995) | Comedy                                      |\n",
      "+----+-----------+------------------------------------+---------------------------------------------+\n",
      "\n",
      "데이터프레임 하위 5개 행\n",
      "+------+-----------+-------------------------------------------+---------------------------------+\n",
      "|      |   movieId | title                                     | genres                          |\n",
      "|------+-----------+-------------------------------------------+---------------------------------|\n",
      "| 9737 |    193581 | Black Butler: Book of the Atlantic (2017) | Action|Animation|Comedy|Fantasy |\n",
      "| 9738 |    193583 | No Game No Life: Zero (2017)              | Animation|Comedy|Fantasy        |\n",
      "| 9739 |    193585 | Flint (2017)                              | Drama                           |\n",
      "| 9740 |    193587 | Bungo Stray Dogs: Dead Apple (2018)       | Action|Animation                |\n",
      "| 9741 |    193609 | Andrew Dice Clay: Dice Rules (1991)       | Comedy                          |\n",
      "+------+-----------+-------------------------------------------+---------------------------------+\n",
      "\n",
      "기술통계\n",
      "+---------+---------+---------+---------+-------+---------+-------+-------+--------+-------+\n",
      "|         |   count |    mean |     std |   min |     25% |   50% |   75% |    max |   nan |\n",
      "|---------+---------+---------+---------+-------+---------+-------+-------+--------+-------|\n",
      "| movieId |    9742 | 42200.4 | 52160.5 |     1 | 3248.25 |  7300 | 76232 | 193609 |     0 |\n",
      "+---------+---------+---------+---------+-------+---------+-------+-------+--------+-------+\n"
     ]
    }
   ],
   "source": [
    "movies = my_read_excel(\"https://data.hossam.kr/mldata/movie_ratings.xlsx\", \n",
    "                    sheet_name='movies')"
   ]
  },
  {
   "cell_type": "markdown",
   "metadata": {},
   "source": [
    "## #02. 데이터 전처리\n",
    "\n",
    "### [1] Surprise 형식의 데이터로 변환\n",
    "\n",
    "`사용자 번호, 아이템 번호, 평점` 구조의 데이터를 만족해야 한다."
   ]
  },
  {
   "cell_type": "code",
   "execution_count": 116,
   "metadata": {},
   "outputs": [
    {
     "data": {
      "text/plain": [
       "<surprise.dataset.DatasetAutoFolds at 0x25b6c3e5b50>"
      ]
     },
     "execution_count": 116,
     "metadata": {},
     "output_type": "execute_result"
    }
   ],
   "source": [
    "df = origin.drop('timestamp', axis=1)\n",
    "\n",
    "# 평점의 분포를 알려준다.\n",
    "reader = Reader(rating_scale=(0.5, 5.0))\n",
    "\n",
    "data = Dataset.load_from_df(df, reader)\n",
    "data"
   ]
  },
  {
   "cell_type": "markdown",
   "metadata": {},
   "source": [
    "## #03. 추천 모형 구현\n",
    "\n",
    "### [1] 최적 하이퍼 파라미터 찾기"
   ]
  },
  {
   "cell_type": "code",
   "execution_count": 117,
   "metadata": {},
   "outputs": [
    {
     "data": {
      "text/plain": [
       "<surprise.prediction_algorithms.matrix_factorization.SVD at 0x25b6ffe7a10>"
      ]
     },
     "execution_count": 117,
     "metadata": {},
     "output_type": "execute_result"
    }
   ],
   "source": [
    "params = {\n",
    "    \"n_epochs\": [20, 40, 50],          # 반복 횟수(기본값=20)\n",
    "    \"n_factors\": [100, 200, 300],      # 요인의 수(기본값=100)\n",
    "    \"random_state\" : [123]\n",
    "}\n",
    "\n",
    "# RandomizedSearchCV가 에러가 있는 듯 (아니면 파라미터 설정 방법이 다르거나...)\n",
    "grid = GridSearchCV(SVD, \n",
    "                    param_grid=params, \n",
    "                    measures=['RMSE'], \n",
    "                    cv=5, \n",
    "                    n_jobs=-1)\n",
    "\n",
    "grid.fit(data)\n",
    "\n",
    "estimator = grid.best_estimator['rmse']\n",
    "estimator"
   ]
  },
  {
   "cell_type": "markdown",
   "metadata": {},
   "source": [
    "### [2] 다시 학습 시킴"
   ]
  },
  {
   "cell_type": "code",
   "execution_count": 118,
   "metadata": {},
   "outputs": [
    {
     "data": {
      "text/plain": [
       "<surprise.prediction_algorithms.matrix_factorization.SVD at 0x25b6ffe7a10>"
      ]
     },
     "execution_count": 118,
     "metadata": {},
     "output_type": "execute_result"
    }
   ],
   "source": [
    "train = data.build_full_trainset()\n",
    "estimator.fit(train)"
   ]
  },
  {
   "cell_type": "markdown",
   "metadata": {},
   "source": [
    "## #04. 특정 사용자에 대한 추천 영화 목록 만들기"
   ]
  },
  {
   "cell_type": "markdown",
   "metadata": {},
   "source": [
    "### [1] 장르 세트 구하기"
   ]
  },
  {
   "cell_type": "code",
   "execution_count": 119,
   "metadata": {},
   "outputs": [
    {
     "data": {
      "text/plain": [
       "{'(no genres listed)',\n",
       " 'Action',\n",
       " 'Adventure',\n",
       " 'Animation',\n",
       " 'Children',\n",
       " 'Comedy',\n",
       " 'Crime',\n",
       " 'Documentary',\n",
       " 'Drama',\n",
       " 'Fantasy',\n",
       " 'Film-Noir',\n",
       " 'Horror',\n",
       " 'IMAX',\n",
       " 'Musical',\n",
       " 'Mystery',\n",
       " 'Romance',\n",
       " 'Sci-Fi',\n",
       " 'Thriller',\n",
       " 'War',\n",
       " 'Western'}"
      ]
     },
     "execution_count": 119,
     "metadata": {},
     "output_type": "execute_result"
    }
   ],
   "source": [
    "genres_set = set()\n",
    "for i in movies['genres'].apply(lambda x: x.split('|')):\n",
    "    for j in i:\n",
    "        genres_set.add(j)\n",
    "genres_set"
   ]
  },
  {
   "cell_type": "markdown",
   "metadata": {},
   "source": [
    "### [2] 특정 사용자와 장르 지정하기"
   ]
  },
  {
   "cell_type": "code",
   "execution_count": 120,
   "metadata": {},
   "outputs": [],
   "source": [
    "select_id = 9\n",
    "select_genres = ['Adventure','Fantasy']"
   ]
  },
  {
   "cell_type": "markdown",
   "metadata": {},
   "source": [
    "### [3] 해당 사용자가 본 영화 목록"
   ]
  },
  {
   "cell_type": "code",
   "execution_count": 121,
   "metadata": {},
   "outputs": [
    {
     "name": "stdout",
     "output_type": "stream",
     "text": [
      "[41, 187, 223, 371, 627, 922, 923, 1037, 1095, 1198, 1270, 1674, 1987, 2011, 2012, 2023, 2300, 2877, 2901, 3173, 3328, 3735, 4131, 4558, 4993, 5218, 5378, 5445, 5447, 5451, 5481, 5507, 5841, 5843, 5872, 5890, 5891, 5893, 5902, 5952, 5956, 5962, 5965, 5988, 6001, 6044]\n",
      "9번 사용자가 본 영화 수: 46\n"
     ]
    }
   ],
   "source": [
    "\n",
    "seen_movies = origin[origin['userId'] == select_id]['movieId'].tolist()\n",
    "print(seen_movies)\n",
    "print(\"9번 사용자가 본 영화 수:\", len(seen_movies))"
   ]
  },
  {
   "cell_type": "markdown",
   "metadata": {},
   "source": [
    "### [4] 해당 사용자가 보지 않은 영화 목록 (추천대상)"
   ]
  },
  {
   "cell_type": "code",
   "execution_count": 122,
   "metadata": {},
   "outputs": [
    {
     "data": {
      "text/html": [
       "<div>\n",
       "<style scoped>\n",
       "    .dataframe tbody tr th:only-of-type {\n",
       "        vertical-align: middle;\n",
       "    }\n",
       "\n",
       "    .dataframe tbody tr th {\n",
       "        vertical-align: top;\n",
       "    }\n",
       "\n",
       "    .dataframe thead th {\n",
       "        text-align: right;\n",
       "    }\n",
       "</style>\n",
       "<table border=\"1\" class=\"dataframe\">\n",
       "  <thead>\n",
       "    <tr style=\"text-align: right;\">\n",
       "      <th></th>\n",
       "      <th>movieId</th>\n",
       "      <th>title</th>\n",
       "      <th>genres</th>\n",
       "    </tr>\n",
       "  </thead>\n",
       "  <tbody>\n",
       "    <tr>\n",
       "      <th>0</th>\n",
       "      <td>1</td>\n",
       "      <td>Toy Story (1995)</td>\n",
       "      <td>[Adventure, Animation, Children, Comedy, Fantasy]</td>\n",
       "    </tr>\n",
       "    <tr>\n",
       "      <th>1</th>\n",
       "      <td>2</td>\n",
       "      <td>Jumanji (1995)</td>\n",
       "      <td>[Adventure, Children, Fantasy]</td>\n",
       "    </tr>\n",
       "    <tr>\n",
       "      <th>2</th>\n",
       "      <td>3</td>\n",
       "      <td>Grumpier Old Men (1995)</td>\n",
       "      <td>[Comedy, Romance]</td>\n",
       "    </tr>\n",
       "    <tr>\n",
       "      <th>3</th>\n",
       "      <td>4</td>\n",
       "      <td>Waiting to Exhale (1995)</td>\n",
       "      <td>[Comedy, Drama, Romance]</td>\n",
       "    </tr>\n",
       "    <tr>\n",
       "      <th>4</th>\n",
       "      <td>5</td>\n",
       "      <td>Father of the Bride Part II (1995)</td>\n",
       "      <td>[Comedy]</td>\n",
       "    </tr>\n",
       "    <tr>\n",
       "      <th>...</th>\n",
       "      <td>...</td>\n",
       "      <td>...</td>\n",
       "      <td>...</td>\n",
       "    </tr>\n",
       "    <tr>\n",
       "      <th>9737</th>\n",
       "      <td>193581</td>\n",
       "      <td>Black Butler: Book of the Atlantic (2017)</td>\n",
       "      <td>[Action, Animation, Comedy, Fantasy]</td>\n",
       "    </tr>\n",
       "    <tr>\n",
       "      <th>9738</th>\n",
       "      <td>193583</td>\n",
       "      <td>No Game No Life: Zero (2017)</td>\n",
       "      <td>[Animation, Comedy, Fantasy]</td>\n",
       "    </tr>\n",
       "    <tr>\n",
       "      <th>9739</th>\n",
       "      <td>193585</td>\n",
       "      <td>Flint (2017)</td>\n",
       "      <td>[Drama]</td>\n",
       "    </tr>\n",
       "    <tr>\n",
       "      <th>9740</th>\n",
       "      <td>193587</td>\n",
       "      <td>Bungo Stray Dogs: Dead Apple (2018)</td>\n",
       "      <td>[Action, Animation]</td>\n",
       "    </tr>\n",
       "    <tr>\n",
       "      <th>9741</th>\n",
       "      <td>193609</td>\n",
       "      <td>Andrew Dice Clay: Dice Rules (1991)</td>\n",
       "      <td>[Comedy]</td>\n",
       "    </tr>\n",
       "  </tbody>\n",
       "</table>\n",
       "<p>9696 rows × 3 columns</p>\n",
       "</div>"
      ],
      "text/plain": [
       "      movieId                                      title  \\\n",
       "0           1                           Toy Story (1995)   \n",
       "1           2                             Jumanji (1995)   \n",
       "2           3                    Grumpier Old Men (1995)   \n",
       "3           4                   Waiting to Exhale (1995)   \n",
       "4           5         Father of the Bride Part II (1995)   \n",
       "...       ...                                        ...   \n",
       "9737   193581  Black Butler: Book of the Atlantic (2017)   \n",
       "9738   193583               No Game No Life: Zero (2017)   \n",
       "9739   193585                               Flint (2017)   \n",
       "9740   193587        Bungo Stray Dogs: Dead Apple (2018)   \n",
       "9741   193609        Andrew Dice Clay: Dice Rules (1991)   \n",
       "\n",
       "                                                 genres  \n",
       "0     [Adventure, Animation, Children, Comedy, Fantasy]  \n",
       "1                        [Adventure, Children, Fantasy]  \n",
       "2                                     [Comedy, Romance]  \n",
       "3                              [Comedy, Drama, Romance]  \n",
       "4                                              [Comedy]  \n",
       "...                                                 ...  \n",
       "9737               [Action, Animation, Comedy, Fantasy]  \n",
       "9738                       [Animation, Comedy, Fantasy]  \n",
       "9739                                            [Drama]  \n",
       "9740                                [Action, Animation]  \n",
       "9741                                           [Comedy]  \n",
       "\n",
       "[9696 rows x 3 columns]"
      ]
     },
     "execution_count": 122,
     "metadata": {},
     "output_type": "execute_result"
    }
   ],
   "source": [
    "unseen_movies = movies[~movies['movieId'].isin(seen_movies)] # ~ 을붙이면 부정\n",
    "unseen_movies['genres'] = unseen_movies['genres'].apply(lambda x: x.split('|'))\n",
    "unseen_movies"
   ]
  },
  {
   "cell_type": "markdown",
   "metadata": {},
   "source": [
    "### [5] 예상평점 구하기"
   ]
  },
  {
   "cell_type": "code",
   "execution_count": 123,
   "metadata": {},
   "outputs": [
    {
     "data": {
      "text/html": [
       "<div>\n",
       "<style scoped>\n",
       "    .dataframe tbody tr th:only-of-type {\n",
       "        vertical-align: middle;\n",
       "    }\n",
       "\n",
       "    .dataframe tbody tr th {\n",
       "        vertical-align: top;\n",
       "    }\n",
       "\n",
       "    .dataframe thead th {\n",
       "        text-align: right;\n",
       "    }\n",
       "</style>\n",
       "<table border=\"1\" class=\"dataframe\">\n",
       "  <thead>\n",
       "    <tr style=\"text-align: right;\">\n",
       "      <th></th>\n",
       "      <th>movieId</th>\n",
       "      <th>title</th>\n",
       "      <th>genres</th>\n",
       "      <th>ratings</th>\n",
       "    </tr>\n",
       "  </thead>\n",
       "  <tbody>\n",
       "    <tr>\n",
       "      <th>1734</th>\n",
       "      <td>2329</td>\n",
       "      <td>American History X (1998)</td>\n",
       "      <td>[Crime, Drama]</td>\n",
       "      <td>4.274520</td>\n",
       "    </tr>\n",
       "    <tr>\n",
       "      <th>863</th>\n",
       "      <td>1136</td>\n",
       "      <td>Monty Python and the Holy Grail (1975)</td>\n",
       "      <td>[Adventure, Comedy, Fantasy]</td>\n",
       "      <td>4.237088</td>\n",
       "    </tr>\n",
       "    <tr>\n",
       "      <th>916</th>\n",
       "      <td>1215</td>\n",
       "      <td>Army of Darkness (1993)</td>\n",
       "      <td>[Action, Adventure, Comedy, Fantasy, Horror]</td>\n",
       "      <td>4.231220</td>\n",
       "    </tr>\n",
       "    <tr>\n",
       "      <th>899</th>\n",
       "      <td>1197</td>\n",
       "      <td>Princess Bride, The (1987)</td>\n",
       "      <td>[Action, Adventure, Comedy, Fantasy, Romance]</td>\n",
       "      <td>4.226809</td>\n",
       "    </tr>\n",
       "    <tr>\n",
       "      <th>510</th>\n",
       "      <td>593</td>\n",
       "      <td>Silence of the Lambs, The (1991)</td>\n",
       "      <td>[Crime, Horror, Thriller]</td>\n",
       "      <td>4.218979</td>\n",
       "    </tr>\n",
       "    <tr>\n",
       "      <th>...</th>\n",
       "      <td>...</td>\n",
       "      <td>...</td>\n",
       "      <td>...</td>\n",
       "      <td>...</td>\n",
       "    </tr>\n",
       "    <tr>\n",
       "      <th>2042</th>\n",
       "      <td>2720</td>\n",
       "      <td>Inspector Gadget (1999)</td>\n",
       "      <td>[Action, Adventure, Children, Comedy]</td>\n",
       "      <td>1.903348</td>\n",
       "    </tr>\n",
       "    <tr>\n",
       "      <th>5270</th>\n",
       "      <td>8666</td>\n",
       "      <td>Catwoman (2004)</td>\n",
       "      <td>[Action, Crime, Fantasy]</td>\n",
       "      <td>1.850484</td>\n",
       "    </tr>\n",
       "    <tr>\n",
       "      <th>1743</th>\n",
       "      <td>2338</td>\n",
       "      <td>I Still Know What You Did Last Summer (1998)</td>\n",
       "      <td>[Horror, Mystery, Thriller]</td>\n",
       "      <td>1.850384</td>\n",
       "    </tr>\n",
       "    <tr>\n",
       "      <th>1173</th>\n",
       "      <td>1556</td>\n",
       "      <td>Speed 2: Cruise Control (1997)</td>\n",
       "      <td>[Action, Romance, Thriller]</td>\n",
       "      <td>1.747354</td>\n",
       "    </tr>\n",
       "    <tr>\n",
       "      <th>2683</th>\n",
       "      <td>3593</td>\n",
       "      <td>Battlefield Earth (2000)</td>\n",
       "      <td>[Action, Sci-Fi]</td>\n",
       "      <td>1.560094</td>\n",
       "    </tr>\n",
       "  </tbody>\n",
       "</table>\n",
       "<p>9696 rows × 4 columns</p>\n",
       "</div>"
      ],
      "text/plain": [
       "      movieId                                         title  \\\n",
       "1734     2329                     American History X (1998)   \n",
       "863      1136        Monty Python and the Holy Grail (1975)   \n",
       "916      1215                       Army of Darkness (1993)   \n",
       "899      1197                    Princess Bride, The (1987)   \n",
       "510       593              Silence of the Lambs, The (1991)   \n",
       "...       ...                                           ...   \n",
       "2042     2720                       Inspector Gadget (1999)   \n",
       "5270     8666                               Catwoman (2004)   \n",
       "1743     2338  I Still Know What You Did Last Summer (1998)   \n",
       "1173     1556                Speed 2: Cruise Control (1997)   \n",
       "2683     3593                      Battlefield Earth (2000)   \n",
       "\n",
       "                                             genres   ratings  \n",
       "1734                                 [Crime, Drama]  4.274520  \n",
       "863                    [Adventure, Comedy, Fantasy]  4.237088  \n",
       "916    [Action, Adventure, Comedy, Fantasy, Horror]  4.231220  \n",
       "899   [Action, Adventure, Comedy, Fantasy, Romance]  4.226809  \n",
       "510                       [Crime, Horror, Thriller]  4.218979  \n",
       "...                                             ...       ...  \n",
       "2042          [Action, Adventure, Children, Comedy]  1.903348  \n",
       "5270                       [Action, Crime, Fantasy]  1.850484  \n",
       "1743                    [Horror, Mystery, Thriller]  1.850384  \n",
       "1173                    [Action, Romance, Thriller]  1.747354  \n",
       "2683                               [Action, Sci-Fi]  1.560094  \n",
       "\n",
       "[9696 rows x 4 columns]"
      ]
     },
     "execution_count": 123,
     "metadata": {},
     "output_type": "execute_result"
    }
   ],
   "source": [
    "unseen_movies['ratings'] = unseen_movies['movieId'].apply(lambda x : estimator.predict(uid=9, iid=x).est)\n",
    "unseen_movies.sort_values('ratings', ascending=False, inplace=True)\n",
    "unseen_movies"
   ]
  },
  {
   "cell_type": "markdown",
   "metadata": {},
   "source": [
    "### [6] 원하는 장르로 10개 선정하기"
   ]
  },
  {
   "cell_type": "code",
   "execution_count": 124,
   "metadata": {},
   "outputs": [
    {
     "data": {
      "text/plain": [
       "[1, 2, 3, 5, 8, 13, 23, 24, 29, 30]"
      ]
     },
     "execution_count": 124,
     "metadata": {},
     "output_type": "execute_result"
    }
   ],
   "source": [
    "check = []\n",
    "for num,i in enumerate(unseen_movies['genres']):\n",
    "    for j in select_genres:\n",
    "        if j in i: \n",
    "            check.append(num)\n",
    "            break\n",
    "    if len(check) ==10: break\n",
    "check"
   ]
  },
  {
   "cell_type": "markdown",
   "metadata": {},
   "source": [
    "### [7] 결과확인"
   ]
  },
  {
   "cell_type": "code",
   "execution_count": 125,
   "metadata": {},
   "outputs": [
    {
     "data": {
      "text/html": [
       "<div>\n",
       "<style scoped>\n",
       "    .dataframe tbody tr th:only-of-type {\n",
       "        vertical-align: middle;\n",
       "    }\n",
       "\n",
       "    .dataframe tbody tr th {\n",
       "        vertical-align: top;\n",
       "    }\n",
       "\n",
       "    .dataframe thead th {\n",
       "        text-align: right;\n",
       "    }\n",
       "</style>\n",
       "<table border=\"1\" class=\"dataframe\">\n",
       "  <thead>\n",
       "    <tr style=\"text-align: right;\">\n",
       "      <th></th>\n",
       "      <th>movieId</th>\n",
       "      <th>title</th>\n",
       "      <th>genres</th>\n",
       "      <th>ratings</th>\n",
       "    </tr>\n",
       "  </thead>\n",
       "  <tbody>\n",
       "    <tr>\n",
       "      <th>863</th>\n",
       "      <td>1136</td>\n",
       "      <td>Monty Python and the Holy Grail (1975)</td>\n",
       "      <td>[Adventure, Comedy, Fantasy]</td>\n",
       "      <td>4.237088</td>\n",
       "    </tr>\n",
       "    <tr>\n",
       "      <th>916</th>\n",
       "      <td>1215</td>\n",
       "      <td>Army of Darkness (1993)</td>\n",
       "      <td>[Action, Adventure, Comedy, Fantasy, Horror]</td>\n",
       "      <td>4.231220</td>\n",
       "    </tr>\n",
       "    <tr>\n",
       "      <th>899</th>\n",
       "      <td>1197</td>\n",
       "      <td>Princess Bride, The (1987)</td>\n",
       "      <td>[Action, Adventure, Comedy, Fantasy, Romance]</td>\n",
       "      <td>4.226809</td>\n",
       "    </tr>\n",
       "    <tr>\n",
       "      <th>224</th>\n",
       "      <td>260</td>\n",
       "      <td>Star Wars: Episode IV - A New Hope (1977)</td>\n",
       "      <td>[Action, Adventure, Sci-Fi]</td>\n",
       "      <td>4.218799</td>\n",
       "    </tr>\n",
       "    <tr>\n",
       "      <th>924</th>\n",
       "      <td>1223</td>\n",
       "      <td>Grand Day Out with Wallace and Gromit, A (1989)</td>\n",
       "      <td>[Adventure, Animation, Children, Comedy, Sci-Fi]</td>\n",
       "      <td>4.206999</td>\n",
       "    </tr>\n",
       "    <tr>\n",
       "      <th>898</th>\n",
       "      <td>1196</td>\n",
       "      <td>Star Wars: Episode V - The Empire Strikes Back...</td>\n",
       "      <td>[Action, Adventure, Sci-Fi]</td>\n",
       "      <td>4.175422</td>\n",
       "    </tr>\n",
       "    <tr>\n",
       "      <th>903</th>\n",
       "      <td>1201</td>\n",
       "      <td>Good, the Bad and the Ugly, The (Buono, il bru...</td>\n",
       "      <td>[Action, Adventure, Western]</td>\n",
       "      <td>4.098012</td>\n",
       "    </tr>\n",
       "    <tr>\n",
       "      <th>4800</th>\n",
       "      <td>7153</td>\n",
       "      <td>Lord of the Rings: The Return of the King, The...</td>\n",
       "      <td>[Action, Adventure, Drama, Fantasy]</td>\n",
       "      <td>4.078465</td>\n",
       "    </tr>\n",
       "    <tr>\n",
       "      <th>3194</th>\n",
       "      <td>4306</td>\n",
       "      <td>Shrek (2001)</td>\n",
       "      <td>[Adventure, Animation, Children, Comedy, Fanta...</td>\n",
       "      <td>4.056458</td>\n",
       "    </tr>\n",
       "    <tr>\n",
       "      <th>964</th>\n",
       "      <td>1265</td>\n",
       "      <td>Groundhog Day (1993)</td>\n",
       "      <td>[Comedy, Fantasy, Romance]</td>\n",
       "      <td>4.054793</td>\n",
       "    </tr>\n",
       "  </tbody>\n",
       "</table>\n",
       "</div>"
      ],
      "text/plain": [
       "      movieId                                              title  \\\n",
       "863      1136             Monty Python and the Holy Grail (1975)   \n",
       "916      1215                            Army of Darkness (1993)   \n",
       "899      1197                         Princess Bride, The (1987)   \n",
       "224       260          Star Wars: Episode IV - A New Hope (1977)   \n",
       "924      1223    Grand Day Out with Wallace and Gromit, A (1989)   \n",
       "898      1196  Star Wars: Episode V - The Empire Strikes Back...   \n",
       "903      1201  Good, the Bad and the Ugly, The (Buono, il bru...   \n",
       "4800     7153  Lord of the Rings: The Return of the King, The...   \n",
       "3194     4306                                       Shrek (2001)   \n",
       "964      1265                               Groundhog Day (1993)   \n",
       "\n",
       "                                                 genres   ratings  \n",
       "863                        [Adventure, Comedy, Fantasy]  4.237088  \n",
       "916        [Action, Adventure, Comedy, Fantasy, Horror]  4.231220  \n",
       "899       [Action, Adventure, Comedy, Fantasy, Romance]  4.226809  \n",
       "224                         [Action, Adventure, Sci-Fi]  4.218799  \n",
       "924    [Adventure, Animation, Children, Comedy, Sci-Fi]  4.206999  \n",
       "898                         [Action, Adventure, Sci-Fi]  4.175422  \n",
       "903                        [Action, Adventure, Western]  4.098012  \n",
       "4800                [Action, Adventure, Drama, Fantasy]  4.078465  \n",
       "3194  [Adventure, Animation, Children, Comedy, Fanta...  4.056458  \n",
       "964                          [Comedy, Fantasy, Romance]  4.054793  "
      ]
     },
     "execution_count": 125,
     "metadata": {},
     "output_type": "execute_result"
    }
   ],
   "source": [
    "unseen_movies.iloc[check]"
   ]
  },
  {
   "cell_type": "code",
   "execution_count": null,
   "metadata": {},
   "outputs": [],
   "source": []
  }
 ],
 "metadata": {
  "kernelspec": {
   "display_name": "Python 3",
   "language": "python",
   "name": "python3"
  },
  "language_info": {
   "codemirror_mode": {
    "name": "ipython",
    "version": 3
   },
   "file_extension": ".py",
   "mimetype": "text/x-python",
   "name": "python",
   "nbconvert_exporter": "python",
   "pygments_lexer": "ipython3",
   "version": "3.11.7"
  }
 },
 "nbformat": 4,
 "nbformat_minor": 2
}
