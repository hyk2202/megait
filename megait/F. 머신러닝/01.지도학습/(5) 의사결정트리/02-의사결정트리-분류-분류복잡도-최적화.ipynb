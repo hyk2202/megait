{
 "cells": [
  {
   "cell_type": "markdown",
   "metadata": {},
   "source": [
    "# 의사결정트리 분류 복잡도 최적화\n",
    "\n",
    "## #01. 준비작업\n",
    "\n",
    "### [1] 패키지 가져오기"
   ]
  },
  {
   "cell_type": "code",
   "execution_count": null,
   "metadata": {},
   "outputs": [],
   "source": [
    "import warnings\n",
    "warnings.filterwarnings('ignore')\n",
    "\n",
    "# Intel SKlearn 하드웨어 가속 패치 설정\n",
    "import sys\n",
    "if sys.platform == 'win32':\n",
    "    from sklearnex import patch_sklearn\n",
    "    patch_sklearn()\n",
    "\n",
    "from helper.util import *\n",
    "from helper.plot import *\n",
    "from helper.analysis import *\n",
    "from helper.classification import *\n",
    "\n",
    "# 분석 알고리즘\n",
    "from sklearn.tree import DecisionTreeClassifier, plot_tree"
   ]
  },
  {
   "cell_type": "markdown",
   "metadata": {},
   "source": [
    "### [2] 데이터 가져오기"
   ]
  },
  {
   "cell_type": "code",
   "execution_count": null,
   "metadata": {},
   "outputs": [],
   "source": [
    "origin = my_read_excel(\"https://data.hossam.kr/mldata/breast-cancer-wisconsin.xlsx\", index_col=\"id\", categories=[\"diagnosis\"], info=False)"
   ]
  },
  {
   "cell_type": "markdown",
   "metadata": {},
   "source": [
    "### [3] 전처리\n",
    "\n",
    "스케일링 없이 `7:3` 비율로 데이터 분할"
   ]
  },
  {
   "cell_type": "code",
   "execution_count": null,
   "metadata": {},
   "outputs": [],
   "source": [
    "df1 = my_labelling(origin, 'diagnosis')\n",
    "x_train, x_test, y_train, y_test = my_train_test_split(df1, 'diagnosis', test_size=0.3)"
   ]
  },
  {
   "cell_type": "markdown",
   "metadata": {},
   "source": [
    "## #02. 기본 분류 모형"
   ]
  },
  {
   "cell_type": "code",
   "execution_count": null,
   "metadata": {},
   "outputs": [],
   "source": [
    "cv_estimator = my_dtree_classification(x_train, y_train, x_test, y_test, hist=False, roc=False, pr=False, conf_matrix=False, learning_curve=False)"
   ]
  },
  {
   "cell_type": "markdown",
   "metadata": {},
   "source": [
    "## #03. Pruning (가지치기)\n",
    "\n",
    "dtree 분류기 객체의 `cost_complexity_pruning_path()`메서드는 각 과정마다 효과적인 불순도와 이를 위한 알파값을 반환한다.\n",
    "\n",
    "### [1] 알파값, 불순도 구하기"
   ]
  },
  {
   "cell_type": "code",
   "execution_count": null,
   "metadata": {},
   "outputs": [],
   "source": [
    "dtree = DecisionTreeClassifier(random_state=1234)\n",
    "path = dtree.cost_complexity_pruning_path(x_train, y_train)\n",
    "ccp_alphas, impurities = path.ccp_alphas, path.impurities\n",
    "print(ccp_alphas, impurities)"
   ]
  },
  {
   "cell_type": "markdown",
   "metadata": {},
   "source": [
    "### [2] 알파값, 불순도 시각화"
   ]
  },
  {
   "cell_type": "code",
   "execution_count": null,
   "metadata": {},
   "outputs": [],
   "source": [
    "fig = plt.figure(figsize=(10, 5), dpi=200)\n",
    "ax = fig.gca()\n",
    "ax.plot(ccp_alphas[:-1], impurities[:-1], marker=\"o\", drawstyle=\"steps-post\")\n",
    "ax.set_xlabel(\"ccp alpha\")\n",
    "ax.set_ylabel(\"불순도\")\n",
    "ax.grid()\n",
    "plt.show()\n",
    "plt.close()"
   ]
  },
  {
   "cell_type": "markdown",
   "metadata": {},
   "source": [
    "> 알파값이 커질 수록 불순도가 높아진다. 그러므로 최적의 정확도와 가장 낮은 알파값을 동시에 충족하는 모형을 찾아야 한다."
   ]
  },
  {
   "cell_type": "markdown",
   "metadata": {},
   "source": [
    "### [3] 알파값을 적용한 DTree 객체 생성후 노드의 수 확인"
   ]
  },
  {
   "cell_type": "code",
   "execution_count": null,
   "metadata": {},
   "outputs": [],
   "source": [
    "# 의미 없는 양 끝의 값을 제외하고 알파값 목록을 생성\n",
    "ccp_alphas = ccp_alphas[1:-1]\n",
    "estimator_list = []\n",
    "\n",
    "for ccp_alpha in ccp_alphas:\n",
    "    dtree = DecisionTreeClassifier(random_state=1234, ccp_alpha=ccp_alpha)\n",
    "    dtree.fit(x_train, y_train)\n",
    "\n",
    "    # 분류기 객체를 리스트에 담는다.\n",
    "    estimator_list.append(dtree)\n",
    "\n",
    "# 각 분류기에 따른 트리의 노드 수 확인\n",
    "t_nodes = [e.tree_.node_count for e in estimator_list]\n",
    "t_nodes"
   ]
  },
  {
   "cell_type": "markdown",
   "metadata": {},
   "source": [
    "> 알파값에 의해 노드 수가 점차 줄어들고 있다. 노드 수가 지나치게 작을 경우 정확도는 분명 떨어질 것이다."
   ]
  },
  {
   "cell_type": "markdown",
   "metadata": {},
   "source": [
    "### [4] 알파값에 따른 의사결정트리 비교"
   ]
  },
  {
   "cell_type": "code",
   "execution_count": null,
   "metadata": {},
   "outputs": [],
   "source": [
    "for i, v in enumerate(estimator_list):\n",
    "    print(\"[node_size: {0}, ccp_alpha: {1:.4f}]\".format(v.tree_.node_count, ccp_alphas[i]), \"=\"*50, \"\\n\")\n",
    "    my_classification_result(v, x_test, y_test, hist=False, roc=False, pr=False, conf_matrix=False, learning_curve=False)\n",
    "    print(\"\\n\" * 10)"
   ]
  },
  {
   "cell_type": "markdown",
   "metadata": {},
   "source": [
    "### [5] 알파값에 따른 성능 변화"
   ]
  },
  {
   "cell_type": "code",
   "execution_count": null,
   "metadata": {},
   "outputs": [],
   "source": [
    "train_scores = []\n",
    "test_scores = []\n",
    "\n",
    "for v in estimator_list:\n",
    "    train_scores.append(v.score(x_train, y_train))\n",
    "    test_scores.append(v.score(x_test, y_test))\n",
    "\n",
    "fig = plt.figure(figsize=(10, 5), dpi=200)\n",
    "ax = fig.gca()\n",
    "ax.set_xlabel(\"Alpha\")\n",
    "ax.set_ylabel(\"Accuracy\")\n",
    "ax.set_title(\"Alpha vs. Accuracy for training and testing sets\")\n",
    "ax.plot(ccp_alphas, train_scores, marker=\"o\", label=\"train set accuacy\", drawstyle=\"steps-post\")\n",
    "ax.plot(ccp_alphas, test_scores, marker=\"o\", label=\"test set accuracy\", drawstyle=\"steps-post\")\n",
    "ax.legend()\n",
    "ax.grid()\n",
    "plt.show()\n",
    "plt.close()"
   ]
  },
  {
   "cell_type": "markdown",
   "metadata": {},
   "source": [
    "### [6] 검증데이터에 대한 스코어에 따른 알파값"
   ]
  },
  {
   "cell_type": "code",
   "execution_count": null,
   "metadata": {},
   "outputs": [],
   "source": [
    "df = DataFrame({\"test acc\": test_scores, \"alpha\":ccp_alphas})\n",
    "df.sort_values([\"test acc\", \"alpha\"], ascending=[False, True], inplace=True)\n",
    "df.reset_index(drop=True, inplace=True)\n",
    "my_pretty_table(df)"
   ]
  },
  {
   "cell_type": "code",
   "execution_count": null,
   "metadata": {},
   "outputs": [],
   "source": [
    "\"최적의 알파값:\", df['alpha'][0]"
   ]
  },
  {
   "cell_type": "markdown",
   "metadata": {},
   "source": [
    "### [7] 알파값을 적용한 새로운 분석 모형"
   ]
  },
  {
   "cell_type": "code",
   "execution_count": null,
   "metadata": {},
   "outputs": [],
   "source": [
    "final_estimator = DecisionTreeClassifier(criterion='gini', random_state=1234, ccp_alpha=df['alpha'][0])\n",
    "final_estimator.fit(x_train, y_train)\n",
    "my_tree(final_estimator)"
   ]
  },
  {
   "cell_type": "markdown",
   "metadata": {},
   "source": [
    "### [8] 알파값 리스트를 적용한 RandomizeSearhCV 기능 확인\n",
    "\n",
    "> 모듈화 내용"
   ]
  },
  {
   "cell_type": "code",
   "execution_count": null,
   "metadata": {},
   "outputs": [],
   "source": [
    "my_dtree_classification(x_train, y_train, x_test, y_test)"
   ]
  }
 ],
 "metadata": {
  "kernelspec": {
   "display_name": "Python 3",
   "language": "python",
   "name": "python3"
  },
  "language_info": {
   "codemirror_mode": {
    "name": "ipython",
    "version": 3
   },
   "file_extension": ".py",
   "mimetype": "text/x-python",
   "name": "python",
   "nbconvert_exporter": "python",
   "pygments_lexer": "ipython3",
   "version": "3.11.7"
  }
 },
 "nbformat": 4,
 "nbformat_minor": 2
}
