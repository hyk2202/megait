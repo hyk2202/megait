{
 "cells": [
  {
   "cell_type": "markdown",
   "metadata": {},
   "source": [
    "# SVD 알고리즘 기본 코드\n",
    "\n",
    "행렬분해 기반 잠재 요인 협업 필터링\n",
    "\n",
    "## #01. 준비작업\n",
    "\n",
    "### [1] 패키지 가져오기"
   ]
  },
  {
   "cell_type": "code",
   "execution_count": 1,
   "metadata": {},
   "outputs": [
    {
     "name": "stderr",
     "output_type": "stream",
     "text": [
      "Intel(R) Extension for Scikit-learn* enabled (https://github.com/intel/scikit-learn-intelex)\n"
     ]
    }
   ],
   "source": [
    "import warnings\n",
    "warnings.filterwarnings('ignore')\n",
    "\n",
    "# Intel SKlearn 하드웨어 가속 패치 설정\n",
    "import sys\n",
    "if sys.platform == 'win32':\n",
    "    from sklearnex import patch_sklearn\n",
    "    patch_sklearn()\n",
    "\n",
    "from helper.util import *\n",
    "from helper.plot import *\n",
    "from helper.analysis import *\n",
    "\n",
    "from surprise import Reader, Dataset, SVD\n",
    "from surprise.model_selection import train_test_split, cross_validate, GridSearchCV, RandomizedSearchCV\n",
    "from surprise.accuracy import rmse, mae"
   ]
  },
  {
   "cell_type": "markdown",
   "metadata": {},
   "source": [
    "### [2] 데이터 가져오기"
   ]
  },
  {
   "cell_type": "code",
   "execution_count": 2,
   "metadata": {},
   "outputs": [],
   "source": [
    "origin = my_read_excel(\"https://data.hossam.kr/mldata/movie_ratings.xlsx\", \n",
    "                    sheet_name='ratings', info=False)"
   ]
  },
  {
   "cell_type": "markdown",
   "metadata": {},
   "source": [
    "## #02. 데이터 전처리\n",
    "\n",
    "### [1] Surprise 형식의 데이터로 변환\n",
    "\n",
    "`사용자 번호, 아이템 번호, 평점` 구조의 데이터를 만족해야 한다."
   ]
  },
  {
   "cell_type": "code",
   "execution_count": 3,
   "metadata": {},
   "outputs": [
    {
     "data": {
      "text/plain": [
       "<surprise.dataset.DatasetAutoFolds at 0x19777de6b10>"
      ]
     },
     "execution_count": 3,
     "metadata": {},
     "output_type": "execute_result"
    }
   ],
   "source": [
    "df = origin.drop('timestamp', axis=1)\n",
    "\n",
    "# 평점의 분포를 알려준다.\n",
    "reader = Reader(rating_scale=(0.5, 5.0))\n",
    "\n",
    "data = Dataset.load_from_df(df, reader)\n",
    "data"
   ]
  },
  {
   "cell_type": "markdown",
   "metadata": {},
   "source": [
    "## #03. 추천 모형 구현\n",
    "\n",
    "### [1] 하이퍼파라미터 튜닝"
   ]
  },
  {
   "cell_type": "code",
   "execution_count": 4,
   "metadata": {},
   "outputs": [],
   "source": [
    "params = {\n",
    "    \"n_epochs\": [20, 40, 50],          # 반복 횟수(기본값=20)\n",
    "    \"n_factors\": [100, 200, 300],      # 요인의 수(기본값=100)\n",
    "}\n",
    "\n",
    "# RandomizedSearchCV가 에러가 있는 듯 (아니면 파라미터 설정 방법이 다르거나...)\n",
    "grid = GridSearchCV(SVD, \n",
    "                    param_grid=params, \n",
    "                    measures=['RMSE', 'MAE'], \n",
    "                    cv=5, \n",
    "                    n_jobs=-1)\n",
    "\n",
    "grid.fit(data)"
   ]
  },
  {
   "cell_type": "markdown",
   "metadata": {},
   "source": [
    "### [2] 결과확인\n",
    "\n",
    "#### (1) 하이퍼파라미터와 성능 평가 지표 확인"
   ]
  },
  {
   "cell_type": "code",
   "execution_count": 5,
   "metadata": {},
   "outputs": [
    {
     "data": {
      "text/plain": [
       "[{'n_epochs': 20, 'n_factors': 100},\n",
       " {'n_epochs': 20, 'n_factors': 200},\n",
       " {'n_epochs': 20, 'n_factors': 300},\n",
       " {'n_epochs': 40, 'n_factors': 100},\n",
       " {'n_epochs': 40, 'n_factors': 200},\n",
       " {'n_epochs': 40, 'n_factors': 300},\n",
       " {'n_epochs': 50, 'n_factors': 100},\n",
       " {'n_epochs': 50, 'n_factors': 200},\n",
       " {'n_epochs': 50, 'n_factors': 300}]"
      ]
     },
     "execution_count": 5,
     "metadata": {},
     "output_type": "execute_result"
    }
   ],
   "source": [
    "grid.cv_results['params']"
   ]
  },
  {
   "cell_type": "code",
   "execution_count": 6,
   "metadata": {},
   "outputs": [
    {
     "name": "stdout",
     "output_type": "stream",
     "text": [
      "+----+------------+-------------+----------+----------+\n",
      "|    |   n_epochs |   n_factors |     rmse |      mae |\n",
      "|----+------------+-------------+----------+----------|\n",
      "|  0 |         20 |         100 | 0.873711 | 0.671291 |\n",
      "|  1 |         20 |         200 | 0.873711 | 0.671291 |\n",
      "|  2 |         20 |         300 | 0.873711 | 0.671291 |\n",
      "|  3 |         40 |         100 | 0.873711 | 0.671291 |\n",
      "|  4 |         40 |         200 | 0.873711 | 0.671291 |\n",
      "|  5 |         40 |         300 | 0.873711 | 0.671291 |\n",
      "|  6 |         50 |         100 | 0.873711 | 0.671291 |\n",
      "|  7 |         50 |         200 | 0.873711 | 0.671291 |\n",
      "|  8 |         50 |         300 | 0.873711 | 0.671291 |\n",
      "+----+------------+-------------+----------+----------+\n"
     ]
    }
   ],
   "source": [
    "df = DataFrame(grid.cv_results['params'])\n",
    "df['rmse'] = grid.best_score['rmse']\n",
    "df['mae'] = grid.best_score['mae']\n",
    "df.sort_values('rmse', ascending=False, inplace=True)\n",
    "my_pretty_table(df)"
   ]
  },
  {
   "cell_type": "markdown",
   "metadata": {},
   "source": [
    "#### (3) 최적 하이퍼파라미터 확인"
   ]
  },
  {
   "cell_type": "code",
   "execution_count": 7,
   "metadata": {},
   "outputs": [
    {
     "data": {
      "text/plain": [
       "{'rmse': {'n_epochs': 20, 'n_factors': 100},\n",
       " 'mae': {'n_epochs': 20, 'n_factors': 100}}"
      ]
     },
     "execution_count": 7,
     "metadata": {},
     "output_type": "execute_result"
    }
   ],
   "source": [
    "grid.best_params"
   ]
  },
  {
   "cell_type": "markdown",
   "metadata": {},
   "source": [
    "#### (4) 최적 추정기"
   ]
  },
  {
   "cell_type": "code",
   "execution_count": 8,
   "metadata": {},
   "outputs": [
    {
     "data": {
      "text/plain": [
       "{'rmse': <surprise.prediction_algorithms.matrix_factorization.SVD at 0x1977840dad0>,\n",
       " 'mae': <surprise.prediction_algorithms.matrix_factorization.SVD at 0x1977ec8c310>}"
      ]
     },
     "execution_count": 8,
     "metadata": {},
     "output_type": "execute_result"
    }
   ],
   "source": [
    "grid.best_estimator"
   ]
  },
  {
   "cell_type": "markdown",
   "metadata": {},
   "source": [
    "#### (5) 최적 추정기를 활용한 컨텐츠 추천\n",
    "\n",
    "학습을 다시 시켜야 한다."
   ]
  },
  {
   "cell_type": "code",
   "execution_count": 9,
   "metadata": {},
   "outputs": [],
   "source": [
    "train, test = train_test_split(data, test_size=0.2, random_state=1234)"
   ]
  },
  {
   "cell_type": "code",
   "execution_count": 10,
   "metadata": {},
   "outputs": [
    {
     "data": {
      "text/plain": [
       "[Prediction(uid=603, iid=3996, r_ui=5.0, est=4.119850407254607, details={'was_impossible': False}),\n",
       " Prediction(uid=199, iid=2912, r_ui=4.0, est=3.411465364444666, details={'was_impossible': False}),\n",
       " Prediction(uid=416, iid=2716, r_ui=2.0, est=3.2481094852920194, details={'was_impossible': False}),\n",
       " Prediction(uid=589, iid=150, r_ui=4.0, est=4.351755570541779, details={'was_impossible': False}),\n",
       " Prediction(uid=307, iid=6755, r_ui=4.0, est=2.461231812108919, details={'was_impossible': False})]"
      ]
     },
     "execution_count": 10,
     "metadata": {},
     "output_type": "execute_result"
    }
   ],
   "source": [
    "estimator = grid.best_estimator['rmse']\n",
    "estimator.fit(train)\n",
    "pred = estimator.test(test)\n",
    "pred[:5]"
   ]
  },
  {
   "cell_type": "code",
   "execution_count": 11,
   "metadata": {},
   "outputs": [
    {
     "data": {
      "text/plain": [
       "Prediction(uid=603, iid=3996, r_ui=None, est=4.119850407254607, details={'was_impossible': False})"
      ]
     },
     "execution_count": 11,
     "metadata": {},
     "output_type": "execute_result"
    }
   ],
   "source": [
    "estimator.predict(uid=603, iid=3996)"
   ]
  }
 ],
 "metadata": {
  "kernelspec": {
   "display_name": "Python 3",
   "language": "python",
   "name": "python3"
  },
  "language_info": {
   "codemirror_mode": {
    "name": "ipython",
    "version": 3
   },
   "file_extension": ".py",
   "mimetype": "text/x-python",
   "name": "python",
   "nbconvert_exporter": "python",
   "pygments_lexer": "ipython3",
   "version": "3.11.7"
  }
 },
 "nbformat": 4,
 "nbformat_minor": 2
}
