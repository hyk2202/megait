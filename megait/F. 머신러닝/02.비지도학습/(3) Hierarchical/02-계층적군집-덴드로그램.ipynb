{
 "cells": [
  {
   "cell_type": "markdown",
   "metadata": {},
   "source": [
    "# 계층적 군집의 덴드로그램\n",
    "\n",
    "## #01. 준비작업\n",
    "\n",
    "### [1] 패키지 가져오기"
   ]
  },
  {
   "cell_type": "code",
   "execution_count": 1,
   "metadata": {},
   "outputs": [
    {
     "name": "stdout",
     "output_type": "stream",
     "text": [
      "The autoreload extension is already loaded. To reload it, use:\n",
      "  %reload_ext autoreload\n"
     ]
    }
   ],
   "source": [
    "# 연결된 모듈이 업데이트 되면 즉시 자동 로드함\n",
    "%load_ext autoreload\n",
    "%autoreload 2\n",
    "\n",
    "from helper.util import *\n",
    "from helper.plot import *\n",
    "from helper.analysis import *\n",
    "\n",
    "from sklearn.cluster import AgglomerativeClustering\n",
    "\n",
    "from scipy.cluster.hierarchy import dendrogram, linkage"
   ]
  },
  {
   "cell_type": "markdown",
   "metadata": {},
   "source": [
    "### [2] 데이터 가져오기 + 스케일링"
   ]
  },
  {
   "cell_type": "code",
   "execution_count": 2,
   "metadata": {},
   "outputs": [
    {
     "name": "stdout",
     "output_type": "stream",
     "text": [
      "+----+--------------+--------------+\n",
      "|    |   time spent |   game level |\n",
      "|----+--------------+--------------|\n",
      "|  0 |    -0.250733 |       1.4748 |\n",
      "|  1 |     0.326494 |     0.606546 |\n",
      "|  2 |      -0.6115 |     0.795456 |\n",
      "|  3 |     0.470801 |      1.67461 |\n",
      "|  4 |     -1.40519 |     -1.55865 |\n",
      "+----+--------------+--------------+\n"
     ]
    }
   ],
   "source": [
    "origin = my_read_excel(\"https://data.hossam.kr/mldata/game_usage.xlsx\", info=False)\n",
    "df = my_standard_scaler(origin)\n",
    "my_pretty_table(df.head())"
   ]
  },
  {
   "cell_type": "markdown",
   "metadata": {},
   "source": [
    "## #02. 군집 수행\n",
    "\n",
    "### [1] scipy 패키지를 사용한 계층적 군집\n",
    "\n",
    "#### (1) 군집 모형 구현\n",
    "\n",
    "scipy 패키지에서는 병합군집 기능을 제공한다.\n",
    "\n",
    "군집 결과를 2차원 배열로 리턴해 준다.\n",
    "\n",
    "> 여기서는 하이퍼파라미터는 모두 기본값 상태로 수행함"
   ]
  },
  {
   "cell_type": "code",
   "execution_count": 3,
   "metadata": {},
   "outputs": [
    {
     "data": {
      "text/plain": [
       "array([[3.60000000e+01, 8.70000000e+01, 3.76869846e-02, 2.00000000e+00],\n",
       "       [5.10000000e+01, 9.80000000e+01, 3.76869846e-02, 2.00000000e+00],\n",
       "       [2.50000000e+01, 4.20000000e+01, 4.63269855e-02, 2.00000000e+00],\n",
       "       [8.00000000e+00, 3.70000000e+01, 5.11987456e-02, 2.00000000e+00],\n",
       "       [1.20000000e+01, 1.70000000e+01, 5.38374037e-02, 2.00000000e+00],\n",
       "       [5.30000000e+01, 7.20000000e+01, 5.38374037e-02, 2.00000000e+00],\n",
       "       [6.50000000e+01, 9.00000000e+01, 7.25183053e-02, 2.00000000e+00],\n",
       "       [1.60000000e+01, 4.10000000e+01, 7.53739693e-02, 2.00000000e+00],\n",
       "       [4.70000000e+01, 6.80000000e+01, 8.24806098e-02, 2.00000000e+00],\n",
       "       [1.80000000e+01, 9.70000000e+01, 9.77249893e-02, 2.00000000e+00],\n",
       "       [2.00000000e+01, 8.10000000e+01, 9.98525451e-02, 2.00000000e+00],\n",
       "       [3.20000000e+01, 5.00000000e+01, 1.05006463e-01, 2.00000000e+00],\n",
       "       [1.40000000e+01, 9.40000000e+01, 1.07674807e-01, 2.00000000e+00],\n",
       "       [2.80000000e+01, 9.20000000e+01, 1.10398218e-01, 2.00000000e+00],\n",
       "       [4.40000000e+01, 5.80000000e+01, 1.10398218e-01, 2.00000000e+00],\n",
       "       [2.20000000e+01, 8.90000000e+01, 1.11177555e-01, 2.00000000e+00],\n",
       "       [4.50000000e+01, 6.10000000e+01, 1.21721439e-01, 2.00000000e+00],\n",
       "       [4.00000000e+01, 9.90000000e+01, 1.28367334e-01, 2.00000000e+00],\n",
       "       [1.10000000e+01, 2.30000000e+01, 1.28678757e-01, 2.00000000e+00],\n",
       "       [7.00000000e+00, 1.00000000e+02, 1.31196034e-01, 3.00000000e+00],\n",
       "       [3.30000000e+01, 7.80000000e+01, 1.33750627e-01, 2.00000000e+00],\n",
       "       [4.00000000e+00, 8.00000000e+01, 1.46530362e-01, 2.00000000e+00],\n",
       "       [2.60000000e+01, 5.70000000e+01, 1.48528972e-01, 2.00000000e+00],\n",
       "       [1.30000000e+01, 6.30000000e+01, 1.48809396e-01, 2.00000000e+00],\n",
       "       [3.90000000e+01, 1.02000000e+02, 1.52445718e-01, 3.00000000e+00],\n",
       "       [2.10000000e+01, 1.14000000e+02, 1.52680044e-01, 3.00000000e+00],\n",
       "       [3.80000000e+01, 5.60000000e+01, 1.58834301e-01, 2.00000000e+00],\n",
       "       [3.40000000e+01, 1.07000000e+02, 1.65873404e-01, 3.00000000e+00],\n",
       "       [7.00000000e+01, 8.30000000e+01, 1.78071149e-01, 2.00000000e+00],\n",
       "       [2.00000000e+00, 3.10000000e+01, 1.80529774e-01, 2.00000000e+00],\n",
       "       [1.90000000e+01, 6.90000000e+01, 1.82167236e-01, 2.00000000e+00],\n",
       "       [1.13000000e+02, 1.17000000e+02, 1.91797886e-01, 4.00000000e+00],\n",
       "       [7.70000000e+01, 1.06000000e+02, 1.96020902e-01, 3.00000000e+00],\n",
       "       [8.80000000e+01, 1.04000000e+02, 1.96171337e-01, 3.00000000e+00],\n",
       "       [9.00000000e+00, 6.40000000e+01, 2.10012927e-01, 2.00000000e+00],\n",
       "       [6.60000000e+01, 9.60000000e+01, 2.20118053e-01, 2.00000000e+00],\n",
       "       [0.00000000e+00, 7.60000000e+01, 2.26158722e-01, 2.00000000e+00],\n",
       "       [5.20000000e+01, 6.00000000e+01, 2.32027311e-01, 2.00000000e+00],\n",
       "       [1.00000000e+00, 1.16000000e+02, 2.38746384e-01, 3.00000000e+00],\n",
       "       [7.50000000e+01, 1.01000000e+02, 2.42103877e-01, 3.00000000e+00],\n",
       "       [8.20000000e+01, 1.19000000e+02, 2.42242627e-01, 4.00000000e+00],\n",
       "       [1.09000000e+02, 1.28000000e+02, 2.48214882e-01, 4.00000000e+00],\n",
       "       [2.40000000e+01, 2.70000000e+01, 2.62755734e-01, 2.00000000e+00],\n",
       "       [6.20000000e+01, 8.50000000e+01, 2.68372005e-01, 2.00000000e+00],\n",
       "       [7.30000000e+01, 1.03000000e+02, 2.69279789e-01, 3.00000000e+00],\n",
       "       [3.50000000e+01, 8.60000000e+01, 2.75697354e-01, 2.00000000e+00],\n",
       "       [1.50000000e+01, 1.33000000e+02, 2.80402155e-01, 4.00000000e+00],\n",
       "       [1.21000000e+02, 1.26000000e+02, 2.93135946e-01, 4.00000000e+00],\n",
       "       [4.90000000e+01, 1.37000000e+02, 3.06969346e-01, 3.00000000e+00],\n",
       "       [7.90000000e+01, 1.30000000e+02, 3.07025062e-01, 3.00000000e+00],\n",
       "       [9.50000000e+01, 1.36000000e+02, 3.09185783e-01, 3.00000000e+00],\n",
       "       [4.30000000e+01, 9.10000000e+01, 3.26332374e-01, 2.00000000e+00],\n",
       "       [4.60000000e+01, 5.50000000e+01, 3.27212612e-01, 2.00000000e+00],\n",
       "       [2.90000000e+01, 1.23000000e+02, 3.53355181e-01, 3.00000000e+00],\n",
       "       [5.00000000e+00, 1.29000000e+02, 3.55306656e-01, 3.00000000e+00],\n",
       "       [5.40000000e+01, 5.90000000e+01, 3.61424894e-01, 2.00000000e+00],\n",
       "       [1.20000000e+02, 1.42000000e+02, 3.88688398e-01, 4.00000000e+00],\n",
       "       [1.10000000e+02, 1.18000000e+02, 3.90572528e-01, 4.00000000e+00],\n",
       "       [4.80000000e+01, 1.38000000e+02, 4.00774745e-01, 4.00000000e+00],\n",
       "       [1.11000000e+02, 1.31000000e+02, 4.15305589e-01, 6.00000000e+00],\n",
       "       [9.30000000e+01, 1.45000000e+02, 4.19465323e-01, 3.00000000e+00],\n",
       "       [6.00000000e+00, 1.34000000e+02, 4.33977279e-01, 3.00000000e+00],\n",
       "       [3.00000000e+00, 1.12000000e+02, 4.52303450e-01, 3.00000000e+00],\n",
       "       [3.00000000e+01, 1.58000000e+02, 4.61998149e-01, 5.00000000e+00],\n",
       "       [1.15000000e+02, 1.39000000e+02, 4.68709009e-01, 5.00000000e+00],\n",
       "       [1.08000000e+02, 1.35000000e+02, 4.69442672e-01, 4.00000000e+00],\n",
       "       [7.40000000e+01, 1.27000000e+02, 5.55494763e-01, 4.00000000e+00],\n",
       "       [1.00000000e+01, 1.41000000e+02, 5.55659944e-01, 5.00000000e+00],\n",
       "       [8.40000000e+01, 1.44000000e+02, 5.74400993e-01, 4.00000000e+00],\n",
       "       [1.52000000e+02, 1.54000000e+02, 5.83501762e-01, 5.00000000e+00],\n",
       "       [7.10000000e+01, 1.43000000e+02, 5.90314537e-01, 3.00000000e+00],\n",
       "       [1.53000000e+02, 1.65000000e+02, 6.14481072e-01, 7.00000000e+00],\n",
       "       [1.32000000e+02, 1.63000000e+02, 6.64420849e-01, 8.00000000e+00],\n",
       "       [1.25000000e+02, 1.66000000e+02, 6.96101564e-01, 7.00000000e+00],\n",
       "       [1.22000000e+02, 1.49000000e+02, 7.57902032e-01, 5.00000000e+00],\n",
       "       [1.55000000e+02, 1.70000000e+02, 8.14198132e-01, 5.00000000e+00],\n",
       "       [1.24000000e+02, 1.67000000e+02, 8.42976562e-01, 8.00000000e+00],\n",
       "       [1.05000000e+02, 1.47000000e+02, 9.14586328e-01, 6.00000000e+00],\n",
       "       [1.46000000e+02, 1.56000000e+02, 9.29740459e-01, 8.00000000e+00],\n",
       "       [6.70000000e+01, 1.48000000e+02, 9.68587978e-01, 4.00000000e+00],\n",
       "       [1.40000000e+02, 1.61000000e+02, 9.90598931e-01, 7.00000000e+00],\n",
       "       [1.51000000e+02, 1.75000000e+02, 9.98894912e-01, 7.00000000e+00],\n",
       "       [1.64000000e+02, 1.79000000e+02, 1.16491141e+00, 9.00000000e+00],\n",
       "       [1.59000000e+02, 1.68000000e+02, 1.17516449e+00, 1.00000000e+01],\n",
       "       [1.60000000e+02, 1.69000000e+02, 1.23781568e+00, 8.00000000e+00],\n",
       "       [1.57000000e+02, 1.81000000e+02, 1.24834010e+00, 1.10000000e+01],\n",
       "       [1.71000000e+02, 1.74000000e+02, 1.32946608e+00, 1.20000000e+01],\n",
       "       [1.50000000e+02, 1.62000000e+02, 1.48940404e+00, 6.00000000e+00],\n",
       "       [1.80000000e+02, 1.86000000e+02, 1.78083635e+00, 1.90000000e+01],\n",
       "       [1.76000000e+02, 1.84000000e+02, 1.81103240e+00, 1.60000000e+01],\n",
       "       [1.77000000e+02, 1.78000000e+02, 1.87849094e+00, 1.40000000e+01],\n",
       "       [1.72000000e+02, 1.87000000e+02, 1.98157535e+00, 1.40000000e+01],\n",
       "       [1.73000000e+02, 1.85000000e+02, 2.91018960e+00, 1.80000000e+01],\n",
       "       [1.83000000e+02, 1.88000000e+02, 3.57286275e+00, 2.90000000e+01],\n",
       "       [1.91000000e+02, 1.92000000e+02, 4.89502856e+00, 3.20000000e+01],\n",
       "       [1.90000000e+02, 1.93000000e+02, 5.66309281e+00, 4.30000000e+01],\n",
       "       [1.82000000e+02, 1.95000000e+02, 7.38292246e+00, 5.20000000e+01],\n",
       "       [1.89000000e+02, 1.94000000e+02, 9.41794963e+00, 4.80000000e+01],\n",
       "       [1.96000000e+02, 1.97000000e+02, 1.19208291e+01, 1.00000000e+02]])"
      ]
     },
     "execution_count": 3,
     "metadata": {},
     "output_type": "execute_result"
    }
   ],
   "source": [
    "lnk = linkage(df, method='ward')\n",
    "lnk"
   ]
  },
  {
   "cell_type": "markdown",
   "metadata": {},
   "source": [
    "#### (2) 군집 결과 시각화"
   ]
  },
  {
   "cell_type": "code",
   "execution_count": 4,
   "metadata": {},
   "outputs": [
    {
     "data": {
      "image/png": "[encoded data removed]",
      "text/plain": [
       "<Figure size 1500x700 with 1 Axes>"
      ]
     },
     "metadata": {},
     "output_type": "display_data"
    }
   ],
   "source": [
    "fig = plt.figure(figsize=(15, 7), dpi=100)\n",
    "ax = fig.gca()\n",
    "\n",
    "dendrogram(lnk, ax=ax, \n",
    "           p=30, # 맨 위에 몇 개의 노드를 표시할 것인지\n",
    "           truncate_mode='lastp', # 'lastp': p개의 노드를 표시하고 나머지는 짧게 표시\n",
    "           leaf_rotation=0, \n",
    "           leaf_font_size=12, \n",
    "            # 각 노드 n에 대해 두 하위 링크가 표시되는 순서\n",
    "           # False: 아무것도 안함(기본값)\n",
    "           # 'ascending': 클러스터에 원본 개체수가 가장 적은 하위 객체가 먼저 출력\n",
    "           # `descending`: 클러스터에 원본 개체수가 가장 많은 하위 객체가 먼저 출력\n",
    "           count_sort='ascending', \n",
    "           # 각 노드 n에 대해 두 하위 링크가 표시되는 순서\n",
    "           # False: 아무것도 안함(기본값)\n",
    "           # 'ascending': 직계 자손의 사이의 거리가 최소인 하위 항목이 먼저 표시됨\n",
    "           # `descending`: 직계 자손의 사이의 거리가 최대인 하위 항목이 먼저 표시됨\n",
    "           distance_sort='ascending',\n",
    "           show_leaf_counts=True, # True: 맨 아래에 노드에 속한 개체 수 표시(k>1 경우만...)\n",
    ")\n",
    "\n",
    "ax.set_title(\"Dendrogram\")\n",
    "plt.show()\n",
    "plt.close()"
   ]
  },
  {
   "cell_type": "markdown",
   "metadata": {},
   "source": [
    "### [2] sklearn을 사용한 군집\n",
    "\n",
    "#### (1) 군집 모델 구현"
   ]
  },
  {
   "cell_type": "code",
   "execution_count": 5,
   "metadata": {},
   "outputs": [
    {
     "name": "stdout",
     "output_type": "stream",
     "text": [
      "+----+--------------+--------------+-----------+\n",
      "|    |   time spent |   game level |   cluster |\n",
      "|----+--------------+--------------+-----------|\n",
      "|  0 |           39 |          944 |         1 |\n",
      "|  1 |           55 |          705 |         1 |\n",
      "|  2 |           29 |          757 |         2 |\n",
      "|  3 |           59 |          999 |         1 |\n",
      "|  4 |            7 |          109 |         0 |\n",
      "|  5 |           35 |          749 |         2 |\n",
      "|  6 |           11 |          520 |         0 |\n",
      "|  7 |           30 |          410 |         0 |\n",
      "|  8 |           50 |          225 |         0 |\n",
      "|  9 |           23 |          470 |         0 |\n",
      "+----+--------------+--------------+-----------+\n"
     ]
    }
   ],
   "source": [
    "estimator = AgglomerativeClustering(n_clusters=4, linkage='ward',\n",
    "                                    # 노드간의 거리 계산값을 도출할지 여부 (시각화를 위해서는 필수 적용)\n",
    "                                    compute_distances=True)\n",
    "\n",
    "estimator.fit(df)\n",
    "\n",
    "result_df = origin.copy()\n",
    "result_df['cluster'] = estimator.labels_\n",
    "\n",
    "my_pretty_table(result_df.head(10))"
   ]
  },
  {
   "cell_type": "markdown",
   "metadata": {},
   "source": [
    "#### (3) 군집 결과 시각화\n",
    "\n",
    "`estimator`객체가 포함하고 있는 여러 프로퍼티들을 조합해서 scipy 패키지의 리턴값과 동일한 형태로 구성해주는 함수\n",
    "\n",
    "> 출처: https://scikit-learn.org/stable/auto_examples/cluster/plot_agglomerative_dendrogram.html"
   ]
  },
  {
   "cell_type": "code",
   "execution_count": 6,
   "metadata": {},
   "outputs": [],
   "source": [
    "def my_dandrogram_source(estimator):\n",
    "    counts = np.zeros(estimator.children_.shape[0])\n",
    "    n_samples = len(estimator.labels_)\n",
    "\n",
    "    for i, merge in enumerate(estimator.children_):\n",
    "        current_count = 0\n",
    "        for child_idx in merge:\n",
    "            if child_idx < n_samples:\n",
    "                current_count += 1  # leaf node\n",
    "            else:\n",
    "                current_count += counts[child_idx - n_samples]\n",
    "        counts[i] = current_count\n",
    "\n",
    "    linkage_matrix = np.column_stack(\n",
    "        [estimator.children_, estimator.distances_, counts]\n",
    "    ).astype(float)\n",
    "    \n",
    "    # 시각화에 필요한 배열 리턴\n",
    "    return linkage_matrix"
   ]
  },
  {
   "cell_type": "markdown",
   "metadata": {},
   "source": [
    "#### (4) 함수를 통해 리턴받은 값을 시각화"
   ]
  },
  {
   "cell_type": "code",
   "execution_count": 7,
   "metadata": {},
   "outputs": [
    {
     "data": {
      "image/png": "[encoded data removed]",
      "text/plain": [
       "<Figure size 1500x700 with 1 Axes>"
      ]
     },
     "metadata": {},
     "output_type": "display_data"
    }
   ],
   "source": [
    "data = my_dandrogram_source(estimator)\n",
    "\n",
    "fig = plt.figure(figsize=(15, 7), dpi=100)\n",
    "ax = fig.gca()\n",
    "\n",
    "dendrogram(data, ax=ax, \n",
    "           p=30,\n",
    "           truncate_mode='lastp',\n",
    "           leaf_rotation=0, \n",
    "           leaf_font_size=12, \n",
    "           count_sort='ascending', \n",
    "           distance_sort='ascending',\n",
    "           show_leaf_counts=True)\n",
    "\n",
    "ax.set_title(\"Dendrogram\")\n",
    "\n",
    "plt.show()\n",
    "plt.close()"
   ]
  },
  {
   "cell_type": "code",
   "execution_count": null,
   "metadata": {},
   "outputs": [],
   "source": []
  }
 ],
 "metadata": {
  "kernelspec": {
   "display_name": "Python 3",
   "language": "python",
   "name": "python3"
  },
  "language_info": {
   "codemirror_mode": {
    "name": "ipython",
    "version": 3
   },
   "file_extension": ".py",
   "mimetype": "text/x-python",
   "name": "python",
   "nbconvert_exporter": "python",
   "pygments_lexer": "ipython3",
   "version": "3.11.7"
  }
 },
 "nbformat": 4,
 "nbformat_minor": 2
}
