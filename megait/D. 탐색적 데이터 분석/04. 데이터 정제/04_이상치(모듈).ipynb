{
 "cells": [
  {
   "cell_type": "markdown",
   "metadata": {},
   "source": [
    "# 이상치 모듈 기능 확인\n",
    "\n",
    "## #01. 준비작업\n",
    "\n",
    "### [1] 패키지 참조"
   ]
  },
  {
   "cell_type": "code",
   "execution_count": 1,
   "metadata": {},
   "outputs": [],
   "source": [
    "import sys\n",
    "import os\n",
    "work_path = os.path.abspath(os.path.join(os.getcwd(), \"../..\"))\n",
    "sys.path.append(work_path)\n",
    "\n",
    "from helper.util import *"
   ]
  },
  {
   "cell_type": "markdown",
   "metadata": {},
   "source": [
    "### [2] 데이터 가져오기"
   ]
  },
  {
   "cell_type": "code",
   "execution_count": 2,
   "metadata": {},
   "outputs": [
    {
     "name": "stdout",
     "output_type": "stream",
     "text": [
      "+--------+--------+--------+--------+--------+--------+--------+\n",
      "| 이름   |   학년 | 성별   |   국어 |   영어 |   수학 |   과학 |\n",
      "|--------+--------+--------+--------+--------+--------+--------|\n",
      "| 철수   |      1 | 남자   |     98 |     77 |     88 |     64 |\n",
      "| 영희   |      2 | 여자   |     88 |    120 |     62 |     72 |\n",
      "| 민철   |      1 | 남자   |     92 |     70 |     83 |     79 |\n",
      "| 수현   |      3 | 여자   |     63 |     60 |     31 |     71 |\n",
      "| 호영   |      4 | 남자   |     75 |     50 |     90 |     88 |\n",
      "+--------+--------+--------+--------+--------+--------+--------+\n"
     ]
    }
   ],
   "source": [
    "origin = my_read_excel(\"https://data.hossam.kr/edadata/grade.xlsx\", \n",
    "                    index_col=\"이름\", info=False)\n",
    "my_pretty_table(origin.head())"
   ]
  },
  {
   "cell_type": "markdown",
   "metadata": {},
   "source": [
    "## #02. 데이터 전처리\n",
    "\n",
    "### [1] 명목형 변수에 대한 타입변환"
   ]
  },
  {
   "cell_type": "code",
   "execution_count": 3,
   "metadata": {},
   "outputs": [
    {
     "name": "stdout",
     "output_type": "stream",
     "text": [
      "<class 'pandas.core.frame.DataFrame'>\n",
      "Index: 9 entries, 철수 to 석영\n",
      "Data columns (total 6 columns):\n",
      " #   Column  Non-Null Count  Dtype   \n",
      "---  ------  --------------  -----   \n",
      " 0   학년      9 non-null      category\n",
      " 1   성별      9 non-null      category\n",
      " 2   국어      9 non-null      int64   \n",
      " 3   영어      9 non-null      int64   \n",
      " 4   수학      9 non-null      int64   \n",
      " 5   과학      9 non-null      int64   \n",
      "dtypes: category(2), int64(4)\n",
      "memory usage: 706.0+ bytes\n"
     ]
    }
   ],
   "source": [
    "df = set_category(origin, \"학년\", \"성별\")\n",
    "df.info()"
   ]
  },
  {
   "cell_type": "markdown",
   "metadata": {},
   "source": [
    "## #03. 이상치 경계값 구하기\n",
    "\n",
    "### [1] 전체 필드를 대상으로 수행"
   ]
  },
  {
   "cell_type": "code",
   "execution_count": 4,
   "metadata": {},
   "outputs": [
    {
     "name": "stdout",
     "output_type": "stream",
     "text": [
      "+---------+------+------+------+-------+-------+--------+\n",
      "| FIELD   |   Q1 |   Q2 |   Q3 |   IQR |    UP |   DOWN |\n",
      "|---------+------+------+------+-------+-------+--------|\n",
      "| 국어    |   80 |   88 |   91 |    11 | 107.5 |   63.5 |\n",
      "| 영어    |   70 |   88 |   90 |    20 |   120 |     40 |\n",
      "| 수학    |   79 |   83 |   89 |    10 |   104 |     64 |\n",
      "| 과학    |   72 |   79 |   88 |    16 |   112 |     48 |\n",
      "+---------+------+------+------+-------+-------+--------+\n"
     ]
    }
   ],
   "source": [
    "iq_table = get_outlier_table(df)\n",
    "my_pretty_table(iq_table)"
   ]
  },
  {
   "cell_type": "markdown",
   "metadata": {},
   "source": [
    "### [2] 특정 필드를 대상으로 수행"
   ]
  },
  {
   "cell_type": "code",
   "execution_count": 5,
   "metadata": {},
   "outputs": [
    {
     "name": "stdout",
     "output_type": "stream",
     "text": [
      "+---------+------+------+------+-------+-------+--------+\n",
      "| FIELD   |   Q1 |   Q2 |   Q3 |   IQR |    UP |   DOWN |\n",
      "|---------+------+------+------+-------+-------+--------|\n",
      "| 국어    |   80 |   88 |   91 |    11 | 107.5 |   63.5 |\n",
      "| 영어    |   70 |   88 |   90 |    20 |   120 |     40 |\n",
      "+---------+------+------+------+-------+-------+--------+\n"
     ]
    }
   ],
   "source": [
    "iq_table = get_outlier_table(df, \"국어\", \"영어\")\n",
    "my_pretty_table(iq_table)"
   ]
  },
  {
   "cell_type": "markdown",
   "metadata": {},
   "source": [
    "## #04. 이상치 정제\n",
    "\n",
    "### [1] 이상치 경계값으로 대체\n",
    "\n",
    "특정 필드에 대해서만 처리할 경우 필드 이름을 파라미터로 전달한다.\n",
    "\n",
    "`replace_outliner(df, '국어','영어')`"
   ]
  },
  {
   "cell_type": "code",
   "execution_count": 6,
   "metadata": {},
   "outputs": [
    {
     "name": "stdout",
     "output_type": "stream",
     "text": [
      "+--------+--------+--------+--------+--------+--------+--------+\n",
      "| 이름   |   학년 | 성별   |   국어 |   영어 |   수학 |   과학 |\n",
      "|--------+--------+--------+--------+--------+--------+--------|\n",
      "| 철수   |      1 | 남자   |     98 |     77 |     88 |     64 |\n",
      "| 영희   |      2 | 여자   |     88 |    120 |     64 |     72 |\n",
      "| 민철   |      1 | 남자   |     92 |     70 |     83 |     79 |\n",
      "| 수현   |      3 | 여자   |   63.5 |     60 |     64 |     71 |\n",
      "| 호영   |      4 | 남자   |     75 |     50 |     90 |     88 |\n",
      "| 영호   |      4 | 남자   |     80 |     88 |     91 |     72 |\n",
      "| 용식   |      2 | 남자   |     82 |     88 |     79 |     90 |\n",
      "| 나영   |      1 | 여자   |     90 |     92 |     81 |     95 |\n",
      "| 석영   |      1 | 남자   |     91 |     90 |     89 |     80 |\n",
      "+--------+--------+--------+--------+--------+--------+--------+\n"
     ]
    }
   ],
   "source": [
    "df2 = replace_outliner(df)\n",
    "my_pretty_table(df2)"
   ]
  },
  {
   "cell_type": "markdown",
   "metadata": {},
   "source": [
    "### [2] 이상치를 결측치로 대체\n",
    "\n",
    "특정 필드에 대해서만 처리할 경우 필드 이름을 파라미터로 전달한다.\n",
    "\n",
    "`replace_outliner(df, '국어','영어')`"
   ]
  },
  {
   "cell_type": "code",
   "execution_count": 7,
   "metadata": {},
   "outputs": [
    {
     "name": "stdout",
     "output_type": "stream",
     "text": [
      "+--------+--------+--------+--------+--------+--------+--------+\n",
      "| 이름   |   학년 | 성별   |   국어 |   영어 |   수학 |   과학 |\n",
      "|--------+--------+--------+--------+--------+--------+--------|\n",
      "| 철수   |      1 | 남자   |     98 |     77 |     88 |     64 |\n",
      "| 영희   |      2 | 여자   |     88 |    120 |    nan |     72 |\n",
      "| 민철   |      1 | 남자   |     92 |     70 |     83 |     79 |\n",
      "| 수현   |      3 | 여자   |    nan |     60 |    nan |     71 |\n",
      "| 호영   |      4 | 남자   |     75 |     50 |     90 |     88 |\n",
      "| 영호   |      4 | 남자   |     80 |     88 |     91 |     72 |\n",
      "| 용식   |      2 | 남자   |     82 |     88 |     79 |     90 |\n",
      "| 나영   |      1 | 여자   |     90 |     92 |     81 |     95 |\n",
      "| 석영   |      1 | 남자   |     91 |     90 |     89 |     80 |\n",
      "+--------+--------+--------+--------+--------+--------+--------+\n"
     ]
    }
   ],
   "source": [
    "df3 = replace_outliner_to_nan(df)\n",
    "my_pretty_table(df3)"
   ]
  },
  {
   "cell_type": "markdown",
   "metadata": {},
   "source": [
    "### [3] 이상치를 평균값으로 대체\n",
    "\n",
    "특정 필드에 대해서만 처리할 경우 필드 이름을 파라미터로 전달한다.\n",
    "\n",
    "`replace_outliner(df, '국어','영어')`"
   ]
  },
  {
   "cell_type": "code",
   "execution_count": 9,
   "metadata": {},
   "outputs": [
    {
     "name": "stdout",
     "output_type": "stream",
     "text": [
      "+--------+--------+--------+--------+--------+---------+--------+\n",
      "| 이름   |   학년 | 성별   |   국어 |   영어 |    수학 |   과학 |\n",
      "|--------+--------+--------+--------+--------+---------+--------|\n",
      "| 철수   |      1 | 남자   |     98 |     77 |      88 |     64 |\n",
      "| 영희   |      2 | 여자   |     88 |    120 | 85.8571 |     72 |\n",
      "| 민철   |      1 | 남자   |     92 |     70 |      83 |     79 |\n",
      "| 수현   |      3 | 여자   |     87 |     60 | 85.8571 |     71 |\n",
      "| 호영   |      4 | 남자   |     75 |     50 |      90 |     88 |\n",
      "| 영호   |      4 | 남자   |     80 |     88 |      91 |     72 |\n",
      "| 용식   |      2 | 남자   |     82 |     88 |      79 |     90 |\n",
      "| 나영   |      1 | 여자   |     90 |     92 |      81 |     95 |\n",
      "| 석영   |      1 | 남자   |     91 |     90 |      89 |     80 |\n",
      "+--------+--------+--------+--------+--------+---------+--------+\n"
     ]
    }
   ],
   "source": [
    "df4 = replace_outliner_to_mean(df)\n",
    "my_pretty_table(df4)"
   ]
  },
  {
   "cell_type": "code",
   "execution_count": null,
   "metadata": {},
   "outputs": [],
   "source": []
  }
 ],
 "metadata": {
  "kernelspec": {
   "display_name": "Python 3",
   "language": "python",
   "name": "python3"
  },
  "language_info": {
   "codemirror_mode": {
    "name": "ipython",
    "version": 3
   },
   "file_extension": ".py",
   "mimetype": "text/x-python",
   "name": "python",
   "nbconvert_exporter": "python",
   "pygments_lexer": "ipython3",
   "version": "3.11.7"
  }
 },
 "nbformat": 4,
 "nbformat_minor": 2
}
