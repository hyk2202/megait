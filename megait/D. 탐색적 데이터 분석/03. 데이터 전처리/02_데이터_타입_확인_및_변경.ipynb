{
 "cells": [
  {
   "cell_type": "markdown",
   "metadata": {},
   "source": [
    "# 데이터 타입 확인 및 변경\n",
    "\n",
    "## #01. 준비과정\n",
    "\n",
    "### [1] 패키지 참조"
   ]
  },
  {
   "cell_type": "code",
   "execution_count": 14,
   "metadata": {},
   "outputs": [],
   "source": [
    "from pandas import read_excel       # 엑셀 데이터 가져오기\n",
    "from pandas import CategoricalDtype # 명목형 변수로 변환하는 기능\n"
   ]
  },
  {
   "cell_type": "markdown",
   "metadata": {},
   "source": [
    "### [2] 데이터 가져오기"
   ]
  },
  {
   "cell_type": "code",
   "execution_count": 15,
   "metadata": {},
   "outputs": [
    {
     "data": {
      "text/html": [
       "<div>\n",
       "<style scoped>\n",
       "    .dataframe tbody tr th:only-of-type {\n",
       "        vertical-align: middle;\n",
       "    }\n",
       "\n",
       "    .dataframe tbody tr th {\n",
       "        vertical-align: top;\n",
       "    }\n",
       "\n",
       "    .dataframe thead th {\n",
       "        text-align: right;\n",
       "    }\n",
       "</style>\n",
       "<table border=\"1\" class=\"dataframe\">\n",
       "  <thead>\n",
       "    <tr style=\"text-align: right;\">\n",
       "      <th></th>\n",
       "      <th>학년</th>\n",
       "      <th>성별</th>\n",
       "      <th>국어</th>\n",
       "      <th>영어</th>\n",
       "      <th>수학</th>\n",
       "      <th>과학</th>\n",
       "    </tr>\n",
       "    <tr>\n",
       "      <th>이름</th>\n",
       "      <th></th>\n",
       "      <th></th>\n",
       "      <th></th>\n",
       "      <th></th>\n",
       "      <th></th>\n",
       "      <th></th>\n",
       "    </tr>\n",
       "  </thead>\n",
       "  <tbody>\n",
       "    <tr>\n",
       "      <th>철수</th>\n",
       "      <td>1</td>\n",
       "      <td>남자</td>\n",
       "      <td>98</td>\n",
       "      <td>77</td>\n",
       "      <td>88</td>\n",
       "      <td>64</td>\n",
       "    </tr>\n",
       "    <tr>\n",
       "      <th>영희</th>\n",
       "      <td>2</td>\n",
       "      <td>여자</td>\n",
       "      <td>88</td>\n",
       "      <td>120</td>\n",
       "      <td>62</td>\n",
       "      <td>72</td>\n",
       "    </tr>\n",
       "    <tr>\n",
       "      <th>민철</th>\n",
       "      <td>1</td>\n",
       "      <td>남자</td>\n",
       "      <td>92</td>\n",
       "      <td>70</td>\n",
       "      <td>83</td>\n",
       "      <td>79</td>\n",
       "    </tr>\n",
       "    <tr>\n",
       "      <th>수현</th>\n",
       "      <td>3</td>\n",
       "      <td>여자</td>\n",
       "      <td>63</td>\n",
       "      <td>60</td>\n",
       "      <td>31</td>\n",
       "      <td>71</td>\n",
       "    </tr>\n",
       "    <tr>\n",
       "      <th>호영</th>\n",
       "      <td>4</td>\n",
       "      <td>남자</td>\n",
       "      <td>75</td>\n",
       "      <td>50</td>\n",
       "      <td>90</td>\n",
       "      <td>88</td>\n",
       "    </tr>\n",
       "    <tr>\n",
       "      <th>영호</th>\n",
       "      <td>4</td>\n",
       "      <td>남자</td>\n",
       "      <td>80</td>\n",
       "      <td>88</td>\n",
       "      <td>91</td>\n",
       "      <td>72</td>\n",
       "    </tr>\n",
       "    <tr>\n",
       "      <th>용식</th>\n",
       "      <td>2</td>\n",
       "      <td>남자</td>\n",
       "      <td>82</td>\n",
       "      <td>88</td>\n",
       "      <td>79</td>\n",
       "      <td>90</td>\n",
       "    </tr>\n",
       "    <tr>\n",
       "      <th>나영</th>\n",
       "      <td>1</td>\n",
       "      <td>여자</td>\n",
       "      <td>90</td>\n",
       "      <td>92</td>\n",
       "      <td>81</td>\n",
       "      <td>95</td>\n",
       "    </tr>\n",
       "    <tr>\n",
       "      <th>석영</th>\n",
       "      <td>1</td>\n",
       "      <td>남자</td>\n",
       "      <td>91</td>\n",
       "      <td>90</td>\n",
       "      <td>89</td>\n",
       "      <td>80</td>\n",
       "    </tr>\n",
       "  </tbody>\n",
       "</table>\n",
       "</div>"
      ],
      "text/plain": [
       "    학년  성별  국어   영어  수학  과학\n",
       "이름                         \n",
       "철수   1  남자  98   77  88  64\n",
       "영희   2  여자  88  120  62  72\n",
       "민철   1  남자  92   70  83  79\n",
       "수현   3  여자  63   60  31  71\n",
       "호영   4  남자  75   50  90  88\n",
       "영호   4  남자  80   88  91  72\n",
       "용식   2  남자  82   88  79  90\n",
       "나영   1  여자  90   92  81  95\n",
       "석영   1  남자  91   90  89  80"
      ]
     },
     "execution_count": 15,
     "metadata": {},
     "output_type": "execute_result"
    }
   ],
   "source": [
    "origin = read_excel(\"https://data.hossam.kr/pydata/grade.xlsx\", index_col=\"이름\")\n",
    "origin"
   ]
  },
  {
   "cell_type": "markdown",
   "metadata": {},
   "source": [
    "## #02. 데이터 확인하기\n",
    "\n",
    "### [1] 데이터의 크기"
   ]
  },
  {
   "cell_type": "code",
   "execution_count": 16,
   "metadata": {},
   "outputs": [
    {
     "name": "stdout",
     "output_type": "stream",
     "text": [
      "9행,6열의 2차원 데이터\n"
     ]
    }
   ],
   "source": [
    "rows, cols = origin.shape\n",
    "print(f\"{rows}행,{cols}열의 {origin.ndim}차원 데이터\")"
   ]
  },
  {
   "cell_type": "markdown",
   "metadata": {},
   "source": [
    "### [2] 각 변수의 데이터 타입 확인"
   ]
  },
  {
   "cell_type": "code",
   "execution_count": 17,
   "metadata": {},
   "outputs": [
    {
     "data": {
      "text/plain": [
       "학년     int64\n",
       "성별    object\n",
       "국어     int64\n",
       "영어     int64\n",
       "수학     int64\n",
       "과학     int64\n",
       "dtype: object"
      ]
     },
     "execution_count": 17,
     "metadata": {},
     "output_type": "execute_result"
    }
   ],
   "source": [
    "origin.dtypes"
   ]
  },
  {
   "cell_type": "markdown",
   "metadata": {},
   "source": [
    "## #03. 데이터 타입 변경\n",
    "\n",
    "### [1] 일괄 변경 후 새로운 데이터 프레임 리턴받기\n",
    "\n",
    "타입 변환을 수행할 변수만 `이름:타입` 형식의 딕셔너리로 구성한다.\n",
    "\n",
    "결과가 적용된 복사본이 리턴된다.\n",
    "\n",
    "#### (1) 타입 변환 적용"
   ]
  },
  {
   "cell_type": "code",
   "execution_count": 18,
   "metadata": {},
   "outputs": [
    {
     "data": {
      "text/html": [
       "<div>\n",
       "<style scoped>\n",
       "    .dataframe tbody tr th:only-of-type {\n",
       "        vertical-align: middle;\n",
       "    }\n",
       "\n",
       "    .dataframe tbody tr th {\n",
       "        vertical-align: top;\n",
       "    }\n",
       "\n",
       "    .dataframe thead th {\n",
       "        text-align: right;\n",
       "    }\n",
       "</style>\n",
       "<table border=\"1\" class=\"dataframe\">\n",
       "  <thead>\n",
       "    <tr style=\"text-align: right;\">\n",
       "      <th></th>\n",
       "      <th>학년</th>\n",
       "      <th>성별</th>\n",
       "      <th>국어</th>\n",
       "      <th>영어</th>\n",
       "      <th>수학</th>\n",
       "      <th>과학</th>\n",
       "    </tr>\n",
       "    <tr>\n",
       "      <th>이름</th>\n",
       "      <th></th>\n",
       "      <th></th>\n",
       "      <th></th>\n",
       "      <th></th>\n",
       "      <th></th>\n",
       "      <th></th>\n",
       "    </tr>\n",
       "  </thead>\n",
       "  <tbody>\n",
       "    <tr>\n",
       "      <th>철수</th>\n",
       "      <td>1</td>\n",
       "      <td>남자</td>\n",
       "      <td>98.0</td>\n",
       "      <td>77.0</td>\n",
       "      <td>88</td>\n",
       "      <td>True</td>\n",
       "    </tr>\n",
       "    <tr>\n",
       "      <th>영희</th>\n",
       "      <td>2</td>\n",
       "      <td>여자</td>\n",
       "      <td>88.0</td>\n",
       "      <td>120.0</td>\n",
       "      <td>62</td>\n",
       "      <td>True</td>\n",
       "    </tr>\n",
       "    <tr>\n",
       "      <th>민철</th>\n",
       "      <td>1</td>\n",
       "      <td>남자</td>\n",
       "      <td>92.0</td>\n",
       "      <td>70.0</td>\n",
       "      <td>83</td>\n",
       "      <td>True</td>\n",
       "    </tr>\n",
       "    <tr>\n",
       "      <th>수현</th>\n",
       "      <td>3</td>\n",
       "      <td>여자</td>\n",
       "      <td>63.0</td>\n",
       "      <td>60.0</td>\n",
       "      <td>31</td>\n",
       "      <td>True</td>\n",
       "    </tr>\n",
       "    <tr>\n",
       "      <th>호영</th>\n",
       "      <td>4</td>\n",
       "      <td>남자</td>\n",
       "      <td>75.0</td>\n",
       "      <td>50.0</td>\n",
       "      <td>90</td>\n",
       "      <td>True</td>\n",
       "    </tr>\n",
       "    <tr>\n",
       "      <th>영호</th>\n",
       "      <td>4</td>\n",
       "      <td>남자</td>\n",
       "      <td>80.0</td>\n",
       "      <td>88.0</td>\n",
       "      <td>91</td>\n",
       "      <td>True</td>\n",
       "    </tr>\n",
       "    <tr>\n",
       "      <th>용식</th>\n",
       "      <td>2</td>\n",
       "      <td>남자</td>\n",
       "      <td>82.0</td>\n",
       "      <td>88.0</td>\n",
       "      <td>79</td>\n",
       "      <td>True</td>\n",
       "    </tr>\n",
       "    <tr>\n",
       "      <th>나영</th>\n",
       "      <td>1</td>\n",
       "      <td>여자</td>\n",
       "      <td>90.0</td>\n",
       "      <td>92.0</td>\n",
       "      <td>81</td>\n",
       "      <td>True</td>\n",
       "    </tr>\n",
       "    <tr>\n",
       "      <th>석영</th>\n",
       "      <td>1</td>\n",
       "      <td>남자</td>\n",
       "      <td>91.0</td>\n",
       "      <td>90.0</td>\n",
       "      <td>89</td>\n",
       "      <td>True</td>\n",
       "    </tr>\n",
       "  </tbody>\n",
       "</table>\n",
       "</div>"
      ],
      "text/plain": [
       "    학년  성별    국어     영어  수학    과학\n",
       "이름                               \n",
       "철수   1  남자  98.0   77.0  88  True\n",
       "영희   2  여자  88.0  120.0  62  True\n",
       "민철   1  남자  92.0   70.0  83  True\n",
       "수현   3  여자  63.0   60.0  31  True\n",
       "호영   4  남자  75.0   50.0  90  True\n",
       "영호   4  남자  80.0   88.0  91  True\n",
       "용식   2  남자  82.0   88.0  79  True\n",
       "나영   1  여자  90.0   92.0  81  True\n",
       "석영   1  남자  91.0   90.0  89  True"
      ]
     },
     "execution_count": 18,
     "metadata": {},
     "output_type": "execute_result"
    }
   ],
   "source": [
    "df = origin.astype({'국어': 'float', '영어': 'float', '수학': 'str', '과학': 'bool'})\n",
    "df"
   ]
  },
  {
   "cell_type": "markdown",
   "metadata": {},
   "source": [
    "#### (2) 리턴된 데이터프레임의 타입 확인"
   ]
  },
  {
   "cell_type": "code",
   "execution_count": 19,
   "metadata": {},
   "outputs": [
    {
     "data": {
      "text/plain": [
       "학년      int64\n",
       "성별     object\n",
       "국어    float64\n",
       "영어    float64\n",
       "수학     object\n",
       "과학       bool\n",
       "dtype: object"
      ]
     },
     "execution_count": 19,
     "metadata": {},
     "output_type": "execute_result"
    }
   ],
   "source": [
    "df.dtypes"
   ]
  },
  {
   "cell_type": "markdown",
   "metadata": {},
   "source": [
    "#### (3) 원본 확인\n",
    "\n",
    "`astype()`함수는 결과가 적용된 복사본을 리턴한다. (원본은 변하지 않음)\n"
   ]
  },
  {
   "cell_type": "code",
   "execution_count": 20,
   "metadata": {},
   "outputs": [
    {
     "data": {
      "text/plain": [
       "학년     int64\n",
       "성별    object\n",
       "국어     int64\n",
       "영어     int64\n",
       "수학     int64\n",
       "과학     int64\n",
       "dtype: object"
      ]
     },
     "execution_count": 20,
     "metadata": {},
     "output_type": "execute_result"
    }
   ],
   "source": [
    "origin.dtypes"
   ]
  },
  {
   "cell_type": "markdown",
   "metadata": {},
   "source": [
    "### [2] 개별 컬럼단위로 수정하여 원본에 직접 적용하기\n",
    "\n",
    "`int`, `float`, `str`, `bool`\n",
    "\n",
    "#### (1) 원본을 유지하기 위해 데이터프레임의 복사본 생성"
   ]
  },
  {
   "cell_type": "code",
   "execution_count": 21,
   "metadata": {},
   "outputs": [
    {
     "data": {
      "text/html": [
       "<div>\n",
       "<style scoped>\n",
       "    .dataframe tbody tr th:only-of-type {\n",
       "        vertical-align: middle;\n",
       "    }\n",
       "\n",
       "    .dataframe tbody tr th {\n",
       "        vertical-align: top;\n",
       "    }\n",
       "\n",
       "    .dataframe thead th {\n",
       "        text-align: right;\n",
       "    }\n",
       "</style>\n",
       "<table border=\"1\" class=\"dataframe\">\n",
       "  <thead>\n",
       "    <tr style=\"text-align: right;\">\n",
       "      <th></th>\n",
       "      <th>학년</th>\n",
       "      <th>성별</th>\n",
       "      <th>국어</th>\n",
       "      <th>영어</th>\n",
       "      <th>수학</th>\n",
       "      <th>과학</th>\n",
       "    </tr>\n",
       "    <tr>\n",
       "      <th>이름</th>\n",
       "      <th></th>\n",
       "      <th></th>\n",
       "      <th></th>\n",
       "      <th></th>\n",
       "      <th></th>\n",
       "      <th></th>\n",
       "    </tr>\n",
       "  </thead>\n",
       "  <tbody>\n",
       "    <tr>\n",
       "      <th>철수</th>\n",
       "      <td>1</td>\n",
       "      <td>남자</td>\n",
       "      <td>98</td>\n",
       "      <td>77</td>\n",
       "      <td>88</td>\n",
       "      <td>64</td>\n",
       "    </tr>\n",
       "    <tr>\n",
       "      <th>영희</th>\n",
       "      <td>2</td>\n",
       "      <td>여자</td>\n",
       "      <td>88</td>\n",
       "      <td>120</td>\n",
       "      <td>62</td>\n",
       "      <td>72</td>\n",
       "    </tr>\n",
       "    <tr>\n",
       "      <th>민철</th>\n",
       "      <td>1</td>\n",
       "      <td>남자</td>\n",
       "      <td>92</td>\n",
       "      <td>70</td>\n",
       "      <td>83</td>\n",
       "      <td>79</td>\n",
       "    </tr>\n",
       "    <tr>\n",
       "      <th>수현</th>\n",
       "      <td>3</td>\n",
       "      <td>여자</td>\n",
       "      <td>63</td>\n",
       "      <td>60</td>\n",
       "      <td>31</td>\n",
       "      <td>71</td>\n",
       "    </tr>\n",
       "    <tr>\n",
       "      <th>호영</th>\n",
       "      <td>4</td>\n",
       "      <td>남자</td>\n",
       "      <td>75</td>\n",
       "      <td>50</td>\n",
       "      <td>90</td>\n",
       "      <td>88</td>\n",
       "    </tr>\n",
       "    <tr>\n",
       "      <th>영호</th>\n",
       "      <td>4</td>\n",
       "      <td>남자</td>\n",
       "      <td>80</td>\n",
       "      <td>88</td>\n",
       "      <td>91</td>\n",
       "      <td>72</td>\n",
       "    </tr>\n",
       "    <tr>\n",
       "      <th>용식</th>\n",
       "      <td>2</td>\n",
       "      <td>남자</td>\n",
       "      <td>82</td>\n",
       "      <td>88</td>\n",
       "      <td>79</td>\n",
       "      <td>90</td>\n",
       "    </tr>\n",
       "    <tr>\n",
       "      <th>나영</th>\n",
       "      <td>1</td>\n",
       "      <td>여자</td>\n",
       "      <td>90</td>\n",
       "      <td>92</td>\n",
       "      <td>81</td>\n",
       "      <td>95</td>\n",
       "    </tr>\n",
       "    <tr>\n",
       "      <th>석영</th>\n",
       "      <td>1</td>\n",
       "      <td>남자</td>\n",
       "      <td>91</td>\n",
       "      <td>90</td>\n",
       "      <td>89</td>\n",
       "      <td>80</td>\n",
       "    </tr>\n",
       "  </tbody>\n",
       "</table>\n",
       "</div>"
      ],
      "text/plain": [
       "    학년  성별  국어   영어  수학  과학\n",
       "이름                         \n",
       "철수   1  남자  98   77  88  64\n",
       "영희   2  여자  88  120  62  72\n",
       "민철   1  남자  92   70  83  79\n",
       "수현   3  여자  63   60  31  71\n",
       "호영   4  남자  75   50  90  88\n",
       "영호   4  남자  80   88  91  72\n",
       "용식   2  남자  82   88  79  90\n",
       "나영   1  여자  90   92  81  95\n",
       "석영   1  남자  91   90  89  80"
      ]
     },
     "execution_count": 21,
     "metadata": {},
     "output_type": "execute_result"
    }
   ],
   "source": [
    "copy = origin.copy()\n",
    "copy"
   ]
  },
  {
   "cell_type": "markdown",
   "metadata": {},
   "source": [
    "#### (2) 복사본에 대한 데이터 타입 변환"
   ]
  },
  {
   "cell_type": "code",
   "execution_count": 22,
   "metadata": {},
   "outputs": [
    {
     "data": {
      "text/plain": [
       "학년      int64\n",
       "성별       bool\n",
       "국어      int64\n",
       "영어      int64\n",
       "수학    float64\n",
       "과학      int64\n",
       "dtype: object"
      ]
     },
     "execution_count": 22,
     "metadata": {},
     "output_type": "execute_result"
    }
   ],
   "source": [
    "copy[\"수학\"] = copy[\"수학\"].astype('float')\n",
    "copy[\"성별\"] = copy[\"성별\"].astype('bool')\n",
    "copy.dtypes"
   ]
  },
  {
   "cell_type": "markdown",
   "metadata": {},
   "source": [
    "### [3] 범주형 데이터 만들기\n",
    "\n",
    "데이터프레임은 범주형 데이터에 대해 `category`라는 데이터 타입을 별도로 적용할 수 있다.\n",
    "\n",
    "#### (1) 데이터프레임 전체에 적용후 복사본 리턴받기"
   ]
  },
  {
   "cell_type": "code",
   "execution_count": 23,
   "metadata": {},
   "outputs": [
    {
     "data": {
      "text/plain": [
       "학년    category\n",
       "성별    category\n",
       "국어       int64\n",
       "영어       int64\n",
       "수학       int64\n",
       "과학       int64\n",
       "dtype: object"
      ]
     },
     "execution_count": 23,
     "metadata": {},
     "output_type": "execute_result"
    }
   ],
   "source": [
    "df = origin.astype({'학년': 'category', '성별': 'category'}) # 범주형 데이터인 category는 순서가 없는 자료형이다.(명목척도)\n",
    "df.dtypes"
   ]
  },
  {
   "cell_type": "markdown",
   "metadata": {},
   "source": [
    "#### (2) 컬럼 단위로 적용하여 원본에 반영하기"
   ]
  },
  {
   "cell_type": "code",
   "execution_count": 24,
   "metadata": {},
   "outputs": [
    {
     "data": {
      "text/plain": [
       "학년    category\n",
       "성별    category\n",
       "국어       int64\n",
       "영어       int64\n",
       "수학       int64\n",
       "과학       int64\n",
       "dtype: object"
      ]
     },
     "execution_count": 24,
     "metadata": {},
     "output_type": "execute_result"
    }
   ],
   "source": [
    "copy = origin.copy()\n",
    "copy['학년'] = copy['학년'].astype('category')\n",
    "copy['성별'] = copy['성별'].astype('category')\n",
    "copy.dtypes"
   ]
  },
  {
   "cell_type": "markdown",
   "metadata": {},
   "source": [
    "### [4] 서열척도로 변경하기(순서 있는 범주형)\n",
    "\n",
    "#### (1) 데이터프레임 전체에 적용후 복사본 반환받기\n",
    "\n",
    "`CategoricalDtype` 클래스의 객체를 생성하여 범주의 특성을 설정한다."
   ]
  },
  {
   "cell_type": "code",
   "execution_count": 25,
   "metadata": {},
   "outputs": [
    {
     "data": {
      "text/plain": [
       "학년    category\n",
       "성별      object\n",
       "국어       int64\n",
       "영어       int64\n",
       "수학       int64\n",
       "과학       int64\n",
       "dtype: object"
      ]
     },
     "execution_count": 25,
     "metadata": {},
     "output_type": "execute_result"
    }
   ],
   "source": [
    "df = origin.astype({\n",
    "    \"학년\": CategoricalDtype(categories=[1, 2, 3, 4], ordered=True)}) # categories에 입력한 순서대로 순서가 성립한다.\n",
    "df.dtypes"
   ]
  },
  {
   "cell_type": "markdown",
   "metadata": {},
   "source": [
    "#### (2) 컬럼 단위로 적용하여 원본에 직접 적용하기"
   ]
  },
  {
   "cell_type": "code",
   "execution_count": 26,
   "metadata": {},
   "outputs": [
    {
     "data": {
      "text/plain": [
       "학년    category\n",
       "성별      object\n",
       "국어       int64\n",
       "영어       int64\n",
       "수학       int64\n",
       "과학       int64\n",
       "dtype: object"
      ]
     },
     "execution_count": 26,
     "metadata": {},
     "output_type": "execute_result"
    }
   ],
   "source": [
    "copy = origin.copy()\n",
    "copy['학년'] = copy['학년'].astype(\n",
    "        CategoricalDtype(categories=[1, 2, 3, 4], ordered=True))\n",
    "copy.dtypes"
   ]
  }
 ],
 "metadata": {
  "kernelspec": {
   "display_name": "Python 3",
   "language": "python",
   "name": "python3"
  },
  "language_info": {
   "codemirror_mode": {
    "name": "ipython",
    "version": 3
   },
   "file_extension": ".py",
   "mimetype": "text/x-python",
   "name": "python",
   "nbconvert_exporter": "python",
   "pygments_lexer": "ipython3",
   "version": "3.12.0"
  }
 },
 "nbformat": 4,
 "nbformat_minor": 2
}
