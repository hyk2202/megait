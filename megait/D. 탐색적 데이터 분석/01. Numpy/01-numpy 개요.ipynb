{
 "cells": [
  {
   "cell_type": "markdown",
   "metadata": {},
   "source": [
    "# Numpy 개요\n",
    "\n",
    "## #01. Numpy 소개\n",
    "\n",
    "> Numeric Python\n",
    "\n",
    "- 다차원 배열을 쉽게 처리하고 효율적으로 사용할 수 있도록 지원하는 패키지 // 배열 : 리스트의 원소\n",
    "- 데이터 구조 외에도 수치 계산을 위해 효율적으로 구현된 기능을 제공\n",
    "- 데이터 분석에서 Pandas와 함께 자주 사용하는 도구\n",
    "- 실제로 데이터 분석을 수행하기 위한 전제 조건은 컴퓨터가 이해할 수 있도록 데이터를 숫자 형식으로 변환하는 것임\n",
    "- 파이썬의 list 자료형의 경우 데이터의 크기가 커질수록 저장 및 가공에 효율성을 보장하지 못함\n",
    "- 이러한 단점을 보완하기 위한 패키지이기 때문에 Data Science에서 핵심적인 도구로 인식되고 있음\n",
    "\n",
    "처리해야하는 데이터의 건수의 단위가 몇십만이기 때문에 시간복잡도나 공간복잡도는 고려하지 않음.\n"
   ]
  },
  {
   "cell_type": "markdown",
   "metadata": {},
   "source": [
    "## #02. 준비과정\n",
    "\n",
    "### [1] 패키지 참조"
   ]
  },
  {
   "cell_type": "code",
   "execution_count": 1,
   "metadata": {},
   "outputs": [],
   "source": [
    "import numpy as np"
   ]
  },
  {
   "cell_type": "markdown",
   "metadata": {},
   "source": [
    "## #03. Numpy가 제공하는 데이터 타입\n",
    "\n",
    "**배열(array)** 이라는 데이터 타입을 제공한다.\n",
    "\n",
    "- list 타입 : 서로 다른 타입의 원소를 허용한다. `[1, 'hello', True]`\n",
    "- ndarray(numpy배열, 배열) 타입 : 반드시 모든 원소의 데이터 타입이 동일해야 한다.\n",
    "\n",
    "### [1] numpy 배열 생성과 기본 활용\n",
    "\n",
    "기본적으로 리스트와 기본 특성이 동일하다.\n",
    "\n",
    "- 인덱스 번호와 길이의 존재\n",
    "- 반복문을 통한 원소의 탐색\n",
    "- 인덱싱, 슬라이싱\n",
    "\n",
    "#### (1) 리스트를 통한 1차원(=1행으로 구성) 배열 만들기"
   ]
  },
  {
   "cell_type": "code",
   "execution_count": 2,
   "metadata": {},
   "outputs": [
    {
     "name": "stdout",
     "output_type": "stream",
     "text": [
      "<class 'numpy.ndarray'>\n"
     ]
    },
    {
     "data": {
      "text/plain": [
       "array([1, 3, 5, 7, 9])"
      ]
     },
     "execution_count": 2,
     "metadata": {},
     "output_type": "execute_result"
    }
   ],
   "source": [
    "arr = np.array([1,3,5,7,9])\n",
    "print(type(arr))\n",
    "arr"
   ]
  },
  {
   "cell_type": "markdown",
   "metadata": {},
   "source": [
    "#### (2) 배열의 크기\n",
    "\n",
    "기본 특성은 list와 동일"
   ]
  },
  {
   "cell_type": "code",
   "execution_count": 3,
   "metadata": {},
   "outputs": [
    {
     "name": "stdout",
     "output_type": "stream",
     "text": [
      "배열의 원소는 5개 입니다.\n"
     ]
    }
   ],
   "source": [
    "size = len(arr)\n",
    "\n",
    "print(f\"배열의 원소는 {size}개 입니다.\")"
   ]
  },
  {
   "cell_type": "markdown",
   "metadata": {},
   "source": [
    "#### (3) 배열의 원소\n",
    "\n",
    "리스트와 마찬가지로 인덱스 번호가 존재"
   ]
  },
  {
   "cell_type": "code",
   "execution_count": 17,
   "metadata": {},
   "outputs": [
    {
     "name": "stdout",
     "output_type": "stream",
     "text": [
      "1\n",
      "3\n",
      "5\n"
     ]
    }
   ],
   "source": [
    "print(arr[0])\n",
    "print(arr[1])\n",
    "print(arr[2])"
   ]
  },
  {
   "cell_type": "markdown",
   "metadata": {},
   "source": [
    "#### (4) 반복문을 통한 활용\n",
    "\n",
    "리스트와 동일하게 사용할 수 있다."
   ]
  },
  {
   "cell_type": "code",
   "execution_count": 5,
   "metadata": {},
   "outputs": [
    {
     "name": "stdout",
     "output_type": "stream",
     "text": [
      "0번째 원소 >> 1\n",
      "1번째 원소 >> 3\n",
      "2번째 원소 >> 5\n",
      "3번째 원소 >> 7\n",
      "4번째 원소 >> 9\n"
     ]
    }
   ],
   "source": [
    "for i,v in enumerate(arr):\n",
    "    print(f'{i}번째 원소 >> {v}')"
   ]
  },
  {
   "cell_type": "markdown",
   "metadata": {},
   "source": [
    "### [2] Numpy 배열의 특성\n",
    "\n",
    "#### (1) list 타입의 경우\n",
    "\n",
    "서로 다른 타입의 원소를 허용"
   ]
  },
  {
   "cell_type": "code",
   "execution_count": 6,
   "metadata": {},
   "outputs": [
    {
     "data": {
      "text/plain": [
       "[100, 3.14, True]"
      ]
     },
     "execution_count": 6,
     "metadata": {},
     "output_type": "execute_result"
    }
   ],
   "source": [
    "arr2 = [100, 3.14, True]\n",
    "arr2"
   ]
  },
  {
   "cell_type": "markdown",
   "metadata": {},
   "source": [
    "#### (2) Numpy 배열의 경우\n",
    "\n",
    "##### 가장 포괄적인 데이터 타입으로 변환\n",
    "\n",
    "`arr2` 를 배열로 변환할 경우 원소의 타입이 서로 다른것을 허용하지 않기 때문에 가장 포괄적인 형태의 자료형으로 통일함\n",
    "\n",
    "> 여기서는 실수의 범위가(float의 범위가) 더 크므로 모든 원소가 실수형으로 변환됨"
   ]
  },
  {
   "cell_type": "code",
   "execution_count": 7,
   "metadata": {},
   "outputs": [
    {
     "data": {
      "text/plain": [
       "array([100.  ,   3.14,   1.  ])"
      ]
     },
     "execution_count": 7,
     "metadata": {},
     "output_type": "execute_result"
    }
   ],
   "source": [
    "arr3 = np.array(arr2)\n",
    "arr3 # 100. => 100.0 에서 0을 생략한 표현형태"
   ]
  },
  {
   "cell_type": "markdown",
   "metadata": {},
   "source": [
    "##### 강제 행 변환\n",
    "\n",
    "`np.array()`메서드에 `dtype` 파라미터로 특정 타입을 강제 지정할 수 있다.\n",
    "\n",
    "실수형 값을 정수로 변환하는 과정에서 소수점 이하는 모두 버린다."
   ]
  },
  {
   "cell_type": "code",
   "execution_count": 8,
   "metadata": {},
   "outputs": [
    {
     "data": {
      "text/plain": [
       "array([100,   3,   1])"
      ]
     },
     "execution_count": 8,
     "metadata": {},
     "output_type": "execute_result"
    }
   ],
   "source": [
    "arr4 = np.array(arr2,dtype= 'int')\n",
    "arr4"
   ]
  },
  {
   "cell_type": "markdown",
   "metadata": {},
   "source": [
    "##### 문자열이 포함된 경우\n",
    "\n",
    "모든 프로그래밍 언어에서 가장 표현범위가 넓은 타입은 문자열이다.\n",
    "\n",
    "그러므로 문자열이 표현된 리스트를 배열로 변환할 경우 모든 원소가 문자열이 된다.\n"
   ]
  },
  {
   "cell_type": "code",
   "execution_count": 9,
   "metadata": {},
   "outputs": [
    {
     "name": "stdout",
     "output_type": "stream",
     "text": [
      "['1.2' '3' 'True' '4']\n"
     ]
    },
    {
     "data": {
      "text/plain": [
       "array(['1.2', '3', 'True', '4'], dtype='<U32')"
      ]
     },
     "execution_count": 9,
     "metadata": {},
     "output_type": "execute_result"
    }
   ],
   "source": [
    "arr5 = np.array([1.2, 3, True, '4'])\n",
    "print(arr5)\n",
    "# np배열의 경우 출력에서 원소 사이에 `,` 가 안찍힌다(리스트와의 차이점)\n",
    "arr5"
   ]
  },
  {
   "cell_type": "markdown",
   "metadata": {},
   "source": [
    "### (3) 리스트 타입으로 역변환\n",
    "\n",
    "서로 호환 가능"
   ]
  },
  {
   "cell_type": "code",
   "execution_count": 18,
   "metadata": {},
   "outputs": [
    {
     "name": "stdout",
     "output_type": "stream",
     "text": [
      "<class 'list'>\n"
     ]
    },
    {
     "data": {
      "text/plain": [
       "['1.2', '3', 'True', '4']"
      ]
     },
     "execution_count": 18,
     "metadata": {},
     "output_type": "execute_result"
    }
   ],
   "source": [
    "mylist = list(arr5)\n",
    "print(type(mylist))\n",
    "mylist"
   ]
  }
 ],
 "metadata": {
  "kernelspec": {
   "display_name": "Python 3",
   "language": "python",
   "name": "python3"
  },
  "language_info": {
   "codemirror_mode": {
    "name": "ipython",
    "version": 3
   },
   "file_extension": ".py",
   "mimetype": "text/x-python",
   "name": "python",
   "nbconvert_exporter": "python",
   "pygments_lexer": "ipython3",
   "version": "3.12.0"
  }
 },
 "nbformat": 4,
 "nbformat_minor": 2
}
