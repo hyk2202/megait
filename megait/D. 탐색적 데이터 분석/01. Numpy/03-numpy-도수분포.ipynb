{
 "cells": [
  {
   "cell_type": "markdown",
   "metadata": {},
   "source": [
    "# Numpy 도수분포\n",
    "\n",
    "## #01. 개요\n",
    "\n",
    "### [1] 도수\n",
    "\n",
    "특정한 구간 또는 범주에 속하는 자료의 개수\n",
    "\n",
    "(예) 어떤 학급의 학생들의 시험 점수를 기록한다면 각 점수 대여겡 속하는 학생의 수를 세어 도수를 구할 수 있다.\n",
    "\n",
    "### [2] 도수분포표\n",
    "\n",
    "도수들을 정리하여 구간별 도수를 표로 나타낸 것\n",
    "\n",
    "도수분포는 평균, 중앙값, 최빈값과 같은 중심 경향성 통계량을 게산하거나 자료의 분산과 퍼짐 정도를 파악하는 데에도 사용된다.\n",
    "\n",
    "이를 통해 데이터의 특성을 더 잘 이해하고 추론할 수 있다.\n",
    "\n",
    "## #02. 준비과정\n",
    "\n",
    "### [1] 패키지 참조"
   ]
  },
  {
   "cell_type": "code",
   "execution_count": 1,
   "metadata": {},
   "outputs": [],
   "source": [
    "import numpy as np"
   ]
  },
  {
   "cell_type": "markdown",
   "metadata": {},
   "source": [
    "### [2] 샘플 데이터 준비\n",
    "어느 학급의 시험 점수"
   ]
  },
  {
   "cell_type": "code",
   "execution_count": 13,
   "metadata": {},
   "outputs": [
    {
     "data": {
      "text/plain": [
       "array([100,  91,  89,  86,  84,  79,  78,  77,  74,  71,  69,  66,  65,\n",
       "        60,  58,  57,  55])"
      ]
     },
     "execution_count": 13,
     "metadata": {},
     "output_type": "execute_result"
    }
   ],
   "source": [
    "point = np.array([100, 91, 89, 86, 84, 79, 78, 77, 74, 71, 69, 66, 65, 60, 58, 57, 55])\n",
    "point\n"
   ]
  },
  {
   "cell_type": "markdown",
   "metadata": {},
   "source": [
    "## #03. Numpy의 histogram : 도수분포도\n",
    "### [1] 5개의 구간으로 나누기"
   ]
  },
  {
   "cell_type": "code",
   "execution_count": 15,
   "metadata": {},
   "outputs": [
    {
     "name": "stdout",
     "output_type": "stream",
     "text": [
      "구간별 데이터 수 : [4 4 4 3 2]\n",
      "구간 경계 : [ 55.  64.  73.  82.  91. 100.]\n"
     ]
    }
   ],
   "source": [
    "hist, bins = np.histogram(point, 5,) # 개수로 지정시 최대값 - 최소값을 개수로 나눠서 표현\n",
    "print(\"구간별 데이터 수 :\",hist)\n",
    "print(\"구간 경계 :\",bins)"
   ]
  },
  {
   "cell_type": "code",
   "execution_count": 4,
   "metadata": {},
   "outputs": [
    {
     "name": "stdout",
     "output_type": "stream",
     "text": [
      "55.0이상 64.0미만 : 4개\n",
      "64.0이상 73.0미만 : 4개\n",
      "73.0이상 82.0미만 : 4개\n",
      "82.0이상 91.0미만 : 3개\n",
      "91.0이상 100.0이하 : 2개\n"
     ]
    }
   ],
   "source": [
    "s = len(bins)\n",
    "\n",
    "for i in range(s-1):\n",
    "    if i <s-2:\n",
    "        print(f'{bins[i]}이상 {bins[i+1]}미만 : {hist[i]}개')\n",
    "    else : \n",
    "        print(f'{bins[i]}이상 {bins[i+1]}이하 : {hist[i]}개')"
   ]
  },
  {
   "cell_type": "markdown",
   "metadata": {},
   "source": [
    "### [2] 데이터 구간을 직접 정의하기"
   ]
  },
  {
   "cell_type": "code",
   "execution_count": 5,
   "metadata": {},
   "outputs": [
    {
     "name": "stdout",
     "output_type": "stream",
     "text": [
      "구간별 데이터 수 : [4 3 5 5]\n",
      "구간 경계 : [ 50  65  70  80 100]\n"
     ]
    }
   ],
   "source": [
    "hist, bins = np.histogram(point, [50,65,70,80,100]) # 직접 정의시 임의의 숫자 표현 가능하며 각 구간별 길이가 달라도 상관없음\n",
    "print(\"구간별 데이터 수 :\",hist)\n",
    "print(\"구간 경계 :\",bins)"
   ]
  },
  {
   "cell_type": "markdown",
   "metadata": {},
   "source": [
    "## #04. 도수의 종류\n",
    "\n",
    "### [1] 절대도수\n",
    "\n",
    "어떠한 변수에 대한 실제 빈도수\n",
    "\n",
    "`np.histogram()`에서 리턴하는 `hist`값이 절대 도수임.\n",
    "\n",
    "### [2] 상대도수\n",
    "\n",
    "절대도수를 백분률로 환산한 값\n",
    "\n",
    "각 도수를 도수의 총 합으로 나눈 값 ( 별도로 연산해서 표시해야함 )"
   ]
  },
  {
   "cell_type": "code",
   "execution_count": 6,
   "metadata": {},
   "outputs": [
    {
     "name": "stdout",
     "output_type": "stream",
     "text": [
      "<class 'numpy.ndarray'>\n"
     ]
    }
   ],
   "source": [
    "print(type(hist))"
   ]
  },
  {
   "cell_type": "code",
   "execution_count": 7,
   "metadata": {},
   "outputs": [],
   "source": [
    "def relativeFreq(nparr):\n",
    "    return nparr/np.sum(nparr)"
   ]
  },
  {
   "cell_type": "code",
   "execution_count": 8,
   "metadata": {},
   "outputs": [
    {
     "data": {
      "text/plain": [
       "array([0.23529412, 0.17647059, 0.29411765, 0.29411765])"
      ]
     },
     "execution_count": 8,
     "metadata": {},
     "output_type": "execute_result"
    }
   ],
   "source": [
    "relative_freq = relativeFreq(hist)\n",
    "relative_freq"
   ]
  },
  {
   "cell_type": "markdown",
   "metadata": {},
   "source": [
    "### [3] 누적도수\n",
    "\n",
    "절대도수에서 자기 앞 도수를 모두 다 더한 값\n"
   ]
  },
  {
   "cell_type": "code",
   "execution_count": 9,
   "metadata": {},
   "outputs": [],
   "source": [
    "def cumFreq(nparr):\n",
    "    freq = []\n",
    "    prev = 0\n",
    "    for i in nparr:\n",
    "        prev += i\n",
    "        freq.append(prev)\n",
    "    return np.array(freq)"
   ]
  },
  {
   "cell_type": "code",
   "execution_count": 10,
   "metadata": {},
   "outputs": [
    {
     "data": {
      "text/plain": [
       "array([ 4,  7, 12, 17], dtype=int64)"
      ]
     },
     "execution_count": 10,
     "metadata": {},
     "output_type": "execute_result"
    }
   ],
   "source": [
    "cum_freq = cumFreq(hist)\n",
    "cum_freq"
   ]
  }
 ],
 "metadata": {
  "kernelspec": {
   "display_name": "Python 3",
   "language": "python",
   "name": "python3"
  },
  "language_info": {
   "codemirror_mode": {
    "name": "ipython",
    "version": 3
   },
   "file_extension": ".py",
   "mimetype": "text/x-python",
   "name": "python",
   "nbconvert_exporter": "python",
   "pygments_lexer": "ipython3",
   "version": "3.12.0"
  }
 },
 "nbformat": 4,
 "nbformat_minor": 2
}
