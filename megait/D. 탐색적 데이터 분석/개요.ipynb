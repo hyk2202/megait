{
 "cells": [
  {
   "cell_type": "markdown",
   "metadata": {},
   "source": [
    "# 탐색적 데이터 분석(EDA) -> pandas, numpy\n",
    "pandas, numpy는 C로 만든 후 컴파일해서 라이브러리로 뿌려진형태\n",
    "1) 데이터 다루기 -> list,dic -> numpy -> Series -> dataframe(excel sheet)\n",
    "2) 데이터 전처리 -> 데이터 가공(분석에 용이하게) // 행,열 재배치 /병합(join개념) /데이터 재구조화 /데이터 집계(group by개념-mean,max 등) /파생, 더미변수 생성 /데이터 정규화 \n",
    "   ML(데이터 분할, 데이터 증폭)\n",
    "3) 시각화 => 그래프\n",
    "4) 기술통계(기초통계)\n",
    "5) 데이터 정제\n",
    "=> python(언어)\n",
    "6) 지도 시각화\n",
    "=> QGIS(프로그램)\n",
    "\n",
    "====> 2차 프로젝트 진행( 2번 : 주어진 엑셀에서 insight 도출 // 그래프를 제시하고 해석을 제출(해석이 메인) : 소스코드는 없어도 상관없음 )"
   ]
  }
 ],
 "metadata": {
  "kernelspec": {
   "display_name": "Python 3",
   "language": "python",
   "name": "python3"
  },
  "language_info": {
   "name": "python",
   "version": "3.12.0"
  }
 },
 "nbformat": 4,
 "nbformat_minor": 2
}
