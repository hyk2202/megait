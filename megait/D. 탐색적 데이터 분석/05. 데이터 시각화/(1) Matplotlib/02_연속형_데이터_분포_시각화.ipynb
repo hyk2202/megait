{
 "cells": [
  {
   "cell_type": "markdown",
   "metadata": {},
   "source": [
    "# 데이터의 분포 시각화\n",
    "\n",
    "데이터의 분포를 시각화 하는 방법\n",
    "\n",
    "| 구분 | 시각화 방법 |\n",
    "|---|---|\n",
    "| 연속형 | BoxPlot, Histogram |\n",
    "| 범주형 | BarPlot(빈도 그래프), PiePlot |\n",
    "\n",
    "## #01. 준비작업\n",
    "\n",
    "### [1] 패키지 참조"
   ]
  },
  {
   "cell_type": "code",
   "execution_count": 1,
   "metadata": {},
   "outputs": [],
   "source": [
    "import sys\n",
    "import numpy as np\n",
    "from pandas import read_excel, DataFrame\n",
    "from matplotlib import pyplot as plt"
   ]
  },
  {
   "cell_type": "markdown",
   "metadata": {
    "slideshow": {
     "slide_type": "slide"
    }
   },
   "source": [
    "### [2] 데이터 가져오기\n",
    "\n",
    "어느 기업의 직원 40명을 대상으로 성별과 결혼상태, 나이, 최종학력, 월수입을 조사한 가상의 데이터"
   ]
  },
  {
   "cell_type": "code",
   "execution_count": 3,
   "metadata": {},
   "outputs": [
    {
     "data": {
      "text/html": [
       "<div>\n",
       "<style scoped>\n",
       "    .dataframe tbody tr th:only-of-type {\n",
       "        vertical-align: middle;\n",
       "    }\n",
       "\n",
       "    .dataframe tbody tr th {\n",
       "        vertical-align: top;\n",
       "    }\n",
       "\n",
       "    .dataframe thead th {\n",
       "        text-align: right;\n",
       "    }\n",
       "</style>\n",
       "<table border=\"1\" class=\"dataframe\">\n",
       "  <thead>\n",
       "    <tr style=\"text-align: right;\">\n",
       "      <th></th>\n",
       "      <th>성별</th>\n",
       "      <th>결혼상태</th>\n",
       "      <th>나이</th>\n",
       "      <th>최종학력</th>\n",
       "      <th>월수입</th>\n",
       "    </tr>\n",
       "  </thead>\n",
       "  <tbody>\n",
       "    <tr>\n",
       "      <th>0</th>\n",
       "      <td>남자</td>\n",
       "      <td>기혼</td>\n",
       "      <td>21</td>\n",
       "      <td>대학교</td>\n",
       "      <td>60</td>\n",
       "    </tr>\n",
       "    <tr>\n",
       "      <th>1</th>\n",
       "      <td>남자</td>\n",
       "      <td>기혼</td>\n",
       "      <td>22</td>\n",
       "      <td>대학원</td>\n",
       "      <td>100</td>\n",
       "    </tr>\n",
       "    <tr>\n",
       "      <th>2</th>\n",
       "      <td>남자</td>\n",
       "      <td>기혼</td>\n",
       "      <td>33</td>\n",
       "      <td>대학교</td>\n",
       "      <td>200</td>\n",
       "    </tr>\n",
       "    <tr>\n",
       "      <th>3</th>\n",
       "      <td>여자</td>\n",
       "      <td>미혼</td>\n",
       "      <td>33</td>\n",
       "      <td>대학교</td>\n",
       "      <td>120</td>\n",
       "    </tr>\n",
       "    <tr>\n",
       "      <th>4</th>\n",
       "      <td>남자</td>\n",
       "      <td>미혼</td>\n",
       "      <td>28</td>\n",
       "      <td>대학교</td>\n",
       "      <td>70</td>\n",
       "    </tr>\n",
       "    <tr>\n",
       "      <th>5</th>\n",
       "      <td>남자</td>\n",
       "      <td>기혼</td>\n",
       "      <td>21</td>\n",
       "      <td>대학원</td>\n",
       "      <td>80</td>\n",
       "    </tr>\n",
       "    <tr>\n",
       "      <th>6</th>\n",
       "      <td>여자</td>\n",
       "      <td>미혼</td>\n",
       "      <td>39</td>\n",
       "      <td>대학교</td>\n",
       "      <td>190</td>\n",
       "    </tr>\n",
       "    <tr>\n",
       "      <th>7</th>\n",
       "      <td>남자</td>\n",
       "      <td>기혼</td>\n",
       "      <td>32</td>\n",
       "      <td>대학교</td>\n",
       "      <td>100</td>\n",
       "    </tr>\n",
       "    <tr>\n",
       "      <th>8</th>\n",
       "      <td>남자</td>\n",
       "      <td>미혼</td>\n",
       "      <td>44</td>\n",
       "      <td>초등학교</td>\n",
       "      <td>120</td>\n",
       "    </tr>\n",
       "    <tr>\n",
       "      <th>9</th>\n",
       "      <td>남자</td>\n",
       "      <td>미혼</td>\n",
       "      <td>55</td>\n",
       "      <td>대학교</td>\n",
       "      <td>110</td>\n",
       "    </tr>\n",
       "    <tr>\n",
       "      <th>10</th>\n",
       "      <td>여자</td>\n",
       "      <td>미혼</td>\n",
       "      <td>46</td>\n",
       "      <td>대학원</td>\n",
       "      <td>150</td>\n",
       "    </tr>\n",
       "    <tr>\n",
       "      <th>11</th>\n",
       "      <td>남자</td>\n",
       "      <td>기혼</td>\n",
       "      <td>20</td>\n",
       "      <td>대학교</td>\n",
       "      <td>50</td>\n",
       "    </tr>\n",
       "    <tr>\n",
       "      <th>12</th>\n",
       "      <td>남자</td>\n",
       "      <td>미혼</td>\n",
       "      <td>31</td>\n",
       "      <td>대학교</td>\n",
       "      <td>210</td>\n",
       "    </tr>\n",
       "    <tr>\n",
       "      <th>13</th>\n",
       "      <td>남자</td>\n",
       "      <td>기혼</td>\n",
       "      <td>27</td>\n",
       "      <td>대학교</td>\n",
       "      <td>60</td>\n",
       "    </tr>\n",
       "    <tr>\n",
       "      <th>14</th>\n",
       "      <td>여자</td>\n",
       "      <td>기혼</td>\n",
       "      <td>21</td>\n",
       "      <td>대학원</td>\n",
       "      <td>80</td>\n",
       "    </tr>\n",
       "    <tr>\n",
       "      <th>15</th>\n",
       "      <td>여자</td>\n",
       "      <td>기혼</td>\n",
       "      <td>22</td>\n",
       "      <td>대학원</td>\n",
       "      <td>70</td>\n",
       "    </tr>\n",
       "    <tr>\n",
       "      <th>16</th>\n",
       "      <td>여자</td>\n",
       "      <td>미혼</td>\n",
       "      <td>41</td>\n",
       "      <td>대학원</td>\n",
       "      <td>250</td>\n",
       "    </tr>\n",
       "    <tr>\n",
       "      <th>17</th>\n",
       "      <td>여자</td>\n",
       "      <td>미혼</td>\n",
       "      <td>49</td>\n",
       "      <td>대학원</td>\n",
       "      <td>300</td>\n",
       "    </tr>\n",
       "    <tr>\n",
       "      <th>18</th>\n",
       "      <td>여자</td>\n",
       "      <td>기혼</td>\n",
       "      <td>29</td>\n",
       "      <td>대학교</td>\n",
       "      <td>100</td>\n",
       "    </tr>\n",
       "    <tr>\n",
       "      <th>19</th>\n",
       "      <td>여자</td>\n",
       "      <td>미혼</td>\n",
       "      <td>27</td>\n",
       "      <td>대학교</td>\n",
       "      <td>60</td>\n",
       "    </tr>\n",
       "    <tr>\n",
       "      <th>20</th>\n",
       "      <td>남자</td>\n",
       "      <td>미혼</td>\n",
       "      <td>32</td>\n",
       "      <td>대학원</td>\n",
       "      <td>150</td>\n",
       "    </tr>\n",
       "    <tr>\n",
       "      <th>21</th>\n",
       "      <td>남자</td>\n",
       "      <td>미혼</td>\n",
       "      <td>35</td>\n",
       "      <td>대학원</td>\n",
       "      <td>170</td>\n",
       "    </tr>\n",
       "    <tr>\n",
       "      <th>22</th>\n",
       "      <td>남자</td>\n",
       "      <td>미혼</td>\n",
       "      <td>47</td>\n",
       "      <td>대학교</td>\n",
       "      <td>130</td>\n",
       "    </tr>\n",
       "    <tr>\n",
       "      <th>23</th>\n",
       "      <td>남자</td>\n",
       "      <td>미혼</td>\n",
       "      <td>52</td>\n",
       "      <td>대학원</td>\n",
       "      <td>200</td>\n",
       "    </tr>\n",
       "    <tr>\n",
       "      <th>24</th>\n",
       "      <td>남자</td>\n",
       "      <td>기혼</td>\n",
       "      <td>59</td>\n",
       "      <td>대학원</td>\n",
       "      <td>230</td>\n",
       "    </tr>\n",
       "    <tr>\n",
       "      <th>25</th>\n",
       "      <td>남자</td>\n",
       "      <td>미혼</td>\n",
       "      <td>22</td>\n",
       "      <td>고등학교</td>\n",
       "      <td>60</td>\n",
       "    </tr>\n",
       "    <tr>\n",
       "      <th>26</th>\n",
       "      <td>남자</td>\n",
       "      <td>미혼</td>\n",
       "      <td>32</td>\n",
       "      <td>중학교</td>\n",
       "      <td>70</td>\n",
       "    </tr>\n",
       "    <tr>\n",
       "      <th>27</th>\n",
       "      <td>여자</td>\n",
       "      <td>미혼</td>\n",
       "      <td>41</td>\n",
       "      <td>대학교</td>\n",
       "      <td>130</td>\n",
       "    </tr>\n",
       "    <tr>\n",
       "      <th>28</th>\n",
       "      <td>남자</td>\n",
       "      <td>기혼</td>\n",
       "      <td>26</td>\n",
       "      <td>대학원</td>\n",
       "      <td>80</td>\n",
       "    </tr>\n",
       "    <tr>\n",
       "      <th>29</th>\n",
       "      <td>여자</td>\n",
       "      <td>미혼</td>\n",
       "      <td>56</td>\n",
       "      <td>대학교</td>\n",
       "      <td>150</td>\n",
       "    </tr>\n",
       "    <tr>\n",
       "      <th>30</th>\n",
       "      <td>남자</td>\n",
       "      <td>미혼</td>\n",
       "      <td>31</td>\n",
       "      <td>대학원</td>\n",
       "      <td>220</td>\n",
       "    </tr>\n",
       "    <tr>\n",
       "      <th>31</th>\n",
       "      <td>남자</td>\n",
       "      <td>미혼</td>\n",
       "      <td>42</td>\n",
       "      <td>대학원</td>\n",
       "      <td>200</td>\n",
       "    </tr>\n",
       "    <tr>\n",
       "      <th>32</th>\n",
       "      <td>남자</td>\n",
       "      <td>기혼</td>\n",
       "      <td>25</td>\n",
       "      <td>대학교</td>\n",
       "      <td>90</td>\n",
       "    </tr>\n",
       "    <tr>\n",
       "      <th>33</th>\n",
       "      <td>여자</td>\n",
       "      <td>기혼</td>\n",
       "      <td>26</td>\n",
       "      <td>고등학교</td>\n",
       "      <td>50</td>\n",
       "    </tr>\n",
       "    <tr>\n",
       "      <th>34</th>\n",
       "      <td>여자</td>\n",
       "      <td>기혼</td>\n",
       "      <td>24</td>\n",
       "      <td>고등학교</td>\n",
       "      <td>50</td>\n",
       "    </tr>\n",
       "    <tr>\n",
       "      <th>35</th>\n",
       "      <td>남자</td>\n",
       "      <td>미혼</td>\n",
       "      <td>34</td>\n",
       "      <td>대학교</td>\n",
       "      <td>100</td>\n",
       "    </tr>\n",
       "    <tr>\n",
       "      <th>36</th>\n",
       "      <td>남자</td>\n",
       "      <td>미혼</td>\n",
       "      <td>46</td>\n",
       "      <td>대학교</td>\n",
       "      <td>120</td>\n",
       "    </tr>\n",
       "    <tr>\n",
       "      <th>37</th>\n",
       "      <td>남자</td>\n",
       "      <td>미혼</td>\n",
       "      <td>56</td>\n",
       "      <td>대학원</td>\n",
       "      <td>349</td>\n",
       "    </tr>\n",
       "    <tr>\n",
       "      <th>38</th>\n",
       "      <td>남자</td>\n",
       "      <td>기혼</td>\n",
       "      <td>21</td>\n",
       "      <td>대학원</td>\n",
       "      <td>80</td>\n",
       "    </tr>\n",
       "    <tr>\n",
       "      <th>39</th>\n",
       "      <td>남자</td>\n",
       "      <td>미혼</td>\n",
       "      <td>23</td>\n",
       "      <td>대학교</td>\n",
       "      <td>100</td>\n",
       "    </tr>\n",
       "  </tbody>\n",
       "</table>\n",
       "</div>"
      ],
      "text/plain": [
       "    성별 결혼상태  나이  최종학력  월수입\n",
       "0   남자   기혼  21   대학교   60\n",
       "1   남자   기혼  22   대학원  100\n",
       "2   남자   기혼  33   대학교  200\n",
       "3   여자   미혼  33   대학교  120\n",
       "4   남자   미혼  28   대학교   70\n",
       "5   남자   기혼  21   대학원   80\n",
       "6   여자   미혼  39   대학교  190\n",
       "7   남자   기혼  32   대학교  100\n",
       "8   남자   미혼  44  초등학교  120\n",
       "9   남자   미혼  55   대학교  110\n",
       "10  여자   미혼  46   대학원  150\n",
       "11  남자   기혼  20   대학교   50\n",
       "12  남자   미혼  31   대학교  210\n",
       "13  남자   기혼  27   대학교   60\n",
       "14  여자   기혼  21   대학원   80\n",
       "15  여자   기혼  22   대학원   70\n",
       "16  여자   미혼  41   대학원  250\n",
       "17  여자   미혼  49   대학원  300\n",
       "18  여자   기혼  29   대학교  100\n",
       "19  여자   미혼  27   대학교   60\n",
       "20  남자   미혼  32   대학원  150\n",
       "21  남자   미혼  35   대학원  170\n",
       "22  남자   미혼  47   대학교  130\n",
       "23  남자   미혼  52   대학원  200\n",
       "24  남자   기혼  59   대학원  230\n",
       "25  남자   미혼  22  고등학교   60\n",
       "26  남자   미혼  32   중학교   70\n",
       "27  여자   미혼  41   대학교  130\n",
       "28  남자   기혼  26   대학원   80\n",
       "29  여자   미혼  56   대학교  150\n",
       "30  남자   미혼  31   대학원  220\n",
       "31  남자   미혼  42   대학원  200\n",
       "32  남자   기혼  25   대학교   90\n",
       "33  여자   기혼  26  고등학교   50\n",
       "34  여자   기혼  24  고등학교   50\n",
       "35  남자   미혼  34   대학교  100\n",
       "36  남자   미혼  46   대학교  120\n",
       "37  남자   미혼  56   대학원  349\n",
       "38  남자   기혼  21   대학원   80\n",
       "39  남자   미혼  23   대학교  100"
      ]
     },
     "execution_count": 3,
     "metadata": {},
     "output_type": "execute_result"
    }
   ],
   "source": [
    "origin = read_excel(\"https://data.hossam.kr/pydata/poll.xlsx\")\n",
    "origin"
   ]
  },
  {
   "cell_type": "markdown",
   "metadata": {},
   "source": [
    "### [3] 그래프 초기화"
   ]
  },
  {
   "cell_type": "code",
   "execution_count": 4,
   "metadata": {},
   "outputs": [],
   "source": [
    "plt.rcParams[\"font.family\"] = 'AppleGothic' if sys.platform == 'darwin' else 'Malgun Gothic'\n",
    "plt.rcParams[\"font.size\"] = 12\n",
    "plt.rcParams[\"figure.figsize\"] = (12, 6)\n",
    "plt.rcParams[\"axes.unicode_minus\"] = False"
   ]
  },
  {
   "cell_type": "markdown",
   "metadata": {},
   "source": [
    "## #02. BoxPlot (상자그림)\n",
    "\n",
    "하나의 연속형 변수에 대해서 분포 형태, 퍼짐정도, 이상치 여부 등을 시각화하고, 하나의 그룹 혹은 여러개의 그룹 간 비교하는데 유용한 그래프\n",
    "\n",
    "명목형 변수에 대해서는 그릴 수 없다.\n",
    "\n",
    "![boxplot](res/boxplot.png)\n",
    "\n",
    "### [1] 특정 컬럼에 대한 상자그림\n",
    "\n",
    "#### (1) 기본 구성\n",
    "\n",
    "$x$축의 좌표값은 `1`임을 확인할 수 있다."
   ]
  },
  {
   "cell_type": "code",
   "execution_count": 4,
   "metadata": {},
   "outputs": [
    {
     "data": {
      "image/png": "[encoded data removed]",
      "text/plain": [
       "<Figure size 1200x600 with 1 Axes>"
      ]
     },
     "metadata": {},
     "output_type": "display_data"
    }
   ],
   "source": [
    "plt.figure()\n",
    "plt.boxplot(origin['월수입'])\n",
    "plt.grid()\n",
    "plt.show()\n",
    "plt.close()"
   ]
  },
  {
   "cell_type": "markdown",
   "metadata": {},
   "source": [
    "#### (2) 그래프 옵션 설정\n",
    "\n",
    "##### `boxplot()`메서드의 `sym` 파라미터\n",
    "\n",
    "두 글자의 조합으로 구성되는 값을 설정한다. 첫 번째 글자는 이상치에 포인터의 색상이고 두 번째 글자는 이상치 포인터의 모양이다. (글자 순서 변경 가능)\n",
    "\n",
    "| 구분 | 값 |\n",
    "|--|--|\n",
    "| 색상 | `r`(빨강), `b`(파랑), `y`(노랑), `g`(초록), `h`(화이트,기본값) |\n",
    "| 모양 | `s`(사각형), `*`(별), `^`(삼각형), `o`(원,기본값) |\n",
    "\n",
    "##### $x$축에 변수 이름 지정하기\n",
    "\n",
    "$x$축 좌표가 1부터 시작된다는 점에 유의하려 `xticks()` 메서드를 사용한다."
   ]
  },
  {
   "cell_type": "code",
   "execution_count": 5,
   "metadata": {},
   "outputs": [
    {
     "data": {
      "image/png": "[encoded data removed]",
      "text/plain": [
       "<Figure size 1200x600 with 1 Axes>"
      ]
     },
     "metadata": {},
     "output_type": "display_data"
    }
   ],
   "source": [
    "plt.figure()\n",
    "plt.boxplot(origin['월수입'], sym=\"r^\")\n",
    "plt.xticks([1], ['월수입'])\n",
    "plt.grid()\n",
    "plt.show()\n",
    "plt.close()"
   ]
  },
  {
   "cell_type": "markdown",
   "metadata": {},
   "source": [
    "#### (3) 가로 상자그림\n",
    "\n",
    "`boxplot()`메서드에 `vert` 파라미터에 `0`을 설정한다. (기본값=`1`)\n",
    "\n",
    "가로로 표시할 경우 $x$축이 아닌 $y$축에 변수의 이름을 표시해야 한다."
   ]
  },
  {
   "cell_type": "code",
   "execution_count": 6,
   "metadata": {},
   "outputs": [
    {
     "data": {
      "image/png": "[encoded data removed]",
      "text/plain": [
       "<Figure size 1200x600 with 1 Axes>"
      ]
     },
     "metadata": {},
     "output_type": "display_data"
    }
   ],
   "source": [
    "plt.figure()\n",
    "plt.boxplot(origin['월수입'], sym=\"r^\", vert=0)\n",
    "plt.yticks([1], ['월수입'])\n",
    "plt.grid()\n",
    "plt.show()\n",
    "plt.close()"
   ]
  },
  {
   "cell_type": "markdown",
   "metadata": {},
   "source": [
    "### [2] 두 개 이상의 변수에 대한 상자그림\n",
    "\n",
    "상자그림에 표시할 변수를 리스트로 묶어서 설정한다.\n",
    "\n",
    "이 경우 변수간의 값의 범위 차이가 클 경우 범위가 작은 변수는 그래프를 통한 확인이 다소 어렵다."
   ]
  },
  {
   "cell_type": "code",
   "execution_count": 7,
   "metadata": {},
   "outputs": [
    {
     "data": {
      "image/png": "[encoded data removed]",
      "text/plain": [
       "<Figure size 1200x600 with 1 Axes>"
      ]
     },
     "metadata": {},
     "output_type": "display_data"
    }
   ],
   "source": [
    "plt.figure()\n",
    "plt.boxplot([origin['나이'], origin['월수입']], sym=\"r^\")\n",
    "plt.xticks([1, 2], ['나이', '월수입'])\n",
    "plt.grid()\n",
    "plt.show()\n",
    "plt.close()"
   ]
  },
  {
   "cell_type": "markdown",
   "metadata": {},
   "source": [
    "## #03. Histogram\n",
    "\n",
    "도수분포표를 시각화 한 그래프\n",
    "\n",
    "### [1] 나이에 대한 도수 분포 확인하기\n",
    "\n",
    "#### (1) 도수 분포표 생성\n",
    "\n",
    "##### 도수 분포 확인"
   ]
  },
  {
   "cell_type": "code",
   "execution_count": 8,
   "metadata": {},
   "outputs": [
    {
     "name": "stdout",
     "output_type": "stream",
     "text": [
      "[15 11  4  5  5]\n",
      "[20.  27.8 35.6 43.4 51.2 59. ]\n"
     ]
    }
   ],
   "source": [
    "hist, bins = np.histogram(origin['나이'], bins=5)\n",
    "print(hist)\n",
    "print(bins)"
   ]
  },
  {
   "cell_type": "markdown",
   "metadata": {},
   "source": [
    "##### 도수 분포표 구성"
   ]
  },
  {
   "cell_type": "code",
   "execution_count": 9,
   "metadata": {},
   "outputs": [
    {
     "data": {
      "text/html": [
       "<div>\n",
       "<style scoped>\n",
       "    .dataframe tbody tr th:only-of-type {\n",
       "        vertical-align: middle;\n",
       "    }\n",
       "\n",
       "    .dataframe tbody tr th {\n",
       "        vertical-align: top;\n",
       "    }\n",
       "\n",
       "    .dataframe thead th {\n",
       "        text-align: right;\n",
       "    }\n",
       "</style>\n",
       "<table border=\"1\" class=\"dataframe\">\n",
       "  <thead>\n",
       "    <tr style=\"text-align: right;\">\n",
       "      <th></th>\n",
       "      <th>도수</th>\n",
       "    </tr>\n",
       "    <tr>\n",
       "      <th>계급</th>\n",
       "      <th></th>\n",
       "    </tr>\n",
       "  </thead>\n",
       "  <tbody>\n",
       "    <tr>\n",
       "      <th>20이상 27미만</th>\n",
       "      <td>15</td>\n",
       "    </tr>\n",
       "    <tr>\n",
       "      <th>27이상 35미만</th>\n",
       "      <td>11</td>\n",
       "    </tr>\n",
       "    <tr>\n",
       "      <th>35이상 43미만</th>\n",
       "      <td>4</td>\n",
       "    </tr>\n",
       "    <tr>\n",
       "      <th>43이상 51미만</th>\n",
       "      <td>5</td>\n",
       "    </tr>\n",
       "    <tr>\n",
       "      <th>51이상 59이하</th>\n",
       "      <td>5</td>\n",
       "    </tr>\n",
       "  </tbody>\n",
       "</table>\n",
       "</div>"
      ],
      "text/plain": [
       "           도수\n",
       "계급           \n",
       "20이상 27미만  15\n",
       "27이상 35미만  11\n",
       "35이상 43미만   4\n",
       "43이상 51미만   5\n",
       "51이상 59이하   5"
      ]
     },
     "execution_count": 9,
     "metadata": {},
     "output_type": "execute_result"
    }
   ],
   "source": [
    "info = []\n",
    "for i, v in enumerate(hist):\n",
    "    if i+1 < len(hist):\n",
    "        tpl = \"%d이상 %d미만\"\n",
    "    else:\n",
    "        tpl = \"%d이상 %d이하\"\n",
    "\n",
    "    cls = tpl % (bins[i], bins[i+1])\n",
    "    line = {\"계급\": cls, \"도수\": v}\n",
    "    info.append(line)\n",
    "\n",
    "hist_df = DataFrame(info)\n",
    "hist_df.set_index('계급', inplace=True)\n",
    "hist_df"
   ]
  },
  {
   "cell_type": "markdown",
   "metadata": {},
   "source": [
    "#### (2) 히스토그램 생성\n",
    "\n",
    "##### 기본 구성 방법\n",
    "\n",
    "데이터 원본을 사용해서 시각화한다.\n",
    "\n",
    "x축을 pyplot이 임의로 지정하기 때문에 데이터 구간을 파악하기 어렵다."
   ]
  },
  {
   "cell_type": "code",
   "execution_count": 10,
   "metadata": {},
   "outputs": [
    {
     "data": {
      "image/png": "[encoded data removed]",
      "text/plain": [
       "<Figure size 1200x600 with 1 Axes>"
      ]
     },
     "metadata": {},
     "output_type": "display_data"
    }
   ],
   "source": [
    "plt.figure()\n",
    "plt.hist(origin['나이'], bins=5, edgecolor='black', linewidth=1.2)\n",
    "plt.grid()\n",
    "plt.show()\n",
    "plt.close()"
   ]
  },
  {
   "cell_type": "markdown",
   "metadata": {},
   "source": [
    "##### $x$축 설정하기\n",
    "\n",
    "`np.histogram()` 메서드를 사용하여 데이터 구간 정보를 리턴받은 후 그래프의 `xticks()`로 적용한다."
   ]
  },
  {
   "cell_type": "code",
   "execution_count": 11,
   "metadata": {},
   "outputs": [
    {
     "data": {
      "image/png": "[encoded data removed]",
      "text/plain": [
       "<Figure size 1200x600 with 1 Axes>"
      ]
     },
     "metadata": {},
     "output_type": "display_data"
    }
   ],
   "source": [
    "hist, bins = np.histogram(origin['나이'], bins=5)\n",
    "\n",
    "plt.figure()\n",
    "plt.hist(origin['나이'], bins=5, edgecolor='black', linewidth=1.2)\n",
    "plt.xticks(bins, bins)\n",
    "plt.grid()\n",
    "plt.show()\n",
    "plt.close()"
   ]
  },
  {
   "cell_type": "markdown",
   "metadata": {},
   "source": [
    "### [2] 도수 구간을 직접 설정하기\n",
    "\n",
    "`bins` 파라미터에 도수 구간을 정의한 리스트를 설정한다."
   ]
  },
  {
   "cell_type": "code",
   "execution_count": 12,
   "metadata": {},
   "outputs": [
    {
     "name": "stdout",
     "output_type": "stream",
     "text": [
      "[17 10  8  5]\n",
      "[20 30 40 50 60]\n"
     ]
    }
   ],
   "source": [
    "mybins = [20,30,40,50,60]\n",
    "hist, bins = np.histogram(origin['나이'], bins=mybins)\n",
    "print(hist)\n",
    "print(bins)"
   ]
  },
  {
   "cell_type": "code",
   "execution_count": 13,
   "metadata": {},
   "outputs": [
    {
     "data": {
      "image/png": "[encoded data removed]",
      "text/plain": [
       "<Figure size 1200x600 with 1 Axes>"
      ]
     },
     "metadata": {},
     "output_type": "display_data"
    }
   ],
   "source": [
    "plt.figure()\n",
    "plt.hist(origin['나이'], bins=mybins, edgecolor='black', linewidth=1.2)\n",
    "plt.xticks(mybins, mybins)\n",
    "plt.grid()\n",
    "plt.show()\n",
    "plt.close()"
   ]
  },
  {
   "cell_type": "markdown",
   "metadata": {},
   "source": [
    "### [3] 히스토그램의 계급의 수와 간격의 크기\n",
    "\n",
    "우리에게 주어지는 데이터는 종류도 다양하며 관측치의 개수도 다양하다. \n",
    "\n",
    "또한 그 데이터의 최솟값과 최댓값 또한 다양하다. 따라서 데이터가 주어졌을 때 계급의 개수와 계급의 간격을 설정하는 것에 어려움이 있을 수 있다. \n",
    "\n",
    "#### (1) 계급의 수를 구하는 방법\n",
    "\n",
    "##### 스터지스의 공식(Sturges' formula)\n",
    "\n",
    "히스토그램의 계급의 수를 결정하는 공식\n",
    "\n",
    "$계급구간수 = 1 + 3.3\\log_n$\n",
    "\n",
    "> $n$ = 관측치의 수\n",
    "\n",
    "##### 관측치의 수에 따른 계급구간 수 표 활용\n",
    "\n",
    "통계학에서 일반적으로 활용하는 표\n",
    "\n",
    "| 관측치의 수 | 계급구간의 수 |\n",
    "|---|---|\n",
    "| 50 미만 | 5 ~ 7 |\n",
    "| 50 ~ 200 | 7 ~ 9 |\n",
    "| 200 ~ 500 | 9 ~ 10 |\n",
    "| 500 ~ 1,000 | 10 ~ 11 |\n",
    "| 1,000 ~ 5,000 | 11 ~ 13 |\n",
    "| 5,000 ~ 50,000 | 13 ~ 17 |\n",
    "| 50,000 초과 | 17 ~ 20 |\n",
    "\n",
    "#### (2) 간격의 크기를 구하는 방법\n",
    "\n",
    "$계급구간의 간격 = 관측치 최대값 - 관측치 최소값 / 계급구간의 수$\n",
    "\n",
    " 여기서 중요한 지점은 계급구간의 첫 시작지점을 어떻게 잡아야 하는지이다.\n",
    " \n",
    " 이 때 필수적으로 알아야 하는 점은 첫 계급구간은 반드시 최소 관측치를 포함해야 한다는 점이다.\n",
    "\n",
    "### [4] 히스토그램의 모습\n",
    "\n",
    "#### (1) 대칭성\n",
    "\n",
    "정중앙 부분에 선을 수직으로 긋고 절반으로 접었을 때 일치하는 그래프\n",
    "\n",
    "특히 정삼각형에 가까운 형태를 **종모양**이라고 하는데 이 그래프는 정규분포와 밀접한 관련이 있기 때문에 굉장히 중요한 히스토그램의 모습이라고 할 수 있다."
   ]
  },
  {
   "cell_type": "code",
   "execution_count": 14,
   "metadata": {},
   "outputs": [
    {
     "data": {
      "image/png": "[encoded data removed]",
      "text/plain": [
       "<Figure size 1200x600 with 1 Axes>"
      ]
     },
     "metadata": {},
     "output_type": "display_data"
    }
   ],
   "source": [
    "mybins = [1,2,3,4,5,6]\n",
    "data = [1,2,2,3,3,3,4,4,5]\n",
    "\n",
    "plt.figure()\n",
    "plt.hist(data, bins=mybins, edgecolor='black', linewidth=1.2)\n",
    "plt.xticks(mybins, mybins)\n",
    "plt.grid()\n",
    "plt.show()\n",
    "plt.close()"
   ]
  },
  {
   "cell_type": "markdown",
   "metadata": {},
   "source": [
    "#### (2) 비대칭성\n",
    "\n",
    "그래프의 모양을 보면 점점 작아지는 히스토그램의 모양을 볼 수 있는데, 점점 작아지는 방향을 꼬리라고 칭하며 꼬리가 양의 방향으로 향해 있다면 양의 비대칭이며 꼬리가 음의 방향을 향해 있다면 음의 비대칭이라고 할 수 있다. 밑의 그림은 양과 음의 비대칭 히스토그램의 모습이다.\n",
    "\n",
    "양의 비대칭은 평균이 중앙값보다 작으며 음의 비대칭은 평균이 중앙값보다 크다."
   ]
  },
  {
   "cell_type": "code",
   "execution_count": 15,
   "metadata": {},
   "outputs": [
    {
     "data": {
      "image/png": "[encoded data removed]",
      "text/plain": [
       "<Figure size 1200x600 with 1 Axes>"
      ]
     },
     "metadata": {},
     "output_type": "display_data"
    }
   ],
   "source": [
    "mybins = [1,2,3,4,5,6]\n",
    "data = [1,1,1,1,1,2,2,2,2,3,3,3,4,4,5]\n",
    "\n",
    "plt.figure()\n",
    "plt.hist(data, bins=mybins, edgecolor='black', linewidth=1.2)\n",
    "plt.xticks(mybins, mybins)\n",
    "plt.title(\"양의 비대칭\")\n",
    "plt.grid()\n",
    "plt.show()\n",
    "plt.close()"
   ]
  },
  {
   "cell_type": "code",
   "execution_count": 16,
   "metadata": {},
   "outputs": [
    {
     "data": {
      "image/png": "[encoded data removed]",
      "text/plain": [
       "<Figure size 1200x600 with 1 Axes>"
      ]
     },
     "metadata": {},
     "output_type": "display_data"
    }
   ],
   "source": [
    "mybins = [1,2,3,4,5,6]\n",
    "data = [1,2,2,3,3,3,4,4,4,4,5,5,5,5,5]\n",
    "\n",
    "plt.figure()\n",
    "plt.hist(data, bins=mybins, edgecolor='black', linewidth=1.2)\n",
    "plt.xticks(mybins, mybins)\n",
    "plt.title(\"음의 비대칭\")\n",
    "plt.grid()\n",
    "plt.show()\n",
    "plt.close()"
   ]
  },
  {
   "cell_type": "markdown",
   "metadata": {},
   "source": [
    "### [5] 봉우리 계급구간의수\n",
    "\n",
    " 히스토그램에서 가장 높은 도수를 나타내고 있는 수치를 최빈값(mode) 이라고 부른다. \n",
    " \n",
    " 최빈계급이란 최대의 관측치 수를 가진 계급이다. \n",
    " \n",
    " 만일 최빈계급이 하나일 경우에는 단봉을 가진 히스토그램 이라고 불리며 최빈계급이 두 개일 경우에는 양봉을 가진 히스토그램이라고 불린다. "
   ]
  },
  {
   "cell_type": "code",
   "execution_count": 17,
   "metadata": {},
   "outputs": [
    {
     "data": {
      "image/png": "[encoded data removed]",
      "text/plain": [
       "<Figure size 1200x600 with 1 Axes>"
      ]
     },
     "metadata": {},
     "output_type": "display_data"
    }
   ],
   "source": [
    "mybins = [1,2,3,4,5,6]\n",
    "data = [1,1,1,2,2,3,4,4,5,5,5]\n",
    "\n",
    "plt.figure()\n",
    "plt.hist(data, bins=mybins, edgecolor='black', linewidth=1.2)\n",
    "plt.xticks(mybins, mybins)\n",
    "plt.title(\"양봉 히스토그램\")\n",
    "plt.grid()\n",
    "plt.show()\n",
    "plt.close()"
   ]
  }
 ],
 "metadata": {
  "kernelspec": {
   "display_name": "Python 3",
   "language": "python",
   "name": "python3"
  },
  "language_info": {
   "codemirror_mode": {
    "name": "ipython",
    "version": 3
   },
   "file_extension": ".py",
   "mimetype": "text/x-python",
   "name": "python",
   "nbconvert_exporter": "python",
   "pygments_lexer": "ipython3",
   "version": "3.12.0"
  }
 },
 "nbformat": 4,
 "nbformat_minor": 2
}
