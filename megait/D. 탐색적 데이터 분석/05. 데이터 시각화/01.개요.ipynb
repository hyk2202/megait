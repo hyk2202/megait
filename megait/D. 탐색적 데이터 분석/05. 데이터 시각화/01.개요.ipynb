{
 "cells": [
  {
   "cell_type": "markdown",
   "metadata": {},
   "source": [
    "데이터 시각화 \n",
    "\n",
    "데이터의 집계 결과 등을 그래프로 요약하는것\n",
    "1) 단순 그래프 \n",
    "   - matplotlib : 기본\n",
    "   - seaborn : 메인\n",
    "   - Plotly : 신흥 라이브러리(웹 베이스) -- 다루지않을예정(HTML을 알아야함)\n",
    "   - ggplot2(R, python)\n",
    "2) GIS(지도) - QGIS : 1.5주~2주\n",
    "3) 워드클라우드\n",
    "\n",
    "\n",
    "2번째 프로젝트는 단순 그래프로만 진행"
   ]
  }
 ],
 "metadata": {
  "kernelspec": {
   "display_name": "Python 3",
   "language": "python",
   "name": "python3"
  },
  "language_info": {
   "name": "python",
   "version": "3.12.0"
  }
 },
 "nbformat": 4,
 "nbformat_minor": 2
}
