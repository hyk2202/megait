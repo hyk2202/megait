{
 "cells": [
  {
   "cell_type": "code",
   "execution_count": 57,
   "metadata": {},
   "outputs": [],
   "source": [
    "import sys\n",
    "from pandas import read_excel, melt, pivot_table\n",
    "from matplotlib import pyplot as plt"
   ]
  },
  {
   "cell_type": "code",
   "execution_count": 58,
   "metadata": {},
   "outputs": [],
   "source": [
    "plt.rcParams[\"font.family\"] = 'AppleGothic' if sys.platform == 'darwin' else 'Malgun Gothic'\n",
    "plt.rcParams[\"font.size\"] = 5\n",
    "plt.rcParams[\"figure.figsize\"] = (15, 6)\n",
    "plt.rcParams['figure.dpi'] = 150\n",
    "plt.rcParams[\"axes.unicode_minus\"] = False"
   ]
  },
  {
   "cell_type": "markdown",
   "metadata": {},
   "source": [
    "# Pandas 시각화 연구과제\n",
    "\n",
    "## 문제 2\n",
    "\n",
    "다음의 데이터는 1999년과 2008년에 미국 EPA에서 조사하여 발표한 자동차 주요 모델별 연비 데이터의 일부이다.\n",
    "\n",
    "| id | manufacturer | model | displ | year | cyl | trans      | drv | cty | hwy | fl | class   |\n",
    "|----|--------------|-------|-------|------|-----|------------|-----|-----|-----|----|---------|\n",
    "| 1  | audi         | a4    | 1.8   | 1999 | 4   | auto(l5)   | f   | 18  | 29  | p  | compact |\n",
    "| 2  | audi         | a4    | 1.8   | 1999 | 4   | manual(m5) | f   | 21  | 29  | p  | compact |\n",
    "| 3  | audi         | a4    | 2     | 2008 | 4   | manual(m6) | f   | 20  | 31  | p  | compact |\n",
    "| 4  | audi         | a4    | 2     | 2008 | 4   | auto(av)   | f   | 21  | 30  | p  | compact |\n",
    "| 5  | audi         | a4    | 2.8   | 1999 | 6   | auto(l5)   | f   | 16  | 26  | p  | compact |\n",
    "\n",
    "전체 데이터는 아래의 URL을 통해 확인할 수 있다.\n",
    "\n",
    "> https://data.hossam.kr/pydata/mpg.xlsx\n",
    "\n",
    "데이터는 234 개의 행이 있으며, 각 행은 다음과 같은 변수로 구성되어 있다.\n",
    "\n",
    "| 변수 | 설명 |\n",
    "|--|--|\n",
    "| manufacturer | 자동차 제조사 |\n",
    "| model | 자동차 모델명 |\n",
    "| displ | 자동차 배기량 |\n",
    "| year | 제조년도 |\n",
    "| cyl | 엔진 실린더 수 |\n",
    "| trans | 자동차 트랜스미션 종류 |\n",
    "| drv | 자동차 구동 방식. f=전륜구동, r=후륜구동, 4=사륜구동 |\n",
    "| cty | 도심 연비 (마일/갤론) |\n",
    "| hwy | 고속도로 연비 (마일/갤론) |\n",
    "| fl | 연료 종류 |\n",
    "| class | 자동차 분류 |\n"
   ]
  },
  {
   "cell_type": "code",
   "execution_count": 59,
   "metadata": {},
   "outputs": [
    {
     "data": {
      "text/html": [
       "<div>\n",
       "<style scoped>\n",
       "    .dataframe tbody tr th:only-of-type {\n",
       "        vertical-align: middle;\n",
       "    }\n",
       "\n",
       "    .dataframe tbody tr th {\n",
       "        vertical-align: top;\n",
       "    }\n",
       "\n",
       "    .dataframe thead th {\n",
       "        text-align: right;\n",
       "    }\n",
       "</style>\n",
       "<table border=\"1\" class=\"dataframe\">\n",
       "  <thead>\n",
       "    <tr style=\"text-align: right;\">\n",
       "      <th></th>\n",
       "      <th>id</th>\n",
       "      <th>manufacturer</th>\n",
       "      <th>model</th>\n",
       "      <th>displ</th>\n",
       "      <th>year</th>\n",
       "      <th>cyl</th>\n",
       "      <th>trans</th>\n",
       "      <th>drv</th>\n",
       "      <th>cty</th>\n",
       "      <th>hwy</th>\n",
       "      <th>fl</th>\n",
       "      <th>class</th>\n",
       "    </tr>\n",
       "  </thead>\n",
       "  <tbody>\n",
       "    <tr>\n",
       "      <th>0</th>\n",
       "      <td>1</td>\n",
       "      <td>audi</td>\n",
       "      <td>a4</td>\n",
       "      <td>1.8</td>\n",
       "      <td>1999</td>\n",
       "      <td>4</td>\n",
       "      <td>auto(l5)</td>\n",
       "      <td>f</td>\n",
       "      <td>18</td>\n",
       "      <td>29</td>\n",
       "      <td>p</td>\n",
       "      <td>compact</td>\n",
       "    </tr>\n",
       "    <tr>\n",
       "      <th>1</th>\n",
       "      <td>2</td>\n",
       "      <td>audi</td>\n",
       "      <td>a4</td>\n",
       "      <td>1.8</td>\n",
       "      <td>1999</td>\n",
       "      <td>4</td>\n",
       "      <td>manual(m5)</td>\n",
       "      <td>f</td>\n",
       "      <td>21</td>\n",
       "      <td>29</td>\n",
       "      <td>p</td>\n",
       "      <td>compact</td>\n",
       "    </tr>\n",
       "    <tr>\n",
       "      <th>2</th>\n",
       "      <td>3</td>\n",
       "      <td>audi</td>\n",
       "      <td>a4</td>\n",
       "      <td>2.0</td>\n",
       "      <td>2008</td>\n",
       "      <td>4</td>\n",
       "      <td>manual(m6)</td>\n",
       "      <td>f</td>\n",
       "      <td>20</td>\n",
       "      <td>31</td>\n",
       "      <td>p</td>\n",
       "      <td>compact</td>\n",
       "    </tr>\n",
       "    <tr>\n",
       "      <th>3</th>\n",
       "      <td>4</td>\n",
       "      <td>audi</td>\n",
       "      <td>a4</td>\n",
       "      <td>2.0</td>\n",
       "      <td>2008</td>\n",
       "      <td>4</td>\n",
       "      <td>auto(av)</td>\n",
       "      <td>f</td>\n",
       "      <td>21</td>\n",
       "      <td>30</td>\n",
       "      <td>p</td>\n",
       "      <td>compact</td>\n",
       "    </tr>\n",
       "    <tr>\n",
       "      <th>4</th>\n",
       "      <td>5</td>\n",
       "      <td>audi</td>\n",
       "      <td>a4</td>\n",
       "      <td>2.8</td>\n",
       "      <td>1999</td>\n",
       "      <td>6</td>\n",
       "      <td>auto(l5)</td>\n",
       "      <td>f</td>\n",
       "      <td>16</td>\n",
       "      <td>26</td>\n",
       "      <td>p</td>\n",
       "      <td>compact</td>\n",
       "    </tr>\n",
       "    <tr>\n",
       "      <th>...</th>\n",
       "      <td>...</td>\n",
       "      <td>...</td>\n",
       "      <td>...</td>\n",
       "      <td>...</td>\n",
       "      <td>...</td>\n",
       "      <td>...</td>\n",
       "      <td>...</td>\n",
       "      <td>...</td>\n",
       "      <td>...</td>\n",
       "      <td>...</td>\n",
       "      <td>...</td>\n",
       "      <td>...</td>\n",
       "    </tr>\n",
       "    <tr>\n",
       "      <th>229</th>\n",
       "      <td>230</td>\n",
       "      <td>volkswagen</td>\n",
       "      <td>passat</td>\n",
       "      <td>2.0</td>\n",
       "      <td>2008</td>\n",
       "      <td>4</td>\n",
       "      <td>auto(s6)</td>\n",
       "      <td>f</td>\n",
       "      <td>19</td>\n",
       "      <td>28</td>\n",
       "      <td>p</td>\n",
       "      <td>midsize</td>\n",
       "    </tr>\n",
       "    <tr>\n",
       "      <th>230</th>\n",
       "      <td>231</td>\n",
       "      <td>volkswagen</td>\n",
       "      <td>passat</td>\n",
       "      <td>2.0</td>\n",
       "      <td>2008</td>\n",
       "      <td>4</td>\n",
       "      <td>manual(m6)</td>\n",
       "      <td>f</td>\n",
       "      <td>21</td>\n",
       "      <td>29</td>\n",
       "      <td>p</td>\n",
       "      <td>midsize</td>\n",
       "    </tr>\n",
       "    <tr>\n",
       "      <th>231</th>\n",
       "      <td>232</td>\n",
       "      <td>volkswagen</td>\n",
       "      <td>passat</td>\n",
       "      <td>2.8</td>\n",
       "      <td>1999</td>\n",
       "      <td>6</td>\n",
       "      <td>auto(l5)</td>\n",
       "      <td>f</td>\n",
       "      <td>16</td>\n",
       "      <td>26</td>\n",
       "      <td>p</td>\n",
       "      <td>midsize</td>\n",
       "    </tr>\n",
       "    <tr>\n",
       "      <th>232</th>\n",
       "      <td>233</td>\n",
       "      <td>volkswagen</td>\n",
       "      <td>passat</td>\n",
       "      <td>2.8</td>\n",
       "      <td>1999</td>\n",
       "      <td>6</td>\n",
       "      <td>manual(m5)</td>\n",
       "      <td>f</td>\n",
       "      <td>18</td>\n",
       "      <td>26</td>\n",
       "      <td>p</td>\n",
       "      <td>midsize</td>\n",
       "    </tr>\n",
       "    <tr>\n",
       "      <th>233</th>\n",
       "      <td>234</td>\n",
       "      <td>volkswagen</td>\n",
       "      <td>passat</td>\n",
       "      <td>3.6</td>\n",
       "      <td>2008</td>\n",
       "      <td>6</td>\n",
       "      <td>auto(s6)</td>\n",
       "      <td>f</td>\n",
       "      <td>17</td>\n",
       "      <td>26</td>\n",
       "      <td>p</td>\n",
       "      <td>midsize</td>\n",
       "    </tr>\n",
       "  </tbody>\n",
       "</table>\n",
       "<p>234 rows × 12 columns</p>\n",
       "</div>"
      ],
      "text/plain": [
       "      id manufacturer   model  displ  year  cyl       trans drv  cty  hwy fl  \\\n",
       "0      1         audi      a4    1.8  1999    4    auto(l5)   f   18   29  p   \n",
       "1      2         audi      a4    1.8  1999    4  manual(m5)   f   21   29  p   \n",
       "2      3         audi      a4    2.0  2008    4  manual(m6)   f   20   31  p   \n",
       "3      4         audi      a4    2.0  2008    4    auto(av)   f   21   30  p   \n",
       "4      5         audi      a4    2.8  1999    6    auto(l5)   f   16   26  p   \n",
       "..   ...          ...     ...    ...   ...  ...         ...  ..  ...  ... ..   \n",
       "229  230   volkswagen  passat    2.0  2008    4    auto(s6)   f   19   28  p   \n",
       "230  231   volkswagen  passat    2.0  2008    4  manual(m6)   f   21   29  p   \n",
       "231  232   volkswagen  passat    2.8  1999    6    auto(l5)   f   16   26  p   \n",
       "232  233   volkswagen  passat    2.8  1999    6  manual(m5)   f   18   26  p   \n",
       "233  234   volkswagen  passat    3.6  2008    6    auto(s6)   f   17   26  p   \n",
       "\n",
       "       class  \n",
       "0    compact  \n",
       "1    compact  \n",
       "2    compact  \n",
       "3    compact  \n",
       "4    compact  \n",
       "..       ...  \n",
       "229  midsize  \n",
       "230  midsize  \n",
       "231  midsize  \n",
       "232  midsize  \n",
       "233  midsize  \n",
       "\n",
       "[234 rows x 12 columns]"
      ]
     },
     "execution_count": 59,
     "metadata": {},
     "output_type": "execute_result"
    }
   ],
   "source": [
    "origin = read_excel('https://data.hossam.kr/pydata/mpg.xlsx')\n",
    "origin"
   ]
  },
  {
   "cell_type": "markdown",
   "metadata": {},
   "source": [
    "##  문제 1\n",
    "자동차 제조사별로 출시한 자동차 수를 하나의 그래프로 시각화 하시오."
   ]
  },
  {
   "cell_type": "code",
   "execution_count": 60,
   "metadata": {},
   "outputs": [
    {
     "data": {
      "image/png": "[encoded data removed]",
      "text/plain": [
       "<Figure size 2400x750 with 1 Axes>"
      ]
     },
     "metadata": {},
     "output_type": "display_data"
    }
   ],
   "source": [
    "origin[['manufacturer','id']].groupby('manufacturer').count().plot.bar(rot=0,figsize=(16,5))\n",
    "plt.grid()\n",
    "plt.legend()\n",
    "plt.title(\"제조사 별 자동차 수\")\n",
    "plt.xlabel(\"제조사\")\n",
    "plt.ylabel(\"자동차 수\")\n",
    "plt.show()\n",
    "plt.close()\n"
   ]
  },
  {
   "cell_type": "markdown",
   "metadata": {},
   "source": [
    "##  문제 2\n",
    "자동차 제조사에 따른 자동차 수를 제조년도를 범주로 하여 하나의 그래프로 시각화 하시오."
   ]
  },
  {
   "cell_type": "code",
   "execution_count": 61,
   "metadata": {},
   "outputs": [
    {
     "data": {
      "image/png": "[encoded data removed]",
      "text/plain": [
       "<Figure size 2400x750 with 1 Axes>"
      ]
     },
     "metadata": {},
     "output_type": "display_data"
    }
   ],
   "source": [
    "pivot_table(origin[['manufacturer','id','year']],\n",
    "            index = 'manufacturer', columns = 'year',\n",
    "            values = 'id', aggfunc='count').plot.bar(rot=0,figsize=(16,5))\n",
    "plt.grid()\n",
    "plt.legend()\n",
    "plt.title(\"제조사 별 자동차 수\")\n",
    "plt.xlabel(\"제조사\")\n",
    "plt.ylabel(\"자동차 수\")\n",
    "plt.show()\n",
    "plt.close()\n"
   ]
  },
  {
   "cell_type": "markdown",
   "metadata": {},
   "source": [
    "##  문제 3\n",
    "\n",
    "구동방식에 따른 자동차 수를 하나의 그래프로 시각화 하시오.\n"
   ]
  },
  {
   "cell_type": "code",
   "execution_count": 67,
   "metadata": {},
   "outputs": [
    {
     "data": {
      "image/png": "[encoded data removed]",
      "text/plain": [
       "<Figure size 2250x900 with 1 Axes>"
      ]
     },
     "metadata": {},
     "output_type": "display_data"
    }
   ],
   "source": [
    "origin[['drv','id']].groupby('drv').count().plot.bar(rot=0)\n",
    "plt.grid()\n",
    "plt.legend()\n",
    "plt.title(\"구동방식에 따른 자동차 수\")\n",
    "plt.xlabel(\"구동방식\")\n",
    "# f=전륜구동, r=후륜구동, 4=사륜구동\n",
    "plt.xticks([0,1,2],['사륜구동','전륜구동', '후륜구동'])\n",
    "plt.ylabel(\"자동차 수\")\n",
    "plt.show()\n",
    "plt.close()\n"
   ]
  },
  {
   "cell_type": "markdown",
   "metadata": {},
   "source": [
    "##  문제 4\n",
    "자동차 구동 방식에 따른 도심 연비 평균을 하나의 그래프로 시각화 하시오.\n",
    "\n"
   ]
  },
  {
   "cell_type": "code",
   "execution_count": null,
   "metadata": {},
   "outputs": [],
   "source": []
  },
  {
   "cell_type": "markdown",
   "metadata": {},
   "source": [
    "##  문제 5\n",
    "\n",
    "자동차 제조사에 따른 도심 연비 평균과 고속도로 연비 평균을 서브플롯 형태로 시각화 하시오."
   ]
  },
  {
   "cell_type": "code",
   "execution_count": null,
   "metadata": {},
   "outputs": [],
   "source": []
  },
  {
   "cell_type": "markdown",
   "metadata": {},
   "source": [
    "##  문제 6\n",
    "\n",
    "배기량과 도심연비, 배기량과 고속도로 연비의 상관관계를 확인하고자 한다.\n",
    "\n",
    "서브플롯에 각 그래프를 시각화 하고 추세선을 포함시키시오."
   ]
  },
  {
   "cell_type": "code",
   "execution_count": null,
   "metadata": {},
   "outputs": [],
   "source": []
  },
  {
   "cell_type": "markdown",
   "metadata": {},
   "source": [
    "##  문제 7\n",
    "\n",
    "철수는 새로 자동차를 구입하고자 한다.\n",
    "\n",
    "철수가 고려하는 가장 중요한 조건은 연비이다.\n",
    "\n",
    "철수는 자동차의 평균연비를 고속도로 연비와 도심연비에 대한 평균으로 계산하기로 하고 이를 확인하기 위해 전체 자동차에 대한 평균연비를 구한 후 이 값보다 높은 연비를 갖는 자동차의 경우 `Pass`를, 그렇지 않을 경우 `Fail`로 구분하기로 했다.\n",
    "\n",
    "1. `Pass` 등급과 `Fail` 등급의 비율을 시각화 하라.\n",
    "2. `Pass` 등급과 `Fail` 등급이 각각 몇 대씩 있는지 실제 수량을 시각화 하라.\n",
    "3. `Pass` 등급을 받은 자동차들에 대해 연비가 높은 순으로 각각의 연비를 시각화 하라\n",
    "\n",
    "위의 세가지 조건을 만족하는 1행 3열의 서브플롯을 생성하시오.\n"
   ]
  }
 ],
 "metadata": {
  "kernelspec": {
   "display_name": "Python 3",
   "language": "python",
   "name": "python3"
  },
  "language_info": {
   "codemirror_mode": {
    "name": "ipython",
    "version": 3
   },
   "file_extension": ".py",
   "mimetype": "text/x-python",
   "name": "python",
   "nbconvert_exporter": "python",
   "pygments_lexer": "ipython3",
   "version": "3.12.0"
  }
 },
 "nbformat": 4,
 "nbformat_minor": 2
}
