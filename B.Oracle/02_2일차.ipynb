{
 "cells": [
  {
   "cell_type": "markdown",
   "metadata": {},
   "source": [
    "between  a and b : a,b 둘다포함\n",
    "\n",
    "where 컬럼이름 >=a and 컬럼이름 <=b 와 동일한 결과\n",
    "\n",
    "in연산자 : 여러 개의 값중에서 하나라도 일치하면 참\n",
    "\n",
    "or연산자로 묶은것과 동일한결과\n",
    "\n",
    "select * col from <table> where col in (a,b,c,...,z)\n",
    "\n",
    "select * col from <table> where col =a or col =b or ... or col = z\n",
    "\n",
    "like : 특정 키워드가 포함된 데이터 검색\n",
    "\n",
    "where col like '%검색어%' : 검색어 앞뒤로 모든글자가능\n",
    "\n",
    "대형검색엔진에서 문자열검색에서 like를 잘 안씀(성능이슈)\n",
    "\n",
    "자연어 처리 검색엔진을 별도로 사용 (예) ES;검색엔진 구축 환경\n",
    "\n",
    "![.png](02_01.PNG)\n",
    "\n",
    "NULL == None(python)\n",
    "\n",
    "NULL은 0이나 공백('')과는 다른 값이다.\n",
    "\n",
    "결정되지않거나 확인되지 않은값(빈값 != 없는값) == 결측치\n",
    "\n",
    "![.png](02_02.PNG)\n"
   ]
  },
  {
   "cell_type": "markdown",
   "metadata": {},
   "source": [
    "### 연산자 우선순위\n",
    "\n",
    "![.png](02_03.PNG)"
   ]
  },
  {
   "cell_type": "markdown",
   "metadata": {},
   "source": [
    "### 데이터 정렬하기 : ORDER BY\n",
    "\n",
    "order by 는 where절 뒤에 와야함\n",
    "\n",
    "![.png](02_04.PNG)\n",
    "\n",
    "2차, 3차 정렬 조건 부여 : order by 절에서 지정한 첫 칼럼 기준으로 1차 정렬한 후 같은 값이 있는 경우 2번째 칼럼 기준으로 정렬\n",
    "\n",
    "### 데이터 부분 조회 : ROWNUM \n",
    "게시판 페이지 번호 구현, 무한스크롤; 성능향상을 위해 데이터를 분리해서 조회\n",
    "\n",
    "(mysql에서는 limit과 같은 기능)\n",
    "\n",
    "데이터 부분조회를 위해서는 select rownum 이 붙어있는 형태\n",
    "\n",
    "별칭을 붙여야지 조회가 가능함\n",
    "\n",
    "rownum에 대해 where 조건을 지정하여 서브쿼리형식으로 부분조회\n",
    "\n",
    "select * from(\n",
    "    \n",
    "    selecct rownum as rownum의별칭 , 조회결과의별칭.* from(\n",
    "    \n",
    "        select col 1, col 2,..., col n  from table\n",
    "    \n",
    "        where 조건\n",
    "    \n",
    "        order by 조건\n",
    "    \n",
    "    ) 조회결과의 별칭 where rownum(rownum의 별칭으로 적으면 에러발생) <= m // 검색조건이 완료 된 후 결과가 만들어져서 별칭사용 가능 ==> having에서도 동일하게 적용\n",
    "\n",
    ")where rownum의 별칭 > n\n",
    "\n",
    " = > n초과 m이하인 데이터 조회 (rownum은 1부터 계산되기 때문에 n이상이 아닌 초과로 조회)"
   ]
  },
  {
   "cell_type": "markdown",
   "metadata": {},
   "source": [
    "### sql 함수\n",
    "concat() : 문자열 결합\n",
    "\n",
    "oracle에서는 2개만 가능(mysql은 갯수제한없음) => 여러개를 묶으려면 2개씩 계속해서 묶어줘야함\n",
    "\n",
    "=> || 을 이용해서 묶음\n",
    "\n",
    "select colA||colB||colC|| ... || col Z \n",
    "\n",
    "select concat(concat(concat(colA,colB),...) col Z)\n",
    "\n",
    "substr(col, index, 호출할 갯수) : 갯수를 명시하지 않을경우 끝까지\n",
    "\n",
    "replace(col, 변경대상, 변경할 값)\n",
    "\n",
    "trim = strip(python 문법)\n",
    "\n",
    "instr = find(python 문법) (///카운트를 1부터함)\n",
    "\n",
    "sysdate를 호출할때는 dual 이라는 가상 테이블 사용\n",
    "\n",
    "select to_char(sysdate, 'yyyymmddhh24miss') from dual;\n",
    "\n",
    "to_char(날짜형식데이터, '날짜포맷') => 날짜포맷에 맞춰서 데이터를 변환 예)yyyy-mm-dd hh24:mi:ss, yyyymmdd, yy-mm-dd 등"
   ]
  },
  {
   "cell_type": "markdown",
   "metadata": {},
   "source": [
    "count : 행단위 갯수를 따짐 => col을 어떤것을 넣어도 상관없음 // null 데이터는 제외하고 집계함\n",
    "\n",
    "전체 데이터를 조회하기 위해서는 count함수에 *을 지정하거나 null데이터가 저장되어 있지 않은 컬럼을 지정\n",
    "\n",
    "일반적으로 null이 저장되어있지 않은 칼럼을 지정하는것이 *보다 처리속도가 더 빠름"
   ]
  },
  {
   "cell_type": "markdown",
   "metadata": {},
   "source": [
    "### 여러테이블에서 데이터 조회\n",
    "\n",
    "join : 2개 이상의 테이블을 결합하여 필요한 데이터를 조회\n",
    "\n",
    "데이터베이스 원자성 : 데이터들을 최대한 겹치지 않게 작성\n",
    "\n",
    "EQUI join, inner join, outer join\n",
    "\n",
    "equi join과 inner join은 같은결과를 표시한다.\n",
    "\n",
    "☆ on절에 조건을 추가하면 검색속도가 매우 느려지므로 추가조건을 걸고싶은경우 where절 사용\n",
    "\n",
    "student left outer join A == A right outer join student : 둘다 student테이블의 모든 데이터 출력을 보장\n",
    "\n",
    "오라클에서는 outer join을 equi조인에서 (+)를 명시하는것으로 대체할수있으며 이경우 (+)가 붙은쪽이 null데이터가 허용된다 => 모든 데이터출력이 보장되는곳은 (+)가 안붙은쪽\n"
   ]
  },
  {
   "cell_type": "markdown",
   "metadata": {},
   "source": [
    "### 서브쿼리 : sql 안의 sql\n",
    "\n",
    "검색조건을 다른 결과 집합에서 찾기 위해서 사용\n",
    "\n",
    "select col\n",
    "\n",
    "from table\n",
    "\n",
    "where col 연산자 (select ...)\n",
    "\n"
   ]
  }
 ],
 "metadata": {
  "kernelspec": {
   "display_name": "Python 3",
   "language": "python",
   "name": "python3"
  },
  "language_info": {
   "name": "python",
   "version": "3.12.0"
  }
 },
 "nbformat": 4,
 "nbformat_minor": 2
}
