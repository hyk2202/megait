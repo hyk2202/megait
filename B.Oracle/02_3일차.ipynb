{
 "cells": [
  {
   "cell_type": "markdown",
   "metadata": {},
   "source": [
    "## 입력, 수정, 삭제\n",
    "\n",
    "### 입력\n",
    "\n",
    "입력 : INSERT 테이블 values(값1, 값2, ... 값n);\n",
    "\n",
    "해당 테이블 구조에 맞게 값을 입력 \n",
    "\n",
    "INSERT INTO 테이블 (컬럼1,컬럼2,...,컬럼n) values (값1,값2, ... , 값3) : 해당 컬럼에 대입되는 값 / 컬럼순서가 테이블 구조와 불일치해도 상관 없음\n",
    "\n",
    "=> 처리속도가 더 빠르므로 아래형태의 구조 사용\n",
    "\n",
    "날짜형식 : TO_DATE('2023-12-06 09-45-30', 'yyyy-mm-dd hh24:mi:ss')\n",
    "\n",
    "데이터 무결성 : 각 행단위로 데이터는 고유해야한다(기본키/primary key)\n",
    "\n",
    "(데이터) 무결성 제약 조건(기본키 제약 조건) : 중복방지\n",
    "\n",
    "![.png](03_01.PNG)\n",
    "\n",
    "seq(sequence) : id(idx)(index) : 기본키(고유 식별값)\n",
    "\n",
    "시퀀스 : 기본키에대한 자동 증가 일련번호 속성사용\n",
    "\n",
    "만든후 삭제한다고해서 시퀀스값이 줄어들지 않음\n",
    "\n",
    "=> 100번까지 만든 후 전부 삭제하고 다음값 사용하면 101번이 생성됨\n",
    "\n",
    "create sequence 시퀀스이름 start with 시작값 incrrement by 증가값; // 생성\n",
    "\n",
    "insert into 테이블(컬럼) values(시퀀스이름.nextval) // 사용"
   ]
  },
  {
   "cell_type": "markdown",
   "metadata": {},
   "source": [
    "### 수정\n",
    "\n",
    "update 테이블 set 컬럼1 = 값1, 컬럼2 = 값2, ...(필요한 컬럼만)\n",
    "where 검색조건\n",
    "\n",
    "### 삭제\n",
    "delete from 테이블 where 검색조건"
   ]
  },
  {
   "cell_type": "markdown",
   "metadata": {},
   "source": [
    "### 트렌젝션\n",
    " : 변경사항 저장확인(insert, update, delete)\n",
    "\n",
    "commit / rollback"
   ]
  },
  {
   "cell_type": "markdown",
   "metadata": {},
   "source": [
    "# 데이터베이스 관리\n",
    "## 테이블 생성하기\n"
   ]
  },
  {
   "cell_type": "markdown",
   "metadata": {},
   "source": [
    "CREATE문 : DDL\n",
    "```oracle\n",
    "CREATE TABLE 테이블이름(\n",
    "컬럼이름 데이터타입 (not null | null),\n",
    "컬럼이름 데이터타입 (not null | null),\n",
    "...\n",
    "[, primary key(기본키컬럼이름)]\n",
    ")\n",
    "\n",
    "not null 또는 null을 생략할 경우 null 허용\n",
    "\n",
    "CREATE TABLE 테이블이름(\n",
    "컬럼이름 데이터타입 (not null | null) (primary key),\n",
    "컬럼이름 데이터타입 (not null | null),\n",
    "...\n",
    ")\n",
    "```\n",
    "둘다 가능하나 전자를 많이씀\n",
    "\n",
    "오라클 데이터 타입\n",
    "\n",
    "![그림](03_02.PNG)\n",
    "\n",
    "char의경우 지정된 글자수를 유지 : 모자른것은 공백처리 넘치는건 에러나 해당 글자수 이후는 삭제처리\n",
    "\n",
    "number 뒤에 괄호를 생략할 경우 정수"
   ]
  },
  {
   "cell_type": "markdown",
   "metadata": {},
   "source": [
    "일련번호를 코드체계로 만드는 경우 시퀀스를 못씀"
   ]
  },
  {
   "cell_type": "markdown",
   "metadata": {},
   "source": [
    "시퀸스와 테이블은 별개로, 먼저 만드는 순서는 중요하지않다."
   ]
  },
  {
   "cell_type": "markdown",
   "metadata": {},
   "source": [
    "primary key는 무조건 not null"
   ]
  },
  {
   "cell_type": "markdown",
   "metadata": {},
   "source": [
    "## 테이블 삭제\n",
    "```oracle\n",
    "drop table '테이블이름';\n",
    "```\n",
    "\n",
    "drop은 rollback이나 commit이 필요없음"
   ]
  },
  {
   "cell_type": "markdown",
   "metadata": {},
   "source": [
    "### 테이블 수정하기\n",
    "\n",
    "```oracle\n",
    "alter table '테이블이름' 명령어\n",
    "```\n",
    "\n",
    "![그림](03_03.PNG)\n",
    "\n",
    "```oracle\n",
    "alter table mytable rename to mytest;\n",
    "```"
   ]
  },
  {
   "cell_type": "markdown",
   "metadata": {},
   "source": [
    "데이터가 저장되어 있는 테이블에 추가되는 필드는 null 허용되야만함. not null로 만들면 에러발생\n",
    "\n",
    "not null로 만들고 싶으면 null허용으로 만든 후 update를 통해 모든 데이터에 값을 넣어주고 not null로 변경\n",
    "\n",
    "![그림](03_04.PNG)\n",
    "\n",
    "=> 폭 == 크기\n",
    "\n",
    "데이터타입만 변경할경우 \n",
    "```oracle\n",
    "alter table mytable modify (id varchar2(100));\n",
    "```\n",
    "\n",
    "\n",
    "null을 변경할경우\n",
    "```oracle\n",
    "alter table mytable modify (id (not) null);\n",
    "```\n",
    "\n",
    "동시변경도 가능"
   ]
  },
  {
   "cell_type": "markdown",
   "metadata": {},
   "source": [
    "```oracle\n",
    "alter table 테이블이름 add constraint 제약조건이름 primary key (컬럼이름);\n",
    "```\n",
    "\n",
    "제약조건은 나중에 사용할일은 없음"
   ]
  },
  {
   "cell_type": "markdown",
   "metadata": {},
   "source": [
    "테이블 A 의 컬럼 a 에 저장될 데이터가 반드시 테이블 B에 저장되어 있는 값중의 하나여야할경우\n",
    "\n",
    "'테이블 A는 테이블 B를 참조한다' 라고하며\n",
    "\n",
    "컬럼a를 테이블B에 대한 참조키(혹은 외래키/foreign key)라고 한다\n",
    "\n",
    "![그림](03_05.PNG)\n",
    "\n",
    "참조키 ~~ 카디널리티\n",
    "\n",
    "참조키 제약조건 / 참조키 무결성 제약조건 등으로 표현\n",
    "\n",
    "데이터 정규화 => 데이터를 쪼개는 과정(데이터베이스의 효율성을 위해 쪼개고 참조키 설정)\n",
    "\n",
    "역 정규화 : 1:1관계의 경우 다시 데이터를 합치는것\n",
    "\n",
    "```oracle\n",
    "create table 테이블이름 (\n",
    "    컬림이름 데이터타입 [not null || null],\n",
    "    컬림이름 데이터타입 [not null || null], ...\n",
    "    [, primary key (기본키컬럼이름)]\n",
    "    [, foreign key (참조키컬럼이름)\n",
    "       references 대상테이블명 (대상테이블의 컬럼명) ]\n",
    ");\n",
    "```\n",
    "\n",
    "참조를 받고있는 데이터는 참조하고있는 데이터가 삭제되기전까지 먼저 삭제 불가능 // 참조키가 있는경우 drop table도 에러발생\n",
    "\n",
    "참조키에 참조하고있는 컬럼에 없는 데이터를 넣을경우 에러발생"
   ]
  },
  {
   "cell_type": "markdown",
   "metadata": {},
   "source": [
    "# PL/SQL\n",
    "\n",
    "## 프로시져\n",
    "~~ (python) 함수\n",
    "\n",
    "기본 포맷을 만들고 그 포맷을 따와서 필요할때마다 새로 작성\n",
    "\n",
    "기본형태가 try-except 형태\n",
    "\n",
    "### 파라미터 정의하기\n",
    "\n",
    "파라미터이름 IN/OUT 데이터 타입\n",
    " \n",
    "IN : 일반적인 프로그래밍 처리의 파라미터와 동일\n",
    "\n",
    "OUT : 프로시저 외부에서 전달받아 사용하지만 프로시저 호출이 종료되도 내부에서 변경한 값이 외부에서 유지\n",
    "\n",
    "변수에 값 대입하기\n",
    "```oracle\n",
    "변수이름 := 값;\n",
    "```\n",
    "\n",
    "### 데이터타입\n",
    "SYS_REFCURSOR : select구문의 조회 결과를 저장하기 위한 커서형\n",
    "\n",
    "테이블이름.컬럼이름%TYPE : 파라미터의 변수형을 특정 테이블의 컬럼과 동일하게 설정\n",
    "\n",
    "커서형 ~~ 2차원리스트 // 데이터프레임원형\n",
    "\n",
    "일반 SQL구문에서 변수 선언은 var 키워드를 이용\n",
    "\n",
    "(예) var v_result number;\n",
    "\n",
    "프로시져 실행\n",
    "\n",
    "execute 프로시져이름(파라미터,...);\n",
    "\n",
    "예외상황대처\n",
    "\n",
    "exception\n",
    "\n",
    "when 사용자정의_예외이름 then\n",
    "\n",
    "WHEN others THEN\n",
    "    RAISE_APPLICATION_ERROR(-20001,SQLERRM);\n",
    "\n",
    "\n",
    "select into : 값을 넣어줌 // 가상테이블(dual) 에서 가져옴\n",
    "\n",
    "update나 delete 할때 primary key로 한다 -> 실행결과되는 컬럼이 1개여야함\n"
   ]
  }
 ],
 "metadata": {
  "kernelspec": {
   "display_name": "Python 3",
   "language": "python",
   "name": "python3"
  },
  "language_info": {
   "name": "python",
   "version": "3.12.0"
  }
 },
 "nbformat": 4,
 "nbformat_minor": 2
}
